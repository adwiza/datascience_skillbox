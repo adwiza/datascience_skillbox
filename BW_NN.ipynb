{
 "cells": [
  {
   "cell_type": "code",
   "execution_count": 1,
   "id": "9df91d63",
   "metadata": {},
   "outputs": [],
   "source": [
    "# This Python 3 environment comes with many helpful analytics libraries installed\n",
    "# It is defined by the kaggle/python Docker image: https://github.com/kaggle/docker-python\n",
    "# For example, here's several helpful packages to load\n",
    "\n",
    "import numpy as np # linear algebra\n",
    "import pandas as pd # data processing, CSV file I/O (e.g. pd.read_csv)\n",
    "import seaborn as sns\n",
    "from sklearn.utils import shuffle\n",
    "\n",
    "# Input data files are available in the read-only \"../input/\" directory\n",
    "# For example, running this (by clicking run or pressing Shift+Enter) will list all files under the input directory\n",
    "\n",
    "# import os\n",
    "# for dirname, _, filenames in os.walk('datasets/'):\n",
    "#     for filename in filenames:\n",
    "#         print(os.path.join(dirname, filename))\n",
    "\n",
    "# You can write up to 20GB to the current directory (/kaggle/working/) that gets preserved as output when you create a version using \"Save & Run All\" \n",
    "# You can also write temporary files to /kaggle/temp/, but they won't be saved outside of the current session"
   ]
  },
  {
   "cell_type": "code",
   "execution_count": 2,
   "id": "9fdb98b7",
   "metadata": {},
   "outputs": [
    {
     "name": "stderr",
     "output_type": "stream",
     "text": [
      "2023-03-02 11:24:25.516154: I tensorflow/core/platform/cpu_feature_guard.cc:193] This TensorFlow binary is optimized with oneAPI Deep Neural Network Library (oneDNN) to use the following CPU instructions in performance-critical operations:  AVX2 FMA\n",
      "To enable them in other operations, rebuild TensorFlow with the appropriate compiler flags.\n"
     ]
    }
   ],
   "source": [
    "import tensorflow as tf"
   ]
  },
  {
   "cell_type": "code",
   "execution_count": 3,
   "id": "1cdf1780",
   "metadata": {},
   "outputs": [],
   "source": [
    "data = pd.read_json(\"datasets/dataset.json\")\n",
    "data.drop(['violation'], axis=1, inplace=True)\n",
    "\n",
    "\n",
    "data = shuffle(data)\n",
    "\n",
    "df = data[:1000]\n",
    "\n",
    "test =  data[1001:1501]# pd.read_json(\"datasets/test_data.json\")"
   ]
  },
  {
   "cell_type": "code",
   "execution_count": 4,
   "id": "e9eb13e4",
   "metadata": {},
   "outputs": [
    {
     "data": {
      "text/html": [
       "<div>\n",
       "<style scoped>\n",
       "    .dataframe tbody tr th:only-of-type {\n",
       "        vertical-align: middle;\n",
       "    }\n",
       "\n",
       "    .dataframe tbody tr th {\n",
       "        vertical-align: top;\n",
       "    }\n",
       "\n",
       "    .dataframe thead th {\n",
       "        text-align: right;\n",
       "    }\n",
       "</style>\n",
       "<table border=\"1\" class=\"dataframe\">\n",
       "  <thead>\n",
       "    <tr style=\"text-align: right;\">\n",
       "      <th></th>\n",
       "      <th>text</th>\n",
       "      <th>hasBadWords</th>\n",
       "    </tr>\n",
       "  </thead>\n",
       "  <tbody>\n",
       "    <tr>\n",
       "      <th>36474</th>\n",
       "      <td>CUMSHOTS, BEHIND THE SCENES - BTS     ATasteOf...</td>\n",
       "      <td>False</td>\n",
       "    </tr>\n",
       "    <tr>\n",
       "      <th>23722</th>\n",
       "      <td>College is Expensive: Dorm Room Audition</td>\n",
       "      <td>False</td>\n",
       "    </tr>\n",
       "    <tr>\n",
       "      <th>84238</th>\n",
       "      <td>&lt;center&gt;&lt;div class='top_html' align='center'&gt;&lt;...</td>\n",
       "      <td>False</td>\n",
       "    </tr>\n",
       "    <tr>\n",
       "      <th>54909</th>\n",
       "      <td>Lady Luci sucks cock and fucks it too!</td>\n",
       "      <td>False</td>\n",
       "    </tr>\n",
       "    <tr>\n",
       "      <th>37854</th>\n",
       "      <td>FUCKING, BOY-GIRL, TEEN 18 OR 19, TEACHER FETI...</td>\n",
       "      <td>False</td>\n",
       "    </tr>\n",
       "  </tbody>\n",
       "</table>\n",
       "</div>"
      ],
      "text/plain": [
       "                                                    text  hasBadWords\n",
       "36474  CUMSHOTS, BEHIND THE SCENES - BTS     ATasteOf...        False\n",
       "23722           College is Expensive: Dorm Room Audition        False\n",
       "84238  <center><div class='top_html' align='center'><...        False\n",
       "54909             Lady Luci sucks cock and fucks it too!        False\n",
       "37854  FUCKING, BOY-GIRL, TEEN 18 OR 19, TEACHER FETI...        False"
      ]
     },
     "execution_count": 4,
     "metadata": {},
     "output_type": "execute_result"
    }
   ],
   "source": [
    "df.head()"
   ]
  },
  {
   "cell_type": "code",
   "execution_count": 5,
   "id": "8b984a09",
   "metadata": {},
   "outputs": [
    {
     "data": {
      "text/plain": [
       "False    947\n",
       "True      53\n",
       "Name: hasBadWords, dtype: int64"
      ]
     },
     "execution_count": 5,
     "metadata": {},
     "output_type": "execute_result"
    }
   ],
   "source": [
    "df[\"hasBadWords\"].value_counts()"
   ]
  },
  {
   "cell_type": "code",
   "execution_count": 6,
   "id": "cea4953c",
   "metadata": {},
   "outputs": [
    {
     "data": {
      "text/plain": [
       "<AxesSubplot: xlabel='count', ylabel='hasBadWords'>"
      ]
     },
     "execution_count": 6,
     "metadata": {},
     "output_type": "execute_result"
    },
    {
     "data": {
      "image/png": "[encoded data removed]",
      "text/plain": [
       "<Figure size 640x480 with 1 Axes>"
      ]
     },
     "metadata": {},
     "output_type": "display_data"
    }
   ],
   "source": [
    "sns.countplot(y = df['hasBadWords'])"
   ]
  },
  {
   "cell_type": "code",
   "execution_count": 7,
   "id": "7b3f16d9",
   "metadata": {},
   "outputs": [],
   "source": [
    "import nltk\n",
    "from nltk.corpus import stopwords\n",
    "from nltk.tokenize import word_tokenize\n",
    "from string import punctuation\n",
    "from nltk.stem import WordNetLemmatizer\n",
    "import contractions"
   ]
  },
  {
   "cell_type": "code",
   "execution_count": 8,
   "id": "0169c0db",
   "metadata": {},
   "outputs": [],
   "source": [
    "stop_word = set(stopwords.words(\"english\"))"
   ]
  },
  {
   "cell_type": "code",
   "execution_count": 9,
   "id": "f8965abd",
   "metadata": {},
   "outputs": [],
   "source": [
    "punt = punctuation.replace(\"!\",\"\").replace(\"?\",\"\")"
   ]
  },
  {
   "cell_type": "code",
   "execution_count": 10,
   "id": "9784816e",
   "metadata": {},
   "outputs": [
    {
     "data": {
      "text/plain": [
       "36474    [cumshots, behind, the, scene, bts, atasteofta...\n",
       "23722       [college, is, expensive, dorm, room, audition]\n",
       "84238    [center, div, class='top_html, align='center, ...\n",
       "54909         [lady, luci, suck, cock, and, fuck, it, too]\n",
       "37854    [fucking, boy-girl, teen, 18, or, 19, teacher,...\n",
       "Name: text, dtype: object"
      ]
     },
     "execution_count": 10,
     "metadata": {},
     "output_type": "execute_result"
    }
   ],
   "source": [
    "def text_tokenize(text):\n",
    "    tokenizer = word_tokenize(text, language='english', preserve_line=False)\n",
    "    lemmatizer = WordNetLemmatizer()\n",
    "    tokens = tokenizer #.tokenize(contractions.fix(text))\n",
    "    \n",
    "    pruned = []\n",
    "    \n",
    "    for token in tokens:\n",
    "        if token not in punctuation and not token.startswith(\"http\"):\n",
    "            if token.startswith(\"@\"):\n",
    "                token = token.replace(\"@\",\"\")\n",
    "                pruned.append(lemmatizer.lemmatize(token.lower()))\n",
    "\n",
    "            else:\n",
    "                \n",
    "                pruned.append(lemmatizer.lemmatize(token.lower()))\n",
    "            \n",
    "    return pruned\n",
    "clean_text = df[\"text\"].apply(lambda x: text_tokenize(x))\n",
    "clean_text.head()"
   ]
  },
  {
   "cell_type": "code",
   "execution_count": 11,
   "id": "87027337",
   "metadata": {},
   "outputs": [
    {
     "data": {
      "text/plain": [
       "((700,), (300,), (700,), (300,))"
      ]
     },
     "execution_count": 11,
     "metadata": {},
     "output_type": "execute_result"
    }
   ],
   "source": [
    "from sklearn.model_selection import train_test_split\n",
    "\n",
    "X_train,X_test,y_train,y_test = train_test_split(clean_text, df[\"hasBadWords\"], test_size=0.3, random_state=2023, stratify=df[\"hasBadWords\"])\n",
    "X_train.shape,X_test.shape,y_train.shape,y_test.shape"
   ]
  },
  {
   "cell_type": "code",
   "execution_count": 12,
   "id": "03b42224",
   "metadata": {},
   "outputs": [],
   "source": [
    "from sklearn.preprocessing import OneHotEncoder\n",
    "from tensorflow.keras.preprocessing.text import Tokenizer"
   ]
  },
  {
   "cell_type": "code",
   "execution_count": 13,
   "id": "ad966381",
   "metadata": {},
   "outputs": [],
   "source": [
    "# Reshape column \n",
    "y_train = y_train.to_numpy().reshape(-1,1)\n",
    "y_test = y_test.to_numpy().reshape(-1,1)"
   ]
  },
  {
   "cell_type": "code",
   "execution_count": 14,
   "id": "0f80f2d9",
   "metadata": {},
   "outputs": [],
   "source": [
    "one_hot_encode = OneHotEncoder(sparse_output=False)"
   ]
  },
  {
   "cell_type": "code",
   "execution_count": 15,
   "id": "ec932e30",
   "metadata": {},
   "outputs": [],
   "source": [
    "y_train = one_hot_encode.fit_transform(y_train)\n",
    "y_test = one_hot_encode.transform(y_test)"
   ]
  },
  {
   "cell_type": "code",
   "execution_count": 16,
   "id": "98352c44",
   "metadata": {},
   "outputs": [],
   "source": [
    "X_train = X_train.to_list()\n",
    "X_test = X_test.to_list()\n",
    "\n",
    "tokenizer = Tokenizer()\n",
    "\n",
    "tokenizer.fit_on_texts(X_train)\n",
    "\n",
    "X_train = tokenizer.texts_to_sequences(X_train)\n",
    "X_test = tokenizer.texts_to_sequences(X_test)\n",
    "\n",
    "max_input_length = np.max([len(x) for x in X_train])\n",
    "\n",
    "X_train = tf.keras.preprocessing.sequence.pad_sequences(X_train, padding= \"post\", maxlen = max_input_length)\n",
    "X_test = tf.keras.preprocessing.sequence.pad_sequences(X_test, padding= \"post\", maxlen = max_input_length)\n"
   ]
  },
  {
   "cell_type": "markdown",
   "id": "3221c841",
   "metadata": {},
   "source": [
    "# Import LSTM**"
   ]
  },
  {
   "cell_type": "code",
   "execution_count": 17,
   "id": "e0c4b8b7",
   "metadata": {},
   "outputs": [],
   "source": [
    "from tensorflow.keras.layers import Input, LSTM, Dense, Embedding, Bidirectional, SpatialDropout1D\n",
    "from tensorflow.keras.utils import to_categorical"
   ]
  },
  {
   "cell_type": "code",
   "execution_count": 18,
   "id": "87662918",
   "metadata": {},
   "outputs": [
    {
     "name": "stderr",
     "output_type": "stream",
     "text": [
      "2023-03-02 11:24:36.817312: I tensorflow/core/platform/cpu_feature_guard.cc:193] This TensorFlow binary is optimized with oneAPI Deep Neural Network Library (oneDNN) to use the following CPU instructions in performance-critical operations:  AVX2 FMA\n",
      "To enable them in other operations, rebuild TensorFlow with the appropriate compiler flags.\n"
     ]
    }
   ],
   "source": [
    "max_vocab = len(tokenizer.word_index) + 1\n",
    "input_data = Input((max_input_length,), name= \"input_layer\")\n",
    "embedding_output = Embedding(max_vocab, 100, mask_zero = True, name = \"embedding_layer\")(input_data)"
   ]
  },
  {
   "cell_type": "code",
   "execution_count": 19,
   "id": "d9a9ca89",
   "metadata": {},
   "outputs": [],
   "source": [
    "dropout = SpatialDropout1D(0.5, name = \"dropout_layer\")(embedding_output)\n",
    "lstm_output = Bidirectional(LSTM(100, dropout = 0.5, recurrent_dropout = 0.2, return_state = False, \n",
    "                                name = \"lstm_layer\"))(dropout)\n",
    "output_data = Dense(2, activation = \"softmax\")(lstm_output)"
   ]
  },
  {
   "cell_type": "code",
   "execution_count": 20,
   "id": "d319f1d6",
   "metadata": {},
   "outputs": [
    {
     "name": "stdout",
     "output_type": "stream",
     "text": [
      "Model: \"model\"\n",
      "_________________________________________________________________\n",
      " Layer (type)                Output Shape              Param #   \n",
      "=================================================================\n",
      " input_layer (InputLayer)    [(None, 3642)]            0         \n",
      "                                                                 \n",
      " embedding_layer (Embedding)  (None, 3642, 100)        584300    \n",
      "                                                                 \n",
      " dropout_layer (SpatialDropo  (None, 3642, 100)        0         \n",
      " ut1D)                                                           \n",
      "                                                                 \n",
      " bidirectional (Bidirectiona  (None, 200)              160800    \n",
      " l)                                                              \n",
      "                                                                 \n",
      " dense (Dense)               (None, 2)                 402       \n",
      "                                                                 \n",
      "=================================================================\n",
      "Total params: 745,502\n",
      "Trainable params: 745,502\n",
      "Non-trainable params: 0\n",
      "_________________________________________________________________\n"
     ]
    }
   ],
   "source": [
    "lr = tf.keras.optimizers.schedules.ExponentialDecay(initial_learning_rate=0.01, decay_steps=50, decay_rate=0.9, staircase=False)\n",
    "\n",
    "def get_lr_metric(optimizer):\n",
    "    def lr(y_true, y_pred):\n",
    "        return optimizer.weight_decay(tf.float32)\n",
    "    return lr\n",
    "\n",
    "optimizer = tf.keras.optimizers.Adam(learning_rate = lr)\n",
    "\n",
    "lr_metric = get_lr_metric(optimizer)\n",
    "\n",
    "model = tf.keras.Model(input_data, output_data)\n",
    "model.compile(optimizer = optimizer, loss = \"categorical_crossentropy\", metrics = [\"accuracy\"])\n",
    "model.summary()"
   ]
  },
  {
   "cell_type": "code",
   "execution_count": 21,
   "id": "b11499e5",
   "metadata": {},
   "outputs": [
    {
     "name": "stdout",
     "output_type": "stream",
     "text": [
      "Epoch 1/4\n",
      "2/2 [==============================] - 298s 98s/step - loss: 0.6600 - accuracy: 0.6257 - val_loss: 0.5123 - val_accuracy: 0.9467\n",
      "Epoch 2/4\n",
      "2/2 [==============================] - 2729s 384s/step - loss: 0.4066 - accuracy: 0.9471 - val_loss: 0.2925 - val_accuracy: 0.9467\n",
      "Epoch 3/4\n",
      "2/2 [==============================] - 2155s 95s/step - loss: 0.2382 - accuracy: 0.9471 - val_loss: 0.2570 - val_accuracy: 0.9467\n",
      "Epoch 4/4\n",
      "2/2 [==============================] - 356s 103s/step - loss: 0.1717 - accuracy: 0.9529 - val_loss: 0.2279 - val_accuracy: 0.9433\n"
     ]
    },
    {
     "data": {
      "text/plain": [
       "<keras.callbacks.History at 0x132deabc0>"
      ]
     },
     "execution_count": 21,
     "metadata": {},
     "output_type": "execute_result"
    }
   ],
   "source": [
    "model.fit(X_train, y_train, batch_size = 512, epochs = 4, validation_data = (X_test, y_test))"
   ]
  },
  {
   "cell_type": "code",
   "execution_count": 22,
   "id": "2bd59878",
   "metadata": {},
   "outputs": [
    {
     "name": "stderr",
     "output_type": "stream",
     "text": [
      "WARNING:absl:Found untraced functions such as _update_step_xla while saving (showing 1 of 1). These functions will not be directly callable after loading.\n"
     ]
    },
    {
     "name": "stdout",
     "output_type": "stream",
     "text": [
      "INFO:tensorflow:Assets written to: models/lstm.model/assets\n"
     ]
    },
    {
     "name": "stderr",
     "output_type": "stream",
     "text": [
      "INFO:tensorflow:Assets written to: models/lstm.model/assets\n"
     ]
    }
   ],
   "source": [
    "model.save('models/lstm.model')"
   ]
  },
  {
   "cell_type": "code",
   "execution_count": 23,
   "id": "b1b58ad8",
   "metadata": {},
   "outputs": [
    {
     "data": {
      "text/html": [
       "<div>\n",
       "<style scoped>\n",
       "    .dataframe tbody tr th:only-of-type {\n",
       "        vertical-align: middle;\n",
       "    }\n",
       "\n",
       "    .dataframe tbody tr th {\n",
       "        vertical-align: top;\n",
       "    }\n",
       "\n",
       "    .dataframe thead th {\n",
       "        text-align: right;\n",
       "    }\n",
       "</style>\n",
       "<table border=\"1\" class=\"dataframe\">\n",
       "  <thead>\n",
       "    <tr style=\"text-align: right;\">\n",
       "      <th></th>\n",
       "      <th>text</th>\n",
       "      <th>hasBadWords</th>\n",
       "    </tr>\n",
       "  </thead>\n",
       "  <tbody>\n",
       "    <tr>\n",
       "      <th>29177</th>\n",
       "      <td>&lt;p&gt;Sit back and enjoy multiple clips of Laina....</td>\n",
       "      <td>False</td>\n",
       "    </tr>\n",
       "    <tr>\n",
       "      <th>81176</th>\n",
       "      <td>Sofi Gyllen</td>\n",
       "      <td>False</td>\n",
       "    </tr>\n",
       "    <tr>\n",
       "      <th>53165</th>\n",
       "      <td>9869 Clip Store</td>\n",
       "      <td>False</td>\n",
       "    </tr>\n",
       "    <tr>\n",
       "      <th>83585</th>\n",
       "      <td>bbw chubby feedee feeder mutual gainer feederi...</td>\n",
       "      <td>False</td>\n",
       "    </tr>\n",
       "    <tr>\n",
       "      <th>59396</th>\n",
       "      <td>fetish, facials, pov's, blowjobs, handjobs,han...</td>\n",
       "      <td>False</td>\n",
       "    </tr>\n",
       "  </tbody>\n",
       "</table>\n",
       "</div>"
      ],
      "text/plain": [
       "                                                    text  hasBadWords\n",
       "29177  <p>Sit back and enjoy multiple clips of Laina....        False\n",
       "81176                                        Sofi Gyllen        False\n",
       "53165                                    9869 Clip Store        False\n",
       "83585  bbw chubby feedee feeder mutual gainer feederi...        False\n",
       "59396  fetish, facials, pov's, blowjobs, handjobs,han...        False"
      ]
     },
     "execution_count": 23,
     "metadata": {},
     "output_type": "execute_result"
    }
   ],
   "source": [
    "test.head()"
   ]
  },
  {
   "cell_type": "code",
   "execution_count": 24,
   "id": "b4600340",
   "metadata": {},
   "outputs": [],
   "source": [
    "# normalize and toknize to test data\n",
    "text = test[\"text\"]\n",
    "text = text.apply(lambda x : text_tokenize(x))\n",
    "text = text.to_list()\n",
    "text = tokenizer.texts_to_sequences(text)\n",
    "text = tf.keras.preprocessing.sequence.pad_sequences(text, padding = \"post\", maxlen = max_input_length)"
   ]
  },
  {
   "cell_type": "code",
   "execution_count": 25,
   "id": "2c5d9484",
   "metadata": {},
   "outputs": [
    {
     "data": {
      "text/plain": [
       "array([[   6, 1021,  271, ...,    0,    0,    0],\n",
       "       [   0,    0,    0, ...,    0,    0,    0],\n",
       "       [  24,   42,    0, ...,    0,    0,    0],\n",
       "       ...,\n",
       "       [1222,   44,  602, ...,    0,    0,    0],\n",
       "       [  24,   42,    0, ...,    0,    0,    0],\n",
       "       [ 824, 1629,   21, ...,    0,    0,    0]], dtype=int32)"
      ]
     },
     "execution_count": 25,
     "metadata": {},
     "output_type": "execute_result"
    }
   ],
   "source": [
    "text"
   ]
  },
  {
   "cell_type": "code",
   "execution_count": 26,
   "id": "b49ce6f6",
   "metadata": {},
   "outputs": [
    {
     "name": "stdout",
     "output_type": "stream",
     "text": [
      "16/16 [==============================] - 48s 3s/step\n"
     ]
    },
    {
     "name": "stderr",
     "output_type": "stream",
     "text": [
      "/var/folders/mm/2c6bnjk559g2btv241j7f9lh0000gn/T/ipykernel_5326/2468171593.py:4: SettingWithCopyWarning: \n",
      "A value is trying to be set on a copy of a slice from a DataFrame.\n",
      "Try using .loc[row_indexer,col_indexer] = value instead\n",
      "\n",
      "See the caveats in the documentation: https://pandas.pydata.org/pandas-docs/stable/user_guide/indexing.html#returning-a-view-versus-a-copy\n",
      "  test[\"Prediction\"] = hasBadWords\n"
     ]
    }
   ],
   "source": [
    "# predictions \n",
    "pred = model.predict(text)\n",
    "hasBadWords = one_hot_encode.inverse_transform(pred)\n",
    "test[\"Prediction\"] = hasBadWords"
   ]
  },
  {
   "cell_type": "code",
   "execution_count": 27,
   "id": "b0143cf9",
   "metadata": {},
   "outputs": [
    {
     "data": {
      "text/html": [
       "<div>\n",
       "<style scoped>\n",
       "    .dataframe tbody tr th:only-of-type {\n",
       "        vertical-align: middle;\n",
       "    }\n",
       "\n",
       "    .dataframe tbody tr th {\n",
       "        vertical-align: top;\n",
       "    }\n",
       "\n",
       "    .dataframe thead th {\n",
       "        text-align: right;\n",
       "    }\n",
       "</style>\n",
       "<table border=\"1\" class=\"dataframe\">\n",
       "  <thead>\n",
       "    <tr style=\"text-align: right;\">\n",
       "      <th></th>\n",
       "      <th>text</th>\n",
       "      <th>hasBadWords</th>\n",
       "      <th>Prediction</th>\n",
       "    </tr>\n",
       "  </thead>\n",
       "  <tbody>\n",
       "    <tr>\n",
       "      <th>29177</th>\n",
       "      <td>&lt;p&gt;Sit back and enjoy multiple clips of Laina....</td>\n",
       "      <td>False</td>\n",
       "      <td>False</td>\n",
       "    </tr>\n",
       "    <tr>\n",
       "      <th>81176</th>\n",
       "      <td>Sofi Gyllen</td>\n",
       "      <td>False</td>\n",
       "      <td>False</td>\n",
       "    </tr>\n",
       "    <tr>\n",
       "      <th>53165</th>\n",
       "      <td>9869 Clip Store</td>\n",
       "      <td>False</td>\n",
       "      <td>False</td>\n",
       "    </tr>\n",
       "    <tr>\n",
       "      <th>83585</th>\n",
       "      <td>bbw chubby feedee feeder mutual gainer feederi...</td>\n",
       "      <td>False</td>\n",
       "      <td>False</td>\n",
       "    </tr>\n",
       "    <tr>\n",
       "      <th>59396</th>\n",
       "      <td>fetish, facials, pov's, blowjobs, handjobs,han...</td>\n",
       "      <td>False</td>\n",
       "      <td>False</td>\n",
       "    </tr>\n",
       "  </tbody>\n",
       "</table>\n",
       "</div>"
      ],
      "text/plain": [
       "                                                    text  hasBadWords  \\\n",
       "29177  <p>Sit back and enjoy multiple clips of Laina....        False   \n",
       "81176                                        Sofi Gyllen        False   \n",
       "53165                                    9869 Clip Store        False   \n",
       "83585  bbw chubby feedee feeder mutual gainer feederi...        False   \n",
       "59396  fetish, facials, pov's, blowjobs, handjobs,han...        False   \n",
       "\n",
       "       Prediction  \n",
       "29177       False  \n",
       "81176       False  \n",
       "53165       False  \n",
       "83585       False  \n",
       "59396       False  "
      ]
     },
     "execution_count": 27,
     "metadata": {},
     "output_type": "execute_result"
    }
   ],
   "source": [
    "test.head()"
   ]
  },
  {
   "cell_type": "code",
   "execution_count": 28,
   "id": "6970ee94",
   "metadata": {},
   "outputs": [
    {
     "name": "stdout",
     "output_type": "stream",
     "text": [
      "accuracy = 0.972\n"
     ]
    }
   ],
   "source": [
    "accuracy = np.sum(test[\"hasBadWords\"] == test[\"Prediction\"]) / len(test)\n",
    "print(\"accuracy = {}\".format(accuracy))"
   ]
  },
  {
   "cell_type": "code",
   "execution_count": 29,
   "id": "f4a47198",
   "metadata": {},
   "outputs": [
    {
     "data": {
      "text/html": [
       "<div>\n",
       "<style scoped>\n",
       "    .dataframe tbody tr th:only-of-type {\n",
       "        vertical-align: middle;\n",
       "    }\n",
       "\n",
       "    .dataframe tbody tr th {\n",
       "        vertical-align: top;\n",
       "    }\n",
       "\n",
       "    .dataframe thead th {\n",
       "        text-align: right;\n",
       "    }\n",
       "</style>\n",
       "<table border=\"1\" class=\"dataframe\">\n",
       "  <thead>\n",
       "    <tr style=\"text-align: right;\">\n",
       "      <th></th>\n",
       "      <th>text</th>\n",
       "      <th>hasBadWords</th>\n",
       "      <th>Prediction</th>\n",
       "    </tr>\n",
       "  </thead>\n",
       "  <tbody>\n",
       "    <tr>\n",
       "      <th>70379</th>\n",
       "      <td>&lt;br&gt;\\r\\n&lt;br&gt;\\r\\n&lt;P ALIGN=\"CENTER\"&gt;\\r\\n&lt;A HREF=...</td>\n",
       "      <td>True</td>\n",
       "      <td>False</td>\n",
       "    </tr>\n",
       "    <tr>\n",
       "      <th>53905</th>\n",
       "      <td>A den of tickle torture sex</td>\n",
       "      <td>True</td>\n",
       "      <td>False</td>\n",
       "    </tr>\n",
       "    <tr>\n",
       "      <th>62407</th>\n",
       "      <td>Foot fetish, footjobs, female domination, Tram...</td>\n",
       "      <td>True</td>\n",
       "      <td>False</td>\n",
       "    </tr>\n",
       "    <tr>\n",
       "      <th>67471</th>\n",
       "      <td>&lt;table width=\"795\" border=\"0\"&gt;\\r\\n    &lt;tr&gt; \\r\\...</td>\n",
       "      <td>False</td>\n",
       "      <td>True</td>\n",
       "    </tr>\n",
       "    <tr>\n",
       "      <th>5608</th>\n",
       "      <td>&lt;p&gt;Detective Hollywood is once again in search...</td>\n",
       "      <td>True</td>\n",
       "      <td>False</td>\n",
       "    </tr>\n",
       "    <tr>\n",
       "      <th>64506</th>\n",
       "      <td>&lt;p&gt;&lt;CENTER&gt;&lt;img src=\"http://imagecdn.clips4sal...</td>\n",
       "      <td>True</td>\n",
       "      <td>False</td>\n",
       "    </tr>\n",
       "    <tr>\n",
       "      <th>65846</th>\n",
       "      <td>&lt;center&gt;&lt;div class='top_html' align='center'&gt;&lt;...</td>\n",
       "      <td>True</td>\n",
       "      <td>False</td>\n",
       "    </tr>\n",
       "    <tr>\n",
       "      <th>63843</th>\n",
       "      <td>&lt;center&gt;&lt;div class='top_html' align='center'&gt;&lt;...</td>\n",
       "      <td>True</td>\n",
       "      <td>False</td>\n",
       "    </tr>\n",
       "    <tr>\n",
       "      <th>28458</th>\n",
       "      <td>&lt;p&gt;Lory enjoys a strong horse. She rides on yo...</td>\n",
       "      <td>True</td>\n",
       "      <td>False</td>\n",
       "    </tr>\n",
       "    <tr>\n",
       "      <th>66675</th>\n",
       "      <td>all videos are explicit and all are hard core ...</td>\n",
       "      <td>True</td>\n",
       "      <td>False</td>\n",
       "    </tr>\n",
       "    <tr>\n",
       "      <th>67261</th>\n",
       "      <td>\\r\\n              \\r\\n      &lt;a href=\"m...</td>\n",
       "      <td>True</td>\n",
       "      <td>False</td>\n",
       "    </tr>\n",
       "    <tr>\n",
       "      <th>64914</th>\n",
       "      <td>&lt;a href=\"http://www.clips4sale.com/store/2506\"...</td>\n",
       "      <td>True</td>\n",
       "      <td>False</td>\n",
       "    </tr>\n",
       "    <tr>\n",
       "      <th>45933</th>\n",
       "      <td>Extreme Tickle Torture and Foot Fun</td>\n",
       "      <td>True</td>\n",
       "      <td>False</td>\n",
       "    </tr>\n",
       "    <tr>\n",
       "      <th>59566</th>\n",
       "      <td>domination, spanking, bondage, worship, mistre...</td>\n",
       "      <td>True</td>\n",
       "      <td>False</td>\n",
       "    </tr>\n",
       "  </tbody>\n",
       "</table>\n",
       "</div>"
      ],
      "text/plain": [
       "                                                    text  hasBadWords  \\\n",
       "70379  <br>\\r\\n<br>\\r\\n<P ALIGN=\"CENTER\">\\r\\n<A HREF=...         True   \n",
       "53905                        A den of tickle torture sex         True   \n",
       "62407  Foot fetish, footjobs, female domination, Tram...         True   \n",
       "67471  <table width=\"795\" border=\"0\">\\r\\n    <tr> \\r\\...        False   \n",
       "5608   <p>Detective Hollywood is once again in search...         True   \n",
       "64506  <p><CENTER><img src=\"http://imagecdn.clips4sal...         True   \n",
       "65846  <center><div class='top_html' align='center'><...         True   \n",
       "63843  <center><div class='top_html' align='center'><...         True   \n",
       "28458  <p>Lory enjoys a strong horse. She rides on yo...         True   \n",
       "66675  all videos are explicit and all are hard core ...         True   \n",
       "67261          \\r\\n              \\r\\n      <a href=\"m...         True   \n",
       "64914  <a href=\"http://www.clips4sale.com/store/2506\"...         True   \n",
       "45933                Extreme Tickle Torture and Foot Fun         True   \n",
       "59566  domination, spanking, bondage, worship, mistre...         True   \n",
       "\n",
       "       Prediction  \n",
       "70379       False  \n",
       "53905       False  \n",
       "62407       False  \n",
       "67471        True  \n",
       "5608        False  \n",
       "64506       False  \n",
       "65846       False  \n",
       "63843       False  \n",
       "28458       False  \n",
       "66675       False  \n",
       "67261       False  \n",
       "64914       False  \n",
       "45933       False  \n",
       "59566       False  "
      ]
     },
     "execution_count": 29,
     "metadata": {},
     "output_type": "execute_result"
    }
   ],
   "source": [
    "# Wrong prediction \n",
    "test[test[\"hasBadWords\"] != test[\"Prediction\"]]"
   ]
  },
  {
   "cell_type": "code",
   "execution_count": null,
   "id": "80fb8109",
   "metadata": {},
   "outputs": [],
   "source": []
  }
 ],
 "metadata": {
  "kernelspec": {
   "display_name": "Python 3 (ipykernel)",
   "language": "python",
   "name": "python3"
  },
  "language_info": {
   "codemirror_mode": {
    "name": "ipython",
    "version": 3
   },
   "file_extension": ".py",
   "mimetype": "text/x-python",
   "name": "python",
   "nbconvert_exporter": "python",
   "pygments_lexer": "ipython3",
   "version": "3.10.10"
  }
 },
 "nbformat": 4,
 "nbformat_minor": 5
}
