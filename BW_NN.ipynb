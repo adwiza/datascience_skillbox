{
 "cells": [
  {
   "cell_type": "code",
   "execution_count": 1,
   "id": "9df91d63",
   "metadata": {
    "ExecuteTime": {
     "end_time": "2023-03-06T08:21:45.677608Z",
     "start_time": "2023-03-06T08:21:41.796062Z"
    }
   },
   "outputs": [],
   "source": [
    "import numpy as np # linear algebra\n",
    "import pandas as pd # data processing, CSV file I/O (e.g. pd.read_csv)\n",
    "import seaborn as sns\n",
    "from sklearn.utils import shuffle\n",
    "\n",
    "import nltk\n",
    "from nltk.corpus import stopwords\n",
    "from nltk.tokenize import word_tokenize\n",
    "from string import punctuation\n",
    "from nltk.stem import WordNetLemmatizer\n",
    "import contractions\n",
    "\n",
    "import warnings\n",
    "warnings.filterwarnings('ignore')"
   ]
  },
  {
   "cell_type": "code",
   "execution_count": 2,
   "id": "0128610f",
   "metadata": {},
   "outputs": [],
   "source": [
    "# !pip install tensorflow==2.10.1"
   ]
  },
  {
   "cell_type": "code",
   "execution_count": 3,
   "id": "9fdb98b7",
   "metadata": {
    "ExecuteTime": {
     "end_time": "2023-03-06T08:21:45.868330Z",
     "start_time": "2023-03-06T08:21:45.682278Z"
    }
   },
   "outputs": [
    {
     "name": "stderr",
     "output_type": "stream",
     "text": [
      "2023-03-06 16:15:58.767133: I tensorflow/core/platform/cpu_feature_guard.cc:193] This TensorFlow binary is optimized with oneAPI Deep Neural Network Library (oneDNN) to use the following CPU instructions in performance-critical operations:  AVX2 FMA\n",
      "To enable them in other operations, rebuild TensorFlow with the appropriate compiler flags.\n"
     ]
    }
   ],
   "source": [
    "import tensorflow as tf"
   ]
  },
  {
   "cell_type": "code",
   "execution_count": 4,
   "id": "1cdf1780",
   "metadata": {
    "ExecuteTime": {
     "end_time": "2023-03-06T08:14:25.641243Z",
     "start_time": "2023-03-06T08:14:25.074911Z"
    }
   },
   "outputs": [],
   "source": [
    "data = pd.read_json(\"datasets/dataset.json\")\n",
    "data.drop(['violation'], axis=1, inplace=True)\n",
    "\n",
    "\n",
    "data = shuffle(data)\n",
    "\n",
    "df = data[:8000]\n",
    "\n",
    "test =  data[8001:9001]# pd.read_json(\"datasets/test_data.json\")"
   ]
  },
  {
   "cell_type": "code",
   "execution_count": 5,
   "id": "e9eb13e4",
   "metadata": {},
   "outputs": [
    {
     "data": {
      "text/html": [
       "<div>\n",
       "<style scoped>\n",
       "    .dataframe tbody tr th:only-of-type {\n",
       "        vertical-align: middle;\n",
       "    }\n",
       "\n",
       "    .dataframe tbody tr th {\n",
       "        vertical-align: top;\n",
       "    }\n",
       "\n",
       "    .dataframe thead th {\n",
       "        text-align: right;\n",
       "    }\n",
       "</style>\n",
       "<table border=\"1\" class=\"dataframe\">\n",
       "  <thead>\n",
       "    <tr style=\"text-align: right;\">\n",
       "      <th></th>\n",
       "      <th>text</th>\n",
       "      <th>hasBadWords</th>\n",
       "    </tr>\n",
       "  </thead>\n",
       "  <tbody>\n",
       "    <tr>\n",
       "      <th>29988</th>\n",
       "      <td>&lt;p&gt;cute 19-year-old girl shows off her charms ...</td>\n",
       "      <td>False</td>\n",
       "    </tr>\n",
       "    <tr>\n",
       "      <th>30190</th>\n",
       "      <td>&lt;h2&gt;Milan Pizza Dough Squeeze&lt;/h2&gt;\\r\\n&lt;p&gt;Milan...</td>\n",
       "      <td>False</td>\n",
       "    </tr>\n",
       "    <tr>\n",
       "      <th>40563</th>\n",
       "      <td>BOOT DOMINATION, BOOT FETISH, SHINY CLOTHING, ...</td>\n",
       "      <td>False</td>\n",
       "    </tr>\n",
       "    <tr>\n",
       "      <th>43047</th>\n",
       "      <td>HIGHLY ARCHED FEET, TOE POINTING, BIG FEET, WR...</td>\n",
       "      <td>False</td>\n",
       "    </tr>\n",
       "    <tr>\n",
       "      <th>71083</th>\n",
       "      <td>&lt;center&gt;&lt;a class='link' &gt;&lt;img src='http://stud...</td>\n",
       "      <td>False</td>\n",
       "    </tr>\n",
       "  </tbody>\n",
       "</table>\n",
       "</div>"
      ],
      "text/plain": [
       "                                                    text  hasBadWords\n",
       "29988  <p>cute 19-year-old girl shows off her charms ...        False\n",
       "30190  <h2>Milan Pizza Dough Squeeze</h2>\\r\\n<p>Milan...        False\n",
       "40563  BOOT DOMINATION, BOOT FETISH, SHINY CLOTHING, ...        False\n",
       "43047  HIGHLY ARCHED FEET, TOE POINTING, BIG FEET, WR...        False\n",
       "71083  <center><a class='link' ><img src='http://stud...        False"
      ]
     },
     "execution_count": 5,
     "metadata": {},
     "output_type": "execute_result"
    }
   ],
   "source": [
    "df.head()"
   ]
  },
  {
   "cell_type": "code",
   "execution_count": 6,
   "id": "8b984a09",
   "metadata": {},
   "outputs": [
    {
     "data": {
      "text/plain": [
       "False    7684\n",
       "True      316\n",
       "Name: hasBadWords, dtype: int64"
      ]
     },
     "execution_count": 6,
     "metadata": {},
     "output_type": "execute_result"
    }
   ],
   "source": [
    "df[\"hasBadWords\"].value_counts()"
   ]
  },
  {
   "cell_type": "code",
   "execution_count": 7,
   "id": "cea4953c",
   "metadata": {},
   "outputs": [
    {
     "data": {
      "text/plain": [
       "<Axes: xlabel='count', ylabel='hasBadWords'>"
      ]
     },
     "execution_count": 7,
     "metadata": {},
     "output_type": "execute_result"
    },
    {
     "data": {
      "image/png": "[encoded data removed]",
      "text/plain": [
       "<Figure size 640x480 with 1 Axes>"
      ]
     },
     "metadata": {},
     "output_type": "display_data"
    }
   ],
   "source": [
    "sns.countplot(y = df['hasBadWords'])"
   ]
  },
  {
   "cell_type": "code",
   "execution_count": 8,
   "id": "0169c0db",
   "metadata": {},
   "outputs": [],
   "source": [
    "stop_word = set(stopwords.words(\"english\"))"
   ]
  },
  {
   "cell_type": "code",
   "execution_count": 9,
   "id": "f8965abd",
   "metadata": {},
   "outputs": [],
   "source": [
    "punt = punctuation.replace(\"!\",\"\").replace(\"?\",\"\")"
   ]
  },
  {
   "cell_type": "code",
   "execution_count": 10,
   "id": "9784816e",
   "metadata": {},
   "outputs": [
    {
     "data": {
      "text/plain": [
       "29988    [p, cute, 19-year-old, girl, show, off, her, c...\n",
       "30190    [h2, milan, pizza, dough, squeeze, /h2, p, mil...\n",
       "40563    [boot, domination, boot, fetish, shiny, clothi...\n",
       "43047    [highly, arched, foot, toe, pointing, big, foo...\n",
       "71083    [center, a, class='link, img, src='http, //stu...\n",
       "Name: text, dtype: object"
      ]
     },
     "execution_count": 10,
     "metadata": {},
     "output_type": "execute_result"
    }
   ],
   "source": [
    "def text_tokenize(text):\n",
    "    tokenizer = word_tokenize(text, language='english', preserve_line=False)\n",
    "    lemmatizer = WordNetLemmatizer()\n",
    "    tokens = tokenizer #.tokenize(contractions.fix(text))\n",
    "    \n",
    "    pruned = []\n",
    "    \n",
    "    for token in tokens:\n",
    "        if token not in punctuation and not token.startswith(\"http\"):\n",
    "            if token.startswith(\"@\"):\n",
    "                token = token.replace(\"@\",\"\")\n",
    "                pruned.append(lemmatizer.lemmatize(token.lower()))\n",
    "\n",
    "            else:\n",
    "                \n",
    "                pruned.append(lemmatizer.lemmatize(token.lower()))\n",
    "            \n",
    "    return pruned\n",
    "clean_text = df[\"text\"].apply(lambda x: text_tokenize(x))\n",
    "clean_text.head()"
   ]
  },
  {
   "cell_type": "code",
   "execution_count": 11,
   "id": "87027337",
   "metadata": {},
   "outputs": [
    {
     "data": {
      "text/plain": [
       "((5600,), (2400,), (5600,), (2400,))"
      ]
     },
     "execution_count": 11,
     "metadata": {},
     "output_type": "execute_result"
    }
   ],
   "source": [
    "from sklearn.model_selection import train_test_split\n",
    "\n",
    "X_train,X_test,y_train,y_test = train_test_split(clean_text, df[\"hasBadWords\"], test_size=0.3, random_state=2023, stratify=df[\"hasBadWords\"])\n",
    "X_train.shape,X_test.shape,y_train.shape,y_test.shape"
   ]
  },
  {
   "cell_type": "code",
   "execution_count": 12,
   "id": "03b42224",
   "metadata": {},
   "outputs": [],
   "source": [
    "from sklearn.preprocessing import OneHotEncoder\n",
    "from tensorflow.keras.preprocessing.text import Tokenizer"
   ]
  },
  {
   "cell_type": "code",
   "execution_count": 13,
   "id": "ad966381",
   "metadata": {},
   "outputs": [],
   "source": [
    "# Reshape column \n",
    "y_train = y_train.to_numpy().reshape(-1,1)\n",
    "y_test = y_test.to_numpy().reshape(-1,1)"
   ]
  },
  {
   "cell_type": "code",
   "execution_count": 14,
   "id": "0f80f2d9",
   "metadata": {},
   "outputs": [],
   "source": [
    "one_hot_encode = OneHotEncoder(sparse_output=False)"
   ]
  },
  {
   "cell_type": "code",
   "execution_count": 15,
   "id": "ec932e30",
   "metadata": {},
   "outputs": [],
   "source": [
    "y_train = one_hot_encode.fit_transform(y_train)\n",
    "y_test = one_hot_encode.transform(y_test)"
   ]
  },
  {
   "cell_type": "code",
   "execution_count": 16,
   "id": "98352c44",
   "metadata": {},
   "outputs": [],
   "source": [
    "X_train = X_train.to_list()\n",
    "X_test = X_test.to_list()\n",
    "\n",
    "tokenizer = Tokenizer()\n",
    "\n",
    "tokenizer.fit_on_texts(X_train)\n",
    "\n",
    "X_train = tokenizer.texts_to_sequences(X_train)\n",
    "X_test = tokenizer.texts_to_sequences(X_test)\n",
    "\n",
    "max_input_length = np.max([len(x) for x in X_train])\n",
    "\n",
    "X_train = tf.keras.preprocessing.sequence.pad_sequences(X_train, padding= \"post\", maxlen = max_input_length)\n",
    "X_test = tf.keras.preprocessing.sequence.pad_sequences(X_test, padding= \"post\", maxlen = max_input_length)\n"
   ]
  },
  {
   "cell_type": "markdown",
   "id": "3221c841",
   "metadata": {},
   "source": [
    "# Import LSTM**"
   ]
  },
  {
   "cell_type": "code",
   "execution_count": 17,
   "id": "e0c4b8b7",
   "metadata": {},
   "outputs": [],
   "source": [
    "from tensorflow.keras.layers import Input, LSTM, Dense, Embedding, Bidirectional, SpatialDropout1D\n",
    "from tensorflow.keras.utils import to_categorical"
   ]
  },
  {
   "cell_type": "code",
   "execution_count": 18,
   "id": "87662918",
   "metadata": {},
   "outputs": [
    {
     "name": "stderr",
     "output_type": "stream",
     "text": [
      "2023-03-06 16:16:22.023675: I tensorflow/core/platform/cpu_feature_guard.cc:193] This TensorFlow binary is optimized with oneAPI Deep Neural Network Library (oneDNN) to use the following CPU instructions in performance-critical operations:  AVX2 FMA\n",
      "To enable them in other operations, rebuild TensorFlow with the appropriate compiler flags.\n"
     ]
    }
   ],
   "source": [
    "max_vocab = len(tokenizer.word_index) + 1\n",
    "input_data = Input((max_input_length,), name= \"input_layer\")\n",
    "embedding_output = Embedding(max_vocab, 100, mask_zero = True, name = \"embedding_layer\")(input_data)"
   ]
  },
  {
   "cell_type": "code",
   "execution_count": 19,
   "id": "d9a9ca89",
   "metadata": {},
   "outputs": [],
   "source": [
    "dropout = SpatialDropout1D(0.5, name = \"dropout_layer\")(embedding_output)\n",
    "lstm_output = Bidirectional(LSTM(100, dropout = 0.5, recurrent_dropout = 0.2, return_state = False, \n",
    "                                name = \"lstm_layer\"))(dropout)\n",
    "output_data = Dense(2, activation = \"softmax\")(lstm_output)"
   ]
  },
  {
   "cell_type": "code",
   "execution_count": 20,
   "id": "d319f1d6",
   "metadata": {
    "code_folding": [
     2
    ]
   },
   "outputs": [
    {
     "name": "stdout",
     "output_type": "stream",
     "text": [
      "Model: \"model\"\n",
      "_________________________________________________________________\n",
      " Layer (type)                Output Shape              Param #   \n",
      "=================================================================\n",
      " input_layer (InputLayer)    [(None, 2563)]            0         \n",
      "                                                                 \n",
      " embedding_layer (Embedding)  (None, 2563, 100)        2146300   \n",
      "                                                                 \n",
      " dropout_layer (SpatialDropo  (None, 2563, 100)        0         \n",
      " ut1D)                                                           \n",
      "                                                                 \n",
      " bidirectional (Bidirectiona  (None, 200)              160800    \n",
      " l)                                                              \n",
      "                                                                 \n",
      " dense (Dense)               (None, 2)                 402       \n",
      "                                                                 \n",
      "=================================================================\n",
      "Total params: 2,307,502\n",
      "Trainable params: 2,307,502\n",
      "Non-trainable params: 0\n",
      "_________________________________________________________________\n"
     ]
    }
   ],
   "source": [
    "lr = tf.keras.optimizers.schedules.ExponentialDecay(initial_learning_rate=0.01, decay_steps=50, decay_rate=0.9, staircase=False)\n",
    "\n",
    "def get_lr_metric(optimizer):\n",
    "    def lr(y_true, y_pred):\n",
    "        return optimizer.weight_decay(tf.float32)\n",
    "    return lr\n",
    "\n",
    "optimizer = tf.keras.optimizers.Adam(learning_rate = lr)\n",
    "\n",
    "lr_metric = get_lr_metric(optimizer)\n",
    "\n",
    "model = tf.keras.Model(input_data, output_data)\n",
    "model.compile(optimizer = optimizer, loss = \"categorical_crossentropy\", metrics = [\"accuracy\"])\n",
    "model.summary()"
   ]
  },
  {
   "cell_type": "code",
   "execution_count": null,
   "id": "b11499e5",
   "metadata": {},
   "outputs": [
    {
     "name": "stdout",
     "output_type": "stream",
     "text": [
      "Epoch 1/4\n",
      " 1/11 [=>............................] - ETA: 27:36 - loss: 0.6943 - accuracy: 0.4844"
     ]
    }
   ],
   "source": [
    "model.fit(X_train, y_train, batch_size = 512, epochs = 4, validation_data = (X_test, y_test))"
   ]
  },
  {
   "cell_type": "code",
   "execution_count": null,
   "id": "2bd59878",
   "metadata": {},
   "outputs": [],
   "source": [
    "model.save('models/lstm.model')"
   ]
  },
  {
   "cell_type": "code",
   "execution_count": null,
   "id": "b1b58ad8",
   "metadata": {},
   "outputs": [],
   "source": [
    "test.head()"
   ]
  },
  {
   "cell_type": "code",
   "execution_count": null,
   "id": "b4600340",
   "metadata": {},
   "outputs": [],
   "source": [
    "# normalize and toknize to test data\n",
    "text = test[\"text\"]\n",
    "text = text.apply(lambda x : text_tokenize(x))\n",
    "text = text.to_list()\n",
    "text = tokenizer.texts_to_sequences(text)\n",
    "text = tf.keras.preprocessing.sequence.pad_sequences(text, padding = \"post\", maxlen = max_input_length)"
   ]
  },
  {
   "cell_type": "code",
   "execution_count": null,
   "id": "2c5d9484",
   "metadata": {},
   "outputs": [],
   "source": [
    "text"
   ]
  },
  {
   "cell_type": "code",
   "execution_count": null,
   "id": "b49ce6f6",
   "metadata": {},
   "outputs": [],
   "source": [
    "# predictions \n",
    "pred = model.predict(text)\n",
    "hasBadWords = one_hot_encode.inverse_transform(pred)\n",
    "test[\"Prediction\"] = hasBadWords"
   ]
  },
  {
   "cell_type": "code",
   "execution_count": null,
   "id": "b0143cf9",
   "metadata": {},
   "outputs": [],
   "source": [
    "test.head()"
   ]
  },
  {
   "cell_type": "code",
   "execution_count": null,
   "id": "6970ee94",
   "metadata": {},
   "outputs": [],
   "source": [
    "accuracy = np.sum(test[\"hasBadWords\"] == test[\"Prediction\"]) / len(test)\n",
    "print(\"accuracy = {}\".format(accuracy))"
   ]
  },
  {
   "cell_type": "code",
   "execution_count": null,
   "id": "f4a47198",
   "metadata": {},
   "outputs": [],
   "source": [
    "# Wrong prediction \n",
    "(test[test[\"hasBadWords\"] != test[\"Prediction\"]]).count()"
   ]
  },
  {
   "cell_type": "code",
   "execution_count": null,
   "id": "d148c78e",
   "metadata": {},
   "outputs": [],
   "source": []
  }
 ],
 "metadata": {
  "kernelspec": {
   "display_name": "Python 3 (ipykernel)",
   "language": "python",
   "name": "python3"
  },
  "language_info": {
   "codemirror_mode": {
    "name": "ipython",
    "version": 3
   },
   "file_extension": ".py",
   "mimetype": "text/x-python",
   "name": "python",
   "nbconvert_exporter": "python",
   "pygments_lexer": "ipython3",
   "version": "3.10.10"
  },
  "toc": {
   "base_numbering": 1,
   "nav_menu": {},
   "number_sections": true,
   "sideBar": true,
   "skip_h1_title": false,
   "title_cell": "Table of Contents",
   "title_sidebar": "Contents",
   "toc_cell": false,
   "toc_position": {},
   "toc_section_display": true,
   "toc_window_display": false
  }
 },
 "nbformat": 4,
 "nbformat_minor": 5
}
