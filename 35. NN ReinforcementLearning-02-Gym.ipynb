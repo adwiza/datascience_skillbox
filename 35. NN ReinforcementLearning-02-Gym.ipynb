{
 "cells": [
  {
   "cell_type": "markdown",
   "id": "e6af54ab",
   "metadata": {},
   "source": [
    "# Знакомство с Gym (продолжение)"
   ]
  },
  {
   "cell_type": "code",
   "execution_count": 1,
   "id": "94f504a8",
   "metadata": {},
   "outputs": [
    {
     "name": "stdout",
     "output_type": "stream",
     "text": [
      "2.12.0\n"
     ]
    }
   ],
   "source": [
    "import codecs\n",
    "import tensorflow as tf\n",
    "import gym\n",
    "from gym.wrappers.record_video import RecordVideo\n",
    "import numpy as np\n",
    "\n",
    "print(tf.__version__)\n",
    "\n",
    "import matplotlib.pyplot as plt\n",
    "%matplotlib inline"
   ]
  },
  {
   "cell_type": "markdown",
   "id": "17eff6cb",
   "metadata": {},
   "source": [
    "# Создание игровой среды\n",
    " Создаем среду игры Pong и смотрим на пространство действий и состоний."
   ]
  },
  {
   "cell_type": "code",
   "execution_count": 2,
   "id": "2e5837f6",
   "metadata": {},
   "outputs": [
    {
     "name": "stdout",
     "output_type": "stream",
     "text": [
      "States shape: (210, 160, 3)\n",
      "Actions: 6\n",
      "Actions: ['NOOP', 'FIRE', 'RIGHT', 'LEFT', 'RIGHTFIRE', 'LEFTFIRE']\n"
     ]
    },
    {
     "name": "stderr",
     "output_type": "stream",
     "text": [
      "/Users/adwiz/miniconda3/envs/tf/lib/python3.8/site-packages/gym/envs/registration.py:555: UserWarning: \u001b[33mWARN: The environment Pong-v0 is out of date. You should consider upgrading to version `v4`.\u001b[0m\n",
      "  logger.warn(\n",
      "A.L.E: Arcade Learning Environment (version 0.8.1+53f58b7)\n",
      "[Powered by Stella]\n"
     ]
    }
   ],
   "source": [
    "env = gym.make('Pong-v0', render_mode='rgb_array')\n",
    "\n",
    "STATE_SHAPE = env.observation_space.shape\n",
    "NUM_ACTIONS = env.action_space.n\n",
    "ACTION_MEANING = env.unwrapped.get_action_meanings()\n",
    "\n",
    "print('States shape: {}'.format(STATE_SHAPE))\n",
    "print('Actions: {}'.format(NUM_ACTIONS))\n",
    "print('Actions: {}'.format(ACTION_MEANING))"
   ]
  },
  {
   "cell_type": "markdown",
   "id": "216bc87f",
   "metadata": {},
   "source": [
    "# Основные функции Gym\n",
    "Приведем среду в исходное состояние, получим это состояние (s) и визуализируем его (это просто изображение)"
   ]
  },
  {
   "cell_type": "code",
   "execution_count": 3,
   "id": "31019462",
   "metadata": {},
   "outputs": [],
   "source": [
    "s = env.reset()"
   ]
  },
  {
   "cell_type": "code",
   "execution_count": 4,
   "id": "913b7dbc",
   "metadata": {},
   "outputs": [
    {
     "data": {
      "image/png": "[encoded data removed]",
      "text/plain": [
       "<Figure size 640x480 with 1 Axes>"
      ]
     },
     "metadata": {},
     "output_type": "display_data"
    }
   ],
   "source": [
    "# The ball is released after 20 frames\n",
    "for i in range(22):\n",
    " \n",
    "    if i > 20:\n",
    "        plt.imshow(s)\n",
    "    s, _, _, _ = env.step(1)[:4]"
   ]
  },
  {
   "cell_type": "code",
   "execution_count": 5,
   "id": "645b6b28",
   "metadata": {},
   "outputs": [
    {
     "name": "stdout",
     "output_type": "stream",
     "text": [
      "1\n"
     ]
    }
   ],
   "source": [
    "a = env.action_space.sample()\n",
    "print(a)"
   ]
  },
  {
   "cell_type": "markdown",
   "id": "1c3fc791",
   "metadata": {},
   "source": [
    "Произведем один шаг игры и получим следующее состояние. В первые несколько шагов реальная игра еще не началсь и наш\n",
    "противник еще не появился на поле."
   ]
  },
  {
   "cell_type": "markdown",
   "id": "8c07412b",
   "metadata": {},
   "source": [
    "# Визуализация игрового процесса"
   ]
  },
  {
   "cell_type": "code",
   "execution_count": 10,
   "id": "b341b9d3",
   "metadata": {},
   "outputs": [
    {
     "name": "stdout",
     "output_type": "stream",
     "text": [
      "Reward:  0.0\n",
      "Done?  False\n"
     ]
    },
    {
     "data": {
      "image/png": "[encoded data removed]",
      "text/plain": [
       "<Figure size 640x480 with 1 Axes>"
      ]
     },
     "metadata": {},
     "output_type": "display_data"
    }
   ],
   "source": [
    "# env.render()\n",
    "s1, r, done, _ = env.step(a)[:4]\n",
    "print('Reward: ', r)\n",
    "print('Done? ', done)\n",
    "# The ball is released after 20 frames\n",
    "for i in range(1000):\n",
    " \n",
    "    if i > 20:\n",
    "        plt.imshow(s1)\n",
    "    s, _, _, _ = env.step(1)[:4]"
   ]
  },
  {
   "cell_type": "code",
   "execution_count": null,
   "id": "1132d9f5",
   "metadata": {},
   "outputs": [],
   "source": []
  }
 ],
 "metadata": {
  "kernelspec": {
   "display_name": "Python 3 (ipykernel)",
   "language": "python",
   "name": "python3"
  },
  "language_info": {
   "codemirror_mode": {
    "name": "ipython",
    "version": 3
   },
   "file_extension": ".py",
   "mimetype": "text/x-python",
   "name": "python",
   "nbconvert_exporter": "python",
   "pygments_lexer": "ipython3",
   "version": "3.8.12"
  },
  "toc": {
   "base_numbering": 1,
   "nav_menu": {},
   "number_sections": true,
   "sideBar": true,
   "skip_h1_title": false,
   "title_cell": "Table of Contents",
   "title_sidebar": "Contents",
   "toc_cell": false,
   "toc_position": {},
   "toc_section_display": true,
   "toc_window_display": false
  }
 },
 "nbformat": 4,
 "nbformat_minor": 5
}
