{
 "cells": [
  {
   "cell_type": "markdown",
   "id": "9e15dba4",
   "metadata": {},
   "source": [
    "# THIS PACKAGE AND CODE IS ONLY FOR DEMONSTRATION PURPOSES, BUT NOT FOR PRODUCTION USING"
   ]
  },
  {
   "cell_type": "code",
   "execution_count": 37,
   "id": "aaab5fe5",
   "metadata": {},
   "outputs": [],
   "source": [
    "from surprise.dataset import Dataset\n",
    "from surprise.model_selection import train_test_split\n",
    "from surprise import KNNBasic\n",
    "from surprise import accuracy\n",
    "from datetime import datetime"
   ]
  },
  {
   "cell_type": "code",
   "execution_count": 27,
   "id": "5f2ee3f6",
   "metadata": {},
   "outputs": [],
   "source": [
    "data = Dataset.load_builtin('ml-1m')"
   ]
  },
  {
   "cell_type": "markdown",
   "id": "b8b86be9",
   "metadata": {},
   "source": [
    "### Column description:\n",
    "\n",
    "- UserIDs range between 1 and 6040 \n",
    "- MovieIDs range between 1 and 3952\n",
    "- Ratings are made on a 5-star scale (whole-star ratings only)\n",
    "- Timestamp is represented in seconds since the epoch as returned by time(2)"
   ]
  },
  {
   "cell_type": "code",
   "execution_count": 35,
   "id": "f2d50d31",
   "metadata": {},
   "outputs": [
    {
     "data": {
      "text/plain": [
       "[('1', '1193', 5.0, '978300760'),\n",
       " ('1', '661', 3.0, '978302109'),\n",
       " ('1', '914', 3.0, '978301968'),\n",
       " ('1', '3408', 4.0, '978300275'),\n",
       " ('1', '2355', 5.0, '978824291'),\n",
       " ('1', '1197', 3.0, '978302268'),\n",
       " ('1', '1287', 5.0, '978302039'),\n",
       " ('1', '2804', 5.0, '978300719'),\n",
       " ('1', '594', 4.0, '978302268'),\n",
       " ('1', '919', 4.0, '978301368')]"
      ]
     },
     "execution_count": 35,
     "metadata": {},
     "output_type": "execute_result"
    }
   ],
   "source": [
    "data.raw_ratings[:10]"
   ]
  },
  {
   "cell_type": "code",
   "execution_count": 52,
   "id": "bc480bc7",
   "metadata": {},
   "outputs": [
    {
     "data": {
      "text/plain": [
       "('1', '1193', 5.0, '978300760')"
      ]
     },
     "execution_count": 52,
     "metadata": {},
     "output_type": "execute_result"
    }
   ],
   "source": [
    "data.raw_ratings[:1][0]"
   ]
  },
  {
   "cell_type": "code",
   "execution_count": 51,
   "id": "fe0be1a4",
   "metadata": {},
   "outputs": [
    {
     "data": {
      "text/plain": [
       "'2001-01-01 00:12:40'"
      ]
     },
     "execution_count": 51,
     "metadata": {},
     "output_type": "execute_result"
    }
   ],
   "source": [
    "datetime.fromtimestamp(int(data.raw_ratings[:1][0][3])).strftime('%Y-%m-%d %H:%M:%S')"
   ]
  },
  {
   "cell_type": "code",
   "execution_count": 28,
   "id": "c9bc3492",
   "metadata": {},
   "outputs": [],
   "source": [
    "train_set, test_set = train_test_split(data, test_size=.2, shuffle=42)"
   ]
  },
  {
   "cell_type": "code",
   "execution_count": 36,
   "id": "2e0ee8bd",
   "metadata": {},
   "outputs": [
    {
     "name": "stdout",
     "output_type": "stream",
     "text": [
      "Computing the msd similarity matrix...\n",
      "Done computing similarity matrix.\n",
      "CPU times: user 29.5 s, sys: 819 ms, total: 30.3 s\n",
      "Wall time: 31.3 s\n"
     ]
    },
    {
     "data": {
      "text/plain": [
       "<surprise.prediction_algorithms.knns.KNNBasic at 0x157477af0>"
      ]
     },
     "execution_count": 36,
     "metadata": {},
     "output_type": "execute_result"
    }
   ],
   "source": [
    "%%time\n",
    "algo = KNNBasic()\n",
    "algo.fit(train_set)"
   ]
  },
  {
   "cell_type": "code",
   "execution_count": 30,
   "id": "5000b981",
   "metadata": {},
   "outputs": [
    {
     "name": "stdout",
     "output_type": "stream",
     "text": [
      "CPU times: user 1min 35s, sys: 1.16 s, total: 1min 36s\n",
      "Wall time: 1min 39s\n"
     ]
    }
   ],
   "source": [
    "%%time\n",
    "# Получаем рекомендации на валидационном наборе\n",
    "predictions = algo.test(test_set)"
   ]
  },
  {
   "cell_type": "code",
   "execution_count": 31,
   "id": "7b8292f2",
   "metadata": {},
   "outputs": [
    {
     "name": "stdout",
     "output_type": "stream",
     "text": [
      "RMSE: 0.9218\n"
     ]
    },
    {
     "data": {
      "text/plain": [
       "0.9218132324865225"
      ]
     },
     "execution_count": 31,
     "metadata": {},
     "output_type": "execute_result"
    }
   ],
   "source": [
    "# оцениваем точность\n",
    "accuracy.rmse(predictions)"
   ]
  }
 ],
 "metadata": {
  "kernelspec": {
   "display_name": "Python 3 (ipykernel)",
   "language": "python",
   "name": "python3"
  },
  "language_info": {
   "codemirror_mode": {
    "name": "ipython",
    "version": 3
   },
   "file_extension": ".py",
   "mimetype": "text/x-python",
   "name": "python",
   "nbconvert_exporter": "python",
   "pygments_lexer": "ipython3",
   "version": "3.10.10"
  }
 },
 "nbformat": 4,
 "nbformat_minor": 5
}
