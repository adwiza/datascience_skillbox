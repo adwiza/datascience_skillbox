{
 "cells": [
  {
   "cell_type": "code",
   "execution_count": 4,
   "id": "8ee44e87",
   "metadata": {},
   "outputs": [],
   "source": [
    "import tensorflow as tf\n",
    "import IPython.display as display\n",
    "import time\n",
    "from tqdm import tqdm_notebook as tqdm\n",
    "\n",
    "import matplotlib.pyplot as plt\n",
    "import numpy as np\n",
    "import time\n",
    "from pathlib import  Path"
   ]
  },
  {
   "cell_type": "code",
   "execution_count": 5,
   "id": "7f99acdf",
   "metadata": {
    "code_folding": [
     0
    ]
   },
   "outputs": [],
   "source": [
    "#@title (вспомогательный код -- выполните клетку)\n",
    "\n",
    "def clip_0_1(image):\n",
    "    \"\"\"\n",
    "    Мы хотим уметь отображать нашу полученную картинку, а для этого ее значения должны \n",
    "    находится в промежутке от 0 до 1. Наш алгоритм оптимизации этого нигде не учитывает\n",
    "    поэтому к полученному изображению мы будем применять \"обрезку\" по значению\n",
    "    \n",
    "    \"\"\"\n",
    "    return tf.clip_by_value(image, clip_value_min=0.0, clip_value_max=1.0)\n",
    "\n",
    "def load_img(path_to_img, max_dim=512):\n",
    "    \"\"\"\n",
    "    Данная функция считывает изображение с диска и приводит его к такому размеру,\n",
    "    чтобы бОльшая сторона была равна max_dim пикселей.\n",
    "\n",
    "    Для считывания изображения воспользуемся функциями tensorflow.\n",
    "    \"\"\"\n",
    "    img = tf.io.read_file(path_to_img) # считываени файла\n",
    "    img = tf.image.decode_image(img, channels=3)  # декодинг\n",
    "    img = tf.image.convert_image_dtype(img, tf.float32) # uint8 -> float32, 255 -> 1\n",
    "    \n",
    "    shape = img.numpy().shape[:-1]\n",
    "    long_dim = max(shape)\n",
    "    scale = max_dim / long_dim\n",
    "    new_shape = tuple((np.array(shape) * scale).astype(np.int32))\n",
    "\n",
    "    img = tf.image.resize(img, new_shape) # изменение размера\n",
    "    img = img[tf.newaxis, :] # добавляем batch dimension\n",
    "    return img\n",
    "\n",
    "def imshow(image, title=None):\n",
    "    \"\"\"\n",
    "    Функция для отрисовки изображения\n",
    "    \"\"\"\n",
    "    if len(image.shape) > 3:\n",
    "        image = tf.squeeze(image, axis=0)\n",
    "    plt.axis('off')\n",
    "    plt.imshow(image)\n",
    "    if title:\n",
    "        plt.title(title)\n",
    "\n",
    "def show_pair(original, generated, title=None):\n",
    "    plt.figure(figsize=(10, 5))\n",
    "    plt.subplot(1, 2, 1)\n",
    "    imshow(original, 'Original Image')\n",
    "    plt.subplot(1, 2, 2)\n",
    "    imshow(generated, title)"
   ]
  },
  {
   "cell_type": "code",
   "execution_count": 6,
   "id": "0e299844",
   "metadata": {},
   "outputs": [],
   "source": [
    "def get_vgg_layers_model(layer_names):\n",
    "    vgg = tf.keras.applications.VGG19(include_top=False, weights='imagenet')\n",
    "    vgg.trainable = False\n",
    "    \n",
    "    outputs = [vgg.get_layer(name).output for name in layer_names]\n",
    "    model = tf.keras.Model([vgg.input], outputs)\n",
    "    return model\n",
    "\n",
    "def gram_matrix(input_tensor):\n",
    "    \"\"\"\n",
    "    В вычислении грам матрицы есть небольшие изменения по сравнению с прошлым уроком\n",
    "    В этот раз мы делим не на W*H, а на W*H*C. \n",
    "    Принципиально это ничего не меняет. Это один из способов по разному взвесить \n",
    "    вклад разных слоев.\n",
    "    Такое вычисление используется, например, здесь: https://arxiv.org/pdf/1603.08155.pdf\n",
    "    \"\"\"\n",
    "    result = tf.linalg.einsum('bijc,bijd->bcd', input_tensor, input_tensor)\n",
    "    input_shape = tf.shape(input_tensor)\n",
    "    \n",
    "    num_locations = tf.cast(input_shape[1]*input_shape[2]*input_shape[3], tf.float32)\n",
    "    return result/(num_locations)"
   ]
  },
  {
   "cell_type": "code",
   "execution_count": null,
   "id": "8895e7a7",
   "metadata": {},
   "outputs": [],
   "source": []
  }
 ],
 "metadata": {
  "kernelspec": {
   "display_name": "Python 3 (ipykernel)",
   "language": "python",
   "name": "python3"
  },
  "language_info": {
   "codemirror_mode": {
    "name": "ipython",
    "version": 3
   },
   "file_extension": ".py",
   "mimetype": "text/x-python",
   "name": "python",
   "nbconvert_exporter": "python",
   "pygments_lexer": "ipython3",
   "version": "3.8.12"
  },
  "toc": {
   "base_numbering": 1,
   "nav_menu": {},
   "number_sections": true,
   "sideBar": true,
   "skip_h1_title": false,
   "title_cell": "Table of Contents",
   "title_sidebar": "Contents",
   "toc_cell": false,
   "toc_position": {},
   "toc_section_display": true,
   "toc_window_display": false
  }
 },
 "nbformat": 4,
 "nbformat_minor": 5
}
