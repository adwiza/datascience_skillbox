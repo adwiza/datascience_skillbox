{
 "cells": [
  {
   "cell_type": "code",
   "execution_count": 7,
   "id": "171a594b",
   "metadata": {},
   "outputs": [],
   "source": [
    "import pandas as pd\n",
    "import numpy as np\n",
    "import seaborn as sns\n",
    "\n",
    "sns.set_style('whitegrid')"
   ]
  },
  {
   "cell_type": "code",
   "execution_count": 8,
   "id": "173d0d21",
   "metadata": {},
   "outputs": [],
   "source": [
    "avg = 1\n",
    "std_dev = .1\n",
    "num_reps = 500\n",
    "num_simulations = 1000"
   ]
  },
  {
   "cell_type": "code",
   "execution_count": 9,
   "id": "31248907",
   "metadata": {},
   "outputs": [],
   "source": [
    "pct_to_target = np.random.normal(avg, std_dev, num_reps).round(2)"
   ]
  },
  {
   "cell_type": "code",
   "execution_count": 10,
   "id": "b52df44e",
   "metadata": {},
   "outputs": [
    {
     "data": {
      "text/plain": [
       "array([0.98, 0.83, 0.93, 0.71, 1.04, 1.14, 1.02, 1.14, 1.1 , 1.1 ])"
      ]
     },
     "execution_count": 10,
     "metadata": {},
     "output_type": "execute_result"
    }
   ],
   "source": [
    "pct_to_target[:10]"
   ]
  },
  {
   "cell_type": "code",
   "execution_count": 11,
   "id": "12863a82",
   "metadata": {},
   "outputs": [
    {
     "data": {
      "text/plain": [
       "500"
      ]
     },
     "execution_count": 11,
     "metadata": {},
     "output_type": "execute_result"
    }
   ],
   "source": [
    "len(pct_to_target)"
   ]
  },
  {
   "cell_type": "code",
   "execution_count": 12,
   "id": "c96ac19c",
   "metadata": {},
   "outputs": [],
   "source": [
    "sales_target_values = [75_000, 100_100, 200_200, 300_300, 400_400, 500_500]\n",
    "sales_target_prob = [.3, .3, .2, .1, .05, .05]\n",
    "sales_target = np.random.choice(sales_target_values, num_reps, p=sales_target_prob)"
   ]
  },
  {
   "cell_type": "code",
   "execution_count": 16,
   "id": "6393b943",
   "metadata": {},
   "outputs": [],
   "source": [
    "df = pd.DataFrame(index=range(num_reps), data={'Pct_To_Target': pct_to_target,\n",
    "                                               'Sales_Target': sales_target})\n",
    "df['Sales'] = df['Pct_To_Target'] * df['Sales_Target']"
   ]
  },
  {
   "cell_type": "code",
   "execution_count": 17,
   "id": "7550c3b1",
   "metadata": {},
   "outputs": [
    {
     "data": {
      "text/html": [
       "<div>\n",
       "<style scoped>\n",
       "    .dataframe tbody tr th:only-of-type {\n",
       "        vertical-align: middle;\n",
       "    }\n",
       "\n",
       "    .dataframe tbody tr th {\n",
       "        vertical-align: top;\n",
       "    }\n",
       "\n",
       "    .dataframe thead th {\n",
       "        text-align: right;\n",
       "    }\n",
       "</style>\n",
       "<table border=\"1\" class=\"dataframe\">\n",
       "  <thead>\n",
       "    <tr style=\"text-align: right;\">\n",
       "      <th></th>\n",
       "      <th>Pct_To_Target</th>\n",
       "      <th>Sales_Target</th>\n",
       "      <th>Sales</th>\n",
       "    </tr>\n",
       "  </thead>\n",
       "  <tbody>\n",
       "    <tr>\n",
       "      <th>0</th>\n",
       "      <td>0.98</td>\n",
       "      <td>300300</td>\n",
       "      <td>294294.0</td>\n",
       "    </tr>\n",
       "    <tr>\n",
       "      <th>1</th>\n",
       "      <td>0.83</td>\n",
       "      <td>400400</td>\n",
       "      <td>332332.0</td>\n",
       "    </tr>\n",
       "    <tr>\n",
       "      <th>2</th>\n",
       "      <td>0.93</td>\n",
       "      <td>75000</td>\n",
       "      <td>69750.0</td>\n",
       "    </tr>\n",
       "    <tr>\n",
       "      <th>3</th>\n",
       "      <td>0.71</td>\n",
       "      <td>300300</td>\n",
       "      <td>213213.0</td>\n",
       "    </tr>\n",
       "    <tr>\n",
       "      <th>4</th>\n",
       "      <td>1.04</td>\n",
       "      <td>300300</td>\n",
       "      <td>312312.0</td>\n",
       "    </tr>\n",
       "  </tbody>\n",
       "</table>\n",
       "</div>"
      ],
      "text/plain": [
       "   Pct_To_Target  Sales_Target     Sales\n",
       "0           0.98        300300  294294.0\n",
       "1           0.83        400400  332332.0\n",
       "2           0.93         75000   69750.0\n",
       "3           0.71        300300  213213.0\n",
       "4           1.04        300300  312312.0"
      ]
     },
     "execution_count": 17,
     "metadata": {},
     "output_type": "execute_result"
    }
   ],
   "source": [
    "df.head()"
   ]
  },
  {
   "cell_type": "code",
   "execution_count": 18,
   "id": "34bc88b1",
   "metadata": {},
   "outputs": [],
   "source": [
    "def calc_commision_rate(x):\n",
    "    \"\"\"\n",
    "    0-90% = 2%\n",
    "    91 - 99% = 3%\n",
    "    >= 100% = 4%\n",
    "    \"\"\"\n",
    "    if x <= .90:\n",
    "        return .02\n",
    "    if x <= .99:\n",
    "        return .03\n",
    "    else:\n",
    "        return .04   "
   ]
  },
  {
   "cell_type": "code",
   "execution_count": 19,
   "id": "c230f77d",
   "metadata": {},
   "outputs": [],
   "source": [
    "df['Comission_Rate'] = df.Pct_To_Target.apply(calc_commision_rate)\n",
    "df['Comission_Amount'] = df.Comission_Rate * df['Sales']"
   ]
  },
  {
   "cell_type": "code",
   "execution_count": 20,
   "id": "67e540f4",
   "metadata": {},
   "outputs": [
    {
     "data": {
      "text/html": [
       "<div>\n",
       "<style scoped>\n",
       "    .dataframe tbody tr th:only-of-type {\n",
       "        vertical-align: middle;\n",
       "    }\n",
       "\n",
       "    .dataframe tbody tr th {\n",
       "        vertical-align: top;\n",
       "    }\n",
       "\n",
       "    .dataframe thead th {\n",
       "        text-align: right;\n",
       "    }\n",
       "</style>\n",
       "<table border=\"1\" class=\"dataframe\">\n",
       "  <thead>\n",
       "    <tr style=\"text-align: right;\">\n",
       "      <th></th>\n",
       "      <th>Pct_To_Target</th>\n",
       "      <th>Sales_Target</th>\n",
       "      <th>Sales</th>\n",
       "      <th>Comission_Rate</th>\n",
       "      <th>Comission_Amount</th>\n",
       "    </tr>\n",
       "  </thead>\n",
       "  <tbody>\n",
       "    <tr>\n",
       "      <th>0</th>\n",
       "      <td>0.98</td>\n",
       "      <td>300300</td>\n",
       "      <td>294294.0</td>\n",
       "      <td>0.03</td>\n",
       "      <td>8828.82</td>\n",
       "    </tr>\n",
       "    <tr>\n",
       "      <th>1</th>\n",
       "      <td>0.83</td>\n",
       "      <td>400400</td>\n",
       "      <td>332332.0</td>\n",
       "      <td>0.02</td>\n",
       "      <td>6646.64</td>\n",
       "    </tr>\n",
       "    <tr>\n",
       "      <th>2</th>\n",
       "      <td>0.93</td>\n",
       "      <td>75000</td>\n",
       "      <td>69750.0</td>\n",
       "      <td>0.03</td>\n",
       "      <td>2092.50</td>\n",
       "    </tr>\n",
       "    <tr>\n",
       "      <th>3</th>\n",
       "      <td>0.71</td>\n",
       "      <td>300300</td>\n",
       "      <td>213213.0</td>\n",
       "      <td>0.02</td>\n",
       "      <td>4264.26</td>\n",
       "    </tr>\n",
       "    <tr>\n",
       "      <th>4</th>\n",
       "      <td>1.04</td>\n",
       "      <td>300300</td>\n",
       "      <td>312312.0</td>\n",
       "      <td>0.04</td>\n",
       "      <td>12492.48</td>\n",
       "    </tr>\n",
       "  </tbody>\n",
       "</table>\n",
       "</div>"
      ],
      "text/plain": [
       "   Pct_To_Target  Sales_Target     Sales  Comission_Rate  Comission_Amount\n",
       "0           0.98        300300  294294.0            0.03           8828.82\n",
       "1           0.83        400400  332332.0            0.02           6646.64\n",
       "2           0.93         75000   69750.0            0.03           2092.50\n",
       "3           0.71        300300  213213.0            0.02           4264.26\n",
       "4           1.04        300300  312312.0            0.04          12492.48"
      ]
     },
     "execution_count": 20,
     "metadata": {},
     "output_type": "execute_result"
    }
   ],
   "source": [
    "df.head()"
   ]
  },
  {
   "cell_type": "code",
   "execution_count": 23,
   "id": "d1b0a1a6",
   "metadata": {},
   "outputs": [],
   "source": [
    "all_stats = []\n",
    "\n",
    "for i in range(num_simulations):\n",
    "    sales_target = np.random.choice(sales_target_values, num_reps, p=sales_target_prob)\n",
    "    pct_to_target = np.random.normal(avg, std_dev, num_reps).round(2)\n",
    "    \n",
    "    df = pd.DataFrame(index=range(num_reps), data={'Pct_To_Target': pct_to_target,\n",
    "                                                   'Sales_Target': sales_target})\n",
    "    df['Sales'] = df['Pct_To_Target'] * df['Sales_Target']\n",
    "    \n",
    "    df['Comission_Rate'] = df.Pct_To_Target.apply(calc_commision_rate)\n",
    "    df['Comission_Amount'] = df.Comission_Rate * df['Sales']\n",
    "    \n",
    "    all_stats.append([df.Sales.sum().round(0),\n",
    "                      df.Comission_Amount.sum().round(0),\n",
    "                      df.Sales_Target.sum().round(0)])"
   ]
  },
  {
   "cell_type": "code",
   "execution_count": 24,
   "id": "b2d05e1b",
   "metadata": {},
   "outputs": [],
   "source": [
    "results_df = pd.DataFrame.from_records(all_stats, columns=['Sales',\n",
    "                                                           'Comission_Amount',\n",
    "                                                           'Sales_Target'\n",
    "    \n",
    "])"
   ]
  },
  {
   "cell_type": "code",
   "execution_count": 25,
   "id": "6eedd734",
   "metadata": {
    "scrolled": true
   },
   "outputs": [
    {
     "data": {
      "text/html": [
       "<style type=\"text/css\">\n",
       "</style>\n",
       "<table id=\"T_8c21b\">\n",
       "  <thead>\n",
       "    <tr>\n",
       "      <th class=\"blank level0\" >&nbsp;</th>\n",
       "      <th id=\"T_8c21b_level0_col0\" class=\"col_heading level0 col0\" >Sales</th>\n",
       "      <th id=\"T_8c21b_level0_col1\" class=\"col_heading level0 col1\" >Comission_Amount</th>\n",
       "      <th id=\"T_8c21b_level0_col2\" class=\"col_heading level0 col2\" >Sales_Target</th>\n",
       "    </tr>\n",
       "  </thead>\n",
       "  <tbody>\n",
       "    <tr>\n",
       "      <th id=\"T_8c21b_level0_row0\" class=\"row_heading level0 row0\" >count</th>\n",
       "      <td id=\"T_8c21b_row0_col0\" class=\"data row0 col0\" >1,000.0</td>\n",
       "      <td id=\"T_8c21b_row0_col1\" class=\"data row0 col1\" >1,000.0</td>\n",
       "      <td id=\"T_8c21b_row0_col2\" class=\"data row0 col2\" >1,000.0</td>\n",
       "    </tr>\n",
       "    <tr>\n",
       "      <th id=\"T_8c21b_level0_row1\" class=\"row_heading level0 row1\" >mean</th>\n",
       "      <td id=\"T_8c21b_row1_col0\" class=\"data row1 col0\" >83,967,593.264</td>\n",
       "      <td id=\"T_8c21b_row1_col1\" class=\"data row1 col1\" >2,866,629.08</td>\n",
       "      <td id=\"T_8c21b_row1_col2\" class=\"data row1 col2\" >83,951,573.8</td>\n",
       "    </tr>\n",
       "    <tr>\n",
       "      <th id=\"T_8c21b_level0_row2\" class=\"row_heading level0 row2\" >std</th>\n",
       "      <td id=\"T_8c21b_row2_col0\" class=\"data row2 col0\" >2,725,612.149071694</td>\n",
       "      <td id=\"T_8c21b_row2_col1\" class=\"data row2 col1\" >103,884.6005504913</td>\n",
       "      <td id=\"T_8c21b_row2_col2\" class=\"data row2 col2\" >2,671,691.783050054</td>\n",
       "    </tr>\n",
       "    <tr>\n",
       "      <th id=\"T_8c21b_level0_row3\" class=\"row_heading level0 row3\" >min</th>\n",
       "      <td id=\"T_8c21b_row3_col0\" class=\"data row3 col0\" >76,422,891.0</td>\n",
       "      <td id=\"T_8c21b_row3_col1\" class=\"data row3 col1\" >2,575,728.0</td>\n",
       "      <td id=\"T_8c21b_row3_col2\" class=\"data row3 col2\" >76,615,000.0</td>\n",
       "    </tr>\n",
       "    <tr>\n",
       "      <th id=\"T_8c21b_level0_row4\" class=\"row_heading level0 row4\" >25%</th>\n",
       "      <td id=\"T_8c21b_row4_col0\" class=\"data row4 col0\" >82,162,474.5</td>\n",
       "      <td id=\"T_8c21b_row4_col1\" class=\"data row4 col1\" >2,798,990.0</td>\n",
       "      <td id=\"T_8c21b_row4_col2\" class=\"data row4 col2\" >82,120,500.0</td>\n",
       "    </tr>\n",
       "    <tr>\n",
       "      <th id=\"T_8c21b_level0_row5\" class=\"row_heading level0 row5\" >50%</th>\n",
       "      <td id=\"T_8c21b_row5_col0\" class=\"data row5 col0\" >83,884,003.5</td>\n",
       "      <td id=\"T_8c21b_row5_col1\" class=\"data row5 col1\" >2,860,246.0</td>\n",
       "      <td id=\"T_8c21b_row5_col2\" class=\"data row5 col2\" >83,847,300.0</td>\n",
       "    </tr>\n",
       "    <tr>\n",
       "      <th id=\"T_8c21b_level0_row6\" class=\"row_heading level0 row6\" >75%</th>\n",
       "      <td id=\"T_8c21b_row6_col0\" class=\"data row6 col0\" >85,717,754.25</td>\n",
       "      <td id=\"T_8c21b_row6_col1\" class=\"data row6 col1\" >2,932,204.25</td>\n",
       "      <td id=\"T_8c21b_row6_col2\" class=\"data row6 col2\" >85,750,100.0</td>\n",
       "    </tr>\n",
       "    <tr>\n",
       "      <th id=\"T_8c21b_level0_row7\" class=\"row_heading level0 row7\" >max</th>\n",
       "      <td id=\"T_8c21b_row7_col0\" class=\"data row7 col0\" >91,494,708.0</td>\n",
       "      <td id=\"T_8c21b_row7_col1\" class=\"data row7 col1\" >3,130,262.0</td>\n",
       "      <td id=\"T_8c21b_row7_col2\" class=\"data row7 col2\" >92,256,900.0</td>\n",
       "    </tr>\n",
       "  </tbody>\n",
       "</table>\n"
      ],
      "text/plain": [
       "<pandas.io.formats.style.Styler at 0x14f5e74c0>"
      ]
     },
     "execution_count": 25,
     "metadata": {},
     "output_type": "execute_result"
    }
   ],
   "source": [
    "results_df.describe().style.format('{:,}')"
   ]
  },
  {
   "cell_type": "code",
   "execution_count": 28,
   "id": "e34be791",
   "metadata": {},
   "outputs": [
    {
     "data": {
      "text/plain": [
       "array([[<Axes: title={'center': 'Sales'}>,\n",
       "        <Axes: title={'center': 'Comission_Amount'}>],\n",
       "       [<Axes: title={'center': 'Sales_Target'}>, <Axes: >]], dtype=object)"
      ]
     },
     "execution_count": 28,
     "metadata": {},
     "output_type": "execute_result"
    },
    {
     "data": {
      "image/png": "[encoded data removed]",
      "text/plain": [
       "<Figure size 640x480 with 4 Axes>"
      ]
     },
     "metadata": {},
     "output_type": "display_data"
    }
   ],
   "source": [
    " results_df.hist()"
   ]
  },
  {
   "cell_type": "code",
   "execution_count": null,
   "id": "e9d42918",
   "metadata": {},
   "outputs": [],
   "source": []
  }
 ],
 "metadata": {
  "kernelspec": {
   "display_name": "Python 3 (ipykernel)",
   "language": "python",
   "name": "python3"
  },
  "language_info": {
   "codemirror_mode": {
    "name": "ipython",
    "version": 3
   },
   "file_extension": ".py",
   "mimetype": "text/x-python",
   "name": "python",
   "nbconvert_exporter": "python",
   "pygments_lexer": "ipython3",
   "version": "3.8.12"
  },
  "toc": {
   "base_numbering": 1,
   "nav_menu": {},
   "number_sections": true,
   "sideBar": true,
   "skip_h1_title": false,
   "title_cell": "Table of Contents",
   "title_sidebar": "Contents",
   "toc_cell": false,
   "toc_position": {},
   "toc_section_display": true,
   "toc_window_display": false
  }
 },
 "nbformat": 4,
 "nbformat_minor": 5
}
