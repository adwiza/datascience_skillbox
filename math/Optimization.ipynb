{
 "cells": [
  {
   "cell_type": "code",
   "execution_count": 1,
   "id": "b34b6047",
   "metadata": {},
   "outputs": [],
   "source": [
    "import numpy as np\n",
    "from scipy import optimize"
   ]
  },
  {
   "cell_type": "code",
   "execution_count": 2,
   "id": "6c12d724",
   "metadata": {},
   "outputs": [],
   "source": [
    "def f(x):\n",
    "    return np.exp((x - .7) ** 2)"
   ]
  },
  {
   "cell_type": "code",
   "execution_count": 3,
   "id": "7b087b4a",
   "metadata": {},
   "outputs": [],
   "source": [
    "res = optimize.minimize_scalar(f)"
   ]
  },
  {
   "cell_type": "code",
   "execution_count": 4,
   "id": "fb8838f5",
   "metadata": {},
   "outputs": [
    {
     "data": {
      "text/plain": [
       "True"
      ]
     },
     "execution_count": 4,
     "metadata": {},
     "output_type": "execute_result"
    }
   ],
   "source": [
    "res.success"
   ]
  },
  {
   "cell_type": "code",
   "execution_count": 5,
   "id": "fc9bcddf",
   "metadata": {},
   "outputs": [
    {
     "data": {
      "text/plain": [
       "0.6999999896325766"
      ]
     },
     "execution_count": 5,
     "metadata": {},
     "output_type": "execute_result"
    }
   ],
   "source": [
    "x_min = res.x\n",
    "x_min"
   ]
  },
  {
   "cell_type": "code",
   "execution_count": 6,
   "id": "f0f33c38",
   "metadata": {},
   "outputs": [
    {
     "data": {
      "text/plain": [
       "1.0"
      ]
     },
     "execution_count": 6,
     "metadata": {},
     "output_type": "execute_result"
    }
   ],
   "source": [
    "f(x_min)"
   ]
  },
  {
   "cell_type": "markdown",
   "id": "d65fc219",
   "metadata": {},
   "source": [
    "Метор Брента"
   ]
  },
  {
   "cell_type": "markdown",
   "id": "91b5b2fd",
   "metadata": {},
   "source": [
    "Функция Розенброка"
   ]
  },
  {
   "cell_type": "code",
   "execution_count": 7,
   "id": "bcbe9215",
   "metadata": {},
   "outputs": [],
   "source": [
    " def f(x):\n",
    "        return .5 *(1 - x[0])**2 + (x[1] - x[0]**2)**2"
   ]
  },
  {
   "cell_type": "code",
   "execution_count": 8,
   "id": "88cdc34b",
   "metadata": {},
   "outputs": [
    {
     "data": {
      "text/plain": [
       " message: Optimization terminated successfully.\n",
       " success: True\n",
       "  status: 0\n",
       "     fun: 5.426843148725793e-13\n",
       "       x: [ 1.000e+00  1.000e+00]\n",
       "     nit: 8\n",
       "     jac: [ 2.449e-06 -1.362e-06]\n",
       "    nfev: 48\n",
       "    njev: 16"
      ]
     },
     "execution_count": 8,
     "metadata": {},
     "output_type": "execute_result"
    }
   ],
   "source": [
    " optimize.minimize(f, [2, 1], method='CG')"
   ]
  },
  {
   "cell_type": "code",
   "execution_count": 9,
   "id": "4ef4b68f",
   "metadata": {},
   "outputs": [],
   "source": [
    "def jacobian(x):\n",
    "    return np.array((-2*.5*(1 - x[0]) - 4*x[0]*(x[1] - x[0]**2), 2*(x[1] - x[0]**2)))"
   ]
  },
  {
   "cell_type": "code",
   "execution_count": 10,
   "id": "7e2a0df4",
   "metadata": {},
   "outputs": [
    {
     "data": {
      "text/plain": [
       " message: Optimization terminated successfully.\n",
       " success: True\n",
       "  status: 0\n",
       "     fun: 2.957865890641887e-14\n",
       "       x: [ 1.000e+00  1.000e+00]\n",
       "     nit: 8\n",
       "     jac: [ 7.183e-07 -2.990e-07]\n",
       "    nfev: 16\n",
       "    njev: 16"
      ]
     },
     "execution_count": 10,
     "metadata": {},
     "output_type": "execute_result"
    }
   ],
   "source": [
    "optimize.minimize(f, [2, 1], method='CG', jac=jacobian)"
   ]
  },
  {
   "cell_type": "markdown",
   "id": "a6f3b2b0",
   "metadata": {},
   "source": [
    "Метод Ньютона (метод касательных)"
   ]
  },
  {
   "cell_type": "code",
   "execution_count": 15,
   "id": "f87c68a9",
   "metadata": {},
   "outputs": [],
   "source": [
    "def hessian(x):\n",
    "    return np.array(((1 - 4*x[1] + 12 * x[0] ** 2, -4*x[0]), (-4*x[0], 2)))"
   ]
  },
  {
   "cell_type": "code",
   "execution_count": 16,
   "id": "8084bd31",
   "metadata": {},
   "outputs": [
    {
     "data": {
      "text/plain": [
       " message: Optimization terminated successfully.\n",
       " success: True\n",
       "  status: 0\n",
       "     fun: 8.890464804458894e-18\n",
       "       x: [ 1.000e+00  1.000e+00]\n",
       "     nit: 8\n",
       "     jac: [-6.057e-10 -1.716e-09]\n",
       "    nfev: 8\n",
       "    njev: 8\n",
       "    nhev: 8"
      ]
     },
     "execution_count": 16,
     "metadata": {},
     "output_type": "execute_result"
    }
   ],
   "source": [
    "optimize.minimize(f, [2, 1], method='Newton-CG', jac=jacobian, hess=hessian)"
   ]
  },
  {
   "cell_type": "markdown",
   "id": "046d9cfa",
   "metadata": {},
   "source": [
    "Квазиньютоновские методы. Алгоритмы BFGS и L-BFGS"
   ]
  },
  {
   "cell_type": "code",
   "execution_count": 24,
   "id": "3953caed",
   "metadata": {},
   "outputs": [
    {
     "data": {
      "text/plain": [
       "  message: Optimization terminated successfully.\n",
       "  success: True\n",
       "   status: 0\n",
       "      fun: 1.3490824057987792e-12\n",
       "        x: [ 1.000e+00  1.000e+00]\n",
       "      nit: 9\n",
       "      jac: [-3.220e-07  9.158e-07]\n",
       " hess_inv: [[ 8.973e-01  1.763e+00]\n",
       "            [ 1.763e+00  3.955e+00]]\n",
       "     nfev: 10\n",
       "     njev: 10"
      ]
     },
     "execution_count": 24,
     "metadata": {},
     "output_type": "execute_result"
    }
   ],
   "source": [
    "  optimize.minimize(f, [2, 1], method='BFGS', jac=jacobian,)"
   ]
  },
  {
   "cell_type": "code",
   "execution_count": 25,
   "id": "53120c81",
   "metadata": {},
   "outputs": [
    {
     "data": {
      "text/plain": [
       "  message: CONVERGENCE: NORM_OF_PROJECTED_GRADIENT_<=_PGTOL\n",
       "  success: True\n",
       "   status: 0\n",
       "      fun: 2.2362014269098753e-12\n",
       "        x: [ 1.000e+00  1.000e+00]\n",
       "      nit: 12\n",
       "      jac: [ 5.407e-06 -2.925e-06]\n",
       "     nfev: 13\n",
       "     njev: 13\n",
       " hess_inv: <2x2 LbfgsInvHessProduct with dtype=float64>"
      ]
     },
     "execution_count": 25,
     "metadata": {},
     "output_type": "execute_result"
    }
   ],
   "source": [
    "  optimize.minimize(f, [2, 1], method='L-BFGS-B', jac=jacobian)"
   ]
  },
  {
   "cell_type": "code",
   "execution_count": 26,
   "id": "74ea71d8",
   "metadata": {},
   "outputs": [],
   "source": [
    "def f(x):\n",
    "    return np.sqrt((x[0] - 3)**2 + (x[1] - 2)**2)"
   ]
  },
  {
   "cell_type": "code",
   "execution_count": 27,
   "id": "4d0a0c18",
   "metadata": {},
   "outputs": [
    {
     "data": {
      "text/plain": [
       "  message: CONVERGENCE: NORM_OF_PROJECTED_GRADIENT_<=_PGTOL\n",
       "  success: True\n",
       "   status: 0\n",
       "      fun: 1.5811388300841898\n",
       "        x: [ 1.500e+00  1.500e+00]\n",
       "      nit: 2\n",
       "      jac: [-9.487e-01 -3.162e-01]\n",
       "     nfev: 9\n",
       "     njev: 3\n",
       " hess_inv: <2x2 LbfgsInvHessProduct with dtype=float64>"
      ]
     },
     "execution_count": 27,
     "metadata": {},
     "output_type": "execute_result"
    }
   ],
   "source": [
    "optimize.minimize(f, np.array([0, 0]), bounds=((-1.5, 1.5), (-1.5, 1.5))) "
   ]
  },
  {
   "cell_type": "code",
   "execution_count": 28,
   "id": "9f102532",
   "metadata": {},
   "outputs": [
    {
     "data": {
      "text/plain": [
       " message: Optimization terminated successfully\n",
       " success: True\n",
       "  status: 0\n",
       "     fun: 2.4748737350439685\n",
       "       x: [ 1.250e+00  2.500e-01]\n",
       "     nit: 5\n",
       "     jac: [-7.071e-01 -7.071e-01]\n",
       "    nfev: 15\n",
       "    njev: 5"
      ]
     },
     "execution_count": 28,
     "metadata": {},
     "output_type": "execute_result"
    }
   ],
   "source": [
    "def f(x):\n",
    "    return np.sqrt((x[0] - 3)**2 + (x[1] - 2)**2)\n",
    "\n",
    "def constraint(x):\n",
    "    return np.atleast_1d(1.5 - np.sum(np.abs(x)))\n",
    "\n",
    "x0 = np.array([0, 0 ])\n",
    "\n",
    "optimize.minimize(f, x0, constraints={'fun': constraint, 'type': 'ineq'})"
   ]
  },
  {
   "cell_type": "code",
   "execution_count": null,
   "id": "066febc8",
   "metadata": {},
   "outputs": [],
   "source": []
  }
 ],
 "metadata": {
  "kernelspec": {
   "display_name": "Python 3 (ipykernel)",
   "language": "python",
   "name": "python3"
  },
  "language_info": {
   "codemirror_mode": {
    "name": "ipython",
    "version": 3
   },
   "file_extension": ".py",
   "mimetype": "text/x-python",
   "name": "python",
   "nbconvert_exporter": "python",
   "pygments_lexer": "ipython3",
   "version": "3.10.10"
  },
  "toc": {
   "base_numbering": 1,
   "nav_menu": {},
   "number_sections": true,
   "sideBar": true,
   "skip_h1_title": false,
   "title_cell": "Table of Contents",
   "title_sidebar": "Contents",
   "toc_cell": false,
   "toc_position": {},
   "toc_section_display": true,
   "toc_window_display": false
  }
 },
 "nbformat": 4,
 "nbformat_minor": 5
}
