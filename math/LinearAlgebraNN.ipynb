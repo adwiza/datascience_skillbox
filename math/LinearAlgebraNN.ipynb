{
 "cells": [
  {
   "cell_type": "code",
   "execution_count": 39,
   "id": "a6fecc59",
   "metadata": {},
   "outputs": [],
   "source": [
    "import tensorflow.compat.v1 as tf\n",
    "tf.disable_v2_behavior()\n",
    "\n",
    "\n",
    "import cirq\n",
    "import sympy\n",
    "import numpy as np\n",
    "import seaborn as sns\n",
    "import collections\n",
    "\n",
    "# visualization tools\n",
    "%matplotlib inline\n",
    "import matplotlib.pyplot as plt\n",
    "from cirq.contrib.svg import SVGCircuit\n",
    "import matplotlib.pyplot as plt\n",
    "import warnings\n",
    "warnings.filterwarnings('ignore')"
   ]
  },
  {
   "cell_type": "code",
   "execution_count": 40,
   "id": "4ef55619",
   "metadata": {},
   "outputs": [
    {
     "name": "stdout",
     "output_type": "stream",
     "text": [
      "8.774964\n"
     ]
    }
   ],
   "source": [
    "vector = tf.constant([[4,5,6]], dtype=tf.float32)\n",
    "eucNorm = tf.norm(vector, ord=\"euclidean\")\n",
    "\n",
    "with tf.Session() as sess:\n",
    "    print(sess.run(eucNorm))"
   ]
  },
  {
   "cell_type": "code",
   "execution_count": 41,
   "id": "8f3a1050",
   "metadata": {},
   "outputs": [
    {
     "name": "stdout",
     "output_type": "stream",
     "text": [
      "<class 'list'>\n",
      "<class 'numpy.ndarray'>\n",
      "<class 'tensorflow.python.framework.ops.Tensor'>\n",
      "<class 'tensorflow.python.framework.ops.Tensor'>\n",
      "<class 'tensorflow.python.framework.ops.Tensor'>\n",
      "<class 'tensorflow.python.framework.ops.Tensor'>\n"
     ]
    }
   ],
   "source": [
    "matrix1 = [[1.0, 2.0], [3.0, 40]]\n",
    "matrix2 = np.array([[1.0, 2.0], [3.0, 40]], dtype=np.float32)\n",
    "matrix3 = tf.constant([[1.0, 2.0], [3.0, 40]])\n",
    "\n",
    "print(type(matrix1))\n",
    "print(type(matrix2))\n",
    "print(type(matrix3))\n",
    "\n",
    "tensorForM1 = tf.convert_to_tensor(matrix1, dtype=tf.float32)\n",
    "tensorForM2 = tf.convert_to_tensor(matrix2, dtype=tf.float32)\n",
    "tensorForM3 = tf.convert_to_tensor(matrix3, dtype=tf.float32)\n",
    "\n",
    "print(type(tensorForM1))\n",
    "print(type(tensorForM2))\n",
    "print(type(tensorForM3))"
   ]
  },
  {
   "cell_type": "code",
   "execution_count": 42,
   "id": "1d992c93",
   "metadata": {},
   "outputs": [
    {
     "name": "stdout",
     "output_type": "stream",
     "text": [
      "[[28 40 54]\n",
      " [30 22 12]]\n",
      "[[122 167]\n",
      " [ 46  64]]\n"
     ]
    }
   ],
   "source": [
    "mat1 = tf.constant([[4, 5, 6],[3,2,1]])\n",
    "mat2 = tf.constant([[7, 8, 9],[10, 11, 12]])\n",
    "\n",
    "mult = tf.multiply(mat1, mat2)\n",
    "\n",
    "dotprod = tf.matmul(mat1, tf.transpose(mat2))\n",
    "\n",
    "with tf.Session() as sess:\n",
    "    print(sess.run(mult))\n",
    "    print(sess.run(dotprod))"
   ]
  },
  {
   "cell_type": "code",
   "execution_count": 43,
   "id": "e131ec63",
   "metadata": {},
   "outputs": [
    {
     "name": "stdout",
     "output_type": "stream",
     "text": [
      "12.0\n"
     ]
    }
   ],
   "source": [
    "mat = tf.constant([\n",
    " [0, 1, 2],\n",
    " [3, 4, 5],\n",
    " [6, 7, 8]\n",
    "], dtype=tf.float32)\n",
    "\n",
    "mat = tf.trace(mat)\n",
    "\n",
    "with tf.Session() as sess:\n",
    "    print(sess.run(mat))"
   ]
  },
  {
   "cell_type": "code",
   "execution_count": 44,
   "id": "ce9232c9",
   "metadata": {},
   "outputs": [
    {
     "name": "stdout",
     "output_type": "stream",
     "text": [
      "[[1 4]\n",
      " [2 5]\n",
      " [3 6]]\n",
      "[[[1 6]\n",
      "  [2 5]\n",
      "  [3 4]]\n",
      "\n",
      " [[4 3]\n",
      "  [5 6]\n",
      "  [6 3]]]\n"
     ]
    }
   ],
   "source": [
    "x = [[1,2,3],[4,5,6]]\n",
    "x = tf.convert_to_tensor(x)\n",
    "xtrans = tf.transpose(x)\n",
    "\n",
    "y=([[[1,2,3],[6,5,4]],[[4,5,6],[3,6,3]]])\n",
    "y = tf.convert_to_tensor(y)\n",
    "ytrans = tf.transpose(y, perm=[0, 2, 1])\n",
    "\n",
    "with tf.Session() as sess:\n",
    "   print(sess.run(xtrans))\n",
    "   print(sess.run(ytrans))"
   ]
  },
  {
   "cell_type": "code",
   "execution_count": 45,
   "id": "ab2ad1d7",
   "metadata": {},
   "outputs": [
    {
     "name": "stdout",
     "output_type": "stream",
     "text": [
      "[0. 4. 8.]\n",
      "[[1 0 0 0]\n",
      " [0 2 0 0]\n",
      " [0 0 3 0]\n",
      " [0 0 0 4]]\n"
     ]
    }
   ],
   "source": [
    "mat = tf.constant([\n",
    " [0, 1, 2],\n",
    " [3, 4, 5],\n",
    " [6, 7, 8]\n",
    "], dtype=tf.float32)\n",
    "\n",
    "diag_mat = tf.diag_part(mat)\n",
    "\n",
    "mat = tf.diag([1,2,3,4])\n",
    "\n",
    "with tf.Session() as sess:\n",
    "   print(sess.run(diag_mat))\n",
    "   print(sess.run(mat))"
   ]
  },
  {
   "cell_type": "code",
   "execution_count": 46,
   "id": "0ab147a1",
   "metadata": {},
   "outputs": [
    {
     "name": "stdout",
     "output_type": "stream",
     "text": [
      "[[1. 0. 0.]\n",
      " [0. 1. 0.]\n",
      " [0. 0. 1.]]\n"
     ]
    }
   ],
   "source": [
    "identity = tf.eye(3, 3)\n",
    "\n",
    "with tf.Session() as sess:\n",
    "   print(sess.run(identity))  "
   ]
  },
  {
   "cell_type": "code",
   "execution_count": 47,
   "id": "e6f9f0c7",
   "metadata": {},
   "outputs": [
    {
     "name": "stdout",
     "output_type": "stream",
     "text": [
      "x**2 + y**2 + -2.0x + -6.0y + 5.0 = 0\n"
     ]
    }
   ],
   "source": [
    "# x2+y2+dx+ey+f = 0\n",
    "# dx+ey+f=−(x2+y2) ==> AX = B\n",
    "# d, e, f\n",
    "\n",
    "points = tf.constant([[2,1], [0,5], [-1,2]], dtype=tf.float64)\n",
    "X = tf.constant([[2,1,1], [0,5,1], [-1,2,1]], dtype=tf.float64)\n",
    "B = -tf.constant([[5], [25], [5]], dtype=tf.float64)\n",
    "\n",
    "A = tf.matrix_solve(X,B)\n",
    "\n",
    "with tf.Session() as sess:\n",
    "    result = sess.run(A)\n",
    "    D, E, F = result.flatten()\n",
    "    print(\"x**2 + y**2 + {D}x + {E}y + {F} = 0\".format(**locals()))"
   ]
  },
  {
   "cell_type": "code",
   "execution_count": 48,
   "id": "3e5b9d9c",
   "metadata": {},
   "outputs": [
    {
     "name": "stdout",
     "output_type": "stream",
     "text": [
      "[[ 5.2412510e-01  5.7285953e-01  9.5445983e-02  3.8322863e-01\n",
      "   1.7696340e-01 -1.7609245e-01  4.1918576e-01  5.5770501e-02]\n",
      " [ 5.9443843e-01 -6.3012099e-01 -1.7020741e-01  3.1003842e-01\n",
      "  -1.8406223e-01 -2.3477782e-01 -1.2953560e-01 -1.3681325e-01]\n",
      " [ 2.5627419e-01 -2.7401772e-01  1.5981109e-01  6.5319000e-08\n",
      "   5.7898474e-01  6.3655090e-01  2.1452342e-07  3.0541500e-01]\n",
      " [ 2.8563744e-01  2.4791259e-01  3.5461003e-01 -7.3189922e-02\n",
      "  -4.4578463e-01  8.3614528e-02 -5.4872149e-01  4.6801224e-01]\n",
      " [ 1.9313939e-01 -3.3849932e-02 -5.0079018e-01 -4.2846254e-01\n",
      "  -3.4711048e-01  1.5548302e-01  4.6866363e-01  4.0357691e-01]\n",
      " [ 3.0513468e-01  2.9398909e-01 -2.2343382e-01 -1.9161446e-01\n",
      "  -1.2746094e-01  4.9121961e-01 -2.0959236e-01 -6.5753585e-01]\n",
      " [ 1.8248993e-01  1.6102767e-01 -3.9784253e-01 -3.8322884e-01\n",
      "   5.1292336e-01 -4.2757425e-01 -4.1918600e-01  1.1831376e-01]\n",
      " [ 2.4689846e-01 -1.5725437e-01  5.9299219e-01 -6.2007719e-01\n",
      "   3.2186557e-02 -2.3106529e-01  2.5907102e-01 -2.3797689e-01]]\n",
      "[2.7572641  2.6782503  1.8922135  1.6180354  1.1915464  0.9483402\n",
      " 0.6180348  0.56999254]\n",
      "[[ 5.2412516e-01 -5.7285923e-01 -9.5446005e-02  3.8322866e-01\n",
      "   1.7696351e-01  1.7609236e-01 -4.1918585e-01  5.5770084e-02]\n",
      " [ 5.9443843e-01  6.3012111e-01  1.7020735e-01  3.1003860e-01\n",
      "  -1.8406229e-01  2.3477778e-01  1.2953569e-01 -1.3681309e-01]\n",
      " [ 2.5627407e-01  2.7401769e-01 -1.5981109e-01 -6.7946758e-08\n",
      "   5.7898462e-01 -6.3655108e-01 -4.6661830e-07  3.0541503e-01]\n",
      " [ 2.8563747e-01 -2.4791244e-01 -3.5461015e-01 -7.3189929e-02\n",
      "  -4.4578466e-01 -8.3614394e-02  5.4872108e-01  4.6801290e-01]\n",
      " [ 1.9313939e-01  3.3849966e-02  5.0079036e-01 -4.2846251e-01\n",
      "  -3.4711057e-01 -1.5548284e-01 -4.6866414e-01  4.0357652e-01]\n",
      " [ 3.0513480e-01 -2.9398894e-01  2.2343381e-01 -1.9161427e-01\n",
      "  -1.2746108e-01 -4.9121952e-01  2.0959297e-01 -6.5753555e-01]\n",
      " [ 1.8248996e-01 -1.6102758e-01  3.9784259e-01 -3.8322887e-01\n",
      "   5.1292342e-01  4.2757443e-01  4.1918600e-01  1.1831414e-01]\n",
      " [ 2.4689844e-01  1.5725447e-01 -5.9299213e-01 -6.2007719e-01\n",
      "   3.2186668e-02  2.3106527e-01 -2.5907087e-01 -2.3797715e-01]]\n",
      "[[-5.2412492e-01 -5.7285917e-01  9.5446303e-02  3.8322848e-01\n",
      "   1.7696337e-01 -1.7609218e-01  4.1918561e-01 -5.5770274e-02]\n",
      " [-5.9443808e-01  6.3012064e-01 -1.7020778e-01  3.1003836e-01\n",
      "  -1.8406233e-01 -2.3477785e-01 -1.2953548e-01  1.3681313e-01]\n",
      " [-2.5627401e-01  2.7401754e-01  1.5981084e-01 -1.6653345e-16\n",
      "   5.7898462e-01  6.3655090e-01  4.1633363e-16 -3.0541489e-01]\n",
      " [-2.8563741e-01 -2.4791212e-01  3.5461032e-01 -7.3190130e-02\n",
      "  -4.4578448e-01  8.3614141e-02 -5.4872108e-01 -4.6801242e-01]\n",
      " [-1.9313931e-01  3.3849504e-02 -5.0079042e-01 -4.2846248e-01\n",
      "  -3.4711021e-01  1.5548323e-01  4.6866375e-01 -4.0357655e-01]\n",
      " [-3.0513468e-01 -2.9398900e-01 -2.2343360e-01 -1.9161424e-01\n",
      "  -1.2746094e-01  4.9121940e-01 -2.0959280e-01  6.5753537e-01]\n",
      " [-1.8248984e-01 -1.6102777e-01 -3.9784244e-01 -3.8322848e-01\n",
      "   5.1292324e-01 -4.2757443e-01 -4.1918561e-01 -1.1831383e-01]\n",
      " [-2.4689843e-01  1.5725476e-01  5.9299165e-01 -6.2007672e-01\n",
      "   3.2186814e-02 -2.3106508e-01  2.5907096e-01  2.3797691e-01]]\n",
      "[2.7572627 2.678248  1.8922127 1.618034  1.1915456 0.9483398 0.618034\n",
      " 0.5699922]\n",
      "[[-5.2412492e-01 -5.9443808e-01 -2.5627401e-01 -2.8563741e-01\n",
      "  -1.9313931e-01 -3.0513468e-01 -1.8248984e-01 -2.4689843e-01]\n",
      " [ 5.7285917e-01 -6.3012064e-01 -2.7401754e-01  2.4791212e-01\n",
      "  -3.3849504e-02  2.9398900e-01  1.6102777e-01 -1.5725476e-01]\n",
      " [-9.5446303e-02  1.7020778e-01 -1.5981084e-01 -3.5461032e-01\n",
      "   5.0079042e-01  2.2343360e-01  3.9784244e-01 -5.9299165e-01]\n",
      " [ 3.8322848e-01  3.1003836e-01 -4.4408921e-16 -7.3190130e-02\n",
      "  -4.2846248e-01 -1.9161424e-01 -3.8322848e-01 -6.2007672e-01]\n",
      " [ 1.7696337e-01 -1.8406233e-01  5.7898462e-01 -4.4578448e-01\n",
      "  -3.4711021e-01 -1.2746094e-01  5.1292324e-01  3.2186814e-02]\n",
      " [ 1.7609218e-01  2.3477785e-01 -6.3655090e-01 -8.3614141e-02\n",
      "  -1.5548323e-01 -4.9121940e-01  4.2757443e-01  2.3106508e-01]\n",
      " [-4.1918561e-01  1.2953548e-01  6.6613381e-16  5.4872108e-01\n",
      "  -4.6866375e-01  2.0959280e-01  4.1918561e-01 -2.5907096e-01]\n",
      " [-5.5770274e-02  1.3681313e-01 -3.0541489e-01 -4.6801242e-01\n",
      "  -4.0357655e-01  6.5753537e-01 -1.1831383e-01  2.3797691e-01]]\n"
     ]
    }
   ],
   "source": [
    "xMatrix = np.array([[0,2,1,0,0,0,0,0],\n",
    "              [2,0,0,1,0,1,0,0],\n",
    "              [1,0,0,0,0,0,1,0],\n",
    "              [0,1,0,0,1,0,0,0],\n",
    "              [0,0,0,1,0,0,0,1],\n",
    "              [0,1,0,0,0,0,0,1],\n",
    "              [0,0,1,0,0,0,0,1],\n",
    "              [0,0,0,0,1,1,1,0]], dtype=np.float32)\n",
    "\n",
    "X_tensor = tf.convert_to_tensor(xMatrix, dtype=tf.float32)\n",
    "\n",
    "# tensorflow \n",
    "with tf.Session() as sess:\n",
    "    s, U, Vh = sess.run(tf.svd(X_tensor, full_matrices=False))\n",
    "    \n",
    "print(U)\n",
    "print(s)\n",
    "print(Vh)\n",
    "\n",
    "# numpy \n",
    "la = np.linalg\n",
    "U, s, Vh = la.svd(xMatrix, full_matrices=False)\n",
    "\n",
    "print(U)\n",
    "print(s)\n",
    "print(Vh)"
   ]
  },
  {
   "cell_type": "code",
   "execution_count": 49,
   "id": "323ebed9",
   "metadata": {},
   "outputs": [
    {
     "name": "stdout",
     "output_type": "stream",
     "text": [
      "[array([4.1594949e-01, 2.0839056e-01, 1.9092928e-01, 8.3643854e-02,\n",
      "       5.5549424e-02, 2.4604747e-02, 2.0932643e-02, 3.5754010e-16],\n",
      "      dtype=float32)]\n"
     ]
    }
   ],
   "source": [
    "xMatrix = np.array([[0,2,1,0,0,0,0,0],\n",
    "              [2,0,0,1,0,1,0,0],\n",
    "              [1,0,0,0,0,0,1,0],\n",
    "              [0,1,0,0,1,0,0,0],\n",
    "              [0,0,0,1,0,0,0,1],\n",
    "              [0,1,0,0,0,0,0,1],\n",
    "              [0,0,1,0,0,0,0,1],\n",
    "              [0,0,0,0,1,1,1,0]], dtype=np.float32)\n",
    "\n",
    "def pca(mat):\n",
    "    mat = tf.constant(mat, dtype=tf.float32)\n",
    "    mean = tf.reduce_mean(mat, 0)\n",
    "    less = mat - mean\n",
    "    s, u, v = tf.svd(less, full_matrices=True, compute_uv=True)\n",
    "\n",
    "    s2 = s ** 2\n",
    "    variance_ratio = s2 / tf.reduce_sum(s2)\n",
    "\n",
    "    with tf.Session() as session:\n",
    "        run = session.run([variance_ratio])\n",
    "    return run\n",
    "\n",
    "\n",
    "if __name__ == '__main__':\n",
    "    print(pca(xMatrix))"
   ]
  },
  {
   "cell_type": "code",
   "execution_count": 63,
   "id": "13ad0476",
   "metadata": {},
   "outputs": [
    {
     "ename": "ModuleNotFoundError",
     "evalue": "No module named 'tensorflow.examples'",
     "output_type": "error",
     "traceback": [
      "\u001b[0;31m---------------------------------------------------------------------------\u001b[0m",
      "\u001b[0;31mModuleNotFoundError\u001b[0m                       Traceback (most recent call last)",
      "Cell \u001b[0;32mIn[63], line 1\u001b[0m\n\u001b[0;32m----> 1\u001b[0m \u001b[38;5;28;01mimport\u001b[39;00m \u001b[38;5;21;01mtensorflow\u001b[39;00m\u001b[38;5;21;01m.\u001b[39;00m\u001b[38;5;21;01mexamples\u001b[39;00m\u001b[38;5;21;01m.\u001b[39;00m\u001b[38;5;21;01mtutorials\u001b[39;00m\u001b[38;5;21;01m.\u001b[39;00m\u001b[38;5;21;01mmnist\u001b[39;00m\u001b[38;5;21;01m.\u001b[39;00m\u001b[38;5;21;01minput_data\u001b[39;00m \u001b[38;5;28;01mas\u001b[39;00m \u001b[38;5;21;01minput_data\u001b[39;00m\n",
      "\u001b[0;31mModuleNotFoundError\u001b[0m: No module named 'tensorflow.examples'"
     ]
    }
   ],
   "source": [
    "from tensorflow.examples.tutorials.mnist import input_data\n",
    "\n",
    "(x_train, y_train), (x_test, y_test) = tf.keras.datasets.mnist.load_data()\n",
    "\n",
    "mnist = tf.keras.datasets.mnist\n",
    "\n",
    "(x_train, y_train), (x_test, y_test) = mnist.load_data()\n",
    "data = input_data.read_data_sets(\"~/.keras/datasets\", one_hot=True)\n",
    "\n",
    "x = tf.placeholder(tf.float32, [None, 784])\n",
    "y = tf.placeholder(tf.float32, [None, 10])\n",
    "\n",
    "numNeuronsInDeepLayer = 30\n",
    "w1 = tf.Variable(tf.truncated_normal([784, numNeuronsInDeepLayer]))\n",
    "b1 = tf.Variable(tf.truncated_normal([1, numNeuronsInDeepLayer]))\n",
    "w2 = tf.Variable(tf.truncated_normal([numNeuronsInDeepLayer, 10]))\n",
    "b2 = tf.Variable(tf.truncated_normal([1, 10]))\n",
    "\n",
    "# Rescale the images from [0,255] to the [0.0,1.0] range.\n",
    "x_train, x_test = x_train[..., np.newaxis]/255.0, x_test[..., np.newaxis]/255.0\n",
    "\n",
    "print(\"Number of original training examples:\", len(x_train))\n",
    "print(\"Number of original test examples:\", len(x_test))\n",
    "\n",
    "data = tf.keras.datasets.mnist.load_data(\n",
    "    path='mnist.npz'\n",
    ")\n",
    "\n",
    "x = tf.placeholder(tf.float32, [None, 784])\n",
    "y = tf.placeholder(tf.float32, [None, 10])\n",
    "\n",
    "numNeuronsInDeepLayer = 30\n",
    "w1 = tf.Variable(tf.truncated_normal([784, numNeuronsInDeepLayer]))\n",
    "b1 = tf.Variable(tf.truncated_normal([1, numNeuronsInDeepLayer]))\n",
    "w2 = tf.Variable(tf.truncated_normal([numNeuronsInDeepLayer, 10]))\n",
    "b2 = tf.Variable(tf.truncated_normal([1, 10]))"
   ]
  },
  {
   "cell_type": "code",
   "execution_count": 56,
   "id": "445aac69",
   "metadata": {},
   "outputs": [
    {
     "name": "stdout",
     "output_type": "stream",
     "text": [
      "5\n"
     ]
    },
    {
     "data": {
      "text/plain": [
       "<matplotlib.colorbar.Colorbar at 0x12859d0f0>"
      ]
     },
     "execution_count": 56,
     "metadata": {},
     "output_type": "execute_result"
    },
    {
     "data": {
      "image/png": "[encoded data removed]",
      "text/plain": [
       "<Figure size 640x480 with 2 Axes>"
      ]
     },
     "metadata": {},
     "output_type": "display_data"
    }
   ],
   "source": [
    "print(y_train[0])\n",
    "\n",
    "plt.imshow(x_train[0, :, :, 0])\n",
    "plt.colorbar()"
   ]
  },
  {
   "cell_type": "code",
   "execution_count": 58,
   "id": "dffc8447",
   "metadata": {},
   "outputs": [
    {
     "ename": "AttributeError",
     "evalue": "'tuple' object has no attribute 'train'",
     "output_type": "error",
     "traceback": [
      "\u001b[0;31m---------------------------------------------------------------------------\u001b[0m",
      "\u001b[0;31mAttributeError\u001b[0m                            Traceback (most recent call last)",
      "Cell \u001b[0;32mIn[58], line 47\u001b[0m\n\u001b[1;32m     44\u001b[0m sess\u001b[38;5;241m.\u001b[39mrun(tf\u001b[38;5;241m.\u001b[39mglobal_variables_initializer())\n\u001b[1;32m     46\u001b[0m \u001b[38;5;28;01mfor\u001b[39;00m i \u001b[38;5;129;01min\u001b[39;00m \u001b[38;5;28mrange\u001b[39m(\u001b[38;5;241m10000\u001b[39m):\n\u001b[0;32m---> 47\u001b[0m     batch_xs, batch_ys \u001b[38;5;241m=\u001b[39m \u001b[43mdata\u001b[49m\u001b[38;5;241;43m.\u001b[39;49m\u001b[43mtrain\u001b[49m\u001b[38;5;241m.\u001b[39mnext_batch(\u001b[38;5;241m10\u001b[39m)\n\u001b[1;32m     48\u001b[0m     sess\u001b[38;5;241m.\u001b[39mrun(step, feed_dict\u001b[38;5;241m=\u001b[39m{x: batch_xs,\n\u001b[1;32m     49\u001b[0m                               y: batch_ys})\n\u001b[1;32m     50\u001b[0m     \u001b[38;5;28;01mif\u001b[39;00m i \u001b[38;5;241m%\u001b[39m \u001b[38;5;241m1000\u001b[39m \u001b[38;5;241m==\u001b[39m \u001b[38;5;241m0\u001b[39m:\n",
      "\u001b[0;31mAttributeError\u001b[0m: 'tuple' object has no attribute 'train'"
     ]
    }
   ],
   "source": [
    "def sigmoid(x):\n",
    "    sigma = tf.div(tf.constant(1.0), tf.add(tf.constant(1.0), tf.exp(tf.negative(x))))\n",
    "    return sigma\n",
    "\n",
    "# wx+b, sigmoid \n",
    "z1 = tf.add(tf.matmul(x, w1), b1)\n",
    "a1 = sigmoid(z1)\n",
    "z2 = tf.add(tf.matmul(a1, w2), b2)\n",
    "a2 = sigmoid(z2)\n",
    "\n",
    "loss = tf.subtract(a2, y)\n",
    "\n",
    "# дериватив(sigmoid)=sigmoid*(1-sigmoid)\n",
    "def sigmaprime(x):\n",
    "    return tf.multiply(sigmoid(x), tf.subtract(tf.constant(1.0), sigmoid(x)))\n",
    "\n",
    "dz2 = tf.multiply(loss, sigmaprime(z2))\n",
    "db2 = dz2\n",
    "dw2 = tf.matmul(tf.transpose(a1), dz2)\n",
    "\n",
    "da1 = tf.matmul(dz2, tf.transpose(w2))\n",
    "dz1 = tf.multiply(da1, sigmaprime(z1))\n",
    "db1 = dz1\n",
    "dw1 = tf.matmul(tf.transpose(x), dz1)\n",
    "\n",
    "eta = tf.constant(0.5)\n",
    "step = [\n",
    "    tf.assign(w1,\n",
    "              tf.subtract(w1, tf.multiply(eta, dw1)))\n",
    "    , tf.assign(b1,\n",
    "                tf.subtract(b1, tf.multiply(eta,\n",
    "                                             tf.reduce_mean(db1, axis=[0]))))\n",
    "    , tf.assign(w2,\n",
    "                tf.subtract(w2, tf.multiply(eta, dw2)))\n",
    "    , tf.assign(b2,\n",
    "                tf.subtract(b2, tf.multiply(eta,\n",
    "                                             tf.reduce_mean(db2, axis=[0]))))\n",
    "]\n",
    "\n",
    "acct_mat = tf.equal(tf.argmax(a2, 1), tf.argmax(y, 1))\n",
    "acct_res = tf.reduce_sum(tf.cast(acct_mat, tf.float32))\n",
    "\n",
    "sess = tf.InteractiveSession()\n",
    "sess.run(tf.global_variables_initializer())\n",
    "\n",
    "for i in range(10000):\n",
    "    batch_xs, batch_ys = data.train.next_batch(10)\n",
    "    sess.run(step, feed_dict={x: batch_xs,\n",
    "                              y: batch_ys})\n",
    "    if i % 1000 == 0:\n",
    "        res = sess.run(acct_res, feed_dict=\n",
    "        {x: data.test.images[:1000],\n",
    "         y: data.test.labels[:1000]})\n",
    "        print(res)"
   ]
  },
  {
   "cell_type": "code",
   "execution_count": 12,
   "id": "2d2a2769",
   "metadata": {},
   "outputs": [
    {
     "name": "stdout",
     "output_type": "stream",
     "text": [
      "Epoch is: 0050 loss= 0.181245729 W= 0.42958528 b= -0.49210075\n",
      "Epoch is: 0100 loss= 0.169153243 W= 0.41882718 b= -0.4147099\n",
      "Epoch is: 0150 loss= 0.158455208 W= 0.40870798 b= -0.34191483\n",
      "Epoch is: 0200 loss= 0.148990810 W= 0.39918968 b= -0.27344278\n",
      "Epoch is: 0250 loss= 0.140618041 W= 0.39023674 b= -0.2090377\n",
      "Epoch is: 0300 loss= 0.133210927 W= 0.38181543 b= -0.14845741\n",
      "Epoch is: 0350 loss= 0.126658142 W= 0.3738943 b= -0.091475\n",
      "Epoch is: 0400 loss= 0.120861135 W= 0.36644357 b= -0.037876643\n",
      "Epoch is: 0450 loss= 0.115732841 W= 0.35943544 b= 0.012538542\n",
      "Epoch is: 0500 loss= 0.111196131 W= 0.35284328 b= 0.059959643\n",
      "Epoch is: 0550 loss= 0.107182771 W= 0.34664285 b= 0.104564436\n",
      "Epoch is: 0600 loss= 0.103632435 W= 0.3408106 b= 0.14652027\n",
      "Epoch is: 0650 loss= 0.100491717 W= 0.33532467 b= 0.18598449\n",
      "Epoch is: 0700 loss= 0.097713396 W= 0.33016455 b= 0.223105\n",
      "Epoch is: 0750 loss= 0.095255665 W= 0.3253108 b= 0.25802118\n",
      "Epoch is: 0800 loss= 0.093081601 W= 0.32074547 b= 0.290863\n",
      "Epoch is: 0850 loss= 0.091158450 W= 0.31645122 b= 0.32175452\n",
      "Epoch is: 0900 loss= 0.089457236 W= 0.31241202 b= 0.35081175\n",
      "Epoch is: 0950 loss= 0.087952442 W= 0.3086126 b= 0.37814307\n",
      "Epoch is: 1000 loss= 0.086621381 W= 0.30503905 b= 0.40385064\n",
      "optimization done...\n",
      "Training loss= 0.08662138 W= 0.30503905 b= 0.40385064 \n",
      "\n"
     ]
    },
    {
     "data": {
      "image/png": "[encoded data removed]",
      "text/plain": [
       "<Figure size 640x480 with 1 Axes>"
      ]
     },
     "metadata": {},
     "output_type": "display_data"
    },
    {
     "name": "stdout",
     "output_type": "stream",
     "text": [
      "Testing... (Mean square loss Comparison)\n",
      "Testing cost= 0.07886464\n",
      "Absolute mean square loss difference: 0.00775674\n"
     ]
    },
    {
     "data": {
      "image/png": "[encoded data removed]",
      "text/plain": [
       "<Figure size 640x480 with 1 Axes>"
      ]
     },
     "metadata": {},
     "output_type": "display_data"
    }
   ],
   "source": [
    "rndm = np.random\n",
    "\n",
    "learningRate = 0.01\n",
    "trainingEpochs = 1000\n",
    "displayStep = 50\n",
    "\n",
    "trainX = np.asarray([3.3,4.4,5.5,6.71,6.93,4.168,9.779,6.182,7.59,2.167,\n",
    "                         7.042,10.791,5.313,7.997,5.654,9.27,3.12])\n",
    "trainY = np.asarray([1.7,2.76,2.09,3.19,1.694,1.573,3.366,2.596,2.53,1.221,\n",
    "                         2.827,3.465,1.65,2.904,2.42,2.94,1.34])\n",
    "nSamples = trainX.shape[0]\n",
    "\n",
    "X = tf.placeholder(\"float\")\n",
    "Y = tf.placeholder(\"float\")\n",
    "\n",
    "W = tf.Variable(rndm.randn(), name=\"weight\")\n",
    "b = tf.Variable(rndm.randn(), name=\"bias\")\n",
    "\n",
    "linearModel = tf.add(tf.multiply(X, W), b)\n",
    "\n",
    "loss = tf.reduce_sum(tf.pow(linearModel-Y, 2))/(2*nSamples)\n",
    "\n",
    "opt = tf.train.GradientDescentOptimizer(learningRate).minimize(loss)\n",
    "\n",
    "init = tf.global_variables_initializer()\n",
    "\n",
    "with tf.Session() as sess:\n",
    "    sess.run(init)\n",
    "\n",
    "    for epoch in range(trainingEpochs):\n",
    "        for (x, y) in zip(trainX, trainY):\n",
    "            sess.run(opt, feed_dict={X: x, Y: y})\n",
    "\n",
    "        if (epoch+1) % displayStep == 0:\n",
    "            c = sess.run(loss, feed_dict={X: trainX, Y:trainY})\n",
    "            print(\"Epoch is:\", '%04d' % (epoch+1), \"loss=\", \"{:.9f}\".format(c), \"W=\", sess.run(W), \"b=\", sess.run(b))\n",
    "\n",
    "    print(\"optimization done...\")\n",
    "    trainingLoss = sess.run(loss, feed_dict={X: trainX, Y: trainY})\n",
    "    print(\"Training loss=\", trainingLoss, \"W=\", sess.run(W), \"b=\", sess.run(b), '\\n')\n",
    "\n",
    "    plt.plot(trainX, trainY, 'ro', label='Original data')\n",
    "    plt.plot(trainX, sess.run(W) * trainX + sess.run(b), label='Fitted line')\n",
    "    plt.legend()\n",
    "    plt.show()\n",
    "\n",
    "    testX = np.asarray([6.83, 4.668, 8.9, 7.91, 5.7, 8.7, 3.1, 2.1])\n",
    "    testY = np.asarray([1.84, 2.273, 3.2, 2.831, 2.92, 3.24, 1.35, 1.03])\n",
    "\n",
    "    print(\"Testing... (Mean square loss Comparison)\")\n",
    "    testing_cost = sess.run(\n",
    "        tf.reduce_sum(tf.pow(linearModel - Y, 2)) / (2 * testX.shape[0]),\n",
    "        feed_dict={X: testX, Y: testY})\n",
    "    print(\"Testing cost=\", testing_cost)\n",
    "    print(\"Absolute mean square loss difference:\", abs(trainingLoss - testing_cost))\n",
    "\n",
    "    plt.plot(testX, testY, 'bo', label='Testing data')\n",
    "    plt.plot(trainX, sess.run(W) * trainX + sess.run(b), label='Fitted line')\n",
    "    plt.legend()\n",
    "    plt.show()"
   ]
  },
  {
   "cell_type": "code",
   "execution_count": 17,
   "id": "aa61feca",
   "metadata": {},
   "outputs": [
    {
     "data": {
      "image/png": "[encoded data removed]",
      "text/plain": [
       "<Figure size 640x480 with 1 Axes>"
      ]
     },
     "metadata": {},
     "output_type": "display_data"
    }
   ],
   "source": [
    "xData = np.arange(100, step=.1)\n",
    "yData = xData + 20 * np.sin(xData/10)\n",
    "\n",
    "plt.scatter(xData, yData)\n",
    "plt.show()\n",
    "\n",
    "nSamples = 1000\n",
    "batchSize = 100\n",
    "\n",
    "xData = np.reshape(xData, (nSamples,1))\n",
    "yData = np.reshape(yData, (nSamples,1))\n",
    "\n",
    "x = tf.placeholder(tf.float32, shape=(batchSize, 1))\n",
    "y = tf.placeholder(tf.float32, shape=(batchSize, 1))\n",
    "\n",
    "with tf.variable_scope(\"linearRegression\"):\n",
    " W = tf.get_variable(\"weights\", (1, 1), initializer=tf.random_normal_initializer())\n",
    " b = tf.get_variable(\"bias\", (1,), initializer=tf.constant_initializer(0.0))\n",
    "\n",
    " y_pred = tf.matmul(x, W) + b\n",
    " loss = tf.reduce_sum((y - y_pred)**2/nSamples)\n",
    "\n",
    "opt = tf.train.AdamOptimizer().minimize(loss)\n",
    "with tf.Session() as sess:\n",
    "    sess.run(tf.global_variables_initializer())\n",
    "\n",
    "    for _ in range(500):\n",
    "     indices = np.random.choice(nSamples, batchSize)\n",
    "\n",
    "     X_batch, y_batch = xData[indices], yData[indices]\n",
    "\n",
    "     _, loss_val = sess.run([opt, loss], feed_dict={x: X_batch, y: y_batch})"
   ]
  },
  {
   "cell_type": "code",
   "execution_count": 18,
   "id": "fe9c6316",
   "metadata": {},
   "outputs": [
    {
     "name": "stdout",
     "output_type": "stream",
     "text": [
      "(50000, 28, 28) (50000,)\n"
     ]
    },
    {
     "data": {
      "image/png": "[encoded data removed]",
      "text/plain": [
       "<Figure size 640x480 with 1 Axes>"
      ]
     },
     "metadata": {},
     "output_type": "display_data"
    }
   ],
   "source": [
    "import keras\n",
    "from sklearn.preprocessing import LabelBinarizer\n",
    "%matplotlib inline\n",
    "\n",
    "def load_dataset(flatten=False):\n",
    "    (X_train, y_train), (X_test, y_test) = keras.datasets.mnist.load_data()\n",
    "\n",
    "    X_train = X_train.astype(float) / 255.\n",
    "    X_test = X_test.astype(float) / 255.\n",
    "\n",
    "    X_train, X_val = X_train[:-10000], X_train[-10000:]\n",
    "    y_train, y_val = y_train[:-10000], y_train[-10000:]\n",
    "\n",
    "    if flatten:\n",
    "        X_train = X_train.reshape([X_train.shape[0], -1])\n",
    "        X_val = X_val.reshape([X_val.shape[0], -1])\n",
    "        X_test = X_test.reshape([X_test.shape[0], -1])\n",
    "\n",
    "    return X_train, y_train, X_val, y_val, X_test, y_test\n",
    "\n",
    "X_train, y_train, X_val, y_val, X_test, y_test = load_dataset()\n",
    "print(X_train.shape, y_train.shape)\n",
    "plt.imshow(X_train[1], cmap=\"Greys\");"
   ]
  },
  {
   "cell_type": "code",
   "execution_count": 19,
   "id": "abde20da",
   "metadata": {},
   "outputs": [
    {
     "name": "stdout",
     "output_type": "stream",
     "text": [
      "Train dimension:\n",
      "(50000, 784)\n",
      "Test dimension:\n",
      "(10000, 784)\n",
      "Train labels dimension:\n",
      "(50000, 10)\n",
      "Test labels dimension:\n",
      "(10000, 10)\n"
     ]
    }
   ],
   "source": [
    "X_train = X_train.reshape((X_train.shape[0],X_train.shape[1]*X_train.shape[2]))\n",
    "X_test = X_test.reshape((X_test.shape[0],X_test.shape[1]*X_test.shape[2]))\n",
    "\n",
    "print('Train dimension:');print(X_train.shape)\n",
    "print('Test dimension:');print(X_test.shape)\n",
    "\n",
    "lb = LabelBinarizer()\n",
    "y_train = lb.fit_transform(y_train)\n",
    "y_test = lb.transform(y_test)\n",
    "print('Train labels dimension:');print(y_train.shape)\n",
    "print('Test labels dimension:');print(y_test.shape)"
   ]
  },
  {
   "cell_type": "code",
   "execution_count": 20,
   "id": "a8f2eb6c",
   "metadata": {},
   "outputs": [],
   "source": [
    "from sklearn.metrics import roc_auc_score, accuracy_score\n",
    "s = tf.InteractiveSession()"
   ]
  },
  {
   "cell_type": "code",
   "execution_count": 21,
   "id": "0fb34d5e",
   "metadata": {},
   "outputs": [],
   "source": [
    "num_classes = y_train.shape[1]\n",
    "num_features = X_train.shape[1]\n",
    "num_output = y_train.shape[1]\n",
    "num_layers_0 = 512\n",
    "num_layers_1 = 256\n",
    "starter_learning_rate = 0.001\n",
    "regularizer_rate = 0.1"
   ]
  },
  {
   "cell_type": "code",
   "execution_count": 22,
   "id": "ca99dcd7",
   "metadata": {},
   "outputs": [],
   "source": [
    "input_X = tf.placeholder('float32',shape =(None,num_features),name=\"input_X\")\n",
    "input_y = tf.placeholder('float32',shape = (None,num_classes),name='input_Y')\n",
    "keep_prob = tf.placeholder(tf.float32)"
   ]
  },
  {
   "cell_type": "code",
   "execution_count": 23,
   "id": "4ea93f62",
   "metadata": {},
   "outputs": [],
   "source": [
    "weights_0 = tf.Variable(tf.random_normal([num_features,num_layers_0], stddev=(1/tf.sqrt(float(num_features)))))\n",
    "bias_0 = tf.Variable(tf.random_normal([num_layers_0]))\n",
    "\n",
    "weights_1 = tf.Variable(tf.random_normal([num_layers_0,num_layers_1], stddev=(1/tf.sqrt(float(num_layers_0)))))\n",
    "bias_1 = tf.Variable(tf.random_normal([num_layers_1]))\n",
    "\n",
    "weights_2 = tf.Variable(tf.random_normal([num_layers_1,num_output], stddev=(1/tf.sqrt(float(num_layers_1)))))\n",
    "bias_2 = tf.Variable(tf.random_normal([num_output]))"
   ]
  },
  {
   "cell_type": "code",
   "execution_count": 24,
   "id": "5bcd4477",
   "metadata": {},
   "outputs": [
    {
     "name": "stdout",
     "output_type": "stream",
     "text": [
      "WARNING:tensorflow:From /usr/local/lib/python3.10/site-packages/tensorflow/python/util/dispatch.py:1176: calling dropout (from tensorflow.python.ops.nn_ops) with keep_prob is deprecated and will be removed in a future version.\n",
      "Instructions for updating:\n",
      "Please use `rate` instead of `keep_prob`. Rate should be set to `rate = 1 - keep_prob`.\n"
     ]
    }
   ],
   "source": [
    "hidden_output_0 = tf.nn.relu(tf.matmul(input_X,weights_0)+bias_0)\n",
    "hidden_output_0_0 = tf.nn.dropout(hidden_output_0, keep_prob)\n",
    "\n",
    "hidden_output_1 = tf.nn.relu(tf.matmul(hidden_output_0_0,weights_1)+bias_1)\n",
    "hidden_output_1_1 = tf.nn.dropout(hidden_output_1, keep_prob)\n",
    "\n",
    "predicted_y = tf.sigmoid(tf.matmul(hidden_output_1_1,weights_2) + bias_2)"
   ]
  },
  {
   "cell_type": "code",
   "execution_count": 25,
   "id": "ce033c01",
   "metadata": {},
   "outputs": [],
   "source": [
    "loss = tf.reduce_mean(tf.nn.softmax_cross_entropy_with_logits_v2(logits=predicted_y,labels=input_y)) \\\n",
    "        + regularizer_rate*(tf.reduce_sum(tf.square(bias_0)) + tf.reduce_sum(tf.square(bias_1)))"
   ]
  },
  {
   "cell_type": "code",
   "execution_count": 26,
   "id": "cba5661f",
   "metadata": {},
   "outputs": [],
   "source": [
    "learning_rate = tf.train.exponential_decay(starter_learning_rate, 0, 5, 0.85, staircase=True)\n",
    "optimizer = tf.train.AdamOptimizer(learning_rate).minimize(loss,var_list=[weights_0,weights_1,weights_2,\n",
    "                                                                         bias_0,bias_1,bias_2])"
   ]
  },
  {
   "cell_type": "code",
   "execution_count": 27,
   "id": "48ee531c",
   "metadata": {},
   "outputs": [],
   "source": [
    "learning_rate = tf.train.exponential_decay(starter_learning_rate, 0, 5, 0.85, staircase=True)\n",
    "optimizer = tf.train.AdamOptimizer(learning_rate).minimize(loss,var_list=[weights_0,weights_1,weights_2,\n",
    "                                                                         bias_0,bias_1,bias_2])"
   ]
  },
  {
   "cell_type": "code",
   "execution_count": 34,
   "id": "c08e0a51",
   "metadata": {},
   "outputs": [
    {
     "name": "stderr",
     "output_type": "stream",
     "text": [
      "2023-02-28 06:39:01.559733: W tensorflow/c/c_api.cc:291] Operation '{name:'Variable_5/Adam_3/Assign' id:955 op device:{requested: '', assigned: ''} def:{{{node Variable_5/Adam_3/Assign}} = Assign[T=DT_FLOAT, _class=[\"loc:@Variable_5\"], _has_manual_control_dependencies=true, use_locking=true, validate_shape=true](Variable_5/Adam_3, Variable_5/Adam_3/Initializer/zeros)}}' was changed by setting attribute after it was run by a session. This mutation will have no effect, and will trigger an error in the future. Either don't modify nodes after running them or create a new session.\n"
     ]
    },
    {
     "ename": "NameError",
     "evalue": "name 'accuracy' is not defined",
     "output_type": "error",
     "traceback": [
      "\u001b[0;31m---------------------------------------------------------------------------\u001b[0m",
      "\u001b[0;31mNameError\u001b[0m                                 Traceback (most recent call last)",
      "Cell \u001b[0;32mIn[34], line 17\u001b[0m\n\u001b[1;32m     13\u001b[0m \u001b[38;5;28;01mfor\u001b[39;00m index \u001b[38;5;129;01min\u001b[39;00m \u001b[38;5;28mrange\u001b[39m(\u001b[38;5;241m0\u001b[39m,X_train\u001b[38;5;241m.\u001b[39mshape[\u001b[38;5;241m0\u001b[39m],batch_size):\n\u001b[1;32m     14\u001b[0m     s\u001b[38;5;241m.\u001b[39mrun(optimizer, {input_X: X_train[arr[index:index\u001b[38;5;241m+\u001b[39mbatch_size]],\n\u001b[1;32m     15\u001b[0m                       input_y: y_train[arr[index:index\u001b[38;5;241m+\u001b[39mbatch_size]],\n\u001b[1;32m     16\u001b[0m                     keep_prob:dropout_prob})\n\u001b[0;32m---> 17\u001b[0m training_accuracy\u001b[38;5;241m.\u001b[39mappend(s\u001b[38;5;241m.\u001b[39mrun(\u001b[43maccuracy\u001b[49m, feed_dict\u001b[38;5;241m=\u001b[39m {input_X:X_train, \n\u001b[1;32m     18\u001b[0m                                                      input_y: y_train,keep_prob:\u001b[38;5;241m1\u001b[39m}))\n\u001b[1;32m     19\u001b[0m training_loss\u001b[38;5;241m.\u001b[39mappend(s\u001b[38;5;241m.\u001b[39mrun(loss, {input_X: X_train, \n\u001b[1;32m     20\u001b[0m                                   input_y: y_train,keep_prob:\u001b[38;5;241m1\u001b[39m}))\n\u001b[1;32m     22\u001b[0m testing_accuracy\u001b[38;5;241m.\u001b[39mappend(accuracy_score(y_test\u001b[38;5;241m.\u001b[39margmax(\u001b[38;5;241m1\u001b[39m), \n\u001b[1;32m     23\u001b[0m                         s\u001b[38;5;241m.\u001b[39mrun(predicted_y, {input_X: X_test,keep_prob:\u001b[38;5;241m1\u001b[39m})\u001b[38;5;241m.\u001b[39margmax(\u001b[38;5;241m1\u001b[39m)))\n",
      "\u001b[0;31mNameError\u001b[0m: name 'accuracy' is not defined"
     ]
    }
   ],
   "source": [
    "batch_size = 128\n",
    "epochs=14\n",
    "dropout_prob = 0.6\n",
    "\n",
    "training_accuracy = []\n",
    "training_loss = []\n",
    "testing_accuracy = []\n",
    "\n",
    "s.run(tf.global_variables_initializer())\n",
    "for epoch in range(epochs):    \n",
    "    arr = np.arange(X_train.shape[0])\n",
    "    np.random.shuffle(arr)\n",
    "    for index in range(0,X_train.shape[0],batch_size):\n",
    "        s.run(optimizer, {input_X: X_train[arr[index:index+batch_size]],\n",
    "                          input_y: y_train[arr[index:index+batch_size]],\n",
    "                        keep_prob:dropout_prob})\n",
    "    training_accuracy.append(s.run(accuracy, feed_dict= {input_X:X_train, \n",
    "                                                         input_y: y_train,keep_prob:1}))\n",
    "    training_loss.append(s.run(loss, {input_X: X_train, \n",
    "                                      input_y: y_train,keep_prob:1}))\n",
    "    \n",
    "    testing_accuracy.append(accuracy_score(y_test.argmax(1), \n",
    "                            s.run(predicted_y, {input_X: X_test,keep_prob:1}).argmax(1)))\n",
    "    print(\"Epoch:{0}, Train loss: {1:.2f} Train acc: {2:.3f}, Test acc:{3:.3f}\".format(epoch,\n",
    "                                                                    training_loss[epoch],\n",
    "                                                                    training_accuracy[epoch],\n",
    "                                                                   testing_accuracy[epoch]))"
   ]
  },
  {
   "cell_type": "code",
   "execution_count": 59,
   "id": "4530c845",
   "metadata": {},
   "outputs": [
    {
     "ename": "ValueError",
     "evalue": "x and y must have same first dimension, but have shapes (14,) and (0,)",
     "output_type": "error",
     "traceback": [
      "\u001b[0;31m---------------------------------------------------------------------------\u001b[0m",
      "\u001b[0;31mValueError\u001b[0m                                Traceback (most recent call last)",
      "Cell \u001b[0;32mIn[59], line 2\u001b[0m\n\u001b[1;32m      1\u001b[0m iterations \u001b[38;5;241m=\u001b[39m \u001b[38;5;28mlist\u001b[39m(\u001b[38;5;28mrange\u001b[39m(epochs))\n\u001b[0;32m----> 2\u001b[0m \u001b[43mplt\u001b[49m\u001b[38;5;241;43m.\u001b[39;49m\u001b[43mplot\u001b[49m\u001b[43m(\u001b[49m\u001b[43miterations\u001b[49m\u001b[43m,\u001b[49m\u001b[43m \u001b[49m\u001b[43mtraining_accuracy\u001b[49m\u001b[43m,\u001b[49m\u001b[43m \u001b[49m\u001b[43mlabel\u001b[49m\u001b[38;5;241;43m=\u001b[39;49m\u001b[38;5;124;43m'\u001b[39;49m\u001b[38;5;124;43mTrain\u001b[39;49m\u001b[38;5;124;43m'\u001b[39;49m\u001b[43m)\u001b[49m\n\u001b[1;32m      3\u001b[0m plt\u001b[38;5;241m.\u001b[39mplot(iterations, testing_accuracy, label\u001b[38;5;241m=\u001b[39m\u001b[38;5;124m'\u001b[39m\u001b[38;5;124mTest\u001b[39m\u001b[38;5;124m'\u001b[39m)\n\u001b[1;32m      4\u001b[0m plt\u001b[38;5;241m.\u001b[39mylabel(\u001b[38;5;124m'\u001b[39m\u001b[38;5;124mAccuracy\u001b[39m\u001b[38;5;124m'\u001b[39m)\n",
      "File \u001b[0;32m/usr/local/lib/python3.10/site-packages/matplotlib/pyplot.py:2740\u001b[0m, in \u001b[0;36mplot\u001b[0;34m(scalex, scaley, data, *args, **kwargs)\u001b[0m\n\u001b[1;32m   2738\u001b[0m \u001b[38;5;129m@_copy_docstring_and_deprecators\u001b[39m(Axes\u001b[38;5;241m.\u001b[39mplot)\n\u001b[1;32m   2739\u001b[0m \u001b[38;5;28;01mdef\u001b[39;00m \u001b[38;5;21mplot\u001b[39m(\u001b[38;5;241m*\u001b[39margs, scalex\u001b[38;5;241m=\u001b[39m\u001b[38;5;28;01mTrue\u001b[39;00m, scaley\u001b[38;5;241m=\u001b[39m\u001b[38;5;28;01mTrue\u001b[39;00m, data\u001b[38;5;241m=\u001b[39m\u001b[38;5;28;01mNone\u001b[39;00m, \u001b[38;5;241m*\u001b[39m\u001b[38;5;241m*\u001b[39mkwargs):\n\u001b[0;32m-> 2740\u001b[0m     \u001b[38;5;28;01mreturn\u001b[39;00m \u001b[43mgca\u001b[49m\u001b[43m(\u001b[49m\u001b[43m)\u001b[49m\u001b[38;5;241;43m.\u001b[39;49m\u001b[43mplot\u001b[49m\u001b[43m(\u001b[49m\n\u001b[1;32m   2741\u001b[0m \u001b[43m        \u001b[49m\u001b[38;5;241;43m*\u001b[39;49m\u001b[43margs\u001b[49m\u001b[43m,\u001b[49m\u001b[43m \u001b[49m\u001b[43mscalex\u001b[49m\u001b[38;5;241;43m=\u001b[39;49m\u001b[43mscalex\u001b[49m\u001b[43m,\u001b[49m\u001b[43m \u001b[49m\u001b[43mscaley\u001b[49m\u001b[38;5;241;43m=\u001b[39;49m\u001b[43mscaley\u001b[49m\u001b[43m,\u001b[49m\n\u001b[1;32m   2742\u001b[0m \u001b[43m        \u001b[49m\u001b[38;5;241;43m*\u001b[39;49m\u001b[38;5;241;43m*\u001b[39;49m\u001b[43m(\u001b[49m\u001b[43m{\u001b[49m\u001b[38;5;124;43m\"\u001b[39;49m\u001b[38;5;124;43mdata\u001b[39;49m\u001b[38;5;124;43m\"\u001b[39;49m\u001b[43m:\u001b[49m\u001b[43m \u001b[49m\u001b[43mdata\u001b[49m\u001b[43m}\u001b[49m\u001b[43m \u001b[49m\u001b[38;5;28;43;01mif\u001b[39;49;00m\u001b[43m \u001b[49m\u001b[43mdata\u001b[49m\u001b[43m \u001b[49m\u001b[38;5;129;43;01mis\u001b[39;49;00m\u001b[43m \u001b[49m\u001b[38;5;129;43;01mnot\u001b[39;49;00m\u001b[43m \u001b[49m\u001b[38;5;28;43;01mNone\u001b[39;49;00m\u001b[43m \u001b[49m\u001b[38;5;28;43;01melse\u001b[39;49;00m\u001b[43m \u001b[49m\u001b[43m{\u001b[49m\u001b[43m}\u001b[49m\u001b[43m)\u001b[49m\u001b[43m,\u001b[49m\u001b[43m \u001b[49m\u001b[38;5;241;43m*\u001b[39;49m\u001b[38;5;241;43m*\u001b[39;49m\u001b[43mkwargs\u001b[49m\u001b[43m)\u001b[49m\n",
      "File \u001b[0;32m/usr/local/lib/python3.10/site-packages/matplotlib/axes/_axes.py:1662\u001b[0m, in \u001b[0;36mAxes.plot\u001b[0;34m(self, scalex, scaley, data, *args, **kwargs)\u001b[0m\n\u001b[1;32m   1419\u001b[0m \u001b[38;5;250m\u001b[39m\u001b[38;5;124;03m\"\"\"\u001b[39;00m\n\u001b[1;32m   1420\u001b[0m \u001b[38;5;124;03mPlot y versus x as lines and/or markers.\u001b[39;00m\n\u001b[1;32m   1421\u001b[0m \n\u001b[0;32m   (...)\u001b[0m\n\u001b[1;32m   1659\u001b[0m \u001b[38;5;124;03m(``'green'``) or hex strings (``'#008000'``).\u001b[39;00m\n\u001b[1;32m   1660\u001b[0m \u001b[38;5;124;03m\"\"\"\u001b[39;00m\n\u001b[1;32m   1661\u001b[0m kwargs \u001b[38;5;241m=\u001b[39m cbook\u001b[38;5;241m.\u001b[39mnormalize_kwargs(kwargs, mlines\u001b[38;5;241m.\u001b[39mLine2D)\n\u001b[0;32m-> 1662\u001b[0m lines \u001b[38;5;241m=\u001b[39m [\u001b[38;5;241m*\u001b[39m\u001b[38;5;28mself\u001b[39m\u001b[38;5;241m.\u001b[39m_get_lines(\u001b[38;5;241m*\u001b[39margs, data\u001b[38;5;241m=\u001b[39mdata, \u001b[38;5;241m*\u001b[39m\u001b[38;5;241m*\u001b[39mkwargs)]\n\u001b[1;32m   1663\u001b[0m \u001b[38;5;28;01mfor\u001b[39;00m line \u001b[38;5;129;01min\u001b[39;00m lines:\n\u001b[1;32m   1664\u001b[0m     \u001b[38;5;28mself\u001b[39m\u001b[38;5;241m.\u001b[39madd_line(line)\n",
      "File \u001b[0;32m/usr/local/lib/python3.10/site-packages/matplotlib/axes/_base.py:311\u001b[0m, in \u001b[0;36m_process_plot_var_args.__call__\u001b[0;34m(self, data, *args, **kwargs)\u001b[0m\n\u001b[1;32m    309\u001b[0m     this \u001b[38;5;241m+\u001b[39m\u001b[38;5;241m=\u001b[39m args[\u001b[38;5;241m0\u001b[39m],\n\u001b[1;32m    310\u001b[0m     args \u001b[38;5;241m=\u001b[39m args[\u001b[38;5;241m1\u001b[39m:]\n\u001b[0;32m--> 311\u001b[0m \u001b[38;5;28;01myield from\u001b[39;00m \u001b[38;5;28;43mself\u001b[39;49m\u001b[38;5;241;43m.\u001b[39;49m\u001b[43m_plot_args\u001b[49m\u001b[43m(\u001b[49m\n\u001b[1;32m    312\u001b[0m \u001b[43m    \u001b[49m\u001b[43mthis\u001b[49m\u001b[43m,\u001b[49m\u001b[43m \u001b[49m\u001b[43mkwargs\u001b[49m\u001b[43m,\u001b[49m\u001b[43m \u001b[49m\u001b[43mambiguous_fmt_datakey\u001b[49m\u001b[38;5;241;43m=\u001b[39;49m\u001b[43mambiguous_fmt_datakey\u001b[49m\u001b[43m)\u001b[49m\n",
      "File \u001b[0;32m/usr/local/lib/python3.10/site-packages/matplotlib/axes/_base.py:504\u001b[0m, in \u001b[0;36m_process_plot_var_args._plot_args\u001b[0;34m(self, tup, kwargs, return_kwargs, ambiguous_fmt_datakey)\u001b[0m\n\u001b[1;32m    501\u001b[0m     \u001b[38;5;28mself\u001b[39m\u001b[38;5;241m.\u001b[39maxes\u001b[38;5;241m.\u001b[39myaxis\u001b[38;5;241m.\u001b[39mupdate_units(y)\n\u001b[1;32m    503\u001b[0m \u001b[38;5;28;01mif\u001b[39;00m x\u001b[38;5;241m.\u001b[39mshape[\u001b[38;5;241m0\u001b[39m] \u001b[38;5;241m!=\u001b[39m y\u001b[38;5;241m.\u001b[39mshape[\u001b[38;5;241m0\u001b[39m]:\n\u001b[0;32m--> 504\u001b[0m     \u001b[38;5;28;01mraise\u001b[39;00m \u001b[38;5;167;01mValueError\u001b[39;00m(\u001b[38;5;124mf\u001b[39m\u001b[38;5;124m\"\u001b[39m\u001b[38;5;124mx and y must have same first dimension, but \u001b[39m\u001b[38;5;124m\"\u001b[39m\n\u001b[1;32m    505\u001b[0m                      \u001b[38;5;124mf\u001b[39m\u001b[38;5;124m\"\u001b[39m\u001b[38;5;124mhave shapes \u001b[39m\u001b[38;5;132;01m{\u001b[39;00mx\u001b[38;5;241m.\u001b[39mshape\u001b[38;5;132;01m}\u001b[39;00m\u001b[38;5;124m and \u001b[39m\u001b[38;5;132;01m{\u001b[39;00my\u001b[38;5;241m.\u001b[39mshape\u001b[38;5;132;01m}\u001b[39;00m\u001b[38;5;124m\"\u001b[39m)\n\u001b[1;32m    506\u001b[0m \u001b[38;5;28;01mif\u001b[39;00m x\u001b[38;5;241m.\u001b[39mndim \u001b[38;5;241m>\u001b[39m \u001b[38;5;241m2\u001b[39m \u001b[38;5;129;01mor\u001b[39;00m y\u001b[38;5;241m.\u001b[39mndim \u001b[38;5;241m>\u001b[39m \u001b[38;5;241m2\u001b[39m:\n\u001b[1;32m    507\u001b[0m     \u001b[38;5;28;01mraise\u001b[39;00m \u001b[38;5;167;01mValueError\u001b[39;00m(\u001b[38;5;124mf\u001b[39m\u001b[38;5;124m\"\u001b[39m\u001b[38;5;124mx and y can be no greater than 2D, but have \u001b[39m\u001b[38;5;124m\"\u001b[39m\n\u001b[1;32m    508\u001b[0m                      \u001b[38;5;124mf\u001b[39m\u001b[38;5;124m\"\u001b[39m\u001b[38;5;124mshapes \u001b[39m\u001b[38;5;132;01m{\u001b[39;00mx\u001b[38;5;241m.\u001b[39mshape\u001b[38;5;132;01m}\u001b[39;00m\u001b[38;5;124m and \u001b[39m\u001b[38;5;132;01m{\u001b[39;00my\u001b[38;5;241m.\u001b[39mshape\u001b[38;5;132;01m}\u001b[39;00m\u001b[38;5;124m\"\u001b[39m)\n",
      "\u001b[0;31mValueError\u001b[0m: x and y must have same first dimension, but have shapes (14,) and (0,)"
     ]
    },
    {
     "data": {
      "image/png": "[encoded data removed]",
      "text/plain": [
       "<Figure size 640x480 with 1 Axes>"
      ]
     },
     "metadata": {},
     "output_type": "display_data"
    }
   ],
   "source": [
    "iterations = list(range(epochs))\n",
    "plt.plot(iterations, training_accuracy, label='Train')\n",
    "plt.plot(iterations, testing_accuracy, label='Test')\n",
    "plt.ylabel('Accuracy')\n",
    "plt.xlabel('iterations')\n",
    "plt.show()\n",
    "print(\"Train Accuracy: {0:.2f}\".format(training_accuracy[-1]))\n",
    "print(\"Test Accuracy:{0:.2f}\".format(testing_accuracy[-1]))"
   ]
  },
  {
   "cell_type": "code",
   "execution_count": 35,
   "id": "246c22eb",
   "metadata": {},
   "outputs": [
    {
     "name": "stdout",
     "output_type": "stream",
     "text": [
      "\u001b[31mERROR: Could not find a version that satisfies the requirement tensorflow-quantum (from versions: none)\u001b[0m\u001b[31m\r\n",
      "\u001b[0m\u001b[31mERROR: No matching distribution found for tensorflow-quantum\u001b[0m\u001b[31m\r\n",
      "\u001b[0m"
     ]
    }
   ],
   "source": []
  },
  {
   "cell_type": "code",
   "execution_count": null,
   "id": "50c1675b",
   "metadata": {},
   "outputs": [],
   "source": []
  }
 ],
 "metadata": {
  "kernelspec": {
   "display_name": "Python 3 (ipykernel)",
   "language": "python",
   "name": "python3"
  },
  "language_info": {
   "codemirror_mode": {
    "name": "ipython",
    "version": 3
   },
   "file_extension": ".py",
   "mimetype": "text/x-python",
   "name": "python",
   "nbconvert_exporter": "python",
   "pygments_lexer": "ipython3",
   "version": "3.10.10"
  }
 },
 "nbformat": 4,
 "nbformat_minor": 5
}
