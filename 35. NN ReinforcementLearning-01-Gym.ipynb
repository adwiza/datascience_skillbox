{
 "cells": [
  {
   "cell_type": "code",
   "execution_count": 1,
   "id": "9c9ebcee",
   "metadata": {},
   "outputs": [
    {
     "name": "stdout",
     "output_type": "stream",
     "text": [
      "2.12.0\n"
     ]
    }
   ],
   "source": [
    "import codecs\n",
    "import tensorflow as tf\n",
    "import gym\n",
    "import numpy as np\n",
    "\n",
    "print(tf.__version__)\n",
    "\n",
    "import matplotlib.pyplot as plt\n",
    "%matplotlib inline"
   ]
  },
  {
   "cell_type": "markdown",
   "id": "f846fecb",
   "metadata": {},
   "source": [
    "# Создание игровой среды"
   ]
  },
  {
   "cell_type": "code",
   "execution_count": 2,
   "id": "1254bd78",
   "metadata": {},
   "outputs": [
    {
     "name": "stdout",
     "output_type": "stream",
     "text": [
      "States: 16\n",
      "Actions: 4\n"
     ]
    }
   ],
   "source": [
    "env = gym.make('FrozenLake-v1',  render_mode=\"rgb_array\", is_slippery=False)\n",
    "NUM_STATES = env.observation_space.n\n",
    "NUM_ACTIONS = env.action_space.n\n",
    "\n",
    "print(f'States: {NUM_STATES}')\n",
    "print(f'Actions: {NUM_ACTIONS}')"
   ]
  },
  {
   "cell_type": "markdown",
   "id": "db22e73c",
   "metadata": {},
   "source": [
    "# Основные функции Gym\n",
    "\n",
    "С помощью env.reset() можно перезапустить среду в исходное состояние (начало эпизода). Эта функция так же вернет\n",
    "начальное состояние.\n",
    "\n",
    "В нашем случае состояние это просто число -- индекс соответствующей ячейки, где находится робот."
   ]
  },
  {
   "cell_type": "code",
   "execution_count": 3,
   "id": "ef957a39",
   "metadata": {},
   "outputs": [
    {
     "name": "stdout",
     "output_type": "stream",
     "text": [
      "(0, {'prob': 1})\n"
     ]
    }
   ],
   "source": [
    "s = env.reset()\n",
    "print(s)"
   ]
  },
  {
   "cell_type": "markdown",
   "id": "4f58531d",
   "metadata": {},
   "source": [
    "С помощью функции env.render() можно визуализировать текущее состояние среды. В Colab это не всегда можно сделать\n",
    "довольно просто (в случае сложных симуляций), но в случае Frozen Lake это просто напечатанный текст с нашим полем 4х4\n",
    "S - start, F-frozen, H-hole, G-goal. Маркером указано положение робота."
   ]
  },
  {
   "cell_type": "code",
   "execution_count": 4,
   "id": "51193bff",
   "metadata": {},
   "outputs": [
    {
     "data": {
      "text/plain": [
       "array([[[180, 200, 230],\n",
       "        [180, 200, 230],\n",
       "        [180, 200, 230],\n",
       "        ...,\n",
       "        [180, 200, 230],\n",
       "        [180, 200, 230],\n",
       "        [180, 200, 230]],\n",
       "\n",
       "       [[180, 200, 230],\n",
       "        [204, 230, 255],\n",
       "        [204, 230, 255],\n",
       "        ...,\n",
       "        [204, 230, 255],\n",
       "        [204, 230, 255],\n",
       "        [180, 200, 230]],\n",
       "\n",
       "       [[180, 200, 230],\n",
       "        [235, 245, 249],\n",
       "        [204, 230, 255],\n",
       "        ...,\n",
       "        [204, 230, 255],\n",
       "        [204, 230, 255],\n",
       "        [180, 200, 230]],\n",
       "\n",
       "       ...,\n",
       "\n",
       "       [[180, 200, 230],\n",
       "        [235, 245, 249],\n",
       "        [235, 245, 249],\n",
       "        ...,\n",
       "        [204, 230, 255],\n",
       "        [235, 245, 249],\n",
       "        [180, 200, 230]],\n",
       "\n",
       "       [[180, 200, 230],\n",
       "        [235, 245, 249],\n",
       "        [235, 245, 249],\n",
       "        ...,\n",
       "        [204, 230, 255],\n",
       "        [204, 230, 255],\n",
       "        [180, 200, 230]],\n",
       "\n",
       "       [[180, 200, 230],\n",
       "        [180, 200, 230],\n",
       "        [180, 200, 230],\n",
       "        ...,\n",
       "        [180, 200, 230],\n",
       "        [180, 200, 230],\n",
       "        [180, 200, 230]]], dtype=uint8)"
      ]
     },
     "execution_count": 4,
     "metadata": {},
     "output_type": "execute_result"
    }
   ],
   "source": [
    "env.render()"
   ]
  },
  {
   "cell_type": "markdown",
   "id": "35ce83d7",
   "metadata": {},
   "source": [
    "Действия так же кодируются соответствующим индексом. Можно, например, выбрать случайное действие с помощью функции\n",
    "env.action_space.sample()"
   ]
  },
  {
   "cell_type": "code",
   "execution_count": 5,
   "id": "bcb0d311",
   "metadata": {},
   "outputs": [
    {
     "name": "stdout",
     "output_type": "stream",
     "text": [
      "3\n"
     ]
    }
   ],
   "source": [
    "a = env.action_space.sample()\n",
    "print(a)"
   ]
  },
  {
   "cell_type": "markdown",
   "id": "cf7dd6e9",
   "metadata": {},
   "source": [
    "Чтобы совершить действие a нужно вызвать функцию env.step(a). Эта функция вернет новое состояние (s1), в которое мы\n",
    "перешли, награду r, информацию о том, завершилась ли игра (done) и другую менее важную информацию."
   ]
  },
  {
   "cell_type": "code",
   "execution_count": 6,
   "id": "6f927c55",
   "metadata": {},
   "outputs": [
    {
     "name": "stdout",
     "output_type": "stream",
     "text": [
      "New state: 0\n",
      "Reward: 0.0\n",
      "Done False\n"
     ]
    }
   ],
   "source": [
    "s1, r, done, _ = env.step(a)[:4]\n",
    "\n",
    "print('New state:', s1)\n",
    "print('Reward:', r)\n",
    "print('Done', done)"
   ]
  },
  {
   "cell_type": "code",
   "execution_count": 7,
   "id": "69d79e6d",
   "metadata": {
    "scrolled": true
   },
   "outputs": [
    {
     "data": {
      "text/plain": [
       "array([[[180, 200, 230],\n",
       "        [180, 200, 230],\n",
       "        [180, 200, 230],\n",
       "        ...,\n",
       "        [180, 200, 230],\n",
       "        [180, 200, 230],\n",
       "        [180, 200, 230]],\n",
       "\n",
       "       [[180, 200, 230],\n",
       "        [204, 230, 255],\n",
       "        [204, 230, 255],\n",
       "        ...,\n",
       "        [204, 230, 255],\n",
       "        [204, 230, 255],\n",
       "        [180, 200, 230]],\n",
       "\n",
       "       [[180, 200, 230],\n",
       "        [235, 245, 249],\n",
       "        [204, 230, 255],\n",
       "        ...,\n",
       "        [204, 230, 255],\n",
       "        [204, 230, 255],\n",
       "        [180, 200, 230]],\n",
       "\n",
       "       ...,\n",
       "\n",
       "       [[180, 200, 230],\n",
       "        [235, 245, 249],\n",
       "        [235, 245, 249],\n",
       "        ...,\n",
       "        [204, 230, 255],\n",
       "        [235, 245, 249],\n",
       "        [180, 200, 230]],\n",
       "\n",
       "       [[180, 200, 230],\n",
       "        [235, 245, 249],\n",
       "        [235, 245, 249],\n",
       "        ...,\n",
       "        [204, 230, 255],\n",
       "        [204, 230, 255],\n",
       "        [180, 200, 230]],\n",
       "\n",
       "       [[180, 200, 230],\n",
       "        [180, 200, 230],\n",
       "        [180, 200, 230],\n",
       "        ...,\n",
       "        [180, 200, 230],\n",
       "        [180, 200, 230],\n",
       "        [180, 200, 230]]], dtype=uint8)"
      ]
     },
     "execution_count": 7,
     "metadata": {},
     "output_type": "execute_result"
    }
   ],
   "source": [
    "env.render()"
   ]
  },
  {
   "cell_type": "markdown",
   "id": "2adba4e2",
   "metadata": {},
   "source": [
    "# Запуск симуляции\n",
    "Теперь у нас есть все знания, чтобы сыграть целый игровой эпизод с помощью Gym. Сначала встаем в стартовую позицию\n",
    "env.reset(). Потом в цикле совершаем шаги и рисуем промежуточные состояния с помощью env.render(). На каждом шаге нам\n",
    "как-то надо выбрать действие. Выбор действи обернем в функцию a = policy(s). В идеале мы должны руководствоваться некой стратегией,\n",
    "но в этом простом примере будем выбирать случайные действия a. После выбора действия a делаем шаг env.step(a) (сообщаем среде наше желание сделать действие). Если после определенного шага среда вернула done=True, значит произошел конец эпизода (упали в яму или дошли до цели). Если мы дошли до цели, то на последнем шаге мы должны были получить ненулевую награду."
   ]
  },
  {
   "cell_type": "code",
   "execution_count": 8,
   "id": "aebf658e",
   "metadata": {},
   "outputs": [
    {
     "name": "stdout",
     "output_type": "stream",
     "text": [
      "Reward = 0.0\n",
      "Reward = 0.0\n",
      "Reward = 0.0\n",
      "Reward = 0.0\n",
      "Reward = 0.0\n",
      "Reward = 0.0\n",
      "Reward = 0.0\n",
      "Reward = 0.0\n",
      "Reward = 0.0\n",
      "Reward = 0.0\n",
      "Reward = 0.0\n",
      "Reward = 0.0\n",
      "Reward = 0.0\n",
      "Final reward = 0.0\n"
     ]
    }
   ],
   "source": [
    "def policy(s):\n",
    "    a = env.action_space.sample() # случаная стратегия\n",
    "    return a\n",
    "\n",
    "s = env.reset()\n",
    "\n",
    "for _ in range(100):\n",
    "    env.render()\n",
    "    a = policy(s)\n",
    "    s, r, done, _ = env.step(a)[:4]\n",
    "    print('Reward = {}'.format(r))\n",
    "    if done:\n",
    "        env.render()\n",
    "        print('Final reward = {}'.format(r))\n",
    "        break\n",
    "        \n",
    "env.close()        \n",
    "    "
   ]
  }
 ],
 "metadata": {
  "kernelspec": {
   "display_name": "Python 3 (ipykernel)",
   "language": "python",
   "name": "python3"
  },
  "language_info": {
   "codemirror_mode": {
    "name": "ipython",
    "version": 3
   },
   "file_extension": ".py",
   "mimetype": "text/x-python",
   "name": "python",
   "nbconvert_exporter": "python",
   "pygments_lexer": "ipython3",
   "version": "3.8.12"
  },
  "toc": {
   "base_numbering": 1,
   "nav_menu": {},
   "number_sections": true,
   "sideBar": true,
   "skip_h1_title": false,
   "title_cell": "Table of Contents",
   "title_sidebar": "Contents",
   "toc_cell": false,
   "toc_position": {},
   "toc_section_display": true,
   "toc_window_display": false
  }
 },
 "nbformat": 4,
 "nbformat_minor": 5
}
