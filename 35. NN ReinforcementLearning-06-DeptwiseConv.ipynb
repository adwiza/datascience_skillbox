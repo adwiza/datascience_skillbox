{
 "cells": [
  {
   "cell_type": "markdown",
   "id": "46f7050c",
   "metadata": {},
   "source": [
    "# Реализация поканальной сепарабельной свертки\n",
    "Создадим модель свёрточной нейронной сети (с обычными свёрточными слоями), а затем заменим в ней некоторые сверточные слои\n",
    "на поканальные сепарабельные свертки.\n",
    "Затем мы сравним две полученные сети (исходную и оптимизированную) по скорости работы.\n",
    "Так как здесь нас волнует лишь скорость работы нейросетей и измерить мы это можем со случайными весами и случайным входом.\n",
    "обойдёмся без обучения этих моделей."
   ]
  },
  {
   "cell_type": "code",
   "execution_count": 1,
   "id": "5827c911",
   "metadata": {},
   "outputs": [],
   "source": [
    "import numpy as np\n",
    "import tensorflow as tf"
   ]
  },
  {
   "cell_type": "markdown",
   "id": "b0c698a6",
   "metadata": {},
   "source": [
    "# Создание обычной сверточной нейронной сети\n",
    "Создадим обычную Sequential свёрточную нейросеть для классификации с использованием большого количества свёрточных слоёв."
   ]
  },
  {
   "cell_type": "code",
   "execution_count": 6,
   "id": "a50994f5",
   "metadata": {},
   "outputs": [],
   "source": [
    "model1 = tf.keras.Sequential([\n",
    "    tf.keras.layers.Conv2D(32, (5, 5), padding='same', activation='relu'),\n",
    "    tf.keras.layers.Conv2D(32, (5, 5), padding='same', activation='relu'),\n",
    "    tf.keras.layers.Conv2D(32, (5, 5), padding='same', activation='relu'),\n",
    "    \n",
    "    tf.keras.layers.MaxPool2D((2, 2)),\n",
    "    \n",
    "    tf.keras.layers.Conv2D(64, (5, 5), padding='same', activation='relu'),\n",
    "    tf.keras.layers.Conv2D(64, (5, 5), padding='same', activation='relu'),\n",
    "    tf.keras.layers.Conv2D(64, (5, 5), padding='same', activation='relu'),\n",
    "    \n",
    "    tf.keras.layers.MaxPool2D((2, 2)),\n",
    "    \n",
    "    tf.keras.layers.Conv2D(128, (5, 5), padding='same', activation='relu'),\n",
    "    tf.keras.layers.Conv2D(128, (5, 5), padding='same', activation='relu'),\n",
    "    tf.keras.layers.Conv2D(128, (5, 5), padding='same', activation='relu'),\n",
    "    \n",
    "    tf.keras.layers.MaxPool2D((2, 2)),\n",
    "    \n",
    "    tf.keras.layers.Flatten(),\n",
    "    tf.keras.layers.Dense(256, activation='relu'),\n",
    "    tf.keras.layers.Dense(256, activation='relu'),\n",
    "    tf.keras.layers.Dense(256, activation='relu'),\n",
    "    tf.keras.layers.Dense(10, activation='softmax'),\n",
    "\n",
    "])\n",
    "\n",
    "# Warm-up\n",
    "_ = model1(np.random.rand(1, 512, 512, 3).astype(np.float32))"
   ]
  },
  {
   "cell_type": "markdown",
   "id": "d4835376",
   "metadata": {},
   "source": [
    "# Создание свёрточной сети с использованием поканальных сепарабельных свёеток\n",
    "Теперь создадим другую похожую модель,  где заменим часть сверточных слоёв на поканальные сепарабельные свертки (depth-wise\n",
    "conv + conv1x1).\n",
    "Однако, не все свёрточные слои имеет смысл заменять на комбинацию двух свёрточных слоёв, така как не всегда это будет в итоге\n",
    "быстрее.\n",
    "Например, ранние свёртки с 32 и 64 каналами будут работать и так достаточно быстро и не получится добыть большое ускорение за счёт\n",
    "depth-wise свёрток.\n",
    "А вот сверточные слои с 128 каналами (в данном конкретном примере) заменить можно. Всё это следует из эксперементов (надо\n",
    "попробовать по-разному и сравнить время работы).\n",
    "Поканальная свертка реализуется слоем DepthwiseConv2D. Он похож на обычный свёрточный слой, но у него в параметрах отсутвтвует\n",
    "количество выходных каналов."
   ]
  },
  {
   "cell_type": "code",
   "execution_count": 9,
   "id": "3d988b90",
   "metadata": {},
   "outputs": [],
   "source": [
    "model2 = tf.keras.Sequential([\n",
    "    tf.keras.layers.Conv2D(32, (5, 5), padding='same', activation='relu'),\n",
    "    tf.keras.layers.Conv2D(32, (5, 5), padding='same', activation='relu'),\n",
    "    tf.keras.layers.Conv2D(32, (5, 5), padding='same', activation='relu'),\n",
    "    \n",
    "    tf.keras.layers.MaxPool2D((2, 2)),\n",
    "    \n",
    "    tf.keras.layers.Conv2D(64, (5, 5), padding='same', activation='relu'),\n",
    "    tf.keras.layers.Conv2D(64, (5, 5), padding='same', activation='relu'),\n",
    "    tf.keras.layers.Conv2D(64, (5, 5), padding='same', activation='relu'),\n",
    "    \n",
    "    tf.keras.layers.MaxPool2D((2, 2)),\n",
    "    \n",
    "    tf.keras.layers.Conv2D(128, (5, 5), padding='same', activation='relu'),\n",
    "    tf.keras.layers.DepthwiseConv2D((5, 5), padding='same', activation='relu'),\n",
    "    tf.keras.layers.Conv2D(128, (1, 1), padding='same', activation='relu'),\n",
    "    tf.keras.layers.DepthwiseConv2D((5, 5), padding='same', activation='relu'),\n",
    "    tf.keras.layers.Conv2D(128, (1, 1), padding='same', activation='relu'),\n",
    "    \n",
    "    tf.keras.layers.MaxPool2D((2, 2)),\n",
    "    \n",
    "    tf.keras.layers.Flatten(),\n",
    "    tf.keras.layers.Dense(256, activation='relu'),\n",
    "    tf.keras.layers.Dense(256, activation='relu'),\n",
    "    tf.keras.layers.Dense(256, activation='relu'),\n",
    "    tf.keras.layers.Dense(10, activation='softmax'),\n",
    "\n",
    "])\n",
    "\n",
    "# Warm-up\n",
    "_ = model2(np.random.rand(1, 512, 512, 3).astype(np.float32))"
   ]
  },
  {
   "cell_type": "markdown",
   "id": "d35a03b3",
   "metadata": {},
   "source": [
    "# Сравнение скорости работы двух моделей\n",
    "Запустим инференс для обеих моделей со случайным входом и узнаем среднюю скорость работы каждой из моделей с помощью\n",
    "магической команды ```%%timeit```"
   ]
  },
  {
   "cell_type": "code",
   "execution_count": 11,
   "id": "cae135e7",
   "metadata": {},
   "outputs": [
    {
     "name": "stdout",
     "output_type": "stream",
     "text": [
      "51.9 ms ± 101 µs per loop (mean ± std. dev. of 10 runs, 10 loops each)\n"
     ]
    }
   ],
   "source": [
    "%%timeit -n 10 -r 10\n",
    "q = model1(np.random.rand(1, 512, 512, 3).astype(np.float32))"
   ]
  },
  {
   "cell_type": "code",
   "execution_count": 12,
   "id": "49000748",
   "metadata": {},
   "outputs": [
    {
     "name": "stdout",
     "output_type": "stream",
     "text": [
      "45 ms ± 304 µs per loop (mean ± std. dev. of 10 runs, 10 loops each)\n"
     ]
    }
   ],
   "source": [
    "%%timeit -n 10 -r 10\n",
    "q = model2(np.random.rand(1, 512, 512, 3).astype(np.float32))"
   ]
  },
  {
   "cell_type": "markdown",
   "id": "5fc718a8",
   "metadata": {},
   "source": [
    "Модель с сепарабельными поканальными свертками получилась быстрее."
   ]
  },
  {
   "cell_type": "code",
   "execution_count": 13,
   "id": "fae7049b",
   "metadata": {},
   "outputs": [
    {
     "data": {
      "text/plain": [
       "<matplotlib.image.AxesImage at 0x36a073550>"
      ]
     },
     "execution_count": 13,
     "metadata": {},
     "output_type": "execute_result"
    },
    {
     "data": {
      "image/png": "[encoded data removed]",
      "text/plain": [
       "<Figure size 640x480 with 1 Axes>"
      ]
     },
     "metadata": {},
     "output_type": "display_data"
    }
   ],
   "source": [
    "import matplotlib.pyplot as plt\n",
    "\n",
    "# пример случайной таблицы\n",
    "matrix = np.random.rand(6, 6)\n",
    "\n",
    "# цвет характеризует величину\n",
    "plt.imshow(matrix)"
   ]
  }
 ],
 "metadata": {
  "kernelspec": {
   "display_name": "Python 3 (ipykernel)",
   "language": "python",
   "name": "python3"
  },
  "language_info": {
   "codemirror_mode": {
    "name": "ipython",
    "version": 3
   },
   "file_extension": ".py",
   "mimetype": "text/x-python",
   "name": "python",
   "nbconvert_exporter": "python",
   "pygments_lexer": "ipython3",
   "version": "3.8.12"
  },
  "toc": {
   "base_numbering": 1,
   "nav_menu": {},
   "number_sections": true,
   "sideBar": true,
   "skip_h1_title": false,
   "title_cell": "Table of Contents",
   "title_sidebar": "Contents",
   "toc_cell": false,
   "toc_position": {},
   "toc_section_display": true,
   "toc_window_display": false
  }
 },
 "nbformat": 4,
 "nbformat_minor": 5
}
