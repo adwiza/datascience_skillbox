{
 "cells": [
  {
   "cell_type": "code",
   "execution_count": 1,
   "id": "bf54426c",
   "metadata": {},
   "outputs": [
    {
     "name": "stderr",
     "output_type": "stream",
     "text": [
      "[nltk_data] Downloading package punkt to /Users/adwiz/nltk_data...\n",
      "[nltk_data]   Package punkt is already up-to-date!\n",
      "[nltk_data] Downloading package averaged_perceptron_tagger to\n",
      "[nltk_data]     /Users/adwiz/nltk_data...\n",
      "[nltk_data]   Package averaged_perceptron_tagger is already up-to-\n",
      "[nltk_data]       date!\n",
      "[nltk_data] Downloading package wordnet to /Users/adwiz/nltk_data...\n",
      "[nltk_data]   Package wordnet is already up-to-date!\n"
     ]
    }
   ],
   "source": [
    "import pandas as pd\n",
    "import numpy as np\n",
    "import matplotlib.pyplot as plt\n",
    "%matplotlib inline\n",
    "import seaborn as sns\n",
    "#for text pre-processing\n",
    "import re, string\n",
    "import nltk\n",
    "from nltk.tokenize import word_tokenize\n",
    "from nltk.corpus import stopwords\n",
    "from nltk.tokenize import word_tokenize\n",
    "from nltk.stem import SnowballStemmer\n",
    "from nltk.corpus import wordnet\n",
    "from nltk.stem import WordNetLemmatizer\n",
    "nltk.download('punkt')\n",
    "nltk.download('averaged_perceptron_tagger')\n",
    "nltk.download('wordnet')\n",
    "#for model-building\n",
    "from sklearn.model_selection import train_test_split\n",
    "from sklearn.linear_model import LogisticRegression\n",
    "from sklearn.naive_bayes import MultinomialNB\n",
    "from sklearn.metrics import classification_report, f1_score, accuracy_score, confusion_matrix\n",
    "from sklearn.metrics import roc_curve, auc, roc_auc_score, cohen_kappa_score\n",
    "# bag of words\n",
    "from sklearn.feature_extraction.text import TfidfVectorizer\n",
    "from sklearn.feature_extraction.text import CountVectorizer\n",
    "#for word embedding\n",
    "import gensim\n",
    "from gensim.models import Word2Vec\n",
    "\n",
    "import warnings\n",
    "warnings.filterwarnings('ignore')"
   ]
  },
  {
   "cell_type": "code",
   "execution_count": 2,
   "id": "283f9ff3",
   "metadata": {},
   "outputs": [
    {
     "name": "stdout",
     "output_type": "stream",
     "text": [
      "dimension:  (86439, 2)\n"
     ]
    },
    {
     "data": {
      "text/html": [
       "<div>\n",
       "<style scoped>\n",
       "    .dataframe tbody tr th:only-of-type {\n",
       "        vertical-align: middle;\n",
       "    }\n",
       "\n",
       "    .dataframe tbody tr th {\n",
       "        vertical-align: top;\n",
       "    }\n",
       "\n",
       "    .dataframe thead th {\n",
       "        text-align: right;\n",
       "    }\n",
       "</style>\n",
       "<table border=\"1\" class=\"dataframe\">\n",
       "  <thead>\n",
       "    <tr style=\"text-align: right;\">\n",
       "      <th></th>\n",
       "      <th>text</th>\n",
       "      <th>labels</th>\n",
       "    </tr>\n",
       "  </thead>\n",
       "  <tbody>\n",
       "    <tr>\n",
       "      <th>0</th>\n",
       "      <td>My Favorite Slut</td>\n",
       "      <td>hasBadWords.False</td>\n",
       "    </tr>\n",
       "    <tr>\n",
       "      <th>1</th>\n",
       "      <td>girlfriends sit on each other's faces with the...</td>\n",
       "      <td>hasBadWords.False</td>\n",
       "    </tr>\n",
       "    <tr>\n",
       "      <th>2</th>\n",
       "      <td>bound beauty kisses her girlfriend</td>\n",
       "      <td>hasBadWords.False</td>\n",
       "    </tr>\n",
       "    <tr>\n",
       "      <th>3</th>\n",
       "      <td>MORGAN - Anytime - Nail Painting On The Slave'...</td>\n",
       "      <td>hasBadWords.False</td>\n",
       "    </tr>\n",
       "    <tr>\n",
       "      <th>4</th>\n",
       "      <td>TRANSGENDER COACHING (wmv) PART 1</td>\n",
       "      <td>hasBadWords.False</td>\n",
       "    </tr>\n",
       "  </tbody>\n",
       "</table>\n",
       "</div>"
      ],
      "text/plain": [
       "                                                text             labels\n",
       "0                                   My Favorite Slut  hasBadWords.False\n",
       "1  girlfriends sit on each other's faces with the...  hasBadWords.False\n",
       "2                 bound beauty kisses her girlfriend  hasBadWords.False\n",
       "3  MORGAN - Anytime - Nail Painting On The Slave'...  hasBadWords.False\n",
       "4                  TRANSGENDER COACHING (wmv) PART 1  hasBadWords.False"
      ]
     },
     "execution_count": 2,
     "metadata": {},
     "output_type": "execute_result"
    }
   ],
   "source": [
    "df = pd.read_json('datasets/dataset.json')\n",
    "df['labels'] = df.hasBadWords.apply(lambda x: \"hasBadWords.True\" if x == True else \"hasBadWords.False\")\n",
    "# data['labels'] = df.hasBadWords.apply(lambda x: 1 if x == True else 0)\n",
    "df.drop(['violation', 'hasBadWords'], axis=1, inplace=True)\n",
    "# df['text'] = df['text'].apply(lambda x: str(x).split(' '))\n",
    "df['text'] = df['text'].apply(lambda x: str(x))\n",
    "# df.rename(columns={\"text\": \"texts\"}, inplace=True)\n",
    "df['labels'] = df['labels'].astype('category')\n",
    "print('dimension: ', df.shape)\n",
    "df.head()"
   ]
  },
  {
   "cell_type": "code",
   "execution_count": 3,
   "id": "381f1b59",
   "metadata": {},
   "outputs": [
    {
     "data": {
      "text/plain": [
       "hasBadWords.False    83159\n",
       "hasBadWords.True      3280\n",
       "Name: labels, dtype: int64"
      ]
     },
     "execution_count": 3,
     "metadata": {},
     "output_type": "execute_result"
    }
   ],
   "source": [
    "df['labels'].value_counts()"
   ]
  },
  {
   "cell_type": "code",
   "execution_count": 4,
   "id": "2bd0d2da",
   "metadata": {},
   "outputs": [],
   "source": [
    "import re\n",
    "regex = re.compile('[\\w|\\d]+') #('[A-Za-z]+')\n",
    "\n",
    "def words_only(text, regex=regex):\n",
    "    return ' '.join(regex.findall(text))\n",
    "\n",
    "df.text = df.text.str.lower()\n",
    "df.text = df.text.apply(words_only)"
   ]
  },
  {
   "cell_type": "code",
   "execution_count": 5,
   "id": "68a88ab5",
   "metadata": {},
   "outputs": [
    {
     "data": {
      "text/html": [
       "<div>\n",
       "<style scoped>\n",
       "    .dataframe tbody tr th:only-of-type {\n",
       "        vertical-align: middle;\n",
       "    }\n",
       "\n",
       "    .dataframe tbody tr th {\n",
       "        vertical-align: top;\n",
       "    }\n",
       "\n",
       "    .dataframe thead th {\n",
       "        text-align: right;\n",
       "    }\n",
       "</style>\n",
       "<table border=\"1\" class=\"dataframe\">\n",
       "  <thead>\n",
       "    <tr style=\"text-align: right;\">\n",
       "      <th></th>\n",
       "      <th>text</th>\n",
       "      <th>labels</th>\n",
       "    </tr>\n",
       "  </thead>\n",
       "  <tbody>\n",
       "    <tr>\n",
       "      <th>0</th>\n",
       "      <td>my favorite slut</td>\n",
       "      <td>hasBadWords.False</td>\n",
       "    </tr>\n",
       "    <tr>\n",
       "      <th>1</th>\n",
       "      <td>girlfriends sit on each other s faces with the...</td>\n",
       "      <td>hasBadWords.False</td>\n",
       "    </tr>\n",
       "    <tr>\n",
       "      <th>2</th>\n",
       "      <td>bound beauty kisses her girlfriend</td>\n",
       "      <td>hasBadWords.False</td>\n",
       "    </tr>\n",
       "    <tr>\n",
       "      <th>3</th>\n",
       "      <td>morgan anytime nail painting on the slave s face</td>\n",
       "      <td>hasBadWords.False</td>\n",
       "    </tr>\n",
       "    <tr>\n",
       "      <th>4</th>\n",
       "      <td>transgender coaching wmv part 1</td>\n",
       "      <td>hasBadWords.False</td>\n",
       "    </tr>\n",
       "  </tbody>\n",
       "</table>\n",
       "</div>"
      ],
      "text/plain": [
       "                                                text             labels\n",
       "0                                   my favorite slut  hasBadWords.False\n",
       "1  girlfriends sit on each other s faces with the...  hasBadWords.False\n",
       "2                 bound beauty kisses her girlfriend  hasBadWords.False\n",
       "3   morgan anytime nail painting on the slave s face  hasBadWords.False\n",
       "4                    transgender coaching wmv part 1  hasBadWords.False"
      ]
     },
     "execution_count": 5,
     "metadata": {},
     "output_type": "execute_result"
    }
   ],
   "source": [
    "df.head()"
   ]
  },
  {
   "cell_type": "code",
   "execution_count": 6,
   "id": "c5d2b63c",
   "metadata": {},
   "outputs": [
    {
     "data": {
      "text/plain": [
       "'my favorite slut'"
      ]
     },
     "execution_count": 6,
     "metadata": {},
     "output_type": "execute_result"
    }
   ],
   "source": [
    "df.text.iloc[0]"
   ]
  },
  {
   "cell_type": "code",
   "execution_count": 7,
   "id": "360a03c6",
   "metadata": {},
   "outputs": [
    {
     "data": {
      "text/plain": [
       "0                                            favorite slut\n",
       "1                              girlfriends sit faces asses\n",
       "2                           bound beauty kisses girlfriend\n",
       "3                  morgan anytime nail painting slave face\n",
       "4                              transgender coaching part 1\n",
       "                               ...                        \n",
       "86434    enought visit us social media sites updates ch...\n",
       "86435                                                     \n",
       "86436                                                     \n",
       "86437                                                     \n",
       "86438    accounts101 201343 snapshot 2022 05 18 15_45_3...\n",
       "Name: text, Length: 86439, dtype: object"
      ]
     },
     "execution_count": 7,
     "metadata": {},
     "output_type": "execute_result"
    }
   ],
   "source": [
    "from nltk.corpus import stopwords\n",
    "mystopwords = stopwords.words('english') + ['I', 'div' , 'p', 'center', 'tr', 'com',  '</tr>', 'The', 'http',\n",
    "                                           'font', 'br', 'href', 'clips4sale', 'www', 'align', 'td', \n",
    "                                            'img', 'src', 'class', 'span', '0', 'nbsp', 'b', 'imagecdn',\n",
    "                                           '_blank', 'color', 'target', 'width', 'https://', 'jpg', 'bottom_html',\n",
    "                                           'bottom_text', 'style', 'text', 'link', 'https', 'images', 'size',\n",
    "                                           'border', 'height', 'true ', 'return true', 'wmv', 'sans', 'window status',\n",
    "                                           'arial', 'helvetica']\n",
    "def remove_stopwords(text, mystopwords=mystopwords):\n",
    "    try:\n",
    "        return ' '.join([token for token in text.split() if not token in mystopwords])\n",
    "    except:\n",
    "        return ''\n",
    "\n",
    "df.text = df.text.apply(remove_stopwords)\n",
    "df.text"
   ]
  },
  {
   "cell_type": "code",
   "execution_count": 8,
   "id": "f15a454e",
   "metadata": {},
   "outputs": [
    {
     "name": "stdout",
     "output_type": "stream",
     "text": [
      "CPU times: user 6.06 s, sys: 792 ms, total: 6.86 s\n",
      "Wall time: 28.4 s\n"
     ]
    }
   ],
   "source": [
    "%%time\n",
    "# Unworked shit\n",
    "from pymystem3 import Mystem\n",
    "\n",
    "m = Mystem()\n",
    "def lemmatize(text, mystem=m):\n",
    "    try:\n",
    "        return ''.join(m.lemmatize(text)).strip()\n",
    "    except:\n",
    "        return ' '\n",
    "\n",
    "##### Alternative way\n",
    "\n",
    "# import nltk\n",
    "\n",
    "# w_tokenizer = nltk.tokenize.WhitespaceTokenizer()\n",
    "# lemmatizer = nltk.stem.WordNetLemmatizer()\n",
    "\n",
    "# def lemmatize(text):\n",
    "#     return [lemmatizer.lemmatize(w) for w in w_tokenizer.tokenize(text)]\n",
    "\n",
    "df.text = df.text.apply(lemmatize)"
   ]
  },
  {
   "cell_type": "code",
   "execution_count": 9,
   "id": "781f55b2",
   "metadata": {},
   "outputs": [
    {
     "data": {
      "text/html": [
       "<div>\n",
       "<style scoped>\n",
       "    .dataframe tbody tr th:only-of-type {\n",
       "        vertical-align: middle;\n",
       "    }\n",
       "\n",
       "    .dataframe tbody tr th {\n",
       "        vertical-align: top;\n",
       "    }\n",
       "\n",
       "    .dataframe thead th {\n",
       "        text-align: right;\n",
       "    }\n",
       "</style>\n",
       "<table border=\"1\" class=\"dataframe\">\n",
       "  <thead>\n",
       "    <tr style=\"text-align: right;\">\n",
       "      <th></th>\n",
       "      <th>text</th>\n",
       "      <th>labels</th>\n",
       "    </tr>\n",
       "  </thead>\n",
       "  <tbody>\n",
       "    <tr>\n",
       "      <th>0</th>\n",
       "      <td>favorite slut</td>\n",
       "      <td>hasBadWords.False</td>\n",
       "    </tr>\n",
       "    <tr>\n",
       "      <th>1</th>\n",
       "      <td>girlfriends sit faces asses</td>\n",
       "      <td>hasBadWords.False</td>\n",
       "    </tr>\n",
       "    <tr>\n",
       "      <th>2</th>\n",
       "      <td>bound beauty kisses girlfriend</td>\n",
       "      <td>hasBadWords.False</td>\n",
       "    </tr>\n",
       "    <tr>\n",
       "      <th>3</th>\n",
       "      <td>morgan anytime nail painting slave face</td>\n",
       "      <td>hasBadWords.False</td>\n",
       "    </tr>\n",
       "    <tr>\n",
       "      <th>4</th>\n",
       "      <td>transgender coaching part 1</td>\n",
       "      <td>hasBadWords.False</td>\n",
       "    </tr>\n",
       "  </tbody>\n",
       "</table>\n",
       "</div>"
      ],
      "text/plain": [
       "                                      text             labels\n",
       "0                            favorite slut  hasBadWords.False\n",
       "1              girlfriends sit faces asses  hasBadWords.False\n",
       "2           bound beauty kisses girlfriend  hasBadWords.False\n",
       "3  morgan anytime nail painting slave face  hasBadWords.False\n",
       "4              transgender coaching part 1  hasBadWords.False"
      ]
     },
     "execution_count": 9,
     "metadata": {},
     "output_type": "execute_result"
    }
   ],
   "source": [
    "df.head()"
   ]
  },
  {
   "cell_type": "code",
   "execution_count": 10,
   "id": "05a5b80c",
   "metadata": {},
   "outputs": [],
   "source": [
    "# mystoplemmas = ['font','br','href', 'clips4sale', 'www', 'td', 'align', 'class', 'span']\n",
    "# def remove_stoplemmas(text, mystoplemmas=mystoplemmas):\n",
    "#     try:\n",
    "#         return ' '.join([token for token in text.split() if not token in mystoplemmas])\n",
    "#     except:\n",
    "#         return ''"
   ]
  },
  {
   "cell_type": "code",
   "execution_count": 11,
   "id": "8c617f8e",
   "metadata": {},
   "outputs": [
    {
     "name": "stdout",
     "output_type": "stream",
     "text": [
      "dimension:  (86439, 2)\n"
     ]
    },
    {
     "data": {
      "text/html": [
       "<div>\n",
       "<style scoped>\n",
       "    .dataframe tbody tr th:only-of-type {\n",
       "        vertical-align: middle;\n",
       "    }\n",
       "\n",
       "    .dataframe tbody tr th {\n",
       "        vertical-align: top;\n",
       "    }\n",
       "\n",
       "    .dataframe thead th {\n",
       "        text-align: right;\n",
       "    }\n",
       "</style>\n",
       "<table border=\"1\" class=\"dataframe\">\n",
       "  <thead>\n",
       "    <tr style=\"text-align: right;\">\n",
       "      <th></th>\n",
       "      <th>text</th>\n",
       "      <th>labels</th>\n",
       "    </tr>\n",
       "  </thead>\n",
       "  <tbody>\n",
       "    <tr>\n",
       "      <th>0</th>\n",
       "      <td>favorite slut</td>\n",
       "      <td>hasBadWords.False</td>\n",
       "    </tr>\n",
       "    <tr>\n",
       "      <th>1</th>\n",
       "      <td>girlfriends sit faces asses</td>\n",
       "      <td>hasBadWords.False</td>\n",
       "    </tr>\n",
       "    <tr>\n",
       "      <th>2</th>\n",
       "      <td>bound beauty kisses girlfriend</td>\n",
       "      <td>hasBadWords.False</td>\n",
       "    </tr>\n",
       "    <tr>\n",
       "      <th>3</th>\n",
       "      <td>morgan anytime nail painting slave face</td>\n",
       "      <td>hasBadWords.False</td>\n",
       "    </tr>\n",
       "    <tr>\n",
       "      <th>4</th>\n",
       "      <td>transgender coaching part 1</td>\n",
       "      <td>hasBadWords.False</td>\n",
       "    </tr>\n",
       "  </tbody>\n",
       "</table>\n",
       "</div>"
      ],
      "text/plain": [
       "                                      text             labels\n",
       "0                            favorite slut  hasBadWords.False\n",
       "1              girlfriends sit faces asses  hasBadWords.False\n",
       "2           bound beauty kisses girlfriend  hasBadWords.False\n",
       "3  morgan anytime nail painting slave face  hasBadWords.False\n",
       "4              transgender coaching part 1  hasBadWords.False"
      ]
     },
     "execution_count": 11,
     "metadata": {},
     "output_type": "execute_result"
    }
   ],
   "source": [
    "df['labels'] = df['labels'].astype('category')\n",
    "print('dimension: ', df.shape)\n",
    "df.head()"
   ]
  },
  {
   "cell_type": "code",
   "execution_count": 12,
   "id": "a69b92c0",
   "metadata": {},
   "outputs": [],
   "source": [
    "label_mapping = df['labels'].cat.categories\n",
    "df['labels'] = df['labels'].cat.codes\n",
    "X = df['text']\n",
    "y = df['labels']"
   ]
  },
  {
   "cell_type": "code",
   "execution_count": 13,
   "id": "7dcb6ba8",
   "metadata": {},
   "outputs": [],
   "source": [
    "test_size = 0.2\n",
    "random_state = 1234\n",
    "\n",
    "X_train, X_test, y_train, y_test = train_test_split(\n",
    "    X, y, test_size=test_size, random_state=random_state, stratify=y)"
   ]
  },
  {
   "cell_type": "code",
   "execution_count": 14,
   "id": "8838e1b0",
   "metadata": {},
   "outputs": [
    {
     "name": "stdout",
     "output_type": "stream",
     "text": [
      "('fetish', 26720)\n",
      "('feet', 21387)\n",
      "('foot', 19902)\n",
      "('store', 17177)\n",
      "('strong', 17044)\n",
      "('ass', 13517)\n",
      "('big', 13420)\n",
      "('face', 11787)\n",
      "('domination', 10533)\n",
      "('clip', 10509)\n"
     ]
    }
   ],
   "source": [
    "from nltk import FreqDist\n",
    "\n",
    "lemmata = []\n",
    "for index, row in df.iterrows():\n",
    "    lemmata  += row['text'].split()\n",
    "fd = FreqDist(lemmata)\n",
    "for i in fd.most_common(10):\n",
    "    print(i)"
   ]
  },
  {
   "cell_type": "code",
   "execution_count": 15,
   "id": "2121dea7",
   "metadata": {},
   "outputs": [
    {
     "data": {
      "image/png": "[encoded data removed]",
      "text/plain": [
       "<Figure size 640x480 with 1 Axes>"
      ]
     },
     "metadata": {},
     "output_type": "display_data"
    }
   ],
   "source": [
    "from wordcloud import *\n",
    "word_freq = [i for i in fd.most_common(100)]\n",
    "wd = WordCloud(background_color='white')\n",
    "wd.generate_from_frequencies(dict(word_freq))\n",
    "plt.figure()\n",
    "plt.imshow(wd, interpolation = 'bilinear')\n",
    "plt.axis('off')\n",
    "plt.show()"
   ]
  },
  {
   "cell_type": "code",
   "execution_count": 16,
   "id": "0f019f02",
   "metadata": {},
   "outputs": [],
   "source": [
    "tokens_by_topic = []\n",
    "for topic in df['labels'].unique():\n",
    "    tokens = []\n",
    "    sample = df[df['labels'] == topic]\n",
    "    for i in range(len(sample)):\n",
    "        tokens += sample.text.iloc[i].split()\n",
    "    tokens_by_topic.append(tokens)"
   ]
  },
  {
   "cell_type": "code",
   "execution_count": 17,
   "id": "5ce3fa53",
   "metadata": {},
   "outputs": [
    {
     "data": {
      "text/plain": [
       "array([0, 1], dtype=int8)"
      ]
     },
     "execution_count": 17,
     "metadata": {},
     "output_type": "execute_result"
    }
   ],
   "source": [
    "df['labels'].unique()"
   ]
  },
  {
   "cell_type": "code",
   "execution_count": 18,
   "id": "f3f95589",
   "metadata": {},
   "outputs": [
    {
     "data": {
      "text/plain": [
       "1"
      ]
     },
     "execution_count": 18,
     "metadata": {},
     "output_type": "execute_result"
    }
   ],
   "source": [
    "event_id = 1\n",
    "df['labels'].unique()[event_id]"
   ]
  },
  {
   "cell_type": "code",
   "execution_count": 19,
   "id": "b963118d",
   "metadata": {},
   "outputs": [
    {
     "name": "stdout",
     "output_type": "stream",
     "text": [
      "CPU times: user 1.55 s, sys: 12.6 ms, total: 1.57 s\n",
      "Wall time: 1.61 s\n"
     ]
    }
   ],
   "source": [
    "%%time\n",
    "import nltk\n",
    "from nltk import *\n",
    "N_best = 100 # число извлекаемых биграмм\n",
    "\n",
    "bigram_mesures = nltk.collocations.BigramAssocMeasures() # класс для мер ассоциации биграмм\n",
    "finder = BigramCollocationFinder.from_words(tokens_by_topic[event_id]) # класс для хранения и извлечение биграм\n",
    "finder.apply_freq_filter(3) # избавимся от биграм, которые встречаются реже 3 раз\n",
    "raw_freq_ranking = [' '.join(i) for i in finder.nbest(bigram_mesures.raw_freq, N_best)] # выбираем топ 10 биграм по частоте\n",
    "tscore_ranking = [' '.join(i) for i in finder.nbest(bigram_mesures.student_t, N_best)] # выбираем топ 10 биграм по категориям\n",
    "pmi_ranking = [' '.join(i) for i in finder.nbest(bigram_mesures.pmi, N_best)]\n",
    "llr_ranking = [' '.join(i) for i in finder.nbest(bigram_mesures.likelihood_ratio, N_best)]\n",
    "chi2_ranking = [' '.join(i) for i in finder.nbest(bigram_mesures.chi_sq, N_best)]"
   ]
  },
  {
   "cell_type": "code",
   "execution_count": 20,
   "id": "d545004c",
   "metadata": {},
   "outputs": [
    {
     "data": {
      "text/html": [
       "<div>\n",
       "<style scoped>\n",
       "    .dataframe tbody tr th:only-of-type {\n",
       "        vertical-align: middle;\n",
       "    }\n",
       "\n",
       "    .dataframe tbody tr th {\n",
       "        vertical-align: top;\n",
       "    }\n",
       "\n",
       "    .dataframe thead th {\n",
       "        text-align: right;\n",
       "    }\n",
       "</style>\n",
       "<table border=\"1\" class=\"dataframe\">\n",
       "  <thead>\n",
       "    <tr style=\"text-align: right;\">\n",
       "      <th></th>\n",
       "      <th>raw</th>\n",
       "      <th>pmi</th>\n",
       "      <th>t-score</th>\n",
       "      <th>chi2</th>\n",
       "      <th>llr</th>\n",
       "    </tr>\n",
       "  </thead>\n",
       "  <tbody>\n",
       "    <tr>\n",
       "      <th>0</th>\n",
       "      <td>window status</td>\n",
       "      <td>12414 20808</td>\n",
       "      <td>window status</td>\n",
       "      <td>0161 0162</td>\n",
       "      <td>window status</td>\n",
       "    </tr>\n",
       "    <tr>\n",
       "      <th>1</th>\n",
       "      <td>return true</td>\n",
       "      <td>12502 12479</td>\n",
       "      <td>return true</td>\n",
       "      <td>11cf 96b8</td>\n",
       "      <td>return true</td>\n",
       "    </tr>\n",
       "    <tr>\n",
       "      <th>2</th>\n",
       "      <td>foot fetish</td>\n",
       "      <td>20and 20posts</td>\n",
       "      <td>foot fetish</td>\n",
       "      <td>11d3 b153</td>\n",
       "      <td>sans serif</td>\n",
       "    </tr>\n",
       "    <tr>\n",
       "      <th>3</th>\n",
       "      <td>blow bubble</td>\n",
       "      <td>36015 34101</td>\n",
       "      <td>blow bubble</td>\n",
       "      <td>12414 20808</td>\n",
       "      <td>pedal pumping</td>\n",
       "    </tr>\n",
       "    <tr>\n",
       "      <th>4</th>\n",
       "      <td>high heels</td>\n",
       "      <td>6244 fiona3bx</td>\n",
       "      <td>high heels</td>\n",
       "      <td>12429 12400</td>\n",
       "      <td>helvetica sans</td>\n",
       "    </tr>\n",
       "    <tr>\n",
       "      <th>5</th>\n",
       "      <td>face arial</td>\n",
       "      <td>754 209</td>\n",
       "      <td>face arial</td>\n",
       "      <td>12439 12438</td>\n",
       "      <td>arial helvetica</td>\n",
       "    </tr>\n",
       "    <tr>\n",
       "      <th>6</th>\n",
       "      <td>pedal pumping</td>\n",
       "      <td>7665 j4j</td>\n",
       "      <td>pedal pumping</td>\n",
       "      <td>124538804310 promocode</td>\n",
       "      <td>high heels</td>\n",
       "    </tr>\n",
       "    <tr>\n",
       "      <th>7</th>\n",
       "      <td>sans serif</td>\n",
       "      <td>8081 newgsbanner_468x60_5</td>\n",
       "      <td>sans serif</td>\n",
       "      <td>12502 12479</td>\n",
       "      <td>onmouseover window</td>\n",
       "    </tr>\n",
       "    <tr>\n",
       "      <th>8</th>\n",
       "      <td>arial helvetica</td>\n",
       "      <td>8boll tausta</td>\n",
       "      <td>arial helvetica</td>\n",
       "      <td>152187 veggiebabyy</td>\n",
       "      <td>onmouseout window</td>\n",
       "    </tr>\n",
       "    <tr>\n",
       "      <th>9</th>\n",
       "      <td>onmouseover window</td>\n",
       "      <td>_id b2bkvids</td>\n",
       "      <td>onmouseover window</td>\n",
       "      <td>188173 cocky</td>\n",
       "      <td>true onmouseout</td>\n",
       "    </tr>\n",
       "  </tbody>\n",
       "</table>\n",
       "</div>"
      ],
      "text/plain": [
       "                  raw                        pmi             t-score  \\\n",
       "0       window status                12414 20808       window status   \n",
       "1         return true                12502 12479         return true   \n",
       "2         foot fetish              20and 20posts         foot fetish   \n",
       "3         blow bubble                36015 34101         blow bubble   \n",
       "4          high heels              6244 fiona3bx          high heels   \n",
       "5          face arial                    754 209          face arial   \n",
       "6       pedal pumping                   7665 j4j       pedal pumping   \n",
       "7          sans serif  8081 newgsbanner_468x60_5          sans serif   \n",
       "8     arial helvetica               8boll tausta     arial helvetica   \n",
       "9  onmouseover window               _id b2bkvids  onmouseover window   \n",
       "\n",
       "                     chi2                 llr  \n",
       "0               0161 0162       window status  \n",
       "1               11cf 96b8         return true  \n",
       "2               11d3 b153          sans serif  \n",
       "3             12414 20808       pedal pumping  \n",
       "4             12429 12400      helvetica sans  \n",
       "5             12439 12438     arial helvetica  \n",
       "6  124538804310 promocode          high heels  \n",
       "7             12502 12479  onmouseover window  \n",
       "8      152187 veggiebabyy   onmouseout window  \n",
       "9            188173 cocky     true onmouseout  "
      ]
     },
     "execution_count": 20,
     "metadata": {},
     "output_type": "execute_result"
    }
   ],
   "source": [
    "rankings = pd.DataFrame({'chi2': chi2_ranking, 'llr': llr_ranking, 't-score': tscore_ranking, 'pmi': pmi_ranking, 'raw': raw_freq_ranking})\n",
    "rankings = rankings[['raw', 'pmi', 't-score', 'chi2', 'llr']]\n",
    "rankings.head(10)"
   ]
  },
  {
   "cell_type": "code",
   "execution_count": 21,
   "id": "81777fda",
   "metadata": {},
   "outputs": [
    {
     "data": {
      "image/png": "[encoded data removed]",
      "text/plain": [
       "<Figure size 640x480 with 2 Axes>"
      ]
     },
     "metadata": {},
     "output_type": "display_data"
    }
   ],
   "source": [
    "from scipy.stats import spearmanr\n",
    "import seaborn as sns\n",
    "%matplotlib inline\n",
    "\n",
    "corr = spearmanr(rankings).correlation\n",
    "sns.heatmap(corr, annot=True, xticklabels = list(rankings), yticklabels = list(rankings));"
   ]
  },
  {
   "cell_type": "code",
   "execution_count": 37,
   "id": "18e1b60e",
   "metadata": {},
   "outputs": [],
   "source": [
    "from sklearn.linear_model import LogisticRegression\n",
    "from sklearn.feature_extraction.text import TfidfVectorizer\n",
    "\n",
    "xgb = XGBClassifier(random_state=42, seed=2, colsample_bytree=0.6, subsample=0.7, \n",
    "                    n_estimators=300)\n",
    "tfidf = TfidfVectorizer(stop_words='english', analyzer=lambda x: x)\n",
    "logistic = LogisticRegression(solver='liblinear', multi_class='auto')\n",
    "\n",
    "tfidf_logistic = Pipeline([\n",
    "    ('tfidf', tfidf), \n",
    "    ('logistic', logistic)\n",
    "])"
   ]
  },
  {
   "cell_type": "code",
   "execution_count": 38,
   "id": "9a313d75",
   "metadata": {},
   "outputs": [],
   "source": [
    "from scipy.stats import randint, uniform\n",
    "\n",
    "# tfidf_params = {'tfidf__ngram_range': [(1, 1), (1, 2)]}\n",
    "tfidf_params = {'tfidf__ngram_range': [(1, 1), (1, 3)]}\n",
    "logistic_params = {'logistic__C': [0.5, 1.0, 1.5]}\n",
    "\n",
    "\n",
    "tfidf_logistic_params = {**tfidf_params, **logistic_params}"
   ]
  },
  {
   "cell_type": "code",
   "execution_count": 51,
   "id": "3ea4570f",
   "metadata": {},
   "outputs": [
    {
     "name": "stdout",
     "output_type": "stream",
     "text": [
      "training: tfidf_logistic\n",
      "Fitting 3 folds for each of 3 candidates, totalling 9 fits\n"
     ]
    },
    {
     "name": "stderr",
     "output_type": "stream",
     "text": [
      "/usr/local/lib/python3.10/site-packages/sklearn/feature_extraction/text.py:550: UserWarning: The parameter 'stop_words' will not be used since 'analyzer' != 'word'\n",
      "  warnings.warn(\n",
      "/usr/local/lib/python3.10/site-packages/sklearn/feature_extraction/text.py:550: UserWarning: The parameter 'stop_words' will not be used since 'analyzer' != 'word'\n",
      "  warnings.warn(\n",
      "/usr/local/lib/python3.10/site-packages/sklearn/feature_extraction/text.py:544: UserWarning: The parameter 'ngram_range' will not be used since 'analyzer' is callable'\n",
      "  warnings.warn(\n",
      "/usr/local/lib/python3.10/site-packages/sklearn/feature_extraction/text.py:550: UserWarning: The parameter 'stop_words' will not be used since 'analyzer' != 'word'\n",
      "  warnings.warn(\n",
      "/usr/local/lib/python3.10/site-packages/sklearn/feature_extraction/text.py:550: UserWarning: The parameter 'stop_words' will not be used since 'analyzer' != 'word'\n",
      "  warnings.warn(\n",
      "/usr/local/lib/python3.10/site-packages/sklearn/feature_extraction/text.py:544: UserWarning: The parameter 'ngram_range' will not be used since 'analyzer' is callable'\n",
      "  warnings.warn(\n",
      "/usr/local/lib/python3.10/site-packages/sklearn/feature_extraction/text.py:550: UserWarning: The parameter 'stop_words' will not be used since 'analyzer' != 'word'\n",
      "  warnings.warn(\n",
      "/usr/local/lib/python3.10/site-packages/sklearn/feature_extraction/text.py:544: UserWarning: The parameter 'ngram_range' will not be used since 'analyzer' is callable'\n",
      "  warnings.warn(\n",
      "/usr/local/lib/python3.10/site-packages/sklearn/feature_extraction/text.py:550: UserWarning: The parameter 'stop_words' will not be used since 'analyzer' != 'word'\n",
      "  warnings.warn(\n",
      "/usr/local/lib/python3.10/site-packages/sklearn/feature_extraction/text.py:544: UserWarning: The parameter 'ngram_range' will not be used since 'analyzer' is callable'\n",
      "  warnings.warn(\n",
      "/usr/local/lib/python3.10/site-packages/sklearn/feature_extraction/text.py:550: UserWarning: The parameter 'stop_words' will not be used since 'analyzer' != 'word'\n",
      "  warnings.warn(\n",
      "/usr/local/lib/python3.10/site-packages/sklearn/feature_extraction/text.py:544: UserWarning: The parameter 'ngram_range' will not be used since 'analyzer' is callable'\n",
      "  warnings.warn(\n",
      "/usr/local/lib/python3.10/site-packages/sklearn/feature_extraction/text.py:550: UserWarning: The parameter 'stop_words' will not be used since 'analyzer' != 'word'\n",
      "  warnings.warn(\n",
      "/usr/local/lib/python3.10/site-packages/sklearn/feature_extraction/text.py:544: UserWarning: The parameter 'ngram_range' will not be used since 'analyzer' is callable'\n",
      "  warnings.warn(\n",
      "/usr/local/lib/python3.10/site-packages/sklearn/feature_extraction/text.py:550: UserWarning: The parameter 'stop_words' will not be used since 'analyzer' != 'word'\n",
      "  warnings.warn(\n"
     ]
    },
    {
     "data": {
      "text/html": [
       "<div>\n",
       "<style scoped>\n",
       "    .dataframe tbody tr th:only-of-type {\n",
       "        vertical-align: middle;\n",
       "    }\n",
       "\n",
       "    .dataframe tbody tr th {\n",
       "        vertical-align: top;\n",
       "    }\n",
       "\n",
       "    .dataframe thead th {\n",
       "        text-align: right;\n",
       "    }\n",
       "</style>\n",
       "<table border=\"1\" class=\"dataframe\">\n",
       "  <thead>\n",
       "    <tr style=\"text-align: right;\">\n",
       "      <th></th>\n",
       "      <th>model_name</th>\n",
       "      <th>train_score</th>\n",
       "      <th>test_score</th>\n",
       "      <th>estimator</th>\n",
       "    </tr>\n",
       "  </thead>\n",
       "  <tbody>\n",
       "    <tr>\n",
       "      <th>0</th>\n",
       "      <td>tfidf_logistic</td>\n",
       "      <td>0.825785</td>\n",
       "      <td>0.962055</td>\n",
       "      <td>RandomizedSearchCV(cv=3,\\n                   e...</td>\n",
       "    </tr>\n",
       "  </tbody>\n",
       "</table>\n",
       "</div>"
      ],
      "text/plain": [
       "       model_name  train_score  test_score  \\\n",
       "0  tfidf_logistic     0.825785    0.962055   \n",
       "\n",
       "                                           estimator  \n",
       "0  RandomizedSearchCV(cv=3,\\n                   e...  "
      ]
     },
     "execution_count": 51,
     "metadata": {},
     "output_type": "execute_result"
    }
   ],
   "source": [
    "from sklearn.model_selection import RandomizedSearchCV\n",
    "\n",
    "cv = 5\n",
    "n_iter = 3\n",
    "random_state = 1234\n",
    "scoring = 'roc_auc'\n",
    "\n",
    "all_models = [\n",
    "    ('tfidf_logistic', tfidf_logistic, tfidf_logistic_params)\n",
    "]\n",
    "\n",
    "all_models_info = []\n",
    "for name, model, params in all_models:\n",
    "    print('training:', name)\n",
    "    model_tuned = RandomizedSearchCV(\n",
    "        estimator=model,\n",
    "        param_distributions=params,\n",
    "        cv=cv,\n",
    "        n_iter=n_iter,\n",
    "        n_jobs=-1,\n",
    "        verbose=1,\n",
    "        scoring=scoring,\n",
    "        random_state=random_state,\n",
    "        return_train_score=False\n",
    "    ).fit(X_train, y_train)\n",
    "    \n",
    "    y_test_pred = model_tuned.predict(X_test)\n",
    "    test_score = accuracy_score(y_test, y_test_pred)\n",
    "    info = name, model_tuned.best_score_, test_score, model_tuned\n",
    "    all_models_info.append(info)\n",
    "\n",
    "columns = ['model_name', 'train_score', 'test_score', 'estimator']\n",
    "results = pd.DataFrame(all_models_info, columns=columns)\n",
    "results = (results\n",
    "           .sort_values('test_score', ascending=False)\n",
    "           .reset_index(drop=True))\n",
    "results"
   ]
  },
  {
   "cell_type": "code",
   "execution_count": 44,
   "id": "eaed0258",
   "metadata": {},
   "outputs": [
    {
     "name": "stdout",
     "output_type": "stream",
     "text": [
      "0    RandomizedSearchCV(cv=3,\\n                   e...\n"
     ]
    }
   ],
   "source": [
    "print(results.estimator.to_string())"
   ]
  },
  {
   "cell_type": "code",
   "execution_count": 48,
   "id": "c0fac91b",
   "metadata": {},
   "outputs": [],
   "source": [
    "from sklearn.metrics import get_scorer_names"
   ]
  },
  {
   "cell_type": "code",
   "execution_count": 49,
   "id": "15ec7550",
   "metadata": {},
   "outputs": [
    {
     "data": {
      "text/plain": [
       "['accuracy',\n",
       " 'adjusted_mutual_info_score',\n",
       " 'adjusted_rand_score',\n",
       " 'average_precision',\n",
       " 'balanced_accuracy',\n",
       " 'completeness_score',\n",
       " 'explained_variance',\n",
       " 'f1',\n",
       " 'f1_macro',\n",
       " 'f1_micro',\n",
       " 'f1_samples',\n",
       " 'f1_weighted',\n",
       " 'fowlkes_mallows_score',\n",
       " 'homogeneity_score',\n",
       " 'jaccard',\n",
       " 'jaccard_macro',\n",
       " 'jaccard_micro',\n",
       " 'jaccard_samples',\n",
       " 'jaccard_weighted',\n",
       " 'matthews_corrcoef',\n",
       " 'max_error',\n",
       " 'mutual_info_score',\n",
       " 'neg_brier_score',\n",
       " 'neg_log_loss',\n",
       " 'neg_mean_absolute_error',\n",
       " 'neg_mean_absolute_percentage_error',\n",
       " 'neg_mean_gamma_deviance',\n",
       " 'neg_mean_poisson_deviance',\n",
       " 'neg_mean_squared_error',\n",
       " 'neg_mean_squared_log_error',\n",
       " 'neg_median_absolute_error',\n",
       " 'neg_negative_likelihood_ratio',\n",
       " 'neg_root_mean_squared_error',\n",
       " 'normalized_mutual_info_score',\n",
       " 'positive_likelihood_ratio',\n",
       " 'precision',\n",
       " 'precision_macro',\n",
       " 'precision_micro',\n",
       " 'precision_samples',\n",
       " 'precision_weighted',\n",
       " 'r2',\n",
       " 'rand_score',\n",
       " 'recall',\n",
       " 'recall_macro',\n",
       " 'recall_micro',\n",
       " 'recall_samples',\n",
       " 'recall_weighted',\n",
       " 'roc_auc',\n",
       " 'roc_auc_ovo',\n",
       " 'roc_auc_ovo_weighted',\n",
       " 'roc_auc_ovr',\n",
       " 'roc_auc_ovr_weighted',\n",
       " 'top_k_accuracy',\n",
       " 'v_measure_score']"
      ]
     },
     "execution_count": 49,
     "metadata": {},
     "output_type": "execute_result"
    }
   ],
   "source": [
    "get_scorer_names()"
   ]
  },
  {
   "cell_type": "code",
   "execution_count": null,
   "id": "db058c80",
   "metadata": {},
   "outputs": [],
   "source": []
  },
  {
   "cell_type": "code",
   "execution_count": null,
   "id": "948ec5ca",
   "metadata": {},
   "outputs": [],
   "source": [
    "# label_mapping = data['labels'].cat.categories\n",
    "# data['labels'] = data['labels'].cat.codes\n",
    "# X = data['texts']\n",
    "# y = data['labels']"
   ]
  },
  {
   "cell_type": "code",
   "execution_count": null,
   "id": "282ec868",
   "metadata": {},
   "outputs": [],
   "source": [
    "test_size = 0.2\n",
    "random_state = 1234\n",
    "\n",
    "X_train, X_test, y_train, y_test = train_test_split(\n",
    "    X, y, test_size=test_size, random_state=random_state, stratify=y)\n",
    "\n",
    "# val_size = 0.1\n",
    "# X_train, X_val, y_train, y_val = train_test_split(\n",
    "#     X_train, y_train, test_size=val_size, random_state=random_state, stratify=y_train)"
   ]
  },
  {
   "cell_type": "code",
   "execution_count": null,
   "id": "7474b320",
   "metadata": {},
   "outputs": [],
   "source": []
  }
 ],
 "metadata": {
  "kernelspec": {
   "display_name": "Python 3 (ipykernel)",
   "language": "python",
   "name": "python3"
  },
  "language_info": {
   "codemirror_mode": {
    "name": "ipython",
    "version": 3
   },
   "file_extension": ".py",
   "mimetype": "text/x-python",
   "name": "python",
   "nbconvert_exporter": "python",
   "pygments_lexer": "ipython3",
   "version": "3.10.10"
  }
 },
 "nbformat": 4,
 "nbformat_minor": 5
}
