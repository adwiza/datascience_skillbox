{
 "cells": [
  {
   "cell_type": "code",
   "execution_count": 1,
   "id": "8a03bdbb",
   "metadata": {},
   "outputs": [
    {
     "name": "stdout",
     "output_type": "stream",
     "text": [
      "2.12.0\n"
     ]
    }
   ],
   "source": [
    "import tensorflow as tf\n",
    "import numpy as np\n",
    "\n",
    "print(tf.__version__)"
   ]
  },
  {
   "cell_type": "code",
   "execution_count": 2,
   "id": "77411941",
   "metadata": {},
   "outputs": [
    {
     "name": "stdout",
     "output_type": "stream",
     "text": [
      "(2, 100, 16)\n"
     ]
    }
   ],
   "source": [
    "BATCH_SIZE = 2\n",
    "SEQ_LEN = 100 # Длина последовательности\n",
    "EMB_SIZE = 16 # Размер векторного представления (эмбеддинга)\n",
    "\n",
    "x = np.random.rand(BATCH_SIZE, SEQ_LEN, EMB_SIZE).astype(np.float32)\n",
    "print(x.shape)"
   ]
  },
  {
   "cell_type": "code",
   "execution_count": 3,
   "id": "3a939be4",
   "metadata": {},
   "outputs": [],
   "source": [
    "H_SIZE = 32\n",
    "rnn_layer = tf.keras.layers.SimpleRNN(H_SIZE, activation='relu', return_sequences=True)"
   ]
  },
  {
   "cell_type": "code",
   "execution_count": 4,
   "id": "eb632d98",
   "metadata": {},
   "outputs": [
    {
     "name": "stdout",
     "output_type": "stream",
     "text": [
      "Metal device set to: Apple M2\n",
      "(2, 100, 32)\n"
     ]
    }
   ],
   "source": [
    "y = rnn_layer(x)\n",
    "print(y.shape)"
   ]
  },
  {
   "cell_type": "code",
   "execution_count": 7,
   "id": "52b23070",
   "metadata": {},
   "outputs": [],
   "source": [
    "class RNNLayer(tf.keras.Model):\n",
    "    def __init__(self, h_size):\n",
    "        super().__init__()\n",
    "        self.h_size = h_size\n",
    "        self.fcXH = tf.keras.layers.Dense(self.h_size)\n",
    "        self.fcHH = tf.keras.layers.Dense(self.h_size, use_bias=False) # bias не нужен, так как он есть в fcXH\n",
    "        \n",
    "    # RNN ячейка\n",
    "    def RNN_cell(self, x, h):\n",
    "        h = tf.nn.relu(self.fcXH(x) + self.fcHH(h))\n",
    "        return h\n",
    "    \n",
    "    def call(self, x_all):\n",
    "        batch, length, emb_size = x.shape\n",
    "        h = tf.zeros((batch, self.h_size))\n",
    "        h_all = [] # список всез получившихся векторов h\n",
    "        \n",
    "        # Цикл по выходной последовательности\n",
    "        for i in range(length):\n",
    "            h = self.RNN_cell(x_all[:, i, :], h)\n",
    "            h_all.append(h)\n",
    "        # склеиваем все ответы и меняем размерности, чтоб получилось (batch, length, h_size)\n",
    "        h_all = tf.transpose(tf.stack(h_all), [1, 0, 2])\n",
    "        return h_all\n",
    "\n",
    "rnn_layer_my = RNNLayer(H_SIZE)"
   ]
  },
  {
   "cell_type": "code",
   "execution_count": 8,
   "id": "f5d5a902",
   "metadata": {},
   "outputs": [
    {
     "name": "stdout",
     "output_type": "stream",
     "text": [
      "(2, 100, 32)\n"
     ]
    }
   ],
   "source": [
    "y = rnn_layer_my(x)\n",
    "print(y.shape)"
   ]
  },
  {
   "cell_type": "code",
   "execution_count": 9,
   "id": "c60461f6",
   "metadata": {},
   "outputs": [
    {
     "name": "stdout",
     "output_type": "stream",
     "text": [
      "0.0\n"
     ]
    }
   ],
   "source": [
    "# Перед тем, как что-то присваивать в параметры модели, нужно чтобы они создались.\n",
    "# Для этого можно вызвать либо инференс с каким-то входом, либо model.build(...)\n",
    "\n",
    "rnn_layer_my.fcXH.kernel = rnn_layer.weights[0]\n",
    "rnn_layer_my.fcHH.kernel = rnn_layer.weights[1]\n",
    "rnn_layer_my.fcXH.bias = rnn_layer.weights[2]\n",
    "\n",
    "y = rnn_layer(x)\n",
    "y_my = rnn_layer(x)\n",
    "\n",
    "print(np.max(np.abs(y.numpy() - y_my.numpy())))"
   ]
  },
  {
   "cell_type": "code",
   "execution_count": null,
   "id": "fcc259aa",
   "metadata": {},
   "outputs": [],
   "source": []
  }
 ],
 "metadata": {
  "kernelspec": {
   "display_name": "Python 3 (ipyflow)",
   "language": "python",
   "name": "ipyflow"
  },
  "language_info": {
   "codemirror_mode": {
    "name": "ipython",
    "version": 3
   },
   "file_extension": ".py",
   "mimetype": "text/x-python",
   "name": "python",
   "nbconvert_exporter": "python",
   "pygments_lexer": "ipython3",
   "version": "3.8.12"
  },
  "toc": {
   "base_numbering": 1,
   "nav_menu": {},
   "number_sections": true,
   "sideBar": true,
   "skip_h1_title": false,
   "title_cell": "Table of Contents",
   "title_sidebar": "Contents",
   "toc_cell": false,
   "toc_position": {},
   "toc_section_display": true,
   "toc_window_display": false
  }
 },
 "nbformat": 4,
 "nbformat_minor": 5
}
