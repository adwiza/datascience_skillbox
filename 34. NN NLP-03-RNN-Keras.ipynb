{
 "cells": [
  {
   "cell_type": "code",
   "execution_count": 1,
   "id": "8a03bdbb",
   "metadata": {},
   "outputs": [
    {
     "name": "stdout",
     "output_type": "stream",
     "text": [
      "2.12.0\n"
     ]
    }
   ],
   "source": [
    "import tensorflow as tf\n",
    "import numpy as np\n",
    "\n",
    "print(tf.__version__)"
   ]
  },
  {
   "cell_type": "code",
   "execution_count": 2,
   "id": "77411941",
   "metadata": {},
   "outputs": [
    {
     "name": "stdout",
     "output_type": "stream",
     "text": [
      "(2, 100, 16)\n"
     ]
    }
   ],
   "source": [
    "BATCH_SIZE = 2\n",
    "SEQ_LEN = 100 # Длина последовательности\n",
    "EMB_SIZE = 16 # Размер векторного представления (эмбеддинга)\n",
    "\n",
    "x = np.random.rand(BATCH_SIZE, SEQ_LEN, EMB_SIZE).astype(np.float32)\n",
    "print(x.shape)"
   ]
  },
  {
   "cell_type": "code",
   "execution_count": 3,
   "id": "3a939be4",
   "metadata": {},
   "outputs": [
    {
     "name": "stdout",
     "output_type": "stream",
     "text": [
      "Metal device set to: Apple M2\n"
     ]
    }
   ],
   "source": [
    "H_SIZE = 32\n",
    "OUT_SIZE = 16\n",
    "\n",
    "rnn = tf.keras.Sequential([\n",
    "    tf.keras.layers.SimpleRNN(H_SIZE, activation='relu', return_sequences=True),\n",
    "    tf.keras.layers.Dense(OUT_SIZE)\n",
    "])"
   ]
  },
  {
   "cell_type": "code",
   "execution_count": 4,
   "id": "eb632d98",
   "metadata": {},
   "outputs": [
    {
     "name": "stdout",
     "output_type": "stream",
     "text": [
      "(2, 100, 16)\n"
     ]
    }
   ],
   "source": [
    "y = rnn(x)\n",
    "print(y.shape)"
   ]
  },
  {
   "cell_type": "code",
   "execution_count": 6,
   "id": "52b23070",
   "metadata": {},
   "outputs": [],
   "source": [
    "class RNNCell(tf.keras.Model):\n",
    "    def __init__(self, h_size):\n",
    "        super().__init__()\n",
    "        self.h_size = h_size\n",
    "        self.fcXH = tf.keras.layers.Dense(self.h_size)\n",
    "        self.fcHH = tf.keras.layers.Dense(self.h_size, use_bias=False) # bias не нужен, так как он есть в fcXH\n",
    "        \n",
    "    def call(self, x, h):\n",
    "        h = tf.nn.relu(self.fcXH(x) + self.fcHH(h))\n",
    "        return h"
   ]
  },
  {
   "cell_type": "code",
   "execution_count": 7,
   "id": "c60461f6",
   "metadata": {},
   "outputs": [],
   "source": [
    "# Рекурентная нейросеть\n",
    "class RNN(tf.keras.Model):\n",
    "    def __init__(self, h_size, out_size):\n",
    "        super().__init__()\n",
    "        self.h_size = h_size\n",
    "        self.rnn_cell = RNNCell(h_size)\n",
    "        self.fcHY = tf.keras.layers.Dense(out_size)\n",
    "        \n",
    "    def call(self, x_all):\n",
    "        batch, length, emb _size = x.shape\n",
    "        h = tf.zeros((batch, self.h_size))\n",
    "        y_all = []\n",
    "        \n",
    "        for i in range(length):\n",
    "            h = self.rnn_cell(x_all[:, i  :], h)\n",
    "            y = self.fcHY(h)\n",
    "            y_all.append(y)\n",
    "            \n",
    "        y_all = tf.transpose(tf.stack(y_all), [1, 0, 2])\n",
    "        return y_all\n",
    "    \n",
    "rnn_my = RNN(H_SIZE, OUT_SIZE)"
   ]
  },
  {
   "cell_type": "code",
   "execution_count": 8,
   "id": "fcc259aa",
   "metadata": {},
   "outputs": [
    {
     "name": "stdout",
     "output_type": "stream",
     "text": [
      "(2, 100, 16)\n"
     ]
    }
   ],
   "source": [
    "y = rnn_my(x)\n",
    "print(y.shape)"
   ]
  },
  {
   "cell_type": "code",
   "execution_count": 9,
   "id": "5f8fa8d0",
   "metadata": {},
   "outputs": [
    {
     "name": "stdout",
     "output_type": "stream",
     "text": [
      "4.7683716e-07\n"
     ]
    }
   ],
   "source": [
    "# Перед тем, как что-то присваивать в параметры модели, нужно чтобы они создались.\n",
    "# Для этого можно вызвать либо инференс с каким-то входом, либо model.build(...)\n",
    "\n",
    "rnn_my.rnn_cell.fcXH.kernel = rnn.layers[0].weights[0]\n",
    "rnn_my.rnn_cell.fcHH.kernel = rnn.layers[0].weights[1]\n",
    "rnn_my.rnn_cell.fcXH.bias = rnn.layers[0].weights[2]\n",
    "\n",
    "rnn_my.fcHY.kernel = rnn.layers[1].weights[0]\n",
    "rnn_my.fcHY.bias = rnn.layers[1].weights[1]\n",
    "\n",
    "y = rnn(x)\n",
    "y_my = rnn_my(x)\n",
    "\n",
    "print(np.max(np.abs(y.numpy() - y_my.numpy())))"
   ]
  },
  {
   "cell_type": "code",
   "execution_count": null,
   "id": "9e629878",
   "metadata": {},
   "outputs": [],
   "source": []
  }
 ],
 "metadata": {
  "kernelspec": {
   "display_name": "Python 3 (ipyflow)",
   "language": "python",
   "name": "ipyflow"
  },
  "language_info": {
   "codemirror_mode": {
    "name": "ipython",
    "version": 3
   },
   "file_extension": ".py",
   "mimetype": "text/x-python",
   "name": "python",
   "nbconvert_exporter": "python",
   "pygments_lexer": "ipython3",
   "version": "3.8.12"
  },
  "toc": {
   "base_numbering": 1,
   "nav_menu": {},
   "number_sections": true,
   "sideBar": true,
   "skip_h1_title": false,
   "title_cell": "Table of Contents",
   "title_sidebar": "Contents",
   "toc_cell": false,
   "toc_position": {},
   "toc_section_display": true,
   "toc_window_display": false
  }
 },
 "nbformat": 4,
 "nbformat_minor": 5
}
