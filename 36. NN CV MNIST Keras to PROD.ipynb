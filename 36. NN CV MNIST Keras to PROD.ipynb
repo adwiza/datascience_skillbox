{
 "cells": [
  {
   "cell_type": "code",
   "execution_count": 29,
   "id": "19c1aa0b",
   "metadata": {},
   "outputs": [
    {
     "name": "stdout",
     "output_type": "stream",
     "text": [
      "2.13.0\n"
     ]
    }
   ],
   "source": [
    "import numpy as np\n",
    "import tensorflow as tf\n",
    "import matplotlib.pyplot as plt\n",
    "\n",
    "print(tf.__version__)"
   ]
  },
  {
   "cell_type": "markdown",
   "id": "3359336b",
   "metadata": {},
   "source": [
    "# Загрузка датасета MNIST"
   ]
  },
  {
   "cell_type": "code",
   "execution_count": 30,
   "id": "e80e5ac6",
   "metadata": {},
   "outputs": [],
   "source": [
    "(train_x, train_y),(test_x, test_y) = tf.keras.datasets.mnist.load_data()\n",
    "\n",
    "\n",
    "\n",
    "train_x = train_x.reshape(-1, 28, 28, 1).astype(np.float32) / 255\n",
    "test_x = test_x.reshape(-1, 28, 28, 1).astype(np.float32) / 255"
   ]
  },
  {
   "cell_type": "markdown",
   "id": "71dac4d1",
   "metadata": {},
   "source": [
    "# Создание модели"
   ]
  },
  {
   "cell_type": "code",
   "execution_count": 31,
   "id": "535a830b",
   "metadata": {},
   "outputs": [],
   "source": [
    "model = tf.keras.models.Sequential([\n",
    "    tf.keras.layers.Conv2D(32, (5, 5), padding='same', activation='relu'),\n",
    "    tf.keras.layers.MaxPool2D((2, 2), (2, 2)),\n",
    "    tf.keras.layers.Conv2D(64, (5, 5), padding='same', activation='relu'),\n",
    "    tf.keras.layers.MaxPool2D((2, 2), (2, 2)),\n",
    "    tf.keras.layers.Flatten(),\n",
    "    tf.keras.layers.Dense(256, activation='relu'),\n",
    "    tf.keras.layers.Dense(10, activation='softmax')\n",
    "])"
   ]
  },
  {
   "cell_type": "code",
   "execution_count": 32,
   "id": "5ac42a5f",
   "metadata": {},
   "outputs": [],
   "source": [
    "model.compile(optimizer='sgd',\n",
    "              loss='sparse_categorical_crossentropy',\n",
    "              metrics=['accuracy'])"
   ]
  },
  {
   "cell_type": "code",
   "execution_count": 33,
   "id": "c88c81d9",
   "metadata": {},
   "outputs": [
    {
     "name": "stdout",
     "output_type": "stream",
     "text": [
      "Epoch 1/4\n",
      "1875/1875 [==============================] - 16s 9ms/step - loss: 0.4388 - accuracy: 0.8671\n",
      "Epoch 2/4\n",
      "1875/1875 [==============================] - 16s 9ms/step - loss: 0.1343 - accuracy: 0.9608\n",
      "Epoch 3/4\n",
      "1875/1875 [==============================] - 16s 8ms/step - loss: 0.1011 - accuracy: 0.9690\n",
      "Epoch 4/4\n",
      "1875/1875 [==============================] - 16s 8ms/step - loss: 0.0868 - accuracy: 0.9735\n"
     ]
    },
    {
     "data": {
      "text/plain": [
       "<keras.src.callbacks.History at 0x2c216cdf0>"
      ]
     },
     "execution_count": 33,
     "metadata": {},
     "output_type": "execute_result"
    }
   ],
   "source": [
    "NUM_EPOCH = 4\n",
    "\n",
    "model.fit(train_x, train_y, epochs=NUM_EPOCH)"
   ]
  },
  {
   "cell_type": "markdown",
   "id": "d20b9144",
   "metadata": {},
   "source": [
    "# Оценка качества обученной модели"
   ]
  },
  {
   "cell_type": "code",
   "execution_count": 34,
   "id": "0bfa8243",
   "metadata": {},
   "outputs": [
    {
     "name": "stdout",
     "output_type": "stream",
     "text": [
      "313/313 [==============================] - 1s 4ms/step - loss: 0.0750 - accuracy: 0.9784\n"
     ]
    },
    {
     "data": {
      "text/plain": [
       "[0.07497498393058777, 0.9783999919891357]"
      ]
     },
     "execution_count": 34,
     "metadata": {},
     "output_type": "execute_result"
    }
   ],
   "source": [
    "model.evaluate(test_x, test_y)"
   ]
  },
  {
   "cell_type": "markdown",
   "id": "b297a71f",
   "metadata": {},
   "source": [
    "# Сохранение модели"
   ]
  },
  {
   "cell_type": "code",
   "execution_count": 35,
   "id": "81e0e3bb",
   "metadata": {},
   "outputs": [
    {
     "name": "stdout",
     "output_type": "stream",
     "text": [
      "INFO:tensorflow:Assets written to: models/minst.model/assets\n"
     ]
    },
    {
     "name": "stderr",
     "output_type": "stream",
     "text": [
      "INFO:tensorflow:Assets written to: models/minst.model/assets\n"
     ]
    }
   ],
   "source": [
    "model.save('models/minst.model')"
   ]
  },
  {
   "cell_type": "markdown",
   "id": "b7ab5388",
   "metadata": {},
   "source": [
    "# PRODUCTION DEPLOYMENT"
   ]
  },
  {
   "cell_type": "markdown",
   "id": "a390c4e7",
   "metadata": {},
   "source": [
    "# Загрузка модели"
   ]
  },
  {
   "cell_type": "code",
   "execution_count": 36,
   "id": "84e91664",
   "metadata": {},
   "outputs": [],
   "source": [
    "model = tf.keras.models.load_model('models/minst.model')"
   ]
  },
  {
   "cell_type": "markdown",
   "id": "5c2e27ee",
   "metadata": {},
   "source": [
    "# Загрузка датасета MNIST"
   ]
  },
  {
   "cell_type": "code",
   "execution_count": 37,
   "id": "c499c9ec",
   "metadata": {},
   "outputs": [],
   "source": [
    "(train_x, train_y),(test_x, test_y) = tf.keras.datasets.mnist.load_data()\n",
    "\n",
    "test_x = test_x.reshape(-1, 28, 28, 1).astype(np.float32) / 255"
   ]
  },
  {
   "cell_type": "code",
   "execution_count": 38,
   "id": "a501aaa8",
   "metadata": {},
   "outputs": [],
   "source": [
    "def predict_digit(sample):\n",
    "    prediction = model(sample[None, ...])[0]\n",
    "    ans = np.argmax(prediction)\n",
    "    fig = plt.figure(figsize=(12, 4))\n",
    "    \n",
    "    # Визуализация входного изображения\n",
    "    ax = fig.add_subplot(1, 2, 1)\n",
    "    ax.imshow(sample[:, :, 0], cmap='gray')\n",
    "    plt.xticks([]), plt.yticks([])\n",
    "    \n",
    "    # Визуализация распределения вероятностей по классам\n",
    "    ax = fig.add_subplot(1, 2, 2)\n",
    "    bar_list = ax.bar(np.arange(10), prediction, align='center')\n",
    "    bar_list[ans].set_color('g')\n",
    "    ax.set_xticks(np.arange(10))\n",
    "    ax.set_xlim([-1, 10])\n",
    "    ax.grid(True)\n",
    "    \n",
    "    plt.show()\n",
    "    \n",
    "    print('Predictet number: {}'.format(ans))"
   ]
  },
  {
   "cell_type": "markdown",
   "id": "dbe86b77",
   "metadata": {},
   "source": [
    "# Пример запуска инференса\n",
    "Возьмём случайную цифру из датасета MNIST и вызовем predict_digit для неё. Посмотрим на предсказание и на\n",
    "правильный ответ."
   ]
  },
  {
   "cell_type": "code",
   "execution_count": 46,
   "id": "32f5531f",
   "metadata": {},
   "outputs": [
    {
     "data": {
      "image/png": "[encoded data removed]",
      "text/plain": [
       "<Figure size 1200x400 with 2 Axes>"
      ]
     },
     "metadata": {},
     "output_type": "display_data"
    },
    {
     "name": "stdout",
     "output_type": "stream",
     "text": [
      "Predictet number: 6\n",
      "True Answer: 6\n"
     ]
    }
   ],
   "source": [
    "import random\n",
    "idx = random.randint(0, test_x.shape[0])\n",
    "sample = test_x[idx, ...]\n",
    "predict_digit(sample)\n",
    "\n",
    "print('True Answer: {}'.format(test_y[idx]))"
   ]
  },
  {
   "cell_type": "code",
   "execution_count": 47,
   "id": "5905845f",
   "metadata": {},
   "outputs": [
    {
     "data": {
      "text/plain": [
       "[PhysicalDevice(name='/physical_device:CPU:0', device_type='CPU'),\n",
       " PhysicalDevice(name='/physical_device:GPU:0', device_type='GPU')]"
      ]
     },
     "execution_count": 47,
     "metadata": {},
     "output_type": "execute_result"
    }
   ],
   "source": [
    "# tf.config.list_physical_devices()"
   ]
  },
  {
   "cell_type": "code",
   "execution_count": null,
   "id": "0f104343",
   "metadata": {},
   "outputs": [],
   "source": []
  }
 ],
 "metadata": {
  "kernelspec": {
   "display_name": "Python 3 (ipykernel)",
   "language": "python",
   "name": "python3"
  },
  "language_info": {
   "codemirror_mode": {
    "name": "ipython",
    "version": 3
   },
   "file_extension": ".py",
   "mimetype": "text/x-python",
   "name": "python",
   "nbconvert_exporter": "python",
   "pygments_lexer": "ipython3",
   "version": "3.8.12"
  },
  "toc": {
   "base_numbering": 1,
   "nav_menu": {},
   "number_sections": true,
   "sideBar": true,
   "skip_h1_title": false,
   "title_cell": "Table of Contents",
   "title_sidebar": "Contents",
   "toc_cell": false,
   "toc_position": {},
   "toc_section_display": true,
   "toc_window_display": false
  }
 },
 "nbformat": 4,
 "nbformat_minor": 5
}
