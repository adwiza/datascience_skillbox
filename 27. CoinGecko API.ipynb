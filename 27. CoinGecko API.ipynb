{
 "cells": [
  {
   "cell_type": "code",
   "execution_count": 1,
   "id": "975b8f06",
   "metadata": {},
   "outputs": [],
   "source": [
    "import requests\n",
    "import json\n",
    "from datetime import timedelta, date, datetime\n",
    "import time\n",
    "import sqlite3\n",
    "import matplotlib.pyplot as plt\n",
    "import pandas as pd\n",
    "import numpy as np"
   ]
  },
  {
   "cell_type": "code",
   "execution_count": 2,
   "id": "f5f645a9",
   "metadata": {},
   "outputs": [],
   "source": [
    "top_coins = [\n",
    "    'Bitcoin', \n",
    "    'Ethereum', \n",
    "    'Tether', \n",
    "    'USD Coin', \n",
    "    'BNB',\n",
    "]"
   ]
  },
  {
   "cell_type": "markdown",
   "id": "3f15a883",
   "metadata": {},
   "source": [
    "## Creating DB for results\n",
    "\n",
    "https://coinmarketcap.com/"
   ]
  },
  {
   "cell_type": "code",
   "execution_count": 3,
   "id": "ce4fc638",
   "metadata": {},
   "outputs": [],
   "source": [
    "conn = sqlite3.connect('datasets/coin_prices.db')\n",
    "c = conn.cursor()\n",
    "\n",
    "c.execute('''\n",
    "    CREATE TABLE IF NOT EXISTS prices (\n",
    "    coingecko_id nvarchar(255),\n",
    "    price_date date,\n",
    "    btc REAL,\n",
    "    usd REAL,\n",
    "    insert_dttm datetime\n",
    "    )\n",
    "''')\n",
    "\n",
    "conn.commit()\n",
    "\n",
    "c.execute('''\n",
    "    SELECT distinct price_date\n",
    "    FROM prices\n",
    "''')\n",
    "conn.commit()"
   ]
  },
  {
   "cell_type": "markdown",
   "id": "af4d9276",
   "metadata": {},
   "source": [
    "## Save loaded data"
   ]
  },
  {
   "cell_type": "code",
   "execution_count": 4,
   "id": "c416007c",
   "metadata": {},
   "outputs": [],
   "source": [
    "dates_saved = [\n",
    "    datetime.strptime(x[0], '%Y-%m-%d %H:%M:%S') for x in c.fetchall()\n",
    "]"
   ]
  },
  {
   "cell_type": "code",
   "execution_count": 5,
   "id": "624c6b3e",
   "metadata": {},
   "outputs": [],
   "source": [
    "def get_simple_coins_list() -> dict:\n",
    "    \"\"\"\n",
    "    Функция возвращает список всех поддерживаемых coingecko криптовалют\n",
    "    \"\"\"\n",
    "    coins_url = (\n",
    "        'https://api.coingecko.com/api/v3/coins/list?include_platform=false'\n",
    "    )\n",
    "    content = requests.get(coins_url)\n",
    "    return json.loads(content.text)\n",
    "\n",
    "def get_history(coin: str, date: str) -> dict:\n",
    "    \"\"\"\n",
    "    Функция возвращает историю по монете за дату\n",
    "    \n",
    "    Args:\n",
    "        coin (str): тикер монеты\n",
    "        date (str): дата в формате \"07-07-2022\"\n",
    "    \n",
    "    Returns:\n",
    "        (dict): словарь с двнными по цене\n",
    "    \"\"\"\n",
    "    history_url = (\n",
    "        f'https://api.coingecko.com/api/v3/coins/{coin}/history?date={date}'\n",
    "    )\n",
    "    content = requests.get(history_url)\n",
    "    return json.loads(content.text)\n"
   ]
  },
  {
   "cell_type": "markdown",
   "id": "5cdf1e5e",
   "metadata": {},
   "source": [
    "## Get coins data and list of all items"
   ]
  },
  {
   "cell_type": "code",
   "execution_count": 6,
   "id": "6249ddcf",
   "metadata": {},
   "outputs": [
    {
     "name": "stdout",
     "output_type": "stream",
     "text": [
      "CPU times: user 41.1 ms, sys: 9.45 ms, total: 50.5 ms\n",
      "Wall time: 101 ms\n"
     ]
    }
   ],
   "source": [
    "%%time\n",
    "coins_meta = get_simple_coins_list()"
   ]
  },
  {
   "cell_type": "code",
   "execution_count": 7,
   "id": "de89aff0",
   "metadata": {},
   "outputs": [],
   "source": [
    "def parse_coins_id(coins_meta: dict) -> list:\n",
    "    \"\"\"\n",
    "    Функция парсит данные по наименованиям монет и возвращает только нужные поля\n",
    "    \n",
    "    Args:\n",
    "        coins_meta (dict): словарь всех монет\n",
    "    Returns:\n",
    "        (list):  с преобразованными данными по монетам\n",
    "    \"\"\"\n",
    "    list_id = []\n",
    "    for row in coins_meta:\n",
    "        list_coin = (row['id'], row['symbol'], row['name'])\n",
    "        list_id.append(list_coin)\n",
    "    return list_id"
   ]
  },
  {
   "cell_type": "markdown",
   "id": "ab33a1a3",
   "metadata": {},
   "source": [
    "# Generate DataFrame fom list of all supported by coingecko cryptoCurrencies"
   ]
  },
  {
   "cell_type": "code",
   "execution_count": 8,
   "id": "c5320455",
   "metadata": {},
   "outputs": [
    {
     "name": "stdout",
     "output_type": "stream",
     "text": [
      "(11534, 3)\n"
     ]
    },
    {
     "data": {
      "text/html": [
       "<div>\n",
       "<style scoped>\n",
       "    .dataframe tbody tr th:only-of-type {\n",
       "        vertical-align: middle;\n",
       "    }\n",
       "\n",
       "    .dataframe tbody tr th {\n",
       "        vertical-align: top;\n",
       "    }\n",
       "\n",
       "    .dataframe thead th {\n",
       "        text-align: right;\n",
       "    }\n",
       "</style>\n",
       "<table border=\"1\" class=\"dataframe\">\n",
       "  <thead>\n",
       "    <tr style=\"text-align: right;\">\n",
       "      <th></th>\n",
       "      <th>id</th>\n",
       "      <th>symbol</th>\n",
       "      <th>name</th>\n",
       "    </tr>\n",
       "  </thead>\n",
       "  <tbody>\n",
       "    <tr>\n",
       "      <th>0</th>\n",
       "      <td>01coin</td>\n",
       "      <td>zoc</td>\n",
       "      <td>01coin</td>\n",
       "    </tr>\n",
       "    <tr>\n",
       "      <th>1</th>\n",
       "      <td>0chain</td>\n",
       "      <td>zcn</td>\n",
       "      <td>Zus</td>\n",
       "    </tr>\n",
       "    <tr>\n",
       "      <th>2</th>\n",
       "      <td>0vix-protocol</td>\n",
       "      <td>vix</td>\n",
       "      <td>0VIX Protocol</td>\n",
       "    </tr>\n",
       "    <tr>\n",
       "      <th>3</th>\n",
       "      <td>0x</td>\n",
       "      <td>zrx</td>\n",
       "      <td>0x</td>\n",
       "    </tr>\n",
       "    <tr>\n",
       "      <th>4</th>\n",
       "      <td>0x0-ai-ai-smart-contract</td>\n",
       "      <td>0x0</td>\n",
       "      <td>0x0.ai: AI Smart Contract</td>\n",
       "    </tr>\n",
       "  </tbody>\n",
       "</table>\n",
       "</div>"
      ],
      "text/plain": [
       "                         id symbol                       name\n",
       "0                    01coin    zoc                     01coin\n",
       "1                    0chain    zcn                        Zus\n",
       "2             0vix-protocol    vix              0VIX Protocol\n",
       "3                        0x    zrx                         0x\n",
       "4  0x0-ai-ai-smart-contract    0x0  0x0.ai: AI Smart Contract"
      ]
     },
     "execution_count": 8,
     "metadata": {},
     "output_type": "execute_result"
    }
   ],
   "source": [
    "df_coins_all_meta = pd.DataFrame(parse_coins_id(coins_meta), columns = ['id', 'symbol', 'name'])\n",
    "print(df_coins_all_meta.shape)\n",
    "df_coins_all_meta.head()"
   ]
  },
  {
   "cell_type": "markdown",
   "id": "65646245",
   "metadata": {},
   "source": [
    "# We select currencies which only are exists in our list"
   ]
  },
  {
   "cell_type": "code",
   "execution_count": 9,
   "id": "0b3ab3a0",
   "metadata": {},
   "outputs": [
    {
     "data": {
      "text/html": [
       "<div>\n",
       "<style scoped>\n",
       "    .dataframe tbody tr th:only-of-type {\n",
       "        vertical-align: middle;\n",
       "    }\n",
       "\n",
       "    .dataframe tbody tr th {\n",
       "        vertical-align: top;\n",
       "    }\n",
       "\n",
       "    .dataframe thead th {\n",
       "        text-align: right;\n",
       "    }\n",
       "</style>\n",
       "<table border=\"1\" class=\"dataframe\">\n",
       "  <thead>\n",
       "    <tr style=\"text-align: right;\">\n",
       "      <th></th>\n",
       "      <th>id</th>\n",
       "      <th>symbol</th>\n",
       "      <th>name</th>\n",
       "    </tr>\n",
       "  </thead>\n",
       "  <tbody>\n",
       "    <tr>\n",
       "      <th>1180</th>\n",
       "      <td>binancecoin</td>\n",
       "      <td>bnb</td>\n",
       "      <td>BNB</td>\n",
       "    </tr>\n",
       "    <tr>\n",
       "      <th>1243</th>\n",
       "      <td>bitcoin</td>\n",
       "      <td>btc</td>\n",
       "      <td>Bitcoin</td>\n",
       "    </tr>\n",
       "    <tr>\n",
       "      <th>3529</th>\n",
       "      <td>ethereum</td>\n",
       "      <td>eth</td>\n",
       "      <td>Ethereum</td>\n",
       "    </tr>\n",
       "    <tr>\n",
       "      <th>9909</th>\n",
       "      <td>tether</td>\n",
       "      <td>usdt</td>\n",
       "      <td>Tether</td>\n",
       "    </tr>\n",
       "    <tr>\n",
       "      <th>10506</th>\n",
       "      <td>usd-coin</td>\n",
       "      <td>usdc</td>\n",
       "      <td>USD Coin</td>\n",
       "    </tr>\n",
       "  </tbody>\n",
       "</table>\n",
       "</div>"
      ],
      "text/plain": [
       "                id symbol      name\n",
       "1180   binancecoin    bnb       BNB\n",
       "1243       bitcoin    btc   Bitcoin\n",
       "3529      ethereum    eth  Ethereum\n",
       "9909        tether   usdt    Tether\n",
       "10506     usd-coin   usdc  USD Coin"
      ]
     },
     "execution_count": 9,
     "metadata": {},
     "output_type": "execute_result"
    }
   ],
   "source": [
    "coins_set = df_coins_all_meta.loc[df_coins_all_meta.name.isin(top_coins)]\n",
    "coins_set"
   ]
  },
  {
   "cell_type": "markdown",
   "id": "44e4ae89",
   "metadata": {},
   "source": [
    "Generate start date and all date pool which we are need to processing. Period could be variable."
   ]
  },
  {
   "cell_type": "code",
   "execution_count": 10,
   "id": "7de3f4a7",
   "metadata": {},
   "outputs": [],
   "source": [
    "DELTA_PERIOD = 14\n",
    "\n",
    "if dates_saved:\n",
    "    start_date = max(dates_saved) + timedelta(days=1)\n",
    "else:\n",
    "    start_date = date.today() - timedelta(days=DELTA_PERIOD)\n",
    "\n",
    "end_date = date.today() - timedelta(days=1)\n",
    "daterange = [x.strftime('%d-%m-%Y') for x in pd.date_range(start_date, end_date)]"
   ]
  },
  {
   "cell_type": "code",
   "execution_count": 11,
   "id": "07f25906",
   "metadata": {},
   "outputs": [],
   "source": [
    "def get_coins_price_set(coins_ids: np.ndarray, daterange: list) -> list:\n",
    "    \"\"\"\n",
    "    Функция парсит данные по наименованиям монет и возвращает только нужные поля.\n",
    "    Args:\n",
    "        coins_ids (np.ndarray): массив из тикеров монет\n",
    "    \"\"\"\n",
    "    list_hist = []\n",
    "    \n",
    "    for each_id in coins_ids:\n",
    "        for i, each_date in enumerate(daterange):\n",
    "            try:\n",
    "                print(each_id, f'day {i+1}')\n",
    "                data = get_history(each_id, each_date)\n",
    "                btc_price = data['market_data']['current_price']['btc']\n",
    "                usd_price = data['market_data']['current_price']['usd']\n",
    "                list_hist.append((each_id, each_date, btc_price, usd_price))\n",
    "                time.sleep(1.25) # follow limitation 50req/sec\n",
    "            except Exception as e:\n",
    "                print(f'Error was occured {e}')\n",
    "                continue\n",
    "    return list_hist"
   ]
  },
  {
   "cell_type": "code",
   "execution_count": 12,
   "id": "b7802c66",
   "metadata": {},
   "outputs": [
    {
     "name": "stdout",
     "output_type": "stream",
     "text": [
      "Getting history for 5 coins and 14 days\n",
      "CPU times: user 834 µs, sys: 209 µs, total: 1.04 ms\n",
      "Wall time: 930 µs\n"
     ]
    }
   ],
   "source": [
    "%%time\n",
    "print(f\"Getting history for {coins_set['id'].nunique()} coins and {DELTA_PERIOD} days\")\n",
    "list_hist = get_coins_price_set(coins_set['id'].unique(), daterange)"
   ]
  },
  {
   "cell_type": "code",
   "execution_count": 13,
   "id": "cc85e0b0",
   "metadata": {},
   "outputs": [],
   "source": [
    "pd.set_option('display.float_format', str)"
   ]
  },
  {
   "cell_type": "code",
   "execution_count": 14,
   "id": "36ad85e9",
   "metadata": {},
   "outputs": [],
   "source": [
    "set_loaded_history_coins = pd.DataFrame(list_hist, columns=['coingecko_id', 'price_date', 'btc', 'usd']).sort_values('price_date')\n",
    "set_loaded_history_coins['price_date'] = set_loaded_history_coins['price_date'].apply(lambda x: datetime.strptime(x, '%d-%m-%Y'))\n",
    "set_loaded_history_coins['insert_dttm'] = datetime.now()\n",
    "\n",
    "set_history_coins = pd.DataFrame([x for x in c.fetchall()], columns=['coingecko_id', 'price_date', 'btc', 'usd', 'insert_dttm'])\n",
    "set_history_coins['price_date'] = set_history_coins['price_date'].apply(lambda x: datetime.strptime(x, '%d-%m-%Y')) \n",
    "\n",
    "set_all_coins = pd.concat([set_history_coins, set_loaded_history_coins])"
   ]
  },
  {
   "cell_type": "code",
   "execution_count": null,
   "id": "3c1ab17d",
   "metadata": {},
   "outputs": [],
   "source": [
    "# set_loaded_history_coins = pd.DataFrame(list_hist, \n",
    "#                                         columns=[\n",
    "#                                             'coingecko_id',\n",
    "#                                             'price_date',\n",
    "#                                             'btc', \n",
    "#                                             'usd'\n",
    "#                                         ]).sort_values('price_date')\n",
    "# set_loaded_history_coins['price_date'] = set_loaded_history_coins[\n",
    "#     'price_date'].apply(lambda x: datetime.strptime(x, '%d-%m-%Y'))\n",
    "# set_loaded_history_coins['insert_dttm'] = datetime.now()\n",
    "\n",
    "# set_history_coins = pd.DataFrame([x for x in c.fetchall()], columns=[\n",
    "#     'coingecko_id', \n",
    "#     'price_date',\n",
    "#     'btc',\n",
    "#     'usd', 'insert_dttm'])\n",
    "# set_history_coins['price_date'] = set_loaded_history_coins[\n",
    "#     'price_date'].apply(lambda x: datetime.strptime(x, '%d-%m-%Y'))\n",
    "# set_all_coins = pd.concat([set_history_coins, set_loaded_history_coins])"
   ]
  },
  {
   "cell_type": "code",
   "execution_count": null,
   "id": "0adf69b0",
   "metadata": {},
   "outputs": [],
   "source": [
    "set_all_coins.price_date = set_all_coins['price_date'].astype('datetime64[ns]')\n",
    "set_loaded_history_coins.to_sql('prices', conn, if_exists='append', index=False)"
   ]
  },
  {
   "cell_type": "code",
   "execution_count": null,
   "id": "3e02525c",
   "metadata": {},
   "outputs": [],
   "source": [
    "set_all_coins.head()"
   ]
  },
  {
   "cell_type": "code",
   "execution_count": null,
   "id": "006a7366",
   "metadata": {},
   "outputs": [],
   "source": [
    "max_val_btc = set_all_coins.groupby('coingecko_id')['btc'].max()\n",
    "max_val_btc_df = pd.DataFrame(max_val_btc).rename(columns = {'btc': 'btc_max'})\n",
    "\n",
    "set_history_coins_merged = pd.merge(\n",
    "    set_all_coins,\n",
    "    max_val_btc_df,\n",
    "    on='coingecko_id'\n",
    ")"
   ]
  },
  {
   "cell_type": "code",
   "execution_count": null,
   "id": "93f6fc8b",
   "metadata": {},
   "outputs": [],
   "source": [
    "# set_history_coins_merged['btc_norm'] = set_history_coins_merged['btc'] / set_history_coins_merged['btc_max']\n",
    "\n",
    "# avg_score = (\n",
    "#     set_history_coins_merged[['coingecko_id', 'price_date', 'btc_norm']]\n",
    "#     .groupby('coingecko_id')[['btc_norm']].mean()\n",
    "#     .sort_values('btc_norm', ascending=False)\n",
    "# )\n",
    "\n",
    "# bar_test = set_history_coins_merged.loc[set_history_coins_merged.price_date == \n",
    "#                                         set_history_coins_merged.price_date.max()\n",
    "#                                        ].sort_values('btc_norm', ascending=False)"
   ]
  },
  {
   "cell_type": "code",
   "execution_count": null,
   "id": "95fe6b3d",
   "metadata": {},
   "outputs": [],
   "source": [
    "max_val_btc = set_all_coins.groupby('coingecko_id')['btc'].max()\n",
    "max_val_btc_df = pd.DataFrame(max_val_btc).rename(columns = {'btc': 'btc_max'})\n",
    "\n",
    "set_history_coins_merged = pd.merge(\n",
    "    set_all_coins,\n",
    "    max_val_btc_df, \n",
    "    on='coingecko_id'\n",
    ")\n",
    "\n",
    "set_history_coins_merged['btc_norm'] = set_history_coins_merged['btc'] / set_history_coins_merged['btc_max']\n",
    "\n",
    "avg_score = (\n",
    "    set_history_coins_merged[['coingecko_id', 'price_date', 'btc_norm']]\n",
    "    .groupby('coingecko_id')[['btc_norm']].mean()\n",
    "    .sort_values('btc_norm', ascending = False)\n",
    ")\n",
    "\n",
    "bar_test = set_history_coins_merged.loc[set_history_coins_merged.price_date == \n",
    "                                        set_history_coins_merged.price_date.max()].sort_values('btc_norm', ascending=False)"
   ]
  },
  {
   "cell_type": "markdown",
   "id": "bbe4be66",
   "metadata": {},
   "source": [
    "## Plot Bar"
   ]
  },
  {
   "cell_type": "code",
   "execution_count": null,
   "id": "5c5c5e03",
   "metadata": {},
   "outputs": [],
   "source": [
    "bar_test.plot.bar(x='coingecko_id', y='btc_norm')\n",
    "plt.ylim(.8, 1.01)\n",
    "plt.show()"
   ]
  },
  {
   "cell_type": "code",
   "execution_count": null,
   "id": "a15f5004",
   "metadata": {},
   "outputs": [],
   "source": []
  },
  {
   "cell_type": "code",
   "execution_count": null,
   "id": "c2900a70",
   "metadata": {},
   "outputs": [],
   "source": []
  }
 ],
 "metadata": {
  "kernelspec": {
   "display_name": "Python 3 (ipykernel)",
   "language": "python",
   "name": "python3"
  },
  "language_info": {
   "codemirror_mode": {
    "name": "ipython",
    "version": 3
   },
   "file_extension": ".py",
   "mimetype": "text/x-python",
   "name": "python",
   "nbconvert_exporter": "python",
   "pygments_lexer": "ipython3",
   "version": "3.10.10"
  },
  "toc": {
   "base_numbering": 1,
   "nav_menu": {},
   "number_sections": false,
   "sideBar": true,
   "skip_h1_title": false,
   "title_cell": "Table of Contents",
   "title_sidebar": "Contents",
   "toc_cell": false,
   "toc_position": {
    "height": "calc(100% - 180px)",
    "left": "10px",
    "top": "150px",
    "width": "538px"
   },
   "toc_section_display": true,
   "toc_window_display": false
  }
 },
 "nbformat": 4,
 "nbformat_minor": 5
}
