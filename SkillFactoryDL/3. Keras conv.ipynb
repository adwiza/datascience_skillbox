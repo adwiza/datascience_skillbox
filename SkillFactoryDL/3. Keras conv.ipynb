{
 "cells": [
  {
   "cell_type": "markdown",
   "id": "d10a89d1",
   "metadata": {},
   "source": [
    "# Свёртки в Keras\n",
    "\n",
    "Будем использовать Fashion MNIST"
   ]
  },
  {
   "cell_type": "code",
   "execution_count": 1,
   "id": "425fb2d7",
   "metadata": {},
   "outputs": [
    {
     "name": "stdout",
     "output_type": "stream",
     "text": [
      "We're using TF 2.13.0\n",
      "We're using Keras 2.13.1\n"
     ]
    }
   ],
   "source": [
    "import numpy as np\n",
    "from sklearn.metrics import accuracy_score\n",
    "from matplotlib import pyplot as plt\n",
    "%matplotlib inline\n",
    "import tensorflow as tf\n",
    "print(\"We're using TF\", tf.__version__)\n",
    "import keras\n",
    "import keras.models as M\n",
    "import keras.layers as L\n",
    "import keras.backend as K\n",
    "print(\"We're using Keras\", keras.__version__)\n",
    "import pandas as pd"
   ]
  },
  {
   "cell_type": "markdown",
   "id": "4fb82a36",
   "metadata": {},
   "source": [
    "# Load data"
   ]
  },
  {
   "cell_type": "code",
   "execution_count": 2,
   "id": "6de960b0",
   "metadata": {},
   "outputs": [],
   "source": [
    "(x_train, y_train), (x_val, y_val) = tf.keras.datasets.fashion_mnist.load_data()"
   ]
  },
  {
   "cell_type": "code",
   "execution_count": 3,
   "id": "7f007d24",
   "metadata": {},
   "outputs": [
    {
     "name": "stdout",
     "output_type": "stream",
     "text": [
      "(60000, 28, 28)\n",
      "(10000, 28, 28)\n",
      "[9 0 0 3 0 2 7 2 5 5]\n",
      "[9 2 1 1 6 1 4 6 5 7]\n"
     ]
    }
   ],
   "source": [
    "print(x_train.shape)\n",
    "print(x_val.shape)\n",
    "print(y_train[:10])\n",
    "print(y_val[:10])"
   ]
  },
  {
   "cell_type": "code",
   "execution_count": 4,
   "id": "d2fc69ef",
   "metadata": {},
   "outputs": [
    {
     "name": "stdout",
     "output_type": "stream",
     "text": [
      "Пример кусочка картинки:\n"
     ]
    },
    {
     "data": {
      "text/plain": [
       "<matplotlib.image.AxesImage at 0x29456f610>"
      ]
     },
     "execution_count": 4,
     "metadata": {},
     "output_type": "execute_result"
    },
    {
     "data": {
      "image/png": "[encoded data removed]",
      "text/plain": [
       "<Figure size 640x480 with 1 Axes>"
      ]
     },
     "metadata": {},
     "output_type": "display_data"
    }
   ],
   "source": [
    "x_train_image = np.tile(x_train[5, :, :].reshape((28, 28))[:, :, np.newaxis], (1, 1, 3))\n",
    "print(\"Пример кусочка картинки:\")\n",
    "plt.imshow(x_train_image[15:20, 5:10], cmap=\"Greys\")"
   ]
  },
  {
   "cell_type": "code",
   "execution_count": 5,
   "id": "7a3ee2ba",
   "metadata": {},
   "outputs": [
    {
     "name": "stdout",
     "output_type": "stream",
     "text": [
      "Пример картинки:\n",
      "y_train [shape (60000,)] 10 примеров:\n",
      " [9 0 0 3 0 2 7 2 5 5]\n"
     ]
    },
    {
     "data": {
      "image/png": "[encoded data removed]",
      "text/plain": [
       "<Figure size 640x480 with 1 Axes>"
      ]
     },
     "metadata": {},
     "output_type": "display_data"
    }
   ],
   "source": [
    "print(\"Пример картинки:\")\n",
    "plt.imshow(x_train_image, cmap=\"Greys\")\n",
    "print(\"y_train [shape %s] 10 примеров:\\n\" % (str(y_train.shape)), y_train[:10])"
   ]
  },
  {
   "cell_type": "code",
   "execution_count": 6,
   "id": "aee4bcb2",
   "metadata": {},
   "outputs": [
    {
     "name": "stdout",
     "output_type": "stream",
     "text": [
      "(60000, 10)\n",
      "[[0. 0. 0. 0. 0. 0. 0. 0. 0. 1.]\n",
      " [1. 0. 0. 0. 0. 0. 0. 0. 0. 0.]\n",
      " [1. 0. 0. 0. 0. 0. 0. 0. 0. 0.]\n",
      " [0. 0. 0. 1. 0. 0. 0. 0. 0. 0.]\n",
      " [1. 0. 0. 0. 0. 0. 0. 0. 0. 0.]] [9 0 0 3 0]\n"
     ]
    }
   ],
   "source": [
    "# one-hot encode для ответов\n",
    "y_train_oh = keras.utils.to_categorical(y_train, 10)\n",
    "y_val_oh = keras.utils.to_categorical(y_val, 10)\n",
    "\n",
    "print(y_train_oh.shape)\n",
    "print(y_train_oh[:5], y_train[:5])"
   ]
  },
  {
   "cell_type": "markdown",
   "id": "cdfcd2d2",
   "metadata": {},
   "source": [
    "# Build the model"
   ]
  },
  {
   "cell_type": "code",
   "execution_count": 23,
   "id": "1c02d306",
   "metadata": {},
   "outputs": [],
   "source": [
    "K.clear_session()\n",
    "\n",
    "# В этот раз используем картинку как вход без вытягивания в вектор\n",
    "\n",
    "model = M.Sequential()\n",
    "model.add(L.Conv2D(filters=16, kernel_size=3, strides=1, padding='same', input_shape=(28, 28, 1)))\n",
    "model.add(L.MaxPool2D())\n",
    "model.add(L.Conv2D(filters=32, kernel_size=3, strides=1, padding='same'))\n",
    "model.add(L.MaxPool2D())\n",
    "model.add(L.Conv2D(filters=64, kernel_size=3, strides=1, padding='same'))\n",
    "model.add(L.MaxPool2D())\n",
    "model.add(L.Flatten())\n",
    "model.add(L.Dense(64, activation='elu'))\n",
    "model.add(L.Dense(10, activation='softmax'))"
   ]
  },
  {
   "cell_type": "code",
   "execution_count": 24,
   "id": "0f4c227c",
   "metadata": {},
   "outputs": [
    {
     "data": {
      "text/plain": [
       "576"
      ]
     },
     "execution_count": 24,
     "metadata": {},
     "output_type": "execute_result"
    }
   ],
   "source": [
    "3 * 3 * 64"
   ]
  },
  {
   "cell_type": "code",
   "execution_count": 25,
   "id": "fbac91f9",
   "metadata": {},
   "outputs": [
    {
     "name": "stdout",
     "output_type": "stream",
     "text": [
      "Model: \"sequential\"\n",
      "_________________________________________________________________\n",
      " Layer (type)                Output Shape              Param #   \n",
      "=================================================================\n",
      " conv2d (Conv2D)             (None, 28, 28, 16)        160       \n",
      "                                                                 \n",
      " max_pooling2d (MaxPooling2  (None, 14, 14, 16)        0         \n",
      " D)                                                              \n",
      "                                                                 \n",
      " conv2d_1 (Conv2D)           (None, 14, 14, 32)        4640      \n",
      "                                                                 \n",
      " max_pooling2d_1 (MaxPoolin  (None, 7, 7, 32)          0         \n",
      " g2D)                                                            \n",
      "                                                                 \n",
      " conv2d_2 (Conv2D)           (None, 7, 7, 64)          18496     \n",
      "                                                                 \n",
      " max_pooling2d_2 (MaxPoolin  (None, 3, 3, 64)          0         \n",
      " g2D)                                                            \n",
      "                                                                 \n",
      " flatten (Flatten)           (None, 576)               0         \n",
      "                                                                 \n",
      " dense (Dense)               (None, 64)                36928     \n",
      "                                                                 \n",
      " dense_1 (Dense)             (None, 10)                650       \n",
      "                                                                 \n",
      "=================================================================\n",
      "Total params: 60874 (237.79 KB)\n",
      "Trainable params: 60874 (237.79 KB)\n",
      "Non-trainable params: 0 (0.00 Byte)\n",
      "_________________________________________________________________\n"
     ]
    }
   ],
   "source": [
    "model.summary()"
   ]
  },
  {
   "cell_type": "code",
   "execution_count": 26,
   "id": "985472d8",
   "metadata": {},
   "outputs": [],
   "source": [
    "model.compile(\n",
    "    loss='categorical_crossentropy', # минимизируем кросс-энтропию\n",
    "    optimizer='adam', # так будет быстрее\n",
    "    metrics=['accuracy'] # выводим процент правильных ответов\n",
    ")"
   ]
  },
  {
   "cell_type": "code",
   "execution_count": 34,
   "id": "d976aaba",
   "metadata": {},
   "outputs": [
    {
     "data": {
      "text/plain": [
       "(60000, 28, 28)"
      ]
     },
     "execution_count": 34,
     "metadata": {},
     "output_type": "execute_result"
    }
   ],
   "source": [
    "# x_train_float[:, :, :, np.newaxis].shape\n",
    "x_train_float.shape"
   ]
  },
  {
   "cell_type": "code",
   "execution_count": 29,
   "id": "f47f14cb",
   "metadata": {},
   "outputs": [],
   "source": [
    "# центрируем и нормируем, так сети будет проще учиться\n",
    "x_train_float = x_train.astype(np.float64) / 255 - .5\n",
    "x_val_float = x_val.astype(np.float64) / 255 - .5"
   ]
  },
  {
   "cell_type": "code",
   "execution_count": 36,
   "id": "37e7140f",
   "metadata": {},
   "outputs": [
    {
     "name": "stdout",
     "output_type": "stream",
     "text": [
      "Epoch 1/5\n",
      "1875/1875 [==============================] - 19s 10ms/step - loss: 0.0998 - accuracy: 0.9607 - val_loss: 0.3449 - val_accuracy: 0.9105\n",
      "Epoch 2/5\n",
      "1875/1875 [==============================] - 19s 10ms/step - loss: 0.0899 - accuracy: 0.9655 - val_loss: 0.3639 - val_accuracy: 0.9095\n",
      "Epoch 3/5\n",
      "1875/1875 [==============================] - 19s 10ms/step - loss: 0.0819 - accuracy: 0.9683 - val_loss: 0.4036 - val_accuracy: 0.9079\n",
      "Epoch 4/5\n",
      "1875/1875 [==============================] - 19s 10ms/step - loss: 0.0754 - accuracy: 0.9718 - val_loss: 0.4244 - val_accuracy: 0.9053\n",
      "Epoch 5/5\n",
      "1875/1875 [==============================] - 19s 10ms/step - loss: 0.0712 - accuracy: 0.9730 - val_loss: 0.4410 - val_accuracy: 0.9081\n"
     ]
    }
   ],
   "source": [
    "history = model.fit(\n",
    "    x_train_float[:, :, :, np.newaxis],\n",
    "    y_train_oh,\n",
    "    batch_size=32,\n",
    "    epochs=5,\n",
    "    validation_data=(x_val_float[:, :, :, np.newaxis], y_val_oh)\n",
    ")"
   ]
  },
  {
   "cell_type": "code",
   "execution_count": 38,
   "id": "e1b79de3",
   "metadata": {},
   "outputs": [
    {
     "data": {
      "text/plain": [
       "<matplotlib.legend.Legend at 0x2cdc63100>"
      ]
     },
     "execution_count": 38,
     "metadata": {},
     "output_type": "execute_result"
    },
    {
     "data": {
      "image/png": "[encoded data removed]",
      "text/plain": [
       "<Figure size 1000x500 with 1 Axes>"
      ]
     },
     "metadata": {},
     "output_type": "display_data"
    }
   ],
   "source": [
    "# Plot trainig & validation accuracy values\n",
    "plt.style.use(['dark_background'])\n",
    "fig, ax = plt.subplots(figsize=(10, 5))\n",
    "plt.plot(history.history['accuracy'])\n",
    "plt.plot(history.history['val_accuracy'])\n",
    "plt.title('Model accuracy')\n",
    "plt.ylabel('Accuracy')\n",
    "plt.xlabel('Epoch')\n",
    "plt.legend(['Train', 'Test'], loc='upper left')\n",
    "# plt.show()"
   ]
  },
  {
   "cell_type": "code",
   "execution_count": 39,
   "id": "b5cee2dc",
   "metadata": {},
   "outputs": [
    {
     "data": {
      "image/png": "[encoded data removed]",
      "text/plain": [
       "<Figure size 1000x500 with 1 Axes>"
      ]
     },
     "metadata": {},
     "output_type": "display_data"
    }
   ],
   "source": [
    "# Plot trainig & validation loss values\n",
    "plt.style.use(['dark_background'])\n",
    "fig, ax = plt.subplots(figsize=(10, 5))\n",
    "plt.plot(history.history['loss'])\n",
    "plt.plot(history.history['val_loss'])\n",
    "plt.title('Model loss')\n",
    "plt.ylabel('Loss')\n",
    "plt.xlabel('Epoch')\n",
    "plt.legend(['Train', 'Test'], loc='upper left')\n",
    "plt.show()"
   ]
  },
  {
   "cell_type": "code",
   "execution_count": 40,
   "id": "ece6a0c2",
   "metadata": {},
   "outputs": [
    {
     "name": "stdout",
     "output_type": "stream",
     "text": [
      "313/313 [==============================] - 1s 2ms/step\n"
     ]
    },
    {
     "data": {
      "text/plain": [
       "array([[2.5433264e-20, 2.2085579e-14, 2.3681566e-19, ..., 1.3991643e-10,\n",
       "        2.1571479e-12, 1.0000000e+00],\n",
       "       [2.8534799e-09, 4.6643223e-17, 1.0000000e+00, ..., 2.8517486e-21,\n",
       "        3.4347649e-21, 6.3447002e-19],\n",
       "       [3.6348819e-38, 1.0000000e+00, 3.0578189e-31, ..., 0.0000000e+00,\n",
       "        0.0000000e+00, 2.0842043e-36],\n",
       "       ...,\n",
       "       [1.9847876e-16, 1.5384682e-20, 3.5092890e-14, ..., 6.7735518e-21,\n",
       "        1.0000000e+00, 3.8372864e-21],\n",
       "       [1.4375655e-34, 1.0000000e+00, 6.5471960e-28, ..., 3.8021305e-34,\n",
       "        7.0578293e-34, 7.4636173e-30],\n",
       "       [3.3526588e-11, 7.0886946e-10, 4.8325813e-08, ..., 9.9017870e-01,\n",
       "        6.3052754e-09, 2.1407891e-10]], dtype=float32)"
      ]
     },
     "execution_count": 40,
     "metadata": {},
     "output_type": "execute_result"
    }
   ],
   "source": [
    "model.predict(x_val_float)"
   ]
  },
  {
   "cell_type": "code",
   "execution_count": null,
   "id": "b56cb72c",
   "metadata": {},
   "outputs": [],
   "source": []
  }
 ],
 "metadata": {
  "kernelspec": {
   "display_name": "Python 3 (ipykernel)",
   "language": "python",
   "name": "python3"
  },
  "language_info": {
   "codemirror_mode": {
    "name": "ipython",
    "version": 3
   },
   "file_extension": ".py",
   "mimetype": "text/x-python",
   "name": "python",
   "nbconvert_exporter": "python",
   "pygments_lexer": "ipython3",
   "version": "3.8.12"
  },
  "toc": {
   "base_numbering": 1,
   "nav_menu": {},
   "number_sections": true,
   "sideBar": true,
   "skip_h1_title": false,
   "title_cell": "Table of Contents",
   "title_sidebar": "Contents",
   "toc_cell": false,
   "toc_position": {},
   "toc_section_display": true,
   "toc_window_display": false
  }
 },
 "nbformat": 4,
 "nbformat_minor": 5
}
