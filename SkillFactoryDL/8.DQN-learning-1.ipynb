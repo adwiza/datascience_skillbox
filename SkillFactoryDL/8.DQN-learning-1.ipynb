{
 "cells": [
  {
   "cell_type": "code",
   "execution_count": null,
   "id": "47a4e369",
   "metadata": {},
   "outputs": [],
   "source": [
    "import numpy as np\n",
    "import gym\n",
    "import matplotlib.pyplot as plt\n",
    "\n",
    "import tensorflow as tf\n",
    "\n",
    "%matplotlib inline"
   ]
  },
  {
   "cell_type": "markdown",
   "id": "a6017161",
   "metadata": {},
   "source": [
    "# Load GYM environment"
   ]
  },
  {
   "cell_type": "code",
   "execution_count": null,
   "id": "8111b2b3",
   "metadata": {},
   "outputs": [],
   "source": [
    "env = gym.make('FrozenLake-v1', render_mode='rgb_array', is_slippery=False)\n",
    "\n",
    "NUM_STATES = env.observation_space.n\n",
    "NUM_ACTIONS = env.action_space.n\n",
    "\n",
    "print(f'States: {NUM_STATES}')\n",
    "print(f'Actions: {NUM_ACTIONS}')"
   ]
  },
  {
   "cell_type": "markdown",
   "id": "f092e7e5",
   "metadata": {},
   "source": [
    "# Settings"
   ]
  },
  {
   "cell_type": "code",
   "execution_count": null,
   "id": "756b61c9",
   "metadata": {},
   "outputs": [],
   "source": [
    "lr = .8\n",
    "gamma = .95\n",
    "\n",
    "NUM_EPISODES = 3000\n",
    "MAX_STEPS = 100\n",
    "REWARD_AVERAGE_WINDOW = 20"
   ]
  },
  {
   "cell_type": "markdown",
   "id": "ba6cbb34",
   "metadata": {},
   "source": [
    "# DQN Model"
   ]
  },
  {
   "cell_type": "code",
   "execution_count": null,
   "id": "d80cb04b",
   "metadata": {},
   "outputs": [],
   "source": [
    "model = tf.keras.Sequential([tf.keras.layers.Dense(\n",
    "    NUM_ACTIONS,\n",
    "    activation=None,\n",
    "    use_bias=False,\n",
    "    kernel_initializer=tf.initializers.random_uniform(0, 0.01))])\n",
    "\n",
    "def evalQ(s):\n",
    "    return model(tf.one_hot([s], NUM_STATES)).numpy()[0]"
   ]
  },
  {
   "cell_type": "markdown",
   "id": "0c112b17",
   "metadata": {},
   "source": [
    "# Prepare model for training"
   ]
  },
  {
   "cell_type": "code",
   "execution_count": null,
   "id": "0bbd1b6d",
   "metadata": {},
   "outputs": [],
   "source": [
    "def loss(q1, q2):\n",
    "    return tf.resuce_sum(tf.square(q1 - q2))\n",
    "\n",
    "optimizer = tf.compat.v1.train.GradientDescentOptimizer(learning_rate=lr)\n",
    "model.compile(loss=loss, optimizer=optimizer)\n",
    "\n",
    "pathLenList = []\n",
    "totalRewardList = []\n",
    "totalRewardAverageList = []"
   ]
  },
  {
   "cell_type": "markdown",
   "id": "87f14c19",
   "metadata": {},
   "source": [
    "# DQN training"
   ]
  },
  {
   "cell_type": "code",
   "execution_count": null,
   "id": "4aa7c574",
   "metadata": {},
   "outputs": [],
   "source": [
    "for i in range(NUM_EPISODES):\n",
    "    eps = 1. / ((i/50) + 10)\n",
    "    \n",
    "    s = env.reset()\n",
    "    \n",
    "    totalReward = 0\n",
    "    step = 0\n",
    "    \n",
    "    while step < MAX_STEPS:\n",
    "        step += 1\n",
    "        \n",
    "        Q_s = evalQ(s)\n",
    "        \n",
    "        if np.random.rand() < eps:\n",
    "            a = env.action_space.sample()\n",
    "        else:\n",
    "            a = np.argmax(Q_s)\n",
    "        s1, r, done, _ = env.step(a)\n",
    "        \n",
    "        Q_s1 = evalQ(s1)\n",
    "        \n",
    "        Q_target = Q_s\n",
    "        if done:\n",
    "            Q_target[a] = r\n",
    "        else:\n",
    "            Q_target[a] = r + gamma * np.max(Q_s1a)\n",
    "        Q_target = tf.constant(Q_target)[None, ...]\n",
    "        model.train_on_batch(tf.one_hot([s], NUM_STATES), Q_target)\n",
    "        \n",
    "        totalReward += r\n",
    "        s = s1\n",
    "        if done:\n",
    "            break\n",
    "    pathLenList.append(step)\n",
    "    totalRewardList.append(totalReward)\n",
    "    \n",
    "    if i % REWARD_AVERAGE_WINDOW == 0 and i >= REWARD_AVERAGE_WINDOW:\n",
    "        totalRewardAverage = np.mean(totalRewardList[-REWARD_AVERAGE_WINDOW:])\n",
    "        totalRewardAveragesList.append(totalRewardAverage)\n",
    "        if i % 100 == 0:\n",
    "            print('Episode {}: average total reward = {}').format(i, totalRewardAverage)"
   ]
  },
  {
   "cell_type": "markdown",
   "id": "33fe44de",
   "metadata": {},
   "source": [
    "# Q-Table"
   ]
  },
  {
   "cell_type": "code",
   "execution_count": null,
   "id": "988821ec",
   "metadata": {},
   "outputs": [],
   "source": [
    "print(Q)"
   ]
  },
  {
   "cell_type": "markdown",
   "id": "744e55d7",
   "metadata": {},
   "source": [
    "# Plot trajectory length lover time"
   ]
  },
  {
   "cell_type": "code",
   "execution_count": null,
   "id": "8b28b214",
   "metadata": {},
   "outputs": [],
   "source": [
    "plt.plot(pathLenList)\n",
    "plt.grid()"
   ]
  },
  {
   "cell_type": "markdown",
   "id": "12c50f02",
   "metadata": {},
   "source": [
    "# Plot average total reward over time"
   ]
  },
  {
   "cell_type": "code",
   "execution_count": null,
   "id": "bcfab21d",
   "metadata": {},
   "outputs": [],
   "source": [
    "plt.plot(totalRewardAveragesList)\n",
    "plt.grid()"
   ]
  },
  {
   "cell_type": "markdown",
   "id": "2c243787",
   "metadata": {},
   "source": [
    "# Run similation"
   ]
  },
  {
   "cell_type": "code",
   "execution_count": null,
   "id": "a3058a2e",
   "metadata": {},
   "outputs": [],
   "source": [
    "s = env.reset()\n",
    "\n",
    "for _ in range(1000):\n",
    "    env.render()\n",
    "    a = np.argmax(evalQ(s))\n",
    "    s, r, done, _ = env.step(a)\n",
    "    if done:\n",
    "        print(f'Reward = {r}')\n",
    "        break\n",
    "env.close()"
   ]
  },
  {
   "cell_type": "code",
   "execution_count": null,
   "id": "de9fd0ed",
   "metadata": {},
   "outputs": [],
   "source": []
  }
 ],
 "metadata": {
  "kernelspec": {
   "display_name": "Python 3 (ipykernel)",
   "language": "python",
   "name": "python3"
  },
  "language_info": {
   "codemirror_mode": {
    "name": "ipython",
    "version": 3
   },
   "file_extension": ".py",
   "mimetype": "text/x-python",
   "name": "python",
   "nbconvert_exporter": "python",
   "pygments_lexer": "ipython3",
   "version": "3.8.12"
  },
  "toc": {
   "base_numbering": 1,
   "nav_menu": {},
   "number_sections": true,
   "sideBar": true,
   "skip_h1_title": false,
   "title_cell": "Table of Contents",
   "title_sidebar": "Contents",
   "toc_cell": false,
   "toc_position": {},
   "toc_section_display": true,
   "toc_window_display": false
  }
 },
 "nbformat": 4,
 "nbformat_minor": 5
}
