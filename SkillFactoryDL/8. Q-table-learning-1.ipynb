{
 "cells": [
  {
   "cell_type": "code",
   "execution_count": 2,
   "id": "47a4e369",
   "metadata": {},
   "outputs": [],
   "source": [
    "import numpy as np\n",
    "import gym\n",
    "import matplotlib.pyplot as plt\n",
    "\n",
    "%matplotlib inline"
   ]
  },
  {
   "cell_type": "markdown",
   "id": "a6017161",
   "metadata": {},
   "source": [
    "# Load GYM environment"
   ]
  },
  {
   "cell_type": "code",
   "execution_count": 4,
   "id": "8111b2b3",
   "metadata": {},
   "outputs": [
    {
     "name": "stdout",
     "output_type": "stream",
     "text": [
      "States: 16\n",
      "Actions: 4\n"
     ]
    }
   ],
   "source": [
    "env = gym.make('FrozenLake-v1', render_mode='ansi', is_slippery=False)\n",
    "\n",
    "NUM_STATES = env.observation_space.n\n",
    "NUM_ACTIONS = env.action_space.n\n",
    "\n",
    "print(f'States: {NUM_STATES}')\n",
    "print(f'Actions: {NUM_ACTIONS}')"
   ]
  },
  {
   "cell_type": "markdown",
   "id": "f092e7e5",
   "metadata": {},
   "source": [
    "# Settings"
   ]
  },
  {
   "cell_type": "code",
   "execution_count": 5,
   "id": "756b61c9",
   "metadata": {},
   "outputs": [],
   "source": [
    "lr = .8\n",
    "gamma = .95\n",
    "\n",
    "NUM_EPISODES = 3000\n",
    "MAX_STEPS = 100\n",
    "REWARD_AVERAGE_WINDOW = 20"
   ]
  },
  {
   "cell_type": "markdown",
   "id": "ba6cbb34",
   "metadata": {},
   "source": [
    "# Q-Table initialization"
   ]
  },
  {
   "cell_type": "code",
   "execution_count": 6,
   "id": "d80cb04b",
   "metadata": {},
   "outputs": [],
   "source": [
    "Q = np.zeros([NUM_STATES, NUM_ACTIONS])\n",
    "\n",
    "pathLenList = []\n",
    "toralRewardList = []\n",
    "totalRewardAveragesList = []"
   ]
  },
  {
   "cell_type": "markdown",
   "id": "0c112b17",
   "metadata": {},
   "source": [
    "# Q-Table learning"
   ]
  },
  {
   "cell_type": "code",
   "execution_count": 14,
   "id": "4aa7c574",
   "metadata": {},
   "outputs": [
    {
     "ename": "ValueError",
     "evalue": "too many values to unpack (expected 4)",
     "output_type": "error",
     "traceback": [
      "\u001b[0;31m---------------------------------------------------------------------------\u001b[0m",
      "\u001b[0;31mValueError\u001b[0m                                Traceback (most recent call last)",
      "Cell \u001b[0;32mIn[14], line 16\u001b[0m\n\u001b[1;32m     14\u001b[0m \u001b[38;5;28;01melse\u001b[39;00m:\n\u001b[1;32m     15\u001b[0m     a \u001b[38;5;241m=\u001b[39m np\u001b[38;5;241m.\u001b[39margmax(Q[s, :])\n\u001b[0;32m---> 16\u001b[0m s1, r, done, _ \u001b[38;5;241m=\u001b[39m env\u001b[38;5;241m.\u001b[39mstep(a)\n\u001b[1;32m     17\u001b[0m \u001b[38;5;28;01mif\u001b[39;00m done:\n\u001b[1;32m     18\u001b[0m     Q_target \u001b[38;5;241m=\u001b[39m r\n",
      "\u001b[0;31mValueError\u001b[0m: too many values to unpack (expected 4)"
     ]
    }
   ],
   "source": [
    "for i in range(NUM_EPISODES):\n",
    "    eps = 1.0 - float(i) / NUM_EPISODES\n",
    "    \n",
    "    s = env.reset()\n",
    "    \n",
    "    totalReward = 0\n",
    "    step = 0\n",
    "    \n",
    "    while step < MAX_STEPS:\n",
    "        step += 1\n",
    "        \n",
    "        if np.random.rand() < eps:\n",
    "            a = env.action_space.sample()\n",
    "        else:\n",
    "            a = np.argmax(Q[s, :])\n",
    "        s1, r, done, _ = env.step(a)\n",
    "        if done:\n",
    "            Q_target = r\n",
    "        else:\n",
    "            Q_target = r + gamma * np.max(Q[s1, :])\n",
    "        Q[s, a] = (1 - lr) * Q[s, a] + lr * Q_target\n",
    "        \n",
    "        totalReward += r\n",
    "        s = s1\n",
    "        if done:\n",
    "            break\n",
    "    pathLenList.append(step)\n",
    "    totalRewardList.append(totalReward)\n",
    "    \n",
    "    if i % REWARD_AVERAGE_WINDOW == 0 and i >= REWARD_AVERAGE_WINDOW:\n",
    "        totalRewardAverage = np.mean(totalRewardList[-REWARD_AVERAGE_WINDOW:])\n",
    "        totalRewardAveragesList.append(totalRewardAverage)\n",
    "        if i % 100 == 0:\n",
    "            print('Episode {}: average total reward = {}').format(i, totalRewardAverage)"
   ]
  },
  {
   "cell_type": "markdown",
   "id": "33fe44de",
   "metadata": {},
   "source": [
    "# Q-Table"
   ]
  },
  {
   "cell_type": "code",
   "execution_count": 17,
   "id": "988821ec",
   "metadata": {},
   "outputs": [
    {
     "name": "stdout",
     "output_type": "stream",
     "text": [
      "[[0. 0. 0. 0.]\n",
      " [0. 0. 0. 0.]\n",
      " [0. 0. 0. 0.]\n",
      " [0. 0. 0. 0.]\n",
      " [0. 0. 0. 0.]\n",
      " [0. 0. 0. 0.]\n",
      " [0. 0. 0. 0.]\n",
      " [0. 0. 0. 0.]\n",
      " [0. 0. 0. 0.]\n",
      " [0. 0. 0. 0.]\n",
      " [0. 0. 0. 0.]\n",
      " [0. 0. 0. 0.]\n",
      " [0. 0. 0. 0.]\n",
      " [0. 0. 0. 0.]\n",
      " [0. 0. 0. 0.]\n",
      " [0. 0. 0. 0.]]\n"
     ]
    }
   ],
   "source": [
    "print(Q)"
   ]
  },
  {
   "cell_type": "markdown",
   "id": "744e55d7",
   "metadata": {},
   "source": [
    "# Plot trajectory length lover time"
   ]
  },
  {
   "cell_type": "code",
   "execution_count": 18,
   "id": "8b28b214",
   "metadata": {},
   "outputs": [
    {
     "data": {
      "image/png": "[encoded data removed]",
      "text/plain": [
       "<Figure size 640x480 with 1 Axes>"
      ]
     },
     "metadata": {},
     "output_type": "display_data"
    }
   ],
   "source": [
    "plt.plot(pathLenList)\n",
    "plt.grid()"
   ]
  },
  {
   "cell_type": "markdown",
   "id": "12c50f02",
   "metadata": {},
   "source": [
    "# Plot average total reward over time"
   ]
  },
  {
   "cell_type": "code",
   "execution_count": 19,
   "id": "bcfab21d",
   "metadata": {},
   "outputs": [
    {
     "data": {
      "image/png": "[encoded data removed]",
      "text/plain": [
       "<Figure size 640x480 with 1 Axes>"
      ]
     },
     "metadata": {},
     "output_type": "display_data"
    }
   ],
   "source": [
    "plt.plot(totalRewardAveragesList)\n",
    "plt.grid()"
   ]
  },
  {
   "cell_type": "markdown",
   "id": "2c243787",
   "metadata": {},
   "source": [
    "# Run similation"
   ]
  },
  {
   "cell_type": "code",
   "execution_count": 21,
   "id": "a3058a2e",
   "metadata": {},
   "outputs": [
    {
     "ename": "IndexError",
     "evalue": "only integers, slices (`:`), ellipsis (`...`), numpy.newaxis (`None`) and integer or boolean arrays are valid indices",
     "output_type": "error",
     "traceback": [
      "\u001b[0;31m---------------------------------------------------------------------------\u001b[0m",
      "\u001b[0;31mIndexError\u001b[0m                                Traceback (most recent call last)",
      "Cell \u001b[0;32mIn[21], line 8\u001b[0m\n\u001b[1;32m      6\u001b[0m env\u001b[38;5;241m.\u001b[39mrender()\n\u001b[1;32m      7\u001b[0m \u001b[38;5;28;01mif\u001b[39;00m USE_Q:\n\u001b[0;32m----> 8\u001b[0m     a \u001b[38;5;241m=\u001b[39m np\u001b[38;5;241m.\u001b[39margmax(\u001b[43mQ\u001b[49m\u001b[43m[\u001b[49m\u001b[43ms\u001b[49m\u001b[43m]\u001b[49m)\n\u001b[1;32m      9\u001b[0m \u001b[38;5;28;01melse\u001b[39;00m:\n\u001b[1;32m     10\u001b[0m     a \u001b[38;5;241m=\u001b[39m env\u001b[38;5;241m.\u001b[39maction_space\u001b[38;5;241m.\u001b[39msample()\n",
      "\u001b[0;31mIndexError\u001b[0m: only integers, slices (`:`), ellipsis (`...`), numpy.newaxis (`None`) and integer or boolean arrays are valid indices"
     ]
    }
   ],
   "source": [
    "USE_Q = True\n",
    "\n",
    "s = env.reset()\n",
    "\n",
    "for _ in range(1000):\n",
    "    env.render()\n",
    "    if USE_Q:\n",
    "        a = np.argmax(Q[s,:])\n",
    "    else:\n",
    "        a = env.action_space.sample()\n",
    "    s, r, done, _ = env.step(a)[:4]\n",
    "    if done:\n",
    "        print(f'Reward = {r}')\n",
    "env.close()"
   ]
  },
  {
   "cell_type": "code",
   "execution_count": null,
   "id": "de9fd0ed",
   "metadata": {},
   "outputs": [],
   "source": []
  }
 ],
 "metadata": {
  "kernelspec": {
   "display_name": "Python 3 (ipykernel)",
   "language": "python",
   "name": "python3"
  },
  "language_info": {
   "codemirror_mode": {
    "name": "ipython",
    "version": 3
   },
   "file_extension": ".py",
   "mimetype": "text/x-python",
   "name": "python",
   "nbconvert_exporter": "python",
   "pygments_lexer": "ipython3",
   "version": "3.8.12"
  },
  "toc": {
   "base_numbering": 1,
   "nav_menu": {},
   "number_sections": true,
   "sideBar": true,
   "skip_h1_title": false,
   "title_cell": "Table of Contents",
   "title_sidebar": "Contents",
   "toc_cell": false,
   "toc_position": {},
   "toc_section_display": true,
   "toc_window_display": false
  }
 },
 "nbformat": 4,
 "nbformat_minor": 5
}
