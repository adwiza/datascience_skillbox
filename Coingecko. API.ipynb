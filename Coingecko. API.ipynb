{
 "cells": [
  {
   "cell_type": "markdown",
   "id": "aMZWqYZ3fdCn",
   "metadata": {
    "id": "aMZWqYZ3fdCn"
   },
   "source": [
    "## Работа с API"
   ]
  },
  {
   "cell_type": "markdown",
   "id": "ulvMXKrPogLy",
   "metadata": {
    "id": "ulvMXKrPogLy"
   },
   "source": [
    "Библиотеки:\n",
    "\n",
    "* pandas для работы с данными\n",
    "* matplotlib для визуализации \n",
    "* time, datetime для работы со временем и датами\n",
    "* requests для HTTPS-запросов\n",
    "* json для работы с содержимым запросов \n",
    "* sqlite3 для работы с базой данных SQlite"
   ]
  },
  {
   "cell_type": "code",
   "execution_count": 1,
   "id": "844c0d4f",
   "metadata": {
    "executionInfo": {
     "elapsed": 296,
     "status": "ok",
     "timestamp": 1659116932730,
     "user": {
      "displayName": "Fedor Erin",
      "userId": "14230325476000231713"
     },
     "user_tz": -180
    },
    "id": "844c0d4f"
   },
   "outputs": [],
   "source": [
    "import requests\n",
    "import json\n",
    "from datetime import timedelta, date, datetime\n",
    "import time\n",
    "import sqlite3\n",
    "import matplotlib.pyplot as plt\n",
    "import pandas as pd"
   ]
  },
  {
   "cell_type": "markdown",
   "id": "Cuxja0EIfUaZ",
   "metadata": {
    "id": "Cuxja0EIfUaZ"
   },
   "source": [
    "#### Справочник криптовалют: возмем Топ-5 монет по капитализации согласно [CoinMarketCap](https://coinmarketcap.com/)"
   ]
  },
  {
   "cell_type": "code",
   "execution_count": 2,
   "id": "dd9f1d90",
   "metadata": {
    "executionInfo": {
     "elapsed": 269,
     "status": "ok",
     "timestamp": 1659116970641,
     "user": {
      "displayName": "Fedor Erin",
      "userId": "14230325476000231713"
     },
     "user_tz": -180
    },
    "id": "dd9f1d90"
   },
   "outputs": [],
   "source": [
    "top_coins = [\n",
    "    'Bitcoin', \n",
    "    'Ethereum', \n",
    "    'Tether', \n",
    "    'USD Coin', \n",
    "    'BNB'\n",
    "]"
   ]
  },
  {
   "cell_type": "markdown",
   "id": "CGHMkEP1f6xw",
   "metadata": {
    "id": "CGHMkEP1f6xw"
   },
   "source": [
    "#### Создаем небольшую базу данных для хранения результатов"
   ]
  },
  {
   "cell_type": "code",
   "execution_count": 3,
   "id": "d34f4dbe",
   "metadata": {
    "executionInfo": {
     "elapsed": 255,
     "status": "ok",
     "timestamp": 1659116975309,
     "user": {
      "displayName": "Fedor Erin",
      "userId": "14230325476000231713"
     },
     "user_tz": -180
    },
    "id": "d34f4dbe"
   },
   "outputs": [],
   "source": [
    "conn = sqlite3.connect('coins_prices')\n",
    "c = conn.cursor()\n",
    "\n",
    "c.execute('''\n",
    "    CREATE TABLE IF NOT EXISTS prices (\n",
    "          coingecko_id nvarchar(255), \n",
    "          price_date date, \n",
    "          btc REAL, \n",
    "          usd REAL, \n",
    "          insert_dttm datetime\n",
    "    )\n",
    "''')\n",
    "conn.commit()\n",
    "\n",
    "c.execute('''\n",
    "    SELECT distinct price_date \n",
    "    FROM prices\n",
    "''')\n",
    "conn.commit()"
   ]
  },
  {
   "cell_type": "markdown",
   "id": "Ui87t1yahPfk",
   "metadata": {
    "id": "Ui87t1yahPfk"
   },
   "source": [
    "#### Фиксируем все уже загруженные данные"
   ]
  },
  {
   "cell_type": "code",
   "execution_count": 4,
   "id": "f7a6a0b5",
   "metadata": {
    "executionInfo": {
     "elapsed": 309,
     "status": "ok",
     "timestamp": 1659117040770,
     "user": {
      "displayName": "Fedor Erin",
      "userId": "14230325476000231713"
     },
     "user_tz": -180
    },
    "id": "f7a6a0b5"
   },
   "outputs": [],
   "source": [
    "dates_saved = [\n",
    "  datetime.strptime(x[0], '%Y-%m-%d %H:%M:%S') for x in c.fetchall()\n",
    "]"
   ]
  },
  {
   "cell_type": "markdown",
   "id": "1KJstcyNpMEE",
   "metadata": {
    "id": "1KJstcyNpMEE"
   },
   "source": [
    "#### Проанализировав документацию, можно понять как формируются ссылки, которые отвечают за определенные данные, создадим функции для этого"
   ]
  },
  {
   "cell_type": "code",
   "execution_count": 5,
   "id": "d195ef99",
   "metadata": {
    "executionInfo": {
     "elapsed": 275,
     "status": "ok",
     "timestamp": 1659117133184,
     "user": {
      "displayName": "Fedor Erin",
      "userId": "14230325476000231713"
     },
     "user_tz": -180
    },
    "id": "d195ef99"
   },
   "outputs": [],
   "source": [
    "def get_simple_coins_list() -> dict:\n",
    "    \"\"\"\n",
    "    Функция возвращает список всех поддерживаемых coingecko криптовалют\n",
    "    \"\"\"\n",
    "    coins_url = (\n",
    "        'https://api.coingecko.com/api/v3/coins/list?include_platform=false'\n",
    "    )\n",
    "    content = requests.get(coins_url)\n",
    "    return json.loads(content.text)\n",
    "\n",
    "def get_history(coin: str, date: str) -> dict:\n",
    "    \"\"\"\n",
    "    Функция возвращает историю по монете за дату \n",
    "    \n",
    "    Args:\n",
    "        coin (str): тикер монеты\n",
    "        date (str): дата в формате \"07-07-2022\"\n",
    "    \n",
    "    Returns:\n",
    "        (dict): словарь с данными по цене\n",
    "    \"\"\"\n",
    "    history_url = (\n",
    "        f'https://api.coingecko.com/api/v3/coins/{coin}/history?date={date}'\n",
    "    )\n",
    "    content = requests.get(history_url)\n",
    "    return json.loads(content.text)"
   ]
  },
  {
   "cell_type": "markdown",
   "id": "wCrHlBr9hpRi",
   "metadata": {
    "id": "wCrHlBr9hpRi"
   },
   "source": [
    "#### Получаем данные по монетам, список всех наимнований"
   ]
  },
  {
   "cell_type": "code",
   "execution_count": 6,
   "id": "402731ed",
   "metadata": {
    "colab": {
     "base_uri": "https://localhost:8080/"
    },
    "executionInfo": {
     "elapsed": 246,
     "status": "ok",
     "timestamp": 1659117139229,
     "user": {
      "displayName": "Fedor Erin",
      "userId": "14230325476000231713"
     },
     "user_tz": -180
    },
    "id": "402731ed",
    "outputId": "b44f84c3-f72f-4231-f778-27df10b5a0e8"
   },
   "outputs": [
    {
     "name": "stdout",
     "output_type": "stream",
     "text": [
      "CPU times: user 78.6 ms, sys: 13.2 ms, total: 91.8 ms\n",
      "Wall time: 153 ms\n"
     ]
    }
   ],
   "source": [
    "%%time\n",
    "coins_meta = get_simple_coins_list()"
   ]
  },
  {
   "cell_type": "code",
   "execution_count": 7,
   "id": "8d9f52ac",
   "metadata": {
    "executionInfo": {
     "elapsed": 299,
     "status": "ok",
     "timestamp": 1659117163158,
     "user": {
      "displayName": "Fedor Erin",
      "userId": "14230325476000231713"
     },
     "user_tz": -180
    },
    "id": "8d9f52ac"
   },
   "outputs": [],
   "source": [
    "def parse_coins_id(coins_meta: dict) -> list:\n",
    "    \"\"\"\n",
    "    Функция парсит данные по наименованиям монетам и возвращает только нужные поля\n",
    "    \n",
    "    Args:\n",
    "        coins_meta (dict): словарь всех монет\n",
    "    Returns:\n",
    "        (list): с преобразованными данными по монетам\n",
    "    \"\"\"\n",
    "    list_id = []\n",
    "    for row in coins_meta:\n",
    "        list_coin = (row['id'], row['symbol'], row['name'])\n",
    "        list_id.append(list_coin)\n",
    "    return list_id"
   ]
  },
  {
   "cell_type": "markdown",
   "id": "q6zGOy9DdB6V",
   "metadata": {
    "id": "q6zGOy9DdB6V"
   },
   "source": [
    "#### Генерируем датафрейм из списка всех поддерживаемых __coingecko__ криптовалют"
   ]
  },
  {
   "cell_type": "code",
   "execution_count": 8,
   "id": "3071dce3",
   "metadata": {
    "colab": {
     "base_uri": "https://localhost:8080/",
     "height": 223
    },
    "executionInfo": {
     "elapsed": 273,
     "status": "ok",
     "timestamp": 1659117171495,
     "user": {
      "displayName": "Fedor Erin",
      "userId": "14230325476000231713"
     },
     "user_tz": -180
    },
    "id": "3071dce3",
    "outputId": "c544ebc9-b252-4fcb-eb80-297ed6948381"
   },
   "outputs": [
    {
     "ename": "TypeError",
     "evalue": "string indices must be integers",
     "output_type": "error",
     "traceback": [
      "\u001b[0;31m---------------------------------------------------------------------------\u001b[0m",
      "\u001b[0;31mTypeError\u001b[0m                                 Traceback (most recent call last)",
      "Cell \u001b[0;32mIn[8], line 1\u001b[0m\n\u001b[0;32m----> 1\u001b[0m df_coins_all_meta \u001b[38;5;241m=\u001b[39m pd\u001b[38;5;241m.\u001b[39mDataFrame(\u001b[43mparse_coins_id\u001b[49m\u001b[43m(\u001b[49m\u001b[43mcoins_meta\u001b[49m\u001b[43m)\u001b[49m, columns \u001b[38;5;241m=\u001b[39m [\u001b[38;5;124m'\u001b[39m\u001b[38;5;124mid\u001b[39m\u001b[38;5;124m'\u001b[39m, \u001b[38;5;124m'\u001b[39m\u001b[38;5;124msymbol\u001b[39m\u001b[38;5;124m'\u001b[39m, \u001b[38;5;124m'\u001b[39m\u001b[38;5;124mname\u001b[39m\u001b[38;5;124m'\u001b[39m])\n\u001b[1;32m      2\u001b[0m \u001b[38;5;28mprint\u001b[39m(df_coins_all_meta\u001b[38;5;241m.\u001b[39mshape)\n\u001b[1;32m      3\u001b[0m df_coins_all_meta\u001b[38;5;241m.\u001b[39mhead()\n",
      "Cell \u001b[0;32mIn[7], line 12\u001b[0m, in \u001b[0;36mparse_coins_id\u001b[0;34m(coins_meta)\u001b[0m\n\u001b[1;32m     10\u001b[0m list_id \u001b[38;5;241m=\u001b[39m []\n\u001b[1;32m     11\u001b[0m \u001b[38;5;28;01mfor\u001b[39;00m row \u001b[38;5;129;01min\u001b[39;00m coins_meta:\n\u001b[0;32m---> 12\u001b[0m     list_coin \u001b[38;5;241m=\u001b[39m (\u001b[43mrow\u001b[49m\u001b[43m[\u001b[49m\u001b[38;5;124;43m'\u001b[39;49m\u001b[38;5;124;43mid\u001b[39;49m\u001b[38;5;124;43m'\u001b[39;49m\u001b[43m]\u001b[49m, row[\u001b[38;5;124m'\u001b[39m\u001b[38;5;124msymbol\u001b[39m\u001b[38;5;124m'\u001b[39m], row[\u001b[38;5;124m'\u001b[39m\u001b[38;5;124mname\u001b[39m\u001b[38;5;124m'\u001b[39m])\n\u001b[1;32m     13\u001b[0m     list_id\u001b[38;5;241m.\u001b[39mappend(list_coin)\n\u001b[1;32m     14\u001b[0m \u001b[38;5;28;01mreturn\u001b[39;00m list_id\n",
      "\u001b[0;31mTypeError\u001b[0m: string indices must be integers"
     ]
    }
   ],
   "source": [
    "df_coins_all_meta = pd.DataFrame(parse_coins_id(coins_meta), columns = ['id', 'symbol', 'name'])\n",
    "print(df_coins_all_meta.shape)\n",
    "df_coins_all_meta.head()"
   ]
  },
  {
   "cell_type": "markdown",
   "id": "k6OJJeVqp0kp",
   "metadata": {
    "id": "k6OJJeVqp0kp"
   },
   "source": [
    "Данный датафрейм нам будет нужен для сопоставления нашего списка названий монет и их обозначения (id), которое использует coingecko"
   ]
  },
  {
   "cell_type": "markdown",
   "id": "ZqyS1SLliDYn",
   "metadata": {
    "id": "ZqyS1SLliDYn"
   },
   "source": [
    "#### Из всех криптовалют выбираем только те, что есть в нашем списке"
   ]
  },
  {
   "cell_type": "code",
   "execution_count": null,
   "id": "5cb19f12",
   "metadata": {
    "colab": {
     "base_uri": "https://localhost:8080/",
     "height": 206
    },
    "executionInfo": {
     "elapsed": 339,
     "status": "ok",
     "timestamp": 1659117213916,
     "user": {
      "displayName": "Fedor Erin",
      "userId": "14230325476000231713"
     },
     "user_tz": -180
    },
    "id": "5cb19f12",
    "outputId": "1a42a26e-300e-458f-a7cc-a63f43c0771c"
   },
   "outputs": [],
   "source": [
    "coins_set = df_coins_all_meta.loc[df_coins_all_meta['name'].isin(top_coins)]\n",
    "coins_set"
   ]
  },
  {
   "cell_type": "markdown",
   "id": "NkvRjeVPairD",
   "metadata": {
    "id": "NkvRjeVPairD"
   },
   "source": [
    "В переменной __coin_set__ - хранится результат пересечения нужных нам монет и общего списка. В нем мы получили внутренние id системы благодаря, которым мы сможем вытащить историю."
   ]
  },
  {
   "cell_type": "markdown",
   "id": "nTmxCSU_iIlJ",
   "metadata": {
    "id": "nTmxCSU_iIlJ"
   },
   "source": [
    "#### Генерируем дату начала и весь пул дат, которые нам нужно обработать. Период можно указать произвольный: чем больше, тем дольше будет выгружаться."
   ]
  },
  {
   "cell_type": "code",
   "execution_count": null,
   "id": "c059a74e",
   "metadata": {
    "executionInfo": {
     "elapsed": 413,
     "status": "ok",
     "timestamp": 1659117570882,
     "user": {
      "displayName": "Fedor Erin",
      "userId": "14230325476000231713"
     },
     "user_tz": -180
    },
    "id": "c059a74e"
   },
   "outputs": [],
   "source": [
    "DELTA_PERIOD = 14\n",
    "\n",
    "if dates_saved:\n",
    "    start_date = max(dates_saved) + timedelta(days=1)\n",
    "else:\n",
    "    start_date = date.today() - timedelta(days=DELTA_PERIOD)\n",
    "\n",
    "end_date = date.today() - timedelta(days=1)\n",
    "daterange = [x.strftime('%d-%m-%Y') for x in pd.date_range(start_date, end_date)]"
   ]
  },
  {
   "cell_type": "code",
   "execution_count": null,
   "id": "8cb35d5d",
   "metadata": {
    "executionInfo": {
     "elapsed": 258,
     "status": "ok",
     "timestamp": 1659117638009,
     "user": {
      "displayName": "Fedor Erin",
      "userId": "14230325476000231713"
     },
     "user_tz": -180
    },
    "id": "8cb35d5d"
   },
   "outputs": [],
   "source": [
    "import numpy as np\n",
    "\n",
    "def get_coins_price_set(coins_ids: np.ndarray, daterange: list) -> list:\n",
    "    \"\"\"\n",
    "    Функция парсит данные по наименованиям монетам и возвращает только нужные поля.\n",
    "    \n",
    "    Args:\n",
    "        coins_ids (np.ndarray): массив из тикеров монет\n",
    "    \"\"\"\n",
    "    list_hist = []\n",
    "\n",
    "    for each_id in coins_ids:\n",
    "        for i, each_date in enumerate(daterange):\n",
    "            try:\n",
    "                print(each_id, f'day {i+1}')\n",
    "                data = get_history(each_id, each_date)\n",
    "                btc_price = data['market_data']['current_price']['btc']\n",
    "                usd_price = data['market_data']['current_price']['usd']\n",
    "                list_hist.append((each_id, each_date, btc_price, usd_price))\n",
    "                time.sleep(1.25)\n",
    "            except Exception as e:\n",
    "                print(f'Error was occured {e}')\n",
    "                continue\n",
    "    return list_hist"
   ]
  },
  {
   "cell_type": "markdown",
   "id": "lT3NkE-_qL4C",
   "metadata": {
    "id": "lT3NkE-_qL4C"
   },
   "source": [
    "Запустим весь код. Это займет некоторое время, так как лимит обращения к веб сервису 50 запросов в секунду. Поэтому мы используем time.sleep, чтобы не перегружать сервис и не вызывать ошибку. "
   ]
  },
  {
   "cell_type": "code",
   "execution_count": null,
   "id": "ae032d83",
   "metadata": {
    "colab": {
     "base_uri": "https://localhost:8080/"
    },
    "executionInfo": {
     "elapsed": 113943,
     "status": "ok",
     "timestamp": 1659117756614,
     "user": {
      "displayName": "Fedor Erin",
      "userId": "14230325476000231713"
     },
     "user_tz": -180
    },
    "id": "ae032d83",
    "outputId": "8bc2c861-5eb4-45a2-d0d0-31bab76d7dd2"
   },
   "outputs": [],
   "source": [
    "%%time\n",
    "print(f\"Getting history for {coins_set['id'].nunique()} coins and {DELTA_PERIOD} days\")\n",
    "list_hist = get_coins_price_set(coins_set['id'].unique(), daterange)"
   ]
  },
  {
   "cell_type": "markdown",
   "id": "dsWYgPaiiizZ",
   "metadata": {
    "id": "dsWYgPaiiizZ"
   },
   "source": [
    "#### Отображаем данные внутри датасета как str, для scientific notation"
   ]
  },
  {
   "cell_type": "code",
   "execution_count": null,
   "id": "cf5b3386",
   "metadata": {
    "executionInfo": {
     "elapsed": 263,
     "status": "ok",
     "timestamp": 1659117795441,
     "user": {
      "displayName": "Fedor Erin",
      "userId": "14230325476000231713"
     },
     "user_tz": -180
    },
    "id": "cf5b3386"
   },
   "outputs": [],
   "source": [
    "pd.set_option('display.float_format', str)"
   ]
  },
  {
   "cell_type": "markdown",
   "id": "S73544zFiq-I",
   "metadata": {
    "id": "S73544zFiq-I"
   },
   "source": [
    "#### Преобразуем данные:\n",
    "* Формируем датафрейм из скаченной истории\n",
    "* Форматируем дату\n",
    "* Устанавливаем дату загрузки\n",
    "* Формируем датафрейм\n",
    "* Форматируем дату данных из БД\n",
    "* Объединяем датафреймы"
   ]
  },
  {
   "cell_type": "code",
   "execution_count": null,
   "id": "ab052e68",
   "metadata": {
    "executionInfo": {
     "elapsed": 381,
     "status": "ok",
     "timestamp": 1659117956487,
     "user": {
      "displayName": "Fedor Erin",
      "userId": "14230325476000231713"
     },
     "user_tz": -180
    },
    "id": "ab052e68",
    "scrolled": true
   },
   "outputs": [],
   "source": [
    "set_loaded_history_coins = pd.DataFrame(list_hist, columns=['coingecko_id', 'price_date', 'btc', 'usd']).sort_values('price_date')\n",
    "set_loaded_history_coins['price_date'] = set_loaded_history_coins['price_date'].apply(lambda x: datetime.strptime(x, '%d-%m-%Y'))\n",
    "set_loaded_history_coins['insert_dttm'] = datetime.now()\n",
    "\n",
    "set_history_coins = pd.DataFrame([x for x in c.fetchall()], columns=['coingecko_id', 'price_date', 'btc', 'usd', 'insert_dttm'])\n",
    "set_history_coins['price_date'] = set_history_coins['price_date'].apply(lambda x: datetime.strptime(x, '%d-%m-%Y')) \n",
    "\n",
    "set_all_coins = pd.concat([set_history_coins, set_loaded_history_coins])"
   ]
  },
  {
   "cell_type": "markdown",
   "id": "eektf9W9jB8F",
   "metadata": {
    "id": "eektf9W9jB8F"
   },
   "source": [
    "#### Формируем датафрейм и записываем скаченную историю в БД"
   ]
  },
  {
   "cell_type": "code",
   "execution_count": null,
   "id": "9081e0b7",
   "metadata": {
    "executionInfo": {
     "elapsed": 263,
     "status": "ok",
     "timestamp": 1659117964614,
     "user": {
      "displayName": "Fedor Erin",
      "userId": "14230325476000231713"
     },
     "user_tz": -180
    },
    "id": "9081e0b7"
   },
   "outputs": [],
   "source": [
    "set_all_coins.price_date = set_all_coins['price_date'].astype('datetime64[ns]')\n",
    "set_loaded_history_coins.to_sql('prices', conn, if_exists='append', index=False)"
   ]
  },
  {
   "cell_type": "markdown",
   "id": "3jhx4XCMjNLR",
   "metadata": {
    "id": "3jhx4XCMjNLR"
   },
   "source": [
    "#### Обработаем данные для выведения графика \"Как сильно упала цена монеты относительно BTC\""
   ]
  },
  {
   "cell_type": "code",
   "execution_count": null,
   "id": "nZvobRJOooZR",
   "metadata": {
    "colab": {
     "base_uri": "https://localhost:8080/",
     "height": 206
    },
    "executionInfo": {
     "elapsed": 265,
     "status": "ok",
     "timestamp": 1659118077386,
     "user": {
      "displayName": "Fedor Erin",
      "userId": "14230325476000231713"
     },
     "user_tz": -180
    },
    "id": "nZvobRJOooZR",
    "outputId": "142407d5-3329-4072-f527-dd29f112b896"
   },
   "outputs": [],
   "source": [
    "set_all_coins[['coingecko_id', 'price_date', 'btc', 'usd']].head()"
   ]
  },
  {
   "cell_type": "code",
   "execution_count": null,
   "id": "4dd6df1e",
   "metadata": {
    "executionInfo": {
     "elapsed": 263,
     "status": "ok",
     "timestamp": 1659118171475,
     "user": {
      "displayName": "Fedor Erin",
      "userId": "14230325476000231713"
     },
     "user_tz": -180
    },
    "id": "4dd6df1e"
   },
   "outputs": [],
   "source": [
    "max_val_btc = set_all_coins.groupby('coingecko_id')['btc'].max()\n",
    "max_val_btc_df = pd.DataFrame(max_val_btc).rename(columns = {'btc': 'btc_max'})\n",
    "\n",
    "set_history_coins_merged = pd.merge(\n",
    "    set_all_coins,\n",
    "    max_val_btc_df, \n",
    "    on='coingecko_id'\n",
    ")\n",
    "\n",
    "set_history_coins_merged['btc_norm'] = set_history_coins_merged['btc'] / set_history_coins_merged['btc_max']\n",
    "\n",
    "avg_score = (\n",
    "    set_history_coins_merged[['coingecko_id', 'price_date', 'btc_norm']]\n",
    "    .groupby('coingecko_id')[['btc_norm']].mean()\n",
    "    .sort_values('btc_norm', ascending = False)\n",
    ")\n",
    "\n",
    "bar_test = set_history_coins_merged.loc[set_history_coins_merged.price_date == \n",
    "                                        set_history_coins_merged.price_date.max()].sort_values('btc_norm', ascending=False)"
   ]
  },
  {
   "cell_type": "markdown",
   "id": "MPdSiea7jRb9",
   "metadata": {
    "id": "MPdSiea7jRb9"
   },
   "source": [
    "#### Визуализируем результат"
   ]
  },
  {
   "cell_type": "code",
   "execution_count": null,
   "id": "e1919d80",
   "metadata": {
    "colab": {
     "base_uri": "https://localhost:8080/",
     "height": 331
    },
    "executionInfo": {
     "elapsed": 312,
     "status": "ok",
     "timestamp": 1659118175732,
     "user": {
      "displayName": "Fedor Erin",
      "userId": "14230325476000231713"
     },
     "user_tz": -180
    },
    "id": "e1919d80",
    "outputId": "42efd487-739e-4397-f832-2f19123de41a",
    "scrolled": true
   },
   "outputs": [],
   "source": [
    "bar_test.plot.bar(x='coingecko_id', y='btc_norm')\n",
    "plt.ylim(0.8, 1.01)\n",
    "plt.show()"
   ]
  },
  {
   "cell_type": "markdown",
   "id": "b25581d7",
   "metadata": {
    "id": "b25581d7"
   },
   "source": [
    "* Провели нормализацию данных по их максимальному значению за период и поняли насколько они упали относительно него. Получился информативный descriptive анализ."
   ]
  },
  {
   "cell_type": "code",
   "execution_count": null,
   "id": "IFJG14zTrcpf",
   "metadata": {
    "id": "IFJG14zTrcpf"
   },
   "outputs": [],
   "source": []
  }
 ],
 "metadata": {
  "colab": {
   "collapsed_sections": [],
   "name": "3.4_coingecko_api.ipynb",
   "provenance": []
  },
  "kernelspec": {
   "display_name": "Python 3 (ipykernel)",
   "language": "python",
   "name": "python3"
  },
  "language_info": {
   "codemirror_mode": {
    "name": "ipython",
    "version": 3
   },
   "file_extension": ".py",
   "mimetype": "text/x-python",
   "name": "python",
   "nbconvert_exporter": "python",
   "pygments_lexer": "ipython3",
   "version": "3.10.10"
  },
  "toc": {
   "base_numbering": 1,
   "nav_menu": {},
   "number_sections": true,
   "sideBar": true,
   "skip_h1_title": false,
   "title_cell": "Table of Contents",
   "title_sidebar": "Contents",
   "toc_cell": false,
   "toc_position": {},
   "toc_section_display": true,
   "toc_window_display": false
  }
 },
 "nbformat": 4,
 "nbformat_minor": 5
}
