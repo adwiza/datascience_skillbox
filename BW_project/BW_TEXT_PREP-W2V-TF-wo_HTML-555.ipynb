{
 "cells": [
  {
   "cell_type": "code",
   "execution_count": 1,
   "id": "b4031bf1",
   "metadata": {},
   "outputs": [
    {
     "name": "stdout",
     "output_type": "stream",
     "text": [
      "2.12.0\n"
     ]
    }
   ],
   "source": [
    "import pandas as pd\n",
    "import numpy as np\n",
    "import multiprocessing\n",
    "from bs4 import BeautifulSoup as bs\n",
    "from selectolax.parser import HTMLParser\n",
    "\n",
    "from sklearn.model_selection import train_test_split\n",
    "\n",
    "#preprocessing\n",
    "import re\n",
    "import pymorphy2\n",
    "import nltk\n",
    "from nltk.corpus import stopwords  #stopwords\n",
    "from nltk import word_tokenize,sent_tokenize # tokenizing\n",
    "from nltk.stem import PorterStemmer,LancasterStemmer  # using the Porter Stemmer and Lancaster Stemmer and others\n",
    "from nltk.stem.snowball import SnowballStemmer\n",
    "from nltk.stem import WordNetLemmatizer  # lammatizer from WordNet\n",
    "import matplotlib.pyplot as plt\n",
    "import string\n",
    "\n",
    "import tensorflow as tf\n",
    "from tensorflow import keras\n",
    "from tensorflow.keras import layers\n",
    "from tensorflow.keras import losses\n",
    "from tensorflow.keras.preprocessing.text import Tokenizer\n",
    "from time import time  # To time our operations\n",
    "from collections import defaultdict, Counter  # For word frequency\n",
    "\n",
    "import collections\n",
    "import pathlib\n",
    "\n",
    "from tensorflow.keras import layers\n",
    "from tensorflow.keras import losses\n",
    "from tensorflow.keras import utils\n",
    "from tensorflow.keras.layers import TextVectorization\n",
    "\n",
    "import pandas as pd\n",
    "import numpy as np\n",
    "import string\n",
    "from nltk.corpus import stopwords\n",
    "from nltk.tokenize import word_tokenize\n",
    "from gensim.models import Word2Vec\n",
    "from tensorflow.keras.preprocessing.text import Tokenizer\n",
    "from tensorflow.keras.preprocessing.sequence import pad_sequences\n",
    "from tensorflow.keras.layers import Embedding, Conv1D, MaxPooling1D, Flatten, Dense, Dropout\n",
    "from tensorflow.keras.models import Sequential\n",
    "from sklearn.model_selection import train_test_split\n",
    "\n",
    "import os\n",
    "import re\n",
    "import shutil\n",
    "import string\n",
    "\n",
    "\n",
    "print(tf.__version__)\n",
    "\n",
    "import logging  # Setting up the loggings to monitor gensim\n",
    "# logging.basicConfig(format='%(asctime)s : %(levelname)s : %(message)s', level=logging.INFO)\n",
    "# logging.basicConfig(format=\"%(levelname)s - %(asctime)s: %(message)s\", datefmt= '%H:%M:%S', level=logging.INFO)\n",
    "\n",
    "import warnings\n",
    "warnings.filterwarnings('ignore')"
   ]
  },
  {
   "cell_type": "code",
   "execution_count": 2,
   "id": "770689b0",
   "metadata": {},
   "outputs": [
    {
     "name": "stderr",
     "output_type": "stream",
     "text": [
      "[nltk_data] Downloading package punkt to /Users/adwiz/nltk_data...\n",
      "[nltk_data]   Package punkt is already up-to-date!\n",
      "[nltk_data] Downloading package stopwords to /Users/adwiz/nltk_data...\n",
      "[nltk_data]   Package stopwords is already up-to-date!\n"
     ]
    },
    {
     "data": {
      "text/plain": [
       "True"
      ]
     },
     "execution_count": 2,
     "metadata": {},
     "output_type": "execute_result"
    }
   ],
   "source": [
    "nltk.download('punkt')\n",
    "nltk.download('stopwords')"
   ]
  },
  {
   "cell_type": "code",
   "execution_count": 3,
   "id": "f668d2db",
   "metadata": {},
   "outputs": [],
   "source": [
    "# from subprocess import check_output\n",
    "# print(check_output([\"ls\", \"../datasets/\"]).decode(\"utf8\"))"
   ]
  },
  {
   "cell_type": "code",
   "execution_count": 4,
   "id": "1fd58db8",
   "metadata": {},
   "outputs": [],
   "source": [
    "def read_train_data():\n",
    "    data = pd.read_json('../datasets/dataset.json')\n",
    "    mapping = {False: 0, True: 1}\n",
    "    data.replace({'hasBadWords': mapping}, inplace=True)\n",
    "    data.rename(columns={\"hasBadWords\": \"labels\"}, inplace=True)\n",
    "    data.rename(columns={\"text\": \"raw_text\"}, inplace=True)\n",
    "    data.drop(['violation'], axis=1, inplace=True)\n",
    "    print('Data size %d' % len(data))\n",
    "    print('Data headers %s' % data.columns.values)\n",
    "    return data"
   ]
  },
  {
   "cell_type": "markdown",
   "id": "21ecf957",
   "metadata": {},
   "source": [
    "# Preprocessing function"
   ]
  },
  {
   "cell_type": "code",
   "execution_count": 5,
   "id": "047885b0",
   "metadata": {},
   "outputs": [
    {
     "name": "stdout",
     "output_type": "stream",
     "text": [
      "Data size 86439\n",
      "Data headers ['raw_text' 'labels']\n"
     ]
    }
   ],
   "source": [
    "data = read_train_data()"
   ]
  },
  {
   "cell_type": "code",
   "execution_count": 6,
   "id": "6c6f1545",
   "metadata": {},
   "outputs": [],
   "source": [
    "# function to clean and pre-process the text.\n",
    "def clean_text(text):  \n",
    "    \n",
    "    # 1. Removing html tags\n",
    "    text = bs(text,\"lxml\").get_text()\n",
    "    \n",
    "    # 2. Retaining only alphabets.\n",
    "    text = re.sub(\"[^a-zA-Z]\",\" \", text)\n",
    "    \n",
    "    # 3. Converting to lower case and splitting\n",
    "    word_tokens = text.lower().split()\n",
    "    \n",
    "    # 4. Remove stopwords\n",
    "    le = WordNetLemmatizer()\n",
    "    stop_words = set(stopwords.words(\"english\")+ ['14000kbps', 'november', '1080p', 'email', \n",
    "                                                 '4k', 'mp4', 'error', '404', '2022'])     \n",
    "    word_tokens = [le.lemmatize(w) for w in word_tokens if not w in stop_words]\n",
    "    \n",
    "    cleaned_review = \" \".join(word_tokens)\n",
    "    return cleaned_review"
   ]
  },
  {
   "cell_type": "code",
   "execution_count": 7,
   "id": "e066efc5",
   "metadata": {},
   "outputs": [],
   "source": [
    "data['text'] = data.apply(lambda row: clean_text(row.raw_text), axis=1)"
   ]
  },
  {
   "cell_type": "code",
   "execution_count": 8,
   "id": "30f324d2",
   "metadata": {},
   "outputs": [
    {
     "data": {
      "text/html": [
       "<div>\n",
       "<style scoped>\n",
       "    .dataframe tbody tr th:only-of-type {\n",
       "        vertical-align: middle;\n",
       "    }\n",
       "\n",
       "    .dataframe tbody tr th {\n",
       "        vertical-align: top;\n",
       "    }\n",
       "\n",
       "    .dataframe thead th {\n",
       "        text-align: right;\n",
       "    }\n",
       "</style>\n",
       "<table border=\"1\" class=\"dataframe\">\n",
       "  <thead>\n",
       "    <tr style=\"text-align: right;\">\n",
       "      <th></th>\n",
       "      <th>raw_text</th>\n",
       "      <th>labels</th>\n",
       "      <th>text</th>\n",
       "    </tr>\n",
       "  </thead>\n",
       "  <tbody>\n",
       "    <tr>\n",
       "      <th>0</th>\n",
       "      <td>My Favorite Slut</td>\n",
       "      <td>0</td>\n",
       "      <td>favorite slut</td>\n",
       "    </tr>\n",
       "    <tr>\n",
       "      <th>1</th>\n",
       "      <td>girlfriends sit on each other's faces with the...</td>\n",
       "      <td>0</td>\n",
       "      <td>girlfriend sit face ass</td>\n",
       "    </tr>\n",
       "    <tr>\n",
       "      <th>2</th>\n",
       "      <td>bound beauty kisses her girlfriend</td>\n",
       "      <td>0</td>\n",
       "      <td>bound beauty kiss girlfriend</td>\n",
       "    </tr>\n",
       "    <tr>\n",
       "      <th>3</th>\n",
       "      <td>MORGAN - Anytime - Nail Painting On The Slave'...</td>\n",
       "      <td>0</td>\n",
       "      <td>morgan anytime nail painting slave face</td>\n",
       "    </tr>\n",
       "    <tr>\n",
       "      <th>4</th>\n",
       "      <td>TRANSGENDER COACHING (wmv) PART 1</td>\n",
       "      <td>0</td>\n",
       "      <td>transgender coaching wmv part</td>\n",
       "    </tr>\n",
       "  </tbody>\n",
       "</table>\n",
       "</div>"
      ],
      "text/plain": [
       "                                            raw_text  labels   \n",
       "0                                   My Favorite Slut       0  \\\n",
       "1  girlfriends sit on each other's faces with the...       0   \n",
       "2                 bound beauty kisses her girlfriend       0   \n",
       "3  MORGAN - Anytime - Nail Painting On The Slave'...       0   \n",
       "4                  TRANSGENDER COACHING (wmv) PART 1       0   \n",
       "\n",
       "                                      text  \n",
       "0                            favorite slut  \n",
       "1                  girlfriend sit face ass  \n",
       "2             bound beauty kiss girlfriend  \n",
       "3  morgan anytime nail painting slave face  \n",
       "4            transgender coaching wmv part  "
      ]
     },
     "execution_count": 8,
     "metadata": {},
     "output_type": "execute_result"
    }
   ],
   "source": [
    "data.head()"
   ]
  },
  {
   "cell_type": "code",
   "execution_count": 9,
   "id": "b40b1f9f",
   "metadata": {},
   "outputs": [],
   "source": [
    "data = data[['text', 'labels']]#, 'raw_text']] # columns reorder"
   ]
  },
  {
   "cell_type": "code",
   "execution_count": 10,
   "id": "53ec9516",
   "metadata": {},
   "outputs": [
    {
     "data": {
      "text/html": [
       "<div>\n",
       "<style scoped>\n",
       "    .dataframe tbody tr th:only-of-type {\n",
       "        vertical-align: middle;\n",
       "    }\n",
       "\n",
       "    .dataframe tbody tr th {\n",
       "        vertical-align: top;\n",
       "    }\n",
       "\n",
       "    .dataframe thead th {\n",
       "        text-align: right;\n",
       "    }\n",
       "</style>\n",
       "<table border=\"1\" class=\"dataframe\">\n",
       "  <thead>\n",
       "    <tr style=\"text-align: right;\">\n",
       "      <th></th>\n",
       "      <th>text</th>\n",
       "      <th>labels</th>\n",
       "    </tr>\n",
       "  </thead>\n",
       "  <tbody>\n",
       "    <tr>\n",
       "      <th>0</th>\n",
       "      <td>favorite slut</td>\n",
       "      <td>0</td>\n",
       "    </tr>\n",
       "    <tr>\n",
       "      <th>1</th>\n",
       "      <td>girlfriend sit face ass</td>\n",
       "      <td>0</td>\n",
       "    </tr>\n",
       "    <tr>\n",
       "      <th>2</th>\n",
       "      <td>bound beauty kiss girlfriend</td>\n",
       "      <td>0</td>\n",
       "    </tr>\n",
       "    <tr>\n",
       "      <th>3</th>\n",
       "      <td>morgan anytime nail painting slave face</td>\n",
       "      <td>0</td>\n",
       "    </tr>\n",
       "    <tr>\n",
       "      <th>4</th>\n",
       "      <td>transgender coaching wmv part</td>\n",
       "      <td>0</td>\n",
       "    </tr>\n",
       "  </tbody>\n",
       "</table>\n",
       "</div>"
      ],
      "text/plain": [
       "                                      text  labels\n",
       "0                            favorite slut       0\n",
       "1                  girlfriend sit face ass       0\n",
       "2             bound beauty kiss girlfriend       0\n",
       "3  morgan anytime nail painting slave face       0\n",
       "4            transgender coaching wmv part       0"
      ]
     },
     "execution_count": 10,
     "metadata": {},
     "output_type": "execute_result"
    }
   ],
   "source": [
    "data.head()"
   ]
  },
  {
   "cell_type": "markdown",
   "id": "51b76aef",
   "metadata": {},
   "source": [
    "# Train the Word2Vec model\n"
   ]
  },
  {
   "cell_type": "code",
   "execution_count": 11,
   "id": "a31f848e",
   "metadata": {},
   "outputs": [],
   "source": [
    "X_train, X_test, y_train, y_test = train_test_split(data['text'], data['labels'], test_size=0.2, random_state=42)"
   ]
  },
  {
   "cell_type": "code",
   "execution_count": 12,
   "id": "415c9a0e",
   "metadata": {},
   "outputs": [
    {
     "data": {
      "text/plain": [
       "((69151,), (17288,), (69151,), (17288,))"
      ]
     },
     "execution_count": 12,
     "metadata": {},
     "output_type": "execute_result"
    }
   ],
   "source": [
    "X_train.shape, X_test.shape, y_train.shape, y_test.shape"
   ]
  },
  {
   "cell_type": "code",
   "execution_count": 13,
   "id": "6af6589e",
   "metadata": {},
   "outputs": [
    {
     "data": {
      "text/plain": [
       "47306                                fetish femdom central\n",
       "26744    petite blonde smelly stocking k obsession secr...\n",
       "78454                                      skyhighskittles\n",
       "30196    sexy stefania love teasing cock soft hand foot...\n",
       "20091                              succulent teen sol k mp\n",
       "                               ...                        \n",
       "6265     double treat pregnant belly wrinkled sol right...\n",
       "54886                               fetish sex naughty fun\n",
       "76820                              passionxcouple onlyfans\n",
       "860                                gf caught wearing panty\n",
       "15795                       stink one night stand bathroom\n",
       "Name: text, Length: 69151, dtype: object"
      ]
     },
     "execution_count": 13,
     "metadata": {},
     "output_type": "execute_result"
    }
   ],
   "source": [
    "X_train"
   ]
  },
  {
   "cell_type": "markdown",
   "id": "60d1f0ac",
   "metadata": {},
   "source": [
    "# Tokenize the text data"
   ]
  },
  {
   "cell_type": "code",
   "execution_count": 14,
   "id": "c1b95cd5",
   "metadata": {},
   "outputs": [
    {
     "data": {
      "text/plain": [
       "48002"
      ]
     },
     "execution_count": 14,
     "metadata": {},
     "output_type": "execute_result"
    }
   ],
   "source": [
    "# Tokenize the text data\n",
    "tokenizer = Tokenizer()\n",
    "tokenizer.fit_on_texts(X_train)\n",
    "\n",
    "X_train = tokenizer.texts_to_sequences(X_train)\n",
    "X_test = tokenizer.texts_to_sequences(X_test)\n",
    "\n",
    "vocab_size = len(tokenizer.word_index) + 1\n",
    "vocab_size"
   ]
  },
  {
   "cell_type": "code",
   "execution_count": 15,
   "id": "107a18a6",
   "metadata": {},
   "outputs": [],
   "source": [
    "# tokenizer.word_index"
   ]
  },
  {
   "cell_type": "markdown",
   "id": "bd4ce409",
   "metadata": {},
   "source": [
    "# Pad the sequences to a fixed length"
   ]
  },
  {
   "cell_type": "markdown",
   "id": "a10776c1",
   "metadata": {},
   "source": [
    "# Train the Word2Vec model"
   ]
  },
  {
   "cell_type": "code",
   "execution_count": 16,
   "id": "0efd2f83",
   "metadata": {},
   "outputs": [],
   "source": [
    "sentences = [sentence for sentence in X_train]\n",
    "w2v_model = Word2Vec(sentences, window=5, min_count=1, workers=-1)"
   ]
  },
  {
   "cell_type": "code",
   "execution_count": 17,
   "id": "0ed27011",
   "metadata": {},
   "outputs": [],
   "source": [
    "# Pad the sequences to a fixed length\n",
    "max_length = 100\n",
    "X_train = pad_sequences(X_train, maxlen=max_length, padding='post')\n",
    "X_test = pad_sequences(X_test, maxlen=max_length, padding='post')"
   ]
  },
  {
   "cell_type": "markdown",
   "id": "880a3c54",
   "metadata": {},
   "source": [
    "# Create a weight matrix for the embedding layer"
   ]
  },
  {
   "cell_type": "code",
   "execution_count": 18,
   "id": "a3d61fc7",
   "metadata": {},
   "outputs": [],
   "source": [
    "# Create a weight matrix for the embedding layer\n",
    "embedding_matrix = np.zeros((vocab_size, 100))\n",
    "for word, i in tokenizer.word_index.items():\n",
    "    if word in w2v_model.wv:\n",
    "        embedding_matrix[i] = w2v_model.wv[word]"
   ]
  },
  {
   "cell_type": "markdown",
   "id": "844d2675",
   "metadata": {},
   "source": [
    "# Define the CNN model"
   ]
  },
  {
   "cell_type": "code",
   "execution_count": 19,
   "id": "793ebaba",
   "metadata": {},
   "outputs": [
    {
     "name": "stdout",
     "output_type": "stream",
     "text": [
      "Metal device set to: Apple M2\n"
     ]
    },
    {
     "data": {
      "image/png": "[encoded data removed]",
      "text/plain": [
       "<IPython.core.display.Image object>"
      ]
     },
     "execution_count": 19,
     "metadata": {},
     "output_type": "execute_result"
    }
   ],
   "source": [
    "# Define the CNN model\n",
    "\n",
    "model = Sequential()\n",
    "model.add(Embedding(vocab_size, 100, weights=[embedding_matrix], input_length=max_length, trainable=False))\n",
    "model.add(Conv1D(128, 5, activation='relu'))\n",
    "model.add(MaxPooling1D(5))\n",
    "model.add(Conv1D(128, 5, activation='relu'))\n",
    "model.add(MaxPooling1D(5))\n",
    "model.add(Flatten())\n",
    "model.add(Dense(128, activation='relu'))\n",
    "model.add(Dense(1, activation='sigmoid'))\n",
    "\n",
    "loss = keras.losses.BinaryCrossentropy(from_logits=False)\n",
    "optimizer = keras.optimizers.legacy.Adam(learning_rate=.001)\n",
    "metrics = [tf.keras.metrics.BinaryAccuracy(),\n",
    "           tf.keras.metrics.FalseNegatives(),\n",
    "           tf.keras.metrics.FalsePositives(),\n",
    "          ]\n",
    "\n",
    "model.compile(loss=loss, optimizer=optimizer, metrics=metrics)\n",
    "\n",
    "# draw model\n",
    "tf.keras.utils.plot_model(model, show_shapes=True)"
   ]
  },
  {
   "cell_type": "code",
   "execution_count": 20,
   "id": "eef353fa",
   "metadata": {},
   "outputs": [
    {
     "name": "stdout",
     "output_type": "stream",
     "text": [
      "Epoch 1/5\n"
     ]
    },
    {
     "name": "stderr",
     "output_type": "stream",
     "text": [
      "2023-04-30 10:59:54.472835: W tensorflow/tsl/platform/profile_utils/cpu_utils.cc:128] Failed to get CPU frequency: 0 Hz\n"
     ]
    },
    {
     "name": "stdout",
     "output_type": "stream",
     "text": [
      "2161/2161 [==============================] - 23s 10ms/step - loss: 0.3994 - binary_accuracy: 0.9618 - false_negatives: 2640.0000 - false_positives: 0.0000e+00 - val_loss: 0.2387 - val_binary_accuracy: 0.9630 - val_false_negatives: 640.0000 - val_false_positives: 0.0000e+00\n",
      "Epoch 2/5\n",
      "2161/2161 [==============================] - 22s 10ms/step - loss: 0.1958 - binary_accuracy: 0.9618 - false_negatives: 2640.0000 - false_positives: 0.0000e+00 - val_loss: 0.1683 - val_binary_accuracy: 0.9630 - val_false_negatives: 640.0000 - val_false_positives: 0.0000e+00\n",
      "Epoch 3/5\n",
      "2161/2161 [==============================] - 22s 10ms/step - loss: 0.1652 - binary_accuracy: 0.9618 - false_negatives: 2640.0000 - false_positives: 0.0000e+00 - val_loss: 0.1589 - val_binary_accuracy: 0.9630 - val_false_negatives: 640.0000 - val_false_positives: 0.0000e+00\n",
      "Epoch 4/5\n",
      "2161/2161 [==============================] - 22s 10ms/step - loss: 0.1622 - binary_accuracy: 0.9618 - false_negatives: 2640.0000 - false_positives: 0.0000e+00 - val_loss: 0.1584 - val_binary_accuracy: 0.9630 - val_false_negatives: 640.0000 - val_false_positives: 0.0000e+00\n",
      "Epoch 5/5\n",
      "2161/2161 [==============================] - 22s 10ms/step - loss: 0.1621 - binary_accuracy: 0.9618 - false_negatives: 2640.0000 - false_positives: 0.0000e+00 - val_loss: 0.1584 - val_binary_accuracy: 0.9630 - val_false_negatives: 640.0000 - val_false_positives: 0.0000e+00\n"
     ]
    },
    {
     "data": {
      "text/plain": [
       "<keras.callbacks.History at 0x1730bb0a0>"
      ]
     },
     "execution_count": 20,
     "metadata": {},
     "output_type": "execute_result"
    }
   ],
   "source": [
    "model.fit(X_train, y_train, epochs=5, batch_size=32, validation_data=(X_test, y_test))"
   ]
  },
  {
   "cell_type": "code",
   "execution_count": 21,
   "id": "0a20fe88",
   "metadata": {},
   "outputs": [
    {
     "data": {
      "text/html": [
       "<div>\n",
       "<style scoped>\n",
       "    .dataframe tbody tr th:only-of-type {\n",
       "        vertical-align: middle;\n",
       "    }\n",
       "\n",
       "    .dataframe tbody tr th {\n",
       "        vertical-align: top;\n",
       "    }\n",
       "\n",
       "    .dataframe thead th {\n",
       "        text-align: right;\n",
       "    }\n",
       "</style>\n",
       "<table border=\"1\" class=\"dataframe\">\n",
       "  <thead>\n",
       "    <tr style=\"text-align: right;\">\n",
       "      <th></th>\n",
       "      <th>loss</th>\n",
       "      <th>binary_accuracy</th>\n",
       "      <th>false_negatives</th>\n",
       "      <th>false_positives</th>\n",
       "      <th>val_loss</th>\n",
       "      <th>val_binary_accuracy</th>\n",
       "      <th>val_false_negatives</th>\n",
       "      <th>val_false_positives</th>\n",
       "    </tr>\n",
       "  </thead>\n",
       "  <tbody>\n",
       "    <tr>\n",
       "      <th>0</th>\n",
       "      <td>0.399406</td>\n",
       "      <td>0.961823</td>\n",
       "      <td>2640.0</td>\n",
       "      <td>0.0</td>\n",
       "      <td>0.238682</td>\n",
       "      <td>0.96298</td>\n",
       "      <td>640.0</td>\n",
       "      <td>0.0</td>\n",
       "    </tr>\n",
       "    <tr>\n",
       "      <th>1</th>\n",
       "      <td>0.195776</td>\n",
       "      <td>0.961823</td>\n",
       "      <td>2640.0</td>\n",
       "      <td>0.0</td>\n",
       "      <td>0.168329</td>\n",
       "      <td>0.96298</td>\n",
       "      <td>640.0</td>\n",
       "      <td>0.0</td>\n",
       "    </tr>\n",
       "    <tr>\n",
       "      <th>2</th>\n",
       "      <td>0.165247</td>\n",
       "      <td>0.961823</td>\n",
       "      <td>2640.0</td>\n",
       "      <td>0.0</td>\n",
       "      <td>0.158944</td>\n",
       "      <td>0.96298</td>\n",
       "      <td>640.0</td>\n",
       "      <td>0.0</td>\n",
       "    </tr>\n",
       "    <tr>\n",
       "      <th>3</th>\n",
       "      <td>0.162228</td>\n",
       "      <td>0.961823</td>\n",
       "      <td>2640.0</td>\n",
       "      <td>0.0</td>\n",
       "      <td>0.158419</td>\n",
       "      <td>0.96298</td>\n",
       "      <td>640.0</td>\n",
       "      <td>0.0</td>\n",
       "    </tr>\n",
       "    <tr>\n",
       "      <th>4</th>\n",
       "      <td>0.162121</td>\n",
       "      <td>0.961823</td>\n",
       "      <td>2640.0</td>\n",
       "      <td>0.0</td>\n",
       "      <td>0.158402</td>\n",
       "      <td>0.96298</td>\n",
       "      <td>640.0</td>\n",
       "      <td>0.0</td>\n",
       "    </tr>\n",
       "  </tbody>\n",
       "</table>\n",
       "</div>"
      ],
      "text/plain": [
       "       loss  binary_accuracy  false_negatives  false_positives  val_loss   \n",
       "0  0.399406         0.961823           2640.0              0.0  0.238682  \\\n",
       "1  0.195776         0.961823           2640.0              0.0  0.168329   \n",
       "2  0.165247         0.961823           2640.0              0.0  0.158944   \n",
       "3  0.162228         0.961823           2640.0              0.0  0.158419   \n",
       "4  0.162121         0.961823           2640.0              0.0  0.158402   \n",
       "\n",
       "   val_binary_accuracy  val_false_negatives  val_false_positives  \n",
       "0              0.96298                640.0                  0.0  \n",
       "1              0.96298                640.0                  0.0  \n",
       "2              0.96298                640.0                  0.0  \n",
       "3              0.96298                640.0                  0.0  \n",
       "4              0.96298                640.0                  0.0  "
      ]
     },
     "execution_count": 21,
     "metadata": {},
     "output_type": "execute_result"
    }
   ],
   "source": [
    "history_df = pd.DataFrame(model.history.history)\n",
    "history_df.head(15)"
   ]
  },
  {
   "cell_type": "code",
   "execution_count": 22,
   "id": "f43ddeb3",
   "metadata": {},
   "outputs": [
    {
     "data": {
      "image/png": "[encoded data removed]",
      "text/plain": [
       "<Figure size 640x480 with 1 Axes>"
      ]
     },
     "metadata": {},
     "output_type": "display_data"
    }
   ],
   "source": [
    "import matplotlib.pyplot as plt\n",
    "plt.plot(history_df.loss);"
   ]
  },
  {
   "cell_type": "code",
   "execution_count": 23,
   "id": "8730e4c3",
   "metadata": {},
   "outputs": [],
   "source": [
    "def read_validation_data():\n",
    "    data_val = pd.read_json('../datasets/neil_ProducerClipSite_rand.json')\n",
    "    data_val.rename(columns={\"hasBadWords\": \"labels\"}, inplace=True)\n",
    "    data_val.rename(columns={\"Top\": \"raw_text\"}, inplace=True)\n",
    "    data_val.drop(['SiteID', 'Title', 'Description', 'Keywords', 'Bottom'], axis=1, inplace=True)\n",
    "    print('Data size %d' % len(data_val))\n",
    "    print('Data headers %s' % data_val.columns.values)\n",
    "    return data_val"
   ]
  },
  {
   "cell_type": "code",
   "execution_count": 24,
   "id": "31c2493d",
   "metadata": {},
   "outputs": [
    {
     "name": "stdout",
     "output_type": "stream",
     "text": [
      "Data size 10000\n",
      "Data headers ['raw_text']\n"
     ]
    }
   ],
   "source": [
    "data_val = read_validation_data()"
   ]
  },
  {
   "cell_type": "code",
   "execution_count": 25,
   "id": "12bfda83",
   "metadata": {},
   "outputs": [],
   "source": [
    "data_val['text'] = data_val.apply(lambda row: clean_text(row.raw_text), axis=1)\n",
    "# data_val"
   ]
  },
  {
   "cell_type": "code",
   "execution_count": 26,
   "id": "dd7770b2",
   "metadata": {},
   "outputs": [],
   "source": [
    "data_val = data_val[['text']]"
   ]
  },
  {
   "cell_type": "code",
   "execution_count": 27,
   "id": "08d98deb",
   "metadata": {},
   "outputs": [
    {
     "data": {
      "text/plain": [
       "(10000,)"
      ]
     },
     "execution_count": 27,
     "metadata": {},
     "output_type": "execute_result"
    }
   ],
   "source": [
    "X_val = data_val.text.to_numpy()\n",
    "X_val.shape"
   ]
  },
  {
   "cell_type": "code",
   "execution_count": 28,
   "id": "6bbccc4f",
   "metadata": {},
   "outputs": [],
   "source": [
    "X_val_sequences = tokenizer.texts_to_sequences(X_val)\n",
    "X_val_padded = pad_sequences(X_val_sequences, maxlen=max_length, padding=\"post\", truncating=\"post\")"
   ]
  },
  {
   "cell_type": "code",
   "execution_count": 29,
   "id": "c1bd6da8",
   "metadata": {},
   "outputs": [
    {
     "name": "stdout",
     "output_type": "stream",
     "text": [
      "313/313 [==============================] - 1s 3ms/step\n"
     ]
    }
   ],
   "source": [
    "predictions = model.predict(X_val_padded)\n",
    "predictions = [1 if p > .5 else 0 for p in predictions]"
   ]
  },
  {
   "cell_type": "code",
   "execution_count": 30,
   "id": "e6a52707",
   "metadata": {},
   "outputs": [
    {
     "name": "stdout",
     "output_type": "stream",
     "text": [
      "subscribe get newsletter new updateshi name katsumi welcome store feedback custom clip request price start send e mail katsumip gmail com answer every e mail donation go towards purchase second better camera better quality p multiple camera angle cumshot hope enjoy video\n",
      "[7030, 19, 10363, 86, 756, 28858, 356, 9, 2805, 175, 3, 389, 945, 106, 762, 138, 755, 1007, 82, 2239, 217, 138, 755, 11183, 111, 1920, 1528, 602, 436, 253, 436, 402, 183, 450, 253, 888, 312, 575, 162, 4]\n",
      "[ 7030    19 10363    86   756 28858   356     9  2805   175     3   389\n",
      "   945   106   762   138   755  1007    82  2239   217   138   755 11183\n",
      "   111  1920  1528   602   436   253   436   402   183   450   253   888\n",
      "   312   575   162     4     0     0     0     0     0     0     0     0\n",
      "     0     0     0     0     0     0     0     0     0     0     0     0\n",
      "     0     0     0     0     0     0     0     0     0     0     0     0\n",
      "     0     0     0     0     0     0     0     0     0     0     0     0\n",
      "     0     0     0     0     0     0     0     0     0     0     0     0\n",
      "     0     0     0     0]\n",
      "0\n"
     ]
    }
   ],
   "source": [
    "print(X_val[454])\n",
    "print(X_val_sequences[454])\n",
    "print(X_val_padded[454])\n",
    "print(predictions[454])"
   ]
  },
  {
   "cell_type": "code",
   "execution_count": 31,
   "id": "19b4de05",
   "metadata": {},
   "outputs": [],
   "source": [
    "data_val['predictions'] = predictions\n",
    "data_val = data_val[['text', 'predictions']] # columns reorder"
   ]
  },
  {
   "cell_type": "code",
   "execution_count": 32,
   "id": "029af0a8",
   "metadata": {},
   "outputs": [],
   "source": [
    "data_val.to_csv('../datasets/DATA_VAL.csv')"
   ]
  }
 ],
 "metadata": {
  "kernelspec": {
   "display_name": "Python 3 (ipykernel)",
   "language": "python",
   "name": "python3"
  },
  "language_info": {
   "codemirror_mode": {
    "name": "ipython",
    "version": 3
   },
   "file_extension": ".py",
   "mimetype": "text/x-python",
   "name": "python",
   "nbconvert_exporter": "python",
   "pygments_lexer": "ipython3",
   "version": "3.8.12"
  },
  "toc": {
   "base_numbering": 1,
   "nav_menu": {},
   "number_sections": true,
   "sideBar": true,
   "skip_h1_title": false,
   "title_cell": "Table of Contents",
   "title_sidebar": "Contents",
   "toc_cell": false,
   "toc_position": {},
   "toc_section_display": true,
   "toc_window_display": false
  }
 },
 "nbformat": 4,
 "nbformat_minor": 5
}
