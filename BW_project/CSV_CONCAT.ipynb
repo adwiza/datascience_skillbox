{
 "cells": [
  {
   "cell_type": "code",
   "execution_count": 1,
   "id": "cc62cdd8",
   "metadata": {},
   "outputs": [],
   "source": [
    "import pandas as pd"
   ]
  },
  {
   "cell_type": "code",
   "execution_count": 2,
   "id": "d0d20261",
   "metadata": {},
   "outputs": [],
   "source": [
    "df_pos_part1 = pd.read_csv('../datasets/bw/BadWordsService_ml_yes_24.csv')\n",
    "df_neg_part1 =  pd.read_csv('../datasets/bw/BadWordsService_ml_no_24.csv')"
   ]
  },
  {
   "cell_type": "code",
   "execution_count": 3,
   "id": "84036e1d",
   "metadata": {},
   "outputs": [],
   "source": [
    "# df_pos_part2 = pd.read_csv('../datasets/BadWordsService_ml_has_7days_part2.csv')\n",
    "# df_neg_part2 =  pd.read_csv('../datasets/BadWordsService_ml_has_no_7days_part2.csv')"
   ]
  },
  {
   "cell_type": "code",
   "execution_count": 5,
   "id": "500229be",
   "metadata": {},
   "outputs": [
    {
     "data": {
      "text/plain": [
       "((5170, 3), (38114, 3))"
      ]
     },
     "execution_count": 5,
     "metadata": {},
     "output_type": "execute_result"
    }
   ],
   "source": [
    "df_pos_part1.shape, df_neg_part1.shape #, df_pos_part2.shape, (df_pos_part1.shape[0] + df_pos_part2.shape[0])"
   ]
  },
  {
   "cell_type": "code",
   "execution_count": 6,
   "id": "b6608b08",
   "metadata": {},
   "outputs": [
    {
     "name": "stdout",
     "output_type": "stream",
     "text": [
      "(5170, 3) (38114, 3)\n"
     ]
    }
   ],
   "source": [
    "print(df_pos_part1.shape, df_neg_part1.shape)\n",
    "# (df_pos_part1.shape[0] + df_pos_part2.shape[0] + df_neg_part1.shape[0] + df_neg_part2.shape[0] - 525)"
   ]
  },
  {
   "cell_type": "code",
   "execution_count": 10,
   "id": "f19c8445",
   "metadata": {},
   "outputs": [
    {
     "data": {
      "text/html": [
       "<div>\n",
       "<style scoped>\n",
       "    .dataframe tbody tr th:only-of-type {\n",
       "        vertical-align: middle;\n",
       "    }\n",
       "\n",
       "    .dataframe tbody tr th {\n",
       "        vertical-align: top;\n",
       "    }\n",
       "\n",
       "    .dataframe thead th {\n",
       "        text-align: right;\n",
       "    }\n",
       "</style>\n",
       "<table border=\"1\" class=\"dataframe\">\n",
       "  <thead>\n",
       "    <tr style=\"text-align: right;\">\n",
       "      <th></th>\n",
       "      <th>@timestamp</th>\n",
       "      <th>ctxt_.time_spent</th>\n",
       "      <th>ctxt_.text</th>\n",
       "    </tr>\n",
       "  </thead>\n",
       "  <tbody>\n",
       "    <tr>\n",
       "      <th>0</th>\n",
       "      <td>Jun 2, 2023 @ 08:05:09.628</td>\n",
       "      <td>0.4</td>\n",
       "      <td>&lt;p&gt;&lt;span style=\"font-weight: 400;\"&gt;Come here, ...</td>\n",
       "    </tr>\n",
       "    <tr>\n",
       "      <th>1</th>\n",
       "      <td>Jun 2, 2023 @ 08:05:09.406</td>\n",
       "      <td>0.1</td>\n",
       "      <td>df-dommeBig_Foot2punishherpatientinastraitjack...</td>\n",
       "    </tr>\n",
       "    <tr>\n",
       "      <th>2</th>\n",
       "      <td>Jun 2, 2023 @ 08:05:09.393</td>\n",
       "      <td>0.1</td>\n",
       "      <td>Domme Amber Punish Slave In A Straitjacket - P...</td>\n",
       "    </tr>\n",
       "    <tr>\n",
       "      <th>3</th>\n",
       "      <td>Jun 2, 2023 @ 08:05:09.323</td>\n",
       "      <td>0.1</td>\n",
       "      <td>BLACKMAIL FANTASY, SMALL PENIS HUMILIATION, SM...</td>\n",
       "    </tr>\n",
       "    <tr>\n",
       "      <th>4</th>\n",
       "      <td>Jun 2, 2023 @ 08:05:09.269</td>\n",
       "      <td>0.1</td>\n",
       "      <td>blackmail spe mov.mov</td>\n",
       "    </tr>\n",
       "  </tbody>\n",
       "</table>\n",
       "</div>"
      ],
      "text/plain": [
       "                   @timestamp  ctxt_.time_spent   \n",
       "0  Jun 2, 2023 @ 08:05:09.628               0.4  \\\n",
       "1  Jun 2, 2023 @ 08:05:09.406               0.1   \n",
       "2  Jun 2, 2023 @ 08:05:09.393               0.1   \n",
       "3  Jun 2, 2023 @ 08:05:09.323               0.1   \n",
       "4  Jun 2, 2023 @ 08:05:09.269               0.1   \n",
       "\n",
       "                                          ctxt_.text  \n",
       "0  <p><span style=\"font-weight: 400;\">Come here, ...  \n",
       "1  df-dommeBig_Foot2punishherpatientinastraitjack...  \n",
       "2  Domme Amber Punish Slave In A Straitjacket - P...  \n",
       "3  BLACKMAIL FANTASY, SMALL PENIS HUMILIATION, SM...  \n",
       "4                              blackmail spe mov.mov  "
      ]
     },
     "execution_count": 10,
     "metadata": {},
     "output_type": "execute_result"
    }
   ],
   "source": [
    "df_pos_part1.head()"
   ]
  },
  {
   "cell_type": "code",
   "execution_count": 11,
   "id": "ff334580",
   "metadata": {},
   "outputs": [
    {
     "data": {
      "text/html": [
       "<div>\n",
       "<style scoped>\n",
       "    .dataframe tbody tr th:only-of-type {\n",
       "        vertical-align: middle;\n",
       "    }\n",
       "\n",
       "    .dataframe tbody tr th {\n",
       "        vertical-align: top;\n",
       "    }\n",
       "\n",
       "    .dataframe thead th {\n",
       "        text-align: right;\n",
       "    }\n",
       "</style>\n",
       "<table border=\"1\" class=\"dataframe\">\n",
       "  <thead>\n",
       "    <tr style=\"text-align: right;\">\n",
       "      <th></th>\n",
       "      <th>@timestamp</th>\n",
       "      <th>ctxt_.time_spent</th>\n",
       "      <th>ctxt_.text</th>\n",
       "    </tr>\n",
       "  </thead>\n",
       "  <tbody>\n",
       "    <tr>\n",
       "      <th>0</th>\n",
       "      <td>Jun 2, 2023 @ 08:05:09.628</td>\n",
       "      <td>0.4</td>\n",
       "      <td>&lt;p&gt;&lt;span style=\"font-weight: 400;\"&gt;Come here, ...</td>\n",
       "    </tr>\n",
       "    <tr>\n",
       "      <th>1</th>\n",
       "      <td>Jun 2, 2023 @ 08:05:09.406</td>\n",
       "      <td>0.1</td>\n",
       "      <td>df-dommeBig_Foot2punishherpatientinastraitjack...</td>\n",
       "    </tr>\n",
       "    <tr>\n",
       "      <th>2</th>\n",
       "      <td>Jun 2, 2023 @ 08:05:09.393</td>\n",
       "      <td>0.1</td>\n",
       "      <td>Domme Amber Punish Slave In A Straitjacket - P...</td>\n",
       "    </tr>\n",
       "    <tr>\n",
       "      <th>3</th>\n",
       "      <td>Jun 2, 2023 @ 08:05:09.323</td>\n",
       "      <td>0.1</td>\n",
       "      <td>BLACKMAIL FANTASY, SMALL PENIS HUMILIATION, SM...</td>\n",
       "    </tr>\n",
       "    <tr>\n",
       "      <th>4</th>\n",
       "      <td>Jun 2, 2023 @ 08:05:09.269</td>\n",
       "      <td>0.1</td>\n",
       "      <td>blackmail spe mov.mov</td>\n",
       "    </tr>\n",
       "  </tbody>\n",
       "</table>\n",
       "</div>"
      ],
      "text/plain": [
       "                   @timestamp  ctxt_.time_spent   \n",
       "0  Jun 2, 2023 @ 08:05:09.628               0.4  \\\n",
       "1  Jun 2, 2023 @ 08:05:09.406               0.1   \n",
       "2  Jun 2, 2023 @ 08:05:09.393               0.1   \n",
       "3  Jun 2, 2023 @ 08:05:09.323               0.1   \n",
       "4  Jun 2, 2023 @ 08:05:09.269               0.1   \n",
       "\n",
       "                                          ctxt_.text  \n",
       "0  <p><span style=\"font-weight: 400;\">Come here, ...  \n",
       "1  df-dommeBig_Foot2punishherpatientinastraitjack...  \n",
       "2  Domme Amber Punish Slave In A Straitjacket - P...  \n",
       "3  BLACKMAIL FANTASY, SMALL PENIS HUMILIATION, SM...  \n",
       "4                              blackmail spe mov.mov  "
      ]
     },
     "execution_count": 11,
     "metadata": {},
     "output_type": "execute_result"
    }
   ],
   "source": [
    "df_neg_part1.head()"
   ]
  },
  {
   "cell_type": "code",
   "execution_count": 12,
   "id": "d987e43e",
   "metadata": {},
   "outputs": [],
   "source": [
    "df_pos_part1.drop('@timestamp', axis=1, inplace=True)\n",
    "df_neg_part1.drop('@timestamp', axis=1, inplace=True)\n",
    "# df_pos_part2.drop('@timestamp', axis=1, inplace=True)\n",
    "# df_neg_part2.drop('@timestamp', axis=1, inplace=True)\n",
    "df_pos_part1['ctxt_.time_spent'] = df_pos_part1['ctxt_.time_spent'] * 1000 # convert seconds to milliseconds\n",
    "df_neg_part1['ctxt_.time_spent'] = df_neg_part1['ctxt_.time_spent'] * 1000 # convert seconds to milliseconds\n",
    "# df_pos_part2['ctxt_.time_spent'] = df_pos_part2['ctxt_.time_spent'] * 1000 # convert seconds to milliseconds\n",
    "# df_pos_part2['ctxt_.time_spent'] = df_pos_part2['ctxt_.time_spent'] * 1000 # convert seconds to milliseconds"
   ]
  },
  {
   "cell_type": "code",
   "execution_count": 13,
   "id": "f043c2d7",
   "metadata": {},
   "outputs": [],
   "source": [
    "df_pos_part1.rename(columns={\"ctxt_.text\": \"raw_text\", \"ctxt_.time_spent\": \"time_spent_ms\"}, inplace=True)\n",
    "df_neg_part1.rename(columns={\"ctxt_.text\": \"raw_text\", \"ctxt_.time_spent\": \"time_spent_ms\"}, inplace=True)\n",
    "# df_pos_part2.rename(columns={\"ctxt_.text\": \"raw_text\", \"ctxt_.time_spent\": \"time_spent_ms\"}, inplace=True)\n",
    "# df_neg_part2.rename(columns={\"ctxt_.text\": \"raw_text\", \"ctxt_.time_spent\": \"time_spent_ms\"}, inplace=True)"
   ]
  },
  {
   "cell_type": "code",
   "execution_count": 14,
   "id": "298ed3f6",
   "metadata": {},
   "outputs": [],
   "source": [
    "df_pos_part1['labels'] = 1\n",
    "df_neg_part1['labels'] = 0\n",
    "# df_pos_part2['labels'] = 1\n",
    "# df_neg_part2['labels'] = 0"
   ]
  },
  {
   "cell_type": "code",
   "execution_count": 16,
   "id": "a3e9d539",
   "metadata": {},
   "outputs": [
    {
     "name": "stdout",
     "output_type": "stream",
     "text": [
      "785\n"
     ]
    }
   ],
   "source": [
    "nan_values_neg_part1 = df_neg_part1[df_neg_part1.isna().any(axis=1)]\n",
    "print(len(nan_values_neg_part1))\n",
    "\n",
    "# nan_values_neg_part2 = df_neg_part2[df_neg_part2.isna().any(axis=1)]\n",
    "# print(len(nan_values_neg_part1))"
   ]
  },
  {
   "cell_type": "code",
   "execution_count": 17,
   "id": "427f0634",
   "metadata": {},
   "outputs": [
    {
     "data": {
      "text/html": [
       "<div>\n",
       "<style scoped>\n",
       "    .dataframe tbody tr th:only-of-type {\n",
       "        vertical-align: middle;\n",
       "    }\n",
       "\n",
       "    .dataframe tbody tr th {\n",
       "        vertical-align: top;\n",
       "    }\n",
       "\n",
       "    .dataframe thead th {\n",
       "        text-align: right;\n",
       "    }\n",
       "</style>\n",
       "<table border=\"1\" class=\"dataframe\">\n",
       "  <thead>\n",
       "    <tr style=\"text-align: right;\">\n",
       "      <th></th>\n",
       "      <th>time_spent_ms</th>\n",
       "      <th>raw_text</th>\n",
       "      <th>labels</th>\n",
       "    </tr>\n",
       "  </thead>\n",
       "  <tbody>\n",
       "    <tr>\n",
       "      <th>0</th>\n",
       "      <td>400.0</td>\n",
       "      <td>&lt;p&gt;&lt;span style=\"font-weight: 400;\"&gt;Come here, ...</td>\n",
       "      <td>0</td>\n",
       "    </tr>\n",
       "    <tr>\n",
       "      <th>1</th>\n",
       "      <td>100.0</td>\n",
       "      <td>df-dommeBig_Foot2punishherpatientinastraitjack...</td>\n",
       "      <td>0</td>\n",
       "    </tr>\n",
       "    <tr>\n",
       "      <th>2</th>\n",
       "      <td>100.0</td>\n",
       "      <td>Domme Amber Punish Slave In A Straitjacket - P...</td>\n",
       "      <td>0</td>\n",
       "    </tr>\n",
       "    <tr>\n",
       "      <th>3</th>\n",
       "      <td>100.0</td>\n",
       "      <td>BLACKMAIL FANTASY, SMALL PENIS HUMILIATION, SM...</td>\n",
       "      <td>0</td>\n",
       "    </tr>\n",
       "    <tr>\n",
       "      <th>4</th>\n",
       "      <td>100.0</td>\n",
       "      <td>blackmail spe mov.mov</td>\n",
       "      <td>0</td>\n",
       "    </tr>\n",
       "  </tbody>\n",
       "</table>\n",
       "</div>"
      ],
      "text/plain": [
       "   time_spent_ms                                           raw_text  labels\n",
       "0          400.0  <p><span style=\"font-weight: 400;\">Come here, ...       0\n",
       "1          100.0  df-dommeBig_Foot2punishherpatientinastraitjack...       0\n",
       "2          100.0  Domme Amber Punish Slave In A Straitjacket - P...       0\n",
       "3          100.0  BLACKMAIL FANTASY, SMALL PENIS HUMILIATION, SM...       0\n",
       "4          100.0                              blackmail spe mov.mov       0"
      ]
     },
     "execution_count": 17,
     "metadata": {},
     "output_type": "execute_result"
    }
   ],
   "source": [
    "df_neg_part1.dropna(inplace=True)\n",
    "df_neg_part1.head()"
   ]
  },
  {
   "cell_type": "code",
   "execution_count": 18,
   "id": "160bd912",
   "metadata": {},
   "outputs": [],
   "source": [
    "# df_neg_part2.dropna(inplace=True)\n",
    "# df_neg_part2.head()"
   ]
  },
  {
   "cell_type": "code",
   "execution_count": 19,
   "id": "32d9b03e",
   "metadata": {},
   "outputs": [
    {
     "data": {
      "text/plain": [
       "(42499, 3)"
      ]
     },
     "execution_count": 19,
     "metadata": {},
     "output_type": "execute_result"
    }
   ],
   "source": [
    "from sklearn.utils import shuffle\n",
    "RANDOM_STATE = 42\n",
    "\n",
    "df = pd.concat([df_pos_part1, df_neg_part1], ignore_index=True) #, df_pos_part2, df_neg_part2], ignore_index=True)\n",
    "df = shuffle(df, random_state=RANDOM_STATE).reset_index(drop=True)\n",
    "\n",
    "df.shape"
   ]
  },
  {
   "cell_type": "code",
   "execution_count": 20,
   "id": "807efeb2",
   "metadata": {},
   "outputs": [
    {
     "data": {
      "text/html": [
       "<div>\n",
       "<style scoped>\n",
       "    .dataframe tbody tr th:only-of-type {\n",
       "        vertical-align: middle;\n",
       "    }\n",
       "\n",
       "    .dataframe tbody tr th {\n",
       "        vertical-align: top;\n",
       "    }\n",
       "\n",
       "    .dataframe thead th {\n",
       "        text-align: right;\n",
       "    }\n",
       "</style>\n",
       "<table border=\"1\" class=\"dataframe\">\n",
       "  <thead>\n",
       "    <tr style=\"text-align: right;\">\n",
       "      <th></th>\n",
       "      <th>time_spent_ms</th>\n",
       "      <th>raw_text</th>\n",
       "      <th>labels</th>\n",
       "    </tr>\n",
       "  </thead>\n",
       "  <tbody>\n",
       "    <tr>\n",
       "      <th>0</th>\n",
       "      <td>100.0</td>\n",
       "      <td>Str8Guy2MenVib_DU.wmv</td>\n",
       "      <td>0</td>\n",
       "    </tr>\n",
       "    <tr>\n",
       "      <th>1</th>\n",
       "      <td>300.0</td>\n",
       "      <td>&lt;p&gt;Stephen Steele is 30 years old, handsome, m...</td>\n",
       "      <td>0</td>\n",
       "    </tr>\n",
       "    <tr>\n",
       "      <th>2</th>\n",
       "      <td>3600.0</td>\n",
       "      <td>start\\tend\\ttext\\n60000\\t89000\\tAh?\\n89000\\t90...</td>\n",
       "      <td>0</td>\n",
       "    </tr>\n",
       "    <tr>\n",
       "      <th>3</th>\n",
       "      <td>200.0</td>\n",
       "      <td>Rich has 26 year old Rex tied to the rack for ...</td>\n",
       "      <td>0</td>\n",
       "    </tr>\n",
       "    <tr>\n",
       "      <th>4</th>\n",
       "      <td>0.0</td>\n",
       "      <td>OLDER MAN / YOUNGER MAN, GAY BLOWJOBS     OLDE...</td>\n",
       "      <td>0</td>\n",
       "    </tr>\n",
       "  </tbody>\n",
       "</table>\n",
       "</div>"
      ],
      "text/plain": [
       "   time_spent_ms                                           raw_text  labels\n",
       "0          100.0                              Str8Guy2MenVib_DU.wmv       0\n",
       "1          300.0  <p>Stephen Steele is 30 years old, handsome, m...       0\n",
       "2         3600.0  start\\tend\\ttext\\n60000\\t89000\\tAh?\\n89000\\t90...       0\n",
       "3          200.0  Rich has 26 year old Rex tied to the rack for ...       0\n",
       "4            0.0  OLDER MAN / YOUNGER MAN, GAY BLOWJOBS     OLDE...       0"
      ]
     },
     "execution_count": 20,
     "metadata": {},
     "output_type": "execute_result"
    }
   ],
   "source": [
    "df.head()"
   ]
  },
  {
   "cell_type": "code",
   "execution_count": null,
   "id": "ae8dde11",
   "metadata": {},
   "outputs": [],
   "source": [
    "df.to_csv('../datasets/last_train_data.csv', index=False)"
   ]
  },
  {
   "cell_type": "code",
   "execution_count": 21,
   "id": "5e86417b",
   "metadata": {},
   "outputs": [
    {
     "data": {
      "text/html": [
       "<div>\n",
       "<style scoped>\n",
       "    .dataframe tbody tr th:only-of-type {\n",
       "        vertical-align: middle;\n",
       "    }\n",
       "\n",
       "    .dataframe tbody tr th {\n",
       "        vertical-align: top;\n",
       "    }\n",
       "\n",
       "    .dataframe thead th {\n",
       "        text-align: right;\n",
       "    }\n",
       "</style>\n",
       "<table border=\"1\" class=\"dataframe\">\n",
       "  <thead>\n",
       "    <tr style=\"text-align: right;\">\n",
       "      <th></th>\n",
       "      <th>time_spent_ms</th>\n",
       "      <th>raw_text</th>\n",
       "      <th>labels</th>\n",
       "    </tr>\n",
       "  </thead>\n",
       "  <tbody>\n",
       "    <tr>\n",
       "      <th>0</th>\n",
       "      <td>100.0</td>\n",
       "      <td>ASIAN GODDESS, ASIAN PRINCESS, BOOT DOMINATION...</td>\n",
       "      <td>0</td>\n",
       "    </tr>\n",
       "    <tr>\n",
       "      <th>1</th>\n",
       "      <td>0.1</td>\n",
       "      <td>HAND EXPRESSING, FEMALE DOMINATION, HAND FETIS...</td>\n",
       "      <td>0</td>\n",
       "    </tr>\n",
       "    <tr>\n",
       "      <th>2</th>\n",
       "      <td>100.0</td>\n",
       "      <td>Indomitable! 3 (starring Ziva Fey)</td>\n",
       "      <td>0</td>\n",
       "    </tr>\n",
       "    <tr>\n",
       "      <th>3</th>\n",
       "      <td>0.1</td>\n",
       "      <td>Karol Arrives home and meet's Thatty on the so...</td>\n",
       "      <td>0</td>\n",
       "    </tr>\n",
       "    <tr>\n",
       "      <th>4</th>\n",
       "      <td>100000.0</td>\n",
       "      <td>The best hooker at the Venusberlin DAY 1 in ne...</td>\n",
       "      <td>1</td>\n",
       "    </tr>\n",
       "  </tbody>\n",
       "</table>\n",
       "</div>"
      ],
      "text/plain": [
       "   time_spent_ms                                           raw_text  labels\n",
       "0          100.0  ASIAN GODDESS, ASIAN PRINCESS, BOOT DOMINATION...       0\n",
       "1            0.1  HAND EXPRESSING, FEMALE DOMINATION, HAND FETIS...       0\n",
       "2          100.0                 Indomitable! 3 (starring Ziva Fey)       0\n",
       "3            0.1  Karol Arrives home and meet's Thatty on the so...       0\n",
       "4       100000.0  The best hooker at the Venusberlin DAY 1 in ne...       1"
      ]
     },
     "execution_count": 21,
     "metadata": {},
     "output_type": "execute_result"
    }
   ],
   "source": [
    "df_old = pd.read_csv('../datasets/last_train_data.csv')\n",
    "df_old.head()"
   ]
  },
  {
   "cell_type": "code",
   "execution_count": 23,
   "id": "276eb6f5",
   "metadata": {},
   "outputs": [
    {
     "data": {
      "text/html": [
       "<div>\n",
       "<style scoped>\n",
       "    .dataframe tbody tr th:only-of-type {\n",
       "        vertical-align: middle;\n",
       "    }\n",
       "\n",
       "    .dataframe tbody tr th {\n",
       "        vertical-align: top;\n",
       "    }\n",
       "\n",
       "    .dataframe thead th {\n",
       "        text-align: right;\n",
       "    }\n",
       "</style>\n",
       "<table border=\"1\" class=\"dataframe\">\n",
       "  <thead>\n",
       "    <tr style=\"text-align: right;\">\n",
       "      <th></th>\n",
       "      <th>time_spent_ms</th>\n",
       "      <th>raw_text</th>\n",
       "      <th>labels</th>\n",
       "    </tr>\n",
       "  </thead>\n",
       "  <tbody>\n",
       "    <tr>\n",
       "      <th>0</th>\n",
       "      <td>100.0</td>\n",
       "      <td>BIG LOADS, BRUNETTE, BIG DICKS, CUMSHOTS, PORN...</td>\n",
       "      <td>0</td>\n",
       "    </tr>\n",
       "    <tr>\n",
       "      <th>1</th>\n",
       "      <td>100.0</td>\n",
       "      <td>Crushed By Asian Ass MP4.mp4</td>\n",
       "      <td>0</td>\n",
       "    </tr>\n",
       "    <tr>\n",
       "      <th>2</th>\n",
       "      <td>100.0</td>\n",
       "      <td>Karol Arrives home and meet's Thatty on the so...</td>\n",
       "      <td>0</td>\n",
       "    </tr>\n",
       "    <tr>\n",
       "      <th>3</th>\n",
       "      <td>200.0</td>\n",
       "      <td>Karol Arrives home and meet's Thatty on the so...</td>\n",
       "      <td>0</td>\n",
       "    </tr>\n",
       "    <tr>\n",
       "      <th>4</th>\n",
       "      <td>100.0</td>\n",
       "      <td>Robbers Revenge WMV.wmv</td>\n",
       "      <td>0</td>\n",
       "    </tr>\n",
       "  </tbody>\n",
       "</table>\n",
       "</div>"
      ],
      "text/plain": [
       "   time_spent_ms                                           raw_text  labels\n",
       "0          100.0  BIG LOADS, BRUNETTE, BIG DICKS, CUMSHOTS, PORN...       0\n",
       "1          100.0                       Crushed By Asian Ass MP4.mp4       0\n",
       "2          100.0  Karol Arrives home and meet's Thatty on the so...       0\n",
       "3          200.0  Karol Arrives home and meet's Thatty on the so...       0\n",
       "4          100.0                            Robbers Revenge WMV.wmv       0"
      ]
     },
     "execution_count": 23,
     "metadata": {},
     "output_type": "execute_result"
    }
   ],
   "source": [
    "from sklearn.utils import shuffle\n",
    "RANDOM_STATE = 42\n",
    "\n",
    "df_new = pd.concat([df_old, df], ignore_index=True) #, df_pos_part2, df_neg_part2], ignore_index=True)\n",
    "df_new = shuffle(df_new, random_state=RANDOM_STATE).reset_index(drop=True)\n",
    "\n",
    "df_new.head()"
   ]
  },
  {
   "cell_type": "code",
   "execution_count": 24,
   "id": "6d6dd4a6",
   "metadata": {},
   "outputs": [],
   "source": [
    "df_new.to_csv('../datasets/current_train_data.csv', index=False)"
   ]
  },
  {
   "cell_type": "code",
   "execution_count": null,
   "id": "1a7e1857",
   "metadata": {},
   "outputs": [],
   "source": [
    "df"
   ]
  }
 ],
 "metadata": {
  "kernelspec": {
   "display_name": "Python 3 (ipykernel)",
   "language": "python",
   "name": "python3"
  },
  "language_info": {
   "codemirror_mode": {
    "name": "ipython",
    "version": 3
   },
   "file_extension": ".py",
   "mimetype": "text/x-python",
   "name": "python",
   "nbconvert_exporter": "python",
   "pygments_lexer": "ipython3",
   "version": "3.8.12"
  },
  "toc": {
   "base_numbering": 1,
   "nav_menu": {},
   "number_sections": true,
   "sideBar": true,
   "skip_h1_title": false,
   "title_cell": "Table of Contents",
   "title_sidebar": "Contents",
   "toc_cell": false,
   "toc_position": {},
   "toc_section_display": true,
   "toc_window_display": false
  }
 },
 "nbformat": 4,
 "nbformat_minor": 5
}
