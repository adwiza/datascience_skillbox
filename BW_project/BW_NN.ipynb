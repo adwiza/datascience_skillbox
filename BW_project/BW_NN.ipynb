{
 "cells": [
  {
   "cell_type": "code",
   "execution_count": 3,
   "id": "9df91d63",
   "metadata": {
    "ExecuteTime": {
     "end_time": "2023-03-06T08:21:45.677608Z",
     "start_time": "2023-03-06T08:21:41.796062Z"
    }
   },
   "outputs": [],
   "source": [
    "import numpy as np # linear algebra\n",
    "import pandas as pd # data processing, CSV file I/O (e.g. pd.read_csv)\n",
    "import seaborn as sns\n",
    "from sklearn.utils import shuffle\n",
    "\n",
    "import nltk\n",
    "from nltk.corpus import stopwords\n",
    "from nltk.tokenize import word_tokenize\n",
    "from string import punctuation\n",
    "from nltk.stem import WordNetLemmatizer\n",
    "import contractions\n",
    "\n",
    "import matplotlib. pyplot as plt\n",
    "import pandas as pd\n",
    "\n",
    "from sklearn.linear_model import LogisticRegression\n",
    "from sklearn.neural_network import MLPClassifier\n",
    "from sklearn.metrics import accuracy_score, confusion_matrix\n",
    "from sklearn.model_selection import train_test_split\n",
    "from imblearn.over_sampling import RandomOverSampler\n",
    "\n",
    "import warnings\n",
    "warnings.filterwarnings('ignore')"
   ]
  },
  {
   "cell_type": "code",
   "execution_count": 4,
   "id": "9fdb98b7",
   "metadata": {
    "ExecuteTime": {
     "end_time": "2023-03-06T08:21:45.868330Z",
     "start_time": "2023-03-06T08:21:45.682278Z"
    }
   },
   "outputs": [],
   "source": [
    "import tensorflow as tf"
   ]
  },
  {
   "cell_type": "code",
   "execution_count": 6,
   "id": "1cdf1780",
   "metadata": {
    "ExecuteTime": {
     "end_time": "2023-03-06T08:14:25.641243Z",
     "start_time": "2023-03-06T08:14:25.074911Z"
    }
   },
   "outputs": [],
   "source": [
    "data = pd.read_json(\"../datasets/dataset.json\")\n",
    "data.drop(['violation'], axis=1, inplace=True)\n",
    "\n",
    "\n",
    "# data = shuffle(data)\n",
    "\n",
    "df = data[:80000]\n",
    "\n",
    "test =  data[80001:]# pd.read_json(\"datasets/test_data.json\")"
   ]
  },
  {
   "cell_type": "code",
   "execution_count": 7,
   "id": "e9eb13e4",
   "metadata": {},
   "outputs": [
    {
     "data": {
      "text/html": [
       "<div>\n",
       "<style scoped>\n",
       "    .dataframe tbody tr th:only-of-type {\n",
       "        vertical-align: middle;\n",
       "    }\n",
       "\n",
       "    .dataframe tbody tr th {\n",
       "        vertical-align: top;\n",
       "    }\n",
       "\n",
       "    .dataframe thead th {\n",
       "        text-align: right;\n",
       "    }\n",
       "</style>\n",
       "<table border=\"1\" class=\"dataframe\">\n",
       "  <thead>\n",
       "    <tr style=\"text-align: right;\">\n",
       "      <th></th>\n",
       "      <th>text</th>\n",
       "      <th>hasBadWords</th>\n",
       "    </tr>\n",
       "  </thead>\n",
       "  <tbody>\n",
       "    <tr>\n",
       "      <th>0</th>\n",
       "      <td>My Favorite Slut</td>\n",
       "      <td>False</td>\n",
       "    </tr>\n",
       "    <tr>\n",
       "      <th>1</th>\n",
       "      <td>girlfriends sit on each other's faces with the...</td>\n",
       "      <td>False</td>\n",
       "    </tr>\n",
       "    <tr>\n",
       "      <th>2</th>\n",
       "      <td>bound beauty kisses her girlfriend</td>\n",
       "      <td>False</td>\n",
       "    </tr>\n",
       "    <tr>\n",
       "      <th>3</th>\n",
       "      <td>MORGAN - Anytime - Nail Painting On The Slave'...</td>\n",
       "      <td>False</td>\n",
       "    </tr>\n",
       "    <tr>\n",
       "      <th>4</th>\n",
       "      <td>TRANSGENDER COACHING (wmv) PART 1</td>\n",
       "      <td>False</td>\n",
       "    </tr>\n",
       "  </tbody>\n",
       "</table>\n",
       "</div>"
      ],
      "text/plain": [
       "                                                text  hasBadWords\n",
       "0                                   My Favorite Slut        False\n",
       "1  girlfriends sit on each other's faces with the...        False\n",
       "2                 bound beauty kisses her girlfriend        False\n",
       "3  MORGAN - Anytime - Nail Painting On The Slave'...        False\n",
       "4                  TRANSGENDER COACHING (wmv) PART 1        False"
      ]
     },
     "execution_count": 7,
     "metadata": {},
     "output_type": "execute_result"
    }
   ],
   "source": [
    "df.head()"
   ]
  },
  {
   "cell_type": "code",
   "execution_count": 8,
   "id": "c0075088",
   "metadata": {},
   "outputs": [],
   "source": [
    "oversample = RandomOverSampler(sampling_strategy='minority')"
   ]
  },
  {
   "cell_type": "code",
   "execution_count": 9,
   "id": "bf70fec1",
   "metadata": {},
   "outputs": [],
   "source": [
    "X_over, y_over = oversample.fit_resample(df, df[\"hasBadWords\"])"
   ]
  },
  {
   "cell_type": "code",
   "execution_count": 10,
   "id": "8b984a09",
   "metadata": {},
   "outputs": [
    {
     "data": {
      "text/plain": [
       "False    76744\n",
       "True      3256\n",
       "Name: hasBadWords, dtype: int64"
      ]
     },
     "execution_count": 10,
     "metadata": {},
     "output_type": "execute_result"
    }
   ],
   "source": [
    "df[\"hasBadWords\"].value_counts()"
   ]
  },
  {
   "cell_type": "code",
   "execution_count": 11,
   "id": "cea4953c",
   "metadata": {},
   "outputs": [
    {
     "data": {
      "image/png": "[encoded data removed]",
      "text/plain": [
       "<Figure size 432x288 with 1 Axes>"
      ]
     },
     "metadata": {
      "needs_background": "light"
     },
     "output_type": "display_data"
    }
   ],
   "source": [
    "sns.countplot(y = df['hasBadWords']);"
   ]
  },
  {
   "cell_type": "code",
   "execution_count": 12,
   "id": "0169c0db",
   "metadata": {},
   "outputs": [],
   "source": [
    "stop_word = set(stopwords.words(\"english\"))"
   ]
  },
  {
   "cell_type": "code",
   "execution_count": 13,
   "id": "f8965abd",
   "metadata": {},
   "outputs": [],
   "source": [
    "punt = punctuation.replace(\"!\",\"\").replace(\"?\",\"\")"
   ]
  },
  {
   "cell_type": "code",
   "execution_count": 14,
   "id": "9784816e",
   "metadata": {},
   "outputs": [
    {
     "data": {
      "text/plain": [
       "0                                 [my, favorite, slut]\n",
       "1    [girlfriend, sit, on, each, other, 's, face, w...\n",
       "2               [bound, beauty, kiss, her, girlfriend]\n",
       "3    [morgan, anytime, nail, painting, on, the, sla...\n",
       "4                [transgender, coaching, wmv, part, 1]\n",
       "Name: text, dtype: object"
      ]
     },
     "execution_count": 14,
     "metadata": {},
     "output_type": "execute_result"
    }
   ],
   "source": [
    "def text_tokenize(text):\n",
    "    tokenizer = word_tokenize(text, language='english', preserve_line=False)\n",
    "    lemmatizer = WordNetLemmatizer()\n",
    "    tokens = tokenizer #.tokenize(contractions.fix(text))\n",
    "    \n",
    "    pruned = []\n",
    "    \n",
    "    for token in tokens:\n",
    "        if token not in punctuation and not token.startswith(\"http\"):\n",
    "            if token.startswith(\"@\"):\n",
    "                token = token.replace(\"@\",\"\")\n",
    "                pruned.append(lemmatizer.lemmatize(token.lower()))\n",
    "\n",
    "            else:\n",
    "                \n",
    "                pruned.append(lemmatizer.lemmatize(token.lower()))\n",
    "            \n",
    "    return pruned\n",
    "clean_text = df[\"text\"].apply(lambda x: text_tokenize(x))\n",
    "clean_text.head()"
   ]
  },
  {
   "cell_type": "code",
   "execution_count": 15,
   "id": "87027337",
   "metadata": {},
   "outputs": [
    {
     "data": {
      "text/plain": [
       "((56000,), (24000,), (56000,), (24000,))"
      ]
     },
     "execution_count": 15,
     "metadata": {},
     "output_type": "execute_result"
    }
   ],
   "source": [
    "from sklearn.model_selection import train_test_split\n",
    "\n",
    "X_train,X_test,y_train,y_test = train_test_split(clean_text, df[\"hasBadWords\"], test_size=0.3, random_state=2023, stratify=df[\"hasBadWords\"])\n",
    "X_train.shape,X_test.shape,y_train.shape,y_test.shape"
   ]
  },
  {
   "cell_type": "code",
   "execution_count": 16,
   "id": "03b42224",
   "metadata": {},
   "outputs": [],
   "source": [
    "from sklearn.preprocessing import OneHotEncoder\n",
    "from tensorflow.keras.preprocessing.text import Tokenizer"
   ]
  },
  {
   "cell_type": "code",
   "execution_count": 17,
   "id": "ad966381",
   "metadata": {},
   "outputs": [],
   "source": [
    "# Reshape column \n",
    "y_train = y_train.to_numpy().reshape(-1,1)\n",
    "y_test = y_test.to_numpy().reshape(-1,1)"
   ]
  },
  {
   "cell_type": "code",
   "execution_count": 18,
   "id": "0f80f2d9",
   "metadata": {},
   "outputs": [],
   "source": [
    "one_hot_encode = OneHotEncoder(sparse_output=False)"
   ]
  },
  {
   "cell_type": "code",
   "execution_count": 19,
   "id": "ec932e30",
   "metadata": {},
   "outputs": [],
   "source": [
    "y_train = one_hot_encode.fit_transform(y_train)\n",
    "y_test = one_hot_encode.transform(y_test)"
   ]
  },
  {
   "cell_type": "code",
   "execution_count": 20,
   "id": "98352c44",
   "metadata": {},
   "outputs": [],
   "source": [
    "X_train = X_train.to_list()\n",
    "X_test = X_test.to_list()\n",
    "\n",
    "tokenizer = Tokenizer()\n",
    "\n",
    "tokenizer.fit_on_texts(X_train)\n",
    "\n",
    "X_train = tokenizer.texts_to_sequences(X_train)\n",
    "X_test = tokenizer.texts_to_sequences(X_test)\n",
    "\n",
    "max_input_length = np.max([len(x) for x in X_train])\n",
    "\n",
    "X_train = tf.keras.preprocessing.sequence.pad_sequences(X_train, padding= \"post\", maxlen = max_input_length)\n",
    "X_test = tf.keras.preprocessing.sequence.pad_sequences(X_test, padding= \"post\", maxlen = max_input_length)\n"
   ]
  },
  {
   "cell_type": "markdown",
   "id": "3221c841",
   "metadata": {},
   "source": [
    "# Import LSTM**"
   ]
  },
  {
   "cell_type": "code",
   "execution_count": 21,
   "id": "e0c4b8b7",
   "metadata": {},
   "outputs": [],
   "source": [
    "from tensorflow import keras\n",
    "from tensorflow.keras import Sequential\n",
    "from tensorflow.keras.layers import Dense,LSTM,Dropout, Bidirectional, GRU,SimpleRNN,Embedding\n",
    "\n",
    "from tensorflow.keras.layers import Input, LSTM, Dense, Embedding, Bidirectional, SpatialDropout1D\n",
    "from tensorflow.keras.utils import to_categorical"
   ]
  },
  {
   "cell_type": "code",
   "execution_count": 22,
   "id": "87662918",
   "metadata": {},
   "outputs": [],
   "source": [
    "max_vocab = len(tokenizer.word_index) + 1\n",
    "input_data = Input((max_input_length,), name= \"input_layer\")\n",
    "embedding_output = Embedding(max_vocab, 100, mask_zero = True, name = \"embedding_layer\")(input_data)"
   ]
  },
  {
   "cell_type": "code",
   "execution_count": 23,
   "id": "d319f1d6",
   "metadata": {
    "code_folding": [
     2
    ]
   },
   "outputs": [
    {
     "name": "stdout",
     "output_type": "stream",
     "text": [
      "Model: \"sequential\"\n",
      "_________________________________________________________________\n",
      " Layer (type)                Output Shape              Param #   \n",
      "=================================================================\n",
      " dense (Dense)               (None, 64)                572992    \n",
      "                                                                 \n",
      " dropout (Dropout)           (None, 64)                0         \n",
      "                                                                 \n",
      " dense_1 (Dense)             (None, 100)               6500      \n",
      "                                                                 \n",
      " dense_2 (Dense)             (None, 1024)              103424    \n",
      "                                                                 \n",
      " dropout_1 (Dropout)         (None, 1024)              0         \n",
      "                                                                 \n",
      " dense_3 (Dense)             (None, 1024)              1049600   \n",
      "                                                                 \n",
      " dropout_2 (Dropout)         (None, 1024)              0         \n",
      "                                                                 \n",
      " dense_4 (Dense)             (None, 2)                 2050      \n",
      "                                                                 \n",
      "=================================================================\n",
      "Total params: 1,734,566\n",
      "Trainable params: 1,734,566\n",
      "Non-trainable params: 0\n",
      "_________________________________________________________________\n"
     ]
    }
   ],
   "source": [
    "lr = tf.keras.optimizers.schedules.ExponentialDecay(initial_learning_rate=0.01, decay_steps=50, decay_rate=0.9, staircase=False)\n",
    "\n",
    "def get_lr_metric(optimizer):\n",
    "    def lr(y_true, y_pred):\n",
    "        return optimizer.weight_decay(tf.float32)\n",
    "    return lr\n",
    "\n",
    "optimizer = tf.keras.optimizers.Adam(learning_rate = lr)\n",
    "\n",
    "lr_metric = get_lr_metric(optimizer)\n",
    "\n",
    "model = Sequential()\n",
    "model.add(Dense(64,input_shape = (8952,), activation = 'relu'))\n",
    "model.add(Dropout(0.6))\n",
    "model.add(Dense(100, activation='relu'))\n",
    "\n",
    "model.add(Dense(1024, activation='relu'))\n",
    "model.add(Dropout(0.6))\n",
    "\n",
    "model.add(Dense(1024, activation='relu'))\n",
    "model.add(Dropout(0.6))\n",
    "\n",
    "model.add(Dense(2,activation='tanh'))\n",
    "\n",
    "# model.compile(loss='categorical_crossentropy', optimizer='adam')\n",
    "\n",
    "model.compile(optimizer = optimizer, loss = \"categorical_crossentropy\", metrics = [\"accuracy\"])\n",
    "model.summary()"
   ]
  },
  {
   "cell_type": "code",
   "execution_count": 28,
   "id": "c9cb414d",
   "metadata": {},
   "outputs": [
    {
     "name": "stdout",
     "output_type": "stream",
     "text": [
      "Epoch 1/4\n",
      "110/110 [==============================] - 3s 27ms/step - loss: 0.6931 - accuracy: 0.9593 - val_loss: 0.6931 - val_accuracy: 0.9593\n",
      "Epoch 2/4\n",
      "110/110 [==============================] - 3s 29ms/step - loss: 0.6931 - accuracy: 0.9593 - val_loss: 0.6931 - val_accuracy: 0.9593\n",
      "Epoch 3/4\n",
      "110/110 [==============================] - 3s 25ms/step - loss: 0.6931 - accuracy: 0.9593 - val_loss: 0.6931 - val_accuracy: 0.9593\n",
      "Epoch 4/4\n",
      "110/110 [==============================] - 3s 27ms/step - loss: 0.6931 - accuracy: 0.9593 - val_loss: 0.6931 - val_accuracy: 0.9593\n",
      "CPU times: user 10 s, sys: 5.84 s, total: 15.9 s\n",
      "Wall time: 12.1 s\n"
     ]
    },
    {
     "data": {
      "text/plain": [
       "<keras.callbacks.History at 0x2916da4f0>"
      ]
     },
     "execution_count": 28,
     "metadata": {},
     "output_type": "execute_result"
    }
   ],
   "source": [
    "%%time\n",
    "model.fit(X_train, y_train, batch_size = 512, epochs = 4, validation_data = (X_test, y_test))"
   ]
  },
  {
   "cell_type": "code",
   "execution_count": null,
   "id": "2bd59878",
   "metadata": {},
   "outputs": [],
   "source": [
    "# model.save('models/lstm.model')"
   ]
  },
  {
   "cell_type": "code",
   "execution_count": 29,
   "id": "b1b58ad8",
   "metadata": {},
   "outputs": [
    {
     "data": {
      "text/html": [
       "<div>\n",
       "<style scoped>\n",
       "    .dataframe tbody tr th:only-of-type {\n",
       "        vertical-align: middle;\n",
       "    }\n",
       "\n",
       "    .dataframe tbody tr th {\n",
       "        vertical-align: top;\n",
       "    }\n",
       "\n",
       "    .dataframe thead th {\n",
       "        text-align: right;\n",
       "    }\n",
       "</style>\n",
       "<table border=\"1\" class=\"dataframe\">\n",
       "  <thead>\n",
       "    <tr style=\"text-align: right;\">\n",
       "      <th></th>\n",
       "      <th>text</th>\n",
       "      <th>hasBadWords</th>\n",
       "    </tr>\n",
       "  </thead>\n",
       "  <tbody>\n",
       "    <tr>\n",
       "      <th>80001</th>\n",
       "      <td>Feet Cum Dreamland</td>\n",
       "      <td>False</td>\n",
       "    </tr>\n",
       "    <tr>\n",
       "      <th>80002</th>\n",
       "      <td>BestOnTheMarket</td>\n",
       "      <td>False</td>\n",
       "    </tr>\n",
       "    <tr>\n",
       "      <th>80003</th>\n",
       "      <td>Kulbora Vore</td>\n",
       "      <td>False</td>\n",
       "    </tr>\n",
       "    <tr>\n",
       "      <th>80004</th>\n",
       "      <td>My Clip Store</td>\n",
       "      <td>False</td>\n",
       "    </tr>\n",
       "    <tr>\n",
       "      <th>80005</th>\n",
       "      <td>My Clip Store</td>\n",
       "      <td>False</td>\n",
       "    </tr>\n",
       "  </tbody>\n",
       "</table>\n",
       "</div>"
      ],
      "text/plain": [
       "                     text  hasBadWords\n",
       "80001  Feet Cum Dreamland        False\n",
       "80002     BestOnTheMarket        False\n",
       "80003        Kulbora Vore        False\n",
       "80004       My Clip Store        False\n",
       "80005       My Clip Store        False"
      ]
     },
     "execution_count": 29,
     "metadata": {},
     "output_type": "execute_result"
    }
   ],
   "source": [
    "test.head()"
   ]
  },
  {
   "cell_type": "code",
   "execution_count": 30,
   "id": "b4600340",
   "metadata": {},
   "outputs": [],
   "source": [
    "# normalize and toknize to test data\n",
    "text = test[\"text\"]\n",
    "text = text.apply(lambda x : text_tokenize(x))\n",
    "text = text.to_list()\n",
    "text = tokenizer.texts_to_sequences(text)\n",
    "text = tf.keras.preprocessing.sequence.pad_sequences(text, padding = \"post\", maxlen = max_input_length)"
   ]
  },
  {
   "cell_type": "code",
   "execution_count": 31,
   "id": "2c5d9484",
   "metadata": {},
   "outputs": [
    {
     "data": {
      "text/plain": [
       "(6438, 2)"
      ]
     },
     "execution_count": 31,
     "metadata": {},
     "output_type": "execute_result"
    }
   ],
   "source": [
    "test.shape"
   ]
  },
  {
   "cell_type": "code",
   "execution_count": 32,
   "id": "b49ce6f6",
   "metadata": {},
   "outputs": [
    {
     "name": "stdout",
     "output_type": "stream",
     "text": [
      "202/202 [==============================] - 1s 3ms/step\n"
     ]
    }
   ],
   "source": [
    "# predictions \n",
    "pred = model.predict(text)\n",
    "hasBadWords = one_hot_encode.inverse_transform(pred)\n",
    "test[\"Prediction\"] = hasBadWords"
   ]
  },
  {
   "cell_type": "code",
   "execution_count": 33,
   "id": "b0143cf9",
   "metadata": {},
   "outputs": [
    {
     "data": {
      "text/html": [
       "<div>\n",
       "<style scoped>\n",
       "    .dataframe tbody tr th:only-of-type {\n",
       "        vertical-align: middle;\n",
       "    }\n",
       "\n",
       "    .dataframe tbody tr th {\n",
       "        vertical-align: top;\n",
       "    }\n",
       "\n",
       "    .dataframe thead th {\n",
       "        text-align: right;\n",
       "    }\n",
       "</style>\n",
       "<table border=\"1\" class=\"dataframe\">\n",
       "  <thead>\n",
       "    <tr style=\"text-align: right;\">\n",
       "      <th></th>\n",
       "      <th>text</th>\n",
       "      <th>hasBadWords</th>\n",
       "      <th>Prediction</th>\n",
       "    </tr>\n",
       "  </thead>\n",
       "  <tbody>\n",
       "    <tr>\n",
       "      <th>80001</th>\n",
       "      <td>Feet Cum Dreamland</td>\n",
       "      <td>False</td>\n",
       "      <td>False</td>\n",
       "    </tr>\n",
       "    <tr>\n",
       "      <th>80002</th>\n",
       "      <td>BestOnTheMarket</td>\n",
       "      <td>False</td>\n",
       "      <td>False</td>\n",
       "    </tr>\n",
       "    <tr>\n",
       "      <th>80003</th>\n",
       "      <td>Kulbora Vore</td>\n",
       "      <td>False</td>\n",
       "      <td>False</td>\n",
       "    </tr>\n",
       "    <tr>\n",
       "      <th>80004</th>\n",
       "      <td>My Clip Store</td>\n",
       "      <td>False</td>\n",
       "      <td>False</td>\n",
       "    </tr>\n",
       "    <tr>\n",
       "      <th>80005</th>\n",
       "      <td>My Clip Store</td>\n",
       "      <td>False</td>\n",
       "      <td>False</td>\n",
       "    </tr>\n",
       "  </tbody>\n",
       "</table>\n",
       "</div>"
      ],
      "text/plain": [
       "                     text  hasBadWords  Prediction\n",
       "80001  Feet Cum Dreamland        False       False\n",
       "80002     BestOnTheMarket        False       False\n",
       "80003        Kulbora Vore        False       False\n",
       "80004       My Clip Store        False       False\n",
       "80005       My Clip Store        False       False"
      ]
     },
     "execution_count": 33,
     "metadata": {},
     "output_type": "execute_result"
    }
   ],
   "source": [
    "test.head()"
   ]
  },
  {
   "cell_type": "code",
   "execution_count": 34,
   "id": "6970ee94",
   "metadata": {},
   "outputs": [
    {
     "name": "stdout",
     "output_type": "stream",
     "text": [
      "accuracy = 0.9962721342031687\n"
     ]
    }
   ],
   "source": [
    "accuracy = np.sum(test[\"hasBadWords\"] == test[\"Prediction\"]) / len(test)\n",
    "print(\"accuracy = {}\".format(accuracy))"
   ]
  },
  {
   "cell_type": "code",
   "execution_count": 36,
   "id": "f4a47198",
   "metadata": {},
   "outputs": [
    {
     "data": {
      "text/html": [
       "<div>\n",
       "<style scoped>\n",
       "    .dataframe tbody tr th:only-of-type {\n",
       "        vertical-align: middle;\n",
       "    }\n",
       "\n",
       "    .dataframe tbody tr th {\n",
       "        vertical-align: top;\n",
       "    }\n",
       "\n",
       "    .dataframe thead th {\n",
       "        text-align: right;\n",
       "    }\n",
       "</style>\n",
       "<table border=\"1\" class=\"dataframe\">\n",
       "  <thead>\n",
       "    <tr style=\"text-align: right;\">\n",
       "      <th></th>\n",
       "      <th>text</th>\n",
       "      <th>hasBadWords</th>\n",
       "      <th>Prediction</th>\n",
       "    </tr>\n",
       "  </thead>\n",
       "  <tbody>\n",
       "    <tr>\n",
       "      <th>81973</th>\n",
       "      <td>Intoxicating toes to satisfy your toe crack ad...</td>\n",
       "      <td>True</td>\n",
       "      <td>False</td>\n",
       "    </tr>\n",
       "    <tr>\n",
       "      <th>81976</th>\n",
       "      <td>Beast and Me</td>\n",
       "      <td>True</td>\n",
       "      <td>False</td>\n",
       "    </tr>\n",
       "    <tr>\n",
       "      <th>82039</th>\n",
       "      <td>British, bisexual, tatted &amp; tipsy</td>\n",
       "      <td>True</td>\n",
       "      <td>False</td>\n",
       "    </tr>\n",
       "    <tr>\n",
       "      <th>82093</th>\n",
       "      <td>Domination is a drug. I’m the dealer.</td>\n",
       "      <td>True</td>\n",
       "      <td>False</td>\n",
       "    </tr>\n",
       "    <tr>\n",
       "      <th>82122</th>\n",
       "      <td>BBW switchy domme-leaning stoner goddexx</td>\n",
       "      <td>True</td>\n",
       "      <td>False</td>\n",
       "    </tr>\n",
       "    <tr>\n",
       "      <th>82579</th>\n",
       "      <td>The grossest little girl on the block and key ...</td>\n",
       "      <td>True</td>\n",
       "      <td>False</td>\n",
       "    </tr>\n",
       "    <tr>\n",
       "      <th>82844</th>\n",
       "      <td>piss, pissing, kink, kinky, amateurs, amateur ...</td>\n",
       "      <td>True</td>\n",
       "      <td>False</td>\n",
       "    </tr>\n",
       "    <tr>\n",
       "      <th>83147</th>\n",
       "      <td>British, \\r\\nBisexual, \\r\\nTattooed,\\r\\nTipsy,...</td>\n",
       "      <td>True</td>\n",
       "      <td>False</td>\n",
       "    </tr>\n",
       "    <tr>\n",
       "      <th>83191</th>\n",
       "      <td>BBW, chubby, stoner, femdom, ebony, big tits, ...</td>\n",
       "      <td>True</td>\n",
       "      <td>False</td>\n",
       "    </tr>\n",
       "    <tr>\n",
       "      <th>83615</th>\n",
       "      <td>&lt;center&gt;&lt;div class='top_html' align='center'&gt;&lt;...</td>\n",
       "      <td>True</td>\n",
       "      <td>False</td>\n",
       "    </tr>\n",
       "    <tr>\n",
       "      <th>83669</th>\n",
       "      <td>&lt;center&gt;&lt;div class='top_html' align='center'&gt;&lt;...</td>\n",
       "      <td>True</td>\n",
       "      <td>False</td>\n",
       "    </tr>\n",
       "    <tr>\n",
       "      <th>84177</th>\n",
       "      <td>&lt;center&gt;&lt;div class='top_html' align='center'&gt;&lt;...</td>\n",
       "      <td>True</td>\n",
       "      <td>False</td>\n",
       "    </tr>\n",
       "    <tr>\n",
       "      <th>84458</th>\n",
       "      <td>&lt;center&gt;&lt;div class='top_html' align='center'&gt;&lt;...</td>\n",
       "      <td>True</td>\n",
       "      <td>False</td>\n",
       "    </tr>\n",
       "    <tr>\n",
       "      <th>84495</th>\n",
       "      <td>&lt;center&gt;&lt;div class='top_html' align='center'&gt;U...</td>\n",
       "      <td>True</td>\n",
       "      <td>False</td>\n",
       "    </tr>\n",
       "    <tr>\n",
       "      <th>84504</th>\n",
       "      <td>&lt;center&gt;&lt;div class='top_html' align='center'&gt;&lt;...</td>\n",
       "      <td>True</td>\n",
       "      <td>False</td>\n",
       "    </tr>\n",
       "    <tr>\n",
       "      <th>84555</th>\n",
       "      <td>&lt;center&gt;&lt;div class='top_html' align='center'&gt;&lt;...</td>\n",
       "      <td>True</td>\n",
       "      <td>False</td>\n",
       "    </tr>\n",
       "    <tr>\n",
       "      <th>84815</th>\n",
       "      <td>&lt;center&gt;&lt;div class='top_html' align='center'&gt;&lt;...</td>\n",
       "      <td>True</td>\n",
       "      <td>False</td>\n",
       "    </tr>\n",
       "    <tr>\n",
       "      <th>84892</th>\n",
       "      <td>&lt;center&gt;&lt;div class='top_html' align='center'&gt;h...</td>\n",
       "      <td>True</td>\n",
       "      <td>False</td>\n",
       "    </tr>\n",
       "    <tr>\n",
       "      <th>84978</th>\n",
       "      <td>&lt;center&gt;&lt;div class='top_html' align='center'&gt;&lt;...</td>\n",
       "      <td>True</td>\n",
       "      <td>False</td>\n",
       "    </tr>\n",
       "    <tr>\n",
       "      <th>85035</th>\n",
       "      <td>&lt;center&gt;&lt;a class='link' target='_blank' href='...</td>\n",
       "      <td>True</td>\n",
       "      <td>False</td>\n",
       "    </tr>\n",
       "    <tr>\n",
       "      <th>85310</th>\n",
       "      <td>&lt;center&gt;&lt;a class='link' &gt;&lt;img src='https://ima...</td>\n",
       "      <td>True</td>\n",
       "      <td>False</td>\n",
       "    </tr>\n",
       "    <tr>\n",
       "      <th>85904</th>\n",
       "      <td>&lt;center&gt;&lt;a class='link' &gt;&lt;img src='https://ima...</td>\n",
       "      <td>True</td>\n",
       "      <td>False</td>\n",
       "    </tr>\n",
       "    <tr>\n",
       "      <th>86135</th>\n",
       "      <td>&lt;center&gt;&lt;a class='link' target='_blank' href='...</td>\n",
       "      <td>True</td>\n",
       "      <td>False</td>\n",
       "    </tr>\n",
       "    <tr>\n",
       "      <th>86312</th>\n",
       "      <td>&lt;center&gt;&lt;a class='link' target='_blank' href='...</td>\n",
       "      <td>True</td>\n",
       "      <td>False</td>\n",
       "    </tr>\n",
       "  </tbody>\n",
       "</table>\n",
       "</div>"
      ],
      "text/plain": [
       "                                                    text  hasBadWords  \\\n",
       "81973  Intoxicating toes to satisfy your toe crack ad...         True   \n",
       "81976                                       Beast and Me         True   \n",
       "82039                  British, bisexual, tatted & tipsy         True   \n",
       "82093              Domination is a drug. I’m the dealer.         True   \n",
       "82122           BBW switchy domme-leaning stoner goddexx         True   \n",
       "82579  The grossest little girl on the block and key ...         True   \n",
       "82844  piss, pissing, kink, kinky, amateurs, amateur ...         True   \n",
       "83147  British, \\r\\nBisexual, \\r\\nTattooed,\\r\\nTipsy,...         True   \n",
       "83191  BBW, chubby, stoner, femdom, ebony, big tits, ...         True   \n",
       "83615  <center><div class='top_html' align='center'><...         True   \n",
       "83669  <center><div class='top_html' align='center'><...         True   \n",
       "84177  <center><div class='top_html' align='center'><...         True   \n",
       "84458  <center><div class='top_html' align='center'><...         True   \n",
       "84495  <center><div class='top_html' align='center'>U...         True   \n",
       "84504  <center><div class='top_html' align='center'><...         True   \n",
       "84555  <center><div class='top_html' align='center'><...         True   \n",
       "84815  <center><div class='top_html' align='center'><...         True   \n",
       "84892  <center><div class='top_html' align='center'>h...         True   \n",
       "84978  <center><div class='top_html' align='center'><...         True   \n",
       "85035  <center><a class='link' target='_blank' href='...         True   \n",
       "85310  <center><a class='link' ><img src='https://ima...         True   \n",
       "85904  <center><a class='link' ><img src='https://ima...         True   \n",
       "86135  <center><a class='link' target='_blank' href='...         True   \n",
       "86312  <center><a class='link' target='_blank' href='...         True   \n",
       "\n",
       "       Prediction  \n",
       "81973       False  \n",
       "81976       False  \n",
       "82039       False  \n",
       "82093       False  \n",
       "82122       False  \n",
       "82579       False  \n",
       "82844       False  \n",
       "83147       False  \n",
       "83191       False  \n",
       "83615       False  \n",
       "83669       False  \n",
       "84177       False  \n",
       "84458       False  \n",
       "84495       False  \n",
       "84504       False  \n",
       "84555       False  \n",
       "84815       False  \n",
       "84892       False  \n",
       "84978       False  \n",
       "85035       False  \n",
       "85310       False  \n",
       "85904       False  \n",
       "86135       False  \n",
       "86312       False  "
      ]
     },
     "execution_count": 36,
     "metadata": {},
     "output_type": "execute_result"
    }
   ],
   "source": [
    "# Wrong prediction \n",
    "# (test[test[\"hasBadWords\"] != test[\"Prediction\"]])"
   ]
  },
  {
   "cell_type": "code",
   "execution_count": null,
   "id": "d148c78e",
   "metadata": {},
   "outputs": [],
   "source": [
    "test.to_csv('datasets/test.csv')"
   ]
  },
  {
   "cell_type": "code",
   "execution_count": null,
   "id": "5db313bf",
   "metadata": {},
   "outputs": [],
   "source": []
  }
 ],
 "metadata": {
  "kernelspec": {
   "display_name": "Python 3",
   "language": "python",
   "name": "python3"
  },
  "language_info": {
   "codemirror_mode": {
    "name": "ipython",
    "version": 3
   },
   "file_extension": ".py",
   "mimetype": "text/x-python",
   "name": "python",
   "nbconvert_exporter": "python",
   "pygments_lexer": "ipython3",
   "version": "3.8.16"
  },
  "toc": {
   "base_numbering": 1,
   "nav_menu": {},
   "number_sections": true,
   "sideBar": true,
   "skip_h1_title": false,
   "title_cell": "Table of Contents",
   "title_sidebar": "Contents",
   "toc_cell": false,
   "toc_position": {},
   "toc_section_display": true,
   "toc_window_display": false
  }
 },
 "nbformat": 4,
 "nbformat_minor": 5
}
