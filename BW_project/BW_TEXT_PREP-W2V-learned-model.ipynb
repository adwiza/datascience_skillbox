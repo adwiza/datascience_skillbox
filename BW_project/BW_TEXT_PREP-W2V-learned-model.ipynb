{
 "cells": [
  {
   "cell_type": "code",
   "execution_count": 1,
   "id": "484c5d7f",
   "metadata": {},
   "outputs": [],
   "source": [
    "import pandas as pd\n",
    "import numpy as np\n",
    "import multiprocessing\n",
    "from bs4 import BeautifulSoup as bs\n",
    "from selectolax.parser import HTMLParser\n",
    "import re\n",
    "import pymorphy2\n",
    "import nltk\n",
    "from nltk.tokenize import word_tokenize\n",
    "from nltk.corpus import stopwords\n",
    "import matplotlib.pyplot as plt\n",
    "import string\n",
    "\n",
    "from time import time  # To time our operations\n",
    "from collections import defaultdict  # For word frequency\n",
    "\n",
    "# import logging  # Setting up the loggings to monitor gensim\n",
    "# logging.basicConfig(format=\"%(levelname)s - %(asctime)s: %(message)s\", datefmt= '%H:%M:%S', level=logging.INFO)\n",
    "\n",
    "import warnings\n",
    "warnings.filterwarnings('ignore')"
   ]
  },
  {
   "cell_type": "code",
   "execution_count": 2,
   "id": "af9744db",
   "metadata": {},
   "outputs": [
    {
     "name": "stderr",
     "output_type": "stream",
     "text": [
      "[nltk_data] Downloading package punkt to /Users/adwiz/nltk_data...\n",
      "[nltk_data]   Package punkt is already up-to-date!\n",
      "[nltk_data] Downloading package stopwords to /Users/adwiz/nltk_data...\n",
      "[nltk_data]   Package stopwords is already up-to-date!\n"
     ]
    },
    {
     "data": {
      "text/plain": [
       "True"
      ]
     },
     "execution_count": 2,
     "metadata": {},
     "output_type": "execute_result"
    }
   ],
   "source": [
    "nltk.download('punkt')\n",
    "nltk.download('stopwords')"
   ]
  },
  {
   "cell_type": "code",
   "execution_count": 3,
   "id": "3419d1e7",
   "metadata": {},
   "outputs": [
    {
     "data": {
      "text/plain": [
       "(86439, 2)"
      ]
     },
     "execution_count": 3,
     "metadata": {},
     "output_type": "execute_result"
    }
   ],
   "source": [
    "# Data loading and preparation\n",
    "data = pd.read_json('../datasets/dataset.json')\n",
    "mapping = {False: 0, True: 1}\n",
    "data.replace({'hasBadWords': mapping}, inplace=True)\n",
    "# data.hasBadWords = data.hasBadWords.apply(lambda x: 1 if x == True else 0)\n",
    "data.rename(columns={\"hasBadWords\": \"labels\"}, inplace=True)\n",
    "data.drop(['violation'], axis=1, inplace=True)\n",
    "data.shape"
   ]
  },
  {
   "cell_type": "code",
   "execution_count": 4,
   "id": "3d951963",
   "metadata": {},
   "outputs": [
    {
     "data": {
      "text/html": [
       "<div>\n",
       "<style scoped>\n",
       "    .dataframe tbody tr th:only-of-type {\n",
       "        vertical-align: middle;\n",
       "    }\n",
       "\n",
       "    .dataframe tbody tr th {\n",
       "        vertical-align: top;\n",
       "    }\n",
       "\n",
       "    .dataframe thead th {\n",
       "        text-align: right;\n",
       "    }\n",
       "</style>\n",
       "<table border=\"1\" class=\"dataframe\">\n",
       "  <thead>\n",
       "    <tr style=\"text-align: right;\">\n",
       "      <th></th>\n",
       "      <th>text</th>\n",
       "      <th>labels</th>\n",
       "    </tr>\n",
       "  </thead>\n",
       "  <tbody>\n",
       "    <tr>\n",
       "      <th>0</th>\n",
       "      <td>My Favorite Slut</td>\n",
       "      <td>0</td>\n",
       "    </tr>\n",
       "    <tr>\n",
       "      <th>1</th>\n",
       "      <td>girlfriends sit on each other's faces with the...</td>\n",
       "      <td>0</td>\n",
       "    </tr>\n",
       "    <tr>\n",
       "      <th>2</th>\n",
       "      <td>bound beauty kisses her girlfriend</td>\n",
       "      <td>0</td>\n",
       "    </tr>\n",
       "    <tr>\n",
       "      <th>3</th>\n",
       "      <td>MORGAN - Anytime - Nail Painting On The Slave'...</td>\n",
       "      <td>0</td>\n",
       "    </tr>\n",
       "    <tr>\n",
       "      <th>4</th>\n",
       "      <td>TRANSGENDER COACHING (wmv) PART 1</td>\n",
       "      <td>0</td>\n",
       "    </tr>\n",
       "  </tbody>\n",
       "</table>\n",
       "</div>"
      ],
      "text/plain": [
       "                                                text  labels\n",
       "0                                   My Favorite Slut       0\n",
       "1  girlfriends sit on each other's faces with the...       0\n",
       "2                 bound beauty kisses her girlfriend       0\n",
       "3  MORGAN - Anytime - Nail Painting On The Slave'...       0\n",
       "4                  TRANSGENDER COACHING (wmv) PART 1       0"
      ]
     },
     "execution_count": 4,
     "metadata": {},
     "output_type": "execute_result"
    }
   ],
   "source": [
    "data.head()"
   ]
  },
  {
   "cell_type": "markdown",
   "id": "cfac8b64",
   "metadata": {},
   "source": [
    "# Tokenization"
   ]
  },
  {
   "cell_type": "code",
   "execution_count": 5,
   "id": "4fd9e283",
   "metadata": {},
   "outputs": [],
   "source": [
    "text = data.iloc[10]['text']"
   ]
  },
  {
   "cell_type": "code",
   "execution_count": 6,
   "id": "15c825c3",
   "metadata": {},
   "outputs": [
    {
     "data": {
      "text/plain": [
       "'MORGAN - Anytime - Lick My Sexy Mules Clean! - Shoe Worship And Domination'"
      ]
     },
     "execution_count": 6,
     "metadata": {},
     "output_type": "execute_result"
    }
   ],
   "source": [
    "text"
   ]
  },
  {
   "cell_type": "code",
   "execution_count": 7,
   "id": "ed337636",
   "metadata": {},
   "outputs": [],
   "source": [
    "tokens = word_tokenize(text.lower())"
   ]
  },
  {
   "cell_type": "code",
   "execution_count": 8,
   "id": "2950ba74",
   "metadata": {},
   "outputs": [
    {
     "data": {
      "text/plain": [
       "['morgan',\n",
       " '-',\n",
       " 'anytime',\n",
       " '-',\n",
       " 'lick',\n",
       " 'my',\n",
       " 'sexy',\n",
       " 'mules',\n",
       " 'clean',\n",
       " '!',\n",
       " '-',\n",
       " 'shoe',\n",
       " 'worship',\n",
       " 'and',\n",
       " 'domination']"
      ]
     },
     "execution_count": 8,
     "metadata": {},
     "output_type": "execute_result"
    }
   ],
   "source": [
    "tokens"
   ]
  },
  {
   "cell_type": "markdown",
   "id": "94311e4d",
   "metadata": {},
   "source": [
    "# Punctuation filtering"
   ]
  },
  {
   "cell_type": "code",
   "execution_count": 9,
   "id": "3b029fb4",
   "metadata": {},
   "outputs": [],
   "source": [
    "punctuation_marks = ['!', ',', ';', '(', ')', ':', '-', '--', '', '?', '@', '....',\n",
    "                     '.', '..', '...', '<', '>', '=', '\\'\\'', '//', '»', '|',\n",
    "                     '\\\"\\\"', '</', '&', '/', '#', '\\'', '*', '``', '%', '[', ']', '{', '}']"
   ]
  },
  {
   "cell_type": "code",
   "execution_count": 10,
   "id": "1bd04e9c",
   "metadata": {},
   "outputs": [],
   "source": [
    "only_words = []\n",
    "for token in tokens:\n",
    "    if token not in punctuation_marks:\n",
    "        only_words.append(token)"
   ]
  },
  {
   "cell_type": "code",
   "execution_count": 11,
   "id": "9a0e5a1a",
   "metadata": {},
   "outputs": [
    {
     "data": {
      "text/plain": [
       "['morgan',\n",
       " 'anytime',\n",
       " 'lick',\n",
       " 'my',\n",
       " 'sexy',\n",
       " 'mules',\n",
       " 'clean',\n",
       " 'shoe',\n",
       " 'worship',\n",
       " 'and',\n",
       " 'domination']"
      ]
     },
     "execution_count": 11,
     "metadata": {},
     "output_type": "execute_result"
    }
   ],
   "source": [
    "only_words"
   ]
  },
  {
   "cell_type": "markdown",
   "id": "38c74fc3",
   "metadata": {},
   "source": [
    "# Word normalization (stemming)"
   ]
  },
  {
   "cell_type": "code",
   "execution_count": 12,
   "id": "5124d081",
   "metadata": {},
   "outputs": [],
   "source": [
    "morph = pymorphy2.MorphAnalyzer(lang='uk')"
   ]
  },
  {
   "cell_type": "code",
   "execution_count": 13,
   "id": "9fc02d59",
   "metadata": {},
   "outputs": [],
   "source": [
    "lemmas = []\n",
    "for token in only_words:\n",
    "    lemmas.append(morph.parse(token)[0].normal_form)"
   ]
  },
  {
   "cell_type": "code",
   "execution_count": 14,
   "id": "327f5600",
   "metadata": {},
   "outputs": [
    {
     "data": {
      "text/plain": [
       "['morgan',\n",
       " 'anytime',\n",
       " 'lick',\n",
       " 'my',\n",
       " 'sexy',\n",
       " 'mules',\n",
       " 'clean',\n",
       " 'shoe',\n",
       " 'worship',\n",
       " 'and',\n",
       " 'domination']"
      ]
     },
     "execution_count": 14,
     "metadata": {},
     "output_type": "execute_result"
    }
   ],
   "source": [
    "lemmas"
   ]
  },
  {
   "cell_type": "markdown",
   "id": "87065f0d",
   "metadata": {},
   "source": [
    "# Remove stop words"
   ]
  },
  {
   "cell_type": "code",
   "execution_count": 15,
   "id": "c15be4b1",
   "metadata": {},
   "outputs": [
    {
     "name": "stderr",
     "output_type": "stream",
     "text": [
      "[nltk_data] Downloading package stopwords to /Users/adwiz/nltk_data...\n",
      "[nltk_data]   Package stopwords is already up-to-date!\n"
     ]
    },
    {
     "data": {
      "text/plain": [
       "True"
      ]
     },
     "execution_count": 15,
     "metadata": {},
     "output_type": "execute_result"
    }
   ],
   "source": [
    "nltk.download('stopwords')"
   ]
  },
  {
   "cell_type": "code",
   "execution_count": 16,
   "id": "64366947",
   "metadata": {},
   "outputs": [],
   "source": [
    "stop_words = stopwords.words('english')\n",
    "# stop_words"
   ]
  },
  {
   "cell_type": "code",
   "execution_count": 17,
   "id": "f2ccaefc",
   "metadata": {},
   "outputs": [],
   "source": [
    "filtered_words = []\n",
    "for token in lemmas:\n",
    "    if token not in stop_words:\n",
    "        filtered_words.append(token)"
   ]
  },
  {
   "cell_type": "markdown",
   "id": "9a22d3b6",
   "metadata": {},
   "source": [
    "# Preprocessing function"
   ]
  },
  {
   "cell_type": "code",
   "execution_count": 18,
   "id": "fb27238a",
   "metadata": {},
   "outputs": [],
   "source": [
    "def preprocess(text, stop_words, punctuation_marks, morph):\n",
    "    tokens = word_tokenize(text.lower())\n",
    "    preprocessed_text = []\n",
    "    for token in tokens:\n",
    "        if token not in punctuation_marks:\n",
    "            lemma = morph.parse(token)[0].normal_form\n",
    "            if lemma not in stop_words:\n",
    "                preprocessed_text.append(lemma)\n",
    "    return preprocessed_text\n",
    "\n",
    "punctuation_marks = ['!', ',', ';', '(', ')', ':', '-', '--', '', '?', '@', '....',\n",
    "                     '.', '..', '...', '<', '>', '=', '\\'\\'', '//', '»', '|',\n",
    "                     '\\\"\\\"', '</', '&', '/', '#', '\\'', '*', '``', '%', '[', ']', '{', '}']\n",
    "stop_words = stopwords.words('english') + ['14000kbps', \"'s\", 'wmv', 'part']\n",
    "morph = pymorphy2.MorphAnalyzer(lang='uk')"
   ]
  },
  {
   "cell_type": "code",
   "execution_count": 19,
   "id": "39168897",
   "metadata": {
    "code_folding": [
     0
    ]
   },
   "outputs": [],
   "source": [
    "def normalize(s):\n",
    "    \"\"\"\n",
    "    Given a text, cleans and normalizes it. Feel free to add your own stuff.\n",
    "    \"\"\"\n",
    "    s = s.lower()\n",
    "    # Replace ips\n",
    "    s = re.sub(r'\\d{1,3}\\.\\d{1,3}\\.\\d{1,3}\\.\\d{1,3}', ' _ip_ ', s)\n",
    "    # Isolate punctuation\n",
    "    s = re.sub(r'([.\\(\\)\\!\\?\\-\\\\\\/\\,])', r' \\1 ', s)\n",
    "    # Remove some special characters\n",
    "    s = re.sub(r'([\\;\\:\\|•«\\n])', ' ', s)\n",
    "    # Replace numbers and symbols with language\n",
    "    s = s.replace('&', ' and ')\n",
    "    s = s.replace('@', ' at ')\n",
    "    s = s.replace('0', ' zero ')\n",
    "    s = s.replace('1', ' one ')\n",
    "    s = s.replace('2', ' two ')\n",
    "    s = s.replace('3', ' three ')\n",
    "    s = s.replace('4', ' four ')\n",
    "    s = s.replace('5', ' five ')\n",
    "    s = s.replace('6', ' six ')\n",
    "    s = s.replace('7', ' seven ')\n",
    "    s = s.replace('8', ' eight ')\n",
    "    s = s.replace('9', ' nine ')\n",
    "    return s"
   ]
  },
  {
   "cell_type": "code",
   "execution_count": 20,
   "id": "6bd66b36",
   "metadata": {},
   "outputs": [
    {
     "data": {
      "text/plain": [
       "0                                       My Favorite Slut\n",
       "1      girlfriends sit on each other's faces with the...\n",
       "2                     bound beauty kisses her girlfriend\n",
       "3      MORGAN - Anytime - Nail Painting On The Slave'...\n",
       "4                      TRANSGENDER COACHING (wmv) PART 1\n",
       "                             ...                        \n",
       "995    Captain Next Fucks Hot Wife Laney On Her Husba...\n",
       "996    Captain Next Fucks Hot Wife Laney On Her Husba...\n",
       "997    Captain Next Fucks Hot Wife Laney On Her Husba...\n",
       "998    XY19 - Sexy Chinese Maid Gets Femdom With Vibr...\n",
       "999     The Strongest Reverse Headscissors Contest HDMP4\n",
       "Length: 1000, dtype: object"
      ]
     },
     "execution_count": 20,
     "metadata": {},
     "output_type": "execute_result"
    }
   ],
   "source": [
    "data[:1000].apply(lambda row: str(row.text), axis=1)"
   ]
  },
  {
   "cell_type": "code",
   "execution_count": 21,
   "id": "13955f4a",
   "metadata": {},
   "outputs": [
    {
     "data": {
      "text/html": [
       "<div>\n",
       "<style scoped>\n",
       "    .dataframe tbody tr th:only-of-type {\n",
       "        vertical-align: middle;\n",
       "    }\n",
       "\n",
       "    .dataframe tbody tr th {\n",
       "        vertical-align: top;\n",
       "    }\n",
       "\n",
       "    .dataframe thead th {\n",
       "        text-align: right;\n",
       "    }\n",
       "</style>\n",
       "<table border=\"1\" class=\"dataframe\">\n",
       "  <thead>\n",
       "    <tr style=\"text-align: right;\">\n",
       "      <th></th>\n",
       "      <th>text</th>\n",
       "      <th>labels</th>\n",
       "    </tr>\n",
       "  </thead>\n",
       "  <tbody>\n",
       "    <tr>\n",
       "      <th>0</th>\n",
       "      <td>My Favorite Slut</td>\n",
       "      <td>0</td>\n",
       "    </tr>\n",
       "    <tr>\n",
       "      <th>1</th>\n",
       "      <td>girlfriends sit on each other's faces with the...</td>\n",
       "      <td>0</td>\n",
       "    </tr>\n",
       "    <tr>\n",
       "      <th>2</th>\n",
       "      <td>bound beauty kisses her girlfriend</td>\n",
       "      <td>0</td>\n",
       "    </tr>\n",
       "    <tr>\n",
       "      <th>3</th>\n",
       "      <td>MORGAN - Anytime - Nail Painting On The Slave'...</td>\n",
       "      <td>0</td>\n",
       "    </tr>\n",
       "    <tr>\n",
       "      <th>4</th>\n",
       "      <td>TRANSGENDER COACHING (wmv) PART 1</td>\n",
       "      <td>0</td>\n",
       "    </tr>\n",
       "  </tbody>\n",
       "</table>\n",
       "</div>"
      ],
      "text/plain": [
       "                                                text  labels\n",
       "0                                   My Favorite Slut       0\n",
       "1  girlfriends sit on each other's faces with the...       0\n",
       "2                 bound beauty kisses her girlfriend       0\n",
       "3  MORGAN - Anytime - Nail Painting On The Slave'...       0\n",
       "4                  TRANSGENDER COACHING (wmv) PART 1       0"
      ]
     },
     "execution_count": 21,
     "metadata": {},
     "output_type": "execute_result"
    }
   ],
   "source": [
    "data.head()"
   ]
  },
  {
   "cell_type": "code",
   "execution_count": 22,
   "id": "0838e370",
   "metadata": {},
   "outputs": [
    {
     "data": {
      "text/plain": [
       "0                                      My Favorite Slut\n",
       "1     girlfriends sit on each other's faces with the...\n",
       "2                    bound beauty kisses her girlfriend\n",
       "3     MORGAN - Anytime - Nail Painting On The Slave'...\n",
       "4                     TRANSGENDER COACHING (wmv) PART 1\n",
       "                            ...                        \n",
       "95    Real Mesmerized Housewife of Brooklyn follows ...\n",
       "96              Kaylia strict hogtie naked on the floor\n",
       "97                 Real Mesmerized Submissive Housewife\n",
       "98                       EHESKLAVE MUSS FÜSSE LUTSCHEN!\n",
       "99    Uncut, Buck Nekkid fucks and creampies Polly B...\n",
       "Length: 100, dtype: object"
      ]
     },
     "execution_count": 22,
     "metadata": {},
     "output_type": "execute_result"
    }
   ],
   "source": [
    "data[:100].apply(lambda row: bs(row['text']).get_text().replace('\\n',' '),axis=1)"
   ]
  },
  {
   "cell_type": "code",
   "execution_count": 23,
   "id": "db0021f2",
   "metadata": {},
   "outputs": [
    {
     "data": {
      "text/plain": [
       "0                                      [favorite, slut]\n",
       "1                      [girlfriends, sit, faces, asses]\n",
       "2                   [bound, beauty, kisses, girlfriend]\n",
       "3        [morgan, anytime, nail, painting, slave, face]\n",
       "4                            [transgender, coaching, 1]\n",
       "                            ...                        \n",
       "95    [real, mesmerized, housewife, brooklyn, follow...\n",
       "96               [kaylia, strict, hogtie, naked, floor]\n",
       "97            [real, mesmerized, submissive, housewife]\n",
       "98                   [ehesklave, muss, füsse, lutschen]\n",
       "99    [uncut, buck, nekkid, fucks, creampies, polly,...\n",
       "Length: 100, dtype: object"
      ]
     },
     "execution_count": 23,
     "metadata": {},
     "output_type": "execute_result"
    }
   ],
   "source": [
    "data[:100].apply(lambda row: preprocess(row.text, punctuation_marks, stop_words, morph), axis=1)"
   ]
  },
  {
   "cell_type": "code",
   "execution_count": 24,
   "id": "a240074c",
   "metadata": {},
   "outputs": [],
   "source": [
    "data['text_preprocessed'] = data.apply(lambda row: bs(row.text).get_text().replace('\\n',' '),axis=1)\n",
    "# data['text_preprocessed'] = data.apply(lambda row: HTMLParser(row.text).body.text(separator=' ').replace('\\n',' '),axis=1)"
   ]
  },
  {
   "cell_type": "code",
   "execution_count": 25,
   "id": "f371e64a",
   "metadata": {},
   "outputs": [],
   "source": [
    "data['text_preprocessed'] = data.apply(lambda row: preprocess(row.text_preprocessed, punctuation_marks, stop_words, morph), axis=1)"
   ]
  },
  {
   "cell_type": "code",
   "execution_count": 26,
   "id": "2604d4e0",
   "metadata": {},
   "outputs": [],
   "source": [
    "data = data[['text_preprocessed', 'labels', 'text']] # columns reorder"
   ]
  },
  {
   "cell_type": "code",
   "execution_count": 27,
   "id": "c8f1189a",
   "metadata": {},
   "outputs": [
    {
     "data": {
      "text/html": [
       "<div>\n",
       "<style scoped>\n",
       "    .dataframe tbody tr th:only-of-type {\n",
       "        vertical-align: middle;\n",
       "    }\n",
       "\n",
       "    .dataframe tbody tr th {\n",
       "        vertical-align: top;\n",
       "    }\n",
       "\n",
       "    .dataframe thead th {\n",
       "        text-align: right;\n",
       "    }\n",
       "</style>\n",
       "<table border=\"1\" class=\"dataframe\">\n",
       "  <thead>\n",
       "    <tr style=\"text-align: right;\">\n",
       "      <th></th>\n",
       "      <th>text_preprocessed</th>\n",
       "      <th>labels</th>\n",
       "      <th>text</th>\n",
       "    </tr>\n",
       "  </thead>\n",
       "  <tbody>\n",
       "    <tr>\n",
       "      <th>0</th>\n",
       "      <td>[favorite, slut]</td>\n",
       "      <td>0</td>\n",
       "      <td>My Favorite Slut</td>\n",
       "    </tr>\n",
       "    <tr>\n",
       "      <th>1</th>\n",
       "      <td>[girlfriends, sit, faces, asses]</td>\n",
       "      <td>0</td>\n",
       "      <td>girlfriends sit on each other's faces with the...</td>\n",
       "    </tr>\n",
       "    <tr>\n",
       "      <th>2</th>\n",
       "      <td>[bound, beauty, kisses, girlfriend]</td>\n",
       "      <td>0</td>\n",
       "      <td>bound beauty kisses her girlfriend</td>\n",
       "    </tr>\n",
       "    <tr>\n",
       "      <th>3</th>\n",
       "      <td>[morgan, anytime, nail, painting, slave, face]</td>\n",
       "      <td>0</td>\n",
       "      <td>MORGAN - Anytime - Nail Painting On The Slave'...</td>\n",
       "    </tr>\n",
       "    <tr>\n",
       "      <th>4</th>\n",
       "      <td>[transgender, coaching, 1]</td>\n",
       "      <td>0</td>\n",
       "      <td>TRANSGENDER COACHING (wmv) PART 1</td>\n",
       "    </tr>\n",
       "  </tbody>\n",
       "</table>\n",
       "</div>"
      ],
      "text/plain": [
       "                                text_preprocessed  labels  \\\n",
       "0                                [favorite, slut]       0   \n",
       "1                [girlfriends, sit, faces, asses]       0   \n",
       "2             [bound, beauty, kisses, girlfriend]       0   \n",
       "3  [morgan, anytime, nail, painting, slave, face]       0   \n",
       "4                      [transgender, coaching, 1]       0   \n",
       "\n",
       "                                                text  \n",
       "0                                   My Favorite Slut  \n",
       "1  girlfriends sit on each other's faces with the...  \n",
       "2                 bound beauty kisses her girlfriend  \n",
       "3  MORGAN - Anytime - Nail Painting On The Slave'...  \n",
       "4                  TRANSGENDER COACHING (wmv) PART 1  "
      ]
     },
     "execution_count": 27,
     "metadata": {},
     "output_type": "execute_result"
    }
   ],
   "source": [
    "data.head()"
   ]
  },
  {
   "cell_type": "markdown",
   "id": "ac013644",
   "metadata": {},
   "source": [
    "# Simple vectorzation"
   ]
  },
  {
   "cell_type": "code",
   "execution_count": 28,
   "id": "5afd3b14",
   "metadata": {},
   "outputs": [],
   "source": [
    "from collections import Counter"
   ]
  },
  {
   "cell_type": "code",
   "execution_count": 29,
   "id": "3df4b748",
   "metadata": {},
   "outputs": [
    {
     "data": {
      "text/plain": [
       "Counter({'morgan': 1,\n",
       "         'anytime': 1,\n",
       "         'lick': 1,\n",
       "         'sexy': 1,\n",
       "         'mules': 1,\n",
       "         'clean': 1,\n",
       "         'shoe': 1,\n",
       "         'worship': 1,\n",
       "         'domination': 1})"
      ]
     },
     "execution_count": 29,
     "metadata": {},
     "output_type": "execute_result"
    }
   ],
   "source": [
    "test_counter = Counter(data['text_preprocessed'][10])\n",
    "test_counter"
   ]
  },
  {
   "cell_type": "code",
   "execution_count": 30,
   "id": "cb4b398c",
   "metadata": {},
   "outputs": [
    {
     "data": {
      "text/plain": [
       "[('morgan', 1),\n",
       " ('anytime', 1),\n",
       " ('lick', 1),\n",
       " ('sexy', 1),\n",
       " ('mules', 1),\n",
       " ('clean', 1),\n",
       " ('shoe', 1),\n",
       " ('worship', 1),\n",
       " ('domination', 1)]"
      ]
     },
     "execution_count": 30,
     "metadata": {},
     "output_type": "execute_result"
    }
   ],
   "source": [
    "test_counter.most_common(10)"
   ]
  },
  {
   "cell_type": "markdown",
   "id": "2e25fb43",
   "metadata": {},
   "source": [
    "Count word frequency"
   ]
  },
  {
   "cell_type": "code",
   "execution_count": 31,
   "id": "3a2ee197",
   "metadata": {},
   "outputs": [],
   "source": [
    "words = Counter()"
   ]
  },
  {
   "cell_type": "code",
   "execution_count": 32,
   "id": "62b571b3",
   "metadata": {},
   "outputs": [],
   "source": [
    "for text in data['text_preprocessed']:\n",
    "    words.update(text)"
   ]
  },
  {
   "cell_type": "code",
   "execution_count": 33,
   "id": "cd181d6b",
   "metadata": {},
   "outputs": [
    {
     "data": {
      "text/plain": [
       "73556"
      ]
     },
     "execution_count": 33,
     "metadata": {},
     "output_type": "execute_result"
    }
   ],
   "source": [
    "len(words)"
   ]
  },
  {
   "cell_type": "code",
   "execution_count": 34,
   "id": "9616128b",
   "metadata": {},
   "outputs": [
    {
     "data": {
      "text/plain": [
       "[('fetish', 25589),\n",
       " ('feet', 20644),\n",
       " ('foot', 19158),\n",
       " ('ass', 13228),\n",
       " ('big', 10813),\n",
       " ('domination', 10288),\n",
       " ('clip', 10011),\n",
       " ('cum', 9021),\n",
       " ('worship', 8543),\n",
       " ('store', 8386)]"
      ]
     },
     "execution_count": 34,
     "metadata": {},
     "output_type": "execute_result"
    }
   ],
   "source": [
    "words.most_common(10)"
   ]
  },
  {
   "cell_type": "code",
   "execution_count": 35,
   "id": "d7ed0228",
   "metadata": {},
   "outputs": [
    {
     "data": {
      "image/png": "[encoded data removed]",
      "text/plain": [
       "<Figure size 640x480 with 1 Axes>"
      ]
     },
     "metadata": {},
     "output_type": "display_data"
    }
   ],
   "source": [
    "from wordcloud import *\n",
    "word_freq = [i for i in words.most_common(100)]\n",
    "wd = WordCloud(background_color='white')\n",
    "wd.generate_from_frequencies(dict(word_freq))\n",
    "plt.figure()\n",
    "plt.imshow(wd, interpolation = 'bilinear')\n",
    "plt.axis('off')\n",
    "plt.show()"
   ]
  },
  {
   "cell_type": "markdown",
   "id": "b5967e1b",
   "metadata": {},
   "source": [
    "# Create dictionary ordered by frequency\n",
    "\n",
    "Start from 2, because of\n",
    "\n",
    "* 0 - code filler\n",
    "* 1 - unknown word"
   ]
  },
  {
   "cell_type": "code",
   "execution_count": 36,
   "id": "f7ca22e9",
   "metadata": {},
   "outputs": [],
   "source": [
    "word_to_index = dict()\n",
    "index_to_word = dict()"
   ]
  },
  {
   "cell_type": "code",
   "execution_count": 37,
   "id": "353d287d",
   "metadata": {},
   "outputs": [],
   "source": [
    "max_words = 1000"
   ]
  },
  {
   "cell_type": "code",
   "execution_count": 38,
   "id": "d586a80e",
   "metadata": {},
   "outputs": [],
   "source": [
    "for i, word in enumerate(words.most_common(max_words - 2)):\n",
    "    word_to_index[word[0]] = i + 2\n",
    "    index_to_word[i + 2] = word[0]"
   ]
  },
  {
   "cell_type": "code",
   "execution_count": 39,
   "id": "e3fa8593",
   "metadata": {},
   "outputs": [],
   "source": [
    "#word_to_index"
   ]
  },
  {
   "cell_type": "code",
   "execution_count": 40,
   "id": "967e9913",
   "metadata": {},
   "outputs": [],
   "source": [
    "#index_to_word"
   ]
  },
  {
   "cell_type": "code",
   "execution_count": 41,
   "id": "8b3bb594",
   "metadata": {},
   "outputs": [],
   "source": [
    "def text_to_sequence(txt, word_to_index):\n",
    "    seq = []\n",
    "    for word in txt:\n",
    "        index = word_to_index.get(word, 1) # 1 - unknown word\n",
    "        # Unknown words doesn't include to output sequence\n",
    "        if index != 1:\n",
    "            seq.append(index)\n",
    "    return seq"
   ]
  },
  {
   "cell_type": "code",
   "execution_count": 42,
   "id": "d00f6c8f",
   "metadata": {},
   "outputs": [],
   "source": [
    "txt = data['text_preprocessed'][10]"
   ]
  },
  {
   "cell_type": "code",
   "execution_count": 43,
   "id": "b42d9de8",
   "metadata": {},
   "outputs": [],
   "source": [
    "seq = [word_to_index.get(word, 1) for word in txt]"
   ]
  },
  {
   "cell_type": "code",
   "execution_count": 44,
   "id": "74dd550d",
   "metadata": {},
   "outputs": [
    {
     "data": {
      "text/plain": [
       "[1, 1, 195, 15, 1, 440, 114, 10, 7]"
      ]
     },
     "execution_count": 44,
     "metadata": {},
     "output_type": "execute_result"
    }
   ],
   "source": [
    "seq"
   ]
  },
  {
   "cell_type": "code",
   "execution_count": 45,
   "id": "50d519b2",
   "metadata": {},
   "outputs": [
    {
     "data": {
      "text/plain": [
       "'face'"
      ]
     },
     "execution_count": 45,
     "metadata": {},
     "output_type": "execute_result"
    }
   ],
   "source": [
    "index_to_word[16]"
   ]
  },
  {
   "cell_type": "code",
   "execution_count": 46,
   "id": "d4c20435",
   "metadata": {},
   "outputs": [],
   "source": [
    "data['sequences'] = data.apply(lambda row: text_to_sequence(row['text_preprocessed'], word_to_index), axis=1)\n",
    "data = data[['text_preprocessed', 'sequences', 'labels', 'text']] # columns reorder"
   ]
  },
  {
   "cell_type": "code",
   "execution_count": 47,
   "id": "2a49566e",
   "metadata": {},
   "outputs": [
    {
     "data": {
      "text/html": [
       "<div>\n",
       "<style scoped>\n",
       "    .dataframe tbody tr th:only-of-type {\n",
       "        vertical-align: middle;\n",
       "    }\n",
       "\n",
       "    .dataframe tbody tr th {\n",
       "        vertical-align: top;\n",
       "    }\n",
       "\n",
       "    .dataframe thead th {\n",
       "        text-align: right;\n",
       "    }\n",
       "</style>\n",
       "<table border=\"1\" class=\"dataframe\">\n",
       "  <thead>\n",
       "    <tr style=\"text-align: right;\">\n",
       "      <th></th>\n",
       "      <th>text_preprocessed</th>\n",
       "      <th>sequences</th>\n",
       "      <th>labels</th>\n",
       "      <th>text</th>\n",
       "    </tr>\n",
       "  </thead>\n",
       "  <tbody>\n",
       "    <tr>\n",
       "      <th>0</th>\n",
       "      <td>[favorite, slut]</td>\n",
       "      <td>[831, 119]</td>\n",
       "      <td>0</td>\n",
       "      <td>My Favorite Slut</td>\n",
       "    </tr>\n",
       "    <tr>\n",
       "      <th>1</th>\n",
       "      <td>[girlfriends, sit, faces, asses]</td>\n",
       "      <td>[419, 920]</td>\n",
       "      <td>0</td>\n",
       "      <td>girlfriends sit on each other's faces with the...</td>\n",
       "    </tr>\n",
       "    <tr>\n",
       "      <th>2</th>\n",
       "      <td>[bound, beauty, kisses, girlfriend]</td>\n",
       "      <td>[130, 587, 927, 646]</td>\n",
       "      <td>0</td>\n",
       "      <td>bound beauty kisses her girlfriend</td>\n",
       "    </tr>\n",
       "    <tr>\n",
       "      <th>3</th>\n",
       "      <td>[morgan, anytime, nail, painting, slave, face]</td>\n",
       "      <td>[716, 17, 16]</td>\n",
       "      <td>0</td>\n",
       "      <td>MORGAN - Anytime - Nail Painting On The Slave'...</td>\n",
       "    </tr>\n",
       "    <tr>\n",
       "      <th>4</th>\n",
       "      <td>[transgender, coaching, 1]</td>\n",
       "      <td>[214]</td>\n",
       "      <td>0</td>\n",
       "      <td>TRANSGENDER COACHING (wmv) PART 1</td>\n",
       "    </tr>\n",
       "  </tbody>\n",
       "</table>\n",
       "</div>"
      ],
      "text/plain": [
       "                                text_preprocessed             sequences  \\\n",
       "0                                [favorite, slut]            [831, 119]   \n",
       "1                [girlfriends, sit, faces, asses]            [419, 920]   \n",
       "2             [bound, beauty, kisses, girlfriend]  [130, 587, 927, 646]   \n",
       "3  [morgan, anytime, nail, painting, slave, face]         [716, 17, 16]   \n",
       "4                      [transgender, coaching, 1]                 [214]   \n",
       "\n",
       "   labels                                               text  \n",
       "0       0                                   My Favorite Slut  \n",
       "1       0  girlfriends sit on each other's faces with the...  \n",
       "2       0                 bound beauty kisses her girlfriend  \n",
       "3       0  MORGAN - Anytime - Nail Painting On The Slave'...  \n",
       "4       0                  TRANSGENDER COACHING (wmv) PART 1  "
      ]
     },
     "execution_count": 47,
     "metadata": {},
     "output_type": "execute_result"
    }
   ],
   "source": [
    "data.head()"
   ]
  },
  {
   "cell_type": "markdown",
   "id": "faef3762",
   "metadata": {},
   "source": [
    "# Make the bag of words"
   ]
  },
  {
   "cell_type": "code",
   "execution_count": 48,
   "id": "87a9a461",
   "metadata": {},
   "outputs": [],
   "source": [
    "def vectorize_sequences(sequences, dimension=10000):\n",
    "    results = np.zeros((len(sequences), dimension))\n",
    "    for i, sequence in enumerate(sequences):\n",
    "        for index in sequence:\n",
    "            results[i, index] += 1.\n",
    "    return results"
   ]
  },
  {
   "cell_type": "code",
   "execution_count": 49,
   "id": "799e75f9",
   "metadata": {},
   "outputs": [],
   "source": [
    "vactors = vectorize_sequences(data['sequences'], max_words)"
   ]
  },
  {
   "cell_type": "markdown",
   "id": "1cb9d022",
   "metadata": {},
   "source": [
    "# Word2Vec learn"
   ]
  },
  {
   "cell_type": "code",
   "execution_count": 50,
   "id": "7c384a45",
   "metadata": {},
   "outputs": [],
   "source": [
    "import gensim.models"
   ]
  },
  {
   "cell_type": "code",
   "execution_count": 51,
   "id": "b9039c6d",
   "metadata": {},
   "outputs": [
    {
     "name": "stdout",
     "output_type": "stream",
     "text": [
      "Time to build vocab: 0.29 mins\n"
     ]
    }
   ],
   "source": [
    "t = time()\n",
    "\n",
    "# Creating model\n",
    "cores = multiprocessing.cpu_count()\n",
    "\n",
    "w2v_model = gensim.models.Word2Vec(data['text_preprocessed'],\n",
    "                               min_count=1,\n",
    "                               window=2,\n",
    "                               sample=6e-5, \n",
    "                               alpha=0.03,\n",
    "                               min_alpha=0.0007,\n",
    "                               negative=20,\n",
    "                               workers=cores-1)\n",
    "\n",
    "# min_count=2 - how many times word in set\n",
    "\n",
    "print('Time to build vocab: {} mins'.format(round((time() - t) / 60, 2)))"
   ]
  },
  {
   "cell_type": "code",
   "execution_count": 52,
   "id": "af36e767",
   "metadata": {},
   "outputs": [],
   "source": [
    "w2v_model.build_vocab(data['text_preprocessed'], progress_per=1000)"
   ]
  },
  {
   "cell_type": "code",
   "execution_count": 53,
   "id": "b0eca46e",
   "metadata": {},
   "outputs": [
    {
     "name": "stdout",
     "output_type": "stream",
     "text": [
      "Time to train the model: 1.31 mins\n"
     ]
    }
   ],
   "source": [
    "t = time()\n",
    "\n",
    "w2v_model.train(data['text_preprocessed'], total_examples=w2v_model.corpus_count, epochs=30, report_delay=1)\n",
    "\n",
    "print('Time to train the model: {} mins'.format(round((time() - t) / 60, 2)))"
   ]
  },
  {
   "cell_type": "code",
   "execution_count": 54,
   "id": "89f92dc2",
   "metadata": {},
   "outputs": [
    {
     "data": {
      "text/plain": [
       "array([-1.040608  ,  0.39661676, -0.28131488,  0.7909365 ,  0.8563771 ,\n",
       "        0.8733635 , -0.2688109 ,  2.1421833 , -0.1109849 ,  1.6761686 ,\n",
       "       -0.82760245,  0.21088532, -1.8996038 , -0.79328537, -0.4066042 ,\n",
       "       -0.14163399,  0.7824407 , -0.7684532 ,  1.3724743 , -0.58899486,\n",
       "       -0.02343185, -0.6385018 ,  0.8461431 , -0.685143  , -1.4250115 ,\n",
       "        0.3932574 , -1.785644  , -0.5496379 ,  0.27803665,  1.7961555 ,\n",
       "       -0.33643192,  0.736111  , -0.80116135, -1.458539  , -1.0262305 ,\n",
       "        1.6930625 , -0.40945765, -0.7012546 ,  0.747767  ,  0.14664967,\n",
       "        0.28742594, -0.61415714, -1.0728366 ,  1.5637944 ,  0.89797574,\n",
       "        0.2772007 ,  1.2656218 ,  0.49987566,  0.94911087, -1.3956462 ,\n",
       "       -0.8376695 ,  0.6951056 ,  1.6129934 , -0.6601764 , -1.2215651 ,\n",
       "       -0.14779462, -0.28866205, -0.6732813 ,  0.36626306, -0.84957504,\n",
       "        0.5099572 , -1.7366601 ,  1.3983469 ,  0.7244934 , -1.0547593 ,\n",
       "        2.3750699 , -1.0117811 , -1.233593  , -1.2044033 , -3.2323978 ,\n",
       "       -0.5991958 , -1.8253751 , -0.51972353, -1.2431362 ,  0.2585788 ,\n",
       "        2.4880877 , -0.6407435 ,  1.4268881 ,  0.31033567, -1.7797451 ,\n",
       "       -0.13707149,  0.16290031, -1.4096094 ,  1.1488105 ,  2.2526274 ,\n",
       "        1.2815189 ,  0.5196679 ,  0.6632878 , -1.188488  , -0.38932565,\n",
       "        0.69701993,  0.9221648 , -0.8054787 , -0.81854445, -0.18432443,\n",
       "       -0.18538155,  0.6862922 ,  2.249854  , -0.11091678,  0.47758335],\n",
       "      dtype=float32)"
      ]
     },
     "execution_count": 54,
     "metadata": {},
     "output_type": "execute_result"
    }
   ],
   "source": [
    "w2v_model.wv['abuse']"
   ]
  },
  {
   "cell_type": "code",
   "execution_count": 55,
   "id": "dfd222ac",
   "metadata": {},
   "outputs": [
    {
     "data": {
      "text/plain": [
       "[('forcedsex', 0.6834756135940552),\n",
       " ('kidnapping', 0.6301918625831604),\n",
       " ('raped', 0.5941230654716492),\n",
       " ('sã£o', 0.5674036741256714),\n",
       " ('impalement', 0.55582195520401),\n",
       " ('titbusting', 0.550326943397522),\n",
       " ('footrape', 0.5350626111030579),\n",
       " ('forced', 0.5295633673667908),\n",
       " ('sceneing', 0.5253333449363708),\n",
       " ('assrape', 0.523168683052063)]"
      ]
     },
     "execution_count": 55,
     "metadata": {},
     "output_type": "execute_result"
    }
   ],
   "source": [
    "w2v_model.wv.most_similar('rape')"
   ]
  },
  {
   "cell_type": "markdown",
   "id": "a9bcf243",
   "metadata": {},
   "source": [
    "# Model saving"
   ]
  },
  {
   "cell_type": "code",
   "execution_count": 56,
   "id": "5b5ff0d5",
   "metadata": {},
   "outputs": [],
   "source": [
    "w2v_model.save('../models/word2vec-80k.model')"
   ]
  },
  {
   "cell_type": "markdown",
   "id": "e2532e9c",
   "metadata": {},
   "source": [
    "# Model loading"
   ]
  },
  {
   "cell_type": "code",
   "execution_count": 57,
   "id": "83670b29",
   "metadata": {},
   "outputs": [],
   "source": [
    "new_w2v_model = gensim.models.Word2Vec.load('../models/word2vec-80k.model')"
   ]
  },
  {
   "cell_type": "code",
   "execution_count": 58,
   "id": "49ef771f",
   "metadata": {},
   "outputs": [
    {
     "data": {
      "text/plain": [
       "[('submissive', 0.7103491425514221),\n",
       " ('whore', 0.6984739303588867),\n",
       " ('sissy', 0.6977490186691284),\n",
       " ('sluts', 0.6902114748954773),\n",
       " ('bitch', 0.6253328919410706),\n",
       " ('wife', 0.6226359009742737),\n",
       " ('training', 0.6128336191177368),\n",
       " ('slave', 0.5897923111915588),\n",
       " ('cocksucker', 0.5858287215232849),\n",
       " ('fuck', 0.5849993228912354)]"
      ]
     },
     "execution_count": 58,
     "metadata": {},
     "output_type": "execute_result"
    }
   ],
   "source": [
    "new_w2v_model.wv.most_similar('slut')"
   ]
  },
  {
   "cell_type": "code",
   "execution_count": 59,
   "id": "d74dbc96",
   "metadata": {},
   "outputs": [
    {
     "data": {
      "text/plain": [
       "0.32019192"
      ]
     },
     "execution_count": 59,
     "metadata": {},
     "output_type": "execute_result"
    }
   ],
   "source": [
    "new_w2v_model.wv.similarity(w1=\"force\", w2=\"forcedsex\")"
   ]
  },
  {
   "cell_type": "code",
   "execution_count": null,
   "id": "4ca3be7f",
   "metadata": {},
   "outputs": [],
   "source": []
  }
 ],
 "metadata": {
  "kernelspec": {
   "display_name": "Python 3 (ipykernel)",
   "language": "python",
   "name": "python3"
  },
  "language_info": {
   "codemirror_mode": {
    "name": "ipython",
    "version": 3
   },
   "file_extension": ".py",
   "mimetype": "text/x-python",
   "name": "python",
   "nbconvert_exporter": "python",
   "pygments_lexer": "ipython3",
   "version": "3.10.10"
  },
  "toc": {
   "base_numbering": 1,
   "nav_menu": {},
   "number_sections": true,
   "sideBar": true,
   "skip_h1_title": false,
   "title_cell": "Table of Contents",
   "title_sidebar": "Contents",
   "toc_cell": false,
   "toc_position": {},
   "toc_section_display": true,
   "toc_window_display": false
  }
 },
 "nbformat": 4,
 "nbformat_minor": 5
}
