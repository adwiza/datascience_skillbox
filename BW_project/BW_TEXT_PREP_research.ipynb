{
 "cells": [
  {
   "cell_type": "code",
   "execution_count": null,
   "id": "484c5d7f",
   "metadata": {},
   "outputs": [],
   "source": [
    "import pandas as pd\n",
    "import numpy as np\n",
    "import pymorphy2\n",
    "import nltk\n",
    "from nltk.tokenize import word_tokenize\n",
    "from nltk.corpus import stopwords\n",
    "import matplotlib.pyplot as plt\n",
    "\n",
    "import warnings\n",
    "warnings.filterwarnings('ignore')"
   ]
  },
  {
   "cell_type": "code",
   "execution_count": null,
   "id": "af9744db",
   "metadata": {},
   "outputs": [],
   "source": [
    "nltk.download('punkt')"
   ]
  },
  {
   "cell_type": "code",
   "execution_count": null,
   "id": "3419d1e7",
   "metadata": {},
   "outputs": [],
   "source": [
    "data = pd.read_json('../datasets/dataset.json')\n",
    "data.hasBadWords = data.hasBadWords.apply(lambda x: 1 if x == True else 0)\n",
    "data.rename(columns={\"hasBadWords\": \"labels\"}, inplace=True)\n",
    "data.drop(['violation'], axis=1, inplace=True)\n",
    "data.shape"
   ]
  },
  {
   "cell_type": "code",
   "execution_count": null,
   "id": "3d951963",
   "metadata": {},
   "outputs": [],
   "source": [
    "data.head()"
   ]
  },
  {
   "cell_type": "markdown",
   "id": "cfac8b64",
   "metadata": {},
   "source": [
    "# Tokenization"
   ]
  },
  {
   "cell_type": "code",
   "execution_count": null,
   "id": "4fd9e283",
   "metadata": {},
   "outputs": [],
   "source": [
    "text = data.iloc[10]['text']"
   ]
  },
  {
   "cell_type": "code",
   "execution_count": null,
   "id": "15c825c3",
   "metadata": {},
   "outputs": [],
   "source": [
    "text"
   ]
  },
  {
   "cell_type": "code",
   "execution_count": null,
   "id": "ed337636",
   "metadata": {},
   "outputs": [],
   "source": [
    "tokens = word_tokenize(text.lower())"
   ]
  },
  {
   "cell_type": "code",
   "execution_count": null,
   "id": "2950ba74",
   "metadata": {},
   "outputs": [],
   "source": [
    "tokens"
   ]
  },
  {
   "cell_type": "markdown",
   "id": "94311e4d",
   "metadata": {},
   "source": [
    "# Punctuation filtering"
   ]
  },
  {
   "cell_type": "code",
   "execution_count": null,
   "id": "3b029fb4",
   "metadata": {},
   "outputs": [],
   "source": [
    "punctuation_marks = ['!', ',', ';', '(', ')', ':', '-', '?', \n",
    "                     '.', '..', '...', '<', '>', '=', '\\'\\'',\n",
    "                     '\\\"\\\"', '</', '&', '/', '#', '\\'']"
   ]
  },
  {
   "cell_type": "code",
   "execution_count": null,
   "id": "1bd04e9c",
   "metadata": {},
   "outputs": [],
   "source": [
    "only_words = []\n",
    "for token in tokens:\n",
    "    if token not in punctuation_marks:\n",
    "        only_words.append(token)"
   ]
  },
  {
   "cell_type": "code",
   "execution_count": null,
   "id": "9a0e5a1a",
   "metadata": {},
   "outputs": [],
   "source": [
    "only_words"
   ]
  },
  {
   "cell_type": "markdown",
   "id": "38c74fc3",
   "metadata": {},
   "source": [
    "# Word normalization (stemming)"
   ]
  },
  {
   "cell_type": "code",
   "execution_count": null,
   "id": "5124d081",
   "metadata": {},
   "outputs": [],
   "source": [
    "morph = pymorphy2.MorphAnalyzer(lang='uk')"
   ]
  },
  {
   "cell_type": "code",
   "execution_count": null,
   "id": "9fc02d59",
   "metadata": {},
   "outputs": [],
   "source": [
    "lemmas = []\n",
    "for token in only_words:\n",
    "    lemmas.append(morph.parse(token)[0].normal_form)"
   ]
  },
  {
   "cell_type": "code",
   "execution_count": null,
   "id": "327f5600",
   "metadata": {},
   "outputs": [],
   "source": [
    "lemmas"
   ]
  },
  {
   "cell_type": "markdown",
   "id": "87065f0d",
   "metadata": {},
   "source": [
    "# Remove stop words"
   ]
  },
  {
   "cell_type": "code",
   "execution_count": null,
   "id": "c15be4b1",
   "metadata": {},
   "outputs": [],
   "source": [
    "nltk.download('stopwords')"
   ]
  },
  {
   "cell_type": "code",
   "execution_count": null,
   "id": "64366947",
   "metadata": {},
   "outputs": [],
   "source": [
    "stop_words = stopwords.words('english')\n",
    "# stop_words"
   ]
  },
  {
   "cell_type": "code",
   "execution_count": null,
   "id": "f2ccaefc",
   "metadata": {},
   "outputs": [],
   "source": [
    "filtered_words = []\n",
    "for token in lemmas:\n",
    "    if token not in stop_words:\n",
    "        filtered_words.append(token)"
   ]
  },
  {
   "cell_type": "markdown",
   "id": "9a22d3b6",
   "metadata": {},
   "source": [
    "# Preprocessing function"
   ]
  },
  {
   "cell_type": "code",
   "execution_count": null,
   "id": "fb27238a",
   "metadata": {},
   "outputs": [],
   "source": [
    "def preprocess(text, stop_words, punctuation_marks, morph):\n",
    "    tokens = word_tokenize(text.lower())\n",
    "    preprocessed_text = []\n",
    "    for token in tokens:\n",
    "        if token not in punctuation_marks:\n",
    "            lemma = morph.parse(token)[0].normal_form\n",
    "            if lemma not in stop_words:\n",
    "                preprocessed_text.append(lemma)\n",
    "    return preprocessed_text\n",
    "\n",
    "punctuation_marks = ['!', ',', ';', '(', ')', ':', '-', '--', '', '?', \n",
    "                     '.', '..', '...', '<', '>', '=', '\\'\\'',\n",
    "                     '\\\"\\\"', '</', '&', '/', '#', '\\'', '*', '``', '%', '[', ']', '{', '}']\n",
    "stop_words = stopwords.words('english') + ['div' , '/div', '/p', 'p', 'a', '/a', 'td', 'target=',\n",
    "                                           'nbsp', 'img', 'src=', 'align=', '\\'s', '/center',\n",
    "                                           'http', 'br', 'center', 'href=', '/td', 'width=',\n",
    "                                           'style=', 'font', '/font', 'border=', 'class=', 'span',\n",
    "                                           '/span', '_blank', 'height=', '0', 'b', '/b', '/tr', 'tr',\n",
    "                                           'size=', '/strong', \"class='link\", 'font-size',\n",
    "                                          'name=', 'helvetica', '/table', '//www.clips4sale.com/',\n",
    "                                           \"src='https\", 'id=', 'bgcolor=', 'text/javascript', \n",
    "                                          \"align='center\", 'data-placeholder=', 'clips4sale',\n",
    "                                          \"'https\", '80', 'http-equiv=', 'https', 'face', 'color=']\n",
    "morph = pymorphy2.MorphAnalyzer(lang='uk')"
   ]
  },
  {
   "cell_type": "code",
   "execution_count": null,
   "id": "8274fb31",
   "metadata": {},
   "outputs": [],
   "source": [
    "data[:1000].apply(lambda row: remove_html_tags(row.text), axis=1)"
   ]
  },
  {
   "cell_type": "code",
   "execution_count": null,
   "id": "db0021f2",
   "metadata": {},
   "outputs": [],
   "source": [
    "data[:1000].apply(lambda row: preprocess(row.text, punctuation_marks, stop_words, morph), axis=1)"
   ]
  },
  {
   "cell_type": "code",
   "execution_count": null,
   "id": "a240074c",
   "metadata": {},
   "outputs": [],
   "source": [
    "data['text_preprocessed'] = data.apply(lambda row: remove_html_tags(row.text), axis=1)"
   ]
  },
  {
   "cell_type": "code",
   "execution_count": null,
   "id": "f371e64a",
   "metadata": {},
   "outputs": [],
   "source": [
    "data['text_preprocessed'] = data.apply(lambda row: preprocess(row.text, punctuation_marks, stop_words, morph), axis=1)"
   ]
  },
  {
   "cell_type": "code",
   "execution_count": null,
   "id": "2604d4e0",
   "metadata": {},
   "outputs": [],
   "source": [
    "data = data[['text_preprocessed', 'labels', 'text']] # columns reorder"
   ]
  },
  {
   "cell_type": "code",
   "execution_count": null,
   "id": "c8f1189a",
   "metadata": {},
   "outputs": [],
   "source": [
    "data.head()"
   ]
  },
  {
   "cell_type": "markdown",
   "id": "ac013644",
   "metadata": {},
   "source": [
    "# Simple vectorzation"
   ]
  },
  {
   "cell_type": "code",
   "execution_count": null,
   "id": "5afd3b14",
   "metadata": {},
   "outputs": [],
   "source": [
    "from collections import Counter"
   ]
  },
  {
   "cell_type": "code",
   "execution_count": null,
   "id": "3df4b748",
   "metadata": {},
   "outputs": [],
   "source": [
    "test_counter = Counter(data['text_preprocessed'][10])\n",
    "test_counter"
   ]
  },
  {
   "cell_type": "code",
   "execution_count": null,
   "id": "cb4b398c",
   "metadata": {},
   "outputs": [],
   "source": [
    "test_counter.most_common(10)"
   ]
  },
  {
   "cell_type": "markdown",
   "id": "2e25fb43",
   "metadata": {},
   "source": [
    "Count word frequency"
   ]
  },
  {
   "cell_type": "code",
   "execution_count": null,
   "id": "3a2ee197",
   "metadata": {},
   "outputs": [],
   "source": [
    "words = Counter()"
   ]
  },
  {
   "cell_type": "code",
   "execution_count": null,
   "id": "62b571b3",
   "metadata": {},
   "outputs": [],
   "source": [
    "for text in data['text_preprocessed']:\n",
    "    words.update(text)"
   ]
  },
  {
   "cell_type": "code",
   "execution_count": null,
   "id": "cd181d6b",
   "metadata": {},
   "outputs": [],
   "source": [
    "len(words)"
   ]
  },
  {
   "cell_type": "code",
   "execution_count": null,
   "id": "9616128b",
   "metadata": {},
   "outputs": [],
   "source": [
    "words.most_common(10)"
   ]
  },
  {
   "cell_type": "code",
   "execution_count": null,
   "id": "d7ed0228",
   "metadata": {},
   "outputs": [],
   "source": [
    "from wordcloud import *\n",
    "word_freq = [i for i in words.most_common(100)]\n",
    "wd = WordCloud(background_color='white')\n",
    "wd.generate_from_frequencies(dict(word_freq))\n",
    "plt.figure()\n",
    "plt.imshow(wd, interpolation = 'bilinear')\n",
    "plt.axis('off')\n",
    "plt.show()"
   ]
  },
  {
   "cell_type": "markdown",
   "id": "b5967e1b",
   "metadata": {},
   "source": [
    "# Create dictionary ordered by frequency\n",
    "\n",
    "Start from 2, because of\n",
    "\n",
    "* 0 - code filler\n",
    "* 1 - unknown word"
   ]
  },
  {
   "cell_type": "code",
   "execution_count": null,
   "id": "f7ca22e9",
   "metadata": {},
   "outputs": [],
   "source": [
    "word_to_index = dict()\n",
    "index_to_word = dict()"
   ]
  },
  {
   "cell_type": "code",
   "execution_count": null,
   "id": "353d287d",
   "metadata": {},
   "outputs": [],
   "source": [
    "max_words = 1000"
   ]
  },
  {
   "cell_type": "code",
   "execution_count": null,
   "id": "d586a80e",
   "metadata": {},
   "outputs": [],
   "source": [
    "for i, word in enumerate(words.most_common(max_words - 2)):\n",
    "    word_to_index[word[0]] = i + 2\n",
    "    index_to_word[i + 2] = word[0]"
   ]
  },
  {
   "cell_type": "code",
   "execution_count": null,
   "id": "e3fa8593",
   "metadata": {},
   "outputs": [],
   "source": [
    "word_to_index"
   ]
  },
  {
   "cell_type": "code",
   "execution_count": null,
   "id": "967e9913",
   "metadata": {},
   "outputs": [],
   "source": [
    "index_to_word"
   ]
  },
  {
   "cell_type": "code",
   "execution_count": null,
   "id": "8b3bb594",
   "metadata": {},
   "outputs": [],
   "source": [
    "def text_to_sequence(txt, word_to_index):\n",
    "    seq = []\n",
    "    for word in txt:\n",
    "        index = word_to_index.get(word, 1) # 1 - unknown word\n",
    "        # Unknown words doesn't include to output sequence\n",
    "        if index != 1:\n",
    "            seq.append(index)\n",
    "    return seq"
   ]
  },
  {
   "cell_type": "code",
   "execution_count": null,
   "id": "d00f6c8f",
   "metadata": {},
   "outputs": [],
   "source": [
    "txt = data['text_preprocessed'][10]"
   ]
  },
  {
   "cell_type": "code",
   "execution_count": null,
   "id": "b42d9de8",
   "metadata": {},
   "outputs": [],
   "source": [
    "seq = [word_to_index.get(word, 1) for word in txt]"
   ]
  },
  {
   "cell_type": "code",
   "execution_count": null,
   "id": "74dd550d",
   "metadata": {},
   "outputs": [],
   "source": [
    "seq"
   ]
  },
  {
   "cell_type": "code",
   "execution_count": null,
   "id": "50d519b2",
   "metadata": {},
   "outputs": [],
   "source": [
    "index_to_word[16]"
   ]
  },
  {
   "cell_type": "code",
   "execution_count": null,
   "id": "d4c20435",
   "metadata": {},
   "outputs": [],
   "source": [
    "data['sequences'] = data.apply(lambda row: text_to_sequence(row['text_preprocessed'], word_to_index), axis=1)\n",
    "data = data[['text_preprocessed', 'sequences', 'labels', 'text']] # columns reorder"
   ]
  },
  {
   "cell_type": "code",
   "execution_count": null,
   "id": "2a49566e",
   "metadata": {},
   "outputs": [],
   "source": [
    "data.head()"
   ]
  },
  {
   "cell_type": "markdown",
   "id": "faef3762",
   "metadata": {},
   "source": [
    "# Make the bag of words"
   ]
  },
  {
   "cell_type": "code",
   "execution_count": null,
   "id": "87a9a461",
   "metadata": {},
   "outputs": [],
   "source": [
    "def vectorize_sequences(sequences, dimension=10000):\n",
    "    results = np.zeros((len(sequences), dimension))\n",
    "    for i, sequence in enumerate(sequences):\n",
    "        for index in sequence:\n",
    "            results[i, index] += 1.\n",
    "    return results"
   ]
  },
  {
   "cell_type": "code",
   "execution_count": null,
   "id": "799e75f9",
   "metadata": {},
   "outputs": [],
   "source": [
    "vactors = vectorize_sequences(data['sequences'], max_words)"
   ]
  },
  {
   "cell_type": "code",
   "execution_count": null,
   "id": "5c74de90",
   "metadata": {},
   "outputs": [],
   "source": [
    "vactors[0][:100]"
   ]
  },
  {
   "cell_type": "code",
   "execution_count": null,
   "id": "27b68819",
   "metadata": {},
   "outputs": [],
   "source": [
    "vactors[0]"
   ]
  },
  {
   "cell_type": "markdown",
   "id": "f172ad02",
   "metadata": {},
   "source": [
    "# Word2Vec"
   ]
  },
  {
   "cell_type": "code",
   "execution_count": null,
   "id": "d48b1b90",
   "metadata": {},
   "outputs": [],
   "source": [
    "import gensim.downloader"
   ]
  },
  {
   "cell_type": "code",
   "execution_count": null,
   "id": "950e1772",
   "metadata": {},
   "outputs": [],
   "source": [
    "word2vec_eng = gensim.downloader.load('word2vec-google-news-300')"
   ]
  },
  {
   "cell_type": "code",
   "execution_count": null,
   "id": "a56110d5",
   "metadata": {},
   "outputs": [],
   "source": [
    "word2vec_eng['fuck']"
   ]
  },
  {
   "cell_type": "code",
   "execution_count": null,
   "id": "9b1208a6",
   "metadata": {},
   "outputs": [],
   "source": [
    "word2vec_eng['sex']"
   ]
  },
  {
   "cell_type": "markdown",
   "id": "a7a874bd",
   "metadata": {},
   "source": [
    "# Models list in Gensim"
   ]
  },
  {
   "cell_type": "code",
   "execution_count": null,
   "id": "cefa63d3",
   "metadata": {},
   "outputs": [],
   "source": [
    "list(gensim.downloader.info()['models'].keys())"
   ]
  },
  {
   "cell_type": "markdown",
   "id": "9d63100b",
   "metadata": {},
   "source": [
    "# FastText"
   ]
  },
  {
   "cell_type": "code",
   "execution_count": null,
   "id": "ea83e3a6",
   "metadata": {},
   "outputs": [],
   "source": [
    "import fasttext.util"
   ]
  },
  {
   "cell_type": "code",
   "execution_count": null,
   "id": "82219431",
   "metadata": {},
   "outputs": [],
   "source": [
    "fasttext.FastText.eprint = lambda x: None"
   ]
  },
  {
   "cell_type": "code",
   "execution_count": null,
   "id": "aa76a19b",
   "metadata": {},
   "outputs": [],
   "source": [
    "# fasttext.util.download_model('en', if_exists='ignore')"
   ]
  },
  {
   "cell_type": "code",
   "execution_count": null,
   "id": "4892c25f",
   "metadata": {},
   "outputs": [],
   "source": [
    "# fasttext.util.download_model('ru', if_exists='ignore')"
   ]
  },
  {
   "cell_type": "code",
   "execution_count": null,
   "id": "992a7d5f",
   "metadata": {},
   "outputs": [],
   "source": [
    "ft = fasttext.load_model('../datasets/crawl-300d-2M-subword/crawl-300d-2M-subword.bin')"
   ]
  },
  {
   "cell_type": "code",
   "execution_count": null,
   "id": "87be715e",
   "metadata": {},
   "outputs": [],
   "source": [
    "ft.get_word_vector('rip')"
   ]
  },
  {
   "cell_type": "code",
   "execution_count": null,
   "id": "06c4edbc",
   "metadata": {},
   "outputs": [],
   "source": [
    "%%time\n",
    "ft.get_nearest_neighbors('dog')"
   ]
  },
  {
   "cell_type": "code",
   "execution_count": null,
   "id": "e8d240a0",
   "metadata": {},
   "outputs": [],
   "source": [
    "# or, cbow model :\n",
    "model = fasttext.train_unsupervised('../datasets/data.txt',  model='skipgram')"
   ]
  },
  {
   "cell_type": "code",
   "execution_count": null,
   "id": "17a50663",
   "metadata": {},
   "outputs": [],
   "source": [
    "model.get_word_vector(\"ki11er\")"
   ]
  },
  {
   "cell_type": "code",
   "execution_count": null,
   "id": "e098d137",
   "metadata": {},
   "outputs": [],
   "source": [
    "model.get_nearest_neighbors('ki11er')"
   ]
  },
  {
   "cell_type": "code",
   "execution_count": null,
   "id": "d79fb9b8",
   "metadata": {},
   "outputs": [],
   "source": [
    "from gensim.models import FastText\n",
    "sentences = [[\"cat\", \"say\", \"meow\"], [\"dog\", \"say\", \"woof\"]]\n",
    "model = FastText(sentences, min_count=1)\n",
    "say_vector = model.wv['say']  # get vector for word\n",
    "of_vector = model.wv['of']  # get vector for out-of-vocab word"
   ]
  },
  {
   "cell_type": "code",
   "execution_count": null,
   "id": "13abcd64",
   "metadata": {},
   "outputs": [],
   "source": [
    "say_vector"
   ]
  },
  {
   "cell_type": "code",
   "execution_count": null,
   "id": "b03be45f",
   "metadata": {},
   "outputs": [],
   "source": [
    "of_vector"
   ]
  },
  {
   "cell_type": "code",
   "execution_count": null,
   "id": "03069407",
   "metadata": {},
   "outputs": [],
   "source": []
  }
 ],
 "metadata": {
  "kernelspec": {
   "display_name": "Python 3 (ipykernel)",
   "language": "python",
   "name": "python3"
  },
  "language_info": {
   "codemirror_mode": {
    "name": "ipython",
    "version": 3
   },
   "file_extension": ".py",
   "mimetype": "text/x-python",
   "name": "python",
   "nbconvert_exporter": "python",
   "pygments_lexer": "ipython3",
   "version": "3.10.10"
  },
  "toc": {
   "base_numbering": 1,
   "nav_menu": {},
   "number_sections": true,
   "sideBar": true,
   "skip_h1_title": false,
   "title_cell": "Table of Contents",
   "title_sidebar": "Contents",
   "toc_cell": false,
   "toc_position": {},
   "toc_section_display": true,
   "toc_window_display": false
  }
 },
 "nbformat": 4,
 "nbformat_minor": 5
}
