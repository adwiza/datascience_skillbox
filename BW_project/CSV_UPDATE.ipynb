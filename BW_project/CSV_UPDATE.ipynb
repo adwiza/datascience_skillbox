{
 "cells": [
  {
   "cell_type": "code",
   "execution_count": 3,
   "id": "cc62cdd8",
   "metadata": {},
   "outputs": [],
   "source": [
    "import pandas as pd"
   ]
  },
  {
   "cell_type": "code",
   "execution_count": 4,
   "id": "d0d20261",
   "metadata": {},
   "outputs": [],
   "source": [
    "df_pos_part1 = pd.read_csv('../datasets/bw/BadWordsService_ml_has.csv')"
   ]
  },
  {
   "cell_type": "code",
   "execution_count": 5,
   "id": "500229be",
   "metadata": {},
   "outputs": [
    {
     "data": {
      "text/plain": [
       "(4945, 3)"
      ]
     },
     "execution_count": 5,
     "metadata": {},
     "output_type": "execute_result"
    }
   ],
   "source": [
    "df_pos_part1.shape"
   ]
  },
  {
   "cell_type": "code",
   "execution_count": 7,
   "id": "b6608b08",
   "metadata": {},
   "outputs": [
    {
     "name": "stdout",
     "output_type": "stream",
     "text": [
      "(4945, 3)\n"
     ]
    }
   ],
   "source": [
    "print(df_pos_part1.shape)"
   ]
  },
  {
   "cell_type": "code",
   "execution_count": 8,
   "id": "f19c8445",
   "metadata": {},
   "outputs": [
    {
     "data": {
      "text/html": [
       "<div>\n",
       "<style scoped>\n",
       "    .dataframe tbody tr th:only-of-type {\n",
       "        vertical-align: middle;\n",
       "    }\n",
       "\n",
       "    .dataframe tbody tr th {\n",
       "        vertical-align: top;\n",
       "    }\n",
       "\n",
       "    .dataframe thead th {\n",
       "        text-align: right;\n",
       "    }\n",
       "</style>\n",
       "<table border=\"1\" class=\"dataframe\">\n",
       "  <thead>\n",
       "    <tr style=\"text-align: right;\">\n",
       "      <th></th>\n",
       "      <th>@timestamp</th>\n",
       "      <th>ctxt_.time_spent</th>\n",
       "      <th>ctxt_.text</th>\n",
       "    </tr>\n",
       "  </thead>\n",
       "  <tbody>\n",
       "    <tr>\n",
       "      <th>0</th>\n",
       "      <td>May 31, 2023 @ 05:10:50.398</td>\n",
       "      <td>0.6</td>\n",
       "      <td>&lt;p&gt;We're in detention together, me the slutty ...</td>\n",
       "    </tr>\n",
       "    <tr>\n",
       "      <th>1</th>\n",
       "      <td>May 31, 2023 @ 05:10:49.027</td>\n",
       "      <td>0.9</td>\n",
       "      <td>&lt;p&gt;&lt;p&gt;It is a twilit night and I'm pursuing my...</td>\n",
       "    </tr>\n",
       "    <tr>\n",
       "      <th>2</th>\n",
       "      <td>May 31, 2023 @ 05:10:48.979</td>\n",
       "      <td>0.8</td>\n",
       "      <td>&lt;p&gt;I found lol*ta porn on your laptop, Step-Da...</td>\n",
       "    </tr>\n",
       "    <tr>\n",
       "      <th>3</th>\n",
       "      <td>May 31, 2023 @ 05:10:48.850</td>\n",
       "      <td>0.9</td>\n",
       "      <td>&lt;p&gt;I love getting presents from my loyal follo...</td>\n",
       "    </tr>\n",
       "    <tr>\n",
       "      <th>4</th>\n",
       "      <td>May 31, 2023 @ 05:10:48.757</td>\n",
       "      <td>0.9</td>\n",
       "      <td>&lt;p&gt;We're in detention together, me the slutty ...</td>\n",
       "    </tr>\n",
       "  </tbody>\n",
       "</table>\n",
       "</div>"
      ],
      "text/plain": [
       "                    @timestamp  ctxt_.time_spent   \n",
       "0  May 31, 2023 @ 05:10:50.398               0.6  \\\n",
       "1  May 31, 2023 @ 05:10:49.027               0.9   \n",
       "2  May 31, 2023 @ 05:10:48.979               0.8   \n",
       "3  May 31, 2023 @ 05:10:48.850               0.9   \n",
       "4  May 31, 2023 @ 05:10:48.757               0.9   \n",
       "\n",
       "                                          ctxt_.text  \n",
       "0  <p>We're in detention together, me the slutty ...  \n",
       "1  <p><p>It is a twilit night and I'm pursuing my...  \n",
       "2  <p>I found lol*ta porn on your laptop, Step-Da...  \n",
       "3  <p>I love getting presents from my loyal follo...  \n",
       "4  <p>We're in detention together, me the slutty ...  "
      ]
     },
     "execution_count": 8,
     "metadata": {},
     "output_type": "execute_result"
    }
   ],
   "source": [
    "df_pos_part1.head()"
   ]
  },
  {
   "cell_type": "code",
   "execution_count": 9,
   "id": "d987e43e",
   "metadata": {},
   "outputs": [],
   "source": [
    "df_pos_part1.drop('@timestamp', axis=1, inplace=True)\n",
    "df_pos_part1['ctxt_.time_spent'] = df_pos_part1['ctxt_.time_spent'] * 1000 # convert seconds to milliseconds"
   ]
  },
  {
   "cell_type": "code",
   "execution_count": 10,
   "id": "f043c2d7",
   "metadata": {},
   "outputs": [],
   "source": [
    "df_pos_part1.rename(columns={\"ctxt_.text\": \"raw_text\", \"ctxt_.time_spent\": \"time_spent_ms\"}, inplace=True)"
   ]
  },
  {
   "cell_type": "code",
   "execution_count": 11,
   "id": "298ed3f6",
   "metadata": {},
   "outputs": [],
   "source": [
    "df_pos_part1['labels'] = 1"
   ]
  },
  {
   "cell_type": "code",
   "execution_count": 14,
   "id": "a3e9d539",
   "metadata": {},
   "outputs": [],
   "source": [
    "# nan_values_pos_part1 = df_pos_part1[df_pos_part1.isna().any(axis=1)]\n",
    "# print(len(nan_values_pos_part1))"
   ]
  },
  {
   "cell_type": "code",
   "execution_count": 15,
   "id": "427f0634",
   "metadata": {},
   "outputs": [
    {
     "data": {
      "text/html": [
       "<div>\n",
       "<style scoped>\n",
       "    .dataframe tbody tr th:only-of-type {\n",
       "        vertical-align: middle;\n",
       "    }\n",
       "\n",
       "    .dataframe tbody tr th {\n",
       "        vertical-align: top;\n",
       "    }\n",
       "\n",
       "    .dataframe thead th {\n",
       "        text-align: right;\n",
       "    }\n",
       "</style>\n",
       "<table border=\"1\" class=\"dataframe\">\n",
       "  <thead>\n",
       "    <tr style=\"text-align: right;\">\n",
       "      <th></th>\n",
       "      <th>time_spent_ms</th>\n",
       "      <th>raw_text</th>\n",
       "      <th>labels</th>\n",
       "    </tr>\n",
       "  </thead>\n",
       "  <tbody>\n",
       "    <tr>\n",
       "      <th>0</th>\n",
       "      <td>600.0</td>\n",
       "      <td>&lt;p&gt;We're in detention together, me the slutty ...</td>\n",
       "      <td>1</td>\n",
       "    </tr>\n",
       "    <tr>\n",
       "      <th>1</th>\n",
       "      <td>900.0</td>\n",
       "      <td>&lt;p&gt;&lt;p&gt;It is a twilit night and I'm pursuing my...</td>\n",
       "      <td>1</td>\n",
       "    </tr>\n",
       "    <tr>\n",
       "      <th>2</th>\n",
       "      <td>800.0</td>\n",
       "      <td>&lt;p&gt;I found lol*ta porn on your laptop, Step-Da...</td>\n",
       "      <td>1</td>\n",
       "    </tr>\n",
       "    <tr>\n",
       "      <th>3</th>\n",
       "      <td>900.0</td>\n",
       "      <td>&lt;p&gt;I love getting presents from my loyal follo...</td>\n",
       "      <td>1</td>\n",
       "    </tr>\n",
       "    <tr>\n",
       "      <th>4</th>\n",
       "      <td>900.0</td>\n",
       "      <td>&lt;p&gt;We're in detention together, me the slutty ...</td>\n",
       "      <td>1</td>\n",
       "    </tr>\n",
       "  </tbody>\n",
       "</table>\n",
       "</div>"
      ],
      "text/plain": [
       "   time_spent_ms                                           raw_text  labels\n",
       "0          600.0  <p>We're in detention together, me the slutty ...       1\n",
       "1          900.0  <p><p>It is a twilit night and I'm pursuing my...       1\n",
       "2          800.0  <p>I found lol*ta porn on your laptop, Step-Da...       1\n",
       "3          900.0  <p>I love getting presents from my loyal follo...       1\n",
       "4          900.0  <p>We're in detention together, me the slutty ...       1"
      ]
     },
     "execution_count": 15,
     "metadata": {},
     "output_type": "execute_result"
    }
   ],
   "source": [
    "# df_pos_part1.dropna(inplace=True)\n",
    "df_pos_part1.head()"
   ]
  },
  {
   "cell_type": "code",
   "execution_count": 16,
   "id": "32d9b03e",
   "metadata": {},
   "outputs": [
    {
     "data": {
      "text/plain": [
       "(4945, 3)"
      ]
     },
     "execution_count": 16,
     "metadata": {},
     "output_type": "execute_result"
    }
   ],
   "source": [
    "from sklearn.utils import shuffle\n",
    "RANDOM_STATE = 42\n",
    "\n",
    "df = df_pos_part1\n",
    "df = shuffle(df, random_state=RANDOM_STATE).reset_index(drop=True)\n",
    "\n",
    "df.shape"
   ]
  },
  {
   "cell_type": "code",
   "execution_count": 17,
   "id": "807efeb2",
   "metadata": {},
   "outputs": [
    {
     "data": {
      "text/html": [
       "<div>\n",
       "<style scoped>\n",
       "    .dataframe tbody tr th:only-of-type {\n",
       "        vertical-align: middle;\n",
       "    }\n",
       "\n",
       "    .dataframe tbody tr th {\n",
       "        vertical-align: top;\n",
       "    }\n",
       "\n",
       "    .dataframe thead th {\n",
       "        text-align: right;\n",
       "    }\n",
       "</style>\n",
       "<table border=\"1\" class=\"dataframe\">\n",
       "  <thead>\n",
       "    <tr style=\"text-align: right;\">\n",
       "      <th></th>\n",
       "      <th>time_spent_ms</th>\n",
       "      <th>raw_text</th>\n",
       "      <th>labels</th>\n",
       "    </tr>\n",
       "  </thead>\n",
       "  <tbody>\n",
       "    <tr>\n",
       "      <th>0</th>\n",
       "      <td>500.0</td>\n",
       "      <td>&lt;p&gt;It is a twilit night and I'm pursuing my pr...</td>\n",
       "      <td>1</td>\n",
       "    </tr>\n",
       "    <tr>\n",
       "      <th>1</th>\n",
       "      <td>700.0</td>\n",
       "      <td>Agent Titiana has a target...I pose as a waitr...</td>\n",
       "      <td>1</td>\n",
       "    </tr>\n",
       "    <tr>\n",
       "      <th>2</th>\n",
       "      <td>100.0</td>\n",
       "      <td>&lt;p&gt;Tied to the chair with the hood off his hea...</td>\n",
       "      <td>1</td>\n",
       "    </tr>\n",
       "    <tr>\n",
       "      <th>3</th>\n",
       "      <td>900.0</td>\n",
       "      <td>&lt;p&gt;I'm your wife and I'm all dressed up, on th...</td>\n",
       "      <td>1</td>\n",
       "    </tr>\n",
       "    <tr>\n",
       "      <th>4</th>\n",
       "      <td>900.0</td>\n",
       "      <td>&lt;p&gt;We're in detention together, me the slutty ...</td>\n",
       "      <td>1</td>\n",
       "    </tr>\n",
       "  </tbody>\n",
       "</table>\n",
       "</div>"
      ],
      "text/plain": [
       "   time_spent_ms                                           raw_text  labels\n",
       "0          500.0  <p>It is a twilit night and I'm pursuing my pr...       1\n",
       "1          700.0  Agent Titiana has a target...I pose as a waitr...       1\n",
       "2          100.0  <p>Tied to the chair with the hood off his hea...       1\n",
       "3          900.0  <p>I'm your wife and I'm all dressed up, on th...       1\n",
       "4          900.0  <p>We're in detention together, me the slutty ...       1"
      ]
     },
     "execution_count": 17,
     "metadata": {},
     "output_type": "execute_result"
    }
   ],
   "source": [
    "df.head()"
   ]
  },
  {
   "cell_type": "code",
   "execution_count": 18,
   "id": "ae8dde11",
   "metadata": {},
   "outputs": [],
   "source": [
    "df.to_csv('../datasets/last_train_data_updated.csv', index=False)"
   ]
  },
  {
   "cell_type": "code",
   "execution_count": 19,
   "id": "5e86417b",
   "metadata": {},
   "outputs": [
    {
     "data": {
      "text/html": [
       "<div>\n",
       "<style scoped>\n",
       "    .dataframe tbody tr th:only-of-type {\n",
       "        vertical-align: middle;\n",
       "    }\n",
       "\n",
       "    .dataframe tbody tr th {\n",
       "        vertical-align: top;\n",
       "    }\n",
       "\n",
       "    .dataframe thead th {\n",
       "        text-align: right;\n",
       "    }\n",
       "</style>\n",
       "<table border=\"1\" class=\"dataframe\">\n",
       "  <thead>\n",
       "    <tr style=\"text-align: right;\">\n",
       "      <th></th>\n",
       "      <th>time_spent_ms</th>\n",
       "      <th>raw_text</th>\n",
       "      <th>labels</th>\n",
       "    </tr>\n",
       "  </thead>\n",
       "  <tbody>\n",
       "    <tr>\n",
       "      <th>0</th>\n",
       "      <td>500.0</td>\n",
       "      <td>&lt;p&gt;It is a twilit night and I'm pursuing my pr...</td>\n",
       "      <td>1</td>\n",
       "    </tr>\n",
       "    <tr>\n",
       "      <th>1</th>\n",
       "      <td>700.0</td>\n",
       "      <td>Agent Titiana has a target...I pose as a waitr...</td>\n",
       "      <td>1</td>\n",
       "    </tr>\n",
       "    <tr>\n",
       "      <th>2</th>\n",
       "      <td>100.0</td>\n",
       "      <td>&lt;p&gt;Tied to the chair with the hood off his hea...</td>\n",
       "      <td>1</td>\n",
       "    </tr>\n",
       "    <tr>\n",
       "      <th>3</th>\n",
       "      <td>900.0</td>\n",
       "      <td>&lt;p&gt;I'm your wife and I'm all dressed up, on th...</td>\n",
       "      <td>1</td>\n",
       "    </tr>\n",
       "    <tr>\n",
       "      <th>4</th>\n",
       "      <td>900.0</td>\n",
       "      <td>&lt;p&gt;We're in detention together, me the slutty ...</td>\n",
       "      <td>1</td>\n",
       "    </tr>\n",
       "  </tbody>\n",
       "</table>\n",
       "</div>"
      ],
      "text/plain": [
       "   time_spent_ms                                           raw_text  labels\n",
       "0          500.0  <p>It is a twilit night and I'm pursuing my pr...       1\n",
       "1          700.0  Agent Titiana has a target...I pose as a waitr...       1\n",
       "2          100.0  <p>Tied to the chair with the hood off his hea...       1\n",
       "3          900.0  <p>I'm your wife and I'm all dressed up, on th...       1\n",
       "4          900.0  <p>We're in detention together, me the slutty ...       1"
      ]
     },
     "execution_count": 19,
     "metadata": {},
     "output_type": "execute_result"
    }
   ],
   "source": [
    "df_new = pd.read_csv('../datasets/last_train_data_updated.csv')\n",
    "df_new.head()"
   ]
  },
  {
   "cell_type": "code",
   "execution_count": null,
   "id": "276eb6f5",
   "metadata": {},
   "outputs": [],
   "source": []
  }
 ],
 "metadata": {
  "kernelspec": {
   "display_name": "Python 3 (ipykernel)",
   "language": "python",
   "name": "python3"
  },
  "language_info": {
   "codemirror_mode": {
    "name": "ipython",
    "version": 3
   },
   "file_extension": ".py",
   "mimetype": "text/x-python",
   "name": "python",
   "nbconvert_exporter": "python",
   "pygments_lexer": "ipython3",
   "version": "3.8.12"
  },
  "toc": {
   "base_numbering": 1,
   "nav_menu": {},
   "number_sections": true,
   "sideBar": true,
   "skip_h1_title": false,
   "title_cell": "Table of Contents",
   "title_sidebar": "Contents",
   "toc_cell": false,
   "toc_position": {},
   "toc_section_display": true,
   "toc_window_display": false
  }
 },
 "nbformat": 4,
 "nbformat_minor": 5
}
