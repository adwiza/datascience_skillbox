{
 "cells": [
  {
   "cell_type": "code",
   "execution_count": 170,
   "id": "1bf73345",
   "metadata": {},
   "outputs": [],
   "source": [
    "import pandas as pd\n",
    "import json"
   ]
  },
  {
   "cell_type": "code",
   "execution_count": 172,
   "id": "6e7a0ab5",
   "metadata": {},
   "outputs": [],
   "source": [
    "df = pd.read_csv('/Users/adwiz/Downloads/extract-2023-06-20_14-36-05.csv')"
   ]
  },
  {
   "cell_type": "code",
   "execution_count": 173,
   "id": "615227d9",
   "metadata": {},
   "outputs": [
    {
     "data": {
      "text/html": [
       "<div>\n",
       "<style scoped>\n",
       "    .dataframe tbody tr th:only-of-type {\n",
       "        vertical-align: middle;\n",
       "    }\n",
       "\n",
       "    .dataframe tbody tr th {\n",
       "        vertical-align: top;\n",
       "    }\n",
       "\n",
       "    .dataframe thead th {\n",
       "        text-align: right;\n",
       "    }\n",
       "</style>\n",
       "<table border=\"1\" class=\"dataframe\">\n",
       "  <thead>\n",
       "    <tr style=\"text-align: right;\">\n",
       "      <th></th>\n",
       "      <th>date</th>\n",
       "      <th>message</th>\n",
       "    </tr>\n",
       "  </thead>\n",
       "  <tbody>\n",
       "    <tr>\n",
       "      <th>0</th>\n",
       "      <td>2023-06-20T11:35:59.772Z</td>\n",
       "      <td>{\"duration\":338791607,\"start_time\":16872609594...</td>\n",
       "    </tr>\n",
       "    <tr>\n",
       "      <th>1</th>\n",
       "      <td>2023-06-20T11:35:59.434Z</td>\n",
       "      <td>{\"duration\":725812,\"start_time\":16872609594333...</td>\n",
       "    </tr>\n",
       "    <tr>\n",
       "      <th>2</th>\n",
       "      <td>2023-06-20T11:35:52.359Z</td>\n",
       "      <td>{\"duration\":193138532,\"start_time\":16872609521...</td>\n",
       "    </tr>\n",
       "    <tr>\n",
       "      <th>3</th>\n",
       "      <td>2023-06-20T11:35:10.263Z</td>\n",
       "      <td>{\"duration\":19302105,\"start_time\":168726091024...</td>\n",
       "    </tr>\n",
       "    <tr>\n",
       "      <th>4</th>\n",
       "      <td>2023-06-20T11:35:09.873Z</td>\n",
       "      <td>{\"duration\":663741,\"start_time\":16872609098728...</td>\n",
       "    </tr>\n",
       "  </tbody>\n",
       "</table>\n",
       "</div>"
      ],
      "text/plain": [
       "                       date                                            message\n",
       "0  2023-06-20T11:35:59.772Z  {\"duration\":338791607,\"start_time\":16872609594...\n",
       "1  2023-06-20T11:35:59.434Z  {\"duration\":725812,\"start_time\":16872609594333...\n",
       "2  2023-06-20T11:35:52.359Z  {\"duration\":193138532,\"start_time\":16872609521...\n",
       "3  2023-06-20T11:35:10.263Z  {\"duration\":19302105,\"start_time\":168726091024...\n",
       "4  2023-06-20T11:35:09.873Z  {\"duration\":663741,\"start_time\":16872609098728..."
      ]
     },
     "execution_count": 173,
     "metadata": {},
     "output_type": "execute_result"
    }
   ],
   "source": [
    "df.head()"
   ]
  },
  {
   "cell_type": "code",
   "execution_count": 190,
   "id": "ad18cac6",
   "metadata": {},
   "outputs": [],
   "source": [
    "ddf = pd.DataFrame(list(map(lambda x: json.loads(x)['db']['statement'], df.message.values)))"
   ]
  },
  {
   "cell_type": "code",
   "execution_count": 191,
   "id": "dee920f5",
   "metadata": {},
   "outputs": [
    {
     "data": {
      "text/html": [
       "<div>\n",
       "<style scoped>\n",
       "    .dataframe tbody tr th:only-of-type {\n",
       "        vertical-align: middle;\n",
       "    }\n",
       "\n",
       "    .dataframe tbody tr th {\n",
       "        vertical-align: top;\n",
       "    }\n",
       "\n",
       "    .dataframe thead th {\n",
       "        text-align: right;\n",
       "    }\n",
       "</style>\n",
       "<table border=\"1\" class=\"dataframe\">\n",
       "  <thead>\n",
       "    <tr style=\"text-align: right;\">\n",
       "      <th></th>\n",
       "      <th>0</th>\n",
       "    </tr>\n",
       "  </thead>\n",
       "  <tbody>\n",
       "    <tr>\n",
       "      <th>0</th>\n",
       "      <td>select c4s_user_id, first6, last4, payment_acc...</td>\n",
       "    </tr>\n",
       "    <tr>\n",
       "      <th>1</th>\n",
       "      <td>select c4s_user_id, first6, last4, payment_acc...</td>\n",
       "    </tr>\n",
       "    <tr>\n",
       "      <th>2</th>\n",
       "      <td>select c4s_user_id, first6, last4, payment_acc...</td>\n",
       "    </tr>\n",
       "    <tr>\n",
       "      <th>3</th>\n",
       "      <td>select Percent, AddedBy, Reason, ProducerID, C...</td>\n",
       "    </tr>\n",
       "    <tr>\n",
       "      <th>4</th>\n",
       "      <td>update OrderItems set SONumber = ? where id in...</td>\n",
       "    </tr>\n",
       "    <tr>\n",
       "      <th>...</th>\n",
       "      <td>...</td>\n",
       "    </tr>\n",
       "    <tr>\n",
       "      <th>4995</th>\n",
       "      <td>update centrobill_accounts set is_default = ? ...</td>\n",
       "    </tr>\n",
       "    <tr>\n",
       "      <th>4996</th>\n",
       "      <td>select * from centrobill_accounts where ( c4s_...</td>\n",
       "    </tr>\n",
       "    <tr>\n",
       "      <th>4997</th>\n",
       "      <td>select * from centrobill_accounts where ( c4s_...</td>\n",
       "    </tr>\n",
       "    <tr>\n",
       "      <th>4998</th>\n",
       "      <td>update c4s_payments set source = ? first6 = ? ...</td>\n",
       "    </tr>\n",
       "    <tr>\n",
       "      <th>4999</th>\n",
       "      <td>update c4s_payments set source = ? first6 = ? ...</td>\n",
       "    </tr>\n",
       "  </tbody>\n",
       "</table>\n",
       "<p>5000 rows × 1 columns</p>\n",
       "</div>"
      ],
      "text/plain": [
       "                                                      0\n",
       "0     select c4s_user_id, first6, last4, payment_acc...\n",
       "1     select c4s_user_id, first6, last4, payment_acc...\n",
       "2     select c4s_user_id, first6, last4, payment_acc...\n",
       "3     select Percent, AddedBy, Reason, ProducerID, C...\n",
       "4     update OrderItems set SONumber = ? where id in...\n",
       "...                                                 ...\n",
       "4995  update centrobill_accounts set is_default = ? ...\n",
       "4996  select * from centrobill_accounts where ( c4s_...\n",
       "4997  select * from centrobill_accounts where ( c4s_...\n",
       "4998  update c4s_payments set source = ? first6 = ? ...\n",
       "4999  update c4s_payments set source = ? first6 = ? ...\n",
       "\n",
       "[5000 rows x 1 columns]"
      ]
     },
     "execution_count": 191,
     "metadata": {},
     "output_type": "execute_result"
    }
   ],
   "source": [
    "ddf"
   ]
  },
  {
   "cell_type": "code",
   "execution_count": 201,
   "id": "5fb21910",
   "metadata": {},
   "outputs": [],
   "source": [
    "df['sql'] = list(map(lambda x: json.loads(x)['db']['statement'], df.message.values))"
   ]
  },
  {
   "cell_type": "code",
   "execution_count": 202,
   "id": "d648ead0",
   "metadata": {},
   "outputs": [
    {
     "data": {
      "text/html": [
       "<div>\n",
       "<style scoped>\n",
       "    .dataframe tbody tr th:only-of-type {\n",
       "        vertical-align: middle;\n",
       "    }\n",
       "\n",
       "    .dataframe tbody tr th {\n",
       "        vertical-align: top;\n",
       "    }\n",
       "\n",
       "    .dataframe thead th {\n",
       "        text-align: right;\n",
       "    }\n",
       "</style>\n",
       "<table border=\"1\" class=\"dataframe\">\n",
       "  <thead>\n",
       "    <tr style=\"text-align: right;\">\n",
       "      <th></th>\n",
       "      <th>date</th>\n",
       "      <th>message</th>\n",
       "      <th>sql</th>\n",
       "    </tr>\n",
       "  </thead>\n",
       "  <tbody>\n",
       "    <tr>\n",
       "      <th>0</th>\n",
       "      <td>2023-06-20T11:35:59.772Z</td>\n",
       "      <td>{\"duration\":338791607,\"start_time\":16872609594...</td>\n",
       "      <td>select c4s_user_id, first6, last4, payment_acc...</td>\n",
       "    </tr>\n",
       "    <tr>\n",
       "      <th>1</th>\n",
       "      <td>2023-06-20T11:35:59.434Z</td>\n",
       "      <td>{\"duration\":725812,\"start_time\":16872609594333...</td>\n",
       "      <td>select c4s_user_id, first6, last4, payment_acc...</td>\n",
       "    </tr>\n",
       "    <tr>\n",
       "      <th>2</th>\n",
       "      <td>2023-06-20T11:35:52.359Z</td>\n",
       "      <td>{\"duration\":193138532,\"start_time\":16872609521...</td>\n",
       "      <td>select c4s_user_id, first6, last4, payment_acc...</td>\n",
       "    </tr>\n",
       "    <tr>\n",
       "      <th>3</th>\n",
       "      <td>2023-06-20T11:35:10.263Z</td>\n",
       "      <td>{\"duration\":19302105,\"start_time\":168726091024...</td>\n",
       "      <td>select Percent, AddedBy, Reason, ProducerID, C...</td>\n",
       "    </tr>\n",
       "    <tr>\n",
       "      <th>4</th>\n",
       "      <td>2023-06-20T11:35:09.873Z</td>\n",
       "      <td>{\"duration\":663741,\"start_time\":16872609098728...</td>\n",
       "      <td>update OrderItems set SONumber = ? where id in...</td>\n",
       "    </tr>\n",
       "  </tbody>\n",
       "</table>\n",
       "</div>"
      ],
      "text/plain": [
       "                       date   \n",
       "0  2023-06-20T11:35:59.772Z  \\\n",
       "1  2023-06-20T11:35:59.434Z   \n",
       "2  2023-06-20T11:35:52.359Z   \n",
       "3  2023-06-20T11:35:10.263Z   \n",
       "4  2023-06-20T11:35:09.873Z   \n",
       "\n",
       "                                             message   \n",
       "0  {\"duration\":338791607,\"start_time\":16872609594...  \\\n",
       "1  {\"duration\":725812,\"start_time\":16872609594333...   \n",
       "2  {\"duration\":193138532,\"start_time\":16872609521...   \n",
       "3  {\"duration\":19302105,\"start_time\":168726091024...   \n",
       "4  {\"duration\":663741,\"start_time\":16872609098728...   \n",
       "\n",
       "                                                 sql  \n",
       "0  select c4s_user_id, first6, last4, payment_acc...  \n",
       "1  select c4s_user_id, first6, last4, payment_acc...  \n",
       "2  select c4s_user_id, first6, last4, payment_acc...  \n",
       "3  select Percent, AddedBy, Reason, ProducerID, C...  \n",
       "4  update OrderItems set SONumber = ? where id in...  "
      ]
     },
     "execution_count": 202,
     "metadata": {},
     "output_type": "execute_result"
    }
   ],
   "source": [
    "df.head()"
   ]
  },
  {
   "cell_type": "code",
   "execution_count": null,
   "id": "ed82a2a5",
   "metadata": {},
   "outputs": [],
   "source": []
  }
 ],
 "metadata": {
  "kernelspec": {
   "display_name": "Python 3 (ipykernel)",
   "language": "python",
   "name": "python3"
  },
  "language_info": {
   "codemirror_mode": {
    "name": "ipython",
    "version": 3
   },
   "file_extension": ".py",
   "mimetype": "text/x-python",
   "name": "python",
   "nbconvert_exporter": "python",
   "pygments_lexer": "ipython3",
   "version": "3.8.12"
  },
  "toc": {
   "base_numbering": 1,
   "nav_menu": {},
   "number_sections": true,
   "sideBar": true,
   "skip_h1_title": false,
   "title_cell": "Table of Contents",
   "title_sidebar": "Contents",
   "toc_cell": false,
   "toc_position": {},
   "toc_section_display": true,
   "toc_window_display": false
  }
 },
 "nbformat": 4,
 "nbformat_minor": 5
}
