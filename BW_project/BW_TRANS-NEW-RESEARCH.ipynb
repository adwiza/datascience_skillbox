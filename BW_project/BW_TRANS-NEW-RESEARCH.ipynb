{
 "cells": [
  {
   "cell_type": "code",
   "execution_count": 1,
   "id": "cb5e504a",
   "metadata": {},
   "outputs": [
    {
     "name": "stdout",
     "output_type": "stream",
     "text": [
      "2.12.0\n"
     ]
    }
   ],
   "source": [
    "import tensorflow as tf\n",
    "from tensorflow import keras\n",
    "from tensorflow.keras.layers import MultiHeadAttention, LayerNormalization, Dropout, Layer\n",
    "from tensorflow.keras.layers import Embedding, Input, GlobalAveragePooling1D, Dense\n",
    "from tensorflow.keras.models import Sequential, Model\n",
    "from tensorflow.keras.models import load_model\n",
    "from livelossplot.tf_keras import PlotLossesCallback\n",
    "# pad the sequences to have the same length\n",
    "from tensorflow.keras.preprocessing.sequence import pad_sequences\n",
    "from tensorflow.keras.preprocessing.text import Tokenizer\n",
    "from transformers import AutoTokenizer\n",
    "from tqdm import tqdm\n",
    "from sklearn.model_selection import train_test_split \n",
    "\n",
    "import pickle\n",
    "\n",
    "import numpy as np\n",
    "import pandas as pd\n",
    "from datetime import datetime \n",
    "import multiprocessing\n",
    "import re\n",
    "from bs4 import BeautifulSoup as bs\n",
    "from time import time  # To time our operations\n",
    "from collections import defaultdict, Counter  # For word frequency\n",
    "\n",
    "import nltk\n",
    "from nltk.corpus import stopwords  #stopwords\n",
    "from nltk import word_tokenize,sent_tokenize # tokenizing\n",
    "from nltk.stem import PorterStemmer,LancasterStemmer  # using the Porter Stemmer and Lancaster Stemmer and others\n",
    "from nltk.stem.snowball import SnowballStemmer\n",
    "from nltk.stem import WordNetLemmatizer  # lammatizer from WordNet\n",
    "\n",
    "import matplotlib.pyplot as plt\n",
    "\n",
    "import logging  # Setting up the loggings to monitor gensim\n",
    "logging.basicConfig(format=\"%(levelname)s - %(asctime)s: %(message)s\", datefmt= '%H:%M:%S', level=logging.INFO)\n",
    "\n",
    "import warnings\n",
    "warnings.filterwarnings(\"ignore\") #, category=np.VisibleDeprecationWarning)\n",
    "\n",
    "print(tf.__version__)"
   ]
  },
  {
   "cell_type": "code",
   "execution_count": 2,
   "id": "4604f2f1",
   "metadata": {},
   "outputs": [
    {
     "name": "stderr",
     "output_type": "stream",
     "text": [
      "[nltk_data] Downloading package punkt to /Users/adwiz/nltk_data...\n",
      "[nltk_data]   Package punkt is already up-to-date!\n",
      "[nltk_data] Downloading package stopwords to /Users/adwiz/nltk_data...\n",
      "[nltk_data]   Package stopwords is already up-to-date!\n"
     ]
    },
    {
     "data": {
      "text/plain": [
       "True"
      ]
     },
     "execution_count": 2,
     "metadata": {},
     "output_type": "execute_result"
    }
   ],
   "source": [
    "nltk.download('punkt')\n",
    "nltk.download('stopwords')"
   ]
  },
  {
   "cell_type": "code",
   "execution_count": 3,
   "id": "1e325fa4",
   "metadata": {},
   "outputs": [],
   "source": [
    "# data = pd.read_csv('../datasets/spam.csv', encoding=\"cp1251\", usecols=['v1', 'v2'])\n",
    "# data.head()   "
   ]
  },
  {
   "cell_type": "code",
   "execution_count": 4,
   "id": "421d2951",
   "metadata": {
    "code_folding": [
     0
    ]
   },
   "outputs": [],
   "source": [
    "#READ DATA\n",
    "# def read_train_data():\n",
    "#     data = pd.read_csv('../datasets/spam.csv', encoding=\"cp1251\", usecols=['v1', 'v2'])\n",
    "#     mapping = {'ham': 0, 'spam': 1}\n",
    "#     data.replace({'v1': mapping}, inplace=True)\n",
    "#     data.rename(columns={\"v1\": \"labels\"}, inplace=True)\n",
    "#     data.rename(columns={\"v2\": \"raw_text\"}, inplace=True)\n",
    "# #     data.drop(['violation'], axis=1, inplace=True)\n",
    "#     print('Data size %d' % len(data))\n",
    "#     print('Data headers %s' % data.columns.values)\n",
    "#     return data"
   ]
  },
  {
   "cell_type": "code",
   "execution_count": 5,
   "id": "8ecd2fcf",
   "metadata": {},
   "outputs": [],
   "source": [
    "# data = read_train_data()"
   ]
  },
  {
   "cell_type": "code",
   "execution_count": 6,
   "id": "8dd59d97",
   "metadata": {},
   "outputs": [],
   "source": [
    "# data.head()"
   ]
  },
  {
   "cell_type": "code",
   "execution_count": 7,
   "id": "e0076e10",
   "metadata": {},
   "outputs": [],
   "source": [
    "class TransformerEncoder(Layer):\n",
    "    def __init__(self, embed_dim, heads, neurons):\n",
    "        super(TransformerEncoder, self).__init__()\n",
    "        self.att = MultiHeadAttention(num_heads=heads, key_dim=embed_dim)\n",
    "        self.ffn = Sequential(\n",
    "            [Dense(neurons, activation=\"relu\"), Dense(embed_dim),]\n",
    "        )\n",
    "        self.layernorm1 = LayerNormalization(epsilon=1e-6)\n",
    "        self.layernorm2 = LayerNormalization(epsilon=1e-6)\n",
    "        self.dropout1 = Dropout(0.5)\n",
    "        self.dropout2 = Dropout(0.5)\n",
    "\n",
    "    def call(self, inputs, training):\n",
    "        attn_output = self.att(inputs, inputs)\n",
    "        attn_output = self.dropout1(attn_output, training=training)\n",
    "        out1 = self.layernorm1(inputs + attn_output)\n",
    "        ffn_output = self.ffn(out1)\n",
    "        ffn_output = self.dropout2(ffn_output, training=training)\n",
    "        return self.layernorm2(out1 + ffn_output)"
   ]
  },
  {
   "cell_type": "code",
   "execution_count": 8,
   "id": "46c7ea23",
   "metadata": {},
   "outputs": [],
   "source": [
    "class TokenAndPositionEmbedding(Layer):\n",
    "    def __init__(self, maxlen, vocab_size, embed_dim):\n",
    "        super(TokenAndPositionEmbedding, self).__init__()\n",
    "        self.token_emb = Embedding(input_dim=vocab_size, output_dim=embed_dim)\n",
    "        self.pos_emb = Embedding(input_dim=maxlen, output_dim=embed_dim)\n",
    "\n",
    "    def call(self, x):\n",
    "        maxlen = tf.shape(x)[-1]\n",
    "        positions = tf.range(start=0, limit=maxlen, delta=1)\n",
    "        positions = self.pos_emb(positions)\n",
    "        x = self.token_emb(x)\n",
    "        return x + positions"
   ]
  },
  {
   "cell_type": "markdown",
   "id": "3e5b1dc4",
   "metadata": {},
   "source": [
    "# Preprocessing function"
   ]
  },
  {
   "cell_type": "code",
   "execution_count": 9,
   "id": "3e978db7",
   "metadata": {
    "code_folding": [
     0
    ]
   },
   "outputs": [],
   "source": [
    "# function to clean and pre-process the text.\n",
    "def clean_text(text):  \n",
    "    \n",
    "    # 1. Removing html tags\n",
    "    text = bs(text,\"lxml\").get_text()\n",
    "    \n",
    "    # 2. Retaining only alphabets.\n",
    "    text = re.sub(\"[^a-zA-Z]\",\" \", text)\n",
    "    \n",
    "    # 3. Converting to lower case and splitting\n",
    "    word_tokens = text.lower().split()\n",
    "    \n",
    "    # 4. Remove stopwords\n",
    "    le = WordNetLemmatizer()\n",
    "    stop_words = set(stopwords.words(\"english\")+ ['14000kbps', 'november', '1080p', 'email', \n",
    "                                                 '4k', 'mp4', 'error', '404', '2022', 'hd'])     \n",
    "    word_tokens = [le.lemmatize(w) for w in word_tokens if not w in stop_words]\n",
    "    \n",
    "    cleaned_review = \" \".join(word_tokens)\n",
    "    return cleaned_review"
   ]
  },
  {
   "cell_type": "code",
   "execution_count": 10,
   "id": "f9c21a6e",
   "metadata": {
    "code_folding": [
     0
    ]
   },
   "outputs": [],
   "source": [
    "# Count unique words\n",
    "def counter_word(text_col):\n",
    "    count = Counter()\n",
    "    for text in text_col.values:\n",
    "        for word in text.split():\n",
    "            count[word] += 1\n",
    "    return count  "
   ]
  },
  {
   "cell_type": "code",
   "execution_count": 11,
   "id": "3cc1ae4a",
   "metadata": {},
   "outputs": [
    {
     "data": {
      "text/html": [
       "<div>\n",
       "<style scoped>\n",
       "    .dataframe tbody tr th:only-of-type {\n",
       "        vertical-align: middle;\n",
       "    }\n",
       "\n",
       "    .dataframe tbody tr th {\n",
       "        vertical-align: top;\n",
       "    }\n",
       "\n",
       "    .dataframe thead th {\n",
       "        text-align: right;\n",
       "    }\n",
       "</style>\n",
       "<table border=\"1\" class=\"dataframe\">\n",
       "  <thead>\n",
       "    <tr style=\"text-align: right;\">\n",
       "      <th></th>\n",
       "      <th>time_spent_ms</th>\n",
       "      <th>raw_text</th>\n",
       "      <th>labels</th>\n",
       "    </tr>\n",
       "  </thead>\n",
       "  <tbody>\n",
       "    <tr>\n",
       "      <th>0</th>\n",
       "      <td>100.0</td>\n",
       "      <td>BIG LOADS, BRUNETTE, BIG DICKS, CUMSHOTS, PORN...</td>\n",
       "      <td>0</td>\n",
       "    </tr>\n",
       "    <tr>\n",
       "      <th>1</th>\n",
       "      <td>100.0</td>\n",
       "      <td>Crushed By Asian Ass MP4.mp4</td>\n",
       "      <td>0</td>\n",
       "    </tr>\n",
       "    <tr>\n",
       "      <th>2</th>\n",
       "      <td>100.0</td>\n",
       "      <td>Karol Arrives home and meet's Thatty on the so...</td>\n",
       "      <td>0</td>\n",
       "    </tr>\n",
       "    <tr>\n",
       "      <th>3</th>\n",
       "      <td>200.0</td>\n",
       "      <td>Karol Arrives home and meet's Thatty on the so...</td>\n",
       "      <td>0</td>\n",
       "    </tr>\n",
       "    <tr>\n",
       "      <th>4</th>\n",
       "      <td>100.0</td>\n",
       "      <td>Robbers Revenge WMV.wmv</td>\n",
       "      <td>0</td>\n",
       "    </tr>\n",
       "  </tbody>\n",
       "</table>\n",
       "</div>"
      ],
      "text/plain": [
       "   time_spent_ms                                           raw_text  labels\n",
       "0          100.0  BIG LOADS, BRUNETTE, BIG DICKS, CUMSHOTS, PORN...       0\n",
       "1          100.0                       Crushed By Asian Ass MP4.mp4       0\n",
       "2          100.0  Karol Arrives home and meet's Thatty on the so...       0\n",
       "3          200.0  Karol Arrives home and meet's Thatty on the so...       0\n",
       "4          100.0                            Robbers Revenge WMV.wmv       0"
      ]
     },
     "execution_count": 11,
     "metadata": {},
     "output_type": "execute_result"
    }
   ],
   "source": [
    "df_tra = pd.read_csv('../datasets/current_train_data.csv')\n",
    "df_tra.head()"
   ]
  },
  {
   "cell_type": "code",
   "execution_count": 12,
   "id": "b8a48114",
   "metadata": {},
   "outputs": [],
   "source": [
    "# df = df_val[['text', 'labels']]"
   ]
  },
  {
   "cell_type": "code",
   "execution_count": 13,
   "id": "56d4a876",
   "metadata": {},
   "outputs": [],
   "source": [
    "# df.head()"
   ]
  },
  {
   "cell_type": "code",
   "execution_count": 14,
   "id": "de64a139",
   "metadata": {},
   "outputs": [],
   "source": [
    "# df.labels.plot(kind='hist')"
   ]
  },
  {
   "cell_type": "code",
   "execution_count": 15,
   "id": "a0342ace",
   "metadata": {},
   "outputs": [],
   "source": [
    "df_tra['text'] = df_tra.apply(lambda row: clean_text(row.raw_text), axis=1)"
   ]
  },
  {
   "cell_type": "code",
   "execution_count": 16,
   "id": "ce720266",
   "metadata": {},
   "outputs": [],
   "source": [
    "counter = counter_word(df_tra.text)  "
   ]
  },
  {
   "cell_type": "code",
   "execution_count": 79,
   "id": "faf86b44",
   "metadata": {},
   "outputs": [
    {
     "data": {
      "text/plain": [
       "75"
      ]
     },
     "execution_count": 79,
     "metadata": {},
     "output_type": "execute_result"
    }
   ],
   "source": [
    "counter['sex']"
   ]
  },
  {
   "cell_type": "code",
   "execution_count": 18,
   "id": "03943a24",
   "metadata": {},
   "outputs": [
    {
     "data": {
      "image/png": "[encoded data removed]",
      "text/plain": [
       "<Figure size 640x480 with 1 Axes>"
      ]
     },
     "metadata": {},
     "output_type": "display_data"
    }
   ],
   "source": [
    "from wordcloud import *\n",
    "word_freq = [i for i in counter.most_common(50)]\n",
    "wd = WordCloud(background_color='white')\n",
    "wd.generate_from_frequencies(dict(word_freq))\n",
    "plt.figure()\n",
    "plt.imshow(wd, interpolation = 'bilinear')\n",
    "plt.axis('off')\n",
    "plt.show()"
   ]
  },
  {
   "cell_type": "code",
   "execution_count": 19,
   "id": "86481964",
   "metadata": {},
   "outputs": [],
   "source": [
    "word_index =  dict()\n",
    "for word, number in counter.items():\n",
    "    word_index[word] = number + 3\n",
    "    \n",
    "word_index[\"<UNKNOWN>\"] = 0\n",
    "word_index[\"<FILLER>\"] = 1\n",
    "word_index[\"<BEGINOFSEQUENCE>\"] = 2\n",
    "word_index[\"<UNUSED>\"] = 3"
   ]
  },
  {
   "cell_type": "code",
   "execution_count": 20,
   "id": "8eaeb8c3",
   "metadata": {},
   "outputs": [],
   "source": [
    "vocab_size = len(word_index)\n",
    "oov_token = [k for k, v in word_index.items() if v == 0][0]\n",
    "maxlen = 200"
   ]
  },
  {
   "cell_type": "code",
   "execution_count": 21,
   "id": "bb63959e",
   "metadata": {},
   "outputs": [
    {
     "data": {
      "text/plain": [
       "51181"
      ]
     },
     "execution_count": 21,
     "metadata": {},
     "output_type": "execute_result"
    }
   ],
   "source": [
    "vocab_size"
   ]
  },
  {
   "cell_type": "code",
   "execution_count": 22,
   "id": "38638a41",
   "metadata": {},
   "outputs": [],
   "source": [
    "from sklearn.utils import shuffle\n",
    "RANDOM_STATE = 42\n",
    "\n",
    "# df = shuffle(df, random_state=RANDOM_STATE).reset_index(drop=True)\n",
    "\n",
    "X_train, X_val, y_train, y_val = train_test_split(df_tra.text.values, df_tra.labels.values, \n",
    "                                                  stratify=df_tra.labels.values, \n",
    "                                                  random_state=RANDOM_STATE, \n",
    "                                                  test_size=0.2, shuffle=True)"
   ]
  },
  {
   "cell_type": "code",
   "execution_count": 23,
   "id": "49660f76",
   "metadata": {},
   "outputs": [
    {
     "name": "stdout",
     "output_type": "stream",
     "text": [
      "96790 Training sequences\n",
      "24198 Validation sequences\n"
     ]
    }
   ],
   "source": [
    "print(len(X_train), \"Training sequences\")\n",
    "print(len(X_val), \"Validation sequences\")"
   ]
  },
  {
   "cell_type": "code",
   "execution_count": 24,
   "id": "f0e8b561",
   "metadata": {},
   "outputs": [
    {
     "data": {
      "text/plain": [
       "array([1, 0, 0, 0, 1])"
      ]
     },
     "execution_count": 24,
     "metadata": {},
     "output_type": "execute_result"
    }
   ],
   "source": [
    "y_val[:5]"
   ]
  },
  {
   "cell_type": "code",
   "execution_count": 80,
   "id": "ea0aee41",
   "metadata": {},
   "outputs": [],
   "source": [
    "# vectorize a text corpus by turning each text into sentence of integers\n",
    "\n",
    "# tokenizer = Tokenizer(num_words=vocab_size, oov_token=oov_token)\n",
    "# tokenizer.fit_on_texts(df_tra.text.values)\n",
    "\n",
    "# # saving\n",
    "with open('../models/tokenizer.pickle', 'wb') as handle:\n",
    "    pickle.dump(tokenizer, handle, protocol=pickle.HIGHEST_PROTOCOL)\n",
    "\n",
    "# loading\n",
    "# with open('../models/tokenizer.pickle', 'rb') as handle:\n",
    "#     tokenizer = pickle.load(handle)"
   ]
  },
  {
   "cell_type": "code",
   "execution_count": 81,
   "id": "7b57fd7c",
   "metadata": {},
   "outputs": [],
   "source": [
    "X_train_sequences = tokenizer.texts_to_sequences(X_train)\n",
    "X_val_sequences = tokenizer.texts_to_sequences(X_val)\n",
    "\n",
    "X_train_padded = tf.keras.preprocessing.sequence.pad_sequences(X_train_sequences, maxlen=maxlen)\n",
    "X_val_padded = tf.keras.preprocessing.sequence.pad_sequences(X_val_sequences, maxlen=maxlen)"
   ]
  },
  {
   "cell_type": "markdown",
   "id": "314b8a2b",
   "metadata": {},
   "source": [
    "# Build Model"
   ]
  },
  {
   "cell_type": "code",
   "execution_count": 82,
   "id": "7da3e5ff",
   "metadata": {},
   "outputs": [
    {
     "name": "stdout",
     "output_type": "stream",
     "text": [
      "Model: \"model_3\"\n",
      "_________________________________________________________________\n",
      " Layer (type)                Output Shape              Param #   \n",
      "=================================================================\n",
      " input_2 (InputLayer)        [(None, 200)]             0         \n",
      "                                                                 \n",
      " token_and_position_embeddin  (None, 200, 50)          2569050   \n",
      " g_1 (TokenAndPositionEmbedd                                     \n",
      " ing)                                                            \n",
      "                                                                 \n",
      " transformer_encoder_1 (Tran  (None, 200, 50)          74582     \n",
      " sformerEncoder)                                                 \n",
      "                                                                 \n",
      " global_average_pooling1d_1   (None, 50)               0         \n",
      " (GlobalAveragePooling1D)                                        \n",
      "                                                                 \n",
      " dropout_5 (Dropout)         (None, 50)                0         \n",
      "                                                                 \n",
      " dense_5 (Dense)             (None, 1)                 51        \n",
      "                                                                 \n",
      "=================================================================\n",
      "Total params: 2,643,683\n",
      "Trainable params: 2,643,683\n",
      "Non-trainable params: 0\n",
      "_________________________________________________________________\n"
     ]
    }
   ],
   "source": [
    "embed_dim = 50  # 50 Embedding size for each token 32\n",
    "num_heads = 7  # Number of attention heads default value 2\n",
    "neurons = 32  # Hidden layer size in feed forward network inside transformer\n",
    "\n",
    "inputs = Input(shape=(maxlen,))\n",
    "embedding_layer = TokenAndPositionEmbedding(maxlen, vocab_size, embed_dim)\n",
    "x = embedding_layer(inputs)\n",
    "transformer_block = TransformerEncoder(embed_dim, num_heads, neurons)\n",
    "x = transformer_block(x)\n",
    "x = GlobalAveragePooling1D()(x)\n",
    "x = Dropout(0.35)(x) # .35\n",
    "outputs = Dense(1, activation=\"sigmoid\")(x)\n",
    "model = Model(inputs=inputs, outputs=outputs)\n",
    "\n",
    "model = Model(inputs=inputs, outputs=outputs)\n",
    "model.summary()"
   ]
  },
  {
   "cell_type": "code",
   "execution_count": 83,
   "id": "198eb20d",
   "metadata": {},
   "outputs": [
    {
     "data": {
      "image/png": "[encoded data removed]",
      "text/plain": [
       "<IPython.core.display.Image object>"
      ]
     },
     "execution_count": 83,
     "metadata": {},
     "output_type": "execute_result"
    }
   ],
   "source": [
    "# draw model\n",
    "tf.keras.utils.plot_model(model, show_shapes=True)"
   ]
  },
  {
   "cell_type": "code",
   "execution_count": 84,
   "id": "d28598b5",
   "metadata": {
    "code_folding": [
     20
    ]
   },
   "outputs": [],
   "source": [
    "lr = 1e-5\n",
    "epochs = 25\n",
    "\n",
    "loss = keras.losses.BinaryCrossentropy(from_logits=False)\n",
    "optimizer = keras.optimizers.legacy.Adam(learning_rate=lr) #.000001)\n",
    "metrics = ['accuracy']\n",
    "\n",
    "# metrics = [tf.keras.metrics.BinaryAccuracy(),\n",
    "#            tf.keras.metrics.FalseNegatives(),\n",
    "#            tf.keras.metrics.FalsePositives(),\n",
    "#           ]\n",
    "\n",
    "# from pathlib import Path\n",
    "\n",
    "# path = Path('../models/bad_words/trans/')\n",
    "# path.mkdir(exist_ok=True) \n",
    "# cpt_filename = '{epoch:02d}_checkpoint_{val_loss:.2f}.hdf5'\n",
    "# cpt_path = str(path / cpt_filename)\n",
    "\n",
    "# checkpoint = tf.keras.callbacks.ModelCheckpoint(cpt_path, monitor='val_loss', verbose=2, \n",
    "#                                                 save_best_only=True, mode='min')\n",
    "\n",
    "# model.compile(loss=loss, optimizer=optimizer, metrics=metrics)\n",
    "\n",
    "\n",
    "# history = model.fit(X_train_padded, y_train, epochs=epochs, batch_size=32, validation_data=(X_val_padded, y_val), verbose=1, \n",
    "#            callbacks=[checkpoint, PlotLossesCallback()])\n",
    "          \n",
    "# # history = model.fit(X_train_padded, y_train, \n",
    "# #                     batch_size=64, epochs=10, \n",
    "# #                     validation_data=(X_val_padded, y_val)\n",
    "#                    )"
   ]
  },
  {
   "cell_type": "code",
   "execution_count": null,
   "id": "00641d94",
   "metadata": {},
   "outputs": [
    {
     "name": "stdout",
     "output_type": "stream",
     "text": [
      "Epoch 1/25\n",
      "1632/3025 [===============>..............] - ETA: 4:52 - loss: 0.2030 - accuracy: 0.9213"
     ]
    }
   ],
   "source": [
    "model_name = \"../models/trans/trans_model.h5\"\n",
    "checkpoint = tf.keras.callbacks.ModelCheckpoint(model_name,\n",
    "                            monitor=\"val_loss\",\n",
    "                            mode=\"min\",\n",
    "                            save_best_only = True,\n",
    "                            verbose=1)\n",
    "\n",
    "earlystopping = tf.keras.callbacks.EarlyStopping(monitor='val_loss',min_delta = 0.001, patience = 1, verbose = 1)\n",
    "\n",
    "learning_rate_reduction = tf.keras.callbacks.ReduceLROnPlateau(monitor='val_loss', \n",
    "                                            patience=3, \n",
    "                                            verbose=1, \n",
    "                                            factor=0.2, \n",
    "                                            min_lr=0.00000001)\n",
    "model.compile(optimizer=tf.keras.optimizers.legacy.Adam(0.0003), loss='binary_crossentropy', metrics=['accuracy'])\n",
    "\n",
    "history = model.fit(X_train_padded, y_train,\n",
    "                    validation_data=(X_val_padded,y_val),\n",
    "                    epochs=25,\n",
    "                    batch_size=32,\n",
    "                    callbacks=[earlystopping])\n",
    "model.summary()"
   ]
  },
  {
   "cell_type": "code",
   "execution_count": null,
   "id": "2c4972a5",
   "metadata": {},
   "outputs": [],
   "source": [
    "history_df = pd.DataFrame(model.history.history)\n",
    "history_df.head(15)"
   ]
  },
  {
   "cell_type": "code",
   "execution_count": null,
   "id": "b59bce8f",
   "metadata": {},
   "outputs": [],
   "source": [
    "plt.plot(history_df.loss);"
   ]
  },
  {
   "cell_type": "code",
   "execution_count": null,
   "id": "89c14ee9",
   "metadata": {},
   "outputs": [],
   "source": [
    "plt.title('Loss')\n",
    "plt.plot(history.history['loss'], label='train')\n",
    "plt.plot(history.history['val_loss'], label='test')\n",
    "plt.legend()\n",
    "plt.show();"
   ]
  },
  {
   "cell_type": "code",
   "execution_count": null,
   "id": "bb615be9",
   "metadata": {},
   "outputs": [],
   "source": [
    "plt.title('Accuracy')\n",
    "plt.plot(history.history['accuracy'], label='train')\n",
    "plt.plot(history.history['val_accuracy'], label='test')\n",
    "plt.legend()\n",
    "plt.show();"
   ]
  },
  {
   "cell_type": "code",
   "execution_count": null,
   "id": "7a1624ff",
   "metadata": {},
   "outputs": [],
   "source": [
    "from sklearn.metrics import classification_report, confusion_matrix, roc_curve, roc_auc_score\n",
    "\n",
    "y_pred = model.predict(X_val_padded)\n",
    "fpr, tpr, _ = roc_curve(y_val,  y_pred)\n",
    "auc = roc_auc_score(y_val, y_pred)\n",
    "plt.plot(fpr,tpr,label=\"auc=\"+str(auc),lw=2)\n",
    "plt.plot([0, 1], [0, 1], color=\"orange\", lw=2, linestyle=\"--\")\n",
    "plt.legend(loc=4)\n",
    "plt.show()"
   ]
  },
  {
   "cell_type": "code",
   "execution_count": null,
   "id": "9cc4a82c",
   "metadata": {},
   "outputs": [],
   "source": [
    "y_pred = [1 if p > .5 else 0 for p in y_pred]\n",
    "\n",
    "print(classification_report(y_val, y_pred))"
   ]
  },
  {
   "cell_type": "code",
   "execution_count": null,
   "id": "edd8a7cb",
   "metadata": {},
   "outputs": [],
   "source": [
    "import seaborn as sns\n",
    "plt.figure(figsize=(10,8))\n",
    "sns.heatmap(confusion_matrix(y_val, y_pred),annot=True,fmt='.4g',cmap='viridis')"
   ]
  },
  {
   "cell_type": "code",
   "execution_count": null,
   "id": "627c1abd",
   "metadata": {},
   "outputs": [],
   "source": [
    "results = model.evaluate(X_val_padded, y_val, verbose=2)\n",
    "\n",
    "for name, value in zip(model.metrics_names, results):\n",
    "    print(\"%s: %.3f\" % (name, value))"
   ]
  },
  {
   "cell_type": "code",
   "execution_count": null,
   "id": "77d4eb15",
   "metadata": {},
   "outputs": [],
   "source": [
    "predictions = model.predict(X_train_padded)\n",
    "predictions = [1 if p > .5 else 0 for p in predictions]\n",
    "predictions"
   ]
  },
  {
   "cell_type": "code",
   "execution_count": null,
   "id": "b9cdc85a",
   "metadata": {},
   "outputs": [],
   "source": [
    "df_sequences = tokenizer.texts_to_sequences(df_tra.text)\n",
    "df_sequences_padded = tf.keras.preprocessing.sequence.pad_sequences(df_sequences, maxlen=maxlen)\n",
    "\n",
    "predictions = model.predict(df_sequences_padded)\n",
    "predictions = [1 if p > .5 else 0 for p in predictions]\n",
    "predictions\n",
    "\n",
    "df_tra['predicted'] = predictions\n",
    "df_tra = df_tra[['time_spent_ms', 'text', 'labels', 'predicted']]\n",
    "df_tra.head()"
   ]
  },
  {
   "cell_type": "code",
   "execution_count": null,
   "id": "38fa0578",
   "metadata": {},
   "outputs": [],
   "source": [
    "df_tra.to_csv('../datasets/acc_989_model.csv')"
   ]
  },
  {
   "cell_type": "code",
   "execution_count": null,
   "id": "73499e9b",
   "metadata": {},
   "outputs": [],
   "source": [
    "def roc_auc(predictions, target):\n",
    "    '''\n",
    "    This methods returns the AUC Score when given the Predictions\n",
    "    and Labels\n",
    "    '''\n",
    "    \n",
    "    fpr, tpr, thresholds = metrics.roc_curve(target, predictions)\n",
    "    roc_auc = metrics.auc(fpr, tpr)\n",
    "    return roc_auc"
   ]
  },
  {
   "cell_type": "code",
   "execution_count": null,
   "id": "7a5757e5",
   "metadata": {},
   "outputs": [],
   "source": [
    "print(X_train[10])\n",
    "print(X_train_sequences[10])\n",
    "print(X_train_padded[10])"
   ]
  },
  {
   "cell_type": "code",
   "execution_count": null,
   "id": "835f7f9a",
   "metadata": {},
   "outputs": [],
   "source": [
    "# model.save_weights(\"../models/trans/trans_badwords_weights.h5\")\n",
    "# model.load_weights(\"../models/trans/trans_badwords_weights.h5\") # loading weights - model had created erlier"
   ]
  },
  {
   "cell_type": "code",
   "execution_count": null,
   "id": "a6b6ae45",
   "metadata": {},
   "outputs": [],
   "source": [
    "# model.save('../models/trans/trans_badwords_model.h5')\n",
    "# model = tf.keras.models.load_model(\"../models/trans/trans_badwords_model.h5\")\n",
    "# model.trainable = False # замораживаем базовую модель"
   ]
  },
  {
   "cell_type": "code",
   "execution_count": null,
   "id": "214e2bee",
   "metadata": {},
   "outputs": [],
   "source": [
    "df_val = pd.read_csv('../datasets/bw/BadWordsService_ml_has.csv')"
   ]
  },
  {
   "cell_type": "code",
   "execution_count": null,
   "id": "2b546383",
   "metadata": {},
   "outputs": [],
   "source": [
    "df_val.drop('@timestamp', axis=1, inplace=True)\n",
    "df_val['ctxt_.time_spent'] = df_val['ctxt_.time_spent'] * 1000 # convert seconds to milliseconds"
   ]
  },
  {
   "cell_type": "code",
   "execution_count": null,
   "id": "1088ff05",
   "metadata": {},
   "outputs": [],
   "source": [
    "df_val.rename(columns={\"ctxt_.text\": \"raw_text\"}, inplace=True)\n",
    "df_val.rename(columns={\"ctxt_.time_spent\": \"time_spent_ms\"}, inplace=True)"
   ]
  },
  {
   "cell_type": "code",
   "execution_count": null,
   "id": "e3b26373",
   "metadata": {},
   "outputs": [],
   "source": [
    "df_val.head()"
   ]
  },
  {
   "cell_type": "code",
   "execution_count": null,
   "id": "c44665bd",
   "metadata": {},
   "outputs": [],
   "source": [
    "nan_values = df_val[df_val.isna().any(axis=1)]\n",
    "print(len(nan_values))"
   ]
  },
  {
   "cell_type": "code",
   "execution_count": null,
   "id": "8ecaeace",
   "metadata": {},
   "outputs": [],
   "source": [
    "df_val['text'] = df_val.apply(lambda row: clean_text(row.raw_text), axis=1)"
   ]
  },
  {
   "cell_type": "code",
   "execution_count": null,
   "id": "85b79149",
   "metadata": {},
   "outputs": [],
   "source": [
    "df_val.drop('raw_text', axis=1, inplace=True)\n",
    "df_val.head()"
   ]
  },
  {
   "cell_type": "code",
   "execution_count": null,
   "id": "692aead7",
   "metadata": {},
   "outputs": [],
   "source": [
    "######## new\n",
    "import itertools as itt\n",
    "chunksize = 200\n",
    "    \n",
    "# vectorize a text corpus by turning each text into sentence of integers\n",
    "max_len = 200\n",
    "# tokenizer = Tokenizer(num_words=vocab_size, oov_token=oov_token)\n",
    "# tokenizer.fit_on_texts(df_val['text'])\n",
    "\n",
    "\n",
    "values = []\n",
    "columns = ['text', 'time_elapsed_ms','label']\n",
    "for index, elem in enumerate(df_val.text):\n",
    "    start_time = datetime.now() \n",
    "    cnt = itt.count()\n",
    "    test_text_np = np.array([''.join(grp) for k, grp in itt.groupby(elem, key=lambda x: next(cnt)//chunksize%2)])\n",
    "    tokenizer.fit_on_texts(test_text_np)\n",
    "    test_sequences = tokenizer.texts_to_sequences(test_text_np)   \n",
    "    test_sequences_padded = pad_sequences(test_sequences, maxlen=max_len, padding=\"post\", truncating=\"post\")\n",
    "#     print(test_text_np)\n",
    "#     print('LEN', len(test_text_np))\n",
    "#     print('test_sequences', test_sequences)\n",
    "#     print('test_sequences_padded', test_sequences_padded)\n",
    "    \n",
    "    # for word in test_text_preprocessed:\n",
    "    # Get max training sequence length\n",
    "  \n",
    "\n",
    "    tf.config.run_functions_eagerly(True)\n",
    "    predictions = model.predict(test_sequences_padded)\n",
    "    predictions = [1 if p > .5 else 0 for p in predictions]\n",
    "\n",
    "    time_elapsed = datetime.now() - start_time \n",
    "\n",
    "#     print('Time elapsed (ms) {}'.format(time_elapsed.microseconds/1000))\n",
    "#     print('Prediction:', max(predictions))\n",
    "    if elem not in values:\n",
    "#         print('**************', index, '~~~~~~~~~~~', elem, values[index-1])\n",
    "        values.append([elem, round(time_elapsed.microseconds/1000, 1), max(predictions)])\n",
    "        values[index][1] += round(time_elapsed.microseconds/1000, 1)\n",
    "#         print('**************', index, '~~~~~~~~~~~', elem, '################', values[index][1])\n",
    "df_result = pd.DataFrame(data=values, columns=columns)\n",
    "########\n",
    "# test_text_np = np.array([test_text_preprocessed])\n",
    "# test_sequences = tokenizer.texts_to_sequences(test_text_np)"
   ]
  },
  {
   "cell_type": "code",
   "execution_count": null,
   "id": "c8485eed",
   "metadata": {},
   "outputs": [],
   "source": [
    "# del(df_result)\n",
    "df_result.head()"
   ]
  },
  {
   "cell_type": "code",
   "execution_count": null,
   "id": "aa4da82f",
   "metadata": {},
   "outputs": [],
   "source": [
    "df_val.head()"
   ]
  },
  {
   "cell_type": "code",
   "execution_count": null,
   "id": "4070e7fc",
   "metadata": {},
   "outputs": [],
   "source": [
    "df_united = df_val.merge(df_result, right_on='text', left_on='text')\n",
    "df_united['time_delta'] = df_united.time_spent_ms - df_united.time_elapsed_ms\n",
    "df_united = df_united[['text', 'time_spent_ms', 'time_elapsed_ms', 'time_delta', 'label']]\n",
    "df_united.drop_duplicates(['text'], keep='last', ignore_index=True, inplace=True)"
   ]
  },
  {
   "cell_type": "code",
   "execution_count": null,
   "id": "6ddfc26e",
   "metadata": {},
   "outputs": [],
   "source": [
    "df_united.head(20)"
   ]
  },
  {
   "cell_type": "code",
   "execution_count": null,
   "id": "63e1d0e3",
   "metadata": {},
   "outputs": [],
   "source": [
    "df_united.to_csv('../datasets/trans_pred_999.csv', index=False)"
   ]
  },
  {
   "cell_type": "code",
   "execution_count": null,
   "id": "86f84767",
   "metadata": {},
   "outputs": [],
   "source": [
    "######## new\n",
    "import itertools as itt\n",
    "chunksize = 200\n",
    "max_len = chunksize\n",
    "\n",
    "# tokenizer = Tokenizer(num_words=vocab_size, oov_token=oov_token)\n",
    "# tokenizer.fit_on_texts(df_tra['text'])\n",
    "\n",
    "# raw_text = \"\"\"audrina terrified large dragon enters room quickly tell dragon distress find thorn mouth moment remove thorn viciously attacked slowly consumed putting strong fight excellent vore clipsgts x com\"\"\"\n",
    "raw_text = \"\"\"start\tend\ttext\n",
    "0\t5040\tOh, I love wearing dirty panties.\n",
    "9280\t13040\tOh, you're rubbing my panties and filling out what they are.\n",
    "16800\t21040\tOh, they smell good.\n",
    "21040\t27040\tOh, I love wearing dirty panties and filling out what they smell good.\n",
    "27040\t33040\tOh, I love wearing dirty panties and filling out what they smell good.\n",
    "33040\t39040\tOh, I love wearing dirty panties and filling out what they smell good.\n",
    "43040\t49040\tYou can't tell me that a woman's panties haven't turned you on before.\n",
    "49040\t53040\tThe dirty kind.\n",
    "53040\t57040\tThe kind that she's been playing with herself in.\n",
    "57040\t65040\tThe kind that she's been coming in them all over and all over.\n",
    "65040\t73040\tOh, oh, oh, oh.\n",
    "73040\t79040\tI love calmed in panties more than anything.\n",
    "79040\t85040\tOh, I want to ride on my face.\n",
    "85040\t91040\tI want to run my pussy in my pussy.\n",
    "91040\t99040\tOh, I want to come slow, gone down hard to dirty panties.\n",
    "99040\t113040\tOh, oh, I need my exercise work.\n",
    "113040\t118040\tOh, here.\n",
    "118040\t120040\tHoly Pisces, what?\n",
    "122040\t123040\tOh, yeah.\n",
    "130040\t132040\tI like the taste of my pussy.\n",
    "137040\t139040\tOh, oh, yeah.\n",
    "139040\t142040\tOh, oh, yeah.\n",
    "145040\t149040\tOh, my god, I want some dirty panties right on my face.\n",
    "155040\t162040\tYou know, if you were here right now, I'd be making you sniff them too.\n",
    "162040\t167040\tOh, rubbing my dirty panties all over your dick.\n",
    "170040\t174040\tBe wrapping my dirty panties around your dick and then fucking it.\n",
    "180040\t182040\tOh, I'm being deadly serious.\n",
    "182040\t187040\tMy fetish with pennies.\n",
    "193040\t196040\tIt has been going on for such a long time.\n",
    "196040\t203040\tOh, oh, oh, oh.\n",
    "205040\t210040\tAnd dirty panties taste good.\n",
    "210040\t215040\tOh, oh, oh, oh.\n",
    "224040\t226040\tOh, yeah.\n",
    "226040\t228040\tOh, look at that.\n",
    "228040\t235040\tI want to make health with those pennies.\n",
    "240040\t244040\tI thought it'd come all over me.\n",
    "244040\t247040\tAnd my mouth fell.\n",
    "247040\t251040\tAnd my face.\n",
    "251040\t253040\tOh.\n",
    "253040\t255040\tOh.\n",
    "257040\t260040\tOh, yeah.\n",
    "260040\t262040\tOh.\n",
    "262040\t264040\tOh.\n",
    "264040\t266040\tOh.\n",
    "266040\t268040\tOh.\n",
    "268040\t271040\tOh.\n",
    "271040\t274040\tLook at it.\n",
    "274040\t278040\tI'll let you throw a score at heart.\n",
    "278040\t283040\tI'll let you throw a dirty panties score.\n",
    "286040\t288040\tYou got it.\n",
    "288040\t290040\tAll right.\n",
    "290040\t294040\tOn that face of mine.\n",
    "300040\t303040\tOh, yeah.\n",
    "303040\t305040\tOh.\n",
    "305040\t307040\tMm.\n",
    "307040\t310040\tThese dirty panties look around my face.\n",
    "310040\t312040\tDon't you think?\n",
    "312040\t314040\tOh.\n",
    "314040\t317040\tOh, yeah.\n",
    "317040\t320040\tMm.\n",
    "320040\t323040\tOh.\n",
    "323040\t326040\tMm.\n",
    "326040\t329040\tOh.\n",
    "329040\t331040\tOh.\n",
    "331040\t333040\tOh.\n",
    "333040\t335040\tMm.\n",
    "335040\t338040\tOh, you're up that pussy.\n",
    "338040\t340040\tOh.\n",
    "340040\t342040\tOh, you're up that pussy.\n",
    "342040\t346040\tWhat those funny panties are right on my face.\n",
    "346040\t348040\tMm.\n",
    "348040\t351040\tMm.\n",
    "351040\t354040\tMm.\n",
    "354040\t357040\tMm.\n",
    "357040\t360040\tOh, yeah.\n",
    "360040\t363040\tOh.\n",
    "363040\t365040\tOh.\n",
    "365040\t368040\tOh, yeah.\n",
    "368040\t371040\tOh, my God, that's so scary.\n",
    "371040\t374040\tMm.\n",
    "374040\t377040\tMm.\n",
    "377040\t380040\tMm.\n",
    "380040\t383040\tMm.\n",
    "383040\t386040\tMm.\n",
    "386040\t389040\tMm.\n",
    "389040\t392040\tMm.\n",
    "392040\t395040\tMm.\n",
    "395040\t398040\tMm.\n",
    "398040\t400040\tMm.\n",
    "400040\t403040\tOh, yeah.\n",
    "403040\t406040\tMm.\n",
    "406040\t410040\tI love dirty panties on my face.\n",
    "410040\t413040\tMm.\n",
    "413040\t416040\tMm.\n",
    "416040\t419040\tMm.\n",
    "419040\t422040\tMm.\n",
    "422040\t425040\tMm.\n",
    "425040\t428040\tMm.\n",
    "428040\t431040\tMm.\n",
    "431040\t434040\tMm.\n",
    "434040\t438040\tMm.\n",
    "438040\t443040\tMm.\n",
    "443040\t447040\tI love them.\n",
    "447040\t450040\tI'm glad they taste so good.\n",
    "450040\t454040\tMm.\n",
    "454040\t457040\tMm.\n",
    "457040\t460040\tMm.\n",
    "460040\t462040\tMm.\n",
    "462040\t465040\tI'm here.\n",
    "465040\t468040\tI got out of this.\n",
    "468040\t472040\tI love these to the gym.\n",
    "472040\t474040\tCan you tell?\n",
    "474040\t477040\tI gotta come all over my nose.\n",
    "477040\t481040\tOh.\n",
    "481040\t484040\tOh, yeah.\n",
    "484040\t486040\tMm.\n",
    "486040\t489040\tOh.\n",
    "489040\t492040\tLickery with a pussy's band.\n",
    "492040\t495040\tOh.\n",
    "495040\t498040\tMm.\n",
    "498040\t502040\tOh.\n",
    "502040\t506040\tOh, these smell good.\n",
    "506040\t510040\tOh, these smell so good.\n",
    "510040\t514040\tI love them on my face.\n",
    "514040\t517040\tMm.\n",
    "517040\t521040\tOh, I want them on my face.\n",
    "521040\t525040\tOh, yeah.\n",
    "525040\t528040\tOh, yeah.\n",
    "528040\t531040\tOh, I want to say that.\n",
    "531040\t534040\tOh, yeah.\n",
    "534040\t538040\tOh, yeah.\n",
    "538040\t542040\tOh, I'm dirty panties on my face.\n",
    "542040\t545040\tMm.\n",
    "545040\t549040\tOh, I'm dirty panties on my face.\n",
    "549040\t552040\tOh.\n",
    "552040\t555040\tOh, yeah.\n",
    "555040\t558040\tOh.\n",
    "558040\t562040\tOh, God, that pussy is so wet right now.\n",
    "562040\t566040\tYou're gonna see how wet that pussy is.\n",
    "566040\t568040\tOh, yeah.\n",
    "568040\t570040\tMm.\n",
    "570040\t573040\tOh.\n",
    "573040\t576040\tLook at this.\n",
    "576040\t581040\tCan you show you just how wet it is?\n",
    "581040\t584040\tOh.\n",
    "584040\t587040\tOh.\n",
    "587040\t592040\tOh, those panties are wet.\n",
    "592040\t595040\tOh, yeah.\n",
    "595040\t598040\tOh, these panties are wet.\n",
    "598040\t601040\tOh, yeah.\n",
    "601040\t606040\tOh, there's seven panties dripping wet.\n",
    "606040\t609040\tOh, yeah.\n",
    "609040\t611040\tOh.\n",
    "611040\t613040\tMm.\n",
    "613040\t615040\tOh.\n",
    "615040\t618040\tOh, yeah.\n",
    "618040\t623040\tOh, make that pussy come and let's start a panties.\n",
    "623040\t625040\tOh, yeah.\n",
    "625040\t629040\tOh, make that pussy come.\n",
    "629040\t631040\tOh.\n",
    "631040\t634040\tOh, yeah.\n",
    "634040\t637040\tMm.\n",
    "637040\t640040\tOh.\n",
    "640040\t643040\tMm.\n",
    "643040\t648040\tAin't bloody on it.\n",
    "648040\t652040\tI got crumbly from my nose.\n",
    "652040\t655040\tOh, I got a teaspoon.\n",
    "655040\t658040\tMm.\n",
    "658040\t661040\tToo dirty panties to choose from.\n",
    "661040\t664040\tMm.\n",
    "664040\t667040\tOh.\n",
    "667040\t670040\tMm.\n",
    "670040\t672040\tOh.\n",
    "672040\t676040\tOh, I get it tastes good.\n",
    "676040\t679040\tMm.\n",
    "679040\t683040\tOh, it tastes really good.\n",
    "683040\t686040\tMm.\n",
    "686040\t688040\tOh.\n",
    "688040\t691040\tYou know what?\n",
    "691040\t694040\tI need them boys on my face.\n",
    "694040\t696040\tOh, yeah.\n",
    "696040\t699040\tOh, I need them boys on my face.\n",
    "699040\t702040\tOh.\n",
    "702040\t704040\tOh, yeah.\n",
    "704040\t707040\tOh, they're right there.\n",
    "707040\t709040\tOh.\n",
    "709040\t711040\tOh, yeah.\n",
    "711040\t714040\tOh.\n",
    "714040\t719040\tOh, yeah.\n",
    "719040\t722040\tOh, yeah.\n",
    "722040\t725040\tMm.\n",
    "725040\t728040\tOh, yeah.\n",
    "728040\t731040\tOh, yeah.\n",
    "731040\t735040\tOh, yeah.\n",
    "735040\t739040\tMy pussy is so too my pussy, Jesus.\n",
    "739040\t742040\tMm.\n",
    "742040\t745040\tMm.\n",
    "745040\t748040\tNo.\n",
    "748040\t755040\tI think they better take these ones off, right?\n",
    "755040\t758040\tMm.\n",
    "758040\t763040\tAnd take these ones off.\n",
    "763040\t766040\tOh.\n",
    "766040\t769040\tOh.\n",
    "769040\t773040\tOh, what they are.\n",
    "773040\t776040\tMm.\n",
    "776040\t781040\tAnd look at these.\n",
    "781040\t784040\tMm.\n",
    "784040\t788040\tAnd look at me white pennies.\n",
    "788040\t791040\tMm.\n",
    "791040\t794040\tOh.\n",
    "794040\t797040\tMm.\n",
    "797040\t800040\tOh, yeah.\n",
    "800040\t804040\tI can taste right what my pussy's meant.\n",
    "804040\t807040\tMm.\n",
    "807040\t810040\tOh.\n",
    "810040\t813040\tOh, yeah.\n",
    "813040\t816040\tMm.\n",
    "816040\t819040\tMm.\n",
    "819040\t822040\tMm.\n",
    "822040\t825040\tMm.\n",
    "825040\t829040\tMy panties taste good.\n",
    "829040\t832040\tMm.\n",
    "832040\t837040\tMy panties taste really good.\n",
    "837040\t840040\tOh.\n",
    "840040\t843040\tMm.\n",
    "843040\t846040\tOh.\n",
    "846040\t853040\tOh, I want to write on my face.\n",
    "853040\t856040\tOh, yeah.\n",
    "856040\t861040\tOh, you're right on my face.\n",
    "861040\t863040\tOh.\n",
    "863040\t866040\tOh, yeah.\n",
    "866040\t869040\tI want to say that.\n",
    "869040\t871040\tMm.\n",
    "871040\t873040\tOh, yeah.\n",
    "873040\t875040\tOh.\n",
    "875040\t879040\tMm.\n",
    "879040\t883040\tOh, yeah.\n",
    "883040\t886040\tMm.\n",
    "886040\t889040\tMm.\n",
    "889040\t892040\tMm.\n",
    "892040\t895040\tMm.\n",
    "895040\t898040\tOh, yeah.\n",
    "898040\t902040\tMm.\n",
    "902040\t906040\tMm.\n",
    "906040\t909040\tOh.\n",
    "909040\t912040\tOh.\n",
    "912040\t915040\tMm.\n",
    "915040\t918040\tOh, yeah.\n",
    "918040\t921040\tMm.\n",
    "921040\t924040\tOh.\n",
    "924040\t927040\tOh.\n",
    "927040\t930040\tMm.\n",
    "930040\t932040\tOh.\n",
    "932040\t936040\tMm.\n",
    "936040\t940040\tMm.\n",
    "940040\t944040\tMm.\n",
    "944040\t949040\tMm.\n",
    "949040\t951040\tMm.\n",
    "951040\t954040\tYou know what I want?\n",
    "954040\t957040\tOh.\n",
    "957040\t961040\tI want to wrap these dirty panties.\n",
    "961040\t964040\tOh.\n",
    "964040\t968040\tI already know your dick. Look at my face.\n",
    "968040\t972040\tMy face is covered in corn.\n",
    "972040\t975040\tMm.\n",
    "975040\t978040\tOh.\n",
    "978040\t981040\tMm.\n",
    "981040\t983040\tThere we go.\n",
    "983040\t986040\tNo, that's what I really want.\n",
    "986040\t992040\tYou're going to need a cray just down.\n",
    "992040\t995040\tLeave your head.\n",
    "995040\t1004040\tOh.\n",
    "1004040\t1007040\tLet's get those panties.\n",
    "1007040\t1011040\tThese dirty, dirty panties.\n",
    "1011040\t1013040\tMm.\n",
    "1013040\t1015040\tOh, look at it.\n",
    "1015040\t1019040\tMm.\n",
    "1019040\t1023040\tMm.\n",
    "1023040\t1026040\tOh.\n",
    "1026040\t1029040\tYou're right on that.\n",
    "1029040\t1032040\tOh.\n",
    "1032040\t1034040\tOh, yeah.\n",
    "1034040\t1036040\tAnd this one.\n",
    "1036040\t1038040\tA dirty part.\n",
    "1038040\t1040040\tMm.\n",
    "1040040\t1043040\tOh, yeah.\n",
    "1043040\t1046040\tOh.\n",
    "1046040\t1048040\tOh.\n",
    "1048040\t1051040\tAnd then.\n",
    "1051040\t1054040\tOh, yeah.\n",
    "1054040\t1056040\tThese are going to go going wrong.\n",
    "1056040\t1058040\tOh.\n",
    "1058040\t1061040\tI'll let face them in.\n",
    "1061040\t1062040\tMm.\n",
    "1062040\t1064040\tOh, okay.\n",
    "1064040\t1066040\tMm.\n",
    "1066040\t1067040\tOh.\n",
    "1067040\t1072040\tI like ricking them.\n",
    "1072040\t1078040\tI love ricking them.\n",
    "1078040\t1080040\tOh.\n",
    "1080040\t1083040\tOh, if I.\n",
    "1083040\t1086040\tOh.\n",
    "1086040\t1089040\tOh.\n",
    "1089040\t1094040\tWe want to ride inside.\n",
    "1094040\t1097040\tOh, I want to ride inside.\n",
    "1097040\t1100040\tOh, yeah.\n",
    "1100040\t1102040\tOh.\n",
    "1102040\t1103040\tMm.\n",
    "1103040\t1107040\tYou need to have to ride around the dick.\n",
    "1107040\t1110040\tOh.\n",
    "1110040\t1113040\tOh, yeah.\n",
    "1113040\t1116040\tOh.\n",
    "1116040\t1119040\tOh.\n",
    "1119040\t1122040\tOh, yeah.\n",
    "1122040\t1125040\tOh, yeah.\n",
    "1125040\t1134040\tOh, and dirty panties are right on my face.\n",
    "1134040\t1137040\tOh, yeah.\n",
    "1137040\t1140040\tMm.\n",
    "1140040\t1143040\tOh.\n",
    "1143040\t1146040\tOh, yeah.\n",
    "1146040\t1149040\tMm.\n",
    "1149040\t1153040\tOh, yeah.\n",
    "1153040\t1157040\tMm.\n",
    "1157040\t1160040\tMm.\n",
    "1160040\t1163040\tMm.\n",
    "1163040\t1165040\tMm.\n",
    "1165040\t1168040\tOh, yeah.\n",
    "1168040\t1171040\tOh.\n",
    "1171040\t1174040\tOh, yeah.\n",
    "1174040\t1177040\tOh, yeah.\n",
    "1177040\t1180040\tOh, yeah.\n",
    "1180040\t1183040\tOh, yeah.\n",
    "1183040\t1186040\tMm.\n",
    "1186040\t1189040\tMm.\n",
    "1189040\t1192040\tMm.\n",
    "1192040\t1207040\tYou know what I was really like right now?\n",
    "1207040\t1215040\tIt's for you to concentrate on my face and my head.\n",
    "1215040\t1225040\tYou know what I was really like right now?\n",
    "1225040\t1252040\tYou know what I was really like right now?\n",
    "1252040\t1262040\tYou know what I was really like right now?\n",
    "1262040\t1270040\tYou know what I was really like right now?\n",
    "1270040\t1295040\tYou know what I was really like right now?\n",
    "1295040\t1305040\tHow much do you want to come on my face right now?\n",
    "1305040\t1321040\tHow much do you want to come on my face?\n",
    "1321040\t1331040\tJust like that.\n",
    "1331040\t1357040\tYou know what I was really like right now?\n",
    "1357040\t1369040\tI come to life in my panties and I think you come to it too.\n",
    "1369040\t1379040\tDaddy Pony is a heart rate and that's plenty more what it came from.\"\"\"\n",
    "# raw_text = \"\"\"start end text getting started sweetheart going get information going think anything going torture going talk going talk say wait wait done sensitive love torturing torturing oh god sexy oh god much love teasing going get talk frankly enjoying every moment never work say torment pleasure going painful good feel take oh sticky going able resist torment oh yes much fun resist going resist oh feel shaking torment hard crazy oh god oh yes good love torturing feel good oh god sweet torture oh god think like torture torturing beautiful body bring height pleasure take able make anything able make tell anything want anything really get anything going get oh god oh god oh yes oh torture oh yes pure torture oh yes oh yes oh yes oh yes resist oh go slow torture oh god good know oh god oh yes oh yes oh yes oh mine play oh yes anything want anything yeah bring entire body life tantalizing teasing oh oh yes oh able resist hurting hard oh god much longer good oh let taste sweet oh bug god oh hard going tell still going tell oh okay get oh going torture love torturing take care take care take care take care oh yes oh god oh god terrible oh yes oh sorry oh yes pleasure oh fun torturing oh teasing oh yes taking right edge close oh god become going tell oh going tell oh close oh daytime oh god oh god fine teasing good love teasing torturing breathe know going come oh know know oh expert torture oh yeah oh mm hmm oh mm hmm oh god oh god glad going come want come wow always leave leave let come oh fine really torturing way please going come oh please think going oh yes since get information leaving torture tormenting okay talk tell want know coming okay coming coming coming coming oh fuck coming touch oh oh yeah like hmmm hmmm hmmm hmm uh uh uh uh hmmm going tell everything yeah yes oh oh oh oh broke torture mm hmm good yeah taste amazing love torturing torturing please okay mm hmm\"\"\"\n",
    "# raw_text = \"\"\"<br></br>  This is the 640x360     version of  Jazmine aka Hannah Perez back for more clip four  : Limp, naked and played with    <br></br>Hannah has no idea where she is and who the stranger in front of her is. Needless to say, she is confused and tries to find out what happened to her but before she knows what hits her, she feels the guys hand on her throat and... her sexy young body wobbles and she slowly goes down while her eyes roll and flicker to the last second.     <br></br>Enjoy a very hot limp/rest segment. Like I mentioned this clip is all about our sleeepy girl being slowly moved, posed, dropped and other wise manipulated while out. Of course we take our time (and zoom in) while checking  her pussy, ass,  eyes, ears, hands, navel, remove her shoes, feet and so much more. Eye checks of course as well.  <br></br>HAND AND WRIST LIMPING, SEVERAL HAND AND LEG DROPS, FACE, RAGDOLLING, BODY LIMPING, PULLS, HEAD DROP\"\"\"\n",
    "test_text_preprocessed = [clean_text(raw_text)]\n",
    "print(test_text_preprocessed)\n",
    "values = []\n",
    "columns = ['text', 'time_elapsed_ms','label']\n",
    "for index, elem in enumerate(test_text_preprocessed):\n",
    "    start_time = datetime.now() \n",
    "    cnt = itt.count()\n",
    "    test_text_np = np.array([''.join(grp) for k, grp in itt.groupby(elem, key=lambda x: next(cnt)//chunksize%2)])\n",
    "    tokenizer.fit_on_texts(test_text_np)\n",
    "    test_sequences = tokenizer.texts_to_sequences(test_text_np)   \n",
    "    test_sequences_padded = pad_sequences(test_sequences, maxlen=max_len, padding=\"post\", truncating=\"post\")\n",
    "#     print(test_text_np)\n",
    "#     print('LEN', len(test_text_np))\n",
    "#     print('test_sequences', test_sequences)\n",
    "#     print('test_sequences_padded', test_sequences_padded)\n",
    "    \n",
    "    # for word in test_text_preprocessed:\n",
    "    # Get max training sequence length\n",
    "  \n",
    "\n",
    "    predictions = model.predict(test_sequences_padded)\n",
    "    predictions = [1 if p > .5 else 0 for p in predictions]\n",
    "\n",
    "    time_elapsed = datetime.now() - start_time \n",
    "\n",
    "#     print('Time elapsed (ms) {}'.format(time_elapsed.microseconds/1000))\n",
    "#     print('Prediction:', max(predictions))\n",
    "    if elem not in values:\n",
    "#         print('**************', index, '~~~~~~~~~~~', elem, values[index-1])\n",
    "        values.append([elem, round(time_elapsed.microseconds/1000, 1), max(predictions)]) #max(predictions)\n",
    "        values[index][1] += round(time_elapsed.microseconds/1000, 1)\n",
    "#         print('**************', index, '~~~~~~~~~~~', elem, '################', values[index][1])\n",
    "df_result = pd.DataFrame(data=values, columns=columns)\n",
    "df_result"
   ]
  },
  {
   "cell_type": "code",
   "execution_count": null,
   "id": "3c332d1c",
   "metadata": {},
   "outputs": [],
   "source": [
    "# def decode(sequence):\n",
    "#     return \" \".join([rvi.get(idx, \"?\") for idx in sequence])\n",
    "\n",
    "# decoded_text = decode(X_train_sequences[10])\n",
    "\n",
    "# print(X_train_sequences[10])\n",
    "# print(decoded_text)"
   ]
  },
  {
   "cell_type": "code",
   "execution_count": null,
   "id": "af884d1d",
   "metadata": {},
   "outputs": [],
   "source": []
  },
  {
   "cell_type": "code",
   "execution_count": null,
   "id": "d364b142",
   "metadata": {},
   "outputs": [],
   "source": []
  }
 ],
 "metadata": {
  "kernelspec": {
   "display_name": "Python 3 (ipykernel)",
   "language": "python",
   "name": "python3"
  },
  "language_info": {
   "codemirror_mode": {
    "name": "ipython",
    "version": 3
   },
   "file_extension": ".py",
   "mimetype": "text/x-python",
   "name": "python",
   "nbconvert_exporter": "python",
   "pygments_lexer": "ipython3",
   "version": "3.8.12"
  },
  "toc": {
   "base_numbering": 1,
   "nav_menu": {},
   "number_sections": true,
   "sideBar": true,
   "skip_h1_title": false,
   "title_cell": "Table of Contents",
   "title_sidebar": "Contents",
   "toc_cell": false,
   "toc_position": {},
   "toc_section_display": true,
   "toc_window_display": false
  }
 },
 "nbformat": 4,
 "nbformat_minor": 5
}
