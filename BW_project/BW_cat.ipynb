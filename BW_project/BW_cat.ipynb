{
 "cells": [
  {
   "cell_type": "code",
   "execution_count": 1,
   "id": "2f1266ec",
   "metadata": {},
   "outputs": [],
   "source": [
    "import joblib\n",
    "import re\n",
    "import string\n",
    "\n",
    "import numpy as np\n",
    "import pandas as pd\n",
    "\n",
    "from sklearn.feature_extraction.text import CountVectorizer\n",
    "from sklearn.metrics import accuracy_score, cohen_kappa_score, f1_score, classification_report\n",
    "from sklearn.model_selection import StratifiedKFold, train_test_split\n",
    "from sklearn.naive_bayes import MultinomialNB"
   ]
  },
  {
   "cell_type": "code",
   "execution_count": 2,
   "id": "fb6a041c",
   "metadata": {},
   "outputs": [
    {
     "data": {
      "text/plain": [
       "(86439, 4)"
      ]
     },
     "execution_count": 2,
     "metadata": {},
     "output_type": "execute_result"
    }
   ],
   "source": [
    "# categories = [\n",
    "#     \"alt.atheism\",\n",
    "#     \"misc.forsale\",\n",
    "#     \"sci.space\",\n",
    "#     \"soc.religion.christian\",\n",
    "#     \"talk.politics.guns\",\n",
    "# ]\n",
    "\n",
    "categories = [ \n",
    "    \"hasBadWords.True\",\n",
    "    \"hasBadWords.False\",\n",
    "             ]\n",
    "\n",
    "news_group_data = pd.read_json('datasets/dataset.json') # dataset.json\n",
    "news_group_data['target'] = news_group_data.hasBadWords.apply(lambda x: \"hasBadWords.True\" if x == True else \"hasBadWords.False\")\n",
    "# news_group_data.drop(['violation'], axis=1, inplace=True)\n",
    "news_group_data.shape\n",
    "\n",
    "# news_group_data = fetch_20newsgroups(\n",
    "#     subset=\"all\", remove=(\"headers\", \"footers\", \"quotes\"), categories=categories\n",
    "# )\n",
    "\n",
    "# df = pd.DataFrame(\n",
    "#     dict(\n",
    "#         text=news_group_data[\"text\"],\n",
    "#         target=news_group_data[\"target\"]\n",
    "#     )\n",
    "# )\n",
    "# df[\"target\"] = df.target.map(lambda x: categories[x])"
   ]
  },
  {
   "cell_type": "code",
   "execution_count": 3,
   "id": "f971de3b",
   "metadata": {},
   "outputs": [],
   "source": [
    "df = pd.DataFrame(\n",
    "    dict(\n",
    "        text=news_group_data[\"text\"],\n",
    "        target=news_group_data[\"target\"]\n",
    "    )\n",
    ")"
   ]
  },
  {
   "cell_type": "code",
   "execution_count": 4,
   "id": "759e5bf4",
   "metadata": {},
   "outputs": [
    {
     "data": {
      "text/html": [
       "<div>\n",
       "<style scoped>\n",
       "    .dataframe tbody tr th:only-of-type {\n",
       "        vertical-align: middle;\n",
       "    }\n",
       "\n",
       "    .dataframe tbody tr th {\n",
       "        vertical-align: top;\n",
       "    }\n",
       "\n",
       "    .dataframe thead th {\n",
       "        text-align: right;\n",
       "    }\n",
       "</style>\n",
       "<table border=\"1\" class=\"dataframe\">\n",
       "  <thead>\n",
       "    <tr style=\"text-align: right;\">\n",
       "      <th></th>\n",
       "      <th>text</th>\n",
       "      <th>target</th>\n",
       "    </tr>\n",
       "  </thead>\n",
       "  <tbody>\n",
       "    <tr>\n",
       "      <th>0</th>\n",
       "      <td>My Favorite Slut</td>\n",
       "      <td>hasBadWords.False</td>\n",
       "    </tr>\n",
       "    <tr>\n",
       "      <th>1</th>\n",
       "      <td>girlfriends sit on each other's faces with the...</td>\n",
       "      <td>hasBadWords.False</td>\n",
       "    </tr>\n",
       "    <tr>\n",
       "      <th>2</th>\n",
       "      <td>bound beauty kisses her girlfriend</td>\n",
       "      <td>hasBadWords.False</td>\n",
       "    </tr>\n",
       "    <tr>\n",
       "      <th>3</th>\n",
       "      <td>MORGAN - Anytime - Nail Painting On The Slave'...</td>\n",
       "      <td>hasBadWords.False</td>\n",
       "    </tr>\n",
       "    <tr>\n",
       "      <th>4</th>\n",
       "      <td>TRANSGENDER COACHING (wmv) PART 1</td>\n",
       "      <td>hasBadWords.False</td>\n",
       "    </tr>\n",
       "  </tbody>\n",
       "</table>\n",
       "</div>"
      ],
      "text/plain": [
       "                                                text             target\n",
       "0                                   My Favorite Slut  hasBadWords.False\n",
       "1  girlfriends sit on each other's faces with the...  hasBadWords.False\n",
       "2                 bound beauty kisses her girlfriend  hasBadWords.False\n",
       "3  MORGAN - Anytime - Nail Painting On The Slave'...  hasBadWords.False\n",
       "4                  TRANSGENDER COACHING (wmv) PART 1  hasBadWords.False"
      ]
     },
     "execution_count": 4,
     "metadata": {},
     "output_type": "execute_result"
    }
   ],
   "source": [
    "df.head()"
   ]
  },
  {
   "cell_type": "code",
   "execution_count": 5,
   "id": "7235e249",
   "metadata": {},
   "outputs": [],
   "source": [
    "def process_text(text):\n",
    "    text = str(text).lower()\n",
    "    text = re.sub(\n",
    "        f\"[{re.escape(string.punctuation)}]\", \" \", text\n",
    "    )\n",
    "    text = \" \".join(text.split())\n",
    "    return text\n",
    "\n",
    "df[\"clean_text\"] = df.text.map(process_text)"
   ]
  },
  {
   "cell_type": "code",
   "execution_count": 6,
   "id": "1df59b64",
   "metadata": {},
   "outputs": [
    {
     "data": {
      "text/html": [
       "<div>\n",
       "<style scoped>\n",
       "    .dataframe tbody tr th:only-of-type {\n",
       "        vertical-align: middle;\n",
       "    }\n",
       "\n",
       "    .dataframe tbody tr th {\n",
       "        vertical-align: top;\n",
       "    }\n",
       "\n",
       "    .dataframe thead th {\n",
       "        text-align: right;\n",
       "    }\n",
       "</style>\n",
       "<table border=\"1\" class=\"dataframe\">\n",
       "  <thead>\n",
       "    <tr style=\"text-align: right;\">\n",
       "      <th></th>\n",
       "      <th>text</th>\n",
       "      <th>target</th>\n",
       "      <th>clean_text</th>\n",
       "    </tr>\n",
       "  </thead>\n",
       "  <tbody>\n",
       "    <tr>\n",
       "      <th>0</th>\n",
       "      <td>My Favorite Slut</td>\n",
       "      <td>hasBadWords.False</td>\n",
       "      <td>my favorite slut</td>\n",
       "    </tr>\n",
       "    <tr>\n",
       "      <th>1</th>\n",
       "      <td>girlfriends sit on each other's faces with the...</td>\n",
       "      <td>hasBadWords.False</td>\n",
       "      <td>girlfriends sit on each other s faces with the...</td>\n",
       "    </tr>\n",
       "    <tr>\n",
       "      <th>2</th>\n",
       "      <td>bound beauty kisses her girlfriend</td>\n",
       "      <td>hasBadWords.False</td>\n",
       "      <td>bound beauty kisses her girlfriend</td>\n",
       "    </tr>\n",
       "    <tr>\n",
       "      <th>3</th>\n",
       "      <td>MORGAN - Anytime - Nail Painting On The Slave'...</td>\n",
       "      <td>hasBadWords.False</td>\n",
       "      <td>morgan anytime nail painting on the slave s face</td>\n",
       "    </tr>\n",
       "    <tr>\n",
       "      <th>4</th>\n",
       "      <td>TRANSGENDER COACHING (wmv) PART 1</td>\n",
       "      <td>hasBadWords.False</td>\n",
       "      <td>transgender coaching wmv part 1</td>\n",
       "    </tr>\n",
       "  </tbody>\n",
       "</table>\n",
       "</div>"
      ],
      "text/plain": [
       "                                                text             target  \\\n",
       "0                                   My Favorite Slut  hasBadWords.False   \n",
       "1  girlfriends sit on each other's faces with the...  hasBadWords.False   \n",
       "2                 bound beauty kisses her girlfriend  hasBadWords.False   \n",
       "3  MORGAN - Anytime - Nail Painting On The Slave'...  hasBadWords.False   \n",
       "4                  TRANSGENDER COACHING (wmv) PART 1  hasBadWords.False   \n",
       "\n",
       "                                          clean_text  \n",
       "0                                   my favorite slut  \n",
       "1  girlfriends sit on each other s faces with the...  \n",
       "2                 bound beauty kisses her girlfriend  \n",
       "3   morgan anytime nail painting on the slave s face  \n",
       "4                    transgender coaching wmv part 1  "
      ]
     },
     "execution_count": 6,
     "metadata": {},
     "output_type": "execute_result"
    }
   ],
   "source": [
    "\n",
    "df = df[['clean_text', 'target']]\n",
    "df.head()"
   ]
  },
  {
   "cell_type": "code",
   "execution_count": 7,
   "id": "05656968",
   "metadata": {},
   "outputs": [],
   "source": [
    "df_train, df_test = train_test_split(df, test_size=0.20, stratify=df.target)#, shuffle=True)"
   ]
  },
  {
   "cell_type": "code",
   "execution_count": 8,
   "id": "96a360dd",
   "metadata": {},
   "outputs": [],
   "source": [
    "vec = CountVectorizer(\n",
    "    ngram_range=(1, 3), \n",
    "    stop_words=\"english\",\n",
    ")\n",
    "\n",
    "X_train = vec.fit_transform(df_train.clean_text)\n",
    "X_test = vec.transform(df_test.clean_text)\n",
    "\n",
    "y_train = df_train.target\n",
    "y_test = df_test.target"
   ]
  },
  {
   "cell_type": "code",
   "execution_count": 34,
   "id": "d4f9d045",
   "metadata": {},
   "outputs": [
    {
     "name": "stdout",
     "output_type": "stream",
     "text": [
      "Best estimator: MultinomialNB(alpha=1e-05)\n",
      "Каппа-коэффициент Коэна:  0.5641204994146402\n",
      "                   precision    recall  f1-score   support\n",
      "\n",
      "hasBadWords.False       0.99      0.97      0.98     16632\n",
      " hasBadWords.True       0.49      0.71      0.58       656\n",
      "\n",
      "         accuracy                           0.96     17288\n",
      "        macro avg       0.74      0.84      0.78     17288\n",
      "     weighted avg       0.97      0.96      0.96     17288\n",
      "\n"
     ]
    }
   ],
   "source": [
    "from sklearn.model_selection import GridSearchCV\n",
    "param={'alpha': [0.00001, 0.0001, 0.001, 0.1, 1, 10, 100,1000]}\n",
    "\n",
    "nb = MultinomialNB()\n",
    "clf=GridSearchCV(nb, param, scoring='f1_macro', cv=10, return_train_score=True) \n",
    "\n",
    "clf.fit(X_train, y_train)\n",
    "print('Best estimator:', clf.best_estimator_)\n",
    "      \n",
    "preds = clf.predict(X_test)\n",
    "print('Каппа-коэффициент Коэна: ', cohen_kappa_score(y_test, preds))\n",
    "print(classification_report(y_test, preds))"
   ]
  },
  {
   "cell_type": "code",
   "execution_count": 22,
   "id": "915eb536",
   "metadata": {},
   "outputs": [],
   "source": [
    "new_df = pd.DataFrame(df_test.clean_text)"
   ]
  },
  {
   "cell_type": "code",
   "execution_count": 23,
   "id": "4255b67b",
   "metadata": {},
   "outputs": [],
   "source": [
    "new_df['predict'] = new_df.apply(lambda x: preds)"
   ]
  },
  {
   "cell_type": "code",
   "execution_count": 24,
   "id": "10cc7f6d",
   "metadata": {},
   "outputs": [
    {
     "data": {
      "text/html": [
       "<div>\n",
       "<style scoped>\n",
       "    .dataframe tbody tr th:only-of-type {\n",
       "        vertical-align: middle;\n",
       "    }\n",
       "\n",
       "    .dataframe tbody tr th {\n",
       "        vertical-align: top;\n",
       "    }\n",
       "\n",
       "    .dataframe thead th {\n",
       "        text-align: right;\n",
       "    }\n",
       "</style>\n",
       "<table border=\"1\" class=\"dataframe\">\n",
       "  <thead>\n",
       "    <tr style=\"text-align: right;\">\n",
       "      <th></th>\n",
       "      <th>clean_text</th>\n",
       "      <th>predict</th>\n",
       "    </tr>\n",
       "  </thead>\n",
       "  <tbody>\n",
       "    <tr>\n",
       "      <th>52388</th>\n",
       "      <td>9037 clip store</td>\n",
       "      <td>hasBadWords.False</td>\n",
       "    </tr>\n",
       "    <tr>\n",
       "      <th>35836</th>\n",
       "      <td>lotion oil fetish asmr redheads hairy bush sol...</td>\n",
       "      <td>hasBadWords.False</td>\n",
       "    </tr>\n",
       "    <tr>\n",
       "      <th>77116</th>\n",
       "      <td>cum in handy</td>\n",
       "      <td>hasBadWords.False</td>\n",
       "    </tr>\n",
       "    <tr>\n",
       "      <th>46912</th>\n",
       "      <td>3161 clip store</td>\n",
       "      <td>hasBadWords.False</td>\n",
       "    </tr>\n",
       "    <tr>\n",
       "      <th>3072</th>\n",
       "      <td>old man watches tempest play with herself</td>\n",
       "      <td>hasBadWords.False</td>\n",
       "    </tr>\n",
       "  </tbody>\n",
       "</table>\n",
       "</div>"
      ],
      "text/plain": [
       "                                              clean_text            predict\n",
       "52388                                    9037 clip store  hasBadWords.False\n",
       "35836  lotion oil fetish asmr redheads hairy bush sol...  hasBadWords.False\n",
       "77116                                       cum in handy  hasBadWords.False\n",
       "46912                                    3161 clip store  hasBadWords.False\n",
       "3072           old man watches tempest play with herself  hasBadWords.False"
      ]
     },
     "execution_count": 24,
     "metadata": {},
     "output_type": "execute_result"
    }
   ],
   "source": [
    "new_df.tail()"
   ]
  },
  {
   "cell_type": "code",
   "execution_count": 25,
   "id": "d782509b",
   "metadata": {},
   "outputs": [],
   "source": [
    "# new_df.to_csv('datasets/cat_pred.csv', index=False)"
   ]
  },
  {
   "cell_type": "code",
   "execution_count": 26,
   "id": "e6f88045",
   "metadata": {},
   "outputs": [
    {
     "data": {
      "text/plain": [
       "['vec.joblib']"
      ]
     },
     "execution_count": 26,
     "metadata": {},
     "output_type": "execute_result"
    }
   ],
   "source": [
    "# joblib.dump(nb, \"nb.joblib\")\n",
    "joblib.dump(clf, \"nb.joblib\")\n",
    "joblib.dump(vec, \"vec.joblib\")"
   ]
  },
  {
   "cell_type": "code",
   "execution_count": 27,
   "id": "5718a805",
   "metadata": {},
   "outputs": [],
   "source": [
    "nb_saved = joblib.load(\"nb.joblib\")\n",
    "vec_saved = joblib.load(\"vec.joblib\")"
   ]
  },
  {
   "cell_type": "code",
   "execution_count": 28,
   "id": "8c53900b",
   "metadata": {},
   "outputs": [
    {
     "name": "stdout",
     "output_type": "stream",
     "text": [
      "CPU times: user 6 µs, sys: 1 µs, total: 7 µs\n",
      "Wall time: 13.1 µs\n"
     ]
    },
    {
     "data": {
      "text/plain": [
       "array(['hasBadWords.True'], dtype='<U17')"
      ]
     },
     "execution_count": 28,
     "metadata": {},
     "output_type": "execute_result"
    }
   ],
   "source": [
    "%time\n",
    "# sample_text = [\"Space, Stars, Planets and Astronomy!\"]\n",
    "sample_text = [\"strap on dildo fucking male strap on amateur forced feminization strap on bondage whipping caning dildo female domination cross dressing spanking humiliation sissy slut big tits MILF blonde BDSM i sissy training dildo blow job        \"]\n",
    "clean_sample_text = process_text(sample_text)\n",
    "sample_vec = vec_saved.transform(sample_text)\n",
    "nb_saved.predict(sample_vec)"
   ]
  }
 ],
 "metadata": {
  "kernelspec": {
   "display_name": "Python 3 (ipykernel)",
   "language": "python",
   "name": "python3"
  },
  "language_info": {
   "codemirror_mode": {
    "name": "ipython",
    "version": 3
   },
   "file_extension": ".py",
   "mimetype": "text/x-python",
   "name": "python",
   "nbconvert_exporter": "python",
   "pygments_lexer": "ipython3",
   "version": "3.10.10"
  }
 },
 "nbformat": 4,
 "nbformat_minor": 5
}
