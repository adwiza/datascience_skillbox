{
 "cells": [
  {
   "cell_type": "code",
   "execution_count": 1,
   "id": "b4031bf1",
   "metadata": {},
   "outputs": [
    {
     "name": "stdout",
     "output_type": "stream",
     "text": [
      "2.12.0\n"
     ]
    }
   ],
   "source": [
    "import pandas as pd\n",
    "import numpy as np\n",
    "import multiprocessing\n",
    "from bs4 import BeautifulSoup as bs\n",
    "from selectolax.parser import HTMLParser\n",
    "import re\n",
    "import pymorphy2\n",
    "import nltk\n",
    "from nltk.tokenize import word_tokenize\n",
    "from nltk.corpus import stopwords\n",
    "import matplotlib.pyplot as plt\n",
    "import string\n",
    "\n",
    "import tensorflow as tf\n",
    "from tensorflow import keras\n",
    "from tensorflow.keras import layers\n",
    "from tensorflow.keras import losses\n",
    "from tensorflow.keras.preprocessing.text import Tokenizer\n",
    "from time import time  # To time our operations\n",
    "from collections import defaultdict, Counter  # For word frequency\n",
    "\n",
    "import collections\n",
    "import pathlib\n",
    "\n",
    "from tensorflow.keras import layers\n",
    "from tensorflow.keras import losses\n",
    "from tensorflow.keras import utils\n",
    "from tensorflow.keras.layers import TextVectorization\n",
    "\n",
    "import os\n",
    "import re\n",
    "import shutil\n",
    "import string\n",
    "\n",
    "\n",
    "\n",
    "print(tf.__version__)\n",
    "\n",
    "# import logging  # Setting up the loggings to monitor gensim\n",
    "# logging.basicConfig(format=\"%(levelname)s - %(asctime)s: %(message)s\", datefmt= '%H:%M:%S', level=logging.INFO)\n",
    "\n",
    "import warnings\n",
    "warnings.filterwarnings('ignore')"
   ]
  },
  {
   "cell_type": "code",
   "execution_count": 2,
   "id": "e576792f",
   "metadata": {},
   "outputs": [],
   "source": [
    "# Ignore  the warnings\n",
    "import warnings\n",
    "warnings.filterwarnings('always')\n",
    "warnings.filterwarnings('ignore')\n",
    "\n",
    "# data visualisation and manipulation\n",
    "import numpy as np\n",
    "import pandas as pd\n",
    "import matplotlib.pyplot as plt\n",
    "from matplotlib import style\n",
    "import seaborn as sns\n",
    "#configure\n",
    "# sets matplotlib to inline and displays graphs below the corressponding cell.\n",
    "%matplotlib inline  \n",
    "style.use('fivethirtyeight')\n",
    "sns.set(style='whitegrid',color_codes=True)\n",
    "\n",
    "#nltk\n",
    "import nltk\n",
    "\n",
    "#preprocessing\n",
    "from nltk.corpus import stopwords  #stopwords\n",
    "from nltk import word_tokenize,sent_tokenize # tokenizing\n",
    "from nltk.stem import PorterStemmer,LancasterStemmer  # using the Porter Stemmer and Lancaster Stemmer and others\n",
    "from nltk.stem.snowball import SnowballStemmer\n",
    "from nltk.stem import WordNetLemmatizer  # lammatizer from WordNet\n",
    "\n",
    "# for part-of-speech tagging\n",
    "from nltk import pos_tag\n",
    "\n",
    "# for named entity recognition (NER)\n",
    "from nltk import ne_chunk\n",
    "\n",
    "# vectorizers for creating the document-term-matrix (DTM)\n",
    "from sklearn.feature_extraction.text import TfidfVectorizer,CountVectorizer\n",
    "\n",
    "# BeautifulSoup libraray\n",
    "from bs4 import BeautifulSoup \n",
    "\n",
    "import re # regex\n",
    "\n",
    "#model_selection\n",
    "from sklearn.model_selection import train_test_split,cross_validate\n",
    "from sklearn.model_selection import KFold\n",
    "from sklearn.model_selection import GridSearchCV\n",
    "\n",
    "#evaluation\n",
    "from sklearn.metrics import accuracy_score,roc_auc_score \n",
    "from sklearn.metrics import classification_report\n",
    "from mlxtend.plotting import plot_confusion_matrix\n",
    "\n",
    "#preprocessing scikit\n",
    "from sklearn.preprocessing import MinMaxScaler,StandardScaler,LabelEncoder\n",
    "from sklearn.impute import SimpleImputer\n",
    "\n",
    "#classifiaction.\n",
    "from sklearn.linear_model import LogisticRegression\n",
    "from sklearn.svm import LinearSVC,SVC\n",
    "from sklearn.neighbors import KNeighborsClassifier\n",
    "from sklearn.ensemble import RandomForestClassifier,GradientBoostingClassifier,AdaBoostClassifier\n",
    "from sklearn.tree import DecisionTreeClassifier\n",
    "from sklearn.naive_bayes import GaussianNB,MultinomialNB\n",
    " \n",
    "#stop-words\n",
    "stop_words=set(nltk.corpus.stopwords.words('english'))\n",
    "\n",
    "#keras\n",
    "import keras\n",
    "from keras.preprocessing.text import one_hot,Tokenizer\n",
    "from keras.utils import pad_sequences\n",
    "from keras.models import Sequential\n",
    "from keras.layers import Dense , Flatten ,Embedding,Input,CuDNNLSTM,LSTM\n",
    "from keras.models import Model\n",
    "from keras.preprocessing.text import text_to_word_sequence\n",
    "\n",
    "#gensim w2v\n",
    "#word2vec\n",
    "from gensim.models import Word2Vec"
   ]
  },
  {
   "cell_type": "code",
   "execution_count": 3,
   "id": "770689b0",
   "metadata": {},
   "outputs": [
    {
     "name": "stderr",
     "output_type": "stream",
     "text": [
      "[nltk_data] Downloading package punkt to /Users/adwiz/nltk_data...\n",
      "[nltk_data]   Package punkt is already up-to-date!\n",
      "[nltk_data] Downloading package stopwords to /Users/adwiz/nltk_data...\n",
      "[nltk_data]   Package stopwords is already up-to-date!\n"
     ]
    },
    {
     "data": {
      "text/plain": [
       "True"
      ]
     },
     "execution_count": 3,
     "metadata": {},
     "output_type": "execute_result"
    }
   ],
   "source": [
    "nltk.download('punkt')\n",
    "nltk.download('stopwords')"
   ]
  },
  {
   "cell_type": "code",
   "execution_count": 4,
   "id": "f668d2db",
   "metadata": {},
   "outputs": [],
   "source": [
    "# from subprocess import check_output\n",
    "# print(check_output([\"ls\", \"../datasets/\"]).decode(\"utf8\"))"
   ]
  },
  {
   "cell_type": "code",
   "execution_count": 5,
   "id": "1fd58db8",
   "metadata": {},
   "outputs": [],
   "source": [
    "def read_train_data():\n",
    "    data = pd.read_json('../datasets/dataset.json')\n",
    "    mapping = {False: 0, True: 1}\n",
    "    data.replace({'hasBadWords': mapping}, inplace=True)\n",
    "    data.rename(columns={\"hasBadWords\": \"labels\"}, inplace=True)\n",
    "    data.rename(columns={\"text\": \"raw_text\"}, inplace=True)\n",
    "    data.drop(['violation'], axis=1, inplace=True)\n",
    "    print('Data size %d' % len(data))\n",
    "    print('Data headers %s' % data.columns.values)\n",
    "    return data"
   ]
  },
  {
   "cell_type": "markdown",
   "id": "21ecf957",
   "metadata": {},
   "source": [
    "# Preprocessing function"
   ]
  },
  {
   "cell_type": "code",
   "execution_count": 6,
   "id": "047885b0",
   "metadata": {},
   "outputs": [
    {
     "name": "stdout",
     "output_type": "stream",
     "text": [
      "Data size 86439\n",
      "Data headers ['raw_text' 'labels']\n"
     ]
    }
   ],
   "source": [
    "data = read_train_data()"
   ]
  },
  {
   "cell_type": "code",
   "execution_count": 7,
   "id": "6c6f1545",
   "metadata": {},
   "outputs": [],
   "source": [
    "# function to clean and pre-process the text.\n",
    "def clean_text(text):  \n",
    "    \n",
    "    # 1. Removing html tags\n",
    "    text = bs(text,\"lxml\").get_text()\n",
    "    \n",
    "    # 2. Retaining only alphabets.\n",
    "    text = re.sub(\"[^a-zA-Z]\",\" \", text)\n",
    "    \n",
    "    # 3. Converting to lower case and splitting\n",
    "    word_tokens = text.lower().split()\n",
    "    \n",
    "    # 4. Remove stopwords\n",
    "    le = WordNetLemmatizer()\n",
    "    stop_words = set(stopwords.words(\"english\")+ ['14000kbps', 'november', '1080p', 'email', \n",
    "                                                 '4k', 'mp4', 'error', '404', '2022'])     \n",
    "    word_tokens = [le.lemmatize(w) for w in word_tokens if not w in stop_words]\n",
    "    \n",
    "    cleaned_review = word_tokens #\" \".join(word_tokens)\n",
    "    return cleaned_review"
   ]
  },
  {
   "cell_type": "code",
   "execution_count": 8,
   "id": "e066efc5",
   "metadata": {},
   "outputs": [],
   "source": [
    "data['text'] = data.apply(lambda row: clean_text(row.raw_text), axis=1)"
   ]
  },
  {
   "cell_type": "code",
   "execution_count": 9,
   "id": "30f324d2",
   "metadata": {},
   "outputs": [
    {
     "data": {
      "text/html": [
       "<div>\n",
       "<style scoped>\n",
       "    .dataframe tbody tr th:only-of-type {\n",
       "        vertical-align: middle;\n",
       "    }\n",
       "\n",
       "    .dataframe tbody tr th {\n",
       "        vertical-align: top;\n",
       "    }\n",
       "\n",
       "    .dataframe thead th {\n",
       "        text-align: right;\n",
       "    }\n",
       "</style>\n",
       "<table border=\"1\" class=\"dataframe\">\n",
       "  <thead>\n",
       "    <tr style=\"text-align: right;\">\n",
       "      <th></th>\n",
       "      <th>raw_text</th>\n",
       "      <th>labels</th>\n",
       "      <th>text</th>\n",
       "    </tr>\n",
       "  </thead>\n",
       "  <tbody>\n",
       "    <tr>\n",
       "      <th>0</th>\n",
       "      <td>My Favorite Slut</td>\n",
       "      <td>0</td>\n",
       "      <td>[favorite, slut]</td>\n",
       "    </tr>\n",
       "    <tr>\n",
       "      <th>1</th>\n",
       "      <td>girlfriends sit on each other's faces with the...</td>\n",
       "      <td>0</td>\n",
       "      <td>[girlfriend, sit, face, ass]</td>\n",
       "    </tr>\n",
       "    <tr>\n",
       "      <th>2</th>\n",
       "      <td>bound beauty kisses her girlfriend</td>\n",
       "      <td>0</td>\n",
       "      <td>[bound, beauty, kiss, girlfriend]</td>\n",
       "    </tr>\n",
       "    <tr>\n",
       "      <th>3</th>\n",
       "      <td>MORGAN - Anytime - Nail Painting On The Slave'...</td>\n",
       "      <td>0</td>\n",
       "      <td>[morgan, anytime, nail, painting, slave, face]</td>\n",
       "    </tr>\n",
       "    <tr>\n",
       "      <th>4</th>\n",
       "      <td>TRANSGENDER COACHING (wmv) PART 1</td>\n",
       "      <td>0</td>\n",
       "      <td>[transgender, coaching, wmv, part]</td>\n",
       "    </tr>\n",
       "  </tbody>\n",
       "</table>\n",
       "</div>"
      ],
      "text/plain": [
       "                                            raw_text  labels   \n",
       "0                                   My Favorite Slut       0  \\\n",
       "1  girlfriends sit on each other's faces with the...       0   \n",
       "2                 bound beauty kisses her girlfriend       0   \n",
       "3  MORGAN - Anytime - Nail Painting On The Slave'...       0   \n",
       "4                  TRANSGENDER COACHING (wmv) PART 1       0   \n",
       "\n",
       "                                             text  \n",
       "0                                [favorite, slut]  \n",
       "1                    [girlfriend, sit, face, ass]  \n",
       "2               [bound, beauty, kiss, girlfriend]  \n",
       "3  [morgan, anytime, nail, painting, slave, face]  \n",
       "4              [transgender, coaching, wmv, part]  "
      ]
     },
     "execution_count": 9,
     "metadata": {},
     "output_type": "execute_result"
    }
   ],
   "source": [
    "data.head()"
   ]
  },
  {
   "cell_type": "code",
   "execution_count": 10,
   "id": "b40b1f9f",
   "metadata": {},
   "outputs": [],
   "source": [
    "data = data[['text', 'labels']]#, 'raw_text']] # columns reorder"
   ]
  },
  {
   "cell_type": "code",
   "execution_count": 11,
   "id": "53ec9516",
   "metadata": {},
   "outputs": [
    {
     "data": {
      "text/html": [
       "<div>\n",
       "<style scoped>\n",
       "    .dataframe tbody tr th:only-of-type {\n",
       "        vertical-align: middle;\n",
       "    }\n",
       "\n",
       "    .dataframe tbody tr th {\n",
       "        vertical-align: top;\n",
       "    }\n",
       "\n",
       "    .dataframe thead th {\n",
       "        text-align: right;\n",
       "    }\n",
       "</style>\n",
       "<table border=\"1\" class=\"dataframe\">\n",
       "  <thead>\n",
       "    <tr style=\"text-align: right;\">\n",
       "      <th></th>\n",
       "      <th>text</th>\n",
       "      <th>labels</th>\n",
       "    </tr>\n",
       "  </thead>\n",
       "  <tbody>\n",
       "    <tr>\n",
       "      <th>0</th>\n",
       "      <td>[favorite, slut]</td>\n",
       "      <td>0</td>\n",
       "    </tr>\n",
       "    <tr>\n",
       "      <th>1</th>\n",
       "      <td>[girlfriend, sit, face, ass]</td>\n",
       "      <td>0</td>\n",
       "    </tr>\n",
       "    <tr>\n",
       "      <th>2</th>\n",
       "      <td>[bound, beauty, kiss, girlfriend]</td>\n",
       "      <td>0</td>\n",
       "    </tr>\n",
       "    <tr>\n",
       "      <th>3</th>\n",
       "      <td>[morgan, anytime, nail, painting, slave, face]</td>\n",
       "      <td>0</td>\n",
       "    </tr>\n",
       "    <tr>\n",
       "      <th>4</th>\n",
       "      <td>[transgender, coaching, wmv, part]</td>\n",
       "      <td>0</td>\n",
       "    </tr>\n",
       "  </tbody>\n",
       "</table>\n",
       "</div>"
      ],
      "text/plain": [
       "                                             text  labels\n",
       "0                                [favorite, slut]       0\n",
       "1                    [girlfriend, sit, face, ass]       0\n",
       "2               [bound, beauty, kiss, girlfriend]       0\n",
       "3  [morgan, anytime, nail, painting, slave, face]       0\n",
       "4              [transgender, coaching, wmv, part]       0"
      ]
     },
     "execution_count": 11,
     "metadata": {},
     "output_type": "execute_result"
    }
   ],
   "source": [
    "data.head()"
   ]
  },
  {
   "cell_type": "markdown",
   "id": "51b76aef",
   "metadata": {},
   "source": [
    "# Simple vectorzation"
   ]
  },
  {
   "cell_type": "code",
   "execution_count": 12,
   "id": "0b34f90e",
   "metadata": {},
   "outputs": [],
   "source": [
    "# Count unique words\n",
    "def counter_word(text_col):\n",
    "    count = Counter()\n",
    "    for text in text_col.values:\n",
    "        for word in text.split():\n",
    "            count[word] += 1\n",
    "    return count"
   ]
  },
  {
   "cell_type": "code",
   "execution_count": 13,
   "id": "b7eed25d",
   "metadata": {},
   "outputs": [],
   "source": [
    "#words = counter_word(data.text)\n",
    "words = Counter()"
   ]
  },
  {
   "cell_type": "code",
   "execution_count": 14,
   "id": "f9c2b42d",
   "metadata": {},
   "outputs": [],
   "source": [
    "for text in data['text']:\n",
    "    words.update(text)"
   ]
  },
  {
   "cell_type": "code",
   "execution_count": 15,
   "id": "8d7aa566",
   "metadata": {},
   "outputs": [
    {
     "data": {
      "text/plain": [
       "52659"
      ]
     },
     "execution_count": 15,
     "metadata": {},
     "output_type": "execute_result"
    }
   ],
   "source": [
    "len(words)"
   ]
  },
  {
   "cell_type": "code",
   "execution_count": 16,
   "id": "ba5d5684",
   "metadata": {},
   "outputs": [
    {
     "data": {
      "text/plain": [
       "[('foot', 40360),\n",
       " ('fetish', 26751),\n",
       " ('clip', 19402),\n",
       " ('as', 13295),\n",
       " ('video', 13142),\n",
       " ('girl', 12521),\n",
       " ('big', 10888),\n",
       " ('domination', 10362),\n",
       " ('store', 9679),\n",
       " ('cum', 9484)]"
      ]
     },
     "execution_count": 16,
     "metadata": {},
     "output_type": "execute_result"
    }
   ],
   "source": [
    "words.most_common(10)"
   ]
  },
  {
   "cell_type": "code",
   "execution_count": 17,
   "id": "0b983d42",
   "metadata": {},
   "outputs": [
    {
     "data": {
      "image/png": "[encoded data removed]",
      "text/plain": [
       "<Figure size 640x480 with 1 Axes>"
      ]
     },
     "metadata": {},
     "output_type": "display_data"
    }
   ],
   "source": [
    "from wordcloud import *\n",
    "word_freq = [i for i in words.most_common(100)]\n",
    "wd = WordCloud(background_color='white')\n",
    "wd.generate_from_frequencies(dict(word_freq))\n",
    "plt.figure()\n",
    "plt.imshow(wd, interpolation = 'bilinear')\n",
    "plt.axis('off')\n",
    "plt.show()"
   ]
  },
  {
   "cell_type": "markdown",
   "id": "440e2ade",
   "metadata": {},
   "source": [
    "# Create dictionary ordered by frequency\n",
    "\n",
    "Start from 2, because of\n",
    "\n",
    "* 0 - code filler\n",
    "* 1 - unknown word"
   ]
  },
  {
   "cell_type": "code",
   "execution_count": 18,
   "id": "a10d6b39",
   "metadata": {},
   "outputs": [],
   "source": [
    "word_to_index = dict()\n",
    "index_to_word = dict()"
   ]
  },
  {
   "cell_type": "code",
   "execution_count": 19,
   "id": "703a2f9d",
   "metadata": {},
   "outputs": [],
   "source": [
    "max_words = 10000"
   ]
  },
  {
   "cell_type": "code",
   "execution_count": 20,
   "id": "dbe66508",
   "metadata": {},
   "outputs": [],
   "source": [
    "for i, word in enumerate(words.most_common(max_words - 2)):\n",
    "    word_to_index[word[0]] = i + 2\n",
    "    index_to_word[i + 2] = word[0]"
   ]
  },
  {
   "cell_type": "code",
   "execution_count": 21,
   "id": "65b5b239",
   "metadata": {},
   "outputs": [],
   "source": [
    "#word_to_index"
   ]
  },
  {
   "cell_type": "code",
   "execution_count": 22,
   "id": "36587fa7",
   "metadata": {},
   "outputs": [],
   "source": [
    "#index_to_word"
   ]
  },
  {
   "cell_type": "code",
   "execution_count": 23,
   "id": "42d7bd58",
   "metadata": {},
   "outputs": [],
   "source": [
    "def text_to_sequence(txt, word_to_index):\n",
    "    seq = []\n",
    "    for word in txt:\n",
    "        index = word_to_index.get(word, 1) # 1 - unknown word\n",
    "        # Unknown words doesn't include to output sequence\n",
    "        if index != 1:\n",
    "            seq.append(index)\n",
    "    return seq"
   ]
  },
  {
   "cell_type": "code",
   "execution_count": 24,
   "id": "c440162b",
   "metadata": {},
   "outputs": [],
   "source": [
    "txt = data['text'][10]"
   ]
  },
  {
   "cell_type": "code",
   "execution_count": 25,
   "id": "31e39b41",
   "metadata": {},
   "outputs": [],
   "source": [
    "seq = [word_to_index.get(word, 1) for word in txt]"
   ]
  },
  {
   "cell_type": "code",
   "execution_count": 26,
   "id": "f3b9de44",
   "metadata": {},
   "outputs": [
    {
     "name": "stdout",
     "output_type": "stream",
     "text": [
      "['morgan', 'anytime', 'lick', 'sexy', 'mule', 'clean', 'shoe', 'worship', 'domination']\n",
      "[1081, 2867, 169, 18, 1545, 402, 33, 12, 9]\n"
     ]
    }
   ],
   "source": [
    "print(txt)\n",
    "print(seq)"
   ]
  },
  {
   "cell_type": "code",
   "execution_count": 27,
   "id": "50389b0a",
   "metadata": {},
   "outputs": [
    {
     "data": {
      "text/plain": [
       "'domination'"
      ]
     },
     "execution_count": 27,
     "metadata": {},
     "output_type": "execute_result"
    }
   ],
   "source": [
    "index_to_word[9]"
   ]
  },
  {
   "cell_type": "code",
   "execution_count": 28,
   "id": "12daaacd",
   "metadata": {},
   "outputs": [],
   "source": [
    "data['sequences'] = data.apply(lambda row: text_to_sequence(row['text'], word_to_index), axis=1)\n",
    "data = data[['text', 'sequences', 'labels']] # columns reorder"
   ]
  },
  {
   "cell_type": "code",
   "execution_count": 29,
   "id": "6f5111c6",
   "metadata": {},
   "outputs": [
    {
     "data": {
      "text/html": [
       "<div>\n",
       "<style scoped>\n",
       "    .dataframe tbody tr th:only-of-type {\n",
       "        vertical-align: middle;\n",
       "    }\n",
       "\n",
       "    .dataframe tbody tr th {\n",
       "        vertical-align: top;\n",
       "    }\n",
       "\n",
       "    .dataframe thead th {\n",
       "        text-align: right;\n",
       "    }\n",
       "</style>\n",
       "<table border=\"1\" class=\"dataframe\">\n",
       "  <thead>\n",
       "    <tr style=\"text-align: right;\">\n",
       "      <th></th>\n",
       "      <th>text</th>\n",
       "      <th>sequences</th>\n",
       "      <th>labels</th>\n",
       "    </tr>\n",
       "  </thead>\n",
       "  <tbody>\n",
       "    <tr>\n",
       "      <th>0</th>\n",
       "      <td>[favorite, slut]</td>\n",
       "      <td>[709, 89]</td>\n",
       "      <td>0</td>\n",
       "    </tr>\n",
       "    <tr>\n",
       "      <th>1</th>\n",
       "      <td>[girlfriend, sit, face, ass]</td>\n",
       "      <td>[462, 425, 16, 868]</td>\n",
       "      <td>0</td>\n",
       "    </tr>\n",
       "    <tr>\n",
       "      <th>2</th>\n",
       "      <td>[bound, beauty, kiss, girlfriend]</td>\n",
       "      <td>[135, 438, 331, 462]</td>\n",
       "      <td>0</td>\n",
       "    </tr>\n",
       "    <tr>\n",
       "      <th>3</th>\n",
       "      <td>[morgan, anytime, nail, painting, slave, face]</td>\n",
       "      <td>[1081, 2867, 200, 2095, 15, 16]</td>\n",
       "      <td>0</td>\n",
       "    </tr>\n",
       "    <tr>\n",
       "      <th>4</th>\n",
       "      <td>[transgender, coaching, wmv, part]</td>\n",
       "      <td>[2005, 124, 85]</td>\n",
       "      <td>0</td>\n",
       "    </tr>\n",
       "  </tbody>\n",
       "</table>\n",
       "</div>"
      ],
      "text/plain": [
       "                                             text   \n",
       "0                                [favorite, slut]  \\\n",
       "1                    [girlfriend, sit, face, ass]   \n",
       "2               [bound, beauty, kiss, girlfriend]   \n",
       "3  [morgan, anytime, nail, painting, slave, face]   \n",
       "4              [transgender, coaching, wmv, part]   \n",
       "\n",
       "                         sequences  labels  \n",
       "0                        [709, 89]       0  \n",
       "1              [462, 425, 16, 868]       0  \n",
       "2             [135, 438, 331, 462]       0  \n",
       "3  [1081, 2867, 200, 2095, 15, 16]       0  \n",
       "4                  [2005, 124, 85]       0  "
      ]
     },
     "execution_count": 29,
     "metadata": {},
     "output_type": "execute_result"
    }
   ],
   "source": [
    "data.head()"
   ]
  },
  {
   "cell_type": "markdown",
   "id": "cbb477a4",
   "metadata": {},
   "source": [
    "# Make the bag of words"
   ]
  },
  {
   "cell_type": "code",
   "execution_count": 30,
   "id": "bdd5cf97",
   "metadata": {},
   "outputs": [],
   "source": [
    "def vectorize_sequences(sequences, dimension=10000):\n",
    "    results = np.zeros((len(sequences), dimension))\n",
    "    for i, sequence in enumerate(sequences):\n",
    "        for index in sequence:\n",
    "            results[i, index] += 1.\n",
    "    return results"
   ]
  },
  {
   "cell_type": "code",
   "execution_count": 31,
   "id": "66878106",
   "metadata": {},
   "outputs": [],
   "source": [
    "vactors = vectorize_sequences(data['sequences'], max_words)"
   ]
  },
  {
   "cell_type": "markdown",
   "id": "e2d0093c",
   "metadata": {},
   "source": [
    "# Word2Vec learn"
   ]
  },
  {
   "cell_type": "code",
   "execution_count": 32,
   "id": "eb66b241",
   "metadata": {},
   "outputs": [],
   "source": [
    "import gensim.models"
   ]
  },
  {
   "cell_type": "code",
   "execution_count": 33,
   "id": "0d7d350e",
   "metadata": {},
   "outputs": [
    {
     "name": "stdout",
     "output_type": "stream",
     "text": [
      "Time to build vocab: 0.09 mins\n"
     ]
    }
   ],
   "source": [
    "t = time()\n",
    "\n",
    "# Creating model\n",
    "cores = multiprocessing.cpu_count()\n",
    "\n",
    "w2v_model = gensim.models.Word2Vec(data['text'],\n",
    "                               min_count=1,\n",
    "                               window=3,\n",
    "                               sample=6e-5, \n",
    "                               alpha=0.03,\n",
    "                               min_alpha=0.0007,\n",
    "                               negative=20,)\n",
    "                               #workers=cores-1)\n",
    "\n",
    "# min_count=2 - how many times word in set\n",
    "\n",
    "print('Time to build vocab: {} mins'.format(round((time() - t) / 60, 2)))"
   ]
  },
  {
   "cell_type": "code",
   "execution_count": 34,
   "id": "8415ed00",
   "metadata": {},
   "outputs": [],
   "source": [
    "w2v_model.build_vocab(data['text'], progress_per=1000)"
   ]
  },
  {
   "cell_type": "code",
   "execution_count": 35,
   "id": "c1f26e2c",
   "metadata": {},
   "outputs": [
    {
     "name": "stdout",
     "output_type": "stream",
     "text": [
      "Time to train the model: 0.48 mins\n"
     ]
    }
   ],
   "source": [
    "t = time()\n",
    "\n",
    "w2v_model.train(data['text'], total_examples=w2v_model.corpus_count, epochs=30, report_delay=1)\n",
    "\n",
    "print('Time to train the model: {} mins'.format(round((time() - t) / 60, 2)))"
   ]
  },
  {
   "cell_type": "code",
   "execution_count": 36,
   "id": "1205e4d8",
   "metadata": {},
   "outputs": [
    {
     "data": {
      "text/plain": [
       "array([-1.5777873 ,  0.0955653 , -0.11120126, -0.43514183,  0.34534177,\n",
       "        0.9558935 , -0.8373334 ,  0.9033173 , -0.7473246 ,  0.7204027 ,\n",
       "       -0.82049304,  0.6098101 , -0.76265585,  0.11437129, -1.1652796 ,\n",
       "       -0.66121125,  0.5405814 , -0.21270001,  0.7271348 ,  0.132518  ,\n",
       "        1.2678565 ,  1.2161983 ,  0.65885985,  0.96572655,  0.9761747 ,\n",
       "       -0.47487628,  0.9669104 ,  0.04296661, -0.6060566 , -0.0169639 ,\n",
       "       -0.38032186,  0.6848404 , -1.1555619 , -0.51599735,  0.1845316 ,\n",
       "        0.6320226 ,  0.6931581 , -0.14404707, -0.31879646,  0.41641888,\n",
       "        1.1814036 ,  0.65092474, -0.16006508, -0.1588715 ,  1.958122  ,\n",
       "        0.02780686,  0.8297488 ,  0.34752223,  0.58064234, -2.1911328 ,\n",
       "       -0.2533787 , -0.13357952,  0.9172124 ,  1.8621312 ,  0.5619504 ,\n",
       "        0.8953978 , -0.4914977 ,  0.32998514, -0.2680355 ,  0.05234768,\n",
       "       -0.9573229 , -0.5110791 ,  0.18041179,  1.7746918 , -1.217698  ,\n",
       "        0.47743696,  0.2761381 ,  1.2256862 ,  0.12907483, -1.2658836 ,\n",
       "       -0.26249352, -0.9844323 ,  0.2787286 , -0.20702125,  0.45835596,\n",
       "       -0.7170285 , -0.34308183,  0.4883682 ,  1.173919  , -0.4525588 ,\n",
       "       -0.79201585, -0.40664977, -1.7722595 ,  0.7517358 ,  1.7042345 ,\n",
       "        1.1840873 ,  0.6648368 ,  0.37762797, -0.3053312 ,  0.7530154 ,\n",
       "        0.57364917,  1.0346619 , -0.83324885, -0.21098964, -0.6752142 ,\n",
       "       -0.02977534,  0.7193983 , -0.9488222 ,  0.6644883 ,  0.19647649],\n",
       "      dtype=float32)"
      ]
     },
     "execution_count": 36,
     "metadata": {},
     "output_type": "execute_result"
    }
   ],
   "source": [
    "w2v_model.wv['slut']"
   ]
  },
  {
   "cell_type": "code",
   "execution_count": 39,
   "id": "f3516102",
   "metadata": {},
   "outputs": [
    {
     "data": {
      "text/plain": [
       "[('submissive', 0.7390252351760864),\n",
       " ('whore', 0.7333680987358093),\n",
       " ('sissy', 0.6842961311340332),\n",
       " ('fucking', 0.6110881567001343),\n",
       " ('cocksucker', 0.6013455390930176),\n",
       " ('fuck', 0.5882770419120789),\n",
       " ('training', 0.5874873399734497),\n",
       " ('sex', 0.5773995518684387),\n",
       " ('cunt', 0.5667006969451904),\n",
       " ('strap', 0.5637659430503845)]"
      ]
     },
     "execution_count": 39,
     "metadata": {},
     "output_type": "execute_result"
    }
   ],
   "source": [
    "w2v_model.wv.most_similar('slut')"
   ]
  },
  {
   "cell_type": "markdown",
   "id": "74166763",
   "metadata": {},
   "source": [
    "# Model saving"
   ]
  },
  {
   "cell_type": "code",
   "execution_count": 40,
   "id": "66e73dc4",
   "metadata": {},
   "outputs": [],
   "source": [
    "w2v_model.save('../models/word2vec-80k.model')"
   ]
  },
  {
   "cell_type": "markdown",
   "id": "a7787028",
   "metadata": {},
   "source": [
    "# Model loading"
   ]
  },
  {
   "cell_type": "code",
   "execution_count": 41,
   "id": "e80bb4c5",
   "metadata": {},
   "outputs": [],
   "source": [
    "new_w2v_model = gensim.models.Word2Vec.load('../models/word2vec-80k.model')"
   ]
  },
  {
   "cell_type": "code",
   "execution_count": 42,
   "id": "062e423a",
   "metadata": {},
   "outputs": [
    {
     "data": {
      "text/plain": [
       "[('submissive', 0.7390252351760864),\n",
       " ('whore', 0.7333680987358093),\n",
       " ('sissy', 0.6842961311340332),\n",
       " ('fucking', 0.6110881567001343),\n",
       " ('cocksucker', 0.6013455390930176),\n",
       " ('fuck', 0.5882770419120789),\n",
       " ('training', 0.5874873399734497),\n",
       " ('sex', 0.5773995518684387),\n",
       " ('cunt', 0.5667006969451904),\n",
       " ('strap', 0.5637659430503845)]"
      ]
     },
     "execution_count": 42,
     "metadata": {},
     "output_type": "execute_result"
    }
   ],
   "source": [
    "new_w2v_model.wv.most_similar('slut')"
   ]
  },
  {
   "cell_type": "code",
   "execution_count": 43,
   "id": "23e8078b",
   "metadata": {},
   "outputs": [
    {
     "data": {
      "text/plain": [
       "0.64281046"
      ]
     },
     "execution_count": 43,
     "metadata": {},
     "output_type": "execute_result"
    }
   ],
   "source": [
    "new_w2v_model.wv.similarity(w1=\"fuck\", w2=\"sex\")"
   ]
  },
  {
   "cell_type": "code",
   "execution_count": 44,
   "id": "60c8b039",
   "metadata": {},
   "outputs": [
    {
     "name": "stdout",
     "output_type": "stream",
     "text": [
      "dimension:  (86439, 3)\n"
     ]
    },
    {
     "data": {
      "text/html": [
       "<div>\n",
       "<style scoped>\n",
       "    .dataframe tbody tr th:only-of-type {\n",
       "        vertical-align: middle;\n",
       "    }\n",
       "\n",
       "    .dataframe tbody tr th {\n",
       "        vertical-align: top;\n",
       "    }\n",
       "\n",
       "    .dataframe thead th {\n",
       "        text-align: right;\n",
       "    }\n",
       "</style>\n",
       "<table border=\"1\" class=\"dataframe\">\n",
       "  <thead>\n",
       "    <tr style=\"text-align: right;\">\n",
       "      <th></th>\n",
       "      <th>text</th>\n",
       "      <th>sequences</th>\n",
       "      <th>labels</th>\n",
       "    </tr>\n",
       "  </thead>\n",
       "  <tbody>\n",
       "    <tr>\n",
       "      <th>0</th>\n",
       "      <td>[favorite, slut]</td>\n",
       "      <td>[709, 89]</td>\n",
       "      <td>0</td>\n",
       "    </tr>\n",
       "    <tr>\n",
       "      <th>1</th>\n",
       "      <td>[girlfriend, sit, face, ass]</td>\n",
       "      <td>[462, 425, 16, 868]</td>\n",
       "      <td>0</td>\n",
       "    </tr>\n",
       "    <tr>\n",
       "      <th>2</th>\n",
       "      <td>[bound, beauty, kiss, girlfriend]</td>\n",
       "      <td>[135, 438, 331, 462]</td>\n",
       "      <td>0</td>\n",
       "    </tr>\n",
       "    <tr>\n",
       "      <th>3</th>\n",
       "      <td>[morgan, anytime, nail, painting, slave, face]</td>\n",
       "      <td>[1081, 2867, 200, 2095, 15, 16]</td>\n",
       "      <td>0</td>\n",
       "    </tr>\n",
       "    <tr>\n",
       "      <th>4</th>\n",
       "      <td>[transgender, coaching, wmv, part]</td>\n",
       "      <td>[2005, 124, 85]</td>\n",
       "      <td>0</td>\n",
       "    </tr>\n",
       "  </tbody>\n",
       "</table>\n",
       "</div>"
      ],
      "text/plain": [
       "                                             text   \n",
       "0                                [favorite, slut]  \\\n",
       "1                    [girlfriend, sit, face, ass]   \n",
       "2               [bound, beauty, kiss, girlfriend]   \n",
       "3  [morgan, anytime, nail, painting, slave, face]   \n",
       "4              [transgender, coaching, wmv, part]   \n",
       "\n",
       "                         sequences labels  \n",
       "0                        [709, 89]      0  \n",
       "1              [462, 425, 16, 868]      0  \n",
       "2             [135, 438, 331, 462]      0  \n",
       "3  [1081, 2867, 200, 2095, 15, 16]      0  \n",
       "4                  [2005, 124, 85]      0  "
      ]
     },
     "execution_count": 44,
     "metadata": {},
     "output_type": "execute_result"
    }
   ],
   "source": [
    "data['labels'] = data['labels'].astype('category')\n",
    "print('dimension: ', data.shape)\n",
    "data.head()"
   ]
  },
  {
   "cell_type": "code",
   "execution_count": 45,
   "id": "571c8b8c",
   "metadata": {},
   "outputs": [],
   "source": [
    "label_mapping = data['labels'].cat.categories\n",
    "data['labels'] = data['labels'].cat.codes\n",
    "X = data['text']\n",
    "y = data['labels']"
   ]
  },
  {
   "cell_type": "code",
   "execution_count": 58,
   "id": "e7d59ca4",
   "metadata": {},
   "outputs": [],
   "source": [
    "test_size = 0.1\n",
    "random_state = 1234\n",
    "\n",
    "X_train, X_test, y_train, y_test = train_test_split(\n",
    "    X, y, test_size=test_size, random_state=random_state, stratify=y)\n",
    "\n",
    "val_size = 0.1\n",
    "X_train, X_val, y_train, y_val = train_test_split(\n",
    "    X_train, y_train, test_size=val_size, random_state=random_state, stratify=y_train)"
   ]
  },
  {
   "cell_type": "markdown",
   "id": "9c3ac013",
   "metadata": {},
   "source": [
    "# Keras implementation"
   ]
  },
  {
   "cell_type": "code",
   "execution_count": null,
   "id": "8d75359f",
   "metadata": {},
   "outputs": [],
   "source": []
  },
  {
   "cell_type": "code",
   "execution_count": null,
   "id": "c1b95cd5",
   "metadata": {},
   "outputs": [],
   "source": []
  }
 ],
 "metadata": {
  "kernelspec": {
   "display_name": "Python 3 (ipykernel)",
   "language": "python",
   "name": "python3"
  },
  "language_info": {
   "codemirror_mode": {
    "name": "ipython",
    "version": 3
   },
   "file_extension": ".py",
   "mimetype": "text/x-python",
   "name": "python",
   "nbconvert_exporter": "python",
   "pygments_lexer": "ipython3",
   "version": "3.8.12"
  },
  "toc": {
   "base_numbering": 1,
   "nav_menu": {},
   "number_sections": true,
   "sideBar": true,
   "skip_h1_title": false,
   "title_cell": "Table of Contents",
   "title_sidebar": "Contents",
   "toc_cell": false,
   "toc_position": {},
   "toc_section_display": true,
   "toc_window_display": false
  }
 },
 "nbformat": 4,
 "nbformat_minor": 5
}
