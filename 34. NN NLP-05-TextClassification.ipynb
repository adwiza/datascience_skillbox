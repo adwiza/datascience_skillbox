{
 "cells": [
  {
   "cell_type": "code",
   "execution_count": 1,
   "id": "8a03bdbb",
   "metadata": {},
   "outputs": [
    {
     "name": "stdout",
     "output_type": "stream",
     "text": [
      "2.12.0\n"
     ]
    }
   ],
   "source": [
    "import tensorflow as tf\n",
    "import numpy as np\n",
    "\n",
    "print(tf.__version__)"
   ]
  },
  {
   "cell_type": "code",
   "execution_count": 5,
   "id": "77411941",
   "metadata": {},
   "outputs": [
    {
     "name": "stdout",
     "output_type": "stream",
     "text": [
      "(2, 100)\n"
     ]
    }
   ],
   "source": [
    "BATCH_SIZE = 2\n",
    "SEQ_LEN = 100 # Длина последовательности\n",
    "EMB_SIZE = 16 # Размер векторного представления (эмбеддинга)\n",
    "VOCAB_SIZE = 10000 # Количество слов в словаре\n",
    "\n",
    "x = np.random.randint(VOCAB_SIZE, size=(BATCH_SIZE, SEQ_LEN))\n",
    "print(x.shape)"
   ]
  },
  {
   "cell_type": "markdown",
   "id": "5ac1828b",
   "metadata": {},
   "source": [
    "# Обучаемый Embedding слой"
   ]
  },
  {
   "cell_type": "code",
   "execution_count": 6,
   "id": "3a939be4",
   "metadata": {},
   "outputs": [
    {
     "name": "stdout",
     "output_type": "stream",
     "text": [
      "Metal device set to: Apple M2\n",
      "(2, 100, 16)\n"
     ]
    }
   ],
   "source": [
    "embedding_layer = tf.keras.layers.Embedding(VOCAB_SIZE, EMB_SIZE)\n",
    "y = embedding_layer(x)\n",
    "print(y.shape)"
   ]
  },
  {
   "cell_type": "code",
   "execution_count": 7,
   "id": "a286b420",
   "metadata": {},
   "outputs": [
    {
     "name": "stdout",
     "output_type": "stream",
     "text": [
      "(2, 1)\n"
     ]
    }
   ],
   "source": [
    "model = tf.keras.Sequential([\n",
    "    tf.keras.layers.Embedding(VOCAB_SIZE, 16),\n",
    "    tf.keras.layers.LSTM(16, return_sequences=False),\n",
    "    tf.keras.layers.Dense(1, activation=tf.nn.sigmoid),\n",
    "])\n",
    "\n",
    "y = model(x)\n",
    "print(y.shape)"
   ]
  },
  {
   "cell_type": "markdown",
   "id": "f73391b7",
   "metadata": {},
   "source": [
    "# Регуляризация"
   ]
  },
  {
   "cell_type": "code",
   "execution_count": 8,
   "id": "20ea34a0",
   "metadata": {},
   "outputs": [
    {
     "name": "stdout",
     "output_type": "stream",
     "text": [
      "WARNING:tensorflow:Layer lstm_1 will not use cuDNN kernels since it doesn't meet the criteria. It will use a generic GPU kernel as fallback when running on GPU.\n",
      "(2, 1)\n"
     ]
    }
   ],
   "source": [
    "model = tf.keras.Sequential([\n",
    "    tf.keras.layers.Embedding(VOCAB_SIZE, 16),\n",
    "    tf.keras.layers.LSTM(16, return_sequences=False, dropout=.5, recurrent_dropout=.5),\n",
    "    tf.keras.layers.Dense(1, activation=tf.nn.sigmoid),\n",
    "])\n",
    "\n",
    "y = model(x)\n",
    "print(y.shape)"
   ]
  },
  {
   "cell_type": "markdown",
   "id": "3d368dd7",
   "metadata": {},
   "source": [
    "# Более глубокая рекуррентная сеть\n",
    "Можно ставить несколько LSTM слоёв, делая сеть глубже.\n",
    "В таком случае, все кроме последнего LSTM слоя должны иметь параметр return_sequence=True, иначе последующий слой не\n",
    "сможет обраборать выход предыдущего (он ожидает последовательность, а ему дают лишь один объект)"
   ]
  },
  {
   "cell_type": "code",
   "execution_count": 9,
   "id": "52b23070",
   "metadata": {},
   "outputs": [
    {
     "name": "stdout",
     "output_type": "stream",
     "text": [
      "WARNING:tensorflow:Layer lstm_2 will not use cuDNN kernels since it doesn't meet the criteria. It will use a generic GPU kernel as fallback when running on GPU.\n",
      "WARNING:tensorflow:Layer lstm_3 will not use cuDNN kernels since it doesn't meet the criteria. It will use a generic GPU kernel as fallback when running on GPU.\n",
      "(2, 1)\n"
     ]
    }
   ],
   "source": [
    "model = tf.keras.Sequential([\n",
    "    tf.keras.layers.Embedding(VOCAB_SIZE, 16),\n",
    "    tf.keras.layers.LSTM(16, return_sequences=True, dropout=.5, recurrent_dropout=.5),\n",
    "    tf.keras.layers.LSTM(16, return_sequences=False, dropout=.5, recurrent_dropout=.5),\n",
    "    tf.keras.layers.Dense(1, activation=tf.nn.sigmoid),\n",
    "])\n",
    "\n",
    "y = model(x)\n",
    "print(y.shape)"
   ]
  },
  {
   "cell_type": "markdown",
   "id": "40b6c469",
   "metadata": {},
   "source": [
    "# Двунаправленные рекуррентные сети\n",
    "В случае классификации текстов могут помочь улучшить результа двунаправленные сети (которые считывают входную цепочку в двух \n",
    "противоположных направлениях). В Keras двунаправленность можно добавить просто обернув LSTM слой в tf.keras.layers.Bidirectional()."
   ]
  },
  {
   "cell_type": "code",
   "execution_count": 11,
   "id": "c60461f6",
   "metadata": {},
   "outputs": [
    {
     "name": "stdout",
     "output_type": "stream",
     "text": [
      "WARNING:tensorflow:Layer lstm_4 will not use cuDNN kernels since it doesn't meet the criteria. It will use a generic GPU kernel as fallback when running on GPU.\n",
      "WARNING:tensorflow:Layer lstm_4 will not use cuDNN kernels since it doesn't meet the criteria. It will use a generic GPU kernel as fallback when running on GPU.\n",
      "WARNING:tensorflow:Layer lstm_4 will not use cuDNN kernels since it doesn't meet the criteria. It will use a generic GPU kernel as fallback when running on GPU.\n",
      "WARNING:tensorflow:Layer lstm_5 will not use cuDNN kernels since it doesn't meet the criteria. It will use a generic GPU kernel as fallback when running on GPU.\n",
      "WARNING:tensorflow:Layer lstm_5 will not use cuDNN kernels since it doesn't meet the criteria. It will use a generic GPU kernel as fallback when running on GPU.\n",
      "WARNING:tensorflow:Layer lstm_5 will not use cuDNN kernels since it doesn't meet the criteria. It will use a generic GPU kernel as fallback when running on GPU.\n",
      "(2, 1)\n"
     ]
    }
   ],
   "source": [
    "model = tf.keras.Sequential([\n",
    "    tf.keras.layers.Embedding(VOCAB_SIZE, 16),\n",
    "    tf.keras.layers.Bidirectional(\n",
    "        tf.keras.layers.LSTM(16, return_sequences=True, dropout=.5, recurrent_dropout=.5)),\n",
    "    tf.keras.layers.Bidirectional(\n",
    "        tf.keras.layers.LSTM(16, return_sequences=False, dropout=.5, recurrent_dropout=.5)),\n",
    "    tf.keras.layers.Dense(1, activation=tf.nn.sigmoid),\n",
    "])\n",
    "\n",
    "y = model(x)\n",
    "print(y.shape)"
   ]
  },
  {
   "cell_type": "code",
   "execution_count": null,
   "id": "fcc259aa",
   "metadata": {
    "scrolled": false
   },
   "outputs": [],
   "source": [
    "y = lstm_my(x)\n",
    "print(y.shape)"
   ]
  },
  {
   "cell_type": "code",
   "execution_count": null,
   "id": "5f8fa8d0",
   "metadata": {},
   "outputs": [],
   "source": [
    "# Перед тем, как что-то присваивать в параметры модели, нужно чтобы они создались.\n",
    "# Для этого можно вызвать либо инференс с каким-то входом, либо model.build(...)\n",
    "\n",
    "lstm_my.lstm_cell.fcXI.kernel = lstm.weights[0][:, 0:32]\n",
    "lstm_my.lstm_cell.fcXF.kernel = lstm.weights[0][:, 32:64]\n",
    "lstm_my.lstm_cell.fcXC.kernel = lstm.weights[0][:, 64:96]\n",
    "lstm_my.lstm_cell.fcXO.kernel = lstm.weights[0][:, 96:128]\n",
    "\n",
    "lstm_my.lstm_cell.fcHI.kernel = lstm.weights[1][:, 0:32]\n",
    "lstm_my.lstm_cell.fcHF.kernel = lstm.weights[1][:, 32:64]\n",
    "lstm_my.lstm_cell.fcHC.kernel = lstm.weights[1][:, 64:96]\n",
    "lstm_my.lstm_cell.fcHO.kernel = lstm.weights[1][:, 96:128]\n",
    "\n",
    "lstm_my.lstm_cell.fcXI.bias = lstm.weights[2][0:32]\n",
    "lstm_my.lstm_cell.fcXF.bias = lstm.weights[2][32:64]\n",
    "lstm_my.lstm_cell.fcXC.bias = lstm.weights[2][64:96]\n",
    "lstm_my.lstm_cell.fcXO.bias = lstm.weights[2][96:128]\n",
    "\n",
    "y = lstm(x)\n",
    "y_my = lstm_my(x)\n",
    "\n",
    "print(np.max(np.abs(y.numpy() - y_my.numpy())))"
   ]
  },
  {
   "cell_type": "code",
   "execution_count": null,
   "id": "9e629878",
   "metadata": {},
   "outputs": [],
   "source": [
    " "
   ]
  }
 ],
 "metadata": {
  "kernelspec": {
   "display_name": "Python 3 (ipyflow)",
   "language": "python",
   "name": "ipyflow"
  },
  "language_info": {
   "codemirror_mode": {
    "name": "ipython",
    "version": 3
   },
   "file_extension": ".py",
   "mimetype": "text/x-python",
   "name": "python",
   "nbconvert_exporter": "python",
   "pygments_lexer": "ipython3",
   "version": "3.8.12"
  },
  "toc": {
   "base_numbering": 1,
   "nav_menu": {},
   "number_sections": true,
   "sideBar": true,
   "skip_h1_title": false,
   "title_cell": "Table of Contents",
   "title_sidebar": "Contents",
   "toc_cell": false,
   "toc_position": {},
   "toc_section_display": true,
   "toc_window_display": false
  }
 },
 "nbformat": 4,
 "nbformat_minor": 5
}
