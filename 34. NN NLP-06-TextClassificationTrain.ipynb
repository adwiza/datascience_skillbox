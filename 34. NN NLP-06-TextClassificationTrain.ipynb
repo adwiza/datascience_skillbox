{
 "cells": [
  {
   "cell_type": "code",
   "execution_count": 1,
   "id": "8a03bdbb",
   "metadata": {},
   "outputs": [
    {
     "name": "stdout",
     "output_type": "stream",
     "text": [
      "2.12.0\n"
     ]
    }
   ],
   "source": [
    "import tensorflow as tf\n",
    "import numpy as np\n",
    "\n",
    "print(tf.__version__)\n",
    "\n",
    "import matplotlib.pyplot as plt\n",
    "%matplotlib inline"
   ]
  },
  {
   "cell_type": "markdown",
   "id": "d9145c96",
   "metadata": {},
   "source": [
    "# Загрузка датасета IMDB"
   ]
  },
  {
   "cell_type": "code",
   "execution_count": 2,
   "id": "77411941",
   "metadata": {},
   "outputs": [
    {
     "name": "stdout",
     "output_type": "stream",
     "text": [
      "Training entries: 25000\n",
      "==================================================\n",
      "Test entries: 25000\n",
      "==================================================\n",
      "Length examples: [218, 189]\n",
      "==================================================\n",
      "Entry example: [1, 14, 22, 16, 43, 530, 973, 1622, 1385, 65, 458, 4468, 66, 3941, 4, 173, 36, 256, 5, 25, 100, 43, 838, 112, 50, 670, 2, 9, 35, 480, 284, 5, 150, 4, 172, 112, 167, 2, 336, 385, 39, 4, 172, 4536, 1111, 17, 546, 38, 13, 447, 4, 192, 50, 16, 6, 147, 2025, 19, 14, 22, 4, 1920, 4613, 469, 4, 22, 71, 87, 12, 16, 43, 530, 38, 76, 15, 13, 1247, 4, 22, 17, 515, 17, 12, 16, 626, 18, 2, 5, 62, 386, 12, 8, 316, 8, 106, 5, 4, 2223, 5244, 16, 480, 66, 3785, 33, 4, 130, 12, 16, 38, 619, 5, 25, 124, 51, 36, 135, 48, 25, 1415, 33, 6, 22, 12, 215, 28, 77, 52, 5, 14, 407, 16, 82, 2, 8, 4, 107, 117, 5952, 15, 256, 4, 2, 7, 3766, 5, 723, 36, 71, 43, 530, 476, 26, 400, 317, 46, 7, 4, 2, 1029, 13, 104, 88, 4, 381, 15, 297, 98, 32, 2071, 56, 26, 141, 6, 194, 7486, 18, 4, 226, 22, 21, 134, 476, 26, 480, 5, 144, 30, 5535, 18, 51, 36, 28, 224, 92, 25, 104, 4, 226, 65, 16, 38, 1334, 88, 12, 16, 283, 5, 16, 4472, 113, 103, 32, 15, 16, 5345, 19, 178, 32]\n"
     ]
    }
   ],
   "source": [
    "VOCAB_SIZE = 10000 # Количество слов в словаре\n",
    "\n",
    "(train_data, train_labels), (test_data, test_labels) = \\\n",
    "    tf.keras.datasets.imdb.load_data(num_words=VOCAB_SIZE)\n",
    "\n",
    "print(f\"Training entries: {len(train_data)}\")\n",
    "print('=' * 50)\n",
    "print(f\"Test entries: {len(test_data)}\")\n",
    "print('=' * 50)\n",
    "print(f\"Length examples: {[len(train_data[0]), len(train_data[1])]}\")\n",
    "print('=' * 50)\n",
    "print(f\"Entry example: {train_data[0]}\")"
   ]
  },
  {
   "cell_type": "markdown",
   "id": "5ac1828b",
   "metadata": {},
   "source": [
    "# Создание функций decode_review и encode_review\n",
    "Создадим функции для конвертирования индексного представления отзыва в словестный(decode_review) и наоборот (encode_review).\n",
    "Функции будут использовать словари word2idx и idx2word (отображение слова в индекс и индекса в слово)\n",
    "Кроме обычных слов в словаре будут содержаться специальные. слова (токены): \\<PAD>, \\<START>, \\<UNKNOWN>"
   ]
  },
  {
   "cell_type": "code",
   "execution_count": 3,
   "id": "3a939be4",
   "metadata": {},
   "outputs": [
    {
     "name": "stdout",
     "output_type": "stream",
     "text": [
      "Example of a decoded review: \n",
      "<START> this film was just brilliant casting location scenery story direction everyone's really suited the part they played and you could just imagine being there robert <UNKNOWN> is an amazing actor and now the same being director <UNKNOWN> father came from the same scottish island as myself so i loved the fact there was a real connection with this film the witty remarks throughout the film were great it was just brilliant so much that i bought the film as soon as it was released for <UNKNOWN> and would recommend it to everyone to watch and the fly fishing was amazing really cried at the end it was so sad and you know what they say if you cry at a film it must have been good and this definitely was also <UNKNOWN> to the two little boy's that played the <UNKNOWN> of norman and paul they were just brilliant children are often left out of the <UNKNOWN> list i think because the stars that play them all grown up are such a big profile for the whole film but these children are amazing and should be praised for what they have done don't you think the whole story was so lovely because it was true and was someone's life after all that was shared with us all\n"
     ]
    }
   ],
   "source": [
    "word_index = tf.keras.datasets.imdb.get_word_index()\n",
    "\n",
    "word_index = {k: (v+3) for k, v in word_index.items()}\n",
    "word_index[\"<PAD>\"] = 0\n",
    "word_index[\"<START>\"] = 1\n",
    "word_index[\"<UNKNOWN>\"] = 2\n",
    "\n",
    "reverse_word_index = dict([(value, key) for (key, value) in word_index.items()])\n",
    "\n",
    "# последовательность индексов в текст\n",
    "def decode_review(text):\n",
    "    return ' '.join([reverse_word_index.get(i, '?') for i in text])\n",
    "\n",
    "# текст в последовательность индексов\n",
    "def encode_review(text):\n",
    "    words = text.lower().split()\n",
    "    words = ['<START>'] + words\n",
    "    idxs = [word_index.get(word, word_index['<UNKNOWN>']) for word in words]\n",
    "    return idxs\n",
    "\n",
    "print(f'Example of a decoded review: \\n{decode_review(train_data[0])}')"
   ]
  },
  {
   "cell_type": "markdown",
   "id": "cfd0ab1c",
   "metadata": {},
   "source": [
    "# Проверка функций decode_review и encode_review\n",
    "Протестируем функции decode_review и encode_review"
   ]
  },
  {
   "cell_type": "code",
   "execution_count": 4,
   "id": "60d2c0d0",
   "metadata": {},
   "outputs": [
    {
     "name": "stdout",
     "output_type": "stream",
     "text": [
      "[1, 4825, 182]\n",
      "<START> hello world\n"
     ]
    }
   ],
   "source": [
    "text = 'hello world'\n",
    "\n",
    "print(encode_review(text))\n",
    "print(decode_review(encode_review(text)))"
   ]
  },
  {
   "cell_type": "markdown",
   "id": "9d82812c",
   "metadata": {},
   "source": [
    "# Приведение всех цепочек в датасете к одной длине с помощью паддинга\n",
    "Одна цепочка это один отзыв. А отзывы могут быть различной длины.\n",
    "Так как нам будет необходимо собирать из отзывов батчи (группы цепочек), удобно все отзывы привести к одной длине с помощью\n",
    "паддинга в конце (добавления элементов \\<PAD>)."
   ]
  },
  {
   "cell_type": "code",
   "execution_count": 7,
   "id": "41763199",
   "metadata": {},
   "outputs": [
    {
     "name": "stdout",
     "output_type": "stream",
     "text": [
      "Length examples: [256, 256]\n",
      "==================================================\n",
      "Entry example: [   1   14   22   16   43  530  973 1622 1385   65  458 4468   66 3941\n",
      "    4  173   36  256    5   25  100   43  838  112   50  670    2    9\n",
      "   35  480  284    5  150    4  172  112  167    2  336  385   39    4\n",
      "  172 4536 1111   17  546   38   13  447    4  192   50   16    6  147\n",
      " 2025   19   14   22    4 1920 4613  469    4   22   71   87   12   16\n",
      "   43  530   38   76   15   13 1247    4   22   17  515   17   12   16\n",
      "  626   18    2    5   62  386   12    8  316    8  106    5    4 2223\n",
      " 5244   16  480   66 3785   33    4  130   12   16   38  619    5   25\n",
      "  124   51   36  135   48   25 1415   33    6   22   12  215   28   77\n",
      "   52    5   14  407   16   82    2    8    4  107  117 5952   15  256\n",
      "    4    2    7 3766    5  723   36   71   43  530  476   26  400  317\n",
      "   46    7    4    2 1029   13  104   88    4  381   15  297   98   32\n",
      " 2071   56   26  141    6  194 7486   18    4  226   22   21  134  476\n",
      "   26  480    5  144   30 5535   18   51   36   28  224   92   25  104\n",
      "    4  226   65   16   38 1334   88   12   16  283    5   16 4472  113\n",
      "  103   32   15   16 5345   19  178   32    0    0    0    0    0    0\n",
      "    0    0    0    0    0    0    0    0    0    0    0    0    0    0\n",
      "    0    0    0    0    0    0    0    0    0    0    0    0    0    0\n",
      "    0    0    0    0]\n"
     ]
    }
   ],
   "source": [
    "MAX_SEQ_LEN = 256\n",
    "\n",
    "train_data = tf.keras.preprocessing.sequence.pad_sequences(\n",
    "    train_data,\n",
    "    value=word_index[\"<PAD>\"],\n",
    "    padding='post',\n",
    "    maxlen=MAX_SEQ_LEN)\n",
    "\n",
    "test_data = tf.keras.preprocessing.sequence.pad_sequences(\n",
    "    test_data,\n",
    "    value=word_index[\"<PAD>\"],\n",
    "    padding='post',\n",
    "    maxlen=MAX_SEQ_LEN)\n",
    "\n",
    "print(f\"Length examples: {[len(train_data[0]), len(train_data[1])]}\")\n",
    "print('=' * 50)\n",
    "print(f\"Entry example: {train_data[0]}\")"
   ]
  },
  {
   "cell_type": "markdown",
   "id": "76f92ee7",
   "metadata": {},
   "source": [
    "# Создание модели"
   ]
  },
  {
   "cell_type": "code",
   "execution_count": 8,
   "id": "02dded95",
   "metadata": {},
   "outputs": [
    {
     "name": "stdout",
     "output_type": "stream",
     "text": [
      "Model: \"sequential_1\"\n",
      "_________________________________________________________________\n",
      " Layer (type)                Output Shape              Param #   \n",
      "=================================================================\n",
      " embedding_1 (Embedding)     (None, None, 16)          160000    \n",
      "                                                                 \n",
      " global_average_pooling1d (G  (None, 16)               0         \n",
      " lobalAveragePooling1D)                                          \n",
      "                                                                 \n",
      " dense_1 (Dense)             (None, 16)                272       \n",
      "                                                                 \n",
      " dense_2 (Dense)             (None, 1)                 17        \n",
      "                                                                 \n",
      "=================================================================\n",
      "Total params: 160,289\n",
      "Trainable params: 160,289\n",
      "Non-trainable params: 0\n",
      "_________________________________________________________________\n"
     ]
    }
   ],
   "source": [
    "EMB_SIZE = 16 # Размер векторного представлени (эмбеддинга)\n",
    "\n",
    "model = tf.keras.Sequential([\n",
    "    tf.keras.layers.Embedding(VOCAB_SIZE, 16),\n",
    "    tf.keras.layers.GlobalAveragePooling1D(),\n",
    "    tf.keras.layers.Dense(16, activation=tf.nn.relu),\n",
    "    tf.keras.layers.Dense(1, activation=tf.nn.sigmoid),\n",
    "])\n",
    "\n",
    "model.summary()"
   ]
  },
  {
   "cell_type": "markdown",
   "id": "b119ad6e",
   "metadata": {},
   "source": [
    "# Подготовка модели к обучению"
   ]
  },
  {
   "cell_type": "code",
   "execution_count": 9,
   "id": "fcc259aa",
   "metadata": {
    "scrolled": false
   },
   "outputs": [],
   "source": [
    "model.compile(optimizer='adam',\n",
    "              loss='binary_crossentropy',\n",
    "              metrics=['acc']\n",
    "             )"
   ]
  },
  {
   "cell_type": "markdown",
   "id": "895f9484",
   "metadata": {},
   "source": [
    "# Разбиение датасета на обучающий и валидационный"
   ]
  },
  {
   "cell_type": "code",
   "execution_count": 10,
   "id": "2f256eb3",
   "metadata": {},
   "outputs": [],
   "source": [
    "x_val = train_data[:10000]\n",
    "partial_x_train = train_data[10000:]\n",
    "\n",
    "y_val = train_labels[:10000]\n",
    "partial_y_train = train_labels[10000:]"
   ]
  },
  {
   "cell_type": "code",
   "execution_count": 11,
   "id": "631f5fc1",
   "metadata": {},
   "outputs": [
    {
     "name": "stdout",
     "output_type": "stream",
     "text": [
      "Epoch 1/20\n"
     ]
    },
    {
     "name": "stderr",
     "output_type": "stream",
     "text": [
      "2023-06-18 11:10:03.762236: W tensorflow/tsl/platform/profile_utils/cpu_utils.cc:128] Failed to get CPU frequency: 0 Hz\n"
     ]
    },
    {
     "name": "stdout",
     "output_type": "stream",
     "text": [
      "30/30 [==============================] - 13s 254ms/step - loss: 0.6924 - acc: 0.5947 - val_loss: 0.6909 - val_acc: 0.6516\n",
      "Epoch 2/20\n",
      "30/30 [==============================] - 7s 219ms/step - loss: 0.6876 - acc: 0.7169 - val_loss: 0.6836 - val_acc: 0.7312\n",
      "Epoch 3/20\n",
      "30/30 [==============================] - 7s 222ms/step - loss: 0.6764 - acc: 0.7377 - val_loss: 0.6694 - val_acc: 0.7456\n",
      "Epoch 4/20\n",
      "30/30 [==============================] - 7s 219ms/step - loss: 0.6562 - acc: 0.7695 - val_loss: 0.6458 - val_acc: 0.7634\n",
      "Epoch 5/20\n",
      "30/30 [==============================] - 6s 217ms/step - loss: 0.6251 - acc: 0.7917 - val_loss: 0.6122 - val_acc: 0.7797\n",
      "Epoch 6/20\n",
      "30/30 [==============================] - 7s 219ms/step - loss: 0.5846 - acc: 0.8083 - val_loss: 0.5718 - val_acc: 0.7970\n",
      "Epoch 7/20\n",
      "30/30 [==============================] - 7s 219ms/step - loss: 0.5376 - acc: 0.8264 - val_loss: 0.5278 - val_acc: 0.8188\n",
      "Epoch 8/20\n",
      "30/30 [==============================] - 7s 218ms/step - loss: 0.4890 - acc: 0.8453 - val_loss: 0.4850 - val_acc: 0.8320\n",
      "Epoch 9/20\n",
      "30/30 [==============================] - 6s 216ms/step - loss: 0.4430 - acc: 0.8599 - val_loss: 0.4466 - val_acc: 0.8428\n",
      "Epoch 10/20\n",
      "30/30 [==============================] - 7s 220ms/step - loss: 0.4026 - acc: 0.8710 - val_loss: 0.4147 - val_acc: 0.8496\n",
      "Epoch 11/20\n",
      "30/30 [==============================] - 6s 214ms/step - loss: 0.3685 - acc: 0.8791 - val_loss: 0.3879 - val_acc: 0.8586\n",
      "Epoch 12/20\n",
      "30/30 [==============================] - 7s 220ms/step - loss: 0.3395 - acc: 0.8885 - val_loss: 0.3671 - val_acc: 0.8629\n",
      "Epoch 13/20\n",
      "30/30 [==============================] - 6s 215ms/step - loss: 0.3153 - acc: 0.8938 - val_loss: 0.3503 - val_acc: 0.8677\n",
      "Epoch 14/20\n",
      "30/30 [==============================] - 6s 214ms/step - loss: 0.2949 - acc: 0.8998 - val_loss: 0.3373 - val_acc: 0.8702\n",
      "Epoch 15/20\n",
      "30/30 [==============================] - 6s 213ms/step - loss: 0.2774 - acc: 0.9037 - val_loss: 0.3263 - val_acc: 0.8742\n",
      "Epoch 16/20\n",
      "30/30 [==============================] - 6s 215ms/step - loss: 0.2614 - acc: 0.9099 - val_loss: 0.3175 - val_acc: 0.8755\n",
      "Epoch 17/20\n",
      "30/30 [==============================] - 7s 218ms/step - loss: 0.2477 - acc: 0.9143 - val_loss: 0.3107 - val_acc: 0.8780\n",
      "Epoch 18/20\n",
      "30/30 [==============================] - 6s 214ms/step - loss: 0.2352 - acc: 0.9193 - val_loss: 0.3041 - val_acc: 0.8800\n",
      "Epoch 19/20\n",
      "30/30 [==============================] - 6s 206ms/step - loss: 0.2234 - acc: 0.9223 - val_loss: 0.2994 - val_acc: 0.8802\n",
      "Epoch 20/20\n",
      "30/30 [==============================] - 6s 197ms/step - loss: 0.2130 - acc: 0.9263 - val_loss: 0.2954 - val_acc: 0.8821\n"
     ]
    }
   ],
   "source": [
    "BATCH_SIZE = 512\n",
    "NUM_EPOCHS = 20\n",
    "\n",
    "history = model.fit(partial_x_train,\n",
    "                    partial_y_train,\n",
    "                    epochs=NUM_EPOCHS,\n",
    "                    batch_size=BATCH_SIZE,\n",
    "                    validation_data=(x_val, y_val),\n",
    "                    verbose=1)"
   ]
  },
  {
   "cell_type": "markdown",
   "id": "06297eae",
   "metadata": {},
   "source": [
    "# Оценка качества на тестовом датасете"
   ]
  },
  {
   "cell_type": "code",
   "execution_count": 12,
   "id": "0805f847",
   "metadata": {},
   "outputs": [
    {
     "name": "stdout",
     "output_type": "stream",
     "text": [
      "782/782 [==============================] - 8s 10ms/step - loss: 0.3087 - acc: 0.8740\n",
      "Test loss: 0.3087\n",
      "Test accuracy: 87.40\n"
     ]
    }
   ],
   "source": [
    "results = model.evaluate(test_data, test_labels)\n",
    "\n",
    "print(f'Test loss: {results[0]:.4f}')\n",
    "print(f'Test accuracy: {results[1]*100:.2f}')"
   ]
  },
  {
   "cell_type": "markdown",
   "id": "385afef3",
   "metadata": {},
   "source": [
    "# Графики лосса и точности на обучающем и валидационном датасетах"
   ]
  },
  {
   "cell_type": "code",
   "execution_count": 14,
   "id": "bdbc132f",
   "metadata": {},
   "outputs": [
    {
     "data": {
      "image/png": "[encoded data removed]",
      "text/plain": [
       "<Figure size 640x480 with 1 Axes>"
      ]
     },
     "metadata": {},
     "output_type": "display_data"
    },
    {
     "data": {
      "image/png": "[encoded data removed]",
      "text/plain": [
       "<Figure size 640x480 with 1 Axes>"
      ]
     },
     "metadata": {},
     "output_type": "display_data"
    }
   ],
   "source": [
    "epochs = range(1, len(history.history['acc']) + 1)\n",
    "\n",
    "plt.figure()\n",
    "plt.plot(epochs, history.history['loss'], 'bo', label='Training loss')\n",
    "plt.plot(epochs, history.history['val_loss'], 'b', label='Validation loss')\n",
    "plt.title('Training and validation losses')\n",
    "plt.xlabel('Epochs')\n",
    "plt.ylabel('Loss')\n",
    "plt.legend()\n",
    "plt.grid()\n",
    "\n",
    "plt.figure()\n",
    "plt.plot(epochs, history.history['acc'], 'bo', label='Training acc')\n",
    "plt.plot(epochs, history.history['val_acc'], 'b', label='Validation acc')\n",
    "plt.title('Training and validation losses')\n",
    "plt.xlabel('Epochs')\n",
    "plt.ylabel('Accuracy')\n",
    "plt.legend()\n",
    "plt.grid()"
   ]
  },
  {
   "cell_type": "markdown",
   "id": "465dc5ea",
   "metadata": {},
   "source": [
    " # Тестирование обученной модели на новой последовательности\n",
    " Проверим работу модели на собственном отзыве."
   ]
  },
  {
   "cell_type": "code",
   "execution_count": 16,
   "id": "1c326fa2",
   "metadata": {},
   "outputs": [
    {
     "name": "stdout",
     "output_type": "stream",
     "text": [
      "1/1 [==============================] - 0s 138ms/step\n",
      "0.001921664\n",
      "Negative\n"
     ]
    }
   ],
   "source": [
    "# text = 'It was a really good movie it was so fantastic'\n",
    "text = 'It was a really horrible movie it was so shit'\n",
    "\n",
    "encoded = encode_review(text)\n",
    "prediction = model.predict(np.array(encoded)[None, :])[0, 0]\n",
    "\n",
    "print(prediction)\n",
    "print('Positive' if prediction > .5 else 'Negative')"
   ]
  }
 ],
 "metadata": {
  "kernelspec": {
   "display_name": "Python 3 (ipyflow)",
   "language": "python",
   "name": "ipyflow"
  },
  "language_info": {
   "codemirror_mode": {
    "name": "ipython",
    "version": 3
   },
   "file_extension": ".py",
   "mimetype": "text/x-python",
   "name": "python",
   "nbconvert_exporter": "python",
   "pygments_lexer": "ipython3",
   "version": "3.8.12"
  },
  "toc": {
   "base_numbering": 1,
   "nav_menu": {},
   "number_sections": true,
   "sideBar": true,
   "skip_h1_title": false,
   "title_cell": "Table of Contents",
   "title_sidebar": "Contents",
   "toc_cell": false,
   "toc_position": {},
   "toc_section_display": true,
   "toc_window_display": false
  }
 },
 "nbformat": 4,
 "nbformat_minor": 5
}
