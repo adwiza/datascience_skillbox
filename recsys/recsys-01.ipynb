{
 "cells": [
  {
   "cell_type": "code",
   "execution_count": 2,
   "id": "800359ad",
   "metadata": {},
   "outputs": [],
   "source": [
    "import pandas as pd\n",
    "import numpy as np"
   ]
  },
  {
   "cell_type": "code",
   "execution_count": 3,
   "id": "6d2d10ad",
   "metadata": {},
   "outputs": [],
   "source": [
    "df = pd.read_csv('../datasets/recdemo.csv')"
   ]
  },
  {
   "cell_type": "code",
   "execution_count": 5,
   "id": "f98ad1a3",
   "metadata": {},
   "outputs": [
    {
     "data": {
      "text/html": [
       "<div>\n",
       "<style scoped>\n",
       "    .dataframe tbody tr th:only-of-type {\n",
       "        vertical-align: middle;\n",
       "    }\n",
       "\n",
       "    .dataframe tbody tr th {\n",
       "        vertical-align: top;\n",
       "    }\n",
       "\n",
       "    .dataframe thead th {\n",
       "        text-align: right;\n",
       "    }\n",
       "</style>\n",
       "<table border=\"1\" class=\"dataframe\">\n",
       "  <thead>\n",
       "    <tr style=\"text-align: right;\">\n",
       "      <th></th>\n",
       "      <th>id</th>\n",
       "      <th>A</th>\n",
       "      <th>B</th>\n",
       "      <th>C</th>\n",
       "      <th>D</th>\n",
       "      <th>E</th>\n",
       "      <th>F</th>\n",
       "    </tr>\n",
       "  </thead>\n",
       "  <tbody>\n",
       "    <tr>\n",
       "      <th>0</th>\n",
       "      <td>1</td>\n",
       "      <td>3.0</td>\n",
       "      <td>4.0</td>\n",
       "      <td>2.0</td>\n",
       "      <td>4.0</td>\n",
       "      <td>1.0</td>\n",
       "      <td>NaN</td>\n",
       "    </tr>\n",
       "    <tr>\n",
       "      <th>1</th>\n",
       "      <td>2</td>\n",
       "      <td>3.0</td>\n",
       "      <td>4.0</td>\n",
       "      <td>2.0</td>\n",
       "      <td>4.0</td>\n",
       "      <td>NaN</td>\n",
       "      <td>2.0</td>\n",
       "    </tr>\n",
       "    <tr>\n",
       "      <th>2</th>\n",
       "      <td>3</td>\n",
       "      <td>NaN</td>\n",
       "      <td>2.0</td>\n",
       "      <td>5.0</td>\n",
       "      <td>5.0</td>\n",
       "      <td>NaN</td>\n",
       "      <td>5.0</td>\n",
       "    </tr>\n",
       "    <tr>\n",
       "      <th>3</th>\n",
       "      <td>4</td>\n",
       "      <td>NaN</td>\n",
       "      <td>NaN</td>\n",
       "      <td>NaN</td>\n",
       "      <td>NaN</td>\n",
       "      <td>4.0</td>\n",
       "      <td>NaN</td>\n",
       "    </tr>\n",
       "    <tr>\n",
       "      <th>4</th>\n",
       "      <td>5</td>\n",
       "      <td>3.0</td>\n",
       "      <td>NaN</td>\n",
       "      <td>2.0</td>\n",
       "      <td>4.0</td>\n",
       "      <td>4.0</td>\n",
       "      <td>NaN</td>\n",
       "    </tr>\n",
       "    <tr>\n",
       "      <th>5</th>\n",
       "      <td>6</td>\n",
       "      <td>NaN</td>\n",
       "      <td>5.0</td>\n",
       "      <td>5.0</td>\n",
       "      <td>5.0</td>\n",
       "      <td>NaN</td>\n",
       "      <td>5.0</td>\n",
       "    </tr>\n",
       "    <tr>\n",
       "      <th>6</th>\n",
       "      <td>7</td>\n",
       "      <td>1.0</td>\n",
       "      <td>NaN</td>\n",
       "      <td>NaN</td>\n",
       "      <td>2.0</td>\n",
       "      <td>NaN</td>\n",
       "      <td>3.0</td>\n",
       "    </tr>\n",
       "    <tr>\n",
       "      <th>7</th>\n",
       "      <td>8</td>\n",
       "      <td>NaN</td>\n",
       "      <td>NaN</td>\n",
       "      <td>NaN</td>\n",
       "      <td>NaN</td>\n",
       "      <td>4.0</td>\n",
       "      <td>4.0</td>\n",
       "    </tr>\n",
       "  </tbody>\n",
       "</table>\n",
       "</div>"
      ],
      "text/plain": [
       "   id    A    B    C    D    E    F\n",
       "0   1  3.0  4.0  2.0  4.0  1.0  NaN\n",
       "1   2  3.0  4.0  2.0  4.0  NaN  2.0\n",
       "2   3  NaN  2.0  5.0  5.0  NaN  5.0\n",
       "3   4  NaN  NaN  NaN  NaN  4.0  NaN\n",
       "4   5  3.0  NaN  2.0  4.0  4.0  NaN\n",
       "5   6  NaN  5.0  5.0  5.0  NaN  5.0\n",
       "6   7  1.0  NaN  NaN  2.0  NaN  3.0\n",
       "7   8  NaN  NaN  NaN  NaN  4.0  4.0"
      ]
     },
     "execution_count": 5,
     "metadata": {},
     "output_type": "execute_result"
    }
   ],
   "source": [
    "df"
   ]
  },
  {
   "cell_type": "code",
   "execution_count": 6,
   "id": "46e74e31",
   "metadata": {},
   "outputs": [
    {
     "data": {
      "text/html": [
       "<div>\n",
       "<style scoped>\n",
       "    .dataframe tbody tr th:only-of-type {\n",
       "        vertical-align: middle;\n",
       "    }\n",
       "\n",
       "    .dataframe tbody tr th {\n",
       "        vertical-align: top;\n",
       "    }\n",
       "\n",
       "    .dataframe thead th {\n",
       "        text-align: right;\n",
       "    }\n",
       "</style>\n",
       "<table border=\"1\" class=\"dataframe\">\n",
       "  <thead>\n",
       "    <tr style=\"text-align: right;\">\n",
       "      <th></th>\n",
       "      <th>id</th>\n",
       "      <th>variable</th>\n",
       "      <th>value</th>\n",
       "    </tr>\n",
       "  </thead>\n",
       "  <tbody>\n",
       "    <tr>\n",
       "      <th>0</th>\n",
       "      <td>1</td>\n",
       "      <td>A</td>\n",
       "      <td>3.0</td>\n",
       "    </tr>\n",
       "    <tr>\n",
       "      <th>1</th>\n",
       "      <td>2</td>\n",
       "      <td>A</td>\n",
       "      <td>3.0</td>\n",
       "    </tr>\n",
       "    <tr>\n",
       "      <th>2</th>\n",
       "      <td>3</td>\n",
       "      <td>A</td>\n",
       "      <td>NaN</td>\n",
       "    </tr>\n",
       "    <tr>\n",
       "      <th>3</th>\n",
       "      <td>4</td>\n",
       "      <td>A</td>\n",
       "      <td>NaN</td>\n",
       "    </tr>\n",
       "    <tr>\n",
       "      <th>4</th>\n",
       "      <td>5</td>\n",
       "      <td>A</td>\n",
       "      <td>3.0</td>\n",
       "    </tr>\n",
       "  </tbody>\n",
       "</table>\n",
       "</div>"
      ],
      "text/plain": [
       "   id variable  value\n",
       "0   1        A    3.0\n",
       "1   2        A    3.0\n",
       "2   3        A    NaN\n",
       "3   4        A    NaN\n",
       "4   5        A    3.0"
      ]
     },
     "execution_count": 6,
     "metadata": {},
     "output_type": "execute_result"
    }
   ],
   "source": [
    "df_unpivot=pd.melt(df, id_vars=['id'])\n",
    "df_unpivot.head()"
   ]
  },
  {
   "cell_type": "code",
   "execution_count": 7,
   "id": "544a53f8",
   "metadata": {},
   "outputs": [],
   "source": [
    "df_unpivot.dropna(inplace=True)\n",
    "df_unpivot.columns = ['userID', 'itemID', 'rating']"
   ]
  },
  {
   "cell_type": "code",
   "execution_count": 8,
   "id": "1f9c0768",
   "metadata": {},
   "outputs": [],
   "source": [
    "from surprise import Dataset\n",
    "from surprise import Reader"
   ]
  },
  {
   "cell_type": "code",
   "execution_count": 9,
   "id": "27314f1c",
   "metadata": {},
   "outputs": [],
   "source": [
    "reader = Reader(rating_scale=(1, 5)) # Зададим разброс оценок\n",
    "data = Dataset.load_from_df(df_unpivot[['userID', 'itemID', 'rating']], reader)"
   ]
  },
  {
   "cell_type": "code",
   "execution_count": 10,
   "id": "9c899abe",
   "metadata": {},
   "outputs": [],
   "source": [
    "trainset = data.build_full_trainset()\n",
    "testset = trainset.build_anti_testset()"
   ]
  },
  {
   "cell_type": "code",
   "execution_count": 11,
   "id": "2258e845",
   "metadata": {},
   "outputs": [],
   "source": [
    "from surprise import SVD"
   ]
  },
  {
   "cell_type": "code",
   "execution_count": 12,
   "id": "ded44c69",
   "metadata": {},
   "outputs": [],
   "source": [
    "algo = SVD(n_factors=2, random_state=999)\n",
    "predictions = algo.fit(trainset).test(testset)"
   ]
  },
  {
   "cell_type": "code",
   "execution_count": 17,
   "id": "40d9e133",
   "metadata": {},
   "outputs": [
    {
     "name": "stderr",
     "output_type": "stream",
     "text": [
      "/var/folders/mm/2c6bnjk559g2btv241j7f9lh0000gn/T/ipykernel_1263/878506005.py:3: FutureWarning: The frame.append method is deprecated and will be removed from pandas in a future version. Use pandas.concat instead.\n",
      "  df_unpivot1 = df_unpivot1.append({'userID': i.uid, 'itemID': i.iid, 'rating': i.est}, ignore_index=True)\n",
      "/var/folders/mm/2c6bnjk559g2btv241j7f9lh0000gn/T/ipykernel_1263/878506005.py:3: FutureWarning: The frame.append method is deprecated and will be removed from pandas in a future version. Use pandas.concat instead.\n",
      "  df_unpivot1 = df_unpivot1.append({'userID': i.uid, 'itemID': i.iid, 'rating': i.est}, ignore_index=True)\n",
      "/var/folders/mm/2c6bnjk559g2btv241j7f9lh0000gn/T/ipykernel_1263/878506005.py:3: FutureWarning: The frame.append method is deprecated and will be removed from pandas in a future version. Use pandas.concat instead.\n",
      "  df_unpivot1 = df_unpivot1.append({'userID': i.uid, 'itemID': i.iid, 'rating': i.est}, ignore_index=True)\n",
      "/var/folders/mm/2c6bnjk559g2btv241j7f9lh0000gn/T/ipykernel_1263/878506005.py:3: FutureWarning: The frame.append method is deprecated and will be removed from pandas in a future version. Use pandas.concat instead.\n",
      "  df_unpivot1 = df_unpivot1.append({'userID': i.uid, 'itemID': i.iid, 'rating': i.est}, ignore_index=True)\n",
      "/var/folders/mm/2c6bnjk559g2btv241j7f9lh0000gn/T/ipykernel_1263/878506005.py:3: FutureWarning: The frame.append method is deprecated and will be removed from pandas in a future version. Use pandas.concat instead.\n",
      "  df_unpivot1 = df_unpivot1.append({'userID': i.uid, 'itemID': i.iid, 'rating': i.est}, ignore_index=True)\n",
      "/var/folders/mm/2c6bnjk559g2btv241j7f9lh0000gn/T/ipykernel_1263/878506005.py:3: FutureWarning: The frame.append method is deprecated and will be removed from pandas in a future version. Use pandas.concat instead.\n",
      "  df_unpivot1 = df_unpivot1.append({'userID': i.uid, 'itemID': i.iid, 'rating': i.est}, ignore_index=True)\n",
      "/var/folders/mm/2c6bnjk559g2btv241j7f9lh0000gn/T/ipykernel_1263/878506005.py:3: FutureWarning: The frame.append method is deprecated and will be removed from pandas in a future version. Use pandas.concat instead.\n",
      "  df_unpivot1 = df_unpivot1.append({'userID': i.uid, 'itemID': i.iid, 'rating': i.est}, ignore_index=True)\n",
      "/var/folders/mm/2c6bnjk559g2btv241j7f9lh0000gn/T/ipykernel_1263/878506005.py:3: FutureWarning: The frame.append method is deprecated and will be removed from pandas in a future version. Use pandas.concat instead.\n",
      "  df_unpivot1 = df_unpivot1.append({'userID': i.uid, 'itemID': i.iid, 'rating': i.est}, ignore_index=True)\n",
      "/var/folders/mm/2c6bnjk559g2btv241j7f9lh0000gn/T/ipykernel_1263/878506005.py:3: FutureWarning: The frame.append method is deprecated and will be removed from pandas in a future version. Use pandas.concat instead.\n",
      "  df_unpivot1 = df_unpivot1.append({'userID': i.uid, 'itemID': i.iid, 'rating': i.est}, ignore_index=True)\n",
      "/var/folders/mm/2c6bnjk559g2btv241j7f9lh0000gn/T/ipykernel_1263/878506005.py:3: FutureWarning: The frame.append method is deprecated and will be removed from pandas in a future version. Use pandas.concat instead.\n",
      "  df_unpivot1 = df_unpivot1.append({'userID': i.uid, 'itemID': i.iid, 'rating': i.est}, ignore_index=True)\n",
      "/var/folders/mm/2c6bnjk559g2btv241j7f9lh0000gn/T/ipykernel_1263/878506005.py:3: FutureWarning: The frame.append method is deprecated and will be removed from pandas in a future version. Use pandas.concat instead.\n",
      "  df_unpivot1 = df_unpivot1.append({'userID': i.uid, 'itemID': i.iid, 'rating': i.est}, ignore_index=True)\n",
      "/var/folders/mm/2c6bnjk559g2btv241j7f9lh0000gn/T/ipykernel_1263/878506005.py:3: FutureWarning: The frame.append method is deprecated and will be removed from pandas in a future version. Use pandas.concat instead.\n",
      "  df_unpivot1 = df_unpivot1.append({'userID': i.uid, 'itemID': i.iid, 'rating': i.est}, ignore_index=True)\n",
      "/var/folders/mm/2c6bnjk559g2btv241j7f9lh0000gn/T/ipykernel_1263/878506005.py:3: FutureWarning: The frame.append method is deprecated and will be removed from pandas in a future version. Use pandas.concat instead.\n",
      "  df_unpivot1 = df_unpivot1.append({'userID': i.uid, 'itemID': i.iid, 'rating': i.est}, ignore_index=True)\n",
      "/var/folders/mm/2c6bnjk559g2btv241j7f9lh0000gn/T/ipykernel_1263/878506005.py:3: FutureWarning: The frame.append method is deprecated and will be removed from pandas in a future version. Use pandas.concat instead.\n",
      "  df_unpivot1 = df_unpivot1.append({'userID': i.uid, 'itemID': i.iid, 'rating': i.est}, ignore_index=True)\n",
      "/var/folders/mm/2c6bnjk559g2btv241j7f9lh0000gn/T/ipykernel_1263/878506005.py:3: FutureWarning: The frame.append method is deprecated and will be removed from pandas in a future version. Use pandas.concat instead.\n",
      "  df_unpivot1 = df_unpivot1.append({'userID': i.uid, 'itemID': i.iid, 'rating': i.est}, ignore_index=True)\n",
      "/var/folders/mm/2c6bnjk559g2btv241j7f9lh0000gn/T/ipykernel_1263/878506005.py:3: FutureWarning: The frame.append method is deprecated and will be removed from pandas in a future version. Use pandas.concat instead.\n",
      "  df_unpivot1 = df_unpivot1.append({'userID': i.uid, 'itemID': i.iid, 'rating': i.est}, ignore_index=True)\n",
      "/var/folders/mm/2c6bnjk559g2btv241j7f9lh0000gn/T/ipykernel_1263/878506005.py:3: FutureWarning: The frame.append method is deprecated and will be removed from pandas in a future version. Use pandas.concat instead.\n",
      "  df_unpivot1 = df_unpivot1.append({'userID': i.uid, 'itemID': i.iid, 'rating': i.est}, ignore_index=True)\n",
      "/var/folders/mm/2c6bnjk559g2btv241j7f9lh0000gn/T/ipykernel_1263/878506005.py:3: FutureWarning: The frame.append method is deprecated and will be removed from pandas in a future version. Use pandas.concat instead.\n",
      "  df_unpivot1 = df_unpivot1.append({'userID': i.uid, 'itemID': i.iid, 'rating': i.est}, ignore_index=True)\n",
      "/var/folders/mm/2c6bnjk559g2btv241j7f9lh0000gn/T/ipykernel_1263/878506005.py:3: FutureWarning: The frame.append method is deprecated and will be removed from pandas in a future version. Use pandas.concat instead.\n",
      "  df_unpivot1 = df_unpivot1.append({'userID': i.uid, 'itemID': i.iid, 'rating': i.est}, ignore_index=True)\n",
      "/var/folders/mm/2c6bnjk559g2btv241j7f9lh0000gn/T/ipykernel_1263/878506005.py:3: FutureWarning: The frame.append method is deprecated and will be removed from pandas in a future version. Use pandas.concat instead.\n",
      "  df_unpivot1 = df_unpivot1.append({'userID': i.uid, 'itemID': i.iid, 'rating': i.est}, ignore_index=True)\n"
     ]
    }
   ],
   "source": [
    "df_unpivot1 = df_unpivot.copy()\n",
    "for i in predictions:\n",
    "    df_unpivot1 = df_unpivot1.append({'userID': i.uid, 'itemID': i.iid, 'rating': i.est}, ignore_index=True)"
   ]
  },
  {
   "cell_type": "code",
   "execution_count": 18,
   "id": "87245aac",
   "metadata": {},
   "outputs": [
    {
     "data": {
      "text/html": [
       "<div>\n",
       "<style scoped>\n",
       "    .dataframe tbody tr th:only-of-type {\n",
       "        vertical-align: middle;\n",
       "    }\n",
       "\n",
       "    .dataframe tbody tr th {\n",
       "        vertical-align: top;\n",
       "    }\n",
       "\n",
       "    .dataframe thead th {\n",
       "        text-align: right;\n",
       "    }\n",
       "</style>\n",
       "<table border=\"1\" class=\"dataframe\">\n",
       "  <thead>\n",
       "    <tr style=\"text-align: right;\">\n",
       "      <th>itemID</th>\n",
       "      <th>A</th>\n",
       "      <th>B</th>\n",
       "      <th>C</th>\n",
       "      <th>D</th>\n",
       "      <th>E</th>\n",
       "      <th>F</th>\n",
       "    </tr>\n",
       "    <tr>\n",
       "      <th>userID</th>\n",
       "      <th></th>\n",
       "      <th></th>\n",
       "      <th></th>\n",
       "      <th></th>\n",
       "      <th></th>\n",
       "      <th></th>\n",
       "    </tr>\n",
       "  </thead>\n",
       "  <tbody>\n",
       "    <tr>\n",
       "      <th>1</th>\n",
       "      <td>3.000000</td>\n",
       "      <td>4.000000</td>\n",
       "      <td>2.000000</td>\n",
       "      <td>4.000000</td>\n",
       "      <td>1.000000</td>\n",
       "      <td>3.312456</td>\n",
       "    </tr>\n",
       "    <tr>\n",
       "      <th>2</th>\n",
       "      <td>3.000000</td>\n",
       "      <td>4.000000</td>\n",
       "      <td>2.000000</td>\n",
       "      <td>4.000000</td>\n",
       "      <td>3.210599</td>\n",
       "      <td>2.000000</td>\n",
       "    </tr>\n",
       "    <tr>\n",
       "      <th>3</th>\n",
       "      <td>3.444350</td>\n",
       "      <td>2.000000</td>\n",
       "      <td>5.000000</td>\n",
       "      <td>5.000000</td>\n",
       "      <td>3.684146</td>\n",
       "      <td>5.000000</td>\n",
       "    </tr>\n",
       "    <tr>\n",
       "      <th>4</th>\n",
       "      <td>3.242607</td>\n",
       "      <td>3.599635</td>\n",
       "      <td>3.415230</td>\n",
       "      <td>3.784069</td>\n",
       "      <td>4.000000</td>\n",
       "      <td>3.647434</td>\n",
       "    </tr>\n",
       "    <tr>\n",
       "      <th>5</th>\n",
       "      <td>3.000000</td>\n",
       "      <td>3.490772</td>\n",
       "      <td>2.000000</td>\n",
       "      <td>4.000000</td>\n",
       "      <td>4.000000</td>\n",
       "      <td>3.533499</td>\n",
       "    </tr>\n",
       "    <tr>\n",
       "      <th>6</th>\n",
       "      <td>3.676756</td>\n",
       "      <td>5.000000</td>\n",
       "      <td>5.000000</td>\n",
       "      <td>5.000000</td>\n",
       "      <td>3.884204</td>\n",
       "      <td>5.000000</td>\n",
       "    </tr>\n",
       "    <tr>\n",
       "      <th>7</th>\n",
       "      <td>1.000000</td>\n",
       "      <td>3.194893</td>\n",
       "      <td>2.985395</td>\n",
       "      <td>2.000000</td>\n",
       "      <td>3.010203</td>\n",
       "      <td>3.000000</td>\n",
       "    </tr>\n",
       "    <tr>\n",
       "      <th>8</th>\n",
       "      <td>3.301363</td>\n",
       "      <td>3.630884</td>\n",
       "      <td>3.442314</td>\n",
       "      <td>3.798689</td>\n",
       "      <td>4.000000</td>\n",
       "      <td>4.000000</td>\n",
       "    </tr>\n",
       "  </tbody>\n",
       "</table>\n",
       "</div>"
      ],
      "text/plain": [
       "itemID         A         B         C         D         E         F\n",
       "userID                                                            \n",
       "1       3.000000  4.000000  2.000000  4.000000  1.000000  3.312456\n",
       "2       3.000000  4.000000  2.000000  4.000000  3.210599  2.000000\n",
       "3       3.444350  2.000000  5.000000  5.000000  3.684146  5.000000\n",
       "4       3.242607  3.599635  3.415230  3.784069  4.000000  3.647434\n",
       "5       3.000000  3.490772  2.000000  4.000000  4.000000  3.533499\n",
       "6       3.676756  5.000000  5.000000  5.000000  3.884204  5.000000\n",
       "7       1.000000  3.194893  2.985395  2.000000  3.010203  3.000000\n",
       "8       3.301363  3.630884  3.442314  3.798689  4.000000  4.000000"
      ]
     },
     "execution_count": 18,
     "metadata": {},
     "output_type": "execute_result"
    }
   ],
   "source": [
    "df_unpivot1.pivot(index='userID', columns='itemID', values='rating')"
   ]
  },
  {
   "cell_type": "code",
   "execution_count": 19,
   "id": "038e2f6d",
   "metadata": {},
   "outputs": [
    {
     "data": {
      "text/plain": [
       "array([[-0.02356038,  0.086795  ],\n",
       "       [ 0.03311668, -0.06586878],\n",
       "       [-0.01663012, -0.05196951],\n",
       "       [ 0.17326108, -0.22112997],\n",
       "       [ 0.11922751,  0.0574848 ],\n",
       "       [-0.03847042, -0.02430361],\n",
       "       [-0.10099924, -0.04709509],\n",
       "       [-0.00974106,  0.08383197]])"
      ]
     },
     "execution_count": 19,
     "metadata": {},
     "output_type": "execute_result"
    }
   ],
   "source": [
    "algo.pu # users"
   ]
  },
  {
   "cell_type": "code",
   "execution_count": 20,
   "id": "1578e4e7",
   "metadata": {},
   "outputs": [
    {
     "data": {
      "text/plain": [
       "array([[-0.0499725 ,  0.20377982],\n",
       "       [ 0.07260589, -0.09175883],\n",
       "       [-0.0048234 , -0.06959711],\n",
       "       [-0.08501758, -0.10890099],\n",
       "       [ 0.16616968,  0.1825492 ],\n",
       "       [ 0.00912318, -0.15003955]])"
      ]
     },
     "execution_count": 20,
     "metadata": {},
     "output_type": "execute_result"
    }
   ],
   "source": [
    "algo.qi # films"
   ]
  },
  {
   "cell_type": "code",
   "execution_count": 21,
   "id": "8d685250",
   "metadata": {},
   "outputs": [
    {
     "data": {
      "text/plain": [
       "array([[-0.0499725 ,  0.07260589, -0.0048234 , -0.08501758,  0.16616968,\n",
       "         0.00912318],\n",
       "       [ 0.20377982, -0.09175883, -0.06959711, -0.10890099,  0.1825492 ,\n",
       "        -0.15003955]])"
      ]
     },
     "execution_count": 21,
     "metadata": {},
     "output_type": "execute_result"
    }
   ],
   "source": [
    "algo.qi.T # films"
   ]
  },
  {
   "cell_type": "code",
   "execution_count": 22,
   "id": "3848ba70",
   "metadata": {},
   "outputs": [],
   "source": [
    "mu = df_unpivot.rating.mean()"
   ]
  },
  {
   "cell_type": "code",
   "execution_count": 23,
   "id": "14a5662e",
   "metadata": {},
   "outputs": [],
   "source": [
    "m = algo.pu @ algo.qi.T"
   ]
  },
  {
   "cell_type": "code",
   "execution_count": 24,
   "id": "359e793d",
   "metadata": {},
   "outputs": [
    {
     "data": {
      "text/plain": [
       "(8, 6)"
      ]
     },
     "execution_count": 24,
     "metadata": {},
     "output_type": "execute_result"
    }
   ],
   "source": [
    "m.shape"
   ]
  },
  {
   "cell_type": "code",
   "execution_count": 25,
   "id": "c0d52568",
   "metadata": {},
   "outputs": [],
   "source": [
    "i = 0\n",
    "j = 5"
   ]
  },
  {
   "cell_type": "code",
   "execution_count": 26,
   "id": "8db6ca52",
   "metadata": {},
   "outputs": [
    {
     "data": {
      "text/plain": [
       "3.31245613193024"
      ]
     },
     "execution_count": 26,
     "metadata": {},
     "output_type": "execute_result"
    }
   ],
   "source": [
    "mu + m[i][j] + algo.bu[i] + algo.bi[j]"
   ]
  },
  {
   "cell_type": "markdown",
   "id": "fd937c66",
   "metadata": {},
   "source": [
    "# Сравнение параметров"
   ]
  },
  {
   "cell_type": "code",
   "execution_count": 27,
   "id": "7e999e8e",
   "metadata": {},
   "outputs": [],
   "source": [
    "from surprise import KNNBaseline\n",
    "from surprise.model_selection import cross_validate"
   ]
  },
  {
   "cell_type": "code",
   "execution_count": 29,
   "id": "0b72ebf0",
   "metadata": {},
   "outputs": [
    {
     "name": "stdout",
     "output_type": "stream",
     "text": [
      "Dataset ml-100k could not be found. Do you want to download it? [Y/n] Y\n",
      "Trying to download dataset from https://files.grouplens.org/datasets/movielens/ml-100k.zip...\n",
      "Done! Dataset ml-100k has been saved to /Users/adwiz/.surprise_data/ml-100k\n"
     ]
    }
   ],
   "source": [
    "data = Dataset.load_builtin('ml-100k')"
   ]
  },
  {
   "cell_type": "code",
   "execution_count": 30,
   "id": "23d3dadd",
   "metadata": {},
   "outputs": [
    {
     "data": {
      "text/html": [
       "<div>\n",
       "<style scoped>\n",
       "    .dataframe tbody tr th:only-of-type {\n",
       "        vertical-align: middle;\n",
       "    }\n",
       "\n",
       "    .dataframe tbody tr th {\n",
       "        vertical-align: top;\n",
       "    }\n",
       "\n",
       "    .dataframe thead th {\n",
       "        text-align: right;\n",
       "    }\n",
       "</style>\n",
       "<table border=\"1\" class=\"dataframe\">\n",
       "  <thead>\n",
       "    <tr style=\"text-align: right;\">\n",
       "      <th></th>\n",
       "      <th>user</th>\n",
       "      <th>item</th>\n",
       "      <th>rating</th>\n",
       "      <th>timestamp</th>\n",
       "    </tr>\n",
       "  </thead>\n",
       "  <tbody>\n",
       "    <tr>\n",
       "      <th>0</th>\n",
       "      <td>196</td>\n",
       "      <td>242</td>\n",
       "      <td>3.0</td>\n",
       "      <td>881250949</td>\n",
       "    </tr>\n",
       "    <tr>\n",
       "      <th>1</th>\n",
       "      <td>186</td>\n",
       "      <td>302</td>\n",
       "      <td>3.0</td>\n",
       "      <td>891717742</td>\n",
       "    </tr>\n",
       "    <tr>\n",
       "      <th>2</th>\n",
       "      <td>22</td>\n",
       "      <td>377</td>\n",
       "      <td>1.0</td>\n",
       "      <td>878887116</td>\n",
       "    </tr>\n",
       "    <tr>\n",
       "      <th>3</th>\n",
       "      <td>244</td>\n",
       "      <td>51</td>\n",
       "      <td>2.0</td>\n",
       "      <td>880606923</td>\n",
       "    </tr>\n",
       "    <tr>\n",
       "      <th>4</th>\n",
       "      <td>166</td>\n",
       "      <td>346</td>\n",
       "      <td>1.0</td>\n",
       "      <td>886397596</td>\n",
       "    </tr>\n",
       "  </tbody>\n",
       "</table>\n",
       "</div>"
      ],
      "text/plain": [
       "  user item  rating  timestamp\n",
       "0  196  242     3.0  881250949\n",
       "1  186  302     3.0  891717742\n",
       "2   22  377     1.0  878887116\n",
       "3  244   51     2.0  880606923\n",
       "4  166  346     1.0  886397596"
      ]
     },
     "execution_count": 30,
     "metadata": {},
     "output_type": "execute_result"
    }
   ],
   "source": [
    "df = pd.DataFrame(data.raw_ratings)\n",
    "df.columns = ['user', 'item', 'rating', 'timestamp']\n",
    "df.head()"
   ]
  },
  {
   "cell_type": "code",
   "execution_count": 31,
   "id": "f9dffe9d",
   "metadata": {},
   "outputs": [
    {
     "name": "stdout",
     "output_type": "stream",
     "text": [
      "1NN: 1.225571815333017\n",
      "3NN: 1.0285238044123872\n",
      "5NN: 0.9866453562005223\n",
      "7NN: 0.9648647073917965\n",
      "20NN: 0.9338949853200551\n"
     ]
    }
   ],
   "source": [
    "for i in [1, 3, 5, 7, 20]:\n",
    "    algo = KNNBaseline(k=i, verbose=False)\n",
    "    cv = cross_validate(algo, data, measures=['RMSE'], cv=5, verbose=False)\n",
    "    print(str(i)+'NN:', np.mean(cv['test_rmse']))"
   ]
  },
  {
   "cell_type": "code",
   "execution_count": 32,
   "id": "915f9ff7",
   "metadata": {},
   "outputs": [
    {
     "name": "stdout",
     "output_type": "stream",
     "text": [
      "1-factors: 0.9408919316001134\n",
      "2-factors: 0.9379691195765535\n",
      "3-factors: 0.9384928479550151\n",
      "5-factors: 0.9407706865677387\n",
      "7-factors: 0.9365736896522062\n",
      "10-factors: 0.9364465716002996\n",
      "50-factors: 0.9346631962701928\n",
      "70-factors: 0.9343155526908185\n"
     ]
    }
   ],
   "source": [
    "for i in [1, 2, 3, 5, 7, 10, 50, 70]:\n",
    "    algo = SVD(n_factors=i, random_state=999, verbose=False)\n",
    "    cv = cross_validate(algo, data, measures=['RMSE'], cv=5, verbose=False)\n",
    "    print(str(i)+'-factors:', np.mean(cv['test_rmse']))"
   ]
  },
  {
   "cell_type": "code",
   "execution_count": 33,
   "id": "cc9684ca",
   "metadata": {},
   "outputs": [
    {
     "name": "stdout",
     "output_type": "stream",
     "text": [
      "1-factors: 0.9595235192411314\n",
      "2-factors: 0.9545346572841409\n",
      "3-factors: 0.9518423842302071\n",
      "5-factors: 0.9442465254329203\n",
      "7-factors: 0.9521461090859145\n",
      "10-factors: 0.9437824863473473\n",
      "50-factors: 0.9437420832577376\n",
      "70-factors: 0.9455068383093881\n"
     ]
    }
   ],
   "source": [
    " for i in [1, 2, 3, 5, 7, 10, 50, 70]:\n",
    "    algo = SVD(n_factors=i, biased=False, random_state=999, verbose=False)\n",
    "    cv = cross_validate(algo, data, measures=['RMSE'], cv=5, verbose=False)\n",
    "    print(str(i)+'-factors:', np.mean(cv['test_rmse']))"
   ]
  },
  {
   "cell_type": "code",
   "execution_count": null,
   "id": "98b05d68",
   "metadata": {},
   "outputs": [],
   "source": []
  }
 ],
 "metadata": {
  "kernelspec": {
   "display_name": "Python 3 (ipykernel)",
   "language": "python",
   "name": "python3"
  },
  "language_info": {
   "codemirror_mode": {
    "name": "ipython",
    "version": 3
   },
   "file_extension": ".py",
   "mimetype": "text/x-python",
   "name": "python",
   "nbconvert_exporter": "python",
   "pygments_lexer": "ipython3",
   "version": "3.10.10"
  },
  "toc": {
   "base_numbering": 1,
   "nav_menu": {},
   "number_sections": true,
   "sideBar": true,
   "skip_h1_title": false,
   "title_cell": "Table of Contents",
   "title_sidebar": "Contents",
   "toc_cell": false,
   "toc_position": {},
   "toc_section_display": true,
   "toc_window_display": false
  }
 },
 "nbformat": 4,
 "nbformat_minor": 5
}
