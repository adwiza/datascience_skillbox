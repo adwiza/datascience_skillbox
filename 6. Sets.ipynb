{
 "cells": [
  {
   "cell_type": "code",
   "execution_count": 2,
   "id": "7919dc23",
   "metadata": {},
   "outputs": [
    {
     "name": "stdout",
     "output_type": "stream",
     "text": [
      "<class 'set'>\n"
     ]
    }
   ],
   "source": [
    "test_set = set()\n",
    "print(type(test_set))"
   ]
  },
  {
   "cell_type": "code",
   "execution_count": 3,
   "id": "0a2bc7cd",
   "metadata": {},
   "outputs": [],
   "source": [
    "test_set = set([1, 5, 10])"
   ]
  },
  {
   "cell_type": "code",
   "execution_count": 5,
   "id": "80d2c251",
   "metadata": {},
   "outputs": [
    {
     "name": "stdout",
     "output_type": "stream",
     "text": [
      "{1, 10, 5}\n",
      "<class 'set'>\n"
     ]
    }
   ],
   "source": [
    "print(test_set)\n",
    "print(type(test_set))"
   ]
  },
  {
   "cell_type": "code",
   "execution_count": 8,
   "id": "91f29643",
   "metadata": {},
   "outputs": [
    {
     "name": "stdout",
     "output_type": "stream",
     "text": [
      "{'a', 'm'}\n",
      "<class 'set'>\n"
     ]
    }
   ],
   "source": [
    "test_set = set('mama')\n",
    "print(test_set)\n",
    "print(type(test_set))"
   ]
  },
  {
   "cell_type": "code",
   "execution_count": 9,
   "id": "bde44af4",
   "metadata": {},
   "outputs": [
    {
     "name": "stdout",
     "output_type": "stream",
     "text": [
      "{1, 2}\n",
      "<class 'set'>\n"
     ]
    }
   ],
   "source": [
    "test_set = set((1, 2, 1))\n",
    "print(test_set)\n",
    "print(type(test_set))"
   ]
  },
  {
   "cell_type": "code",
   "execution_count": 11,
   "id": "3287ab23",
   "metadata": {},
   "outputs": [
    {
     "name": "stdout",
     "output_type": "stream",
     "text": [
      "{1, 2, 10}\n",
      "<class 'set'>\n"
     ]
    }
   ],
   "source": [
    "test_set = {1, 2, 10}\n",
    "print(test_set)\n",
    "print(type(test_set))"
   ]
  },
  {
   "cell_type": "code",
   "execution_count": 12,
   "id": "c64cdd50",
   "metadata": {},
   "outputs": [
    {
     "data": {
      "text/plain": [
       "3"
      ]
     },
     "execution_count": 12,
     "metadata": {},
     "output_type": "execute_result"
    }
   ],
   "source": [
    "len(test_set)"
   ]
  },
  {
   "cell_type": "code",
   "execution_count": 13,
   "id": "b7a800f9",
   "metadata": {},
   "outputs": [
    {
     "data": {
      "text/plain": [
       "10"
      ]
     },
     "execution_count": 13,
     "metadata": {},
     "output_type": "execute_result"
    }
   ],
   "source": [
    "max(test_set)"
   ]
  },
  {
   "cell_type": "code",
   "execution_count": 14,
   "id": "1d13ffd6",
   "metadata": {},
   "outputs": [
    {
     "data": {
      "text/plain": [
       "1"
      ]
     },
     "execution_count": 14,
     "metadata": {},
     "output_type": "execute_result"
    }
   ],
   "source": [
    "min(test_set)"
   ]
  },
  {
   "cell_type": "code",
   "execution_count": 15,
   "id": "8b803349",
   "metadata": {},
   "outputs": [],
   "source": [
    "test_set.add(100)"
   ]
  },
  {
   "cell_type": "code",
   "execution_count": 16,
   "id": "5c7b6998",
   "metadata": {},
   "outputs": [
    {
     "data": {
      "text/plain": [
       "{1, 2, 10, 100}"
      ]
     },
     "execution_count": 16,
     "metadata": {},
     "output_type": "execute_result"
    }
   ],
   "source": [
    "test_set"
   ]
  },
  {
   "cell_type": "code",
   "execution_count": 17,
   "id": "8f93256f",
   "metadata": {},
   "outputs": [],
   "source": [
    "test_set.discard(100)"
   ]
  },
  {
   "cell_type": "code",
   "execution_count": 18,
   "id": "09a09c95",
   "metadata": {},
   "outputs": [
    {
     "data": {
      "text/plain": [
       "{1, 2, 10}"
      ]
     },
     "execution_count": 18,
     "metadata": {},
     "output_type": "execute_result"
    }
   ],
   "source": [
    "test_set"
   ]
  },
  {
   "cell_type": "code",
   "execution_count": 19,
   "id": "69cda921",
   "metadata": {},
   "outputs": [
    {
     "data": {
      "text/plain": [
       "True"
      ]
     },
     "execution_count": 19,
     "metadata": {},
     "output_type": "execute_result"
    }
   ],
   "source": [
    "10 in test_set"
   ]
  },
  {
   "cell_type": "code",
   "execution_count": 20,
   "id": "8fdaf577",
   "metadata": {},
   "outputs": [],
   "source": [
    "store_A = ['телевизоры', 'планшеты', 'ноутбуки', 'смартфоны', 'компьютеры', 'аудиомагнитолф']\n",
    "store_B = ['ноутбуки', 'смартфоны', 'колонки',  'аксессуары', 'бытовая техника', 'мониторы', 'умный дом', 'ноутбуки']"
   ]
  },
  {
   "cell_type": "code",
   "execution_count": 21,
   "id": "ef5ad4d6",
   "metadata": {},
   "outputs": [],
   "source": [
    "store_A_set = set(store_A)\n",
    "store_B_set = set(store_B)"
   ]
  },
  {
   "cell_type": "code",
   "execution_count": 24,
   "id": "6d22a24d",
   "metadata": {},
   "outputs": [
    {
     "name": "stdout",
     "output_type": "stream",
     "text": [
      "До: 6, После: 6\n",
      "До: 8, После: 7\n"
     ]
    }
   ],
   "source": [
    "print(f'До: {len(store_A)}, После: {len(store_A_set)}')\n",
    "print(f'До: {len(store_B)}, После: {len(store_B_set)}')"
   ]
  },
  {
   "cell_type": "code",
   "execution_count": 25,
   "id": "7d508a70",
   "metadata": {},
   "outputs": [
    {
     "data": {
      "text/plain": [
       "{'ноутбуки', 'смартфоны'}"
      ]
     },
     "execution_count": 25,
     "metadata": {},
     "output_type": "execute_result"
    }
   ],
   "source": [
    "# Пересечение двух множеств\n",
    "\n",
    "store_A_set.intersection(store_B_set)"
   ]
  },
  {
   "cell_type": "code",
   "execution_count": 26,
   "id": "cf67b3c2",
   "metadata": {},
   "outputs": [
    {
     "data": {
      "text/plain": [
       "{'ноутбуки', 'смартфоны'}"
      ]
     },
     "execution_count": 26,
     "metadata": {},
     "output_type": "execute_result"
    }
   ],
   "source": [
    "store_A_set & store_B_set"
   ]
  },
  {
   "cell_type": "code",
   "execution_count": 27,
   "id": "17ac95d0",
   "metadata": {},
   "outputs": [],
   "source": [
    "stores_intersections = store_A_set & store_B_set"
   ]
  },
  {
   "cell_type": "code",
   "execution_count": 28,
   "id": "1046d126",
   "metadata": {},
   "outputs": [],
   "source": [
    "# Объединение двух множеств"
   ]
  },
  {
   "cell_type": "code",
   "execution_count": 29,
   "id": "594c2d9e",
   "metadata": {},
   "outputs": [
    {
     "data": {
      "text/plain": [
       "{'аксессуары',\n",
       " 'аудиомагнитолф',\n",
       " 'бытовая техника',\n",
       " 'колонки',\n",
       " 'компьютеры',\n",
       " 'мониторы',\n",
       " 'ноутбуки',\n",
       " 'планшеты',\n",
       " 'смартфоны',\n",
       " 'телевизоры',\n",
       " 'умный дом'}"
      ]
     },
     "execution_count": 29,
     "metadata": {},
     "output_type": "execute_result"
    }
   ],
   "source": [
    "store_A_set.union(store_B_set)"
   ]
  },
  {
   "cell_type": "code",
   "execution_count": 30,
   "id": "f63ce0a8",
   "metadata": {},
   "outputs": [
    {
     "data": {
      "text/plain": [
       "{'аксессуары',\n",
       " 'аудиомагнитолф',\n",
       " 'бытовая техника',\n",
       " 'колонки',\n",
       " 'компьютеры',\n",
       " 'мониторы',\n",
       " 'ноутбуки',\n",
       " 'планшеты',\n",
       " 'смартфоны',\n",
       " 'телевизоры',\n",
       " 'умный дом'}"
      ]
     },
     "execution_count": 30,
     "metadata": {},
     "output_type": "execute_result"
    }
   ],
   "source": [
    "store_A_set | store_B_set"
   ]
  },
  {
   "cell_type": "code",
   "execution_count": 31,
   "id": "684e835e",
   "metadata": {},
   "outputs": [],
   "source": [
    "stores_union = store_A_set | store_B_set"
   ]
  },
  {
   "cell_type": "code",
   "execution_count": 36,
   "id": "d3c5ddd9",
   "metadata": {},
   "outputs": [
    {
     "name": "stdout",
     "output_type": "stream",
     "text": [
      "Процент совпавших категорий: 18.18%\n"
     ]
    }
   ],
   "source": [
    "intersection_percent = (len(stores_intersections)/len(stores_union)) * 100\n",
    "print(f'Процент совпавших категорий: {intersection_percent:.2f}%')"
   ]
  },
  {
   "cell_type": "code",
   "execution_count": 38,
   "id": "63e09614",
   "metadata": {},
   "outputs": [
    {
     "data": {
      "text/plain": [
       "{'аксессуары', 'бытовая техника', 'колонки', 'мониторы', 'умный дом'}"
      ]
     },
     "execution_count": 38,
     "metadata": {},
     "output_type": "execute_result"
    }
   ],
   "source": [
    "# Вычитание одного множества из другого\n",
    "store_B_set - store_A_set"
   ]
  },
  {
   "cell_type": "code",
   "execution_count": 39,
   "id": "da52ff0c",
   "metadata": {},
   "outputs": [
    {
     "data": {
      "text/plain": [
       "{'аксессуары', 'бытовая техника', 'колонки', 'мониторы', 'умный дом'}"
      ]
     },
     "execution_count": 39,
     "metadata": {},
     "output_type": "execute_result"
    }
   ],
   "source": [
    "store_B_set.difference(store_A_set)"
   ]
  },
  {
   "cell_type": "code",
   "execution_count": 42,
   "id": "44869fd0",
   "metadata": {},
   "outputs": [
    {
     "name": "stdout",
     "output_type": "stream",
     "text": [
      "Процент непокрытых категорий из B: 45.45%\n"
     ]
    }
   ],
   "source": [
    "B_dif_A = store_B_set - store_A_set\n",
    "B_dif_A_percent = (len(B_dif_A)/len(stores_union)) * 100\n",
    "print(f'Процент непокрытых категорий из B: {B_dif_A_percent:.2f}%')"
   ]
  },
  {
   "cell_type": "code",
   "execution_count": 43,
   "id": "590ed68b",
   "metadata": {},
   "outputs": [
    {
     "name": "stdout",
     "output_type": "stream",
     "text": [
      "Процент непокрытых категорий из A: 36.36%\n"
     ]
    }
   ],
   "source": [
    "A_dif_B = store_A_set - store_B_set\n",
    "A_dif_B_percent = (len(A_dif_B)/len(stores_union)) * 100\n",
    "print(f'Процент непокрытых категорий из A: {A_dif_B_percent:.2f}%')"
   ]
  },
  {
   "cell_type": "code",
   "execution_count": 44,
   "id": "6fbf31b2",
   "metadata": {},
   "outputs": [
    {
     "data": {
      "text/plain": [
       "100.0"
      ]
     },
     "execution_count": 44,
     "metadata": {},
     "output_type": "execute_result"
    }
   ],
   "source": [
    "A_dif_B_percent + B_dif_A_percent + intersection_percent"
   ]
  },
  {
   "cell_type": "code",
   "execution_count": 45,
   "id": "e6e4967a",
   "metadata": {},
   "outputs": [
    {
     "data": {
      "text/plain": [
       "{'аксессуары', 'бытовая техника', 'колонки', 'мониторы', 'умный дом'}"
      ]
     },
     "execution_count": 45,
     "metadata": {},
     "output_type": "execute_result"
    }
   ],
   "source": [
    "B_dif_A"
   ]
  },
  {
   "cell_type": "code",
   "execution_count": 54,
   "id": "c6ab173e",
   "metadata": {},
   "outputs": [
    {
     "name": "stdout",
     "output_type": "stream",
     "text": [
      "бытовая техника\n",
      "аксессуары\n",
      "колонки\n",
      "мониторы\n",
      "умный дом\n"
     ]
    }
   ],
   "source": [
    "for elem in B_dif_A:\n",
    "    print(elem)"
   ]
  },
  {
   "cell_type": "code",
   "execution_count": 55,
   "id": "2ed314d2",
   "metadata": {},
   "outputs": [
    {
     "data": {
      "text/plain": [
       "{'аксессуары',\n",
       " 'аудиомагнитолф',\n",
       " 'бытовая техника',\n",
       " 'колонки',\n",
       " 'компьютеры',\n",
       " 'мониторы',\n",
       " 'планшеты',\n",
       " 'телевизоры',\n",
       " 'умный дом'}"
      ]
     },
     "execution_count": 55,
     "metadata": {},
     "output_type": "execute_result"
    }
   ],
   "source": [
    "# Симметричное вычитание двух множеств\n",
    "store_B_set.symmetric_difference(store_A_set)"
   ]
  },
  {
   "cell_type": "code",
   "execution_count": 56,
   "id": "f9676fed",
   "metadata": {},
   "outputs": [
    {
     "data": {
      "text/plain": [
       "{'аксессуары',\n",
       " 'аудиомагнитолф',\n",
       " 'бытовая техника',\n",
       " 'колонки',\n",
       " 'компьютеры',\n",
       " 'мониторы',\n",
       " 'планшеты',\n",
       " 'телевизоры',\n",
       " 'умный дом'}"
      ]
     },
     "execution_count": 56,
     "metadata": {},
     "output_type": "execute_result"
    }
   ],
   "source": [
    "store_B_set ^ store_A_set"
   ]
  },
  {
   "cell_type": "code",
   "execution_count": null,
   "id": "33b1816a",
   "metadata": {},
   "outputs": [],
   "source": []
  }
 ],
 "metadata": {
  "kernelspec": {
   "display_name": "Python 3 (ipykernel)",
   "language": "python",
   "name": "python3"
  },
  "language_info": {
   "codemirror_mode": {
    "name": "ipython",
    "version": 3
   },
   "file_extension": ".py",
   "mimetype": "text/x-python",
   "name": "python",
   "nbconvert_exporter": "python",
   "pygments_lexer": "ipython3",
   "version": "3.10.9"
  }
 },
 "nbformat": 4,
 "nbformat_minor": 5
}
