{
 "cells": [
  {
   "cell_type": "code",
   "execution_count": 1,
   "id": "5b9220bd",
   "metadata": {},
   "outputs": [],
   "source": [
    "import numpy as np\n",
    "import pandas as pd\n",
    "from datetime import datetime as dtt\n",
    "import pyarrow as pa\n",
    "import pyarrow.csv as pa_csv\n",
    "import random\n",
    "import string"
   ]
  },
  {
   "cell_type": "code",
   "execution_count": 2,
   "id": "d813d24c",
   "metadata": {},
   "outputs": [],
   "source": [
    "def gen_random_string(length: int = 32) -> str:\n",
    "    return ''.join(random.choices(string.ascii_uppercase + string.digits, k=length))"
   ]
  },
  {
   "cell_type": "code",
   "execution_count": 3,
   "id": "7749852b",
   "metadata": {},
   "outputs": [],
   "source": [
    "def gen_random_df() -> pd.core.frame.DataFrame:\n",
    "    dt = pd.date_range(start=dtt(2008, 1, 1), end=dtt(2021, 1, 1), freq='min')\n",
    "    \n",
    "    np.random.seeed = 42\n",
    "    df_size = len(dt)\n",
    "    \n",
    "    return pd.DataFrame({\n",
    "        'date': dt,\n",
    "        'a': np.random.rand(df_size),\n",
    "        'b': np.random.rand(df_size),\n",
    "        'c': np.random.rand(df_size),\n",
    "        'd': np.random.rand(df_size),\n",
    "        'e': np.random.rand(df_size),\n",
    "        'str1': [gen_random_string() for x in range(df_size)],\n",
    "        'str2': [gen_random_string() for x in range(df_size)],\n",
    "    })"
   ]
  },
  {
   "cell_type": "markdown",
   "id": "c6de2a8f",
   "metadata": {},
   "source": [
    "## Pandas"
   ]
  },
  {
   "cell_type": "code",
   "execution_count": 4,
   "id": "722b22a3",
   "metadata": {},
   "outputs": [
    {
     "name": "stdout",
     "output_type": "stream",
     "text": [
      "CPU times: user 1min 9s, sys: 2.52 s, total: 1min 11s\n",
      "Wall time: 1min 14s\n"
     ]
    }
   ],
   "source": [
    "%%time\n",
    "df = gen_random_df()"
   ]
  },
  {
   "cell_type": "code",
   "execution_count": 5,
   "id": "8a100c01",
   "metadata": {},
   "outputs": [
    {
     "data": {
      "text/html": [
       "<div>\n",
       "<style scoped>\n",
       "    .dataframe tbody tr th:only-of-type {\n",
       "        vertical-align: middle;\n",
       "    }\n",
       "\n",
       "    .dataframe tbody tr th {\n",
       "        vertical-align: top;\n",
       "    }\n",
       "\n",
       "    .dataframe thead th {\n",
       "        text-align: right;\n",
       "    }\n",
       "</style>\n",
       "<table border=\"1\" class=\"dataframe\">\n",
       "  <thead>\n",
       "    <tr style=\"text-align: right;\">\n",
       "      <th></th>\n",
       "      <th>date</th>\n",
       "      <th>a</th>\n",
       "      <th>b</th>\n",
       "      <th>c</th>\n",
       "      <th>d</th>\n",
       "      <th>e</th>\n",
       "      <th>str1</th>\n",
       "      <th>str2</th>\n",
       "    </tr>\n",
       "  </thead>\n",
       "  <tbody>\n",
       "    <tr>\n",
       "      <th>0</th>\n",
       "      <td>2008-01-01 00:00:00</td>\n",
       "      <td>0.894641</td>\n",
       "      <td>0.157044</td>\n",
       "      <td>0.136433</td>\n",
       "      <td>0.767557</td>\n",
       "      <td>0.199758</td>\n",
       "      <td>DU5FEWD4CQPKK9ZS0OJFEE6D21822PNQ</td>\n",
       "      <td>XZDFL3QNH2K769JQAR6MZ8C4OS5L3JKW</td>\n",
       "    </tr>\n",
       "    <tr>\n",
       "      <th>1</th>\n",
       "      <td>2008-01-01 00:01:00</td>\n",
       "      <td>0.005116</td>\n",
       "      <td>0.395153</td>\n",
       "      <td>0.242322</td>\n",
       "      <td>0.814322</td>\n",
       "      <td>0.052537</td>\n",
       "      <td>1LANI21HPC2RNSAP4F32FMCXIWCCHZ0S</td>\n",
       "      <td>XU7Q26BHLLU297TVL4586TA80V05GII9</td>\n",
       "    </tr>\n",
       "    <tr>\n",
       "      <th>2</th>\n",
       "      <td>2008-01-01 00:02:00</td>\n",
       "      <td>0.561317</td>\n",
       "      <td>0.136245</td>\n",
       "      <td>0.418272</td>\n",
       "      <td>0.608092</td>\n",
       "      <td>0.972008</td>\n",
       "      <td>UZPN3WQG4PLBL8R60HFP9X2AMYRQ14J6</td>\n",
       "      <td>3Y8KJGA4UNON1EUPIMJ7G8SOL3KOGE71</td>\n",
       "    </tr>\n",
       "    <tr>\n",
       "      <th>3</th>\n",
       "      <td>2008-01-01 00:03:00</td>\n",
       "      <td>0.900031</td>\n",
       "      <td>0.783090</td>\n",
       "      <td>0.376043</td>\n",
       "      <td>0.189969</td>\n",
       "      <td>0.183286</td>\n",
       "      <td>WZ4VX2VQ1WV6JU9JNHBYD0059E3QUAG1</td>\n",
       "      <td>KA73304RGI37QN072DS97I8KGXY5OHJV</td>\n",
       "    </tr>\n",
       "    <tr>\n",
       "      <th>4</th>\n",
       "      <td>2008-01-01 00:04:00</td>\n",
       "      <td>0.718266</td>\n",
       "      <td>0.674473</td>\n",
       "      <td>0.578599</td>\n",
       "      <td>0.837800</td>\n",
       "      <td>0.602903</td>\n",
       "      <td>HNFJYANYAUSR7SV420L9YLL0CDCNNWRV</td>\n",
       "      <td>4CM87ATIIR0ZSB4RA57TRAMT18ADV920</td>\n",
       "    </tr>\n",
       "  </tbody>\n",
       "</table>\n",
       "</div>"
      ],
      "text/plain": [
       "                 date         a         b         c         d         e  \\\n",
       "0 2008-01-01 00:00:00  0.894641  0.157044  0.136433  0.767557  0.199758   \n",
       "1 2008-01-01 00:01:00  0.005116  0.395153  0.242322  0.814322  0.052537   \n",
       "2 2008-01-01 00:02:00  0.561317  0.136245  0.418272  0.608092  0.972008   \n",
       "3 2008-01-01 00:03:00  0.900031  0.783090  0.376043  0.189969  0.183286   \n",
       "4 2008-01-01 00:04:00  0.718266  0.674473  0.578599  0.837800  0.602903   \n",
       "\n",
       "                               str1                              str2  \n",
       "0  DU5FEWD4CQPKK9ZS0OJFEE6D21822PNQ  XZDFL3QNH2K769JQAR6MZ8C4OS5L3JKW  \n",
       "1  1LANI21HPC2RNSAP4F32FMCXIWCCHZ0S  XU7Q26BHLLU297TVL4586TA80V05GII9  \n",
       "2  UZPN3WQG4PLBL8R60HFP9X2AMYRQ14J6  3Y8KJGA4UNON1EUPIMJ7G8SOL3KOGE71  \n",
       "3  WZ4VX2VQ1WV6JU9JNHBYD0059E3QUAG1  KA73304RGI37QN072DS97I8KGXY5OHJV  \n",
       "4  HNFJYANYAUSR7SV420L9YLL0CDCNNWRV  4CM87ATIIR0ZSB4RA57TRAMT18ADV920  "
      ]
     },
     "execution_count": 5,
     "metadata": {},
     "output_type": "execute_result"
    }
   ],
   "source": [
    "df.head()"
   ]
  },
  {
   "cell_type": "code",
   "execution_count": 6,
   "id": "611d4ec4",
   "metadata": {},
   "outputs": [
    {
     "data": {
      "text/plain": [
       "(6838561, 8)"
      ]
     },
     "execution_count": 6,
     "metadata": {},
     "output_type": "execute_result"
    }
   ],
   "source": [
    "df.shape"
   ]
  },
  {
   "cell_type": "code",
   "execution_count": 7,
   "id": "4c46d72b",
   "metadata": {},
   "outputs": [
    {
     "name": "stdout",
     "output_type": "stream",
     "text": [
      "CPU times: user 1min 5s, sys: 1.69 s, total: 1min 7s\n",
      "Wall time: 1min 10s\n"
     ]
    }
   ],
   "source": [
    "%%time\n",
    "df.to_csv('datasets/csv_pandas.csv', index=False)"
   ]
  },
  {
   "cell_type": "code",
   "execution_count": 8,
   "id": "2b954a08",
   "metadata": {},
   "outputs": [
    {
     "name": "stdout",
     "output_type": "stream",
     "text": [
      "CPU times: user 2min 58s, sys: 1.01 s, total: 2min 59s\n",
      "Wall time: 3min 1s\n"
     ]
    }
   ],
   "source": [
    "%%time\n",
    "df.to_csv('datasets/csv_pandas.csv.gz', index=False, compression='gzip')"
   ]
  },
  {
   "cell_type": "code",
   "execution_count": 9,
   "id": "64ee1b73",
   "metadata": {},
   "outputs": [
    {
     "name": "stdout",
     "output_type": "stream",
     "text": [
      "CPU times: user 14.9 s, sys: 4.06 s, total: 18.9 s\n",
      "Wall time: 20 s\n"
     ]
    }
   ],
   "source": [
    "%%time\n",
    "df1 = pd.read_csv('datasets/csv_pandas.csv')"
   ]
  },
  {
   "cell_type": "code",
   "execution_count": 10,
   "id": "70e9352c",
   "metadata": {},
   "outputs": [
    {
     "name": "stdout",
     "output_type": "stream",
     "text": [
      "CPU times: user 21.6 s, sys: 3.96 s, total: 25.5 s\n",
      "Wall time: 26 s\n"
     ]
    }
   ],
   "source": [
    "%%time\n",
    "df2 = pd.read_csv('datasets/csv_pandas.csv.gz')"
   ]
  },
  {
   "cell_type": "code",
   "execution_count": 11,
   "id": "f70985cd",
   "metadata": {},
   "outputs": [],
   "source": [
    "df_pa = df.copy()"
   ]
  },
  {
   "cell_type": "code",
   "execution_count": 12,
   "id": "45661d60",
   "metadata": {},
   "outputs": [],
   "source": [
    "df_pa['date'] = df_pa['date'].values.astype(np.int64) // 18 ** 9"
   ]
  },
  {
   "cell_type": "code",
   "execution_count": 13,
   "id": "4c27efe0",
   "metadata": {},
   "outputs": [
    {
     "data": {
      "text/html": [
       "<div>\n",
       "<style scoped>\n",
       "    .dataframe tbody tr th:only-of-type {\n",
       "        vertical-align: middle;\n",
       "    }\n",
       "\n",
       "    .dataframe tbody tr th {\n",
       "        vertical-align: top;\n",
       "    }\n",
       "\n",
       "    .dataframe thead th {\n",
       "        text-align: right;\n",
       "    }\n",
       "</style>\n",
       "<table border=\"1\" class=\"dataframe\">\n",
       "  <thead>\n",
       "    <tr style=\"text-align: right;\">\n",
       "      <th></th>\n",
       "      <th>date</th>\n",
       "      <th>a</th>\n",
       "      <th>b</th>\n",
       "      <th>c</th>\n",
       "      <th>d</th>\n",
       "      <th>e</th>\n",
       "      <th>str1</th>\n",
       "      <th>str2</th>\n",
       "    </tr>\n",
       "  </thead>\n",
       "  <tbody>\n",
       "    <tr>\n",
       "      <th>0</th>\n",
       "      <td>6045321</td>\n",
       "      <td>0.894641</td>\n",
       "      <td>0.157044</td>\n",
       "      <td>0.136433</td>\n",
       "      <td>0.767557</td>\n",
       "      <td>0.199758</td>\n",
       "      <td>DU5FEWD4CQPKK9ZS0OJFEE6D21822PNQ</td>\n",
       "      <td>XZDFL3QNH2K769JQAR6MZ8C4OS5L3JKW</td>\n",
       "    </tr>\n",
       "    <tr>\n",
       "      <th>1</th>\n",
       "      <td>6045321</td>\n",
       "      <td>0.005116</td>\n",
       "      <td>0.395153</td>\n",
       "      <td>0.242322</td>\n",
       "      <td>0.814322</td>\n",
       "      <td>0.052537</td>\n",
       "      <td>1LANI21HPC2RNSAP4F32FMCXIWCCHZ0S</td>\n",
       "      <td>XU7Q26BHLLU297TVL4586TA80V05GII9</td>\n",
       "    </tr>\n",
       "    <tr>\n",
       "      <th>2</th>\n",
       "      <td>6045321</td>\n",
       "      <td>0.561317</td>\n",
       "      <td>0.136245</td>\n",
       "      <td>0.418272</td>\n",
       "      <td>0.608092</td>\n",
       "      <td>0.972008</td>\n",
       "      <td>UZPN3WQG4PLBL8R60HFP9X2AMYRQ14J6</td>\n",
       "      <td>3Y8KJGA4UNON1EUPIMJ7G8SOL3KOGE71</td>\n",
       "    </tr>\n",
       "    <tr>\n",
       "      <th>3</th>\n",
       "      <td>6045321</td>\n",
       "      <td>0.900031</td>\n",
       "      <td>0.783090</td>\n",
       "      <td>0.376043</td>\n",
       "      <td>0.189969</td>\n",
       "      <td>0.183286</td>\n",
       "      <td>WZ4VX2VQ1WV6JU9JNHBYD0059E3QUAG1</td>\n",
       "      <td>KA73304RGI37QN072DS97I8KGXY5OHJV</td>\n",
       "    </tr>\n",
       "    <tr>\n",
       "      <th>4</th>\n",
       "      <td>6045322</td>\n",
       "      <td>0.718266</td>\n",
       "      <td>0.674473</td>\n",
       "      <td>0.578599</td>\n",
       "      <td>0.837800</td>\n",
       "      <td>0.602903</td>\n",
       "      <td>HNFJYANYAUSR7SV420L9YLL0CDCNNWRV</td>\n",
       "      <td>4CM87ATIIR0ZSB4RA57TRAMT18ADV920</td>\n",
       "    </tr>\n",
       "  </tbody>\n",
       "</table>\n",
       "</div>"
      ],
      "text/plain": [
       "      date         a         b         c         d         e  \\\n",
       "0  6045321  0.894641  0.157044  0.136433  0.767557  0.199758   \n",
       "1  6045321  0.005116  0.395153  0.242322  0.814322  0.052537   \n",
       "2  6045321  0.561317  0.136245  0.418272  0.608092  0.972008   \n",
       "3  6045321  0.900031  0.783090  0.376043  0.189969  0.183286   \n",
       "4  6045322  0.718266  0.674473  0.578599  0.837800  0.602903   \n",
       "\n",
       "                               str1                              str2  \n",
       "0  DU5FEWD4CQPKK9ZS0OJFEE6D21822PNQ  XZDFL3QNH2K769JQAR6MZ8C4OS5L3JKW  \n",
       "1  1LANI21HPC2RNSAP4F32FMCXIWCCHZ0S  XU7Q26BHLLU297TVL4586TA80V05GII9  \n",
       "2  UZPN3WQG4PLBL8R60HFP9X2AMYRQ14J6  3Y8KJGA4UNON1EUPIMJ7G8SOL3KOGE71  \n",
       "3  WZ4VX2VQ1WV6JU9JNHBYD0059E3QUAG1  KA73304RGI37QN072DS97I8KGXY5OHJV  \n",
       "4  HNFJYANYAUSR7SV420L9YLL0CDCNNWRV  4CM87ATIIR0ZSB4RA57TRAMT18ADV920  "
      ]
     },
     "execution_count": 13,
     "metadata": {},
     "output_type": "execute_result"
    }
   ],
   "source": [
    "df_pa.head()"
   ]
  },
  {
   "cell_type": "markdown",
   "id": "b07ec17c",
   "metadata": {},
   "source": [
    "## PyArrow"
   ]
  },
  {
   "cell_type": "code",
   "execution_count": 14,
   "id": "7e01026d",
   "metadata": {},
   "outputs": [],
   "source": [
    "df_pa_table = pa.Table.from_pandas(df_pa)"
   ]
  },
  {
   "cell_type": "code",
   "execution_count": 15,
   "id": "a35fee0e",
   "metadata": {},
   "outputs": [
    {
     "name": "stdout",
     "output_type": "stream",
     "text": [
      "CPU times: user 5.69 s, sys: 661 ms, total: 6.35 s\n",
      "Wall time: 7.45 s\n"
     ]
    }
   ],
   "source": [
    "%%time\n",
    "pa_csv.write_csv(df_pa_table, 'datasets/csv_pyarrow.csv')"
   ]
  },
  {
   "cell_type": "code",
   "execution_count": 16,
   "id": "8fa44c87",
   "metadata": {},
   "outputs": [
    {
     "name": "stdout",
     "output_type": "stream",
     "text": [
      "CPU times: user 1min 15s, sys: 430 ms, total: 1min 15s\n",
      "Wall time: 1min 17s\n"
     ]
    }
   ],
   "source": [
    "%%time\n",
    "\n",
    "with pa.CompressedOutputStream('datasets/csv_pyarrow.csv.gz', 'gzip') as out:\n",
    "    pa_csv.write_csv(df_pa_table, out)"
   ]
  },
  {
   "cell_type": "code",
   "execution_count": 17,
   "id": "82893328",
   "metadata": {},
   "outputs": [
    {
     "name": "stdout",
     "output_type": "stream",
     "text": [
      "CPU times: user 5.36 s, sys: 2.28 s, total: 7.64 s\n",
      "Wall time: 4.63 s\n"
     ]
    }
   ],
   "source": [
    "%%time\n",
    "df_pa1 = pa_csv.read_csv('datasets/csv_pyarrow.csv')"
   ]
  },
  {
   "cell_type": "code",
   "execution_count": 18,
   "id": "0226d69c",
   "metadata": {},
   "outputs": [
    {
     "name": "stdout",
     "output_type": "stream",
     "text": [
      "CPU times: user 11.3 s, sys: 1.27 s, total: 12.6 s\n",
      "Wall time: 8.5 s\n"
     ]
    }
   ],
   "source": [
    "%%time\n",
    "df_pa2 = pa_csv.read_csv('datasets/csv_pyarrow.csv.gz')"
   ]
  },
  {
   "cell_type": "markdown",
   "id": "701cde02",
   "metadata": {},
   "source": [
    "## Parquet"
   ]
  },
  {
   "cell_type": "code",
   "execution_count": 19,
   "id": "ccc0d201",
   "metadata": {},
   "outputs": [
    {
     "name": "stdout",
     "output_type": "stream",
     "text": [
      "CPU times: user 1.58 s, sys: 3.4 s, total: 4.98 s\n",
      "Wall time: 6.95 s\n"
     ]
    }
   ],
   "source": [
    "%%time\n",
    "table = pa.Table.from_pandas(df)"
   ]
  },
  {
   "cell_type": "code",
   "execution_count": 20,
   "id": "d88fa456",
   "metadata": {},
   "outputs": [
    {
     "name": "stdout",
     "output_type": "stream",
     "text": [
      "CPU times: user 1.89 s, sys: 1.03 s, total: 2.92 s\n",
      "Wall time: 5.71 s\n"
     ]
    }
   ],
   "source": [
    "%%time\n",
    "\n",
    "import pyarrow.parquet as pq\n",
    "\n",
    "pq.write_table(table, 'datasets/df.parquet')"
   ]
  },
  {
   "cell_type": "code",
   "execution_count": 21,
   "id": "6fbfa455",
   "metadata": {},
   "outputs": [
    {
     "data": {
      "text/plain": [
       "date: timestamp[ns]\n",
       "a: double\n",
       "b: double\n",
       "c: double\n",
       "d: double\n",
       "e: double\n",
       "str1: string\n",
       "str2: string\n",
       "-- schema metadata --\n",
       "pandas: '{\"index_columns\": [{\"kind\": \"range\", \"name\": null, \"start\": 0, \"' + 1113"
      ]
     },
     "execution_count": 21,
     "metadata": {},
     "output_type": "execute_result"
    }
   ],
   "source": [
    "table.schema"
   ]
  },
  {
   "cell_type": "code",
   "execution_count": 22,
   "id": "02ae3130",
   "metadata": {},
   "outputs": [
    {
     "data": {
      "text/plain": [
       "(6838561, 8)"
      ]
     },
     "execution_count": 22,
     "metadata": {},
     "output_type": "execute_result"
    }
   ],
   "source": [
    "table.shape"
   ]
  },
  {
   "cell_type": "code",
   "execution_count": 23,
   "id": "d9a9923e",
   "metadata": {},
   "outputs": [
    {
     "data": {
      "text/plain": [
       "pyarrow.Table\n",
       "date: timestamp[ns]\n",
       "a: double\n",
       "b: double\n",
       "c: double\n",
       "d: double\n",
       "e: double\n",
       "str1: string\n",
       "str2: string\n",
       "----\n",
       "date: [[2008-01-01 00:00:00.000000000,2008-01-01 00:01:00.000000000,2008-01-01 00:02:00.000000000,2008-01-01 00:03:00.000000000,2008-01-01 00:04:00.000000000,...,2020-12-31 23:56:00.000000000,2020-12-31 23:57:00.000000000,2020-12-31 23:58:00.000000000,2020-12-31 23:59:00.000000000,2021-01-01 00:00:00.000000000]]\n",
       "a: [[0.8946414753120778,0.005116394198519947,0.5613172463870624,0.9000312139092288,0.7182660521239629,...,0.39216593993630156,0.24147259671693877,0.5135818964989683,0.48850886891649714,0.6871488565571172]]\n",
       "b: [[0.15704372059366511,0.3951526508395937,0.1362447581438836,0.7830895851309322,0.6744726320103409,...,0.6971443897492829,0.12232051061508531,0.49924330998415223,0.792691011704123,0.5943368122649845]]\n",
       "c: [[0.13643335537041545,0.24232193933645474,0.41827156104085694,0.37604252619018574,0.5785990847333402,...,0.5767158759988779,0.7487147103008416,0.2555637201025186,0.3738311350218335,0.8288222666828203]]\n",
       "d: [[0.7675567810537245,0.8143221850098158,0.6080919424648699,0.1899685102870471,0.837800395878557,...,0.8559708372878364,0.7022460602638553,0.26332617784694345,0.17716632922131648,0.28493340636340214]]\n",
       "e: [[0.19975846951481813,0.0525365279008414,0.9720077811397261,0.18328641688129266,0.6029030042645193,...,0.6893150390021584,0.04612724296301429,0.8070066525867555,0.35875195057489884,0.7124811573861405]]\n",
       "str1: [[\"DU5FEWD4CQPKK9ZS0OJFEE6D21822PNQ\",\"1LANI21HPC2RNSAP4F32FMCXIWCCHZ0S\",\"UZPN3WQG4PLBL8R60HFP9X2AMYRQ14J6\",\"WZ4VX2VQ1WV6JU9JNHBYD0059E3QUAG1\",\"HNFJYANYAUSR7SV420L9YLL0CDCNNWRV\",...,\"C21NQLLVKQENL4RA1JVJVA3UJNRBL3WE\",\"LIXWCTSKNW8Q9YRMCJOMPW09O0JCM5BD\",\"R0DTQ4UCX16ZU13P40HRKQHG67JUBZW3\",\"BB85A7UTKOZ6XCJW0AMD5BZ2YM8P690K\",\"5SMM9G8A8V937BGEH8B2ST7D6MQ8PR53\"]]\n",
       "str2: [[\"XZDFL3QNH2K769JQAR6MZ8C4OS5L3JKW\",\"XU7Q26BHLLU297TVL4586TA80V05GII9\",\"3Y8KJGA4UNON1EUPIMJ7G8SOL3KOGE71\",\"KA73304RGI37QN072DS97I8KGXY5OHJV\",\"4CM87ATIIR0ZSB4RA57TRAMT18ADV920\",...,\"DCEJJHN0KEBXJ72HSK5B0GBK0UV37YQ7\",\"5P1X116HPMWOUM5OK4DIPMWHRIBJ0PEP\",\"J4WD923HZZDHNPQBD8FTG40ARVDG9T7G\",\"3PDSIQ7UUVAOOO229VOLHAHN4NJGKI26\",\"0OSROUQVL4UXJODU46IM6G67URVKY9G7\"]]"
      ]
     },
     "execution_count": 23,
     "metadata": {},
     "output_type": "execute_result"
    }
   ],
   "source": [
    "table"
   ]
  },
  {
   "cell_type": "code",
   "execution_count": 24,
   "id": "94accae4",
   "metadata": {},
   "outputs": [
    {
     "name": "stdout",
     "output_type": "stream",
     "text": [
      "CPU times: user 1.24 s, sys: 2.36 s, total: 3.61 s\n",
      "Wall time: 3.9 s\n"
     ]
    }
   ],
   "source": [
    "%%time\n",
    "\n",
    "table2 = pq.read_table('datasets/df.parquet')"
   ]
  },
  {
   "cell_type": "code",
   "execution_count": 25,
   "id": "a8ed366c",
   "metadata": {},
   "outputs": [
    {
     "data": {
      "text/plain": [
       "(6838561, 8)"
      ]
     },
     "execution_count": 25,
     "metadata": {},
     "output_type": "execute_result"
    }
   ],
   "source": [
    "table2.shape"
   ]
  }
 ],
 "metadata": {
  "kernelspec": {
   "display_name": "Python 3 (ipykernel)",
   "language": "python",
   "name": "python3"
  },
  "language_info": {
   "codemirror_mode": {
    "name": "ipython",
    "version": 3
   },
   "file_extension": ".py",
   "mimetype": "text/x-python",
   "name": "python",
   "nbconvert_exporter": "python",
   "pygments_lexer": "ipython3",
   "version": "3.10.10"
  },
  "toc": {
   "base_numbering": 1,
   "nav_menu": {},
   "number_sections": true,
   "sideBar": true,
   "skip_h1_title": false,
   "title_cell": "Table of Contents",
   "title_sidebar": "Contents",
   "toc_cell": false,
   "toc_position": {},
   "toc_section_display": true,
   "toc_window_display": false
  }
 },
 "nbformat": 4,
 "nbformat_minor": 5
}
