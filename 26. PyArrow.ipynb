{
 "cells": [
  {
   "cell_type": "code",
   "execution_count": 1,
   "id": "5b9220bd",
   "metadata": {},
   "outputs": [],
   "source": [
    "import numpy as np\n",
    "import pandas as pd\n",
    "from datetime import datetime as dtt\n",
    "import pyarrow as pa\n",
    "import pyarrow.csv as pa_csv\n",
    "import random\n",
    "import string"
   ]
  },
  {
   "cell_type": "code",
   "execution_count": 2,
   "id": "d813d24c",
   "metadata": {},
   "outputs": [],
   "source": [
    "def gen_random_string(length: int = 32) -> str:\n",
    "    return ''.join(random.choices(string.ascii_uppercase + string.digits, k=length))"
   ]
  },
  {
   "cell_type": "code",
   "execution_count": 3,
   "id": "7749852b",
   "metadata": {},
   "outputs": [],
   "source": [
    "def gen_random_df() -> pd.core.frame.DataFrame:\n",
    "    dt = pd.date_range(start=dtt(2008, 1, 1), end=dtt(2021, 1, 1), freq='min')\n",
    "    \n",
    "    np.random.seeed = 42\n",
    "    df_size = len(dt)\n",
    "    \n",
    "    return pd.DataFrame({\n",
    "        'date': dt,\n",
    "        'a': np.random.rand(df_size),\n",
    "        'b': np.random.rand(df_size),\n",
    "        'c': np.random.rand(df_size),\n",
    "        'd': np.random.rand(df_size),\n",
    "        'e': np.random.rand(df_size),\n",
    "        'str1': [gen_random_string() for x in range(df_size)],\n",
    "        'str2': [gen_random_string() for x in range(df_size)],\n",
    "    })"
   ]
  },
  {
   "cell_type": "markdown",
   "id": "c6de2a8f",
   "metadata": {},
   "source": [
    "## Pandas"
   ]
  },
  {
   "cell_type": "code",
   "execution_count": 4,
   "id": "722b22a3",
   "metadata": {},
   "outputs": [
    {
     "name": "stdout",
     "output_type": "stream",
     "text": [
      "CPU times: user 1min 8s, sys: 740 ms, total: 1min 9s\n",
      "Wall time: 1min 9s\n"
     ]
    }
   ],
   "source": [
    "%%time\n",
    "df = gen_random_df()"
   ]
  },
  {
   "cell_type": "code",
   "execution_count": 5,
   "id": "8a100c01",
   "metadata": {},
   "outputs": [
    {
     "data": {
      "text/html": [
       "<div>\n",
       "<style scoped>\n",
       "    .dataframe tbody tr th:only-of-type {\n",
       "        vertical-align: middle;\n",
       "    }\n",
       "\n",
       "    .dataframe tbody tr th {\n",
       "        vertical-align: top;\n",
       "    }\n",
       "\n",
       "    .dataframe thead th {\n",
       "        text-align: right;\n",
       "    }\n",
       "</style>\n",
       "<table border=\"1\" class=\"dataframe\">\n",
       "  <thead>\n",
       "    <tr style=\"text-align: right;\">\n",
       "      <th></th>\n",
       "      <th>date</th>\n",
       "      <th>a</th>\n",
       "      <th>b</th>\n",
       "      <th>c</th>\n",
       "      <th>d</th>\n",
       "      <th>e</th>\n",
       "      <th>str1</th>\n",
       "      <th>str2</th>\n",
       "    </tr>\n",
       "  </thead>\n",
       "  <tbody>\n",
       "    <tr>\n",
       "      <th>0</th>\n",
       "      <td>2008-01-01 00:00:00</td>\n",
       "      <td>0.838608</td>\n",
       "      <td>0.289483</td>\n",
       "      <td>0.903988</td>\n",
       "      <td>0.093236</td>\n",
       "      <td>0.410304</td>\n",
       "      <td>HXN0A3VV9SMHR3ULR76RQ0F4U1Q0CNJ2</td>\n",
       "      <td>KU5NQ85YY583GPCKMDB4RC25QL9HMLIO</td>\n",
       "    </tr>\n",
       "    <tr>\n",
       "      <th>1</th>\n",
       "      <td>2008-01-01 00:01:00</td>\n",
       "      <td>0.949606</td>\n",
       "      <td>0.710316</td>\n",
       "      <td>0.638049</td>\n",
       "      <td>0.250692</td>\n",
       "      <td>0.070841</td>\n",
       "      <td>SZSP1MIEECO2OR1Y3X0Q72E5IUC4GUXP</td>\n",
       "      <td>D6N3LWE0PNG20KBOB1AN5MGVEP8F7YVS</td>\n",
       "    </tr>\n",
       "    <tr>\n",
       "      <th>2</th>\n",
       "      <td>2008-01-01 00:02:00</td>\n",
       "      <td>0.437038</td>\n",
       "      <td>0.829742</td>\n",
       "      <td>0.954897</td>\n",
       "      <td>0.579914</td>\n",
       "      <td>0.861055</td>\n",
       "      <td>9GK36SUZR1MS6IXJWCXVEUGGSAF17CLR</td>\n",
       "      <td>W9JYROCYMX4CYXYAXUBOMQUR1MFYYXET</td>\n",
       "    </tr>\n",
       "    <tr>\n",
       "      <th>3</th>\n",
       "      <td>2008-01-01 00:03:00</td>\n",
       "      <td>0.914051</td>\n",
       "      <td>0.333282</td>\n",
       "      <td>0.498265</td>\n",
       "      <td>0.136487</td>\n",
       "      <td>0.844198</td>\n",
       "      <td>BW8IWSN0B8ZXC2X8NT2COFRHDU7FE5XX</td>\n",
       "      <td>BBXEDSRMCEZW8EHU4MCNWFJUGS8BLGUB</td>\n",
       "    </tr>\n",
       "    <tr>\n",
       "      <th>4</th>\n",
       "      <td>2008-01-01 00:04:00</td>\n",
       "      <td>0.801538</td>\n",
       "      <td>0.714043</td>\n",
       "      <td>0.502537</td>\n",
       "      <td>0.500085</td>\n",
       "      <td>0.083226</td>\n",
       "      <td>VMJYM9HWL9EXANLFXQ6F8VC8G4HBB8JY</td>\n",
       "      <td>XKOJN794IP599NVCAS6YX76I5I3SVA00</td>\n",
       "    </tr>\n",
       "  </tbody>\n",
       "</table>\n",
       "</div>"
      ],
      "text/plain": [
       "                 date         a         b         c         d         e  \\\n",
       "0 2008-01-01 00:00:00  0.838608  0.289483  0.903988  0.093236  0.410304   \n",
       "1 2008-01-01 00:01:00  0.949606  0.710316  0.638049  0.250692  0.070841   \n",
       "2 2008-01-01 00:02:00  0.437038  0.829742  0.954897  0.579914  0.861055   \n",
       "3 2008-01-01 00:03:00  0.914051  0.333282  0.498265  0.136487  0.844198   \n",
       "4 2008-01-01 00:04:00  0.801538  0.714043  0.502537  0.500085  0.083226   \n",
       "\n",
       "                               str1                              str2  \n",
       "0  HXN0A3VV9SMHR3ULR76RQ0F4U1Q0CNJ2  KU5NQ85YY583GPCKMDB4RC25QL9HMLIO  \n",
       "1  SZSP1MIEECO2OR1Y3X0Q72E5IUC4GUXP  D6N3LWE0PNG20KBOB1AN5MGVEP8F7YVS  \n",
       "2  9GK36SUZR1MS6IXJWCXVEUGGSAF17CLR  W9JYROCYMX4CYXYAXUBOMQUR1MFYYXET  \n",
       "3  BW8IWSN0B8ZXC2X8NT2COFRHDU7FE5XX  BBXEDSRMCEZW8EHU4MCNWFJUGS8BLGUB  \n",
       "4  VMJYM9HWL9EXANLFXQ6F8VC8G4HBB8JY  XKOJN794IP599NVCAS6YX76I5I3SVA00  "
      ]
     },
     "execution_count": 5,
     "metadata": {},
     "output_type": "execute_result"
    }
   ],
   "source": [
    "df.head()"
   ]
  },
  {
   "cell_type": "code",
   "execution_count": 6,
   "id": "611d4ec4",
   "metadata": {},
   "outputs": [
    {
     "data": {
      "text/plain": [
       "(6838561, 8)"
      ]
     },
     "execution_count": 6,
     "metadata": {},
     "output_type": "execute_result"
    }
   ],
   "source": [
    "df.shape"
   ]
  },
  {
   "cell_type": "code",
   "execution_count": 7,
   "id": "4c46d72b",
   "metadata": {},
   "outputs": [
    {
     "name": "stdout",
     "output_type": "stream",
     "text": [
      "CPU times: user 1min 7s, sys: 1.51 s, total: 1min 8s\n",
      "Wall time: 1min 11s\n"
     ]
    }
   ],
   "source": [
    "%%time\n",
    "df.to_csv('datasets/csv_pandas.csv', index=False)"
   ]
  },
  {
   "cell_type": "code",
   "execution_count": 8,
   "id": "2b954a08",
   "metadata": {},
   "outputs": [
    {
     "name": "stdout",
     "output_type": "stream",
     "text": [
      "CPU times: user 3min 8s, sys: 1.18 s, total: 3min 9s\n",
      "Wall time: 3min 12s\n"
     ]
    }
   ],
   "source": [
    "%%time\n",
    "df.to_csv('datasets/csv_pandas.csv.gz', index=False, compression='gzip')"
   ]
  },
  {
   "cell_type": "code",
   "execution_count": 9,
   "id": "64ee1b73",
   "metadata": {},
   "outputs": [
    {
     "name": "stdout",
     "output_type": "stream",
     "text": [
      "CPU times: user 15.9 s, sys: 4.62 s, total: 20.5 s\n",
      "Wall time: 21.9 s\n"
     ]
    }
   ],
   "source": [
    "%%time\n",
    "df1 = pd.read_csv('datasets/csv_pandas.csv')"
   ]
  },
  {
   "cell_type": "code",
   "execution_count": 10,
   "id": "70e9352c",
   "metadata": {},
   "outputs": [
    {
     "name": "stdout",
     "output_type": "stream",
     "text": [
      "CPU times: user 23.6 s, sys: 4.66 s, total: 28.3 s\n",
      "Wall time: 30 s\n"
     ]
    }
   ],
   "source": [
    "%%time\n",
    "df2 = pd.read_csv('datasets/csv_pandas.csv.gz')"
   ]
  },
  {
   "cell_type": "code",
   "execution_count": 11,
   "id": "f70985cd",
   "metadata": {},
   "outputs": [],
   "source": [
    "df_pa = df.copy()"
   ]
  },
  {
   "cell_type": "code",
   "execution_count": 12,
   "id": "45661d60",
   "metadata": {},
   "outputs": [],
   "source": [
    "df_pa['date'] = df_pa['date'].values.astype(np.int64) // 18 ** 9"
   ]
  },
  {
   "cell_type": "code",
   "execution_count": 13,
   "id": "4c27efe0",
   "metadata": {},
   "outputs": [
    {
     "data": {
      "text/html": [
       "<div>\n",
       "<style scoped>\n",
       "    .dataframe tbody tr th:only-of-type {\n",
       "        vertical-align: middle;\n",
       "    }\n",
       "\n",
       "    .dataframe tbody tr th {\n",
       "        vertical-align: top;\n",
       "    }\n",
       "\n",
       "    .dataframe thead th {\n",
       "        text-align: right;\n",
       "    }\n",
       "</style>\n",
       "<table border=\"1\" class=\"dataframe\">\n",
       "  <thead>\n",
       "    <tr style=\"text-align: right;\">\n",
       "      <th></th>\n",
       "      <th>date</th>\n",
       "      <th>a</th>\n",
       "      <th>b</th>\n",
       "      <th>c</th>\n",
       "      <th>d</th>\n",
       "      <th>e</th>\n",
       "      <th>str1</th>\n",
       "      <th>str2</th>\n",
       "    </tr>\n",
       "  </thead>\n",
       "  <tbody>\n",
       "    <tr>\n",
       "      <th>0</th>\n",
       "      <td>6045321</td>\n",
       "      <td>0.838608</td>\n",
       "      <td>0.289483</td>\n",
       "      <td>0.903988</td>\n",
       "      <td>0.093236</td>\n",
       "      <td>0.410304</td>\n",
       "      <td>HXN0A3VV9SMHR3ULR76RQ0F4U1Q0CNJ2</td>\n",
       "      <td>KU5NQ85YY583GPCKMDB4RC25QL9HMLIO</td>\n",
       "    </tr>\n",
       "    <tr>\n",
       "      <th>1</th>\n",
       "      <td>6045321</td>\n",
       "      <td>0.949606</td>\n",
       "      <td>0.710316</td>\n",
       "      <td>0.638049</td>\n",
       "      <td>0.250692</td>\n",
       "      <td>0.070841</td>\n",
       "      <td>SZSP1MIEECO2OR1Y3X0Q72E5IUC4GUXP</td>\n",
       "      <td>D6N3LWE0PNG20KBOB1AN5MGVEP8F7YVS</td>\n",
       "    </tr>\n",
       "    <tr>\n",
       "      <th>2</th>\n",
       "      <td>6045321</td>\n",
       "      <td>0.437038</td>\n",
       "      <td>0.829742</td>\n",
       "      <td>0.954897</td>\n",
       "      <td>0.579914</td>\n",
       "      <td>0.861055</td>\n",
       "      <td>9GK36SUZR1MS6IXJWCXVEUGGSAF17CLR</td>\n",
       "      <td>W9JYROCYMX4CYXYAXUBOMQUR1MFYYXET</td>\n",
       "    </tr>\n",
       "    <tr>\n",
       "      <th>3</th>\n",
       "      <td>6045321</td>\n",
       "      <td>0.914051</td>\n",
       "      <td>0.333282</td>\n",
       "      <td>0.498265</td>\n",
       "      <td>0.136487</td>\n",
       "      <td>0.844198</td>\n",
       "      <td>BW8IWSN0B8ZXC2X8NT2COFRHDU7FE5XX</td>\n",
       "      <td>BBXEDSRMCEZW8EHU4MCNWFJUGS8BLGUB</td>\n",
       "    </tr>\n",
       "    <tr>\n",
       "      <th>4</th>\n",
       "      <td>6045322</td>\n",
       "      <td>0.801538</td>\n",
       "      <td>0.714043</td>\n",
       "      <td>0.502537</td>\n",
       "      <td>0.500085</td>\n",
       "      <td>0.083226</td>\n",
       "      <td>VMJYM9HWL9EXANLFXQ6F8VC8G4HBB8JY</td>\n",
       "      <td>XKOJN794IP599NVCAS6YX76I5I3SVA00</td>\n",
       "    </tr>\n",
       "  </tbody>\n",
       "</table>\n",
       "</div>"
      ],
      "text/plain": [
       "      date         a         b         c         d         e  \\\n",
       "0  6045321  0.838608  0.289483  0.903988  0.093236  0.410304   \n",
       "1  6045321  0.949606  0.710316  0.638049  0.250692  0.070841   \n",
       "2  6045321  0.437038  0.829742  0.954897  0.579914  0.861055   \n",
       "3  6045321  0.914051  0.333282  0.498265  0.136487  0.844198   \n",
       "4  6045322  0.801538  0.714043  0.502537  0.500085  0.083226   \n",
       "\n",
       "                               str1                              str2  \n",
       "0  HXN0A3VV9SMHR3ULR76RQ0F4U1Q0CNJ2  KU5NQ85YY583GPCKMDB4RC25QL9HMLIO  \n",
       "1  SZSP1MIEECO2OR1Y3X0Q72E5IUC4GUXP  D6N3LWE0PNG20KBOB1AN5MGVEP8F7YVS  \n",
       "2  9GK36SUZR1MS6IXJWCXVEUGGSAF17CLR  W9JYROCYMX4CYXYAXUBOMQUR1MFYYXET  \n",
       "3  BW8IWSN0B8ZXC2X8NT2COFRHDU7FE5XX  BBXEDSRMCEZW8EHU4MCNWFJUGS8BLGUB  \n",
       "4  VMJYM9HWL9EXANLFXQ6F8VC8G4HBB8JY  XKOJN794IP599NVCAS6YX76I5I3SVA00  "
      ]
     },
     "execution_count": 13,
     "metadata": {},
     "output_type": "execute_result"
    }
   ],
   "source": [
    "df_pa.head()"
   ]
  },
  {
   "cell_type": "markdown",
   "id": "b07ec17c",
   "metadata": {},
   "source": [
    "## PyArrow"
   ]
  },
  {
   "cell_type": "code",
   "execution_count": 14,
   "id": "7e01026d",
   "metadata": {},
   "outputs": [],
   "source": [
    "df_pa_table = pa.Table.from_pandas(df_pa)"
   ]
  },
  {
   "cell_type": "code",
   "execution_count": 15,
   "id": "a35fee0e",
   "metadata": {},
   "outputs": [
    {
     "name": "stdout",
     "output_type": "stream",
     "text": [
      "CPU times: user 6.02 s, sys: 615 ms, total: 6.64 s\n",
      "Wall time: 8.1 s\n"
     ]
    }
   ],
   "source": [
    "%%time\n",
    "pa_csv.write_csv(df_pa_table, 'datasets/csv_pyarrow.csv')"
   ]
  },
  {
   "cell_type": "code",
   "execution_count": 16,
   "id": "8fa44c87",
   "metadata": {},
   "outputs": [
    {
     "name": "stdout",
     "output_type": "stream",
     "text": [
      "CPU times: user 1min 18s, sys: 475 ms, total: 1min 19s\n",
      "Wall time: 1min 21s\n"
     ]
    }
   ],
   "source": [
    "%%time\n",
    "\n",
    "with pa.CompressedOutputStream('datasets/csv_pyarrow.csv.gz', 'gzip') as out:\n",
    "    pa_csv.write_csv(df_pa_table, out)"
   ]
  },
  {
   "cell_type": "code",
   "execution_count": 17,
   "id": "82893328",
   "metadata": {},
   "outputs": [
    {
     "name": "stdout",
     "output_type": "stream",
     "text": [
      "CPU times: user 6.56 s, sys: 2.69 s, total: 9.25 s\n",
      "Wall time: 5.76 s\n"
     ]
    }
   ],
   "source": [
    "%%time\n",
    "df_pa1 = pa_csv.read_csv('datasets/csv_pyarrow.csv')"
   ]
  },
  {
   "cell_type": "code",
   "execution_count": 18,
   "id": "0226d69c",
   "metadata": {},
   "outputs": [
    {
     "name": "stdout",
     "output_type": "stream",
     "text": [
      "CPU times: user 14.1 s, sys: 1.62 s, total: 15.7 s\n",
      "Wall time: 10.1 s\n"
     ]
    }
   ],
   "source": [
    "%%time\n",
    "df_pa2 = pa_csv.read_csv('datasets/csv_pyarrow.csv.gz')"
   ]
  },
  {
   "cell_type": "markdown",
   "id": "701cde02",
   "metadata": {},
   "source": [
    "## Parquet"
   ]
  },
  {
   "cell_type": "code",
   "execution_count": 19,
   "id": "ccc0d201",
   "metadata": {},
   "outputs": [
    {
     "name": "stdout",
     "output_type": "stream",
     "text": [
      "CPU times: user 1.73 s, sys: 3.98 s, total: 5.72 s\n",
      "Wall time: 7.42 s\n"
     ]
    }
   ],
   "source": [
    "%%time\n",
    "table = pa.Table.from_pandas(df)"
   ]
  },
  {
   "cell_type": "code",
   "execution_count": 20,
   "id": "d88fa456",
   "metadata": {},
   "outputs": [
    {
     "name": "stdout",
     "output_type": "stream",
     "text": [
      "CPU times: user 1.99 s, sys: 1.15 s, total: 3.15 s\n",
      "Wall time: 7.95 s\n"
     ]
    }
   ],
   "source": [
    "%%time\n",
    "\n",
    "import pyarrow.parquet as pq\n",
    "\n",
    "pq.write_table(table, 'datasets/df.parquet')"
   ]
  },
  {
   "cell_type": "code",
   "execution_count": 21,
   "id": "6fbfa455",
   "metadata": {},
   "outputs": [
    {
     "data": {
      "text/plain": [
       "date: timestamp[ns]\n",
       "a: double\n",
       "b: double\n",
       "c: double\n",
       "d: double\n",
       "e: double\n",
       "str1: string\n",
       "str2: string\n",
       "-- schema metadata --\n",
       "pandas: '{\"index_columns\": [{\"kind\": \"range\", \"name\": null, \"start\": 0, \"' + 1113"
      ]
     },
     "execution_count": 21,
     "metadata": {},
     "output_type": "execute_result"
    }
   ],
   "source": [
    "table.schema"
   ]
  },
  {
   "cell_type": "code",
   "execution_count": 22,
   "id": "02ae3130",
   "metadata": {},
   "outputs": [
    {
     "data": {
      "text/plain": [
       "(6838561, 8)"
      ]
     },
     "execution_count": 22,
     "metadata": {},
     "output_type": "execute_result"
    }
   ],
   "source": [
    "table.shape"
   ]
  },
  {
   "cell_type": "code",
   "execution_count": 23,
   "id": "d9a9923e",
   "metadata": {},
   "outputs": [
    {
     "data": {
      "text/plain": [
       "pyarrow.Table\n",
       "date: timestamp[ns]\n",
       "a: double\n",
       "b: double\n",
       "c: double\n",
       "d: double\n",
       "e: double\n",
       "str1: string\n",
       "str2: string\n",
       "----\n",
       "date: [[2008-01-01 00:00:00.000000000,2008-01-01 00:01:00.000000000,2008-01-01 00:02:00.000000000,2008-01-01 00:03:00.000000000,2008-01-01 00:04:00.000000000,...,2020-12-31 23:56:00.000000000,2020-12-31 23:57:00.000000000,2020-12-31 23:58:00.000000000,2020-12-31 23:59:00.000000000,2021-01-01 00:00:00.000000000]]\n",
       "a: [[0.8386083811816082,0.9496059656573795,0.4370376008891683,0.9140509306355624,0.801538146183963,...,0.027526856750125672,0.05302330882384365,0.4550113035650607,0.13441335183181513,0.669967983404543]]\n",
       "b: [[0.2894832440712872,0.7103159078904976,0.8297423887118833,0.3332818669946236,0.7140429769582083,...,0.2545229213726765,0.6970564031052601,0.26893050713845223,0.045630783787576346,0.6725564832244854]]\n",
       "c: [[0.9039875648132133,0.6380485030438576,0.9548968990063806,0.49826522156905606,0.5025372974047053,...,0.12084021482000706,0.24970061864953264,0.9165223577254412,0.12309249606951378,0.4004917561806175]]\n",
       "d: [[0.0932356472516781,0.2506915971666741,0.5799144736059946,0.1364870476478527,0.50008527884886,...,0.2917290937432354,0.13469863855903252,0.9337638310579081,0.371805076730924,0.8803388164466024]]\n",
       "e: [[0.4103038503995159,0.0708405672476099,0.8610548603811367,0.8441975997741783,0.08322630528157315,...,0.14435058296357528,0.08541141569232424,0.15773223066696118,0.15925102242177447,0.6163538339062068]]\n",
       "str1: [[\"HXN0A3VV9SMHR3ULR76RQ0F4U1Q0CNJ2\",\"SZSP1MIEECO2OR1Y3X0Q72E5IUC4GUXP\",\"9GK36SUZR1MS6IXJWCXVEUGGSAF17CLR\",\"BW8IWSN0B8ZXC2X8NT2COFRHDU7FE5XX\",\"VMJYM9HWL9EXANLFXQ6F8VC8G4HBB8JY\",...,\"XMZLW4TX1MUIW0G5RR4OS6YIQDJ7JVZE\",\"6DJY9U6QE9E1H7U4ZUSLGN15RESSLGQB\",\"9YMDVXV4JVCFFRZ2H8UIZX7NO4YKDR3A\",\"J3OL9XAY48245L42BI6XQVMSKB62DJT3\",\"99H7V0RL08U9U2EH2LBB0DGP059682P3\"]]\n",
       "str2: [[\"KU5NQ85YY583GPCKMDB4RC25QL9HMLIO\",\"D6N3LWE0PNG20KBOB1AN5MGVEP8F7YVS\",\"W9JYROCYMX4CYXYAXUBOMQUR1MFYYXET\",\"BBXEDSRMCEZW8EHU4MCNWFJUGS8BLGUB\",\"XKOJN794IP599NVCAS6YX76I5I3SVA00\",...,\"FRELUOOP1AOLPZX257ZNQJ8E6P3TR8AS\",\"EFWE8KTZFPJYZ9QV1VFQ84Q9PLM4C341\",\"H4JA73FILMBV5AV0H9JIPPOQJ1XR3BSW\",\"MNYTPC3D2BYTH2RONOES35A4VLRKAU5D\",\"Y09A423C6MPYRPUBR85QA0IIZT8LVTHM\"]]"
      ]
     },
     "execution_count": 23,
     "metadata": {},
     "output_type": "execute_result"
    }
   ],
   "source": [
    "table"
   ]
  },
  {
   "cell_type": "code",
   "execution_count": 24,
   "id": "94accae4",
   "metadata": {},
   "outputs": [
    {
     "name": "stdout",
     "output_type": "stream",
     "text": [
      "CPU times: user 1.08 s, sys: 1.28 s, total: 2.36 s\n",
      "Wall time: 1.23 s\n"
     ]
    }
   ],
   "source": [
    "%%time\n",
    "\n",
    "table2 = pq.read_table('datasets/df.parquet')"
   ]
  },
  {
   "cell_type": "code",
   "execution_count": 25,
   "id": "a8ed366c",
   "metadata": {},
   "outputs": [
    {
     "data": {
      "text/plain": [
       "(6838561, 8)"
      ]
     },
     "execution_count": 25,
     "metadata": {},
     "output_type": "execute_result"
    }
   ],
   "source": [
    "table2.shape"
   ]
  }
 ],
 "metadata": {
  "kernelspec": {
   "display_name": "Python 3 (ipykernel)",
   "language": "python",
   "name": "python3"
  },
  "language_info": {
   "codemirror_mode": {
    "name": "ipython",
    "version": 3
   },
   "file_extension": ".py",
   "mimetype": "text/x-python",
   "name": "python",
   "nbconvert_exporter": "python",
   "pygments_lexer": "ipython3",
   "version": "3.10.10"
  },
  "toc": {
   "base_numbering": 1,
   "nav_menu": {},
   "number_sections": true,
   "sideBar": true,
   "skip_h1_title": false,
   "title_cell": "Table of Contents",
   "title_sidebar": "Contents",
   "toc_cell": false,
   "toc_position": {},
   "toc_section_display": true,
   "toc_window_display": false
  }
 },
 "nbformat": 4,
 "nbformat_minor": 5
}
