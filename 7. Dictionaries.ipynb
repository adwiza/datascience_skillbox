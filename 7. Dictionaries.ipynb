{
 "cells": [
  {
   "cell_type": "code",
   "execution_count": 1,
   "id": "23a32617",
   "metadata": {},
   "outputs": [
    {
     "name": "stdout",
     "output_type": "stream",
     "text": [
      "{}\n",
      "<class 'dict'>\n"
     ]
    }
   ],
   "source": [
    "test_dict = {}\n",
    "print(test_dict)\n",
    "print(type(test_dict))"
   ]
  },
  {
   "cell_type": "code",
   "execution_count": 3,
   "id": "91728cab",
   "metadata": {},
   "outputs": [
    {
     "name": "stdout",
     "output_type": "stream",
     "text": [
      "{}\n",
      "<class 'dict'>\n"
     ]
    }
   ],
   "source": [
    "test_dict = dict()\n",
    "print(test_dict)\n",
    "print(type(test_dict))"
   ]
  },
  {
   "cell_type": "code",
   "execution_count": 5,
   "id": "b2c1f12e",
   "metadata": {},
   "outputs": [
    {
     "name": "stdout",
     "output_type": "stream",
     "text": [
      "{'facebook': 120, 'youtube': 299}\n"
     ]
    }
   ],
   "source": [
    "test_dict = {'facebook': 120, 'youtube': 299}\n",
    "print(test_dict)"
   ]
  },
  {
   "cell_type": "code",
   "execution_count": 6,
   "id": "af1e5ad3",
   "metadata": {},
   "outputs": [
    {
     "data": {
      "text/plain": [
       "2"
      ]
     },
     "execution_count": 6,
     "metadata": {},
     "output_type": "execute_result"
    }
   ],
   "source": [
    "len(test_dict)"
   ]
  },
  {
   "cell_type": "code",
   "execution_count": 7,
   "id": "e9e502bb",
   "metadata": {},
   "outputs": [
    {
     "data": {
      "text/plain": [
       "120"
      ]
     },
     "execution_count": 7,
     "metadata": {},
     "output_type": "execute_result"
    }
   ],
   "source": [
    "test_dict['facebook']"
   ]
  },
  {
   "cell_type": "code",
   "execution_count": 9,
   "id": "e2ff0fa6",
   "metadata": {},
   "outputs": [
    {
     "data": {
      "text/plain": [
       "{'facebook': 120, 'youtube': 299, 1: 115}"
      ]
     },
     "execution_count": 9,
     "metadata": {},
     "output_type": "execute_result"
    }
   ],
   "source": [
    "test_dict[1] = 115\n",
    "test_dict"
   ]
  },
  {
   "cell_type": "code",
   "execution_count": 11,
   "id": "626eb9cd",
   "metadata": {},
   "outputs": [
    {
     "data": {
      "text/plain": [
       "{'facebook': 120, 'youtube': 299, 1: 115, (1, 2): 115}"
      ]
     },
     "execution_count": 11,
     "metadata": {},
     "output_type": "execute_result"
    }
   ],
   "source": [
    "test_dict[(1, 2)] = 115\n",
    "test_dict"
   ]
  },
  {
   "cell_type": "code",
   "execution_count": 12,
   "id": "de215a33",
   "metadata": {},
   "outputs": [],
   "source": [
    "del test_dict[1]\n",
    "del test_dict[(1, 2)]"
   ]
  },
  {
   "cell_type": "code",
   "execution_count": 13,
   "id": "9f734215",
   "metadata": {},
   "outputs": [
    {
     "data": {
      "text/plain": [
       "{'facebook': 120, 'youtube': 299}"
      ]
     },
     "execution_count": 13,
     "metadata": {},
     "output_type": "execute_result"
    }
   ],
   "source": [
    "test_dict"
   ]
  },
  {
   "cell_type": "code",
   "execution_count": 14,
   "id": "47a021c7",
   "metadata": {},
   "outputs": [
    {
     "data": {
      "text/plain": [
       "{'facebook': 120, 'youtube': 299, 'google': 300, 'radio': 432, 'other': 1}"
      ]
     },
     "execution_count": 14,
     "metadata": {},
     "output_type": "execute_result"
    }
   ],
   "source": [
    "frequency_dict = {'facebook': 120, 'youtube': 299, 'google': 300, 'radio': 432, 'other': 1}\n",
    "frequency_dict"
   ]
  },
  {
   "cell_type": "code",
   "execution_count": 15,
   "id": "bf4cc84d",
   "metadata": {},
   "outputs": [
    {
     "data": {
      "text/plain": [
       "dict_values([120, 299, 300, 432, 1])"
      ]
     },
     "execution_count": 15,
     "metadata": {},
     "output_type": "execute_result"
    }
   ],
   "source": [
    "frequency_dict.values()"
   ]
  },
  {
   "cell_type": "code",
   "execution_count": 16,
   "id": "c25d16bc",
   "metadata": {},
   "outputs": [
    {
     "data": {
      "text/plain": [
       "1152"
      ]
     },
     "execution_count": 16,
     "metadata": {},
     "output_type": "execute_result"
    }
   ],
   "source": [
    "total_users = sum(frequency_dict.values())\n",
    "total_users"
   ]
  },
  {
   "cell_type": "code",
   "execution_count": 17,
   "id": "c8e0213f",
   "metadata": {},
   "outputs": [
    {
     "data": {
      "text/plain": [
       "dict_items([('facebook', 120), ('youtube', 299), ('google', 300), ('radio', 432), ('other', 1)])"
      ]
     },
     "execution_count": 17,
     "metadata": {},
     "output_type": "execute_result"
    }
   ],
   "source": [
    "frequency_dict.items()"
   ]
  },
  {
   "cell_type": "code",
   "execution_count": 25,
   "id": "f6c10a86",
   "metadata": {},
   "outputs": [
    {
     "name": "stdout",
     "output_type": "stream",
     "text": [
      "facebook:, 10.42%\n",
      "facebook:, 10.42%\n",
      "youtube:, 25.95%\n",
      "youtube:, 25.95%\n",
      "google:, 26.04%\n",
      "google:, 26.04%\n",
      "radio:, 37.5%\n",
      "radio:, 37.50%\n",
      "other:, 0.09%\n",
      "other:, 0.09%\n"
     ]
    }
   ],
   "source": [
    "for k, v in frequency_dict.items():\n",
    "    percent = (v/total_users) * 100\n",
    "    print(f'{k}:, {round(percent, 2)}%')\n",
    "    print(f'{k}:, {percent:.2f}%')"
   ]
  }
 ],
 "metadata": {
  "kernelspec": {
   "display_name": "Python 3 (ipykernel)",
   "language": "python",
   "name": "python3"
  },
  "language_info": {
   "codemirror_mode": {
    "name": "ipython",
    "version": 3
   },
   "file_extension": ".py",
   "mimetype": "text/x-python",
   "name": "python",
   "nbconvert_exporter": "python",
   "pygments_lexer": "ipython3",
   "version": "3.10.9"
  }
 },
 "nbformat": 4,
 "nbformat_minor": 5
}
