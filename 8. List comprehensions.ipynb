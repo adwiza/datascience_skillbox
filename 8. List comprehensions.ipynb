{
 "cells": [
  {
   "cell_type": "code",
   "execution_count": 1,
   "id": "7d3465e9",
   "metadata": {},
   "outputs": [],
   "source": [
    "items = ['Кофта', 'Брюки', 'Кроссовки', 'Шляпа', 'Игрушка']\n",
    "prices = [1000, 2000, 1999, 3000, 500]"
   ]
  },
  {
   "cell_type": "code",
   "execution_count": 2,
   "id": "52f76d24",
   "metadata": {},
   "outputs": [],
   "source": [
    "item_prices = {}\n",
    "\n",
    "for i in range(len(items)):\n",
    "    item_prices[items[i]] = prices[i]"
   ]
  },
  {
   "cell_type": "code",
   "execution_count": 3,
   "id": "7593abaf",
   "metadata": {},
   "outputs": [
    {
     "data": {
      "text/plain": [
       "{'Кофта': 1000,\n",
       " 'Брюки': 2000,\n",
       " 'Кроссовки': 1999,\n",
       " 'Шляпа': 3000,\n",
       " 'Игрушка': 500}"
      ]
     },
     "execution_count": 3,
     "metadata": {},
     "output_type": "execute_result"
    }
   ],
   "source": [
    "item_prices"
   ]
  },
  {
   "cell_type": "code",
   "execution_count": 10,
   "id": "2e8b341b",
   "metadata": {},
   "outputs": [
    {
     "name": "stdout",
     "output_type": "stream",
     "text": [
      "Кофта 1000\n",
      "Брюки 2000\n",
      "Кроссовки 1999\n",
      "Шляпа 3000\n",
      "Игрушка 500\n"
     ]
    }
   ],
   "source": [
    "for item, price in zip(items, prices):\n",
    "    print(item, price)\n",
    "    item_prices[item] = price"
   ]
  },
  {
   "cell_type": "code",
   "execution_count": 9,
   "id": "6916ba25",
   "metadata": {},
   "outputs": [
    {
     "data": {
      "text/plain": [
       "{'Кофта': 1000,\n",
       " 'Брюки': 2000,\n",
       " 'Кроссовки': 1999,\n",
       " 'Шляпа': 3000,\n",
       " 'Игрушка': 500}"
      ]
     },
     "execution_count": 9,
     "metadata": {},
     "output_type": "execute_result"
    }
   ],
   "source": [
    "item_prices"
   ]
  },
  {
   "cell_type": "code",
   "execution_count": 11,
   "id": "dafc192d",
   "metadata": {},
   "outputs": [
    {
     "data": {
      "text/plain": [
       "{'Кофта': 1000,\n",
       " 'Брюки': 2000,\n",
       " 'Кроссовки': 1999,\n",
       " 'Шляпа': 3000,\n",
       " 'Игрушка': 500}"
      ]
     },
     "execution_count": 11,
     "metadata": {},
     "output_type": "execute_result"
    }
   ],
   "source": [
    "item_prices = dict(zip(items, prices))\n",
    "item_prices"
   ]
  },
  {
   "cell_type": "code",
   "execution_count": 19,
   "id": "85bb6ff9",
   "metadata": {},
   "outputs": [
    {
     "data": {
      "text/plain": [
       "[('Кофта', 1000),\n",
       " ('Брюки', 2000),\n",
       " ('Кроссовки', 1999),\n",
       " ('Шляпа', 3000),\n",
       " ('Игрушка', 500)]"
      ]
     },
     "execution_count": 19,
     "metadata": {},
     "output_type": "execute_result"
    }
   ],
   "source": [
    "list(zip(items, prices))"
   ]
  },
  {
   "cell_type": "code",
   "execution_count": 22,
   "id": "1f87adfe",
   "metadata": {},
   "outputs": [
    {
     "name": "stdout",
     "output_type": "stream",
     "text": [
      "Введите название товара:sd\n",
      "Товара нет.\n"
     ]
    }
   ],
   "source": [
    "input_item = input('Введите название товара:')\n",
    "if input_item in item_prices.keys():\n",
    "    result = item_prices[input_item]\n",
    "else:\n",
    "    result = 'Товара нет.'\n",
    "\n",
    "print(result)"
   ]
  },
  {
   "cell_type": "code",
   "execution_count": 24,
   "id": "6cc000cc",
   "metadata": {},
   "outputs": [
    {
     "name": "stdout",
     "output_type": "stream",
     "text": [
      "Введите название товара:1\n"
     ]
    },
    {
     "data": {
      "text/plain": [
       "'Товара нет'"
      ]
     },
     "execution_count": 24,
     "metadata": {},
     "output_type": "execute_result"
    }
   ],
   "source": [
    "input_item = input('Введите название товара:')\n",
    "item_prices.get(input_item, 'Товара нет')"
   ]
  },
  {
   "cell_type": "code",
   "execution_count": 25,
   "id": "29c24fbb",
   "metadata": {},
   "outputs": [
    {
     "data": {
      "text/plain": [
       "['кофта', 'брюки', 'кроссовки', 'шляпа', 'игрушка']"
      ]
     },
     "execution_count": 25,
     "metadata": {},
     "output_type": "execute_result"
    }
   ],
   "source": [
    "items = [item.lower() for item in items]\n",
    "items"
   ]
  },
  {
   "cell_type": "code",
   "execution_count": 27,
   "id": "fbe3a6b2",
   "metadata": {},
   "outputs": [
    {
     "data": {
      "text/plain": [
       "[0, 4, 16, 36, 64, 100]"
      ]
     },
     "execution_count": 27,
     "metadata": {},
     "output_type": "execute_result"
    }
   ],
   "source": [
    "numbers = [1, 2, 3, 4, 5, 6, 7, 8, 9, 10]\n",
    "\n",
    "squads = [num ** 2 for num in range(11) if num % 2 == 0]\n",
    "squads"
   ]
  },
  {
   "cell_type": "code",
   "execution_count": 29,
   "id": "84332c1b",
   "metadata": {},
   "outputs": [
    {
     "data": {
      "text/plain": [
       "[1, 2, 9, 4, 25, 6, 49, 8, 81, 10, 121, 12, 169, 14, 225, 16, 289, 18, 361, 20]"
      ]
     },
     "execution_count": 29,
     "metadata": {},
     "output_type": "execute_result"
    }
   ],
   "source": [
    "squads = [num if num % 2 == 0 else num ** 2 for num in range(1, 21) ]\n",
    "squads"
   ]
  },
  {
   "cell_type": "code",
   "execution_count": 30,
   "id": "21b13a60",
   "metadata": {},
   "outputs": [
    {
     "data": {
      "text/plain": [
       "{'1', '10', '2', '3', '4', '5', '6', '7', '8', '9'}"
      ]
     },
     "execution_count": 30,
     "metadata": {},
     "output_type": "execute_result"
    }
   ],
   "source": [
    "string_set = {str(x) for x in range(1, 11)}\n",
    "string_set"
   ]
  },
  {
   "cell_type": "code",
   "execution_count": 35,
   "id": "5fd67a21",
   "metadata": {},
   "outputs": [
    {
     "data": {
      "text/plain": [
       "{1: 5, 2: 10, 3: 15, 4: 20, 5: 25}"
      ]
     },
     "execution_count": 35,
     "metadata": {},
     "output_type": "execute_result"
    }
   ],
   "source": [
    "test_dict = {x: x*5 for x in range(1, 6)}\n",
    "test_dict"
   ]
  },
  {
   "cell_type": "code",
   "execution_count": 36,
   "id": "70d1d3c6",
   "metadata": {},
   "outputs": [
    {
     "data": {
      "text/plain": [
       "{'кофта': 1000,\n",
       " 'брюки': 2000,\n",
       " 'кроссовки': 1999,\n",
       " 'шляпа': 3000,\n",
       " 'игрушка': 500}"
      ]
     },
     "execution_count": 36,
     "metadata": {},
     "output_type": "execute_result"
    }
   ],
   "source": [
    "test_dict = {item: price for item, price in zip(items, prices)}\n",
    "test_dict"
   ]
  }
 ],
 "metadata": {
  "kernelspec": {
   "display_name": "Python 3 (ipykernel)",
   "language": "python",
   "name": "python3"
  },
  "language_info": {
   "codemirror_mode": {
    "name": "ipython",
    "version": 3
   },
   "file_extension": ".py",
   "mimetype": "text/x-python",
   "name": "python",
   "nbconvert_exporter": "python",
   "pygments_lexer": "ipython3",
   "version": "3.10.9"
  }
 },
 "nbformat": 4,
 "nbformat_minor": 5
}
