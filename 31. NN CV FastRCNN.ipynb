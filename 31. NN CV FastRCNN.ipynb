{
 "cells": [
  {
   "cell_type": "code",
   "execution_count": 2,
   "id": "fe6d1069",
   "metadata": {},
   "outputs": [
    {
     "name": "stdout",
     "output_type": "stream",
     "text": [
      "TensorFlow version: 2.12.0\n"
     ]
    }
   ],
   "source": [
    "import random\n",
    "import tensorflow as tf\n",
    "print('TensorFlow version:', tf.__version__)"
   ]
  },
  {
   "cell_type": "code",
   "execution_count": 4,
   "id": "4f3f5450",
   "metadata": {},
   "outputs": [
    {
     "name": "stdout",
     "output_type": "stream",
     "text": [
      "Metal device set to: Apple M2\n"
     ]
    }
   ],
   "source": [
    "NUM_CLASSES = 11\n",
    "\n",
    "class Model(tf.keras.Model):\n",
    "    \n",
    "    def __init__(self):\n",
    "        super(Model, self).__init__()\n",
    "        \n",
    "        self.conv1 = tf.keras.layers.Conv2D(32, (5, 5), activation='relu', padding='same')\n",
    "        self.conv2 = tf.keras.layers.Conv2D(64, (5, 5), activation='relu', padding='same')\n",
    "        self.fc1 = tf.keras.layers.Dense(256, activation='relu')\n",
    "        self.fc2 = tf.keras.layers.Dense(NUM_CLASSES, activation='softmax')\n",
    "        self.max_pool = tf.keras.layers.MaxPool2D((2, 2), (2, 2), padding='same')\n",
    "        \n",
    "    def call(self, inp, proposals=None):\n",
    "        if proposals is None: # Режим обучения\n",
    "            \n",
    "            out = self.conv1(inp)\n",
    "            out = self.max_pool(out)\n",
    "            out = self.conv2(out)\n",
    "            out = self.max_pool(out)\n",
    "            out = tf.keras.layers.Flatten()(out)\n",
    "            out = self.fc1(out)\n",
    "            out = self.fc2(out)\n",
    "            return out\n",
    "    \n",
    "        else: # Режим предсказания\n",
    "            assert inp.shape[0] == 1 # Только batch size = 1\n",
    "            predictions = []\n",
    "            roi_pool_size = (7, 7)\n",
    "\n",
    "            # Извлечение признаков из всей картинки\n",
    "            out = self.conv(inp)\n",
    "            out = self.max_pool(out)\n",
    "            out = self.conv2(out)\n",
    "            feat = self.max_pool(out)\n",
    "\n",
    "        # Для каждого пропозала\n",
    "        for proposal in proposals:\n",
    "            \n",
    "            # Отображение координат пространства изображегния\n",
    "            # в координаты постранства признаков\n",
    "            ry, rx, rh, rw = proposal\n",
    "            box_y = int(round(ry * int(feat.shape[1])))\n",
    "            box_x = int(round(rx * int(feat.shape[2])))\n",
    "            box_w = int(round(rw * int(feat.shape[2])))\n",
    "            box_h = int(round(rh * int(feat.shape[1])))\n",
    "            \n",
    "            # Вырезаем признаки, относящиеся к пропозалу\n",
    "            feat_sub = feat[:, box_y: box_y+box_h, box_x: box_x+box_w, :]\n",
    "            \n",
    "            # Аналог ROI Pooling\n",
    "            feat_pooled = tf.image.resize(\n",
    "                feat_sub,\n",
    "                (roi_pool_size[0], roi_pool_size[1]),\n",
    "                tf.image.ResizeMethod.BILINEAR)\n",
    "            \n",
    "            # Финальная классификация\n",
    "            out = tf.keras.layers.Flatten()(feat_pooled)\n",
    "            out = self.fc1(out)\n",
    "            out = self.fc2(out)\n",
    "            \n",
    "            # Фильтрация класса \"фон\"\n",
    "            assert out.shape[0] == 1 # Только batch size = 1\n",
    "            pred = out[0]\n",
    "            pred_cls = np.argmax(pred)\n",
    "            if pred_cls != 10:\n",
    "                predictions.append([pred_cls] + proposal)\n",
    "            \n",
    "        return predictions\n",
    "\n",
    "model = Model()\n"
   ]
  },
  {
   "cell_type": "code",
   "execution_count": 5,
   "id": "11f62168",
   "metadata": {},
   "outputs": [
    {
     "ename": "ValueError",
     "evalue": "This model has not yet been built. Build the model first by calling `build()` or by calling the model on a batch of data.",
     "output_type": "error",
     "traceback": [
      "\u001b[0;31m---------------------------------------------------------------------------\u001b[0m",
      "\u001b[0;31mValueError\u001b[0m                                Traceback (most recent call last)",
      "Cell \u001b[0;32mIn[5], line 2\u001b[0m\n\u001b[1;32m      1\u001b[0m \u001b[38;5;66;03m# draw model\u001b[39;00m\n\u001b[0;32m----> 2\u001b[0m \u001b[43mtf\u001b[49m\u001b[38;5;241;43m.\u001b[39;49m\u001b[43mkeras\u001b[49m\u001b[38;5;241;43m.\u001b[39;49m\u001b[43mutils\u001b[49m\u001b[38;5;241;43m.\u001b[39;49m\u001b[43mplot_model\u001b[49m\u001b[43m(\u001b[49m\u001b[43mmodel\u001b[49m\u001b[43m,\u001b[49m\u001b[43m \u001b[49m\u001b[43mshow_shapes\u001b[49m\u001b[38;5;241;43m=\u001b[39;49m\u001b[38;5;28;43;01mTrue\u001b[39;49;00m\u001b[43m)\u001b[49m\n",
      "File \u001b[0;32m~/miniconda3/envs/tf/lib/python3.8/site-packages/keras/utils/vis_utils.py:445\u001b[0m, in \u001b[0;36mplot_model\u001b[0;34m(model, to_file, show_shapes, show_dtype, show_layer_names, rankdir, expand_nested, dpi, layer_range, show_layer_activations, show_trainable)\u001b[0m\n\u001b[1;32m    392\u001b[0m \u001b[38;5;124;03m\"\"\"Converts a Keras model to dot format and save to a file.\u001b[39;00m\n\u001b[1;32m    393\u001b[0m \n\u001b[1;32m    394\u001b[0m \u001b[38;5;124;03mExample:\u001b[39;00m\n\u001b[0;32m   (...)\u001b[0m\n\u001b[1;32m    441\u001b[0m \u001b[38;5;124;03m  This enables in-line display of the model plots in notebooks.\u001b[39;00m\n\u001b[1;32m    442\u001b[0m \u001b[38;5;124;03m\"\"\"\u001b[39;00m\n\u001b[1;32m    444\u001b[0m \u001b[38;5;28;01mif\u001b[39;00m \u001b[38;5;129;01mnot\u001b[39;00m model\u001b[38;5;241m.\u001b[39mbuilt:\n\u001b[0;32m--> 445\u001b[0m     \u001b[38;5;28;01mraise\u001b[39;00m \u001b[38;5;167;01mValueError\u001b[39;00m(\n\u001b[1;32m    446\u001b[0m         \u001b[38;5;124m\"\u001b[39m\u001b[38;5;124mThis model has not yet been built. \u001b[39m\u001b[38;5;124m\"\u001b[39m\n\u001b[1;32m    447\u001b[0m         \u001b[38;5;124m\"\u001b[39m\u001b[38;5;124mBuild the model first by calling `build()` or by calling \u001b[39m\u001b[38;5;124m\"\u001b[39m\n\u001b[1;32m    448\u001b[0m         \u001b[38;5;124m\"\u001b[39m\u001b[38;5;124mthe model on a batch of data.\u001b[39m\u001b[38;5;124m\"\u001b[39m\n\u001b[1;32m    449\u001b[0m     )\n\u001b[1;32m    451\u001b[0m \u001b[38;5;28;01mif\u001b[39;00m \u001b[38;5;129;01mnot\u001b[39;00m check_graphviz():\n\u001b[1;32m    452\u001b[0m     message \u001b[38;5;241m=\u001b[39m (\n\u001b[1;32m    453\u001b[0m         \u001b[38;5;124m\"\u001b[39m\u001b[38;5;124mYou must install pydot (`pip install pydot`) \u001b[39m\u001b[38;5;124m\"\u001b[39m\n\u001b[1;32m    454\u001b[0m         \u001b[38;5;124m\"\u001b[39m\u001b[38;5;124mand install graphviz \u001b[39m\u001b[38;5;124m\"\u001b[39m\n\u001b[1;32m    455\u001b[0m         \u001b[38;5;124m\"\u001b[39m\u001b[38;5;124m(see instructions at https://graphviz.gitlab.io/download/) \u001b[39m\u001b[38;5;124m\"\u001b[39m\n\u001b[1;32m    456\u001b[0m         \u001b[38;5;124m\"\u001b[39m\u001b[38;5;124mfor plot_model to work.\u001b[39m\u001b[38;5;124m\"\u001b[39m\n\u001b[1;32m    457\u001b[0m     )\n",
      "\u001b[0;31mValueError\u001b[0m: This model has not yet been built. Build the model first by calling `build()` or by calling the model on a batch of data."
     ]
    }
   ],
   "source": [
    "# draw model\n",
    "tf.keras.utils.plot_model(model, show_shapes=True)"
   ]
  },
  {
   "cell_type": "code",
   "execution_count": 6,
   "id": "d38b6a00",
   "metadata": {},
   "outputs": [
    {
     "ename": "NameError",
     "evalue": "name 'test_x_det' is not defined",
     "output_type": "error",
     "traceback": [
      "\u001b[0;31m---------------------------------------------------------------------------\u001b[0m",
      "\u001b[0;31mNameError\u001b[0m                                 Traceback (most recent call last)",
      "Cell \u001b[0;32mIn[6], line 2\u001b[0m\n\u001b[1;32m      1\u001b[0m idx \u001b[38;5;241m=\u001b[39m random\u001b[38;5;241m.\u001b[39mrandint(\u001b[38;5;241m0\u001b[39m, \u001b[38;5;241m1000\u001b[39m)\n\u001b[0;32m----> 2\u001b[0m img \u001b[38;5;241m=\u001b[39m \u001b[43mtest_x_det\u001b[49m[idx]\n\u001b[1;32m      3\u001b[0m labels_true \u001b[38;5;241m=\u001b[39m test_y_det[idx]\n\u001b[1;32m      4\u001b[0m proposals_img \u001b[38;5;241m=\u001b[39m test_proposals[idx]\n",
      "\u001b[0;31mNameError\u001b[0m: name 'test_x_det' is not defined"
     ]
    }
   ],
   "source": [
    "idx = random.randint(0, 1000)\n",
    "img = test_x_det[idx]\n",
    "labels_true = test_y_det[idx]\n",
    "proposals_img = test_proposals[idx]\n",
    "\n",
    "preds = model(img[None, ...], proposals_img)"
   ]
  },
  {
   "cell_type": "code",
   "execution_count": 7,
   "id": "a346f06d",
   "metadata": {},
   "outputs": [
    {
     "ename": "NameError",
     "evalue": "name 'show_prediction' is not defined",
     "output_type": "error",
     "traceback": [
      "\u001b[0;31m---------------------------------------------------------------------------\u001b[0m",
      "\u001b[0;31mNameError\u001b[0m                                 Traceback (most recent call last)",
      "Cell \u001b[0;32mIn[7], line 1\u001b[0m\n\u001b[0;32m----> 1\u001b[0m \u001b[43mshow_prediction\u001b[49m(img, labels_true)\n",
      "\u001b[0;31mNameError\u001b[0m: name 'show_prediction' is not defined"
     ]
    }
   ],
   "source": [
    "show_prediction(img, labels_true)"
   ]
  },
  {
   "cell_type": "code",
   "execution_count": null,
   "id": "0c7673c2",
   "metadata": {},
   "outputs": [],
   "source": []
  }
 ],
 "metadata": {
  "kernelspec": {
   "display_name": "Python 3 (ipykernel)",
   "language": "python",
   "name": "python3"
  },
  "language_info": {
   "codemirror_mode": {
    "name": "ipython",
    "version": 3
   },
   "file_extension": ".py",
   "mimetype": "text/x-python",
   "name": "python",
   "nbconvert_exporter": "python",
   "pygments_lexer": "ipython3",
   "version": "3.8.12"
  },
  "toc": {
   "base_numbering": 1,
   "nav_menu": {},
   "number_sections": true,
   "sideBar": true,
   "skip_h1_title": false,
   "title_cell": "Table of Contents",
   "title_sidebar": "Contents",
   "toc_cell": false,
   "toc_position": {},
   "toc_section_display": true,
   "toc_window_display": false
  }
 },
 "nbformat": 4,
 "nbformat_minor": 5
}
