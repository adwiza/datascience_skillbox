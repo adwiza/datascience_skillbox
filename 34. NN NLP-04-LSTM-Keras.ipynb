{
 "cells": [
  {
   "cell_type": "code",
   "execution_count": 1,
   "id": "8a03bdbb",
   "metadata": {},
   "outputs": [
    {
     "name": "stdout",
     "output_type": "stream",
     "text": [
      "2.12.0\n"
     ]
    }
   ],
   "source": [
    "import tensorflow as tf\n",
    "import numpy as np\n",
    "\n",
    "print(tf.__version__)"
   ]
  },
  {
   "cell_type": "code",
   "execution_count": 2,
   "id": "77411941",
   "metadata": {},
   "outputs": [
    {
     "name": "stdout",
     "output_type": "stream",
     "text": [
      "(2, 100, 16)\n"
     ]
    }
   ],
   "source": [
    "BATCH_SIZE = 2\n",
    "SEQ_LEN = 100 # Длина последовательности\n",
    "EMB_SIZE = 16 # Размер векторного представления (эмбеддинга)\n",
    "\n",
    "x = np.random.rand(BATCH_SIZE, SEQ_LEN, EMB_SIZE).astype(np.float32)\n",
    "print(x.shape)"
   ]
  },
  {
   "cell_type": "markdown",
   "id": "5ac1828b",
   "metadata": {},
   "source": [
    "# Создание простого LSTM слоя с помощью Keras"
   ]
  },
  {
   "cell_type": "code",
   "execution_count": 3,
   "id": "3a939be4",
   "metadata": {},
   "outputs": [
    {
     "name": "stdout",
     "output_type": "stream",
     "text": [
      "Metal device set to: Apple M2\n"
     ]
    }
   ],
   "source": [
    "H_SIZE = 32\n",
    "\n",
    "lstm = tf.keras.layers.LSTM(H_SIZE, return_sequences=True, recurrent_activation='sigmoid')"
   ]
  },
  {
   "cell_type": "code",
   "execution_count": 4,
   "id": "a286b420",
   "metadata": {},
   "outputs": [
    {
     "name": "stdout",
     "output_type": "stream",
     "text": [
      "(2, 100, 32)\n"
     ]
    }
   ],
   "source": [
    "y = lstm(x)\n",
    "print(y.shape)"
   ]
  },
  {
   "cell_type": "markdown",
   "id": "f73391b7",
   "metadata": {},
   "source": [
    "# Флаг return_sequences"
   ]
  },
  {
   "cell_type": "code",
   "execution_count": 5,
   "id": "20ea34a0",
   "metadata": {},
   "outputs": [],
   "source": [
    "lstm = tf.keras.layers.LSTM(H_SIZE, return_sequences=False, recurrent_activation='sigmoid')"
   ]
  },
  {
   "cell_type": "code",
   "execution_count": 6,
   "id": "eb632d98",
   "metadata": {},
   "outputs": [
    {
     "name": "stdout",
     "output_type": "stream",
     "text": [
      "(2, 32)\n"
     ]
    }
   ],
   "source": [
    "y = lstm(x)\n",
    "print(y.shape)"
   ]
  },
  {
   "cell_type": "markdown",
   "id": "3d368dd7",
   "metadata": {},
   "source": [
    "# Реализация LSTM ячейки"
   ]
  },
  {
   "cell_type": "code",
   "execution_count": 7,
   "id": "52b23070",
   "metadata": {},
   "outputs": [],
   "source": [
    "class LSTMCell(tf.keras.Model):\n",
    "    def __init__(self, h_size):\n",
    "        super().__init__()\n",
    "        self.h_size = h_size\n",
    "        \n",
    "        # input gate\n",
    "        self.fcXI = tf.keras.layers.Dense(self.h_size)\n",
    "        self.fcHI = tf.keras.layers.Dense(self.h_size, use_bias=False) # bias не нужен, так как он есть в fcXI\n",
    "        \n",
    "        # forget gate\n",
    "        self.fcXF = tf.keras.layers.Dense(self.h_size)\n",
    "        self.fcHF = tf.keras.layers.Dense(self.h_size, use_bias=False) # bias не нужен, так как он есть в fcXF\n",
    "        \n",
    "        # создание нового кандидата CH\n",
    "        self.fcXC = tf.keras.layers.Dense(self.h_size)\n",
    "        self.fcHC = tf.keras.layers.Dense(self.h_size, use_bias=False) # bias не нужен, так как он есть в fcXC\n",
    "        \n",
    "        # output gate\n",
    "        self.fcXO = tf.keras.layers.Dense(self.h_size)\n",
    "        self.fcHO = tf.keras.layers.Dense(self.h_size, use_bias=False) # bias не нужен, так как он есть в fcXO\n",
    "        \n",
    "    def call(self, x, h, c):\n",
    "        i = tf.nn.sigmoid(self.fcXI(x) + self.fcHI(h))\n",
    "        f = tf.nn.sigmoid(self.fcXF(x) + self.fcHF(h))\n",
    "        o = tf.nn.sigmoid(self.fcXO(x) + self.fcHO(h))\n",
    "        ch = tf.nn.tanh(self.fcXC(x) + self.fcHC(h))\n",
    "        c = f * c + i * ch # поэлементное произведение и сумма\n",
    "        h = o * tf.nn.tanh(c) # поэлементное произведение\n",
    "        return h, c"
   ]
  },
  {
   "cell_type": "code",
   "execution_count": 9,
   "id": "c60461f6",
   "metadata": {},
   "outputs": [],
   "source": [
    "# Рекурентная нейросеть\n",
    "class LSTM(tf.keras.Model):\n",
    "    def __init__(self, h_size, return_sequences=True):\n",
    "        super().__init__()\n",
    "        self.h_size = h_size\n",
    "        self.return_sequences = return_sequences\n",
    "        self.lstm_cell = LSTMCell(h_size)\n",
    "        \n",
    "    def call(self, x_all):\n",
    "        batch, length, emb_size = x.shape\n",
    "        h = tf.zeros((batch, self.h_size))\n",
    "        c = tf.zeros((batch, self.h_size))\n",
    "        \n",
    "        if self.return_sequences:\n",
    "            h_all = []\n",
    "\n",
    "        \n",
    "        for i in range(length):\n",
    "            h, c = self.lstm_cell(x_all[:, i,  :], h, c)\n",
    "            if self.return_sequences:\n",
    "                h_all.append(h)\n",
    "            \n",
    "        if self.return_sequences:\n",
    "            h_all = tf.transpose(tf.stack(h_all), [1, 0, 2])\n",
    "            return h_all\n",
    "        else:\n",
    "            return h\n",
    "\n",
    "    \n",
    "    \n",
    "lstm_my = LSTM(H_SIZE, False)"
   ]
  },
  {
   "cell_type": "code",
   "execution_count": 10,
   "id": "fcc259aa",
   "metadata": {
    "scrolled": false
   },
   "outputs": [
    {
     "name": "stdout",
     "output_type": "stream",
     "text": [
      "(2, 32)\n"
     ]
    }
   ],
   "source": [
    "y = lstm_my(x)\n",
    "print(y.shape)"
   ]
  },
  {
   "cell_type": "code",
   "execution_count": 11,
   "id": "5f8fa8d0",
   "metadata": {},
   "outputs": [
    {
     "name": "stdout",
     "output_type": "stream",
     "text": [
      "7.4505806e-08\n"
     ]
    }
   ],
   "source": [
    "# Перед тем, как что-то присваивать в параметры модели, нужно чтобы они создались.\n",
    "# Для этого можно вызвать либо инференс с каким-то входом, либо model.build(...)\n",
    "\n",
    "lstm_my.lstm_cell.fcXI.kernel = lstm.weights[0][:, 0:32]\n",
    "lstm_my.lstm_cell.fcXF.kernel = lstm.weights[0][:, 32:64]\n",
    "lstm_my.lstm_cell.fcXC.kernel = lstm.weights[0][:, 64:96]\n",
    "lstm_my.lstm_cell.fcXO.kernel = lstm.weights[0][:, 96:128]\n",
    "\n",
    "lstm_my.lstm_cell.fcHI.kernel = lstm.weights[1][:, 0:32]\n",
    "lstm_my.lstm_cell.fcHF.kernel = lstm.weights[1][:, 32:64]\n",
    "lstm_my.lstm_cell.fcHC.kernel = lstm.weights[1][:, 64:96]\n",
    "lstm_my.lstm_cell.fcHO.kernel = lstm.weights[1][:, 96:128]\n",
    "\n",
    "lstm_my.lstm_cell.fcXI.bias = lstm.weights[2][0:32]\n",
    "lstm_my.lstm_cell.fcXF.bias = lstm.weights[2][32:64]\n",
    "lstm_my.lstm_cell.fcXC.bias = lstm.weights[2][64:96]\n",
    "lstm_my.lstm_cell.fcXO.bias = lstm.weights[2][96:128]\n",
    "\n",
    "y = lstm(x)\n",
    "y_my = lstm_my(x)\n",
    "\n",
    "print(np.max(np.abs(y.numpy() - y_my.numpy())))"
   ]
  },
  {
   "cell_type": "code",
   "execution_count": null,
   "id": "9e629878",
   "metadata": {},
   "outputs": [],
   "source": [
    " "
   ]
  }
 ],
 "metadata": {
  "kernelspec": {
   "display_name": "Python 3 (ipyflow)",
   "language": "python",
   "name": "ipyflow"
  },
  "language_info": {
   "codemirror_mode": {
    "name": "ipython",
    "version": 3
   },
   "file_extension": ".py",
   "mimetype": "text/x-python",
   "name": "python",
   "nbconvert_exporter": "python",
   "pygments_lexer": "ipython3",
   "version": "3.8.12"
  },
  "toc": {
   "base_numbering": 1,
   "nav_menu": {},
   "number_sections": true,
   "sideBar": true,
   "skip_h1_title": false,
   "title_cell": "Table of Contents",
   "title_sidebar": "Contents",
   "toc_cell": false,
   "toc_position": {},
   "toc_section_display": true,
   "toc_window_display": false
  }
 },
 "nbformat": 4,
 "nbformat_minor": 5
}
