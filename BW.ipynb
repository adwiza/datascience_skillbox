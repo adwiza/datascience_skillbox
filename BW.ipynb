{
 "cells": [
  {
   "cell_type": "code",
   "execution_count": 1,
   "id": "aaa2449a",
   "metadata": {},
   "outputs": [],
   "source": [
    "import pandas as pd\n",
    "import joblib\n",
    "from sklearn.feature_extraction.text import CountVectorizer\n",
    "from sklearn.calibration import CalibratedClassifierCV\n",
    "from sklearn.svm import LinearSVC\n",
    "from gensim.test.utils import common_texts\n",
    "from gensim.models import Word2Vec\n",
    "import logging\n",
    "import gensim\n",
    "import pprint\n",
    "from collections import defaultdict\n",
    "from gensim import corpora\n",
    "from gensim.utils import simple_preprocess\n",
    "logging.basicConfig(format='%(asctime)s : %(levelname)s : %(message)s', level=logging.INFO)"
   ]
  },
  {
   "cell_type": "code",
   "execution_count": 2,
   "id": "8d3162f8",
   "metadata": {},
   "outputs": [
    {
     "data": {
      "text/html": [
       "<div>\n",
       "<style scoped>\n",
       "    .dataframe tbody tr th:only-of-type {\n",
       "        vertical-align: middle;\n",
       "    }\n",
       "\n",
       "    .dataframe tbody tr th {\n",
       "        vertical-align: top;\n",
       "    }\n",
       "\n",
       "    .dataframe thead th {\n",
       "        text-align: right;\n",
       "    }\n",
       "</style>\n",
       "<table border=\"1\" class=\"dataframe\">\n",
       "  <thead>\n",
       "    <tr style=\"text-align: right;\">\n",
       "      <th></th>\n",
       "      <th>0</th>\n",
       "    </tr>\n",
       "  </thead>\n",
       "  <tbody>\n",
       "    <tr>\n",
       "      <th>0</th>\n",
       "      <td>Ã©ath</td>\n",
       "    </tr>\n",
       "    <tr>\n",
       "      <th>1</th>\n",
       "      <td>DGWCUSTOM.COM</td>\n",
       "    </tr>\n",
       "    <tr>\n",
       "      <th>2</th>\n",
       "      <td>http://www.weight-fetish.com/</td>\n",
       "    </tr>\n",
       "    <tr>\n",
       "      <th>3</th>\n",
       "      <td>Popp3rs</td>\n",
       "    </tr>\n",
       "    <tr>\n",
       "      <th>4</th>\n",
       "      <td>Ra*pe</td>\n",
       "    </tr>\n",
       "  </tbody>\n",
       "</table>\n",
       "</div>"
      ],
      "text/plain": [
       "                                0\n",
       "0                           Ã©ath\n",
       "1                   DGWCUSTOM.COM\n",
       "2   http://www.weight-fetish.com/\n",
       "3                         Popp3rs\n",
       "4                           Ra*pe"
      ]
     },
     "execution_count": 2,
     "metadata": {},
     "output_type": "execute_result"
    }
   ],
   "source": [
    "df = pd.read_csv('datasets/bw.csv')\n",
    "df.head()"
   ]
  },
  {
   "cell_type": "code",
   "execution_count": 3,
   "id": "e2b0e9fc",
   "metadata": {},
   "outputs": [],
   "source": [
    "import pymorphy2"
   ]
  },
  {
   "cell_type": "code",
   "execution_count": 4,
   "id": "324ee16a",
   "metadata": {},
   "outputs": [
    {
     "name": "stderr",
     "output_type": "stream",
     "text": [
      "2023-02-21 09:22:02,476 : INFO : Loading dictionaries from /usr/local/lib/python3.10/site-packages/pymorphy2_dicts_uk/data\n",
      "2023-02-21 09:22:02,549 : INFO : format: 2.4, revision: 1, updated: 2016-04-10T11:08:15.982658\n"
     ]
    }
   ],
   "source": [
    "morph = pymorphy2.MorphAnalyzer(lang='uk')"
   ]
  },
  {
   "cell_type": "code",
   "execution_count": 5,
   "id": "92b60599",
   "metadata": {},
   "outputs": [],
   "source": [
    "df2 = pd.read_json('datasets/test_data.json')"
   ]
  },
  {
   "cell_type": "code",
   "execution_count": 6,
   "id": "4120994d",
   "metadata": {},
   "outputs": [],
   "source": [
    "df2.hasBadWords = df2.hasBadWords.apply(lambda x: 1 if x == True else 0)"
   ]
  },
  {
   "cell_type": "code",
   "execution_count": 7,
   "id": "08bf7f4e",
   "metadata": {},
   "outputs": [
    {
     "data": {
      "text/html": [
       "<div>\n",
       "<style scoped>\n",
       "    .dataframe tbody tr th:only-of-type {\n",
       "        vertical-align: middle;\n",
       "    }\n",
       "\n",
       "    .dataframe tbody tr th {\n",
       "        vertical-align: top;\n",
       "    }\n",
       "\n",
       "    .dataframe thead th {\n",
       "        text-align: right;\n",
       "    }\n",
       "</style>\n",
       "<table border=\"1\" class=\"dataframe\">\n",
       "  <thead>\n",
       "    <tr style=\"text-align: right;\">\n",
       "      <th></th>\n",
       "      <th>text</th>\n",
       "      <th>textType</th>\n",
       "      <th>hasBadWords</th>\n",
       "      <th>badWords</th>\n",
       "    </tr>\n",
       "  </thead>\n",
       "  <tbody>\n",
       "    <tr>\n",
       "      <th>0</th>\n",
       "      <td>My Favorite rape kids</td>\n",
       "      <td>clipTitle</td>\n",
       "      <td>1</td>\n",
       "      <td>[rape, kids]</td>\n",
       "    </tr>\n",
       "    <tr>\n",
       "      <th>1</th>\n",
       "      <td>My Favorite Slut</td>\n",
       "      <td>clipTitle</td>\n",
       "      <td>0</td>\n",
       "      <td>[]</td>\n",
       "    </tr>\n",
       "    <tr>\n",
       "      <th>2</th>\n",
       "      <td>girlfriends sit on each other's faces with the...</td>\n",
       "      <td>clipTitle</td>\n",
       "      <td>0</td>\n",
       "      <td>[]</td>\n",
       "    </tr>\n",
       "    <tr>\n",
       "      <th>3</th>\n",
       "      <td>bound beauty kisses her girlfriend</td>\n",
       "      <td>clipTitle</td>\n",
       "      <td>0</td>\n",
       "      <td>[]</td>\n",
       "    </tr>\n",
       "    <tr>\n",
       "      <th>4</th>\n",
       "      <td>MORGAN - Anytime - Nail Painting On The Slave'...</td>\n",
       "      <td>clipTitle</td>\n",
       "      <td>0</td>\n",
       "      <td>[]</td>\n",
       "    </tr>\n",
       "  </tbody>\n",
       "</table>\n",
       "</div>"
      ],
      "text/plain": [
       "                                                text   textType  hasBadWords  \\\n",
       "0                              My Favorite rape kids  clipTitle            1   \n",
       "1                                   My Favorite Slut  clipTitle            0   \n",
       "2  girlfriends sit on each other's faces with the...  clipTitle            0   \n",
       "3                 bound beauty kisses her girlfriend  clipTitle            0   \n",
       "4  MORGAN - Anytime - Nail Painting On The Slave'...  clipTitle            0   \n",
       "\n",
       "       badWords  \n",
       "0  [rape, kids]  \n",
       "1            []  \n",
       "2            []  \n",
       "3            []  \n",
       "4            []  "
      ]
     },
     "execution_count": 7,
     "metadata": {},
     "output_type": "execute_result"
    }
   ],
   "source": [
    "df2.head()"
   ]
  },
  {
   "cell_type": "code",
   "execution_count": 8,
   "id": "1704a65c",
   "metadata": {},
   "outputs": [],
   "source": [
    "with open('datasets/bad_words.txt') as f:\n",
    "    doc_list = f.readlines()"
   ]
  },
  {
   "cell_type": "code",
   "execution_count": 9,
   "id": "4e4fa5a0",
   "metadata": {},
   "outputs": [],
   "source": [
    "word_list = [line.strip().split() for line in df2.text]"
   ]
  },
  {
   "cell_type": "code",
   "execution_count": 10,
   "id": "cbe70dc7",
   "metadata": {},
   "outputs": [
    {
     "data": {
      "text/html": [
       "<div>\n",
       "<style scoped>\n",
       "    .dataframe tbody tr th:only-of-type {\n",
       "        vertical-align: middle;\n",
       "    }\n",
       "\n",
       "    .dataframe tbody tr th {\n",
       "        vertical-align: top;\n",
       "    }\n",
       "\n",
       "    .dataframe thead th {\n",
       "        text-align: right;\n",
       "    }\n",
       "</style>\n",
       "<table border=\"1\" class=\"dataframe\">\n",
       "  <thead>\n",
       "    <tr style=\"text-align: right;\">\n",
       "      <th></th>\n",
       "      <th>badWords</th>\n",
       "      <th>hasBadWords</th>\n",
       "    </tr>\n",
       "  </thead>\n",
       "  <tbody>\n",
       "    <tr>\n",
       "      <th>0</th>\n",
       "      <td>[rape, kids]</td>\n",
       "      <td>1</td>\n",
       "    </tr>\n",
       "    <tr>\n",
       "      <th>1</th>\n",
       "      <td>[]</td>\n",
       "      <td>0</td>\n",
       "    </tr>\n",
       "    <tr>\n",
       "      <th>2</th>\n",
       "      <td>[]</td>\n",
       "      <td>0</td>\n",
       "    </tr>\n",
       "    <tr>\n",
       "      <th>3</th>\n",
       "      <td>[]</td>\n",
       "      <td>0</td>\n",
       "    </tr>\n",
       "    <tr>\n",
       "      <th>4</th>\n",
       "      <td>[]</td>\n",
       "      <td>0</td>\n",
       "    </tr>\n",
       "    <tr>\n",
       "      <th>...</th>\n",
       "      <td>...</td>\n",
       "      <td>...</td>\n",
       "    </tr>\n",
       "    <tr>\n",
       "      <th>1096</th>\n",
       "      <td>[All4Honey]</td>\n",
       "      <td>1</td>\n",
       "    </tr>\n",
       "    <tr>\n",
       "      <th>1097</th>\n",
       "      <td>[Dont_do_drugs]</td>\n",
       "      <td>1</td>\n",
       "    </tr>\n",
       "    <tr>\n",
       "      <th>1098</th>\n",
       "      <td>[incestualfemdom]</td>\n",
       "      <td>1</td>\n",
       "    </tr>\n",
       "    <tr>\n",
       "      <th>1099</th>\n",
       "      <td>[bloodybarbies]</td>\n",
       "      <td>1</td>\n",
       "    </tr>\n",
       "    <tr>\n",
       "      <th>1100</th>\n",
       "      <td>[yezzclips]</td>\n",
       "      <td>1</td>\n",
       "    </tr>\n",
       "  </tbody>\n",
       "</table>\n",
       "<p>1101 rows × 2 columns</p>\n",
       "</div>"
      ],
      "text/plain": [
       "               badWords  hasBadWords\n",
       "0          [rape, kids]            1\n",
       "1                    []            0\n",
       "2                    []            0\n",
       "3                    []            0\n",
       "4                    []            0\n",
       "...                 ...          ...\n",
       "1096        [All4Honey]            1\n",
       "1097    [Dont_do_drugs]            1\n",
       "1098  [incestualfemdom]            1\n",
       "1099    [bloodybarbies]            1\n",
       "1100        [yezzclips]            1\n",
       "\n",
       "[1101 rows x 2 columns]"
      ]
     },
     "execution_count": 10,
     "metadata": {},
     "output_type": "execute_result"
    }
   ],
   "source": [
    "df3 = pd.DataFrame(df2[['badWords', 'hasBadWords']])\n",
    "df3"
   ]
  },
  {
   "cell_type": "code",
   "execution_count": 11,
   "id": "3ca42932",
   "metadata": {},
   "outputs": [],
   "source": [
    "df3.badWords.drop_duplicates(inplace=True)"
   ]
  },
  {
   "cell_type": "code",
   "execution_count": 12,
   "id": "41c9b0db",
   "metadata": {},
   "outputs": [],
   "source": [
    "df3.badWords.dropna(inplace=True)"
   ]
  },
  {
   "cell_type": "code",
   "execution_count": 13,
   "id": "db8d87ee",
   "metadata": {},
   "outputs": [],
   "source": [
    "df3.drop(df3.loc[df3['hasBadWords']==0].index, inplace=True)"
   ]
  },
  {
   "cell_type": "code",
   "execution_count": 14,
   "id": "b89304be",
   "metadata": {},
   "outputs": [],
   "source": [
    "lst_new = df3.values.tolist()"
   ]
  },
  {
   "cell_type": "code",
   "execution_count": 15,
   "id": "1bfb55a2",
   "metadata": {},
   "outputs": [],
   "source": [
    "lst = []\n",
    "for k in lst_new:\n",
    "    if k not in lst:\n",
    "        lst += (k[0])"
   ]
  },
  {
   "cell_type": "code",
   "execution_count": 16,
   "id": "311e3088",
   "metadata": {},
   "outputs": [],
   "source": [
    "df_lst = pd.DataFrame(lst)"
   ]
  },
  {
   "cell_type": "code",
   "execution_count": 17,
   "id": "bdadd7dd",
   "metadata": {},
   "outputs": [],
   "source": [
    "df_lst.drop_duplicates(inplace=True)"
   ]
  },
  {
   "cell_type": "code",
   "execution_count": 18,
   "id": "6bd0f347",
   "metadata": {},
   "outputs": [],
   "source": [
    "df_lst = df_lst.reset_index(drop=True)"
   ]
  },
  {
   "cell_type": "code",
   "execution_count": 19,
   "id": "42ebc2c8",
   "metadata": {},
   "outputs": [],
   "source": [
    "bag = pd.Series([y for x in df.values.flatten() for y in x.split()]).value_counts()"
   ]
  },
  {
   "cell_type": "code",
   "execution_count": 20,
   "id": "f64cc88f",
   "metadata": {},
   "outputs": [
    {
     "data": {
      "text/plain": [
       "under                 156\n",
       "old                   102\n",
       "sex                    41\n",
       "porn                   40\n",
       "girl                   37\n",
       "                     ... \n",
       "G4nja                   1\n",
       "G0re                    1\n",
       "G0r3                    1\n",
       "g.o.p.                  1\n",
       "__crush-fetish_com      1\n",
       "Length: 5194, dtype: int64"
      ]
     },
     "execution_count": 20,
     "metadata": {},
     "output_type": "execute_result"
    }
   ],
   "source": [
    "bag"
   ]
  },
  {
   "cell_type": "code",
   "execution_count": null,
   "id": "9c244e1b",
   "metadata": {},
   "outputs": [],
   "source": []
  },
  {
   "cell_type": "code",
   "execution_count": null,
   "id": "4964ad8c",
   "metadata": {},
   "outputs": [],
   "source": []
  }
 ],
 "metadata": {
  "kernelspec": {
   "display_name": "Python 3 (ipykernel)",
   "language": "python",
   "name": "python3"
  },
  "language_info": {
   "codemirror_mode": {
    "name": "ipython",
    "version": 3
   },
   "file_extension": ".py",
   "mimetype": "text/x-python",
   "name": "python",
   "nbconvert_exporter": "python",
   "pygments_lexer": "ipython3",
   "version": "3.10.10"
  }
 },
 "nbformat": 4,
 "nbformat_minor": 5
}
