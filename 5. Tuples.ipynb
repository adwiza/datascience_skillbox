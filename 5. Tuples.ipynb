{
 "cells": [
  {
   "cell_type": "code",
   "execution_count": 2,
   "id": "6b59a48c",
   "metadata": {},
   "outputs": [],
   "source": [
    "test_tule = (1, 3, 5)"
   ]
  },
  {
   "cell_type": "code",
   "execution_count": 3,
   "id": "772b6717",
   "metadata": {},
   "outputs": [
    {
     "data": {
      "text/plain": [
       "(1, 3, 5)"
      ]
     },
     "execution_count": 3,
     "metadata": {},
     "output_type": "execute_result"
    }
   ],
   "source": [
    "test_tule"
   ]
  },
  {
   "cell_type": "code",
   "execution_count": 4,
   "id": "484ffba7",
   "metadata": {},
   "outputs": [
    {
     "name": "stdout",
     "output_type": "stream",
     "text": [
      "(1, 10, 0, 0)\n"
     ]
    }
   ],
   "source": [
    "test_tuple2 = tuple([1, 10, 0, 0])\n",
    "print(test_tuple2)"
   ]
  },
  {
   "cell_type": "code",
   "execution_count": 27,
   "id": "ba3ccaa6",
   "metadata": {},
   "outputs": [
    {
     "name": "stdout",
     "output_type": "stream",
     "text": [
      "('t', 'u', 'r', 'u', 'r', 'u', 'm')\n"
     ]
    }
   ],
   "source": [
    "test_tuple2 = tuple('tururum')\n",
    "print(test_tuple2)"
   ]
  },
  {
   "cell_type": "code",
   "execution_count": 28,
   "id": "3ac264a3",
   "metadata": {},
   "outputs": [
    {
     "data": {
      "text/plain": [
       "'m'"
      ]
     },
     "execution_count": 28,
     "metadata": {},
     "output_type": "execute_result"
    }
   ],
   "source": [
    "test_tuple2[-1]"
   ]
  },
  {
   "cell_type": "code",
   "execution_count": 29,
   "id": "ebca1ccf",
   "metadata": {},
   "outputs": [
    {
     "data": {
      "text/plain": [
       "'t'"
      ]
     },
     "execution_count": 29,
     "metadata": {},
     "output_type": "execute_result"
    }
   ],
   "source": [
    "test_tuple2[0]"
   ]
  },
  {
   "cell_type": "code",
   "execution_count": 30,
   "id": "2c38295a",
   "metadata": {},
   "outputs": [
    {
     "data": {
      "text/plain": [
       "117"
      ]
     },
     "execution_count": 30,
     "metadata": {},
     "output_type": "execute_result"
    }
   ],
   "source": [
    "ord('u')"
   ]
  },
  {
   "cell_type": "code",
   "execution_count": 31,
   "id": "f8114ee5",
   "metadata": {},
   "outputs": [
    {
     "data": {
      "text/plain": [
       "104"
      ]
     },
     "execution_count": 31,
     "metadata": {},
     "output_type": "execute_result"
    }
   ],
   "source": [
    "test_list2 = ['t', 'u', 'r', 'u', 'r', 'u', 'm']\n",
    "test_list2.__sizeof__()"
   ]
  },
  {
   "cell_type": "code",
   "execution_count": 32,
   "id": "7ab30e71",
   "metadata": {},
   "outputs": [
    {
     "data": {
      "text/plain": [
       "80"
      ]
     },
     "execution_count": 32,
     "metadata": {},
     "output_type": "execute_result"
    }
   ],
   "source": [
    "test_tuple2.__sizeof__()"
   ]
  },
  {
   "cell_type": "code",
   "execution_count": 33,
   "id": "9fc82aa2",
   "metadata": {},
   "outputs": [
    {
     "name": "stdout",
     "output_type": "stream",
     "text": [
      "<class 'list'>\n",
      "['t', 'u', 'r', 'u', 'r', 'u', 'm']\n"
     ]
    }
   ],
   "source": [
    "converted_list = list(test_tuple2)\n",
    "print(type(converted_list))\n",
    "print(converted_list)"
   ]
  },
  {
   "cell_type": "code",
   "execution_count": 34,
   "id": "fc07d508",
   "metadata": {},
   "outputs": [
    {
     "name": "stdout",
     "output_type": "stream",
     "text": [
      "56.6 ns ± 2.11 ns per loop (mean ± std. dev. of 7 runs, 10,000,000 loops each)\n"
     ]
    }
   ],
   "source": [
    "%%timeit\n",
    "test_list3 = ['t', 'u', 'r', 'u', 'r', 'u', 'm']"
   ]
  },
  {
   "cell_type": "code",
   "execution_count": 35,
   "id": "99a20226",
   "metadata": {},
   "outputs": [
    {
     "name": "stdout",
     "output_type": "stream",
     "text": [
      "13 ns ± 0.0195 ns per loop (mean ± std. dev. of 7 runs, 100,000,000 loops each)\n"
     ]
    }
   ],
   "source": [
    "%%timeit\n",
    "test_tuple3 = ('t', 'u', 'r', 'u', 'r', 'u', 'm')"
   ]
  },
  {
   "cell_type": "code",
   "execution_count": 36,
   "id": "27819939",
   "metadata": {},
   "outputs": [
    {
     "name": "stdout",
     "output_type": "stream",
     "text": [
      "5.29 µs ± 117 ns per loop (mean ± std. dev. of 7 runs, 100,000 loops each)\n"
     ]
    }
   ],
   "source": [
    "%%timeit\n",
    "test_list3 = ['t', 'u', 'r', 'u', 'r', 'u', 'm'] * 500"
   ]
  },
  {
   "cell_type": "code",
   "execution_count": 37,
   "id": "21177303",
   "metadata": {},
   "outputs": [
    {
     "name": "stdout",
     "output_type": "stream",
     "text": [
      "4.6 µs ± 46 ns per loop (mean ± std. dev. of 7 runs, 100,000 loops each)\n"
     ]
    }
   ],
   "source": [
    "%%timeit\n",
    "test_tuple3 = ('t', 'u', 'r', 'u', 'r', 'u', 'm') * 500"
   ]
  },
  {
   "cell_type": "code",
   "execution_count": 38,
   "id": "4dcbd81d",
   "metadata": {},
   "outputs": [],
   "source": [
    "geo_coord = (56.78767, 52.6786384)"
   ]
  },
  {
   "cell_type": "code",
   "execution_count": 59,
   "id": "4c12eefd",
   "metadata": {},
   "outputs": [],
   "source": [
    "dates = ['1999-10-01', '2001-12-17', '1991-12-01', '2001-06-22', '2001-09-05', '2001-01-13']"
   ]
  },
  {
   "cell_type": "code",
   "execution_count": 60,
   "id": "a0ac9b39",
   "metadata": {},
   "outputs": [],
   "source": [
    "def dates_to_tuples(dates):\n",
    "    converted_dates = []\n",
    "    for date in dates:\n",
    "        tuple_date = date.split('-')\n",
    "        tuple_date = (int(tuple_date[0]), int(tuple_date[1]), int(tuple_date[2]))\n",
    "        converted_dates.append(tuple_date)\n",
    "    return converted_dates"
   ]
  },
  {
   "cell_type": "code",
   "execution_count": 61,
   "id": "97aa46ee",
   "metadata": {},
   "outputs": [
    {
     "data": {
      "text/plain": [
       "[(1999, 10, 1),\n",
       " (2001, 12, 17),\n",
       " (1991, 12, 1),\n",
       " (2001, 6, 22),\n",
       " (2001, 9, 5),\n",
       " (2001, 1, 13)]"
      ]
     },
     "execution_count": 61,
     "metadata": {},
     "output_type": "execute_result"
    }
   ],
   "source": [
    "dates_to_tuples(dates)"
   ]
  },
  {
   "cell_type": "code",
   "execution_count": 62,
   "id": "20a0fde8",
   "metadata": {},
   "outputs": [
    {
     "name": "stdout",
     "output_type": "stream",
     "text": [
      "[(1999, 10, 1), (2001, 12, 17), (1991, 12, 1), (2001, 6, 22), (2001, 9, 5), (2001, 1, 13)]\n"
     ]
    }
   ],
   "source": [
    "tuple_dates = dates_to_tuples(dates)\n",
    "\n",
    "print(tuple_dates)"
   ]
  },
  {
   "cell_type": "code",
   "execution_count": 68,
   "id": "e73652ad",
   "metadata": {},
   "outputs": [
    {
     "data": {
      "text/plain": [
       "[(1991, 12, 1),\n",
       " (1999, 10, 1),\n",
       " (2001, 1, 13),\n",
       " (2001, 6, 22),\n",
       " (2001, 9, 5),\n",
       " (2001, 12, 17)]"
      ]
     },
     "execution_count": 68,
     "metadata": {},
     "output_type": "execute_result"
    }
   ],
   "source": [
    "sorted_tuple_dates = sorted(tuple_dates)\n",
    "sorted_tuple_dates"
   ]
  },
  {
   "cell_type": "code",
   "execution_count": 70,
   "id": "f127b403",
   "metadata": {},
   "outputs": [],
   "source": [
    "tuple_dates = dates_to_tuples(dates)"
   ]
  },
  {
   "cell_type": "code",
   "execution_count": 73,
   "id": "87ed0bea",
   "metadata": {},
   "outputs": [
    {
     "data": {
      "text/plain": [
       "False"
      ]
     },
     "execution_count": 73,
     "metadata": {},
     "output_type": "execute_result"
    }
   ],
   "source": [
    "(1990, 10, 1) in tuple_dates"
   ]
  },
  {
   "cell_type": "code",
   "execution_count": null,
   "id": "eb0bf54b",
   "metadata": {},
   "outputs": [],
   "source": []
  }
 ],
 "metadata": {
  "kernelspec": {
   "display_name": "Python 3 (ipykernel)",
   "language": "python",
   "name": "python3"
  },
  "language_info": {
   "codemirror_mode": {
    "name": "ipython",
    "version": 3
   },
   "file_extension": ".py",
   "mimetype": "text/x-python",
   "name": "python",
   "nbconvert_exporter": "python",
   "pygments_lexer": "ipython3",
   "version": "3.10.9"
  }
 },
 "nbformat": 4,
 "nbformat_minor": 5
}
