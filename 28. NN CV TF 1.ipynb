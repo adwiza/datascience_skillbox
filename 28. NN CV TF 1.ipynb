{
 "cells": [
  {
   "cell_type": "markdown",
   "id": "ff128376",
   "metadata": {},
   "source": [
    "# Сверточные слои в Tensorflow"
   ]
  },
  {
   "cell_type": "code",
   "execution_count": 1,
   "id": "1019a8e3",
   "metadata": {},
   "outputs": [
    {
     "name": "stderr",
     "output_type": "stream",
     "text": [
      "2023-04-02 14:17:12.274644: I tensorflow/core/platform/cpu_feature_guard.cc:193] This TensorFlow binary is optimized with oneAPI Deep Neural Network Library (oneDNN) to use the following CPU instructions in performance-critical operations:  AVX2 FMA\n",
      "To enable them in other operations, rebuild TensorFlow with the appropriate compiler flags.\n"
     ]
    }
   ],
   "source": [
    "import tensorflow as tf\n",
    "import numpy as np"
   ]
  },
  {
   "cell_type": "code",
   "execution_count": 2,
   "id": "a7fe4d44",
   "metadata": {},
   "outputs": [],
   "source": [
    "from tensorflow.keras.layers import Conv2D"
   ]
  },
  {
   "cell_type": "code",
   "execution_count": 4,
   "id": "ead1bf90",
   "metadata": {},
   "outputs": [],
   "source": [
    "# Conv2D?"
   ]
  },
  {
   "cell_type": "markdown",
   "id": "3796b3bf",
   "metadata": {},
   "source": [
    " <img src=\"https://drive.google.com/uc?export=view&id=1s5twLjOyr46Z1X-TbsodlmtVxBoDtZac\" width=600>\n",
    "\n",
    "\n",
    "```\n",
    "Conv2D(filters, kernel_size, strides=(1, 1), padding='valid', activation=None, use_bias=True, kernel_initializer='glorot_uniform', bias_initializer='zeros', ...)\n",
    "```\n",
    "\n",
    "\n",
    "*   filters -- количество выходных каналов. M -- на иллюстрации выше\n",
    "*   kernel_size -- размер фильтра (ядра). (k,k) -- на иллюстрации.\n",
    "*   padding -- значение \"valid\" по умолчанию, означает, что свертка \"откусит\" часть входного тензора. Например, при размере фильтра 3 -- размер уменьшится на пиксель с каждой стороны, при фильтре 5 -- на два и т.д. Второе значение -- \"same\", автоматически подберет паддинг из нулей для того, чтобы размер не изменился\n",
    "*   activation -- знакомая нам активация (например, \"relu\"). Применяется сразу после свертки и добавления вектора смещения поэлементно\n",
    "*   use_bias -- использовать ли смещение после свертки. Добавляет число к каждому из выходных каналов\n",
    "*   kernel_initializer, bias_initializer -- инициализаторы ядра и смещения, аналогично Dense слою\n",
    "\n",
    "Обратите внимаение, мы не указали количество входных каналов. Как и в случае полносвязного слоя, Keras вычислит это автоматически.\n",
    "\n",
    "\n",
    "Для знакомства со сверточным слоем -- реализуем операцию свертки, которую мы считали на лекции.\n",
    "\n",
    " <img src=\"https://drive.google.com/uc?export=view&id=19HWr8k2ZJBglnIpTuEcaWW7DfC_76Jet\" width=400>\n",
    "\n"
   ]
  },
  {
   "cell_type": "code",
   "execution_count": null,
   "id": "aff36f4c",
   "metadata": {},
   "outputs": [],
   "source": [
    "sibgnal = np.array([\n",
    "    [3, 3, 2, 1, 0],\n",
    "    [0, 0, 1, 3, 1],\n",
    "    [3, 1, 2, 2, 3],\n",
    "    [2, 0, 0, 2, 2],\n",
    "    [2, 0, 0, 0, 1]])\n",
    "\n",
    "# для начала создадим слой. количество выходных каналов -1, размер (3, 3)\n",
    "conv_layer = Conv2D(kernel_size=(3, 3), filters=1, use_bias=False)\n",
    "\n",
    "# применим слой (пусть пока со случайным фильтром) ко входу и получим ошибку\n",
    "_ = conv_layer(signal)"
   ]
  }
 ],
 "metadata": {
  "kernelspec": {
   "display_name": "Python 3 (ipykernel)",
   "language": "python",
   "name": "python3"
  },
  "language_info": {
   "codemirror_mode": {
    "name": "ipython",
    "version": 3
   },
   "file_extension": ".py",
   "mimetype": "text/x-python",
   "name": "python",
   "nbconvert_exporter": "python",
   "pygments_lexer": "ipython3",
   "version": "3.10.10"
  },
  "toc": {
   "base_numbering": 1,
   "nav_menu": {},
   "number_sections": false,
   "sideBar": true,
   "skip_h1_title": false,
   "title_cell": "Table of Contents",
   "title_sidebar": "Contents",
   "toc_cell": false,
   "toc_position": {
    "height": "calc(100% - 180px)",
    "left": "10px",
    "top": "150px",
    "width": "258.797px"
   },
   "toc_section_display": true,
   "toc_window_display": false
  }
 },
 "nbformat": 4,
 "nbformat_minor": 5
}
