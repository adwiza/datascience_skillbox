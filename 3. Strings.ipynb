{
 "cells": [
  {
   "cell_type": "code",
   "execution_count": 1,
   "id": "f24a60c5",
   "metadata": {},
   "outputs": [],
   "source": [
    "fio = \"Иванов Иван Иванович\""
   ]
  },
  {
   "cell_type": "code",
   "execution_count": 2,
   "id": "1cb572d2",
   "metadata": {},
   "outputs": [
    {
     "data": {
      "text/plain": [
       "str"
      ]
     },
     "execution_count": 2,
     "metadata": {},
     "output_type": "execute_result"
    }
   ],
   "source": [
    "type(fio)"
   ]
  },
  {
   "cell_type": "code",
   "execution_count": 3,
   "id": "4fdc198c",
   "metadata": {},
   "outputs": [
    {
     "data": {
      "text/plain": [
       "['Иванов', 'Иван', 'Иванович']"
      ]
     },
     "execution_count": 3,
     "metadata": {},
     "output_type": "execute_result"
    }
   ],
   "source": [
    "fio.split()"
   ]
  },
  {
   "cell_type": "code",
   "execution_count": 5,
   "id": "66847e52",
   "metadata": {},
   "outputs": [],
   "source": [
    "splitted_fio = fio.split()\n",
    "surname = splitted_fio[0]\n",
    "name = splitted_fio[1]\n",
    "middle_name = splitted_fio[2]"
   ]
  },
  {
   "cell_type": "code",
   "execution_count": 7,
   "id": "bdad6dfc",
   "metadata": {},
   "outputs": [
    {
     "name": "stdout",
     "output_type": "stream",
     "text": [
      "Иванов\n",
      "Иван\n",
      "Иванович\n"
     ]
    }
   ],
   "source": [
    "print(surname)\n",
    "print(name) \n",
    "print(middle_name)"
   ]
  },
  {
   "cell_type": "markdown",
   "id": "3fe47e70",
   "metadata": {},
   "source": [
    "# String normalisation"
   ]
  },
  {
   "cell_type": "code",
   "execution_count": 35,
   "id": "aa66ec85",
   "metadata": {},
   "outputs": [],
   "source": [
    "user_cities = ['Г москва', 'город москва', 'МоСкВа', 'г Москва', 'г.москва', 'Москва']"
   ]
  },
  {
   "cell_type": "code",
   "execution_count": 39,
   "id": "af2b46f1",
   "metadata": {},
   "outputs": [],
   "source": [
    "def city_normalization(city_string, city_name='москва'):\n",
    "    normalized_string = city_string.lower()\n",
    "    index = normalized_string.find(city_name.lower())\n",
    "    if index != -1:\n",
    "        return 'москва'\n",
    "    else:\n",
    "        return None"
   ]
  },
  {
   "cell_type": "code",
   "execution_count": 37,
   "id": "57737242",
   "metadata": {},
   "outputs": [
    {
     "data": {
      "text/plain": [
       "'москва'"
      ]
     },
     "execution_count": 37,
     "metadata": {},
     "output_type": "execute_result"
    }
   ],
   "source": [
    "city_normalization('Г москва', 'мосКва')"
   ]
  },
  {
   "cell_type": "code",
   "execution_count": 24,
   "id": "e711d651",
   "metadata": {},
   "outputs": [
    {
     "data": {
      "text/plain": [
       "'казань'"
      ]
     },
     "execution_count": 24,
     "metadata": {},
     "output_type": "execute_result"
    }
   ],
   "source": [
    "city_normalization('Г казань')"
   ]
  },
  {
   "cell_type": "code",
   "execution_count": 20,
   "id": "ada4a06b",
   "metadata": {},
   "outputs": [
    {
     "data": {
      "text/plain": [
       "6"
      ]
     },
     "execution_count": 20,
     "metadata": {},
     "output_type": "execute_result"
    }
   ],
   "source": [
    "'город москва'.find('москва')"
   ]
  },
  {
   "cell_type": "code",
   "execution_count": 13,
   "id": "b3387d07",
   "metadata": {},
   "outputs": [
    {
     "data": {
      "text/plain": [
       "'москва'"
      ]
     },
     "execution_count": 13,
     "metadata": {},
     "output_type": "execute_result"
    }
   ],
   "source": [
    "'город москва'[6:]"
   ]
  },
  {
   "cell_type": "code",
   "execution_count": 14,
   "id": "5eafdf35",
   "metadata": {},
   "outputs": [
    {
     "data": {
      "text/plain": [
       "-1"
      ]
     },
     "execution_count": 14,
     "metadata": {},
     "output_type": "execute_result"
    }
   ],
   "source": [
    "'город москва'.find('казань')"
   ]
  },
  {
   "cell_type": "code",
   "execution_count": 42,
   "id": "3efbbcd0",
   "metadata": {},
   "outputs": [
    {
     "name": "stdout",
     "output_type": "stream",
     "text": [
      "До: Г москва После: москва\n",
      "До: город москва После: москва\n",
      "До: МоСкВа После: москва\n",
      "До: г Москва После: москва\n",
      "До: г.москва После: москва\n",
      "До: Москва После: москва\n"
     ]
    }
   ],
   "source": [
    "for elem in user_cities:\n",
    "    print(f'До: {elem}', f'После: {city_normalization(elem)}')"
   ]
  },
  {
   "cell_type": "code",
   "execution_count": null,
   "id": "3fdfcf86",
   "metadata": {},
   "outputs": [],
   "source": []
  }
 ],
 "metadata": {
  "kernelspec": {
   "display_name": "Python 3 (ipykernel)",
   "language": "python",
   "name": "python3"
  },
  "language_info": {
   "codemirror_mode": {
    "name": "ipython",
    "version": 3
   },
   "file_extension": ".py",
   "mimetype": "text/x-python",
   "name": "python",
   "nbconvert_exporter": "python",
   "pygments_lexer": "ipython3",
   "version": "3.10.9"
  }
 },
 "nbformat": 4,
 "nbformat_minor": 5
}
