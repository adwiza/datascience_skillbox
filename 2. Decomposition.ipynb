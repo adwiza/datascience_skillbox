{
 "cells": [
  {
   "cell_type": "code",
   "execution_count": 4,
   "id": "e292ca8f",
   "metadata": {},
   "outputs": [],
   "source": [
    "def nps(scores):\n",
    "    positive_count = 0\n",
    "    negative_count = 0\n",
    "    \n",
    "    for score in scores:\n",
    "        if score >= 9:\n",
    "            positive_count += 1\n",
    "        elif score <= 6:\n",
    "            negative_count += 1\n",
    "    nps = (positive_count - negative_count) / len(scores)\n",
    "    return nps * 100"
   ]
  },
  {
   "cell_type": "code",
   "execution_count": 5,
   "id": "cc4c6c99",
   "metadata": {},
   "outputs": [
    {
     "data": {
      "text/plain": [
       "20.0"
      ]
     },
     "execution_count": 5,
     "metadata": {},
     "output_type": "execute_result"
    }
   ],
   "source": [
    "scores1 = [10, 10, 10, 6, 5]\n",
    "nps(scores1)"
   ]
  },
  {
   "cell_type": "code",
   "execution_count": 8,
   "id": "598e5dcd",
   "metadata": {},
   "outputs": [],
   "source": [
    "scores_list = [\n",
    "    [10, 10, 9, 10, 1, 8, 5],\n",
    "    [9, 9, 8, 5],\n",
    "    [10, 10, 10, 4, 5]\n",
    "]"
   ]
  },
  {
   "cell_type": "code",
   "execution_count": 12,
   "id": "b9bf13f5",
   "metadata": {},
   "outputs": [
    {
     "data": {
      "text/plain": [
       "[[10, 10, 9, 10, 1, 8, 5], [9, 9, 8, 5], [10, 10, 10, 4, 5]]"
      ]
     },
     "execution_count": 12,
     "metadata": {},
     "output_type": "execute_result"
    }
   ],
   "source": [
    "scores_list"
   ]
  },
  {
   "cell_type": "code",
   "execution_count": 17,
   "id": "fac3b5c5",
   "metadata": {},
   "outputs": [],
   "source": [
    "def extend_list(list_to_concat):\n",
    "    concat_list = []\n",
    "    for i in range(len(list_to_concat)):\n",
    "        concat_list += (list_to_concat[i])\n",
    "    return concat_list"
   ]
  },
  {
   "cell_type": "code",
   "execution_count": 18,
   "id": "b83cacda",
   "metadata": {},
   "outputs": [],
   "source": [
    "def total_nps(scores_list):\n",
    "    result_list = extend_list(scores_list)\n",
    "    return nps(result_list)"
   ]
  },
  {
   "cell_type": "code",
   "execution_count": 19,
   "id": "82b670fb",
   "metadata": {},
   "outputs": [],
   "source": [
    "scores_lst = extend_list(scores_list)"
   ]
  },
  {
   "cell_type": "code",
   "execution_count": 20,
   "id": "b02fa2b4",
   "metadata": {},
   "outputs": [
    {
     "data": {
      "text/plain": [
       "[10, 10, 9, 10, 1, 8, 5, 9, 9, 8, 5, 10, 10, 10, 4, 5]"
      ]
     },
     "execution_count": 20,
     "metadata": {},
     "output_type": "execute_result"
    }
   ],
   "source": [
    "scores_lst"
   ]
  },
  {
   "cell_type": "code",
   "execution_count": 21,
   "id": "04dd8880",
   "metadata": {},
   "outputs": [
    {
     "name": "stdout",
     "output_type": "stream",
     "text": [
      "28.57142857142857\n",
      "25.0\n",
      "20.0\n",
      "25.0\n"
     ]
    }
   ],
   "source": [
    "for scores in scores_list:\n",
    "    print(nps(scores))\n",
    "\n",
    "print(total_nps(scores_list))"
   ]
  },
  {
   "cell_type": "code",
   "execution_count": null,
   "id": "573d89ee",
   "metadata": {},
   "outputs": [],
   "source": []
  }
 ],
 "metadata": {
  "kernelspec": {
   "display_name": "Python 3 (ipykernel)",
   "language": "python",
   "name": "python3"
  },
  "language_info": {
   "codemirror_mode": {
    "name": "ipython",
    "version": 3
   },
   "file_extension": ".py",
   "mimetype": "text/x-python",
   "name": "python",
   "nbconvert_exporter": "python",
   "pygments_lexer": "ipython3",
   "version": "3.10.9"
  }
 },
 "nbformat": 4,
 "nbformat_minor": 5
}
