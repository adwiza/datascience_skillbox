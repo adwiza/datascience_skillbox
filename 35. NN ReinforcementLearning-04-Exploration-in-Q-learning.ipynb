{
 "cells": [
  {
   "cell_type": "markdown",
   "id": "863c78c8",
   "metadata": {},
   "source": [
    "# Реализация Exploration в Q-Learning\n",
    "Рассмотрим пример реализации Epsilon-greedy подхода для добавления Exploration составляющей в Q-Leaning."
   ]
  },
  {
   "cell_type": "markdown",
   "id": "eb9204ea",
   "metadata": {},
   "source": [
    "# Epsilon-greedy подход\n",
    "\n",
    "Вот так выглядит eps-greedy стратегия выбора действий при обучении Q-функции. Пусть есть некторый фиксированный параметр\n",
    "eps, тогда с вероятностью eps мы выбираем случайное действие, а с вероятностью 1 - eps выбираем действие исходя из текущей\n",
    "политики (как в обычном Q-Learning)."
   ]
  },
  {
   "cell_type": "code",
   "execution_count": 5,
   "id": "b608298a",
   "metadata": {},
   "outputs": [],
   "source": [
    "import numpy as np\n",
    "\n",
    "eps = .3\n",
    "\n",
    "if np.random.rand() < eps:\n",
    "    pass\n",
    "    # Выбор случайного действия\n",
    "    # ...\n",
    "else:\n",
    "    pass\n",
    "    # Выбор действия по текущей политике\n",
    "    # ..."
   ]
  },
  {
   "cell_type": "markdown",
   "id": "44cfe42e",
   "metadata": {},
   "source": [
    "Как выбирают параметр eps? Обычно его меняют в процессе обучения.\n",
    "Вначале, пока Q-функция еще не особо обучена, имеет смысл больше исследовать и меньше полагаться на Q-функцию. То есть\n",
    "сделать eps большим. Агент будет совершать больше случайных действий, часто ошибаться, сворачивать не туда, падать в яму, зато\n",
    "будет исследовать среду, искать новые траектории, получать опыт.\n",
    "А ближе к концу обучения нужно меньше исследовать (меньше случайных действий) и больше полагаться на оптимальную политику\n",
    "(полученную из уже хорошо обученной Q-функции). Поэтому ближе к концу обучения параметр eps надо снижать (до нуля).\n",
    "Таким образом, можно сделать так, чтобы параметр eps линейно убывал с номером эпизода."
   ]
  },
  {
   "cell_type": "code",
   "execution_count": 7,
   "id": "64e2b89b",
   "metadata": {},
   "outputs": [],
   "source": [
    "# цикл Q-learning по эпизодам\n",
    "NUM_EPISODES = 10\n",
    "for i in range(NUM_EPISODES):\n",
    "    eps = 1.0 - float(i) / NUM_EPISODES\n",
    "    # ..."
   ]
  },
  {
   "cell_type": "code",
   "execution_count": null,
   "id": "cbb1c9d7",
   "metadata": {},
   "outputs": [],
   "source": []
  }
 ],
 "metadata": {
  "kernelspec": {
   "display_name": "Python 3 (ipykernel)",
   "language": "python",
   "name": "python3"
  },
  "language_info": {
   "codemirror_mode": {
    "name": "ipython",
    "version": 3
   },
   "file_extension": ".py",
   "mimetype": "text/x-python",
   "name": "python",
   "nbconvert_exporter": "python",
   "pygments_lexer": "ipython3",
   "version": "3.8.12"
  },
  "toc": {
   "base_numbering": 1,
   "nav_menu": {},
   "number_sections": true,
   "sideBar": true,
   "skip_h1_title": false,
   "title_cell": "Table of Contents",
   "title_sidebar": "Contents",
   "toc_cell": false,
   "toc_position": {},
   "toc_section_display": true,
   "toc_window_display": false
  }
 },
 "nbformat": 4,
 "nbformat_minor": 5
}
