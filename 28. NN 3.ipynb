{
 "cells": [
  {
   "cell_type": "markdown",
   "id": "7ee2baee",
   "metadata": {},
   "source": [
    "# Определение loss функции\n",
    "* MSE (mean squared error) -  для задач регрессии\n",
    "* Binary cross entropy - для задач бинарной классификации\n",
    "* Categorical cross entropy - для задач многоклассовой классификации\n",
    "\n",
    "Все они реализованы в Keras и находятся в tf.keras.losses:\n",
    "* tf.keras.losses.MSE()\n",
    "* tf.keras.losses.binary_crossentropy()\n",
    "* tf.keras.losses.sparse_categorical_crossentrypy()"
   ]
  },
  {
   "cell_type": "code",
   "execution_count": 1,
   "id": "249ac6fc",
   "metadata": {},
   "outputs": [
    {
     "name": "stderr",
     "output_type": "stream",
     "text": [
      "2023-03-26 15:58:39.394888: I tensorflow/core/platform/cpu_feature_guard.cc:193] This TensorFlow binary is optimized with oneAPI Deep Neural Network Library (oneDNN) to use the following CPU instructions in performance-critical operations:  AVX2 FMA\n",
      "To enable them in other operations, rebuild TensorFlow with the appropriate compiler flags.\n"
     ]
    }
   ],
   "source": [
    "import tensorflow as tf\n",
    "import numpy as np"
   ]
  },
  {
   "cell_type": "code",
   "execution_count": 2,
   "id": "6709f599",
   "metadata": {},
   "outputs": [
    {
     "name": "stdout",
     "output_type": "stream",
     "text": [
      "tf.Tensor(0.2482332602303317, shape=(), dtype=float64)\n"
     ]
    },
    {
     "name": "stderr",
     "output_type": "stream",
     "text": [
      "2023-03-26 16:01:14.331101: I tensorflow/core/platform/cpu_feature_guard.cc:193] This TensorFlow binary is optimized with oneAPI Deep Neural Network Library (oneDNN) to use the following CPU instructions in performance-critical operations:  AVX2 FMA\n",
      "To enable them in other operations, rebuild TensorFlow with the appropriate compiler flags.\n"
     ]
    }
   ],
   "source": [
    "y_true = np.random.rand(10)\n",
    "y_pred = np.random.rand(10)\n",
    "\n",
    "# loss функция принимает предсказанные значения и реальные, и возвращает хначение --\n",
    "print(tf.keras.losses.MSE(y_true=y_true, y_pred=y_pred))"
   ]
  },
  {
   "cell_type": "code",
   "execution_count": 3,
   "id": "e1338a8d",
   "metadata": {},
   "outputs": [
    {
     "name": "stdout",
     "output_type": "stream",
     "text": [
      "0.2482332602303317\n"
     ]
    }
   ],
   "source": [
    "# Можно проверить, правильно ли она релизована в Keras\n",
    "print(np.mean((y_true - y_pred)**2))"
   ]
  },
  {
   "cell_type": "code",
   "execution_count": 4,
   "id": "32dacdf8",
   "metadata": {},
   "outputs": [
    {
     "name": "stdout",
     "output_type": "stream",
     "text": [
      "tf.Tensor(0.0, shape=(), dtype=float64)\n",
      "tf.Tensor(0.0, shape=(), dtype=float64)\n"
     ]
    }
   ],
   "source": [
    "print(tf.keras.losses.binary_crossentropy(np.ones(10), np.ones(10)))\n",
    "\n",
    "loss = tf.keras.losses.BinaryCrossentropy()\n",
    "print(loss(np.ones(10), np.ones(10)))"
   ]
  },
  {
   "cell_type": "code",
   "execution_count": 6,
   "id": "7e6f6e29",
   "metadata": {},
   "outputs": [],
   "source": [
    "#tf.keras.losses.SparseCategoricalCrossentropy?"
   ]
  },
  {
   "cell_type": "markdown",
   "id": "f2540ce7",
   "metadata": {},
   "source": [
    "# Определение оптимизатора\n",
    "\n",
    "С Оптимизатором все аналогично. Они живут в tf.keras.optimizers\n",
    "\n",
    "* tf.keras.optimizers.Adam\n",
    "* tf.keras.optimizers.SGD ...\n",
    "\n",
    "Каждый из оптимизаторов имеет свои параметры, но все разделяют общий - learning rate"
   ]
  },
  {
   "cell_type": "code",
   "execution_count": 7,
   "id": "47aa979d",
   "metadata": {},
   "outputs": [
    {
     "data": {
      "text/plain": [
       "(keras.optimizers.optimizer_experimental.adam.Adam,\n",
       " <keras.optimizers.optimizer_experimental.sgd.SGD at 0x12a38f520>)"
      ]
     },
     "execution_count": 7,
     "metadata": {},
     "output_type": "execute_result"
    }
   ],
   "source": [
    "tf.keras.optimizers.Adam, tf.keras.optimizers.SGD()"
   ]
  },
  {
   "cell_type": "markdown",
   "id": "310d1076",
   "metadata": {},
   "source": [
    "# Собираем все в месте\n",
    "\n",
    "## Задача регрессии\n",
    "Рассмотрим простую задачу определения коэффициентов зависимости шкалы Фаренгейта от Цельсия. Это классическая\n",
    "формулировка задачи линейной регессии. Известно, что зависимость линейная - давайте посчитаем параметры, исходя из данных:"
   ]
  },
  {
   "cell_type": "code",
   "execution_count": 9,
   "id": "078bd306",
   "metadata": {},
   "outputs": [
    {
     "name": "stdout",
     "output_type": "stream",
     "text": [
      "2.11.0\n"
     ]
    }
   ],
   "source": [
    "import tensorflow as tf\n",
    "import numpy as np\n",
    "print(tf.__version__)"
   ]
  },
  {
   "cell_type": "code",
   "execution_count": 10,
   "id": "87a21d31",
   "metadata": {},
   "outputs": [],
   "source": [
    "# define dataset\n",
    "celsius = np.array([-10, -40, 10, 20, 36, 5, -12, 14, 36]).astype(np.float32)\n",
    "fahrenheit = np.array([14., -40., 50., 68., 96.8, 41., 10.4, 57.2, 96.8])"
   ]
  },
  {
   "cell_type": "code",
   "execution_count": 17,
   "id": "8702cd4d",
   "metadata": {},
   "outputs": [],
   "source": [
    "model = tf.keras.Sequential()\n",
    "model.add(tf.keras.layers.Dense(1, input_shape=(1,)))\n",
    "\n",
    "optimizer = tf.keras.optimizers.Adam(learning_rate=.5)\n",
    "loss = tf.keras.losses.MSE"
   ]
  },
  {
   "cell_type": "code",
   "execution_count": 18,
   "id": "6f1bcccd",
   "metadata": {},
   "outputs": [],
   "source": [
    "# next step modele compiling: unite model, optimizer and loss\n",
    "model.compile(optimizer=optimizer, loss=loss)"
   ]
  },
  {
   "cell_type": "markdown",
   "id": "04161846",
   "metadata": {},
   "source": [
    "fit the model\n",
    "model.fit?\n",
    "model.fit(x=None, y=None, batch_size=None, epochs=1, validation_data=None, shuffle=True)\n",
    "\n",
    "Сигнатура выглядит так\n",
    "* x, y - обучающая выборка, входные признаки, ответы\n",
    "* batch_size - размер батча при обучении\n",
    "* epochs - количество эпох\n",
    "* shuffle - перемешивать данные при обучении или нет"
   ]
  },
  {
   "cell_type": "code",
   "execution_count": 22,
   "id": "132279fb",
   "metadata": {},
   "outputs": [
    {
     "name": "stdout",
     "output_type": "stream",
     "text": [
      "Epoch 1/200\n",
      "1/1 - 0s - loss: 1371.6426 - 414ms/epoch - 414ms/step\n",
      "Epoch 2/200\n",
      "1/1 - 0s - loss: 990.0206 - 5ms/epoch - 5ms/step\n",
      "Epoch 3/200\n",
      "1/1 - 0s - loss: 895.0591 - 8ms/epoch - 8ms/step\n",
      "Epoch 4/200\n",
      "1/1 - 0s - loss: 962.0695 - 10ms/epoch - 10ms/step\n",
      "Epoch 5/200\n",
      "1/1 - 0s - loss: 1000.5291 - 5ms/epoch - 5ms/step\n",
      "Epoch 6/200\n",
      "1/1 - 0s - loss: 952.1450 - 5ms/epoch - 5ms/step\n",
      "Epoch 7/200\n",
      "1/1 - 0s - loss: 859.9480 - 5ms/epoch - 5ms/step\n",
      "Epoch 8/200\n",
      "1/1 - 0s - loss: 775.8920 - 4ms/epoch - 4ms/step\n",
      "Epoch 9/200\n",
      "1/1 - 0s - loss: 729.7188 - 5ms/epoch - 5ms/step\n",
      "Epoch 10/200\n",
      "1/1 - 0s - loss: 721.7585 - 5ms/epoch - 5ms/step\n",
      "Epoch 11/200\n",
      "1/1 - 0s - loss: 728.7137 - 4ms/epoch - 4ms/step\n",
      "Epoch 12/200\n",
      "1/1 - 0s - loss: 723.4395 - 6ms/epoch - 6ms/step\n",
      "Epoch 13/200\n",
      "1/1 - 0s - loss: 694.2909 - 4ms/epoch - 4ms/step\n",
      "Epoch 14/200\n",
      "1/1 - 0s - loss: 647.9800 - 5ms/epoch - 5ms/step\n",
      "Epoch 15/200\n",
      "1/1 - 0s - loss: 600.0791 - 3ms/epoch - 3ms/step\n",
      "Epoch 16/200\n",
      "1/1 - 0s - loss: 564.1726 - 5ms/epoch - 5ms/step\n",
      "Epoch 17/200\n",
      "1/1 - 0s - loss: 544.8849 - 7ms/epoch - 7ms/step\n",
      "Epoch 18/200\n",
      "1/1 - 0s - loss: 536.6432 - 4ms/epoch - 4ms/step\n",
      "Epoch 19/200\n",
      "1/1 - 0s - loss: 528.5145 - 6ms/epoch - 6ms/step\n",
      "Epoch 20/200\n",
      "1/1 - 0s - loss: 511.9139 - 3ms/epoch - 3ms/step\n",
      "Epoch 21/200\n",
      "1/1 - 0s - loss: 485.5016 - 6ms/epoch - 6ms/step\n",
      "Epoch 22/200\n",
      "1/1 - 0s - loss: 454.5008 - 6ms/epoch - 6ms/step\n",
      "Epoch 23/200\n",
      "1/1 - 0s - loss: 426.3041 - 4ms/epoch - 4ms/step\n",
      "Epoch 24/200\n",
      "1/1 - 0s - loss: 405.7485 - 5ms/epoch - 5ms/step\n",
      "Epoch 25/200\n",
      "1/1 - 0s - loss: 392.6039 - 4ms/epoch - 4ms/step\n",
      "Epoch 26/200\n",
      "1/1 - 0s - loss: 382.4150 - 4ms/epoch - 4ms/step\n",
      "Epoch 27/200\n",
      "1/1 - 0s - loss: 369.9418 - 6ms/epoch - 6ms/step\n",
      "Epoch 28/200\n",
      "1/1 - 0s - loss: 352.6696 - 5ms/epoch - 5ms/step\n",
      "Epoch 29/200\n",
      "1/1 - 0s - loss: 331.9800 - 7ms/epoch - 7ms/step\n",
      "Epoch 30/200\n",
      "1/1 - 0s - loss: 311.5985 - 3ms/epoch - 3ms/step\n",
      "Epoch 31/200\n",
      "1/1 - 0s - loss: 294.8085 - 5ms/epoch - 5ms/step\n",
      "Epoch 32/200\n",
      "1/1 - 0s - loss: 282.3701 - 2ms/epoch - 2ms/step\n",
      "Epoch 33/200\n",
      "1/1 - 0s - loss: 272.3701 - 6ms/epoch - 6ms/step\n",
      "Epoch 34/200\n",
      "1/1 - 0s - loss: 261.8946 - 6ms/epoch - 6ms/step\n",
      "Epoch 35/200\n",
      "1/1 - 0s - loss: 249.1732 - 5ms/epoch - 5ms/step\n",
      "Epoch 36/200\n",
      "1/1 - 0s - loss: 234.6152 - 7ms/epoch - 7ms/step\n",
      "Epoch 37/200\n",
      "1/1 - 0s - loss: 220.1718 - 5ms/epoch - 5ms/step\n",
      "Epoch 38/200\n",
      "1/1 - 0s - loss: 207.7290 - 8ms/epoch - 8ms/step\n",
      "Epoch 39/200\n",
      "1/1 - 0s - loss: 197.7832 - 3ms/epoch - 3ms/step\n",
      "Epoch 40/200\n",
      "1/1 - 0s - loss: 189.2836 - 5ms/epoch - 5ms/step\n",
      "Epoch 41/200\n",
      "1/1 - 0s - loss: 180.6164 - 6ms/epoch - 6ms/step\n",
      "Epoch 42/200\n",
      "1/1 - 0s - loss: 170.8661 - 5ms/epoch - 5ms/step\n",
      "Epoch 43/200\n",
      "1/1 - 0s - loss: 160.3770 - 6ms/epoch - 6ms/step\n",
      "Epoch 44/200\n",
      "1/1 - 0s - loss: 150.2915 - 4ms/epoch - 4ms/step\n",
      "Epoch 45/200\n",
      "1/1 - 0s - loss: 141.5605 - 5ms/epoch - 5ms/step\n",
      "Epoch 46/200\n",
      "1/1 - 0s - loss: 134.2432 - 4ms/epoch - 4ms/step\n",
      "Epoch 47/200\n",
      "1/1 - 0s - loss: 127.5885 - 5ms/epoch - 5ms/step\n",
      "Epoch 48/200\n",
      "1/1 - 0s - loss: 120.7329 - 5ms/epoch - 5ms/step\n",
      "Epoch 49/200\n",
      "1/1 - 0s - loss: 113.3850 - 8ms/epoch - 8ms/step\n",
      "Epoch 50/200\n",
      "1/1 - 0s - loss: 105.9564 - 5ms/epoch - 5ms/step\n",
      "Epoch 51/200\n",
      "1/1 - 0s - loss: 99.1157 - 4ms/epoch - 4ms/step\n",
      "Epoch 52/200\n",
      "1/1 - 0s - loss: 93.2038 - 6ms/epoch - 6ms/step\n",
      "Epoch 53/200\n",
      "1/1 - 0s - loss: 88.0012 - 6ms/epoch - 6ms/step\n",
      "Epoch 54/200\n",
      "1/1 - 0s - loss: 82.9860 - 5ms/epoch - 5ms/step\n",
      "Epoch 55/200\n",
      "1/1 - 0s - loss: 77.8035 - 3ms/epoch - 3ms/step\n",
      "Epoch 56/200\n",
      "1/1 - 0s - loss: 72.5260 - 5ms/epoch - 5ms/step\n",
      "Epoch 57/200\n",
      "1/1 - 0s - loss: 67.5156 - 5ms/epoch - 5ms/step\n",
      "Epoch 58/200\n",
      "1/1 - 0s - loss: 63.0638 - 5ms/epoch - 5ms/step\n",
      "Epoch 59/200\n",
      "1/1 - 0s - loss: 59.1467 - 3ms/epoch - 3ms/step\n",
      "Epoch 60/200\n",
      "1/1 - 0s - loss: 55.4872 - 5ms/epoch - 5ms/step\n",
      "Epoch 61/200\n",
      "1/1 - 0s - loss: 51.8270 - 6ms/epoch - 6ms/step\n",
      "Epoch 62/200\n",
      "1/1 - 0s - loss: 48.1410 - 3ms/epoch - 3ms/step\n",
      "Epoch 63/200\n",
      "1/1 - 0s - loss: 44.6131 - 5ms/epoch - 5ms/step\n",
      "Epoch 64/200\n",
      "1/1 - 0s - loss: 41.4323 - 6ms/epoch - 6ms/step\n",
      "Epoch 65/200\n",
      "1/1 - 0s - loss: 38.6157 - 4ms/epoch - 4ms/step\n",
      "Epoch 66/200\n",
      "1/1 - 0s - loss: 36.0135 - 6ms/epoch - 6ms/step\n",
      "Epoch 67/200\n",
      "1/1 - 0s - loss: 33.4641 - 4ms/epoch - 4ms/step\n",
      "Epoch 68/200\n",
      "1/1 - 0s - loss: 30.9360 - 4ms/epoch - 4ms/step\n",
      "Epoch 69/200\n",
      "1/1 - 0s - loss: 28.5284 - 6ms/epoch - 6ms/step\n",
      "Epoch 70/200\n",
      "1/1 - 0s - loss: 26.3508 - 4ms/epoch - 4ms/step\n",
      "Epoch 71/200\n",
      "1/1 - 0s - loss: 24.4130 - 5ms/epoch - 5ms/step\n",
      "Epoch 72/200\n",
      "1/1 - 0s - loss: 22.6255 - 4ms/epoch - 4ms/step\n",
      "Epoch 73/200\n",
      "1/1 - 0s - loss: 20.8937 - 5ms/epoch - 5ms/step\n",
      "Epoch 74/200\n",
      "1/1 - 0s - loss: 19.2023 - 10ms/epoch - 10ms/step\n",
      "Epoch 75/200\n",
      "1/1 - 0s - loss: 17.6104 - 6ms/epoch - 6ms/step\n",
      "Epoch 76/200\n",
      "1/1 - 0s - loss: 16.1767 - 6ms/epoch - 6ms/step\n",
      "Epoch 77/200\n",
      "1/1 - 0s - loss: 14.8967 - 4ms/epoch - 4ms/step\n",
      "Epoch 78/200\n",
      "1/1 - 0s - loss: 13.7124 - 3ms/epoch - 3ms/step\n",
      "Epoch 79/200\n",
      "1/1 - 0s - loss: 12.5723 - 7ms/epoch - 7ms/step\n",
      "Epoch 80/200\n",
      "1/1 - 0s - loss: 11.4759 - 3ms/epoch - 3ms/step\n",
      "Epoch 81/200\n",
      "1/1 - 0s - loss: 10.4608 - 12ms/epoch - 12ms/step\n",
      "Epoch 82/200\n",
      "1/1 - 0s - loss: 9.5536 - 12ms/epoch - 12ms/step\n",
      "Epoch 83/200\n",
      "1/1 - 0s - loss: 8.7408 - 3ms/epoch - 3ms/step\n",
      "Epoch 84/200\n",
      "1/1 - 0s - loss: 7.9844 - 5ms/epoch - 5ms/step\n",
      "Epoch 85/200\n",
      "1/1 - 0s - loss: 7.2604 - 3ms/epoch - 3ms/step\n",
      "Epoch 86/200\n",
      "1/1 - 0s - loss: 6.5767 - 4ms/epoch - 4ms/step\n",
      "Epoch 87/200\n",
      "1/1 - 0s - loss: 5.9558 - 5ms/epoch - 5ms/step\n",
      "Epoch 88/200\n",
      "1/1 - 0s - loss: 5.4052 - 5ms/epoch - 5ms/step\n",
      "Epoch 89/200\n",
      "1/1 - 0s - loss: 4.9085 - 4ms/epoch - 4ms/step\n",
      "Epoch 90/200\n",
      "1/1 - 0s - loss: 4.4434 - 8ms/epoch - 8ms/step\n",
      "Epoch 91/200\n",
      "1/1 - 0s - loss: 4.0025 - 6ms/epoch - 6ms/step\n",
      "Epoch 92/200\n",
      "1/1 - 0s - loss: 3.5957 - 4ms/epoch - 4ms/step\n",
      "Epoch 93/200\n",
      "1/1 - 0s - loss: 3.2335 - 5ms/epoch - 5ms/step\n",
      "Epoch 94/200\n",
      "1/1 - 0s - loss: 2.9132 - 5ms/epoch - 5ms/step\n",
      "Epoch 95/200\n",
      "1/1 - 0s - loss: 2.6213 - 3ms/epoch - 3ms/step\n",
      "Epoch 96/200\n",
      "1/1 - 0s - loss: 2.3471 - 4ms/epoch - 4ms/step\n",
      "Epoch 97/200\n",
      "1/1 - 0s - loss: 2.0919 - 5ms/epoch - 5ms/step\n",
      "Epoch 98/200\n",
      "1/1 - 0s - loss: 1.8628 - 3ms/epoch - 3ms/step\n",
      "Epoch 99/200\n",
      "1/1 - 0s - loss: 1.6622 - 5ms/epoch - 5ms/step\n",
      "Epoch 100/200\n",
      "1/1 - 0s - loss: 1.4837 - 4ms/epoch - 4ms/step\n",
      "Epoch 101/200\n",
      "1/1 - 0s - loss: 1.3191 - 12ms/epoch - 12ms/step\n",
      "Epoch 102/200\n",
      "1/1 - 0s - loss: 1.1657 - 5ms/epoch - 5ms/step\n",
      "Epoch 103/200\n",
      "1/1 - 0s - loss: 1.0270 - 8ms/epoch - 8ms/step\n",
      "Epoch 104/200\n",
      "1/1 - 0s - loss: 0.9060 - 9ms/epoch - 9ms/step\n",
      "Epoch 105/200\n",
      "1/1 - 0s - loss: 0.8006 - 4ms/epoch - 4ms/step\n",
      "Epoch 106/200\n",
      "1/1 - 0s - loss: 0.7054 - 3ms/epoch - 3ms/step\n",
      "Epoch 107/200\n",
      "1/1 - 0s - loss: 0.6172 - 5ms/epoch - 5ms/step\n",
      "Epoch 108/200\n",
      "1/1 - 0s - loss: 0.5371 - 5ms/epoch - 5ms/step\n",
      "Epoch 109/200\n",
      "1/1 - 0s - loss: 0.4675 - 6ms/epoch - 6ms/step\n",
      "Epoch 110/200\n",
      "1/1 - 0s - loss: 0.4078 - 3ms/epoch - 3ms/step\n",
      "Epoch 111/200\n",
      "1/1 - 0s - loss: 0.3552 - 3ms/epoch - 3ms/step\n",
      "Epoch 112/200\n",
      "1/1 - 0s - loss: 0.3070 - 4ms/epoch - 4ms/step\n",
      "Epoch 113/200\n",
      "1/1 - 0s - loss: 0.2632 - 4ms/epoch - 4ms/step\n",
      "Epoch 114/200\n",
      "1/1 - 0s - loss: 0.2252 - 25ms/epoch - 25ms/step\n",
      "Epoch 115/200\n",
      "1/1 - 0s - loss: 0.1933 - 6ms/epoch - 6ms/step\n",
      "Epoch 116/200\n",
      "1/1 - 0s - loss: 0.1658 - 6ms/epoch - 6ms/step\n",
      "Epoch 117/200\n",
      "1/1 - 0s - loss: 0.1410 - 3ms/epoch - 3ms/step\n",
      "Epoch 118/200\n",
      "1/1 - 0s - loss: 0.1184 - 7ms/epoch - 7ms/step\n",
      "Epoch 119/200\n",
      "1/1 - 0s - loss: 0.0990 - 3ms/epoch - 3ms/step\n",
      "Epoch 120/200\n",
      "1/1 - 0s - loss: 0.0831 - 6ms/epoch - 6ms/step\n",
      "Epoch 121/200\n",
      "1/1 - 0s - loss: 0.0698 - 8ms/epoch - 8ms/step\n",
      "Epoch 122/200\n",
      "1/1 - 0s - loss: 0.0580 - 3ms/epoch - 3ms/step\n",
      "Epoch 123/200\n",
      "1/1 - 0s - loss: 0.0473 - 3ms/epoch - 3ms/step\n",
      "Epoch 124/200\n",
      "1/1 - 0s - loss: 0.0382 - 4ms/epoch - 4ms/step\n",
      "Epoch 125/200\n",
      "1/1 - 0s - loss: 0.0310 - 5ms/epoch - 5ms/step\n",
      "Epoch 126/200\n",
      "1/1 - 0s - loss: 0.0253 - 6ms/epoch - 6ms/step\n",
      "Epoch 127/200\n",
      "1/1 - 0s - loss: 0.0203 - 3ms/epoch - 3ms/step\n",
      "Epoch 128/200\n",
      "1/1 - 0s - loss: 0.0157 - 4ms/epoch - 4ms/step\n",
      "Epoch 129/200\n",
      "1/1 - 0s - loss: 0.0119 - 5ms/epoch - 5ms/step\n",
      "Epoch 130/200\n",
      "1/1 - 0s - loss: 0.0091 - 3ms/epoch - 3ms/step\n",
      "Epoch 131/200\n",
      "1/1 - 0s - loss: 0.0071 - 4ms/epoch - 4ms/step\n",
      "Epoch 132/200\n",
      "1/1 - 0s - loss: 0.0053 - 7ms/epoch - 7ms/step\n",
      "Epoch 133/200\n",
      "1/1 - 0s - loss: 0.0037 - 4ms/epoch - 4ms/step\n",
      "Epoch 134/200\n",
      "1/1 - 0s - loss: 0.0024 - 11ms/epoch - 11ms/step\n"
     ]
    },
    {
     "name": "stdout",
     "output_type": "stream",
     "text": [
      "Epoch 135/200\n",
      "1/1 - 0s - loss: 0.0016 - 3ms/epoch - 3ms/step\n",
      "Epoch 136/200\n",
      "1/1 - 0s - loss: 0.0011 - 6ms/epoch - 6ms/step\n",
      "Epoch 137/200\n",
      "1/1 - 0s - loss: 7.3850e-04 - 4ms/epoch - 4ms/step\n",
      "Epoch 138/200\n",
      "1/1 - 0s - loss: 3.4955e-04 - 6ms/epoch - 6ms/step\n",
      "Epoch 139/200\n",
      "1/1 - 0s - loss: 8.6334e-05 - 5ms/epoch - 5ms/step\n",
      "Epoch 140/200\n",
      "1/1 - 0s - loss: 3.8642e-05 - 2ms/epoch - 2ms/step\n",
      "Epoch 141/200\n",
      "1/1 - 0s - loss: 1.1987e-04 - 3ms/epoch - 3ms/step\n",
      "Epoch 142/200\n",
      "1/1 - 0s - loss: 1.8272e-04 - 6ms/epoch - 6ms/step\n",
      "Epoch 143/200\n",
      "1/1 - 0s - loss: 1.9811e-04 - 6ms/epoch - 6ms/step\n",
      "Epoch 144/200\n",
      "1/1 - 0s - loss: 2.5265e-04 - 3ms/epoch - 3ms/step\n",
      "Epoch 145/200\n",
      "1/1 - 0s - loss: 3.9823e-04 - 5ms/epoch - 5ms/step\n",
      "Epoch 146/200\n",
      "1/1 - 0s - loss: 5.7655e-04 - 3ms/epoch - 3ms/step\n",
      "Epoch 147/200\n",
      "1/1 - 0s - loss: 7.0520e-04 - 3ms/epoch - 3ms/step\n",
      "Epoch 148/200\n",
      "1/1 - 0s - loss: 7.8276e-04 - 5ms/epoch - 5ms/step\n",
      "Epoch 149/200\n",
      "1/1 - 0s - loss: 8.6992e-04 - 4ms/epoch - 4ms/step\n",
      "Epoch 150/200\n",
      "1/1 - 0s - loss: 9.9253e-04 - 2ms/epoch - 2ms/step\n",
      "Epoch 151/200\n",
      "1/1 - 0s - loss: 0.0011 - 6ms/epoch - 6ms/step\n",
      "Epoch 152/200\n",
      "1/1 - 0s - loss: 0.0012 - 3ms/epoch - 3ms/step\n",
      "Epoch 153/200\n",
      "1/1 - 0s - loss: 0.0012 - 6ms/epoch - 6ms/step\n",
      "Epoch 154/200\n",
      "1/1 - 0s - loss: 0.0012 - 4ms/epoch - 4ms/step\n",
      "Epoch 155/200\n",
      "1/1 - 0s - loss: 0.0013 - 2ms/epoch - 2ms/step\n",
      "Epoch 156/200\n",
      "1/1 - 0s - loss: 0.0013 - 6ms/epoch - 6ms/step\n",
      "Epoch 157/200\n",
      "1/1 - 0s - loss: 0.0013 - 2ms/epoch - 2ms/step\n",
      "Epoch 158/200\n",
      "1/1 - 0s - loss: 0.0013 - 5ms/epoch - 5ms/step\n",
      "Epoch 159/200\n",
      "1/1 - 0s - loss: 0.0013 - 4ms/epoch - 4ms/step\n",
      "Epoch 160/200\n",
      "1/1 - 0s - loss: 0.0013 - 5ms/epoch - 5ms/step\n",
      "Epoch 161/200\n",
      "1/1 - 0s - loss: 0.0013 - 4ms/epoch - 4ms/step\n",
      "Epoch 162/200\n",
      "1/1 - 0s - loss: 0.0012 - 4ms/epoch - 4ms/step\n",
      "Epoch 163/200\n",
      "1/1 - 0s - loss: 0.0012 - 4ms/epoch - 4ms/step\n",
      "Epoch 164/200\n",
      "1/1 - 0s - loss: 0.0011 - 3ms/epoch - 3ms/step\n",
      "Epoch 165/200\n",
      "1/1 - 0s - loss: 0.0011 - 5ms/epoch - 5ms/step\n",
      "Epoch 166/200\n",
      "1/1 - 0s - loss: 0.0010 - 6ms/epoch - 6ms/step\n",
      "Epoch 167/200\n",
      "1/1 - 0s - loss: 9.4593e-04 - 3ms/epoch - 3ms/step\n",
      "Epoch 168/200\n",
      "1/1 - 0s - loss: 8.8556e-04 - 3ms/epoch - 3ms/step\n",
      "Epoch 169/200\n",
      "1/1 - 0s - loss: 8.3163e-04 - 6ms/epoch - 6ms/step\n",
      "Epoch 170/200\n",
      "1/1 - 0s - loss: 7.7881e-04 - 3ms/epoch - 3ms/step\n",
      "Epoch 171/200\n",
      "1/1 - 0s - loss: 7.2147e-04 - 4ms/epoch - 4ms/step\n",
      "Epoch 172/200\n",
      "1/1 - 0s - loss: 6.6279e-04 - 5ms/epoch - 5ms/step\n",
      "Epoch 173/200\n",
      "1/1 - 0s - loss: 6.0928e-04 - 3ms/epoch - 3ms/step\n",
      "Epoch 174/200\n",
      "1/1 - 0s - loss: 5.6123e-04 - 5ms/epoch - 5ms/step\n",
      "Epoch 175/200\n",
      "1/1 - 0s - loss: 5.1400e-04 - 4ms/epoch - 4ms/step\n",
      "Epoch 176/200\n",
      "1/1 - 0s - loss: 4.6567e-04 - 4ms/epoch - 4ms/step\n",
      "Epoch 177/200\n",
      "1/1 - 0s - loss: 4.1994e-04 - 3ms/epoch - 3ms/step\n",
      "Epoch 178/200\n",
      "1/1 - 0s - loss: 3.7951e-04 - 3ms/epoch - 3ms/step\n",
      "Epoch 179/200\n",
      "1/1 - 0s - loss: 3.4290e-04 - 4ms/epoch - 4ms/step\n",
      "Epoch 180/200\n",
      "1/1 - 0s - loss: 3.0704e-04 - 4ms/epoch - 4ms/step\n",
      "Epoch 181/200\n",
      "1/1 - 0s - loss: 2.7236e-04 - 4ms/epoch - 4ms/step\n",
      "Epoch 182/200\n",
      "1/1 - 0s - loss: 2.4119e-04 - 4ms/epoch - 4ms/step\n",
      "Epoch 183/200\n",
      "1/1 - 0s - loss: 2.1423e-04 - 5ms/epoch - 5ms/step\n",
      "Epoch 184/200\n",
      "1/1 - 0s - loss: 1.8934e-04 - 7ms/epoch - 7ms/step\n",
      "Epoch 185/200\n",
      "1/1 - 0s - loss: 1.6542e-04 - 3ms/epoch - 3ms/step\n",
      "Epoch 186/200\n",
      "1/1 - 0s - loss: 1.4348e-04 - 5ms/epoch - 5ms/step\n",
      "Epoch 187/200\n",
      "1/1 - 0s - loss: 1.2463e-04 - 4ms/epoch - 4ms/step\n",
      "Epoch 188/200\n",
      "1/1 - 0s - loss: 1.0839e-04 - 3ms/epoch - 3ms/step\n",
      "Epoch 189/200\n",
      "1/1 - 0s - loss: 9.3239e-05 - 9ms/epoch - 9ms/step\n",
      "Epoch 190/200\n",
      "1/1 - 0s - loss: 7.9135e-05 - 3ms/epoch - 3ms/step\n",
      "Epoch 191/200\n",
      "1/1 - 0s - loss: 6.6930e-05 - 3ms/epoch - 3ms/step\n",
      "Epoch 192/200\n",
      "1/1 - 0s - loss: 5.6848e-05 - 5ms/epoch - 5ms/step\n",
      "Epoch 193/200\n",
      "1/1 - 0s - loss: 4.7987e-05 - 3ms/epoch - 3ms/step\n",
      "Epoch 194/200\n",
      "1/1 - 0s - loss: 3.9780e-05 - 5ms/epoch - 5ms/step\n",
      "Epoch 195/200\n",
      "1/1 - 0s - loss: 3.2532e-05 - 5ms/epoch - 5ms/step\n",
      "Epoch 196/200\n",
      "1/1 - 0s - loss: 2.6678e-05 - 3ms/epoch - 3ms/step\n",
      "Epoch 197/200\n",
      "1/1 - 0s - loss: 2.1893e-05 - 3ms/epoch - 3ms/step\n",
      "Epoch 198/200\n",
      "1/1 - 0s - loss: 1.7592e-05 - 6ms/epoch - 6ms/step\n",
      "Epoch 199/200\n",
      "1/1 - 0s - loss: 1.3730e-05 - 2ms/epoch - 2ms/step\n",
      "Epoch 200/200\n",
      "1/1 - 0s - loss: 1.0631e-05 - 3ms/epoch - 3ms/step\n"
     ]
    }
   ],
   "source": [
    "history = model.fit(celsius, fahrenheit, epochs=200, verbose=2)"
   ]
  },
  {
   "cell_type": "code",
   "execution_count": 24,
   "id": "a80a6d7d",
   "metadata": {},
   "outputs": [
    {
     "data": {
      "text/plain": [
       "[array([[1.7999825]], dtype=float32), array([32.00297], dtype=float32)]"
      ]
     },
     "execution_count": 24,
     "metadata": {},
     "output_type": "execute_result"
    }
   ],
   "source": [
    "# Модель обучена, посмотеть итоговые коэффициенты можно командой\n",
    "model.get_weights()"
   ]
  },
  {
   "cell_type": "markdown",
   "id": "7f7392d8",
   "metadata": {},
   "source": [
    "В реальности две эти шкалы связаны формулой $F = 1.8C + 32$"
   ]
  },
  {
   "cell_type": "markdown",
   "id": "1078ab8a",
   "metadata": {},
   "source": [
    "# История обучения"
   ]
  },
  {
   "cell_type": "code",
   "execution_count": 25,
   "id": "a9fe857e",
   "metadata": {},
   "outputs": [
    {
     "data": {
      "text/html": [
       "<div>\n",
       "<style scoped>\n",
       "    .dataframe tbody tr th:only-of-type {\n",
       "        vertical-align: middle;\n",
       "    }\n",
       "\n",
       "    .dataframe tbody tr th {\n",
       "        vertical-align: top;\n",
       "    }\n",
       "\n",
       "    .dataframe thead th {\n",
       "        text-align: right;\n",
       "    }\n",
       "</style>\n",
       "<table border=\"1\" class=\"dataframe\">\n",
       "  <thead>\n",
       "    <tr style=\"text-align: right;\">\n",
       "      <th></th>\n",
       "      <th>loss</th>\n",
       "    </tr>\n",
       "  </thead>\n",
       "  <tbody>\n",
       "    <tr>\n",
       "      <th>0</th>\n",
       "      <td>1371.642578</td>\n",
       "    </tr>\n",
       "    <tr>\n",
       "      <th>1</th>\n",
       "      <td>990.020630</td>\n",
       "    </tr>\n",
       "    <tr>\n",
       "      <th>2</th>\n",
       "      <td>895.059143</td>\n",
       "    </tr>\n",
       "    <tr>\n",
       "      <th>3</th>\n",
       "      <td>962.069458</td>\n",
       "    </tr>\n",
       "    <tr>\n",
       "      <th>4</th>\n",
       "      <td>1000.529053</td>\n",
       "    </tr>\n",
       "  </tbody>\n",
       "</table>\n",
       "</div>"
      ],
      "text/plain": [
       "          loss\n",
       "0  1371.642578\n",
       "1   990.020630\n",
       "2   895.059143\n",
       "3   962.069458\n",
       "4  1000.529053"
      ]
     },
     "execution_count": 25,
     "metadata": {},
     "output_type": "execute_result"
    }
   ],
   "source": [
    "import pandas as pd\n",
    "history_df = pd.DataFrame(history.history)\n",
    "history_df.head()"
   ]
  },
  {
   "cell_type": "code",
   "execution_count": 26,
   "id": "2918af78",
   "metadata": {},
   "outputs": [
    {
     "data": {
      "text/plain": [
       "[<matplotlib.lines.Line2D at 0x156184f10>]"
      ]
     },
     "execution_count": 26,
     "metadata": {},
     "output_type": "execute_result"
    },
    {
     "data": {
      "image/png": "[encoded data removed]",
      "text/plain": [
       "<Figure size 640x480 with 1 Axes>"
      ]
     },
     "metadata": {},
     "output_type": "display_data"
    }
   ],
   "source": [
    "import matplotlib.pyplot as plt\n",
    "plt.plot(history_df.loss)"
   ]
  },
  {
   "cell_type": "markdown",
   "id": "5da7b0ce",
   "metadata": {},
   "source": [
    "# Задача классификации"
   ]
  },
  {
   "cell_type": "code",
   "execution_count": 27,
   "id": "012760c2",
   "metadata": {
    "code_folding": [
     0
    ]
   },
   "outputs": [],
   "source": [
    "#@title\n",
    "import numpy as np\n",
    "import matplotlib.pyplot as plt\n",
    "import matplotlib.cm as cm\n",
    "from matplotlib.colors import ListedColormap, LinearSegmentedColormap, Normalize\n",
    "from sklearn.metrics import accuracy_score\n",
    "\n",
    "\n",
    "%matplotlib inline\n",
    "np.random.seed(10)\n",
    "\n",
    "colors = ['red', \"blue\"]\n",
    "labels_cmap = ListedColormap(colors, 2)\n",
    "colors = [(1, 0, 0), (1, 1, 1), (0, 0, 1)]  # R -> W -> B\n",
    "main_cmap = LinearSegmentedColormap.from_list(\"main_scheme\", colors, N=300)\n",
    "\n",
    "def show_data(X, y):\n",
    "    plt.figure(figsize=(5, 5))\n",
    "    plt.scatter(X[:, 0], X[:, 1], s=120, color=labels_cmap(y))\n",
    "    \n",
    "\n",
    "def show_descision_boundary(clf, limits, binary=False, X=None, y=None, n_lines=10, show_lines=False,\n",
    "                           figsize=(5, 5), ax=None):\n",
    "    xs, ys = limits\n",
    "    x_min, x_max = xs\n",
    "    y_min, y_max = ys\n",
    "    \n",
    "    xx, yy = np.meshgrid(np.arange(x_min, x_max, 0.01),\n",
    "                         np.arange(y_min, y_max, 0.01))\n",
    "    \n",
    "    if ax is None:\n",
    "        fig = plt.figure(figsize=figsize)\n",
    "        ax = fig.add_subplot(1, 1, 1)\n",
    "    \n",
    "    if binary:\n",
    "        Z = clf.predict_class(np.c_[xx.ravel(), xx.ravel()])\n",
    "        Z = clf.predict_class(np.c_[xx.ravel(), yy.ravel()])\n",
    "        norm = Normalize(vmin=0.,vmax=1.)\n",
    "    else:\n",
    "        Z = clf(np.c_[xx.ravel(), xx.ravel()])\n",
    "        Z = clf(np.c_[xx.ravel(), yy.ravel()])\n",
    "        #if clf.prob_output:\n",
    "        #    norm = Normalize(vmin=0.,vmax=1.)\n",
    "        #else:\n",
    "        norm = Normalize(vmin=-10.,vmax=10., clip=True)\n",
    "    Z = Z.numpy() \n",
    "    Z = Z.reshape(xx.shape)\n",
    "    Z = Z.astype(np.float32)\n",
    "    \n",
    "    ax.contourf(xx, yy, Z, n_lines, alpha=0.4, cmap=main_cmap, norm=norm)\n",
    "    if show_lines:\n",
    "        cp = ax.contour(xx, yy, Z, n_lines)\n",
    "        ax.clabel(cp, inline=True, \n",
    "              fontsize=10, colors=\"green\")\n",
    "    \n",
    "    if y is not None:\n",
    "        X = np.array(X)\n",
    "        y = np.array(y)\n",
    "        ax.scatter(X[:, 0], X[:, 1], s=120, color=labels_cmap(y),\n",
    "                   zorder=4)\n",
    "        \n"
   ]
  },
  {
   "cell_type": "code",
   "execution_count": 29,
   "id": "e4013272",
   "metadata": {},
   "outputs": [
    {
     "data": {
      "image/png": "[encoded data removed]",
      "text/plain": [
       "<Figure size 500x500 with 1 Axes>"
      ]
     },
     "metadata": {},
     "output_type": "display_data"
    }
   ],
   "source": [
    "X = np.array([[10, 6], [7, 4], [6, 6], [9, 8], [10, 10],\n",
    "             [10, 4], [4, 4], [4, 6], [8, 9]])\n",
    "y = np.array([0, 1, 0, 0, 0, 1, 1, 1, 1])\n",
    "\n",
    "show_data(X, y)"
   ]
  },
  {
   "cell_type": "markdown",
   "id": "e980a661",
   "metadata": {},
   "source": [
    "Без каких-либо сложностей, преобразуем задачу регрессии в задачу классификации, для этого нужно изменить лосс функцию и функцию активации\n",
    "последнего слоя."
   ]
  },
  {
   "cell_type": "code",
   "execution_count": 30,
   "id": "d473c1c7",
   "metadata": {},
   "outputs": [],
   "source": [
    "model = tf.keras.Sequential()\n",
    "model.add(tf.keras.layers.Dense(4, input_shape=(2,), activation='sigmoid'))\n",
    "model.add(tf.keras.layers.Dense(1)) # мы хотим визуализировать логиты, поэтому без активации\n",
    "\n",
    "optimizer = tf.keras.optimizers.Adam(learning_rate=.05)\n",
    "loss = tf.keras.losses.BinaryCrossentropy(from_logits=True) # loss with logits"
   ]
  },
  {
   "cell_type": "markdown",
   "id": "6ca1c9db",
   "metadata": {},
   "source": [
    "При компиляции модели, добавим еще одно поле - metrics. Метрики не влияют на обучение, но очень полезны для его контроля. Например на\n",
    "классификатор будет удл"
   ]
  }
 ],
 "metadata": {
  "kernelspec": {
   "display_name": "Python 3 (ipykernel)",
   "language": "python",
   "name": "python3"
  },
  "language_info": {
   "codemirror_mode": {
    "name": "ipython",
    "version": 3
   },
   "file_extension": ".py",
   "mimetype": "text/x-python",
   "name": "python",
   "nbconvert_exporter": "python",
   "pygments_lexer": "ipython3",
   "version": "3.8.12"
  },
  "toc": {
   "base_numbering": 1,
   "nav_menu": {},
   "number_sections": true,
   "sideBar": true,
   "skip_h1_title": false,
   "title_cell": "Table of Contents",
   "title_sidebar": "Contents",
   "toc_cell": false,
   "toc_position": {},
   "toc_section_display": true,
   "toc_window_display": false
  }
 },
 "nbformat": 4,
 "nbformat_minor": 5
}
