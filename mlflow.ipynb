{
 "cells": [
  {
   "cell_type": "code",
   "execution_count": 1,
   "id": "0d7e81d5",
   "metadata": {},
   "outputs": [
    {
     "name": "stdout",
     "output_type": "stream",
     "text": [
      "MLflow Version: 2.4.1\n"
     ]
    }
   ],
   "source": [
    "import mlflow\n",
    "import os\n",
    "from random import random, randint\n",
    "import matplotlib\n",
    "import matplotlib.pyplot as plt\n",
    "import pandas as pd\n",
    "\n",
    "import sklearn\n",
    "\n",
    "print('MLflow Version:', mlflow.version.VERSION)"
   ]
  },
  {
   "cell_type": "code",
   "execution_count": 2,
   "id": "042762e9",
   "metadata": {},
   "outputs": [],
   "source": [
    "# help(mlflow)"
   ]
  },
  {
   "cell_type": "code",
   "execution_count": 3,
   "id": "4cbd4b13",
   "metadata": {},
   "outputs": [],
   "source": [
    "def run(run_name=\"\"):\n",
    "    mlflow.set_experiment('helloWorld')\n",
    "    \n",
    "    with mlflow.start_run() as r:\n",
    "        print('Runnig mlflow.ipynb')\n",
    "        print('Model run:', r.info.run_uuid)\n",
    "        mlflow.set_tag('mlflow.runName', run_name)\n",
    "        mlflow.log_param('param1', randint(0, 100))\n",
    "        \n",
    "        mlflow.log_metric('foo', random())\n",
    "        mlflow.log_metric('foo1', random() + 1)\n",
    "        mlflow.set_tag('run_origin', 'jupyter_notebook')\n",
    "        \n",
    "        if not os.path.exists('outputs'):\n",
    "            os.makedirs('outputs')\n",
    "        with open('outputs/test.txt', 'w') as f:\n",
    "            f.write('hello world!')\n",
    "            \n",
    "        mlflow.log_artifacts('outputs', artifact_path='artifact')\n",
    "        \n",
    "        mlflow.end_run()"
   ]
  },
  {
   "cell_type": "code",
   "execution_count": 11,
   "id": "dca7ed24",
   "metadata": {},
   "outputs": [
    {
     "name": "stdout",
     "output_type": "stream",
     "text": [
      "Runnig mlflow.ipynb\n",
      "Model run: a6f017d2a91a41afb0545cb8fe48da41\n"
     ]
    }
   ],
   "source": [
    "run()"
   ]
  },
  {
   "cell_type": "code",
   "execution_count": 12,
   "id": "d2f5d88b",
   "metadata": {},
   "outputs": [
    {
     "name": "stdout",
     "output_type": "stream",
     "text": [
      "Runnig mlflow.ipynb\n",
      "Model run: 0124957a767f4825b268d7a0124d7e8b\n"
     ]
    }
   ],
   "source": [
    "run('LocalRun')"
   ]
  },
  {
   "cell_type": "markdown",
   "id": "0040c252",
   "metadata": {},
   "source": [
    "# Setting up MLflow Tracking User Interface"
   ]
  },
  {
   "cell_type": "code",
   "execution_count": 13,
   "id": "75f27a35",
   "metadata": {},
   "outputs": [
    {
     "name": "stdout",
     "output_type": "stream",
     "text": [
      "MLflow Version: 2.4.1\n",
      "Tracking URI: http://localhost:8990\n"
     ]
    }
   ],
   "source": [
    "print('MLflow Version:', mlflow.version.VERSION)\n",
    "mlflow.set_tracking_uri('http://localhost:8990')\n",
    "print('Tracking URI:', mlflow.tracking.get_tracking_uri())"
   ]
  },
  {
   "cell_type": "code",
   "execution_count": null,
   "id": "b6a28eb5",
   "metadata": {},
   "outputs": [],
   "source": []
  }
 ],
 "metadata": {
  "kernelspec": {
   "display_name": "Python 3 (ipyflow)",
   "language": "python",
   "name": "ipyflow"
  },
  "language_info": {
   "codemirror_mode": {
    "name": "ipython",
    "version": 3
   },
   "file_extension": ".py",
   "mimetype": "text/x-python",
   "name": "python",
   "nbconvert_exporter": "python",
   "pygments_lexer": "ipython3",
   "version": "3.8.12"
  },
  "toc": {
   "base_numbering": 1,
   "nav_menu": {},
   "number_sections": true,
   "sideBar": true,
   "skip_h1_title": false,
   "title_cell": "Table of Contents",
   "title_sidebar": "Contents",
   "toc_cell": false,
   "toc_position": {},
   "toc_section_display": true,
   "toc_window_display": false
  }
 },
 "nbformat": 4,
 "nbformat_minor": 5
}
