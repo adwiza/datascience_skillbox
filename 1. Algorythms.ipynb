{
 "cells": [
  {
   "cell_type": "code",
   "execution_count": 5,
   "id": "75402b8b",
   "metadata": {},
   "outputs": [],
   "source": [
    "lst = [30, 16, 11, 50, 42, 23, 37, 2, 5, 5]\n",
    "desired = 42"
   ]
  },
  {
   "cell_type": "code",
   "execution_count": 6,
   "id": "1b087506",
   "metadata": {},
   "outputs": [
    {
     "name": "stdout",
     "output_type": "stream",
     "text": [
      "4\n"
     ]
    }
   ],
   "source": [
    "for i in range(len(lst)):\n",
    "    if lst[i] == desired:\n",
    "        print(i)\n",
    "        break"
   ]
  },
  {
   "cell_type": "markdown",
   "id": "cfcc051a",
   "metadata": {},
   "source": [
    "# binary search\n"
   ]
  },
  {
   "cell_type": "code",
   "execution_count": 14,
   "id": "d1d92538",
   "metadata": {},
   "outputs": [
    {
     "data": {
      "text/plain": [
       "[2, 5, 5, 11, 16, 23, 30, 37, 42, 50]"
      ]
     },
     "execution_count": 14,
     "metadata": {},
     "output_type": "execute_result"
    }
   ],
   "source": [
    "lst.sort()\n",
    "lst"
   ]
  },
  {
   "cell_type": "code",
   "execution_count": 15,
   "id": "7db049c1",
   "metadata": {},
   "outputs": [],
   "source": [
    "left = 0\n",
    "right = len(lst) - 1\n",
    "middle = 0\n",
    "desired = 5"
   ]
  },
  {
   "cell_type": "code",
   "execution_count": 16,
   "id": "9ae6d813",
   "metadata": {},
   "outputs": [
    {
     "name": "stdout",
     "output_type": "stream",
     "text": [
      "1\n"
     ]
    }
   ],
   "source": [
    "while left <= right:\n",
    "    middle = (left +  right) // 2\n",
    "    if desired > lst[middle]:\n",
    "        left = middle + 1\n",
    "    elif desired < lst[middle]:\n",
    "        right = middle - 1\n",
    "    else:\n",
    "        print(middle)\n",
    "        break"
   ]
  },
  {
   "cell_type": "markdown",
   "id": "6acf3f79",
   "metadata": {},
   "source": [
    "# bubble sort"
   ]
  },
  {
   "cell_type": "code",
   "execution_count": 17,
   "id": "0cb57f88",
   "metadata": {},
   "outputs": [],
   "source": [
    "lst = [9, 2, 7, 3, 1]"
   ]
  },
  {
   "cell_type": "code",
   "execution_count": 22,
   "id": "f22ebf81",
   "metadata": {},
   "outputs": [],
   "source": [
    "def bubble_sort(lst):\n",
    "    for i in range(len(lst) - 1):\n",
    "        for j in range(len(lst) - i - 1):\n",
    "            if lst[j] > lst[j+1]:\n",
    "                lst[j], lst[j+1] = lst[j+1], lst[j]\n",
    "    return lst"
   ]
  },
  {
   "cell_type": "code",
   "execution_count": 23,
   "id": "37b478e7",
   "metadata": {},
   "outputs": [
    {
     "name": "stdout",
     "output_type": "stream",
     "text": [
      "[1, 2, 3, 7, 9]\n"
     ]
    }
   ],
   "source": [
    "print(bubble_sort(lst))"
   ]
  },
  {
   "cell_type": "code",
   "execution_count": null,
   "id": "0c635a7d",
   "metadata": {},
   "outputs": [],
   "source": []
  }
 ],
 "metadata": {
  "kernelspec": {
   "display_name": "Python 3 (ipykernel)",
   "language": "python",
   "name": "python3"
  },
  "language_info": {
   "codemirror_mode": {
    "name": "ipython",
    "version": 3
   },
   "file_extension": ".py",
   "mimetype": "text/x-python",
   "name": "python",
   "nbconvert_exporter": "python",
   "pygments_lexer": "ipython3",
   "version": "3.10.9"
  }
 },
 "nbformat": 4,
 "nbformat_minor": 5
}
